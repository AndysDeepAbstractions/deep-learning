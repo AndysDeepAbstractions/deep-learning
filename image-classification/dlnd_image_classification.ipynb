{
 "cells": [
  {
   "cell_type": "markdown",
   "metadata": {
    "collapsed": true,
    "deletable": true,
    "editable": true
   },
   "source": [
    "# Image Classification\n",
    "In this project, you'll classify images from the [CIFAR-10 dataset](https://www.cs.toronto.edu/~kriz/cifar.html).  The dataset consists of airplanes, dogs, cats, and other objects. You'll preprocess the images, then train a convolutional neural network on all the samples. The images need to be normalized and the labels need to be one-hot encoded.  You'll get to apply what you learned and build a convolutional, max pooling, dropout, and fully connected layers.  At the end, you'll get to see your neural network's predictions on the sample images.\n",
    "## Get the Data\n",
    "Run the following cell to download the [CIFAR-10 dataset for python](https://www.cs.toronto.edu/~kriz/cifar-10-python.tar.gz)."
   ]
  },
  {
   "cell_type": "code",
   "execution_count": 1,
   "metadata": {
    "collapsed": false,
    "deletable": true,
    "editable": true
   },
   "outputs": [
    {
     "name": "stdout",
     "output_type": "stream",
     "text": [
      "All files found!\n"
     ]
    }
   ],
   "source": [
    "\"\"\"\n",
    "DON'T MODIFY ANYTHING IN THIS CELL THAT IS BELOW THIS LINE\n",
    "\"\"\"\n",
    "from urllib.request import urlretrieve\n",
    "from os.path import isfile, isdir\n",
    "from tqdm import tqdm\n",
    "import problem_unittests as tests\n",
    "import tarfile\n",
    "\n",
    "cifar10_dataset_folder_path = 'cifar-10-batches-py'\n",
    "\n",
    "class DLProgress(tqdm):\n",
    "    last_block = 0\n",
    "\n",
    "    def hook(self, block_num=1, block_size=1, total_size=None):\n",
    "        self.total = total_size\n",
    "        self.update((block_num - self.last_block) * block_size)\n",
    "        self.last_block = block_num\n",
    "\n",
    "if not isfile('cifar-10-python.tar.gz'):\n",
    "    with DLProgress(unit='B', unit_scale=True, miniters=1, desc='CIFAR-10 Dataset') as pbar:\n",
    "        urlretrieve(\n",
    "            'https://www.cs.toronto.edu/~kriz/cifar-10-python.tar.gz',\n",
    "            'cifar-10-python.tar.gz',\n",
    "            pbar.hook)\n",
    "\n",
    "if not isdir(cifar10_dataset_folder_path):\n",
    "    with tarfile.open('cifar-10-python.tar.gz') as tar:\n",
    "        tar.extractall()\n",
    "        tar.close()\n",
    "\n",
    "\n",
    "tests.test_folder_path(cifar10_dataset_folder_path)"
   ]
  },
  {
   "cell_type": "markdown",
   "metadata": {
    "deletable": true,
    "editable": true
   },
   "source": [
    "## Explore the Data\n",
    "The dataset is broken into batches to prevent your machine from running out of memory.  The CIFAR-10 dataset consists of 5 batches, named `data_batch_1`, `data_batch_2`, etc.. Each batch contains the labels and images that are one of the following:\n",
    "* airplane\n",
    "* automobile\n",
    "* bird\n",
    "* cat\n",
    "* deer\n",
    "* dog\n",
    "* frog\n",
    "* horse\n",
    "* ship\n",
    "* truck\n",
    "\n",
    "Understanding a dataset is part of making predictions on the data.  Play around with the code cell below by changing the `batch_id` and `sample_id`. The `batch_id` is the id for a batch (1-5). The `sample_id` is the id for a image and label pair in the batch.\n",
    "\n",
    "Ask yourself \"What are all possible labels?\", \"What is the range of values for the image data?\", \"Are the labels in order or random?\".  Answers to questions like these will help you preprocess the data and end up with better predictions."
   ]
  },
  {
   "cell_type": "code",
   "execution_count": 2,
   "metadata": {
    "collapsed": false,
    "deletable": true,
    "editable": true
   },
   "outputs": [
    {
     "name": "stdout",
     "output_type": "stream",
     "text": [
      "\n",
      "Stats of batch 1:\n",
      "Samples: 10000\n",
      "Label Counts: {0: 1005, 1: 974, 2: 1032, 3: 1016, 4: 999, 5: 937, 6: 1030, 7: 1001, 8: 1025, 9: 981}\n",
      "First 20 Labels: [6, 9, 9, 4, 1, 1, 2, 7, 8, 3, 4, 7, 7, 2, 9, 9, 9, 3, 2, 6]\n",
      "\n",
      "Example of Image 5:\n",
      "Image - Min Value: 0 Max Value: 252\n",
      "Image - Shape: (32, 32, 3)\n",
      "Label - Label Id: 1 Name: automobile\n"
     ]
    },
    {
     "data": {
      "image/png": "[encoded data removed]",
      "text/plain": [
       "<matplotlib.figure.Figure at 0x7f9f560a4c88>"
      ]
     },
     "metadata": {
      "image/png": {
       "height": 250,
       "width": 253
      }
     },
     "output_type": "display_data"
    }
   ],
   "source": [
    "%matplotlib inline\n",
    "%config InlineBackend.figure_format = 'retina'\n",
    "\n",
    "import helper\n",
    "import numpy as np\n",
    "\n",
    "# Explore the dataset\n",
    "batch_id = 1\n",
    "sample_id = 5\n",
    "helper.display_stats(cifar10_dataset_folder_path, batch_id, sample_id)"
   ]
  },
  {
   "cell_type": "markdown",
   "metadata": {
    "deletable": true,
    "editable": true
   },
   "source": [
    "## Implement Preprocess Functions\n",
    "### Normalize\n",
    "In the cell below, implement the `normalize` function to take in image data, `x`, and return it as a normalized Numpy array. The values should be in the range of 0 to 1, inclusive.  The return object should be the same shape as `x`."
   ]
  },
  {
   "cell_type": "code",
   "execution_count": 3,
   "metadata": {
    "collapsed": false,
    "deletable": true,
    "editable": true
   },
   "outputs": [
    {
     "name": "stdout",
     "output_type": "stream",
     "text": [
      "Tests Passed\n"
     ]
    }
   ],
   "source": [
    "def normalize(x):\n",
    "    \"\"\"\n",
    "    Normalize a list of sample image data in the range of 0 to 1\n",
    "    : x: List of image data.  The image shape is (32, 32, 3)\n",
    "    : return: Numpy array of normalize data\n",
    "    \"\"\"\n",
    "    # TODO: Implement Function\n",
    "    a = 0\n",
    "    b = 1\n",
    "    grayscale_min = 0\n",
    "    grayscale_max = 255\n",
    "    return a + ( ( (x - grayscale_min)*(b - a) )/( grayscale_max - grayscale_min ) )\n",
    "\n",
    "\n",
    "\"\"\"\n",
    "DON'T MODIFY ANYTHING IN THIS CELL THAT IS BELOW THIS LINE\n",
    "\"\"\"\n",
    "tests.test_normalize(normalize)"
   ]
  },
  {
   "cell_type": "markdown",
   "metadata": {
    "deletable": true,
    "editable": true
   },
   "source": [
    "### One-hot encode\n",
    "Just like the previous code cell, you'll be implementing a function for preprocessing.  This time, you'll implement the `one_hot_encode` function. The input, `x`, are a list of labels.  Implement the function to return the list of labels as One-Hot encoded Numpy array.  The possible values for labels are 0 to 9. The one-hot encoding function should return the same encoding for each value between each call to `one_hot_encode`.  Make sure to save the map of encodings outside the function.\n",
    "\n",
    "Hint: Don't reinvent the wheel."
   ]
  },
  {
   "cell_type": "code",
   "execution_count": 4,
   "metadata": {
    "collapsed": false,
    "deletable": true,
    "editable": true
   },
   "outputs": [
    {
     "name": "stdout",
     "output_type": "stream",
     "text": [
      "Tests Passed\n"
     ]
    }
   ],
   "source": [
    "def one_hot_encode(x):\n",
    "    \"\"\"\n",
    "    One hot encode a list of sample labels. Return a one-hot encoded vector for each label.\n",
    "    : x: List of sample Labels\n",
    "    : return: Numpy array of one-hot encoded labels\n",
    "    \"\"\"\n",
    "    # TODO: Implement Function\n",
    "    \n",
    "    # TODO: Implement Function\n",
    "    import numpy\n",
    "    numpy.set_printoptions(threshold=numpy.nan)\n",
    "    from sklearn.preprocessing import LabelBinarizer\n",
    "    \n",
    "    # Turn labels into numbers and apply One-Hot Encoding\n",
    "    encoder = LabelBinarizer()\n",
    "    encoder.fit([0,1,2,3,4,5,6,7,8,9])\n",
    "    \n",
    "    #print(\"encoder.classes_ : {}\".format(encoder.classes_))\n",
    "    #print(\"x[0:12]          : {}\".format(x[0:12]))\n",
    "\n",
    "    x = encoder.transform(x)\n",
    "    # Change to float32, so it can be multiplied against the features in TensorFlow, which are float32\n",
    "    x = x.astype(np.float32)\n",
    "\n",
    "    #print(\"x[0:12]          : \\n{}\".format(x[0:12]))\n",
    "    #print(\"\\ntype is : {} should be : {} ?\".format(type(x).__module__,np.__name__))\n",
    "    \n",
    "    return x\n",
    "\n",
    "\n",
    "\"\"\"\n",
    "DON'T MODIFY ANYTHING IN THIS CELL THAT IS BELOW THIS LINE\n",
    "\"\"\"\n",
    "tests.test_one_hot_encode(one_hot_encode)"
   ]
  },
  {
   "cell_type": "markdown",
   "metadata": {
    "deletable": true,
    "editable": true
   },
   "source": [
    "### Randomize Data\n",
    "As you saw from exploring the data above, the order of the samples are randomized.  It doesn't hurt to randomize it again, but you don't need to for this dataset."
   ]
  },
  {
   "cell_type": "markdown",
   "metadata": {
    "deletable": true,
    "editable": true
   },
   "source": [
    "## Preprocess all the data and save it\n",
    "Running the code cell below will preprocess all the CIFAR-10 data and save it to file. The code below also uses 10% of the training data for validation."
   ]
  },
  {
   "cell_type": "code",
   "execution_count": 5,
   "metadata": {
    "collapsed": false,
    "deletable": true,
    "editable": true
   },
   "outputs": [],
   "source": [
    "\"\"\"\n",
    "DON'T MODIFY ANYTHING IN THIS CELL\n",
    "\"\"\"\n",
    "# Preprocess Training, Validation, and Testing Data\n",
    "helper.preprocess_and_save_data(cifar10_dataset_folder_path, normalize, one_hot_encode)"
   ]
  },
  {
   "cell_type": "markdown",
   "metadata": {
    "deletable": true,
    "editable": true
   },
   "source": [
    "# Check Point\n",
    "This is your first checkpoint.  If you ever decide to come back to this notebook or have to restart the notebook, you can start from here.  The preprocessed data has been saved to disk."
   ]
  },
  {
   "cell_type": "code",
   "execution_count": 6,
   "metadata": {
    "collapsed": true,
    "deletable": true,
    "editable": true
   },
   "outputs": [],
   "source": [
    "\"\"\"\n",
    "DON'T MODIFY ANYTHING IN THIS CELL\n",
    "\"\"\"\n",
    "import pickle\n",
    "import problem_unittests as tests\n",
    "import helper\n",
    "\n",
    "# Load the Preprocessed Validation data\n",
    "valid_features, valid_labels = pickle.load(open('preprocess_validation.p', mode='rb'))"
   ]
  },
  {
   "cell_type": "markdown",
   "metadata": {
    "deletable": true,
    "editable": true
   },
   "source": [
    "## Build the network\n",
    "For the neural network, you'll build each layer into a function.  Most of the code you've seen has been outside of functions. To test your code more thoroughly, we require that you put each layer in a function.  This allows us to give you better feedback and test for simple mistakes using our unittests before you submit your project.\n",
    "\n",
    ">**Note:** If you're finding it hard to dedicate enough time for this course each week, we've provided a small shortcut to this part of the project. In the next couple of problems, you'll have the option to use classes from the [TensorFlow Layers](https://www.tensorflow.org/api_docs/python/tf/layers) or [TensorFlow Layers (contrib)](https://www.tensorflow.org/api_guides/python/contrib.layers) packages to build each layer, except the layers you build in the \"Convolutional and Max Pooling Layer\" section.  TF Layers is similar to Keras's and TFLearn's abstraction to layers, so it's easy to pickup.\n",
    "\n",
    ">However, if you would like to get the most out of this course, try to solve all the problems _without_ using anything from the TF Layers packages. You **can** still use classes from other packages that happen to have the same name as ones you find in TF Layers! For example, instead of using the TF Layers version of the `conv2d` class, [tf.layers.conv2d](https://www.tensorflow.org/api_docs/python/tf/layers/conv2d), you would want to use the TF Neural Network version of `conv2d`, [tf.nn.conv2d](https://www.tensorflow.org/api_docs/python/tf/nn/conv2d). \n",
    "\n",
    "Let's begin!\n",
    "\n",
    "### Input\n",
    "The neural network needs to read the image data, one-hot encoded labels, and dropout keep probability. Implement the following functions\n",
    "* Implement `neural_net_image_input`\n",
    " * Return a [TF Placeholder](https://www.tensorflow.org/api_docs/python/tf/placeholder)\n",
    " * Set the shape using `image_shape` with batch size set to `None`.\n",
    " * Name the TensorFlow placeholder \"x\" using the TensorFlow `name` parameter in the [TF Placeholder](https://www.tensorflow.org/api_docs/python/tf/placeholder).\n",
    "* Implement `neural_net_label_input`\n",
    " * Return a [TF Placeholder](https://www.tensorflow.org/api_docs/python/tf/placeholder)\n",
    " * Set the shape using `n_classes` with batch size set to `None`.\n",
    " * Name the TensorFlow placeholder \"y\" using the TensorFlow `name` parameter in the [TF Placeholder](https://www.tensorflow.org/api_docs/python/tf/placeholder).\n",
    "* Implement `neural_net_keep_prob_input`\n",
    " * Return a [TF Placeholder](https://www.tensorflow.org/api_docs/python/tf/placeholder) for dropout keep probability.\n",
    " * Name the TensorFlow placeholder \"keep_prob\" using the TensorFlow `name` parameter in the [TF Placeholder](https://www.tensorflow.org/api_docs/python/tf/placeholder).\n",
    "\n",
    "These names will be used at the end of the project to load your saved model.\n",
    "\n",
    "Note: `None` for shapes in TensorFlow allow for a dynamic size."
   ]
  },
  {
   "cell_type": "code",
   "execution_count": 7,
   "metadata": {
    "collapsed": false,
    "deletable": true,
    "editable": true
   },
   "outputs": [
    {
     "name": "stdout",
     "output_type": "stream",
     "text": [
      "Image Input Tests Passed.\n",
      "Label Input Tests Passed.\n",
      "Keep Prob Tests Passed.\n"
     ]
    }
   ],
   "source": [
    "import tensorflow as tf\n",
    "\n",
    "def neural_net_image_input(image_shape):\n",
    "    \"\"\"\n",
    "    Return a Tensor for a batch of image input\n",
    "    : image_shape: Shape of the images\n",
    "    : return: Tensor for image input.\n",
    "    \"\"\"\n",
    "    # TODO: Implement Function\n",
    "    features = tf.placeholder(tf.float32, shape=[None, image_shape[0], image_shape[1], image_shape[2]],name = 'x')\n",
    "    return features\n",
    "\n",
    "\n",
    "def neural_net_label_input(n_classes):\n",
    "    \"\"\"\n",
    "    Return a Tensor for a batch of label input\n",
    "    : n_classes: Number of classes\n",
    "    : return: Tensor for label input.\n",
    "    \"\"\"\n",
    "    # TODO: Implement Function\n",
    "    labels = tf.placeholder(tf.float32, shape=[None, n_classes],name = 'y')\n",
    "\n",
    "    return labels\n",
    "\n",
    "\n",
    "def neural_net_keep_prob_input():\n",
    "    \"\"\"\n",
    "    Return a Tensor for keep probability\n",
    "    : return: Tensor for keep probability.\n",
    "    \"\"\"\n",
    "    # TODO: Implement Function\n",
    "    keep_prob = tf.placeholder(tf.float32, name='keep_prob')\n",
    "\n",
    "    return keep_prob\n",
    "\n",
    "\n",
    "\"\"\"\n",
    "DON'T MODIFY ANYTHING IN THIS CELL THAT IS BELOW THIS LINE\n",
    "\"\"\"\n",
    "tf.reset_default_graph()\n",
    "tests.test_nn_image_inputs(neural_net_image_input)\n",
    "tests.test_nn_label_inputs(neural_net_label_input)\n",
    "tests.test_nn_keep_prob_inputs(neural_net_keep_prob_input)"
   ]
  },
  {
   "cell_type": "markdown",
   "metadata": {
    "deletable": true,
    "editable": true
   },
   "source": [
    "### Convolution and Max Pooling Layer\n",
    "Convolution layers have a lot of success with images. For this code cell, you should implement the function `conv2d_maxpool` to apply convolution then max pooling:\n",
    "* Create the weight and bias using `conv_ksize`, `conv_num_outputs` and the shape of `x_tensor`.\n",
    "* Apply a convolution to `x_tensor` using weight and `conv_strides`.\n",
    " * We recommend you use same padding, but you're welcome to use any padding.\n",
    "* Add bias\n",
    "* Add a nonlinear activation to the convolution.\n",
    "* Apply Max Pooling using `pool_ksize` and `pool_strides`.\n",
    " * We recommend you use same padding, but you're welcome to use any padding.\n",
    "\n",
    "**Note:** You **can't** use [TensorFlow Layers](https://www.tensorflow.org/api_docs/python/tf/layers) or [TensorFlow Layers (contrib)](https://www.tensorflow.org/api_guides/python/contrib.layers) for **this** layer, but you can still use TensorFlow's [Neural Network](https://www.tensorflow.org/api_docs/python/tf/nn) package. You may still use the shortcut option for all the **other** layers."
   ]
  },
  {
   "cell_type": "code",
   "execution_count": 8,
   "metadata": {
    "collapsed": false,
    "deletable": true,
    "editable": true
   },
   "outputs": [
    {
     "name": "stdout",
     "output_type": "stream",
     "text": [
      "Tests Passed\n"
     ]
    }
   ],
   "source": [
    "def conv2d_maxpool(x_tensor, conv_num_outputs, conv_ksize, conv_strides, pool_ksize, pool_strides):\n",
    "    \"\"\"\n",
    "    Apply convolution then max pooling to x_tensor\n",
    "    :param x_tensor: TensorFlow Tensor\n",
    "    :param conv_num_outputs: Number of outputs for the convolutional layer\n",
    "    :param conv_ksize: kernal size 2-D Tuple for the convolutional layer\n",
    "    :param conv_strides: Stride 2-D Tuple for convolution\n",
    "    :param pool_ksize: kernal size 2-D Tuple for pool\n",
    "    :param pool_strides: Stride 2-D Tuple for pool\n",
    "    : return: A tensor that represents convolution and max pooling of x_tensor\n",
    "    \"\"\"\n",
    "    \n",
    "    #conv_ksize is missing in description\n",
    "    \n",
    "    \n",
    "    # Create the weight and bias\n",
    "    biases  = tf.Variable(tf.zeros(conv_num_outputs))\n",
    "    weights_depth = x_tensor.shape.as_list()[-1]\n",
    "    weights_dim = [conv_ksize[0], conv_ksize[1], weights_depth, conv_num_outputs]\n",
    "\n",
    "    #print((x_tensor.shape))\n",
    "    #print(weights_dim)\n",
    "    weights = tf.Variable(tf.truncated_normal(weights_dim))\n",
    "    \n",
    "    # Apply Convolution\n",
    "    conv_strides = [1, conv_strides[0], conv_strides[1], 1] # (batch, height, width, depth)\n",
    "    padding = 'SAME'\n",
    "    conv_layer = tf.nn.conv2d(x_tensor, weights, conv_strides, padding)\n",
    "\n",
    "    # Add bias\n",
    "    conv_layer = tf.nn.bias_add(conv_layer, biases)\n",
    "    \n",
    "    # Apply activation function\n",
    "    conv_layer = tf.nn.relu(conv_layer)\n",
    "    \n",
    "    filter_shape = [1, pool_ksize[0], pool_ksize[1], 1]\n",
    "    pool_strides = [1, pool_strides[0], pool_strides[1], 1]\n",
    "    padding = 'VALID'\n",
    "    pool = tf.nn.max_pool(conv_layer, filter_shape, pool_strides, padding)\n",
    "    \n",
    "    return pool \n",
    "\n",
    "\n",
    "\"\"\"\n",
    "DON'T MODIFY ANYTHING IN THIS CELL THAT IS BELOW THIS LINE\n",
    "\"\"\"\n",
    "tests.test_con_pool(conv2d_maxpool)"
   ]
  },
  {
   "cell_type": "markdown",
   "metadata": {
    "deletable": true,
    "editable": true
   },
   "source": [
    "### Flatten Layer\n",
    "Implement the `flatten` function to change the dimension of `x_tensor` from a 4-D tensor to a 2-D tensor.  The output should be the shape (*Batch Size*, *Flattened Image Size*). Shortcut option: you can use classes from the [TensorFlow Layers](https://www.tensorflow.org/api_docs/python/tf/layers) or [TensorFlow Layers (contrib)](https://www.tensorflow.org/api_guides/python/contrib.layers) packages for this layer. For more of a challenge, only use other TensorFlow packages."
   ]
  },
  {
   "cell_type": "code",
   "execution_count": 9,
   "metadata": {
    "collapsed": false,
    "deletable": true,
    "editable": true
   },
   "outputs": [
    {
     "name": "stdout",
     "output_type": "stream",
     "text": [
      "Tests Passed\n"
     ]
    }
   ],
   "source": [
    "def flatten(x_tensor):\n",
    "    \"\"\"\n",
    "    Flatten x_tensor to (Batch Size, Flattened Image Size)\n",
    "    : x_tensor: A tensor of size (Batch Size, ...), where ... are the image dimensions.\n",
    "    : return: A tensor of size (Batch Size, Flattened Image Size).\n",
    "    \"\"\"\n",
    "    # TODO: Implement Function\n",
    "    dimensions = (x_tensor.get_shape().as_list()[1:4])\n",
    "    \n",
    "    prod = 1\n",
    "    for dimension in dimensions:\n",
    "        prod *= dimension\n",
    "    \n",
    "    x_tensor = tf.reshape(x_tensor, [-1,prod])\n",
    "    return x_tensor\n",
    "\n",
    "\n",
    "\"\"\"\n",
    "DON'T MODIFY ANYTHING IN THIS CELL THAT IS BELOW THIS LINE\n",
    "\"\"\"\n",
    "tests.test_flatten(flatten)"
   ]
  },
  {
   "cell_type": "markdown",
   "metadata": {
    "deletable": true,
    "editable": true
   },
   "source": [
    "### Fully-Connected Layer\n",
    "Implement the `fully_conn` function to apply a fully connected layer to `x_tensor` with the shape (*Batch Size*, *num_outputs*). Shortcut option: you can use classes from the [TensorFlow Layers](https://www.tensorflow.org/api_docs/python/tf/layers) or [TensorFlow Layers (contrib)](https://www.tensorflow.org/api_guides/python/contrib.layers) packages for this layer. For more of a challenge, only use other TensorFlow packages."
   ]
  },
  {
   "cell_type": "code",
   "execution_count": 10,
   "metadata": {
    "collapsed": false,
    "deletable": true,
    "editable": true
   },
   "outputs": [
    {
     "name": "stdout",
     "output_type": "stream",
     "text": [
      "Tests Passed\n"
     ]
    }
   ],
   "source": [
    "def fully_conn(x_tensor, num_outputs):\n",
    "    \"\"\"\n",
    "    Apply a fully connected layer to x_tensor using weight and bias\n",
    "    : x_tensor: A 2-D tensor where the first dimension is batch size.\n",
    "    : num_outputs: The number of output that the new tensor should be.\n",
    "    : return: A 2-D tensor where the second dimension is num_outputs.\n",
    "    \"\"\"\n",
    "    # TODO: Implement Function\n",
    "    tensor_out = tf.contrib.layers.fully_connected(x_tensor, num_outputs)\n",
    "    return tensor_out\n",
    "\n",
    "\n",
    "\"\"\"\n",
    "DON'T MODIFY ANYTHING IN THIS CELL THAT IS BELOW THIS LINE\n",
    "\"\"\"\n",
    "tests.test_fully_conn(fully_conn)"
   ]
  },
  {
   "cell_type": "markdown",
   "metadata": {
    "deletable": true,
    "editable": true
   },
   "source": [
    "### Output Layer\n",
    "Implement the `output` function to apply a fully connected layer to `x_tensor` with the shape (*Batch Size*, *num_outputs*). Shortcut option: you can use classes from the [TensorFlow Layers](https://www.tensorflow.org/api_docs/python/tf/layers) or [TensorFlow Layers (contrib)](https://www.tensorflow.org/api_guides/python/contrib.layers) packages for this layer. For more of a challenge, only use other TensorFlow packages.\n",
    "\n",
    "**Note:** Activation, softmax, or cross entropy should **not** be applied to this."
   ]
  },
  {
   "cell_type": "code",
   "execution_count": 11,
   "metadata": {
    "collapsed": false,
    "deletable": true,
    "editable": true
   },
   "outputs": [
    {
     "name": "stdout",
     "output_type": "stream",
     "text": [
      "Tests Passed\n"
     ]
    }
   ],
   "source": [
    "def output(x_tensor, num_outputs):\n",
    "    \"\"\"\n",
    "    Apply a output layer to x_tensor using weight and bias\n",
    "    : x_tensor: A 2-D tensor where the first dimension is batch size.\n",
    "    : num_outputs: The number of output that the new tensor should be.\n",
    "    : return: A 2-D tensor where the second dimension is num_outputs.\n",
    "    \"\"\"\n",
    "    # TODO: Implement Function\n",
    "    return fully_conn(x_tensor, num_outputs)\n",
    "\n",
    "\n",
    "\"\"\"\n",
    "DON'T MODIFY ANYTHING IN THIS CELL THAT IS BELOW THIS LINE\n",
    "\"\"\"\n",
    "tests.test_output(output)"
   ]
  },
  {
   "cell_type": "markdown",
   "metadata": {
    "deletable": true,
    "editable": true
   },
   "source": [
    "### Create Convolutional Model\n",
    "Implement the function `conv_net` to create a convolutional neural network model. The function takes in a batch of images, `x`, and outputs logits.  Use the layers you created above to create this model:\n",
    "\n",
    "* Apply 1, 2, or 3 Convolution and Max Pool layers\n",
    "* Apply a Flatten Layer\n",
    "* Apply 1, 2, or 3 Fully Connected Layers\n",
    "* Apply an Output Layer\n",
    "* Return the output\n",
    "* Apply [TensorFlow's Dropout](https://www.tensorflow.org/api_docs/python/tf/nn/dropout) to one or more layers in the model using `keep_prob`. "
   ]
  },
  {
   "cell_type": "code",
   "execution_count": 12,
   "metadata": {
    "collapsed": false,
    "deletable": true,
    "editable": true
   },
   "outputs": [
    {
     "name": "stdout",
     "output_type": "stream",
     "text": [
      "Neural Network Built!\n"
     ]
    }
   ],
   "source": [
    "def conv_net(x, keep_prob):\n",
    "    \"\"\"\n",
    "    Create a convolutional neural network model\n",
    "    : x: Placeholder tensor that holds image data.\n",
    "    : keep_prob: Placeholder tensor that hold dropout keep probability.\n",
    "    : return: Tensor that represents logits\n",
    "    \"\"\"\n",
    "    # TODO: Apply 1, 2, or 3 Convolution and Max Pool layers\n",
    "    #    Play around with different number of outputs, kernel size and stride\n",
    "    # Function Definition from Above:\n",
    "    #    \n",
    "    \n",
    "    x_tensor = x         #:param x_tensor: TensorFlow Tensor\n",
    "    conv_num_outputs = 4 #:param conv_num_outputs: Number of outputs for the convolutional layer\n",
    "    conv_strides = (1,1) #:param conv_strides: Stride 2-D Tuple for convolution\n",
    "    pool_ksize = (2,2)   #:param pool_ksize: kernal size 2-D Tuple for pool\n",
    "    pool_strides = (1,1) #:param pool_strides: Stride 2-D Tuple for pool\n",
    "    conv_ksize = (3,3)\n",
    "    x_tensor = conv2d_maxpool(x_tensor, conv_num_outputs, conv_ksize, conv_strides, pool_ksize, pool_strides)\n",
    "    conv_num_outputs = 8 #:param conv_num_outputs: Number of outputs for the convolutional layer\n",
    "    x_tensor = conv2d_maxpool(x_tensor, conv_num_outputs, conv_ksize, conv_strides, pool_ksize, pool_strides)\n",
    "    conv_num_outputs = 16 #:param conv_num_outputs: Number of outputs for the convolutional layer\n",
    "    x_tensor = conv2d_maxpool(x_tensor, conv_num_outputs, conv_ksize, conv_strides, pool_ksize, pool_strides)\n",
    "\n",
    "    # TODO: Apply a Flatten Layer\n",
    "    # Function Definition from Above:\n",
    "    #   \n",
    "    x_tensor = flatten(x_tensor)\n",
    "\n",
    "    # TODO: Apply 1, 2, or 3 Fully Connected Layers\n",
    "    #    Play around with different number of outputs\n",
    "    # Function Definition from Above:\n",
    "    #   \n",
    "    num_outputs = 80\n",
    "    x_tensor = fully_conn(x_tensor, num_outputs)\n",
    "    x_tensor = tf.nn.dropout(x_tensor, keep_prob)\n",
    "    num_outputs = 40\n",
    "    x_tensor = fully_conn(x_tensor, num_outputs)\n",
    "    x_tensor = tf.nn.dropout(x_tensor, keep_prob)\n",
    "    num_outputs = 20\n",
    "    x_tensor = tf.nn.dropout(x_tensor, keep_prob)\n",
    "    x_tensor = fully_conn(x_tensor, num_outputs)\n",
    "    \n",
    "    # TODO: Apply an Output Layer\n",
    "    #    Set this to the number of classes\n",
    "    # Function Definition from Above:\n",
    "    #   \n",
    "    num_outputs = 10\n",
    "    x_tensor = output(x_tensor, num_outputs)\n",
    "    \n",
    "    \n",
    "    # TODO: return output\n",
    "    return x_tensor\n",
    "\n",
    "\n",
    "\"\"\"\n",
    "DON'T MODIFY ANYTHING IN THIS CELL THAT IS BELOW THIS LINE\n",
    "\"\"\"\n",
    "\n",
    "##############################\n",
    "## Build the Neural Network ##\n",
    "##############################\n",
    "\n",
    "# Remove previous weights, bias, inputs, etc..\n",
    "tf.reset_default_graph()\n",
    "\n",
    "# Inputs\n",
    "x = neural_net_image_input((32, 32, 3))\n",
    "y = neural_net_label_input(10)\n",
    "keep_prob = neural_net_keep_prob_input()\n",
    "\n",
    "# Model\n",
    "logits = conv_net(x, keep_prob)\n",
    "\n",
    "# Name logits Tensor, so that is can be loaded from disk after training\n",
    "logits = tf.identity(logits, name='logits')\n",
    "\n",
    "# Loss and Optimizer\n",
    "cost = tf.reduce_mean(tf.nn.softmax_cross_entropy_with_logits(logits=logits, labels=y))\n",
    "optimizer = tf.train.AdamOptimizer().minimize(cost)\n",
    "\n",
    "# Accuracy\n",
    "correct_pred = tf.equal(tf.argmax(logits, 1), tf.argmax(y, 1))\n",
    "accuracy = tf.reduce_mean(tf.cast(correct_pred, tf.float32), name='accuracy')\n",
    "\n",
    "tests.test_conv_net(conv_net)"
   ]
  },
  {
   "cell_type": "markdown",
   "metadata": {
    "deletable": true,
    "editable": true
   },
   "source": [
    "## Train the Neural Network\n",
    "### Single Optimization\n",
    "Implement the function `train_neural_network` to do a single optimization.  The optimization should use `optimizer` to optimize in `session` with a `feed_dict` of the following:\n",
    "* `x` for image input\n",
    "* `y` for labels\n",
    "* `keep_prob` for keep probability for dropout\n",
    "\n",
    "This function will be called for each batch, so `tf.global_variables_initializer()` has already been called.\n",
    "\n",
    "Note: Nothing needs to be returned. This function is only optimizing the neural network."
   ]
  },
  {
   "cell_type": "code",
   "execution_count": 14,
   "metadata": {
    "collapsed": false,
    "deletable": true,
    "editable": true
   },
   "outputs": [
    {
     "name": "stdout",
     "output_type": "stream",
     "text": [
      "Tests Passed\n"
     ]
    }
   ],
   "source": [
    "def train_neural_network(session, optimizer, keep_probability, feature_batch, label_batch):\n",
    "    \"\"\"\n",
    "    Optimize the session on a batch of images and labels\n",
    "    : session: Current TensorFlow session\n",
    "    : optimizer: TensorFlow optimizer function\n",
    "    : keep_probability: keep probability\n",
    "    : feature_batch: Batch of Numpy image data\n",
    "    : label_batch: Batch of Numpy label data\n",
    "    \"\"\"\n",
    "    # TODO: Implement Function\n",
    "    \n",
    "    #x = neural_net_image_input((32, 32, 3))\n",
    "    #y = neural_net_label_input(10)\n",
    "    #keep_prob = neural_net_keep_prob_input()\n",
    "    \n",
    "    #print(label_batch)\n",
    "    config=tf.ConfigProto(#allow_soft_placement=True,\n",
    "                          log_device_placement=True,\n",
    "                          device_count = {'GPU': 8})\n",
    "    sess = tf.Session(config=config)\n",
    "\n",
    "    \n",
    "    feed_dict={keep_prob:keep_probability,x:feature_batch,y:label_batch}\n",
    "\n",
    "    session.run(optimizer,feed_dict=feed_dict)\n",
    "        \n",
    "    #pass\n",
    "\n",
    "\n",
    "\"\"\"\n",
    "DON'T MODIFY ANYTHING IN THIS CELL THAT IS BELOW THIS LINE\n",
    "\"\"\"\n",
    "tests.test_train_nn(train_neural_network)"
   ]
  },
  {
   "cell_type": "markdown",
   "metadata": {
    "deletable": true,
    "editable": true
   },
   "source": [
    "### Show Stats\n",
    "Implement the function `print_stats` to print loss and validation accuracy.  Use the global variables `valid_features` and `valid_labels` to calculate validation accuracy.  Use a keep probability of `1.0` to calculate the loss and validation accuracy."
   ]
  },
  {
   "cell_type": "code",
   "execution_count": 15,
   "metadata": {
    "collapsed": false,
    "deletable": true,
    "editable": true
   },
   "outputs": [],
   "source": [
    "def print_stats(session, feature_batch, label_batch, cost, accuracy):\n",
    "    \"\"\"\n",
    "    Print information about loss and validation accuracy\n",
    "    : session: Current TensorFlow session\n",
    "    : feature_batch: Batch of Numpy image data\n",
    "    : label_batch: Batch of Numpy label data\n",
    "    : cost: TensorFlow cost function\n",
    "    : accuracy: TensorFlow accuracy function\n",
    "    \"\"\"\n",
    "    # TODO: Implement Function\n",
    "    \n",
    "    feed_dict={keep_prob:1.,x:feature_batch,y:label_batch}\n",
    "    \n",
    "    #cost = tf.reduce_mean(tf.nn.softmax_cross_entropy_with_logits(logits=logits, labels=y))\n",
    "    #optimizer = tf.train.AdamOptimizer().minimize(cost)\n",
    "\n",
    "    # Calculate batch loss and accuracy\n",
    "    loss = session.run(cost,feed_dict=feed_dict)\n",
    "    \n",
    "    # Should this be done on validation data?\n",
    "    valid_acc = sess.run(accuracy,feed_dict=feed_dict)\n",
    "    print('Loss: {:>10.4f} Validation Accuracy: {:.6f}'.format(loss,valid_acc))\n",
    "            \n",
    "    #pass"
   ]
  },
  {
   "cell_type": "markdown",
   "metadata": {
    "deletable": true,
    "editable": true
   },
   "source": [
    "### Hyperparameters\n",
    "Tune the following parameters:\n",
    "* Set `epochs` to the number of iterations until the network stops learning or start overfitting\n",
    "* Set `batch_size` to the highest number that your machine has memory for.  Most people set them to common sizes of memory:\n",
    " * 64\n",
    " * 128\n",
    " * 256\n",
    " * ...\n",
    "* Set `keep_probability` to the probability of keeping a node using dropout"
   ]
  },
  {
   "cell_type": "code",
   "execution_count": 34,
   "metadata": {
    "collapsed": true,
    "deletable": true,
    "editable": true
   },
   "outputs": [],
   "source": [
    "# TODO: Tune Parameters\n",
    "epochs = 50\n",
    "batch_size = 64\n",
    "keep_probability = 0.95"
   ]
  },
  {
   "cell_type": "markdown",
   "metadata": {
    "deletable": true,
    "editable": true
   },
   "source": [
    "### Train on a Single CIFAR-10 Batch\n",
    "Instead of training the neural network on all the CIFAR-10 batches of data, let's use a single batch. This should save time while you iterate on the model to get a better accuracy.  Once the final validation accuracy is 50% or greater, run the model on all the data in the next section."
   ]
  },
  {
   "cell_type": "code",
   "execution_count": 18,
   "metadata": {
    "collapsed": false,
    "deletable": true,
    "editable": true
   },
   "outputs": [
    {
     "name": "stdout",
     "output_type": "stream",
     "text": [
      "Checking the Training on a Single Batch...\n",
      "Epoch  1, CIFAR-10 Batch 1:  Loss:     2.1347 Validation Accuracy: 0.275000\n",
      "Epoch  2, CIFAR-10 Batch 1:  Loss:     2.0975 Validation Accuracy: 0.275000\n",
      "Epoch  3, CIFAR-10 Batch 1:  Loss:     1.9505 Validation Accuracy: 0.325000\n",
      "Epoch  4, CIFAR-10 Batch 1:  Loss:     1.7667 Validation Accuracy: 0.375000\n",
      "Epoch  5, CIFAR-10 Batch 1:  Loss:     1.6868 Validation Accuracy: 0.450000\n",
      "Epoch  6, CIFAR-10 Batch 1:  Loss:     1.4989 Validation Accuracy: 0.500000\n",
      "Epoch  7, CIFAR-10 Batch 1:  Loss:     1.3804 Validation Accuracy: 0.525000\n",
      "Epoch  8, CIFAR-10 Batch 1:  Loss:     1.2926 Validation Accuracy: 0.550000\n",
      "Epoch  9, CIFAR-10 Batch 1:  Loss:     1.2944 Validation Accuracy: 0.575000\n",
      "Epoch 10, CIFAR-10 Batch 1:  Loss:     1.1331 Validation Accuracy: 0.600000\n",
      "Epoch 11, CIFAR-10 Batch 1:  Loss:     1.0349 Validation Accuracy: 0.650000\n",
      "Epoch 12, CIFAR-10 Batch 1:  Loss:     0.9690 Validation Accuracy: 0.700000\n",
      "Epoch 13, CIFAR-10 Batch 1:  Loss:     0.9369 Validation Accuracy: 0.675000\n",
      "Epoch 14, CIFAR-10 Batch 1:  Loss:     0.8997 Validation Accuracy: 0.750000\n",
      "Epoch 15, CIFAR-10 Batch 1:  Loss:     0.8424 Validation Accuracy: 0.725000\n",
      "Epoch 16, CIFAR-10 Batch 1:  Loss:     0.8397 Validation Accuracy: 0.725000\n",
      "Epoch 17, CIFAR-10 Batch 1:  Loss:     0.7797 Validation Accuracy: 0.725000\n",
      "Epoch 18, CIFAR-10 Batch 1:  Loss:     0.6966 Validation Accuracy: 0.775000\n",
      "Epoch 19, CIFAR-10 Batch 1:  Loss:     0.6533 Validation Accuracy: 0.775000\n",
      "Epoch 20, CIFAR-10 Batch 1:  Loss:     0.6403 Validation Accuracy: 0.775000\n",
      "Epoch 21, CIFAR-10 Batch 1:  Loss:     0.6085 Validation Accuracy: 0.775000\n",
      "Epoch 22, CIFAR-10 Batch 1:  Loss:     0.6294 Validation Accuracy: 0.775000\n",
      "Epoch 23, CIFAR-10 Batch 1:  Loss:     0.6346 Validation Accuracy: 0.775000\n",
      "Epoch 24, CIFAR-10 Batch 1:  Loss:     0.6151 Validation Accuracy: 0.775000\n",
      "Epoch 25, CIFAR-10 Batch 1:  Loss:     0.5877 Validation Accuracy: 0.775000\n",
      "Epoch 26, CIFAR-10 Batch 1:  Loss:     0.5740 Validation Accuracy: 0.775000\n",
      "Epoch 27, CIFAR-10 Batch 1:  Loss:     0.5809 Validation Accuracy: 0.775000\n",
      "Epoch 28, CIFAR-10 Batch 1:  Loss:     0.5925 Validation Accuracy: 0.775000\n",
      "Epoch 29, CIFAR-10 Batch 1:  Loss:     0.5607 Validation Accuracy: 0.775000\n",
      "Epoch 30, CIFAR-10 Batch 1:  Loss:     0.5476 Validation Accuracy: 0.775000\n",
      "Epoch 31, CIFAR-10 Batch 1:  Loss:     0.5569 Validation Accuracy: 0.775000\n",
      "Epoch 32, CIFAR-10 Batch 1:  Loss:     0.5631 Validation Accuracy: 0.775000\n",
      "Epoch 33, CIFAR-10 Batch 1:  Loss:     0.5503 Validation Accuracy: 0.775000\n",
      "Epoch 34, CIFAR-10 Batch 1:  Loss:     0.5407 Validation Accuracy: 0.775000\n",
      "Epoch 35, CIFAR-10 Batch 1:  Loss:     0.4914 Validation Accuracy: 0.800000\n",
      "Epoch 36, CIFAR-10 Batch 1:  Loss:     0.4832 Validation Accuracy: 0.800000\n",
      "Epoch 37, CIFAR-10 Batch 1:  Loss:     0.4735 Validation Accuracy: 0.800000\n",
      "Epoch 38, CIFAR-10 Batch 1:  Loss:     0.4676 Validation Accuracy: 0.800000\n",
      "Epoch 39, CIFAR-10 Batch 1:  Loss:     0.4715 Validation Accuracy: 0.800000\n",
      "Epoch 40, CIFAR-10 Batch 1:  Loss:     0.4790 Validation Accuracy: 0.800000\n",
      "Epoch 41, CIFAR-10 Batch 1:  Loss:     0.3929 Validation Accuracy: 0.850000\n",
      "Epoch 42, CIFAR-10 Batch 1:  Loss:     0.3901 Validation Accuracy: 0.850000\n",
      "Epoch 43, CIFAR-10 Batch 1:  Loss:     0.3323 Validation Accuracy: 0.875000\n",
      "Epoch 44, CIFAR-10 Batch 1:  Loss:     0.3394 Validation Accuracy: 0.875000\n",
      "Epoch 45, CIFAR-10 Batch 1:  Loss:     0.3173 Validation Accuracy: 0.875000\n",
      "Epoch 46, CIFAR-10 Batch 1:  Loss:     0.3336 Validation Accuracy: 0.875000\n",
      "Epoch 47, CIFAR-10 Batch 1:  Loss:     0.3129 Validation Accuracy: 0.875000\n",
      "Epoch 48, CIFAR-10 Batch 1:  Loss:     0.3768 Validation Accuracy: 0.875000\n",
      "Epoch 49, CIFAR-10 Batch 1:  Loss:     0.2996 Validation Accuracy: 0.875000\n",
      "Epoch 50, CIFAR-10 Batch 1:  Loss:     0.3024 Validation Accuracy: 0.875000\n"
     ]
    }
   ],
   "source": [
    "\"\"\"\n",
    "DON'T MODIFY ANYTHING IN THIS CELL\n",
    "\"\"\"\n",
    "print('Checking the Training on a Single Batch...')\n",
    "with tf.Session() as sess:\n",
    "    # Initializing the variables\n",
    "    sess.run(tf.global_variables_initializer())\n",
    "    \n",
    "    # Training cycle\n",
    "    for epoch in range(epochs):\n",
    "        batch_i = 1\n",
    "        for batch_features, batch_labels in helper.load_preprocess_training_batch(batch_i, batch_size):\n",
    "            train_neural_network(sess, optimizer, keep_probability, batch_features, batch_labels)\n",
    "        print('Epoch {:>2}, CIFAR-10 Batch {}:  '.format(epoch + 1, batch_i), end='')\n",
    "        print_stats(sess, batch_features, batch_labels, cost, accuracy)"
   ]
  },
  {
   "cell_type": "markdown",
   "metadata": {
    "deletable": true,
    "editable": true
   },
   "source": [
    "### Fully Train the Model\n",
    "Now that you got a good accuracy with a single CIFAR-10 batch, try it with all five batches."
   ]
  },
  {
   "cell_type": "code",
   "execution_count": 35,
   "metadata": {
    "collapsed": false,
    "deletable": true,
    "editable": true
   },
   "outputs": [
    {
     "name": "stdout",
     "output_type": "stream",
     "text": [
      "Training...\n",
      "Epoch  1, CIFAR-10 Batch 1:  Loss:     2.2302 Validation Accuracy: 0.200000\n",
      "Epoch  1, CIFAR-10 Batch 2:  Loss:     2.1901 Validation Accuracy: 0.200000\n",
      "Epoch  1, CIFAR-10 Batch 3:  Loss:     2.1457 Validation Accuracy: 0.175000\n",
      "Epoch  1, CIFAR-10 Batch 4:  Loss:     2.0375 Validation Accuracy: 0.250000\n",
      "Epoch  1, CIFAR-10 Batch 5:  Loss:     1.9234 Validation Accuracy: 0.275000\n",
      "Epoch  2, CIFAR-10 Batch 1:  Loss:     1.8053 Validation Accuracy: 0.325000\n",
      "Epoch  2, CIFAR-10 Batch 2:  Loss:     1.8333 Validation Accuracy: 0.375000\n",
      "Epoch  2, CIFAR-10 Batch 3:  Loss:     1.7690 Validation Accuracy: 0.425000\n",
      "Epoch  2, CIFAR-10 Batch 4:  Loss:     1.9374 Validation Accuracy: 0.300000\n",
      "Epoch  2, CIFAR-10 Batch 5:  Loss:     1.7938 Validation Accuracy: 0.450000\n",
      "Epoch  3, CIFAR-10 Batch 1:  Loss:     1.7279 Validation Accuracy: 0.350000\n",
      "Epoch  3, CIFAR-10 Batch 2:  Loss:     1.5791 Validation Accuracy: 0.500000\n",
      "Epoch  3, CIFAR-10 Batch 3:  Loss:     1.5406 Validation Accuracy: 0.425000\n",
      "Epoch  3, CIFAR-10 Batch 4:  Loss:     1.5846 Validation Accuracy: 0.375000\n",
      "Epoch  3, CIFAR-10 Batch 5:  Loss:     1.4460 Validation Accuracy: 0.525000\n",
      "Epoch  4, CIFAR-10 Batch 1:  Loss:     1.5869 Validation Accuracy: 0.425000\n",
      "Epoch  4, CIFAR-10 Batch 2:  Loss:     1.4228 Validation Accuracy: 0.475000\n",
      "Epoch  4, CIFAR-10 Batch 3:  Loss:     1.3422 Validation Accuracy: 0.525000\n",
      "Epoch  4, CIFAR-10 Batch 4:  Loss:     1.3909 Validation Accuracy: 0.475000\n",
      "Epoch  4, CIFAR-10 Batch 5:  Loss:     1.3303 Validation Accuracy: 0.550000\n",
      "Epoch  5, CIFAR-10 Batch 1:  Loss:     1.4936 Validation Accuracy: 0.550000\n",
      "Epoch  5, CIFAR-10 Batch 2:  Loss:     1.3257 Validation Accuracy: 0.575000\n",
      "Epoch  5, CIFAR-10 Batch 3:  Loss:     1.2325 Validation Accuracy: 0.575000\n",
      "Epoch  5, CIFAR-10 Batch 4:  Loss:     1.2688 Validation Accuracy: 0.500000\n",
      "Epoch  5, CIFAR-10 Batch 5:  Loss:     1.2390 Validation Accuracy: 0.625000\n",
      "Epoch  6, CIFAR-10 Batch 1:  Loss:     1.3043 Validation Accuracy: 0.525000\n",
      "Epoch  6, CIFAR-10 Batch 2:  Loss:     1.2470 Validation Accuracy: 0.600000\n",
      "Epoch  6, CIFAR-10 Batch 3:  Loss:     1.1593 Validation Accuracy: 0.550000\n",
      "Epoch  6, CIFAR-10 Batch 4:  Loss:     1.1682 Validation Accuracy: 0.550000\n",
      "Epoch  6, CIFAR-10 Batch 5:  Loss:     1.1473 Validation Accuracy: 0.600000\n",
      "Epoch  7, CIFAR-10 Batch 1:  Loss:     1.2198 Validation Accuracy: 0.600000\n",
      "Epoch  7, CIFAR-10 Batch 2:  Loss:     1.1966 Validation Accuracy: 0.550000\n",
      "Epoch  7, CIFAR-10 Batch 3:  Loss:     1.1350 Validation Accuracy: 0.625000\n",
      "Epoch  7, CIFAR-10 Batch 4:  Loss:     1.1237 Validation Accuracy: 0.650000\n",
      "Epoch  7, CIFAR-10 Batch 5:  Loss:     1.0483 Validation Accuracy: 0.650000\n",
      "Epoch  8, CIFAR-10 Batch 1:  Loss:     1.0723 Validation Accuracy: 0.625000\n",
      "Epoch  8, CIFAR-10 Batch 2:  Loss:     1.1098 Validation Accuracy: 0.575000\n",
      "Epoch  8, CIFAR-10 Batch 3:  Loss:     1.0410 Validation Accuracy: 0.675000\n",
      "Epoch  8, CIFAR-10 Batch 4:  Loss:     1.1254 Validation Accuracy: 0.550000\n",
      "Epoch  8, CIFAR-10 Batch 5:  Loss:     0.8722 Validation Accuracy: 0.725000\n",
      "Epoch  9, CIFAR-10 Batch 1:  Loss:     1.0400 Validation Accuracy: 0.675000\n",
      "Epoch  9, CIFAR-10 Batch 2:  Loss:     1.0376 Validation Accuracy: 0.625000\n",
      "Epoch  9, CIFAR-10 Batch 3:  Loss:     0.9601 Validation Accuracy: 0.675000\n",
      "Epoch  9, CIFAR-10 Batch 4:  Loss:     1.0441 Validation Accuracy: 0.650000\n",
      "Epoch  9, CIFAR-10 Batch 5:  Loss:     0.7565 Validation Accuracy: 0.800000\n",
      "Epoch 10, CIFAR-10 Batch 1:  Loss:     0.9704 Validation Accuracy: 0.750000\n",
      "Epoch 10, CIFAR-10 Batch 2:  Loss:     1.0144 Validation Accuracy: 0.600000\n",
      "Epoch 10, CIFAR-10 Batch 3:  Loss:     0.8945 Validation Accuracy: 0.775000\n",
      "Epoch 10, CIFAR-10 Batch 4:  Loss:     0.9885 Validation Accuracy: 0.700000\n",
      "Epoch 10, CIFAR-10 Batch 5:  Loss:     0.7276 Validation Accuracy: 0.775000\n",
      "Epoch 11, CIFAR-10 Batch 1:  Loss:     0.9041 Validation Accuracy: 0.725000\n",
      "Epoch 11, CIFAR-10 Batch 2:  Loss:     0.9282 Validation Accuracy: 0.625000\n",
      "Epoch 11, CIFAR-10 Batch 3:  Loss:     0.9070 Validation Accuracy: 0.650000\n",
      "Epoch 11, CIFAR-10 Batch 4:  Loss:     1.0126 Validation Accuracy: 0.575000\n",
      "Epoch 11, CIFAR-10 Batch 5:  Loss:     0.6650 Validation Accuracy: 0.800000\n",
      "Epoch 12, CIFAR-10 Batch 1:  Loss:     0.8474 Validation Accuracy: 0.750000\n",
      "Epoch 12, CIFAR-10 Batch 2:  Loss:     0.8615 Validation Accuracy: 0.600000\n",
      "Epoch 12, CIFAR-10 Batch 3:  Loss:     0.8397 Validation Accuracy: 0.725000\n",
      "Epoch 12, CIFAR-10 Batch 4:  Loss:     0.9153 Validation Accuracy: 0.650000\n",
      "Epoch 12, CIFAR-10 Batch 5:  Loss:     0.6302 Validation Accuracy: 0.950000\n",
      "Epoch 13, CIFAR-10 Batch 1:  Loss:     0.8383 Validation Accuracy: 0.775000\n",
      "Epoch 13, CIFAR-10 Batch 2:  Loss:     0.7941 Validation Accuracy: 0.675000\n",
      "Epoch 13, CIFAR-10 Batch 3:  Loss:     0.7674 Validation Accuracy: 0.825000\n",
      "Epoch 13, CIFAR-10 Batch 4:  Loss:     0.8563 Validation Accuracy: 0.725000\n",
      "Epoch 13, CIFAR-10 Batch 5:  Loss:     0.6495 Validation Accuracy: 0.800000\n",
      "Epoch 14, CIFAR-10 Batch 1:  Loss:     0.8202 Validation Accuracy: 0.775000\n",
      "Epoch 14, CIFAR-10 Batch 2:  Loss:     0.7983 Validation Accuracy: 0.700000\n",
      "Epoch 14, CIFAR-10 Batch 3:  Loss:     0.7694 Validation Accuracy: 0.800000\n",
      "Epoch 14, CIFAR-10 Batch 4:  Loss:     0.7944 Validation Accuracy: 0.700000\n",
      "Epoch 14, CIFAR-10 Batch 5:  Loss:     0.6002 Validation Accuracy: 0.850000\n",
      "Epoch 15, CIFAR-10 Batch 1:  Loss:     0.7794 Validation Accuracy: 0.725000\n",
      "Epoch 15, CIFAR-10 Batch 2:  Loss:     0.7660 Validation Accuracy: 0.725000\n",
      "Epoch 15, CIFAR-10 Batch 3:  Loss:     0.6985 Validation Accuracy: 0.775000\n",
      "Epoch 15, CIFAR-10 Batch 4:  Loss:     0.7539 Validation Accuracy: 0.700000\n",
      "Epoch 15, CIFAR-10 Batch 5:  Loss:     0.6097 Validation Accuracy: 0.850000\n",
      "Epoch 16, CIFAR-10 Batch 1:  Loss:     0.7847 Validation Accuracy: 0.750000\n",
      "Epoch 16, CIFAR-10 Batch 2:  Loss:     0.8121 Validation Accuracy: 0.675000\n",
      "Epoch 16, CIFAR-10 Batch 3:  Loss:     0.6608 Validation Accuracy: 0.800000\n",
      "Epoch 16, CIFAR-10 Batch 4:  Loss:     0.7228 Validation Accuracy: 0.775000\n",
      "Epoch 16, CIFAR-10 Batch 5:  Loss:     0.5660 Validation Accuracy: 0.850000\n",
      "Epoch 17, CIFAR-10 Batch 1:  Loss:     0.7676 Validation Accuracy: 0.775000\n",
      "Epoch 17, CIFAR-10 Batch 2:  Loss:     0.7683 Validation Accuracy: 0.675000\n",
      "Epoch 17, CIFAR-10 Batch 3:  Loss:     0.6749 Validation Accuracy: 0.850000\n",
      "Epoch 17, CIFAR-10 Batch 4:  Loss:     0.7322 Validation Accuracy: 0.750000\n",
      "Epoch 17, CIFAR-10 Batch 5:  Loss:     0.5616 Validation Accuracy: 0.850000\n",
      "Epoch 18, CIFAR-10 Batch 1:  Loss:     0.7123 Validation Accuracy: 0.775000\n",
      "Epoch 18, CIFAR-10 Batch 2:  Loss:     0.6191 Validation Accuracy: 0.725000\n",
      "Epoch 18, CIFAR-10 Batch 3:  Loss:     0.7509 Validation Accuracy: 0.700000\n",
      "Epoch 18, CIFAR-10 Batch 4:  Loss:     0.7387 Validation Accuracy: 0.750000\n",
      "Epoch 18, CIFAR-10 Batch 5:  Loss:     0.5514 Validation Accuracy: 0.850000\n",
      "Epoch 19, CIFAR-10 Batch 1:  Loss:     0.6967 Validation Accuracy: 0.800000\n",
      "Epoch 19, CIFAR-10 Batch 2:  Loss:     0.6252 Validation Accuracy: 0.750000\n",
      "Epoch 19, CIFAR-10 Batch 3:  Loss:     0.6852 Validation Accuracy: 0.750000\n",
      "Epoch 19, CIFAR-10 Batch 4:  Loss:     0.7207 Validation Accuracy: 0.750000\n",
      "Epoch 19, CIFAR-10 Batch 5:  Loss:     0.5714 Validation Accuracy: 0.825000\n",
      "Epoch 20, CIFAR-10 Batch 1:  Loss:     0.7441 Validation Accuracy: 0.725000\n",
      "Epoch 20, CIFAR-10 Batch 2:  Loss:     0.6364 Validation Accuracy: 0.725000\n",
      "Epoch 20, CIFAR-10 Batch 3:  Loss:     0.6167 Validation Accuracy: 0.825000\n",
      "Epoch 20, CIFAR-10 Batch 4:  Loss:     0.6871 Validation Accuracy: 0.750000\n",
      "Epoch 20, CIFAR-10 Batch 5:  Loss:     0.5713 Validation Accuracy: 0.825000\n",
      "Epoch 21, CIFAR-10 Batch 1:  Loss:     0.6723 Validation Accuracy: 0.775000\n",
      "Epoch 21, CIFAR-10 Batch 2:  Loss:     0.6373 Validation Accuracy: 0.725000\n",
      "Epoch 21, CIFAR-10 Batch 3:  Loss:     0.6157 Validation Accuracy: 0.775000\n",
      "Epoch 21, CIFAR-10 Batch 4:  Loss:     0.7575 Validation Accuracy: 0.800000\n",
      "Epoch 21, CIFAR-10 Batch 5:  Loss:     0.5583 Validation Accuracy: 0.825000\n",
      "Epoch 22, CIFAR-10 Batch 1:  Loss:     0.6493 Validation Accuracy: 0.800000\n",
      "Epoch 22, CIFAR-10 Batch 2:  Loss:     0.6058 Validation Accuracy: 0.725000\n",
      "Epoch 22, CIFAR-10 Batch 3:  Loss:     0.6182 Validation Accuracy: 0.750000\n",
      "Epoch 22, CIFAR-10 Batch 4:  Loss:     0.7192 Validation Accuracy: 0.800000\n",
      "Epoch 22, CIFAR-10 Batch 5:  Loss:     0.5125 Validation Accuracy: 0.850000\n",
      "Epoch 23, CIFAR-10 Batch 1:  Loss:     0.5915 Validation Accuracy: 0.775000\n",
      "Epoch 23, CIFAR-10 Batch 2:  Loss:     0.6097 Validation Accuracy: 0.700000\n",
      "Epoch 23, CIFAR-10 Batch 3:  Loss:     0.6772 Validation Accuracy: 0.800000\n",
      "Epoch 23, CIFAR-10 Batch 4:  Loss:     0.6106 Validation Accuracy: 0.825000\n",
      "Epoch 23, CIFAR-10 Batch 5:  Loss:     0.4933 Validation Accuracy: 0.875000\n",
      "Epoch 24, CIFAR-10 Batch 1:  Loss:     0.5952 Validation Accuracy: 0.800000\n",
      "Epoch 24, CIFAR-10 Batch 2:  Loss:     0.6216 Validation Accuracy: 0.750000\n",
      "Epoch 24, CIFAR-10 Batch 3:  Loss:     0.6762 Validation Accuracy: 0.725000\n",
      "Epoch 24, CIFAR-10 Batch 4:  Loss:     0.6673 Validation Accuracy: 0.825000\n",
      "Epoch 24, CIFAR-10 Batch 5:  Loss:     0.4567 Validation Accuracy: 0.850000\n",
      "Epoch 25, CIFAR-10 Batch 1:  Loss:     0.5987 Validation Accuracy: 0.800000\n",
      "Epoch 25, CIFAR-10 Batch 2:  Loss:     0.5335 Validation Accuracy: 0.750000\n",
      "Epoch 25, CIFAR-10 Batch 3:  Loss:     0.6550 Validation Accuracy: 0.750000\n",
      "Epoch 25, CIFAR-10 Batch 4:  Loss:     0.6105 Validation Accuracy: 0.750000\n",
      "Epoch 25, CIFAR-10 Batch 5:  Loss:     0.5090 Validation Accuracy: 0.850000\n",
      "Epoch 26, CIFAR-10 Batch 1:  Loss:     0.6254 Validation Accuracy: 0.800000\n",
      "Epoch 26, CIFAR-10 Batch 2:  Loss:     0.5312 Validation Accuracy: 0.750000\n",
      "Epoch 26, CIFAR-10 Batch 3:  Loss:     0.6011 Validation Accuracy: 0.775000\n",
      "Epoch 26, CIFAR-10 Batch 4:  Loss:     0.6152 Validation Accuracy: 0.850000\n",
      "Epoch 26, CIFAR-10 Batch 5:  Loss:     0.5156 Validation Accuracy: 0.850000\n",
      "Epoch 27, CIFAR-10 Batch 1:  Loss:     0.5819 Validation Accuracy: 0.825000\n",
      "Epoch 27, CIFAR-10 Batch 2:  Loss:     0.5350 Validation Accuracy: 0.775000\n",
      "Epoch 27, CIFAR-10 Batch 3:  Loss:     0.5624 Validation Accuracy: 0.775000\n",
      "Epoch 27, CIFAR-10 Batch 4:  Loss:     0.5369 Validation Accuracy: 0.825000\n",
      "Epoch 27, CIFAR-10 Batch 5:  Loss:     0.4073 Validation Accuracy: 0.925000\n",
      "Epoch 28, CIFAR-10 Batch 1:  Loss:     0.5907 Validation Accuracy: 0.800000\n",
      "Epoch 28, CIFAR-10 Batch 2:  Loss:     0.5233 Validation Accuracy: 0.750000\n",
      "Epoch 28, CIFAR-10 Batch 3:  Loss:     0.6056 Validation Accuracy: 0.775000\n",
      "Epoch 28, CIFAR-10 Batch 4:  Loss:     0.5485 Validation Accuracy: 0.825000\n",
      "Epoch 28, CIFAR-10 Batch 5:  Loss:     0.5141 Validation Accuracy: 0.900000\n",
      "Epoch 29, CIFAR-10 Batch 1:  Loss:     0.6190 Validation Accuracy: 0.825000\n",
      "Epoch 29, CIFAR-10 Batch 2:  Loss:     0.4925 Validation Accuracy: 0.800000\n",
      "Epoch 29, CIFAR-10 Batch 3:  Loss:     0.5138 Validation Accuracy: 0.850000\n",
      "Epoch 29, CIFAR-10 Batch 4:  Loss:     0.5296 Validation Accuracy: 0.850000\n",
      "Epoch 29, CIFAR-10 Batch 5:  Loss:     0.4675 Validation Accuracy: 0.925000\n",
      "Epoch 30, CIFAR-10 Batch 1:  Loss:     0.5451 Validation Accuracy: 0.800000\n",
      "Epoch 30, CIFAR-10 Batch 2:  Loss:     0.5464 Validation Accuracy: 0.750000\n",
      "Epoch 30, CIFAR-10 Batch 3:  Loss:     0.4548 Validation Accuracy: 0.850000\n",
      "Epoch 30, CIFAR-10 Batch 4:  Loss:     0.5220 Validation Accuracy: 0.850000\n",
      "Epoch 30, CIFAR-10 Batch 5:  Loss:     0.4376 Validation Accuracy: 0.925000\n",
      "Epoch 31, CIFAR-10 Batch 1:  Loss:     0.4774 Validation Accuracy: 0.850000\n",
      "Epoch 31, CIFAR-10 Batch 2:  Loss:     0.5356 Validation Accuracy: 0.800000\n",
      "Epoch 31, CIFAR-10 Batch 3:  Loss:     0.4762 Validation Accuracy: 0.800000\n",
      "Epoch 31, CIFAR-10 Batch 4:  Loss:     0.5005 Validation Accuracy: 0.800000\n",
      "Epoch 31, CIFAR-10 Batch 5:  Loss:     0.3749 Validation Accuracy: 0.950000\n",
      "Epoch 32, CIFAR-10 Batch 1:  Loss:     0.5159 Validation Accuracy: 0.775000\n",
      "Epoch 32, CIFAR-10 Batch 2:  Loss:     0.5390 Validation Accuracy: 0.750000\n",
      "Epoch 32, CIFAR-10 Batch 3:  Loss:     0.5194 Validation Accuracy: 0.800000\n",
      "Epoch 32, CIFAR-10 Batch 4:  Loss:     0.5258 Validation Accuracy: 0.875000\n",
      "Epoch 32, CIFAR-10 Batch 5:  Loss:     0.3834 Validation Accuracy: 0.925000\n",
      "Epoch 33, CIFAR-10 Batch 1:  Loss:     0.4829 Validation Accuracy: 0.725000\n",
      "Epoch 33, CIFAR-10 Batch 2:  Loss:     0.4523 Validation Accuracy: 0.775000\n",
      "Epoch 33, CIFAR-10 Batch 3:  Loss:     0.4319 Validation Accuracy: 0.825000\n",
      "Epoch 33, CIFAR-10 Batch 4:  Loss:     0.6007 Validation Accuracy: 0.850000\n",
      "Epoch 33, CIFAR-10 Batch 5:  Loss:     0.4095 Validation Accuracy: 0.900000\n",
      "Epoch 34, CIFAR-10 Batch 1:  Loss:     0.4352 Validation Accuracy: 0.850000\n",
      "Epoch 34, CIFAR-10 Batch 2:  Loss:     0.4405 Validation Accuracy: 0.775000\n",
      "Epoch 34, CIFAR-10 Batch 3:  Loss:     0.4842 Validation Accuracy: 0.825000\n",
      "Epoch 34, CIFAR-10 Batch 4:  Loss:     0.5754 Validation Accuracy: 0.900000\n",
      "Epoch 34, CIFAR-10 Batch 5:  Loss:     0.3705 Validation Accuracy: 0.925000\n",
      "Epoch 35, CIFAR-10 Batch 1:  Loss:     0.4258 Validation Accuracy: 0.825000\n",
      "Epoch 35, CIFAR-10 Batch 2:  Loss:     0.4612 Validation Accuracy: 0.775000\n",
      "Epoch 35, CIFAR-10 Batch 3:  Loss:     0.4606 Validation Accuracy: 0.850000\n",
      "Epoch 35, CIFAR-10 Batch 4:  Loss:     0.5590 Validation Accuracy: 0.900000\n",
      "Epoch 35, CIFAR-10 Batch 5:  Loss:     0.4114 Validation Accuracy: 0.900000\n",
      "Epoch 36, CIFAR-10 Batch 1:  Loss:     0.4288 Validation Accuracy: 0.825000\n",
      "Epoch 36, CIFAR-10 Batch 2:  Loss:     0.4672 Validation Accuracy: 0.775000\n",
      "Epoch 36, CIFAR-10 Batch 3:  Loss:     0.4164 Validation Accuracy: 0.825000\n",
      "Epoch 36, CIFAR-10 Batch 4:  Loss:     0.4674 Validation Accuracy: 0.875000\n",
      "Epoch 36, CIFAR-10 Batch 5:  Loss:     0.3279 Validation Accuracy: 0.925000\n",
      "Epoch 37, CIFAR-10 Batch 1:  Loss:     0.4870 Validation Accuracy: 0.775000\n",
      "Epoch 37, CIFAR-10 Batch 2:  Loss:     0.5371 Validation Accuracy: 0.750000\n",
      "Epoch 37, CIFAR-10 Batch 3:  Loss:     0.3968 Validation Accuracy: 0.900000\n",
      "Epoch 37, CIFAR-10 Batch 4:  Loss:     0.4836 Validation Accuracy: 0.900000\n",
      "Epoch 37, CIFAR-10 Batch 5:  Loss:     0.3267 Validation Accuracy: 0.950000\n",
      "Epoch 38, CIFAR-10 Batch 1:  Loss:     0.4011 Validation Accuracy: 0.825000\n",
      "Epoch 38, CIFAR-10 Batch 2:  Loss:     0.4736 Validation Accuracy: 0.775000\n",
      "Epoch 38, CIFAR-10 Batch 3:  Loss:     0.4012 Validation Accuracy: 0.875000\n",
      "Epoch 38, CIFAR-10 Batch 4:  Loss:     0.4853 Validation Accuracy: 0.875000\n",
      "Epoch 38, CIFAR-10 Batch 5:  Loss:     0.3242 Validation Accuracy: 0.925000\n",
      "Epoch 39, CIFAR-10 Batch 1:  Loss:     0.4339 Validation Accuracy: 0.775000\n",
      "Epoch 39, CIFAR-10 Batch 2:  Loss:     0.4666 Validation Accuracy: 0.800000\n",
      "Epoch 39, CIFAR-10 Batch 3:  Loss:     0.5437 Validation Accuracy: 0.850000\n",
      "Epoch 39, CIFAR-10 Batch 4:  Loss:     0.4857 Validation Accuracy: 0.900000\n",
      "Epoch 39, CIFAR-10 Batch 5:  Loss:     0.3447 Validation Accuracy: 0.925000\n",
      "Epoch 40, CIFAR-10 Batch 1:  Loss:     0.3854 Validation Accuracy: 0.850000\n",
      "Epoch 40, CIFAR-10 Batch 2:  Loss:     0.4795 Validation Accuracy: 0.775000\n",
      "Epoch 40, CIFAR-10 Batch 3:  Loss:     0.4247 Validation Accuracy: 0.875000\n",
      "Epoch 40, CIFAR-10 Batch 4:  Loss:     0.5680 Validation Accuracy: 0.900000\n",
      "Epoch 40, CIFAR-10 Batch 5:  Loss:     0.3415 Validation Accuracy: 0.925000\n",
      "Epoch 41, CIFAR-10 Batch 1:  Loss:     0.4322 Validation Accuracy: 0.825000\n",
      "Epoch 41, CIFAR-10 Batch 2:  Loss:     0.4611 Validation Accuracy: 0.775000\n",
      "Epoch 41, CIFAR-10 Batch 3:  Loss:     0.3702 Validation Accuracy: 0.925000\n",
      "Epoch 41, CIFAR-10 Batch 4:  Loss:     0.4938 Validation Accuracy: 0.900000\n",
      "Epoch 41, CIFAR-10 Batch 5:  Loss:     0.3939 Validation Accuracy: 0.925000\n",
      "Epoch 42, CIFAR-10 Batch 1:  Loss:     0.3833 Validation Accuracy: 0.900000\n",
      "Epoch 42, CIFAR-10 Batch 2:  Loss:     0.4763 Validation Accuracy: 0.775000\n",
      "Epoch 42, CIFAR-10 Batch 3:  Loss:     0.3795 Validation Accuracy: 0.900000\n",
      "Epoch 42, CIFAR-10 Batch 4:  Loss:     0.4800 Validation Accuracy: 0.875000\n",
      "Epoch 42, CIFAR-10 Batch 5:  Loss:     0.3707 Validation Accuracy: 0.925000\n",
      "Epoch 43, CIFAR-10 Batch 1:  Loss:     0.3653 Validation Accuracy: 0.875000\n",
      "Epoch 43, CIFAR-10 Batch 2:  Loss:     0.4095 Validation Accuracy: 0.800000\n",
      "Epoch 43, CIFAR-10 Batch 3:  Loss:     0.4094 Validation Accuracy: 0.825000\n",
      "Epoch 43, CIFAR-10 Batch 4:  Loss:     0.4618 Validation Accuracy: 0.900000\n",
      "Epoch 43, CIFAR-10 Batch 5:  Loss:     0.3321 Validation Accuracy: 0.900000\n",
      "Epoch 44, CIFAR-10 Batch 1:  Loss:     0.4246 Validation Accuracy: 0.850000\n",
      "Epoch 44, CIFAR-10 Batch 2:  Loss:     0.4600 Validation Accuracy: 0.775000\n",
      "Epoch 44, CIFAR-10 Batch 3:  Loss:     0.4149 Validation Accuracy: 0.850000\n",
      "Epoch 44, CIFAR-10 Batch 4:  Loss:     0.4516 Validation Accuracy: 0.900000\n",
      "Epoch 44, CIFAR-10 Batch 5:  Loss:     0.3186 Validation Accuracy: 0.950000\n",
      "Epoch 45, CIFAR-10 Batch 1:  Loss:     0.3901 Validation Accuracy: 0.850000\n",
      "Epoch 45, CIFAR-10 Batch 2:  Loss:     0.4267 Validation Accuracy: 0.800000\n",
      "Epoch 45, CIFAR-10 Batch 3:  Loss:     0.4023 Validation Accuracy: 0.825000\n",
      "Epoch 45, CIFAR-10 Batch 4:  Loss:     0.5623 Validation Accuracy: 0.875000\n",
      "Epoch 45, CIFAR-10 Batch 5:  Loss:     0.3447 Validation Accuracy: 0.925000\n",
      "Epoch 46, CIFAR-10 Batch 1:  Loss:     0.3290 Validation Accuracy: 0.875000\n",
      "Epoch 46, CIFAR-10 Batch 2:  Loss:     0.4301 Validation Accuracy: 0.800000\n",
      "Epoch 46, CIFAR-10 Batch 3:  Loss:     0.3268 Validation Accuracy: 0.900000\n",
      "Epoch 46, CIFAR-10 Batch 4:  Loss:     0.4585 Validation Accuracy: 0.900000\n",
      "Epoch 46, CIFAR-10 Batch 5:  Loss:     0.3281 Validation Accuracy: 0.925000\n",
      "Epoch 47, CIFAR-10 Batch 1:  Loss:     0.3561 Validation Accuracy: 0.850000\n",
      "Epoch 47, CIFAR-10 Batch 2:  Loss:     0.3861 Validation Accuracy: 0.850000\n",
      "Epoch 47, CIFAR-10 Batch 3:  Loss:     0.3630 Validation Accuracy: 0.850000\n",
      "Epoch 47, CIFAR-10 Batch 4:  Loss:     0.4649 Validation Accuracy: 0.900000\n",
      "Epoch 47, CIFAR-10 Batch 5:  Loss:     0.4216 Validation Accuracy: 0.875000\n",
      "Epoch 48, CIFAR-10 Batch 1:  Loss:     0.2906 Validation Accuracy: 0.900000\n",
      "Epoch 48, CIFAR-10 Batch 2:  Loss:     0.4505 Validation Accuracy: 0.825000\n",
      "Epoch 48, CIFAR-10 Batch 3:  Loss:     0.3532 Validation Accuracy: 0.875000\n",
      "Epoch 48, CIFAR-10 Batch 4:  Loss:     0.4182 Validation Accuracy: 0.950000\n",
      "Epoch 48, CIFAR-10 Batch 5:  Loss:     0.3400 Validation Accuracy: 0.950000\n",
      "Epoch 49, CIFAR-10 Batch 1:  Loss:     0.3647 Validation Accuracy: 0.875000\n",
      "Epoch 49, CIFAR-10 Batch 2:  Loss:     0.4772 Validation Accuracy: 0.850000\n",
      "Epoch 49, CIFAR-10 Batch 3:  Loss:     0.3609 Validation Accuracy: 0.875000\n",
      "Epoch 49, CIFAR-10 Batch 4:  Loss:     0.5054 Validation Accuracy: 0.875000\n",
      "Epoch 49, CIFAR-10 Batch 5:  Loss:     0.3577 Validation Accuracy: 0.900000\n",
      "Epoch 50, CIFAR-10 Batch 1:  Loss:     0.3219 Validation Accuracy: 0.875000\n",
      "Epoch 50, CIFAR-10 Batch 2:  Loss:     0.4511 Validation Accuracy: 0.825000\n",
      "Epoch 50, CIFAR-10 Batch 3:  Loss:     0.3388 Validation Accuracy: 0.900000\n",
      "Epoch 50, CIFAR-10 Batch 4:  Loss:     0.4008 Validation Accuracy: 0.925000\n",
      "Epoch 50, CIFAR-10 Batch 5:  Loss:     0.3224 Validation Accuracy: 0.900000\n"
     ]
    }
   ],
   "source": [
    "\"\"\"\n",
    "DON'T MODIFY ANYTHING IN THIS CELL\n",
    "\"\"\"\n",
    "save_model_path = './image_classification'\n",
    "\n",
    "print('Training...')\n",
    "with tf.Session() as sess:\n",
    "    # Initializing the variables\n",
    "    sess.run(tf.global_variables_initializer())\n",
    "    \n",
    "    # Training cycle\n",
    "    for epoch in range(epochs):\n",
    "        # Loop over all batches \n",
    "        n_batches = 5\n",
    "        for batch_i in range(1, n_batches + 1):\n",
    "            for batch_features, batch_labels in helper.load_preprocess_training_batch(batch_i, batch_size):\n",
    "                train_neural_network(sess, optimizer, keep_probability, batch_features, batch_labels)\n",
    "            print('Epoch {:>2}, CIFAR-10 Batch {}:  '.format(epoch + 1, batch_i), end='')\n",
    "            print_stats(sess, batch_features, batch_labels, cost, accuracy)\n",
    "            \n",
    "    # Save Model\n",
    "    saver = tf.train.Saver()\n",
    "    save_path = saver.save(sess, save_model_path)"
   ]
  },
  {
   "cell_type": "markdown",
   "metadata": {
    "deletable": true,
    "editable": true
   },
   "source": [
    "# Checkpoint\n",
    "The model has been saved to disk.\n",
    "## Test Model\n",
    "Test your model against the test dataset.  This will be your final accuracy. You should have an accuracy greater than 50%. If you don't, keep tweaking the model architecture and parameters."
   ]
  },
  {
   "cell_type": "code",
   "execution_count": 37,
   "metadata": {
    "collapsed": false,
    "deletable": true,
    "editable": true
   },
   "outputs": [
    {
     "name": "stdout",
     "output_type": "stream",
     "text": [
      "Testing Accuracy: 0.5016918789808917\n",
      "\n"
     ]
    },
    {
     "data": {
      "image/png": "[encoded data removed]",
      "text/plain": [
       "<matplotlib.figure.Figure at 0x7f9f57f5ba58>"
      ]
     },
     "metadata": {
      "image/png": {
       "height": 319,
       "width": 355
      }
     },
     "output_type": "display_data"
    }
   ],
   "source": [
    "\"\"\"\n",
    "DON'T MODIFY ANYTHING IN THIS CELL\n",
    "\"\"\"\n",
    "%matplotlib inline\n",
    "%config InlineBackend.figure_format = 'retina'\n",
    "\n",
    "import tensorflow as tf\n",
    "import pickle\n",
    "import helper\n",
    "import random\n",
    "\n",
    "# Set batch size if not already set\n",
    "try:\n",
    "    if batch_size:\n",
    "        pass\n",
    "except NameError:\n",
    "    batch_size = 64\n",
    "\n",
    "save_model_path = './image_classification'\n",
    "n_samples = 4\n",
    "top_n_predictions = 3\n",
    "\n",
    "def test_model():\n",
    "    \"\"\"\n",
    "    Test the saved model against the test dataset\n",
    "    \"\"\"\n",
    "\n",
    "    test_features, test_labels = pickle.load(open('preprocess_training.p', mode='rb'))\n",
    "    loaded_graph = tf.Graph()\n",
    "\n",
    "    with tf.Session(graph=loaded_graph) as sess:\n",
    "        # Load model\n",
    "        loader = tf.train.import_meta_graph(save_model_path + '.meta')\n",
    "        loader.restore(sess, save_model_path)\n",
    "\n",
    "        # Get Tensors from loaded model\n",
    "        loaded_x = loaded_graph.get_tensor_by_name('x:0')\n",
    "        loaded_y = loaded_graph.get_tensor_by_name('y:0')\n",
    "        loaded_keep_prob = loaded_graph.get_tensor_by_name('keep_prob:0')\n",
    "        loaded_logits = loaded_graph.get_tensor_by_name('logits:0')\n",
    "        loaded_acc = loaded_graph.get_tensor_by_name('accuracy:0')\n",
    "        \n",
    "        # Get accuracy in batches for memory limitations\n",
    "        test_batch_acc_total = 0\n",
    "        test_batch_count = 0\n",
    "        \n",
    "        for train_feature_batch, train_label_batch in helper.batch_features_labels(test_features, test_labels, batch_size):\n",
    "            test_batch_acc_total += sess.run(\n",
    "                loaded_acc,\n",
    "                feed_dict={loaded_x: train_feature_batch, loaded_y: train_label_batch, loaded_keep_prob: 1.0})\n",
    "            test_batch_count += 1\n",
    "\n",
    "        print('Testing Accuracy: {}\\n'.format(test_batch_acc_total/test_batch_count))\n",
    "\n",
    "        # Print Random Samples\n",
    "        random_test_features, random_test_labels = tuple(zip(*random.sample(list(zip(test_features, test_labels)), n_samples)))\n",
    "        random_test_predictions = sess.run(\n",
    "            tf.nn.top_k(tf.nn.softmax(loaded_logits), top_n_predictions),\n",
    "            feed_dict={loaded_x: random_test_features, loaded_y: random_test_labels, loaded_keep_prob: 1.0})\n",
    "        helper.display_image_predictions(random_test_features, random_test_labels, random_test_predictions)\n",
    "\n",
    "\n",
    "test_model()"
   ]
  },
  {
   "cell_type": "markdown",
   "metadata": {
    "deletable": true,
    "editable": true
   },
   "source": [
    "## Why 50-80% Accuracy?\n",
    "You might be wondering why you can't get an accuracy any higher. First things first, 50% isn't bad for a simple CNN.  Pure guessing would get you 10% accuracy. However, you might notice people are getting scores [well above 80%](http://rodrigob.github.io/are_we_there_yet/build/classification_datasets_results.html#43494641522d3130).  That's because we haven't taught you all there is to know about neural networks. We still need to cover a few more techniques.\n",
    "## Submitting This Project\n",
    "When submitting this project, make sure to run all the cells before saving the notebook.  Save the notebook file as \"dlnd_image_classification.ipynb\" and save it as a HTML file under \"File\" -> \"Download as\".  Include the \"helper.py\" and \"problem_unittests.py\" files in your submission."
   ]
  },
  {
   "cell_type": "code",
   "execution_count": null,
   "metadata": {
    "collapsed": true
   },
   "outputs": [],
   "source": []
  },
  {
   "cell_type": "code",
   "execution_count": null,
   "metadata": {
    "collapsed": true
   },
   "outputs": [],
   "source": []
  }
 ],
 "metadata": {
  "celltoolbar": "Slideshow",
  "kernelspec": {
   "display_name": "Python 3",
   "language": "python",
   "name": "python3"
  },
  "language_info": {
   "codemirror_mode": {
    "name": "ipython",
    "version": 3
   },
   "file_extension": ".py",
   "mimetype": "text/x-python",
   "name": "python",
   "nbconvert_exporter": "python",
   "pygments_lexer": "ipython3",
   "version": "3.5.2"
  }
 },
 "nbformat": 4,
 "nbformat_minor": 0
}
