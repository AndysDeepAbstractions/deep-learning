{
 "cells": [
  {
   "cell_type": "markdown",
   "metadata": {
    "deletable": true,
    "editable": true
   },
   "source": [
    "# TV Script Generation\n",
    "In this project, you'll generate your own [Simpsons](https://en.wikipedia.org/wiki/The_Simpsons) TV scripts using RNNs.  You'll be using part of the [Simpsons dataset](https://www.kaggle.com/wcukierski/the-simpsons-by-the-data) of scripts from 27 seasons.  The Neural Network you'll build will generate a new TV script for a scene at [Moe's Tavern](https://simpsonswiki.com/wiki/Moe's_Tavern).\n",
    "## Get the Data\n",
    "The data is already provided for you.  You'll be using a subset of the original dataset.  It consists of only the scenes in Moe's Tavern.  This doesn't include other versions of the tavern, like \"Moe's Cavern\", \"Flaming Moe's\", \"Uncle Moe's Family Feed-Bag\", etc.."
   ]
  },
  {
   "cell_type": "code",
   "execution_count": 1,
   "metadata": {
    "collapsed": false,
    "deletable": true,
    "editable": true
   },
   "outputs": [],
   "source": [
    "\"\"\"\n",
    "DON'T MODIFY ANYTHING IN THIS CELL\n",
    "\"\"\"\n",
    "import helper\n",
    "\n",
    "data_dir = './data/simpsons/moes_tavern_lines.txt'\n",
    "text = helper.load_data(data_dir)\n",
    "# Ignore notice, since we don't use it for analysing the data\n",
    "text = text[81:]"
   ]
  },
  {
   "cell_type": "markdown",
   "metadata": {
    "deletable": true,
    "editable": true
   },
   "source": [
    "## Explore the Data\n",
    "Play around with `view_sentence_range` to view different parts of the data."
   ]
  },
  {
   "cell_type": "code",
   "execution_count": 2,
   "metadata": {
    "collapsed": false,
    "deletable": true,
    "editable": true
   },
   "outputs": [
    {
     "name": "stdout",
     "output_type": "stream",
     "text": [
      "Dataset Stats\n",
      "Roughly the number of unique words: 11492\n",
      "Number of scenes: 262\n",
      "Average number of sentences in each scene: 15.251908396946565\n",
      "Number of lines: 4258\n",
      "Average number of words in each line: 11.50164396430249\n",
      "\n",
      "The sentences 0 to 10:\n",
      "\n",
      "Moe_Szyslak: (INTO PHONE) Moe's Tavern. Where the elite meet to drink.\n",
      "Bart_Simpson: Eh, yeah, hello, is Mike there? Last name, Rotch.\n",
      "Moe_Szyslak: (INTO PHONE) Hold on, I'll check. (TO BARFLIES) Mike Rotch. Mike Rotch. Hey, has anybody seen Mike Rotch, lately?\n",
      "Moe_Szyslak: (INTO PHONE) Listen you little puke. One of these days I'm gonna catch you, and I'm gonna carve my name on your back with an ice pick.\n",
      "Moe_Szyslak: What's the matter Homer? You're not your normal effervescent self.\n",
      "Homer_Simpson: I got my problems, Moe. Give me another one.\n",
      "Moe_Szyslak: Homer, hey, you should not drink to forget your problems.\n",
      "Barney_Gumble: Yeah, you should only drink to enhance your social skills.\n",
      "\n"
     ]
    }
   ],
   "source": [
    "view_sentence_range = (0, 10)\n",
    "\n",
    "\"\"\"\n",
    "DON'T MODIFY ANYTHING IN THIS CELL\n",
    "\"\"\"\n",
    "import numpy as np\n",
    "\n",
    "print('Dataset Stats')\n",
    "print('Roughly the number of unique words: {}'.format(len({word: None for word in text.split()})))\n",
    "scenes = text.split('\\n\\n')\n",
    "print('Number of scenes: {}'.format(len(scenes)))\n",
    "sentence_count_scene = [scene.count('\\n') for scene in scenes]\n",
    "print('Average number of sentences in each scene: {}'.format(np.average(sentence_count_scene)))\n",
    "\n",
    "sentences = [sentence for scene in scenes for sentence in scene.split('\\n')]\n",
    "print('Number of lines: {}'.format(len(sentences)))\n",
    "word_count_sentence = [len(sentence.split()) for sentence in sentences]\n",
    "print('Average number of words in each line: {}'.format(np.average(word_count_sentence)))\n",
    "\n",
    "print()\n",
    "print('The sentences {} to {}:'.format(*view_sentence_range))\n",
    "print('\\n'.join(text.split('\\n')[view_sentence_range[0]:view_sentence_range[1]]))"
   ]
  },
  {
   "cell_type": "markdown",
   "metadata": {
    "deletable": true,
    "editable": true
   },
   "source": [
    "## Implement Preprocessing Functions\n",
    "The first thing to do to any dataset is preprocessing.  Implement the following preprocessing functions below:\n",
    "- Lookup Table\n",
    "- Tokenize Punctuation\n",
    "\n",
    "### Lookup Table\n",
    "To create a word embedding, you first need to transform the words to ids.  In this function, create two dictionaries:\n",
    "- Dictionary to go from the words to an id, we'll call `vocab_to_int`\n",
    "- Dictionary to go from the id to word, we'll call `int_to_vocab`\n",
    "\n",
    "Return these dictionaries in the following tuple `(vocab_to_int, int_to_vocab)`"
   ]
  },
  {
   "cell_type": "code",
   "execution_count": 3,
   "metadata": {
    "collapsed": false
   },
   "outputs": [],
   "source": [
    "import numpy as np\n",
    "import problem_unittests as tests\n",
    "import re\n",
    "\n",
    "def create_lookup_tables(text):\n",
    "    \"\"\"\n",
    "    Create lookup tables for vocabulary\n",
    "    :param text: The text of tv scripts split into words\n",
    "    :return: A tuple of dicts (vocab_to_int, int_to_vocab)\n",
    "    \"\"\"\n",
    "\n",
    "    text = ''.join([c.lower()+' ' for c in text])\n",
    "    #text_for_lookup  = sorted(list(set(re.split('(\\W)+', text))))\n",
    "    #marks_for_lookup = sorted(list(set(re.split('(\\w)+', text))))\n",
    "    #text_for_lookup  = sorted(list(set(text_for_lookup + (marks_for_lookup))))\n",
    "    text_for_lookup = sorted(list(set(re.split(' ', text))))\n",
    "\n",
    "    int_to_vocab = dict((i, c) for i, c in enumerate(text_for_lookup))\n",
    "    vocab_to_int = dict((c, i) for i, c in enumerate(text_for_lookup))\n",
    "\n",
    "    return vocab_to_int, int_to_vocab"
   ]
  },
  {
   "cell_type": "code",
   "execution_count": 4,
   "metadata": {
    "collapsed": false,
    "deletable": true,
    "editable": true
   },
   "outputs": [
    {
     "name": "stdout",
     "output_type": "stream",
     "text": [
      "Tests Passed\n"
     ]
    }
   ],
   "source": [
    "\"\"\"\n",
    "DON'T MODIFY ANYTHING IN THIS CELL THAT IS BELOW THIS LINE\n",
    "\"\"\"\n",
    "tests.test_create_lookup_tables(create_lookup_tables)"
   ]
  },
  {
   "cell_type": "markdown",
   "metadata": {
    "deletable": true,
    "editable": true
   },
   "source": [
    "### Tokenize Punctuation\n",
    "We'll be splitting the script into a word array using spaces as delimiters.  However, punctuations like periods and exclamation marks make it hard for the neural network to distinguish between the word \"bye\" and \"bye!\".\n",
    "\n",
    "Implement the function `token_lookup` to return a dict that will be used to tokenize symbols like \"!\" into \"__Exclamation_Mark__\".  Create a dictionary for the following symbols where the symbol is the key and value is the token:\n",
    "- Period ( . )\n",
    "- Comma ( , )\n",
    "- Quotation Mark ( \" )\n",
    "- Semicolon ( ; )\n",
    "- Exclamation mark ( ! )\n",
    "- Question mark ( ? )\n",
    "- Left Parentheses ( ( )\n",
    "- Right Parentheses ( ) )\n",
    "- Dash ( -- )\n",
    "- Return ( \\n )\n",
    "\n",
    "This dictionary will be used to token the symbols and add the delimiter (space) around it.  This separates the symbols as it's own word, making it easier for the neural network to predict on the next word. Make sure you don't use a token that could be confused as a word. Instead of using the token \"dash\", try using something like \"__dash__\"."
   ]
  },
  {
   "cell_type": "code",
   "execution_count": 5,
   "metadata": {
    "collapsed": false
   },
   "outputs": [
    {
     "data": {
      "text/plain": [
       "{'\\n': '__return__',\n",
       " '!': '__exclamation_mark__',\n",
       " '\"': '__quotation_Mark__',\n",
       " '(': '__left_Parentheses__',\n",
       " ')': '__right_Parentheses__',\n",
       " ',': '__comma__',\n",
       " '--': '__dash__',\n",
       " '.': '__period__',\n",
       " ';': '__semicolon__',\n",
       " '?': '__question_mark__'}"
      ]
     },
     "execution_count": 5,
     "metadata": {},
     "output_type": "execute_result"
    }
   ],
   "source": [
    "def token_lookup():\n",
    "    \"\"\"\n",
    "    Generate a dict to turn punctuation into a token.\n",
    "    :return: Tokenize dictionary where the key is the punctuation and the value is the token\n",
    "    \"\"\"\n",
    "    symbols = (['.', ',', '\"', ';', '!', '?', '(', ')', '--', '\\n'#, ':', '\\'', '#', '/', '%'\n",
    "               ])\n",
    "    \n",
    "    symbol_desc = ([\n",
    "        '__period__',\n",
    "        '__comma__',\n",
    "        '__quotation_Mark__',\n",
    "        '__semicolon__',\n",
    "        '__exclamation_mark__',\n",
    "        '__question_mark__',\n",
    "        '__left_Parentheses__',\n",
    "        '__right_Parentheses__',\n",
    "        '__dash__',\n",
    "        '__return__',\n",
    "        #'__double_point__', ## missing in description\n",
    "        #'__quote__',        ## missing in description\n",
    "        #'__hash__',         ## missing in description\n",
    "        #'__slash__',        ## missing in description\n",
    "        #'__procent__',      ## missing in description\n",
    "        ])\n",
    "    \n",
    "    return dict(zip(symbols,symbol_desc))\n",
    "\n",
    "token_lookup()\n"
   ]
  },
  {
   "cell_type": "code",
   "execution_count": 6,
   "metadata": {
    "collapsed": false,
    "deletable": true,
    "editable": true
   },
   "outputs": [
    {
     "name": "stdout",
     "output_type": "stream",
     "text": [
      "Tests Passed\n"
     ]
    }
   ],
   "source": [
    "\"\"\"\n",
    "DON'T MODIFY ANYTHING IN THIS CELL THAT IS BELOW THIS LINE\n",
    "\"\"\"\n",
    "tests.test_tokenize(token_lookup)"
   ]
  },
  {
   "cell_type": "markdown",
   "metadata": {
    "deletable": true,
    "editable": true
   },
   "source": [
    "## Preprocess all the data and save it\n",
    "Running the code cell below will preprocess all the data and save it to file."
   ]
  },
  {
   "cell_type": "code",
   "execution_count": 7,
   "metadata": {
    "collapsed": false
   },
   "outputs": [
    {
     "name": "stdout",
     "output_type": "stream",
     "text": [
      "{'': 0, 'terrifying': 5946, 'smallest': 5396, 'fold': 2247, 'clothes': 1173, 'getting': 2448, 'susie-q': 5803, 'rotch': 4947, 'terror': 5948, 'goal': 2497, 'chew': 1072, 'testing': 5955, 'aside': 360, 'sidekick': 5284, 'germs': 2440, 'fire_inspector:': 2182, 'word': 6658, 'uncle': 6266, 'dames': 1467, 'hitler': 2803, 'speaking': 5526, 'julienne': 3189, 'nein': 3995, 'muscle': 3920, 'tuborg': 6203, 'celebrity': 997, 'wooooo': 6655, 'blissful': 656, 'ails': 193, 'novel': 4080, 'anyway': 303, 'what-for': 6522, 'seconds': 5119, 'buds': 822, 'lindsay': 3444, 'roz': 4957, 'naval': 3969, 'half-beer': 2636, 'contemplated': 1296, \"scammin'\": 5062, \"what'd\": 6517, 'diet': 1615, 'encouraging': 1920, 'ugly': 6250, 'terrified': 5945, 'sharity': 5206, 'effigy': 1868, 'mike_mills:': 3759, 'bowl': 728, 'sledge-hammer': 5366, 'wrestling': 6693, 'harvesting': 2689, 'whisper': 6547, 'understand': 6274, 'cracked': 1374, \"we're\": 6474, 'your': 6760, 'amber': 246, 'bury': 860, 'evergreen': 1979, 'hangs': 2663, 'disguised': 1660, 'yee-ha': 6728, 'justify': 3199, 'fingers': 2176, 'dress': 1754, 'lone': 3499, 'bleak': 645, 'illegal': 2958, 'woozy': 6657, 'finding': 2171, 'draw': 1742, 'end': 1921, 'intriguing': 3059, 'flanders:': 2211, 'jackpot-thief': 3109, 'reviews': 4880, 'leak': 3358, 'jacks': 3110, 'yoink': 6746, 'notch': 4072, 'shareholder': 5203, 'vermont': 6355, 'forget-me-drinks': 2277, 'coach:': 1182, 'biggest': 614, \"crawlin'\": 1383, 'wiping': 6613, 'crushed': 1424, '_kissingher:': 68, 'talkative': 5869, 'seems': 5133, 'shrieks': 5266, 'surprising': 5800, 'sniper': 5438, 'updated': 6313, 'dough': 1730, 'samples': 5027, 'seats': 5114, 'sistine': 5329, \"'\": 3, 'stripes': 5723, 'diminish': 1626, 'being': 575, 'difficult': 1619, 'pajamas': 4249, 'staying': 5645, 'queen': 4677, 'competitive': 1248, 'balloon': 461, 'spirit': 5550, 'belly': 583, 'drag': 1736, '21': 36, 'fulla': 2362, 'beans': 528, 'pontiff': 4490, 'skinny': 5353, \"how'd\": 2891, 'fills': 2163, 'closing': 1172, 'packets': 4232, 'liable': 3406, 'smiling': 5406, 'we-we-we': 6476, 'scotch': 5089, 'sustain': 5809, 'hiring': 2797, 'pre-game': 4530, 'ale': 207, 'thanks': 5966, \"family's\": 2077, 'defeated': 1535, 'aboard': 85, 'graves': 2550, 'fatso': 2100, 'hunter': 2915, 'stickers': 5668, 'mouth': 3884, 'virility': 6377, 'burg': 846, 'benjamin:': 594, 'attend': 388, 'ribbon': 4886, 'brag': 746, 'tanked-up': 5877, 'composer': 1257, 'bleeding': 646, 'befouled': 564, 'slobbo': 5380, 'captain': 937, 'beeps': 555, 'dyspeptic': 1820, 'french': 2324, 'nuked': 4088, 'cigarette': 1128, 'expect': 2016, 'swe-ee-ee-ee-eet': 5814, 'saga': 5009, 'monorails': 3847, 'tester': 5953, 'distinct': 1673, 'presumir': 4557, 'bloodball': 663, 'tragedy': 6143, 'grains': 2534, 'choking': 1103, 'never': 4007, 'belches': 578, 'blamed': 641, 'selling': 5147, 'credit': 1391, 'side:': 5283, 'revenge': 4879, 'giant': 2455, 'bullet-proof': 833, 'authorized': 403, 'schnapps': 5076, \"somethin'\": 5483, 'krusty_the_clown:': 3300, 'sponge': 5561, 'mater': 3670, 'cheapskates': 1053, \"'bout\": 4, 'branding': 754, \"c'mere\": 890, 'attack': 386, 'butt': 872, 'diddilies': 1609, 'good-looking': 2512, 'rekindle': 4808, 'bottles': 718, 'voters': 6391, \"homer's_brain:\": 2836, \"collector's\": 1209, 'belt': 588, 'was': 6441, 'hollye': 2827, 'apply': 319, 'shriners': 5267, 'feminine': 2132, 'crowd:': 1414, 'freed': 2320, 'snake-handler': 5423, \"'s\": 20, 'judges': 3182, 'stupidly': 5740, 'furry': 2375, 'percent': 4337, 'american': 253, 'pride': 4570, 'running': 4981, 'slice': 5372, 'belong': 586, 'stagehand:': 5599, 'darjeeling': 1482, 'various': 6346, ':': 52, \"weren't\": 6505, 'boozebag': 706, 'met': 3733, 'species': 5531, 'harmony': 2684, \"industry's\": 3000, 'ticket': 6052, 'none': 4055, 'contract': 1305, 'edgy': 1856, 'picked': 4379, 'headhunters': 2715, 'murderously': 3915, 'drains': 1737, 'killing': 3248, 'cans': 929, 'getcha': 2445, 'ton': 6101, 'shoo': 5233, 'gluten': 2493, '3': 39, 'so': 5446, 'bellyaching': 585, 'landlord': 3324, 'ought': 4201, 'mid-conversation': 3751, 'ahh': 187, 'wise': 6616, 'latour': 3344, 'turning': 6211, 'stingy': 5675, 'domed': 1703, 'mid-seventies': 3752, 'hand': 2646, 'fishing': 2193, 'whoa': 6559, 'mystery': 3937, 'dude': 1790, 'eightball': 1879, 'rather': 4741, 'hits': 2804, 'yesterday': 6739, 'game': 2397, 'curds': 1437, 'conspiratorial': 1292, \"springfield's\": 5577, 'teenage': 5914, 'booger': 697, 'premiering': 4538, 'aristotle:': 341, \"larry's\": 3335, 'struggling': 5729, 'ring': 4904, 'wash': 6442, 'tall': 5874, 'leathery': 3365, 'priceless': 4568, 'hospital': 2871, 'whoo': 6564, 'dictating': 1606, \"hangin'\": 2659, \"'cept\": 6, 'quebec': 4676, 'solves': 5474, 'bedroom': 548, 'awwww': 424, 'knew': 3274, 'promise': 4607, 'want': 6426, 'suspiciously': 5808, 'cheering': 1063, 'doof': 1718, 'but': 871, \"b-52's:\": 428, 'quality': 4672, 'kay': 3210, 'stored': 5699, 'done:': 1713, 'pyramid': 4670, 'urine': 6323, \"aren'tcha\": 335, 'cobra': 1189, 'inserted': 3025, 'jernt': 3144, 'africanized': 159, 'coffee': 1198, 'along': 231, 'bender:': 590, 'easy-going': 1840, \"fendin'\": 2136, 'hero-phobia': 2768, 'unusual': 6308, 'guzzles': 2618, 'schedule': 5072, 'david_byrne:': 1498, 'bars': 495, 'abusive': 94, 'heaven': 2736, 'absorbent': 93, 'peppers': 4332, 'treehouse': 6166, 'de': 1503, 'notorious': 4079, 'painted': 4244, \"somethin's\": 5485, 'reserve': 4861, 'insightful': 3028, 'book': 698, 'ducked': 1789, \"where'd\": 6537, 'chow': 1108, 'unsafe': 6304, 'frankenstein': 2310, 'babies': 432, 'disappointed': 1645, 'children': 1082, 'swooning': 5839, 'whenever': 6535, 'nameless': 3951, 'figures': 2157, 'learn': 3361, 'dateline:': 1493, '1895': 32, 'unforgettable': 6285, 'vulnerable': 6394, 'shoulder': 5250, 'doom': 1719, 'lord': 3516, 'sponsor': 5563, 'mechanical': 3708, 'hmmmm': 2810, 'marge_simpson:': 3648, 'racially-diverse': 4698, 'instrument': 3038, 'surprised': 5798, 'temp': 5927, 'raising': 4724, 'administration': 131, 'them': 5980, 'stands': 5614, \"bein'\": 574, 'bourbon': 725, 'director': 1638, 'haircuts': 2631, 'weight': 6494, 'reynolds': 4883, \"that'll\": 5970, 'ventriloquism': 6352, 'tang': 5875, 'tempting': 5932, 'boyhood': 742, 'madonna': 3590, 'awesome': 417, 'stadium': 5597, 'mahatma': 3598, 'treasure': 6159, 'trustworthy': 6195, 'mccall': 3686, 'effects': 1865, 'nuclear': 4085, 'combine': 1220, 'chanting': 1030, 'kirk_voice_milhouse:': 3261, 'doctor': 1688, 'longest': 3504, 'electronic': 1893, 'sniffs': 5437, 'gay': 2416, 'multiple': 3909, \"dad's\": 1460, 'each': 1825, 'address': 126, 'legs:': 3381, 'murdoch': 3916, 'dizzy': 1685, 'body': 682, 'ripper': 4911, 'optimistic': 4181, 'aims': 194, 'bleacher': 644, 'shaker': 5192, 'high': 2781, 'sly': 5391, 'feet': 2122, 'cauliflower': 986, 'ruint': 4970, 'poetics': 4463, 'occurred': 4114, 'humiliation': 2908, 'falling': 2073, 'hired': 2796, 'remain': 4824, \"tab's\": 5851, \"hole'\": 2823, 'aggie': 173, 'lips': 3452, 'mellow': 3718, 'talk': 5867, 'heading': 2716, 'chunky': 1124, 'mcbain': 3685, \"he's\": 2712, 'hear': 2722, 'duel': 1792, 'thing:': 6001, 'pressure': 4554, 'scrape': 5092, 'hoagie': 2814, 'duh': 1800, 'pity': 4412, 'si-lent': 5277, 'banquet': 471, 'lifts': 3427, 'tabs': 5856, 'peabody': 4315, 'weekend': 6490, 'is:': 3082, 'exhale': 2010, 'welcome': 6498, 'remodel': 4833, 'butts': 879, 'slim': 5376, 'admiration': 132, 'womb': 6641, 'now': 4083, 'kako:': 3205, 'accept': 98, 'presided': 4547, 'tasimeter': 5887, 'letter': 3401, 'speed': 5536, 'ghouls': 2454, 'sweetie': 5824, 'go-near-': 2496, 'knock-up': 3279, 'mozzarella': 3893, 'cents': 1003, 'souped': 5511, 'kick': 3230, 'application': 318, 'experience': 2020, 'forgiven': 2281, \"ma'am\": 3577, 'suds': 5757, 'addiction': 124, 'oil': 4141, 'compared': 1244, 'advice': 147, 'mix': 3804, 'accounta': 105, 'campaign': 918, 'shoe': 5231, 'drinking': 1762, 'position': 4506, 'swishkabobs': 5836, 'coincidentally': 1202, 'under': 6270, 'handed': 2647, 'mirthless': 3788, 'raccoons': 4696, 'attractive': 393, 'masks': 3663, 'underwear': 6278, \"monroe's\": 3849, 'wide': 6570, 'robot': 4922, 'beer-dorf': 558, 'choice': 1096, 'michael': 3743, 'designer': 1583, 'wham': 6515, \"how's\": 2893, 'ruined': 4969, 'emotional': 1910, 'kadlubowski': 3203, 'kemi:': 3219, 'face': 2051, \"where's\": 6538, 'modest': 3822, \"marge's\": 3647, 'angel': 272, 'ga': 2387, 'insensitive': 3024, 'a-b-': 76, 'thirty-five': 6011, 'hearts': 2731, 'soul-crushing': 5505, 'conditioning': 1271, 'th-th-th-the': 5960, 'family': 2076, 'money': 3843, 'occurrence': 4115, 'floor': 2229, 'sport': 5567, 'plus': 4457, 'telegraph': 5919, 'railroads': 4715, 'furniture': 2374, 'paintings': 4246, 'done': 1712, 'blackjack': 637, 'gotcha': 2523, 'rabbits': 4695, 'symphonies': 5843, 'double': 1727, 'p': 4228, \"c'mom\": 891, 'dint': 1634, 'gentlemen': 2432, 'touched': 6124, 'drunk': 1782, \"c'mon\": 892, 'forty-two': 2295, 'dirt': 1641, 'unavailable': 6263, 'acquaintance': 110, 'theatrical': 5978, 'senators': 5155, 'graveyard': 2551, 'checking': 1057, 'dogs': 1694, 'clandestine': 1141, 'don': 1705, 'explaining': 2026, 'charge': 1036, 'box': 731, 'advantage': 143, 'thoughts': 6031, 'lipo': 3451, 'ape-like': 307, 'sugar': 5761, 'ne': 3972, 'self-made': 5143, 'activity': 117, 'innocuous': 3021, 'venom': 6351, 'friendly': 2336, 'indifferent': 2996, 'bras': 756, 'fresh': 2328, 'crowned': 1417, 'lobster': 3487, 'slender': 5371, 'dozen': 1733, 'bumblebee_man:': 837, 'loss': 3523, 'entertainer': 1945, 'meet': 3715, 'whoever': 6561, 'sickly': 5281, 'scarf': 5066, 'radishes': 4704, \"doctor's\": 1689, 'oh': 4135, 'excuse': 2007, 'thoughtless': 6030, 'meditative': 3713, 'attractive_woman_#1:': 394, 'france': 2309, 'planted': 4428, \"hell's\": 2749, 'everywhere': 1986, 'booze': 704, 'action': 116, 'jay': 3127, 'microphone': 3749, 'full-blooded': 2359, 'tongue': 6103, 'feat': 2113, 'flowers': 2233, 'worst': 6676, 'warmly': 6433, 'bathroom': 516, 'tar-paper': 5886, 'stink': 5676, 'mocking': 3819, \"can't\": 920, \"smokin'_joe_frazier:\": 5413, 'touches': 6125, 'fumes': 2363, 'swill': 5830, 'disillusioned': 1664, 'which': 6540, 'sweeter': 5821, 'sunny': 5775, 'safe': 5004, 'non-american': 4051, 'blimp': 651, 'self-esteem': 5142, 'both': 715, 'grub': 2581, 'ruin': 4968, 'softer': 5467, 'burnside': 854, 'country': 1347, 'picnic': 4385, 'santa': 5034, 'outside': 4211, 'menace': 3725, 'heavyset': 2739, 'fraud': 2314, 'war': 6430, 'relationship': 4809, \"liftin'\": 3426, 'despite': 1587, 'jeter': 3147, 'adeleine': 127, \"could've\": 1340, 'sangre': 5031, \"narratin'\": 3957, 'about': 87, \"wait'll\": 6405, 'weird': 6495, 'mate': 3669, 'fad': 2059, 'macho': 3585, 'land': 3322, 'bumbling': 838, 'honor': 2847, 'nagurski': 3941, 'small_boy:': 5395, 'four-star': 2303, 'barney-shaped_form:': 492, 'blow': 667, 'stick': 5666, 'conversation': 1309, 'greystash': 2561, 'wooden': 6654, 'gimmick': 2465, 'man_with_crazy_beard:': 3627, 'halfway': 2638, 'told': 6089, 'woo-hoo': 6651, \"children's\": 1083, 'kentucky': 3225, 'warily': 6431, 'wildest': 6584, '_eugene_blatz:': 65, 'yards': 6720, 'busted': 869, 'complaint': 1250, 'exasperated': 1996, 'winston': 6610, 'rice': 4887, 'stretches': 5719, 'alcoholism': 206, 'stumble': 5736, 'rented': 4844, 'shot': 5245, 'shutting': 5274, 'person': 4351, 'phrase': 4374, 'teenage_barney:': 5915, 'step': 5660, 'flat': 2216, 'germany': 2439, \"tryin'\": 6198, 'sense': 5159, \"shan't\": 5199, 'watashi': 6451, 'pleading': 4443, 'nervous': 4003, \"'evening\": 11, 'awake': 412, 'eyes': 2046, 'encouraged': 1919, 'me': 3692, 'accurate': 106, 'spotting': 5571, 'grocery': 2572, 'angry': 275, 'fiiiiile': 2158, 'chauffeur:': 1049, 'palmerston': 4253, 'completing': 1253, 'crooks': 1407, 'coyly': 1369, \"meanin'\": 3696, 'distance': 1671, 'passed': 4284, 'choked-up': 1102, 'sings': 5318, 'olive': 4150, 'up': 6310, 'faceful': 2055, 'chick': 1075, 'purveyor': 4656, 'rector': 4787, 'soft': 5466, 'whole': 6562, 'love-matic': 3540, 'lib': 3408, 'every': 1980, 'army': 345, 'girlfriend': 2472, 'plums': 4456, 'am': 242, 'bald': 456, 'cecil': 992, 'guest': 2593, 'sorry': 5501, 'initially': 3016, 'ballot': 462, 'mayan': 3681, 'salad': 5017, \"starla's\": 5618, 'sticking-place': 5670, 'darts': 1487, 'stinger': 5674, 'unexplained': 6282, 'file': 2159, 'bathing': 515, \"y'see\": 6712, 'casual': 975, 'specified': 5533, 'dealie': 1511, 'inexorable': 3002, 'sloppy': 5385, 'male_inspector:': 3613, 'gulps': 2600, 'compadre': 1241, \"now's\": 4084, 'elocution': 1901, 'anywhere': 304, 'puzzle': 4668, 'ashtray': 359, 'occupied': 4113, 'solved': 5473, 'fireball': 2183, \"tap-pullin'\": 5880, 'kermit': 3227, 'veteran': 6360, 'voice': 6382, 'ignorant': 2955, 'bono': 694, 'fausto': 2104, \"waitin'\": 6406, \"other's\": 4196, \"soakin's\": 5450, 'reach': 4748, 'elephants': 1894, 'chug-monkeys': 1120, 'jumps': 3192, 'process': 4592, 'fella': 2126, 'that': 5968, 'switch': 5837, 'east': 1837, 'orgasmville': 4190, 'punching': 4649, 'year': 6725, 'wait': 6404, 'in-ground': 2976, 'installed': 3035, 'add': 123, 'golden': 2506, 'cares': 950, 'panicked': 4255, 'provide': 4626, 'shall': 5197, 'occasional': 4110, 'life-partner': 3418, 'recap:': 4774, 'sec_agent_#1:': 5116, 'admit': 135, 'aziz': 426, 'federal': 2114, 'atari': 381, 'loves': 3548, 'uninhibited': 6292, 'infiltrate': 3005, 'scream': 5095, 'hour': 2883, 'day': 1500, 'blinded': 653, 'simon': 5299, 'hit': 2801, 'correction': 1330, 'kirk': 3259, 'adjust': 130, \"havin'\": 2702, 'know': 3283, 'cell': 999, 'scout': 5090, 'breakdown': 764, 'floated': 2226, 'hosting': 2875, 'danny': 1481, 'town': 6133, 'sacajawea': 4996, 'apart': 305, \"leavin'\": 3367, 'restaurants': 4869, 'shag': 5189, 'beast': 533, 'seymour_skinner:': 5186, 'knit': 3276, 'sweetly': 5825, 'same': 5025, 'fresco': 2327, 'droning': 1773, 'competing': 1247, 'wraps': 6689, 'tie': 6056, 'dreams': 1749, 'prefer': 4535, \"singin'\": 5313, 'hammock': 2643, \"foolin'\": 2261, 'signal': 5295, 'proudly': 4623, '_julius_hibbert:': 67, 'freely': 2322, 'shrugs': 5269, 'christian': 1109, 'ohh': 4138, 'felony': 2129, 'je': 3131, 'arrested:': 349, 'binoculars': 625, 'trapped': 6154, 'heather': 2733, 'fun': 2365, 'have': 2700, 'surprise': 5797, 'myself': 3936, 'hardy': 2681, 'express': 2030, \"challengin'\": 1017, 'mcstagger': 3690, 'stole': 5685, 'space': 5517, 'foodie': 2259, 'determined': 1594, 'upon': 6316, 'drives': 1769, 'rag': 4707, 'salvador': 5022, 'marjorie': 3651, 'mean': 3695, 'gayer': 2417, 'sexton': 5182, 'colossal': 1216, 'pissed': 4408, 'uh': 6251, 'funniest': 2370, 'radiator': 4700, \"fun's\": 2366, 'habitrail': 2623, 'barkeeps': 487, 'wikipedia': 6582, 'attitude': 390, 'undated': 6269, 'attach': 384, 'damage': 1465, 'found': 2297, 'marshmallow': 3658, 'shop': 5238, 'annie': 278, 'monkeyshines': 3846, 'tommy': 6097, 'device': 1597, 'church': 1125, 'young': 6754, 'starla:': 5619, 'warren': 6439, 'pugilist': 4636, 'unfresh': 6287, 'moe_recording:': 3833, 'involved': 3069, 'trusted': 6194, 'button': 876, 'saget': 5012, 'chief_wiggum:': 1079, 'bathed': 514, 'solely': 5470, 'inanely': 2978, 'miss': 3793, 'crayon': 1385, 'evils': 1988, 'whether': 6539, 'cleaner': 1148, 'babar': 430, \"phone's\": 4369, 'inside': 3027, 'willy': 6590, 'mumble': 3910, 'model': 3820, 'shtick': 5270, 'windex': 6597, 'carefully': 949, 'retain': 4874, 'sued': 5759, 'hounds': 2882, 'reasonable': 4769, 'mice': 3742, 'dog': 1692, 'hers': 2770, 'leans': 3359, 'hammer': 2642, 'squishee': 5592, 'nectar': 3981, 'delightfully': 1552, 'exchanged': 2002, 'sounds': 5509, 'movement': 3888, 'pets': 4358, 'coat': 1187, 'square': 5583, \"we've\": 6475, 'time': 6063, 'recent': 4775, 'emphasis': 1911, 'itself': 3099, 'unbelievable': 6264, 'guinea': 2598, 'promised': 4608, \"tv's\": 6215, 'facebook': 2053, 'suing': 5765, 'lobster-based': 3488, 'chapstick': 1032, 'belly-aching': 584, 'half': 2634, 'mrs': 3895, 'manage': 3629, \"g'ahead\": 2384, 'beanbag': 527, 'eighty-seven': 1883, 'faces': 2056, 'teach': 5900, 'sells': 5148, 'best': 596, 'worried': 6673, 'worked': 6663, 'seas': 5111, 'massage': 3666, 'single': 5316, 'contest': 1301, 'creme': 1394, 'princesses': 4576, 'bedridden': 547, 'unearth': 6280, 'breathless': 771, 'seem': 5131, 'barkeep': 486, 'dressed': 1755, 'rub-a-dub': 4960, 'reading:': 4759, 'boy': 739, 'desire': 1584, 'catholic': 981, 'luckily': 3561, 'hah': 2627, 'brainiac': 751, 'wasted': 6449, 'help': 2753, 'johnny': 3164, 'slobs': 5381, 'paper': 4263, 'felt': 2130, \"betsy'll\": 601, \"takin'\": 5864, 'shoots': 5237, 'wage': 6401, 'cost': 1332, 'radical': 4701, 'champs': 1022, 'dennis_conroy:': 1562, 'ron': 4936, 'quite': 4692, 'read': 4754, 'dinks': 1632, 'ninety-eight': 4035, 'aged': 166, 'kenny': 3222, 'selfish': 5145, 'pepsi': 4334, 'businessman_#2:': 867, 'measure': 3704, 'missing': 3796, 'results': 4873, 'lady-free': 3315, 'liability': 3405, 'gruesome': 2584, 'dipping': 1635, 'mount': 3880, 'hollywood': 2828, 'naively': 3946, 'serum': 5169, 'own': 4223, 'der': 1577, 'sat': 5041, 'yak': 6716, 'bothered': 716, 'ever': 1978, 'states': 5633, 'old-time': 4147, 'friends': 2337, 'prizefighters': 4585, 'combination': 1219, '7g': 49, 'finest': 2174, 'ticks': 6054, 'thumb': 6049, 'maman': 3619, 'stats': 5638, 'patriotic': 4296, 'tony': 6108, 'capitol': 935, 'dumptruck': 1811, 'confession': 1274, 'grand': 2540, 'seminar': 5152, 'business': 865, 'choke': 1100, 'accent': 97, 'following': 2252, 'if': 2953, 'background': 440, 'drink': 1759, 'make:': 3608, 'ohmygod': 4140, 'compels': 1245, 'alive': 214, 'lease': 3363, 'detective': 1592, 'crumble': 1421, 'mansions': 3640, 'and': 264, \"it'd\": 3090, 'william': 6587, 'hats': 2699, 'newsweek': 4016, \"dog's\": 1693, 'statesmanlike': 5634, 'bags': 453, 'feelings': 2120, 'where': 6536, 'aggravated': 174, 'instead': 3037, 'uh-oh': 6253, 'blossoming': 666, 'bobo': 681, 'blame': 640, 'tips': 6071, 'exultant': 2039, 'ideas': 2949, 'eighty-one': 1882, 'pin': 4397, 'sucker': 5751, '2nd_voice_on_transmitter:': 38, 'libido': 3410, 'jerks': 3142, 'dna': 1686, 'indignant': 2998, 'neighbors': 3993, 'deer': 1534, 'actors': 119, 'kwik-e-mart': 3302, 'kisser': 3264, 'america': 251, 'selma': 5149, \"stealin'\": 5649, 'breaking': 767, 'rickles': 4892, 'fit': 2196, 'philosophical': 4366, 'nerd': 4001, 'project': 4605, 'simp-sonnnn': 5300, 'jobs': 3157, 'ho-ly': 2813, 'nelson': 3997, 'faith': 2067, 'bannister': 470, 'closes': 1170, 'scientific': 5081, 'curiosity': 1439, 'stunned': 5737, 'stolen': 5686, 'blue': 673, 'throw': 6043, 'named': 3950, 'pretzels': 4566, 'wolfcastle': 6634, 'tomorrow': 6098, 'happier': 2671, \"'im\": 12, 'eggs': 1870, 'incognito': 2984, 'earrings': 1831, 'yammering': 6717, 'worldly': 6671, 'deadly': 1508, 'noose': 4059, 'equal': 1955, 'precious': 4532, 'murmurs': 3918, 'discuss': 1653, 'snap': 5425, 'gentle': 2429, 'life-sized': 3419, 'ivana': 3100, 'beloved': 587, 'stretch': 5718, 'hostages': 2873, 'sales': 5020, 'gifts': 2459, 'supply': 5787, 'what': 6516, 'training': 6147, 'self-satisfied': 5144, 'slight': 5374, 'tapestry': 5883, 'predecessor': 4533, 'comedy': 1225, 'parrot': 4274, 'men': 3722, 'corkscrews': 1322, 'since': 5306, \"jackpot's\": 3108, 'secrets': 5122, 'gin': 2467, 'milhouse': 3762, 'manatee': 3633, 'richer': 4891, 'traitor': 6148, 'mouse': 3882, 'western': 6507, 'plants': 4429, 'really': 4767, 'milhouse_van_houten:': 3763, 'cop': 1318, 'super': 5776, \"nick's\": 4023, 'winning': 6606, 'community': 1240, 'ear': 1827, 'dana_scully:': 1473, 'frogs': 2346, 'roller': 4929, 'nauseous': 3968, 'tyson/secretariat': 6243, 'mexican_duffman:': 3738, 'manager': 3631, 'kind': 3252, \"o'\": 4098, 'bar_rag:': 477, 'coughs': 1338, 'rump': 4977, 'm': 3575, 'dee-fense': 1530, 'delighted': 1550, 'open': 4175, 'female_inspector:': 2131, 'form': 2285, 'comfortable': 1227, 'delivery_boy:': 1554, 'fever': 2139, 'muslim': 3927, 'remote': 4835, 'imitating': 2964, 'break': 762, 'walther_hotenhoffer:': 6421, 'voyager': 6392, 'point': 4466, 'grudgingly': 2583, 'store-bought': 5698, 'courthouse': 1357, 'theater': 5977, 'jam': 3118, 'alcoholic': 205, 'worldview': 6672, 'shortcomings': 5243, 'gloop': 2487, 'twenty': 6226, 'frosty': 2350, 'counterfeit': 1344, 'impressed': 2972, \"plank's\": 4423, 'moesy': 3835, 'watching': 6455, 'gunter:': 2609, 'brought': 807, \"someone's\": 5481, 'alls': 226, 'canyoner-oooo': 930, 'ahhh': 188, 'carl:': 955, 'reunion': 4877, 'pickle': 4381, 'protecting': 4618, \"kid's\": 3236, 'pizzicato': 4414, 'tracks': 6138, 'fringe': 2340, \"disrobin'\": 1670, 'ehhhhhh': 1874, 'vulgar': 6393, 'county': 1350, 'champion': 1020, 'pushing': 4660, 'pantsless': 4260, 'settled': 5176, 'spectacular': 5534, 'chunk': 1123, 'art': 352, 'fayed': 2107, 'bones': 692, 'from': 2347, 'dizer': 1684, 'upsetting': 6318, 'championship': 1021, 'drummer': 1781, 'poorer': 4493, 'sensible': 5160, 'lingus': 3448, 'madison': 3588, 'friendship': 2338, \"soundin'\": 5508, \"thing's\": 6000, 'veux': 6361, 'sight': 5292, 'blaze': 643, 'zack': 6770, 'espn': 1963, 'hundreds': 2910, 'chained': 1013, 'games': 2399, 'new_health_inspector:': 4009, 'renee:': 4839, 'brothers': 806, 'knows': 3288, 'kickoff': 3233, 'terrible': 5943, 'hiya': 2805, 'gone': 2508, 'store': 5697, 'supermodel': 5784, 'appointment': 320, 'a': 74, 'sorts': 5502, 'micronesian': 3748, 'agree': 181, 'nevada': 4006, 'festival': 2138, 'full': 2358, 'renew': 4840, \"men's\": 3723, 'ron_howard:': 4937, 'alright': 235, 'located': 3491, 'mom': 3837, 'dice': 1605, 'beat': 534, 'wedding': 6487, 'emotion': 1909, 'othello': 4194, 'host': 2872, 'belts': 589, '_burns_heads:': 64, 'strawberry': 5714, 'neanderthal': 3973, 'husband': 2921, 'mostrar': 3873, \"who'll\": 6556, 'reactions': 4753, 'yard': 6719, 'nelson_muntz:': 3998, \"seein'\": 5128, 'scum': 5105, 'nascar': 3960, 'coney': 1272, 'passports': 4288, 'aid': 190, 'starters': 5624, 'unsanitary': 6305, 'skinheads': 5351, 'ashamed': 358, 'impending': 2968, 'michael_stipe:': 3744, 'tooth': 6113, 'program': 4602, 'you-need-man': 6753, 'fanciest': 2081, 'wasting': 6450, 'tense': 5936, 'erasers': 1958, 'toasting': 6078, 'bit': 630, 'hose': 2870, 'sweater': 5817, 'making': 3611, 'barn': 488, 'school': 5077, 'routine': 4953, 'bauer': 520, 'bachelorhood': 436, 'short': 5241, 'koholic': 3292, 'neighborhood': 3992, 'guts': 2613, 'remorseful': 4834, 'achebe': 108, 'moving': 3891, 'heave-ho': 2735, 'albeit': 202, 'trucks': 6190, 'tv': 6213, 'forgive': 2280, 'thorn': 6020, 'anger': 273, 'probably': 4587, 'superdad': 5780, 'merchants': 3729, 'himself': 2794, 'macgregor': 3583, 'dumbbell': 1807, 'dumbest': 1808, 'cheryl': 1070, 'rolls': 4931, 'man_at_bar:': 3626, 'laney': 3326, 'excited': 2003, 'sweaty': 5818, 'rainbows': 4717, 'avalanche': 406, 'bart_simpson:': 500, 'dating': 1494, 'morning-after': 3865, 'smug': 5416, 'absentminded': 89, 'winded': 6595, 'exactly': 1992, \"who's\": 6557, 'decency': 1520, 'kills': 3250, 'lemme': 3382, 'empty': 1915, 'collateral': 1208, 'frightened': 2339, 'squeal': 5585, 'feisty': 2123, \"makin'\": 3610, 'skirt': 5355, 'beginning': 570, 'fantastic': 2085, 'tons': 6107, 'nap': 3954, 'makes': 3609, 'cover': 1360, \"what'll\": 6518, 'cries': 1398, 'writers': 6696, 'vicious': 6362, 'baritone': 485, 'wildfever': 6585, '__left_parentheses__': 56, 'health_inspector:': 2720, 'disco': 1650, 'sobo': 5457, 'wobbly': 6631, 'period': 4344, 'bills': 622, 'museum': 3922, '100': 29, \"d'ya\": 1457, 'alley': 222, \"eatin'\": 1845, 'walther': 6420, 'profiling': 4601, 'calmly': 912, 'bronco': 799, 'flown': 2234, 'punches': 4648, 'brains': 752, 'ahead': 185, 'suit': 5766, \"lady's\": 3314, 'brawled': 760, 'supervising': 5786, 'forty-seven': 2294, 'musta': 3931, 'champignons': 1019, 'filth': 2165, 'youngsters': 6759, 'astronauts': 379, 'afterglow': 161, 'kid': 3235, 'sat-is-fac-tion': 5043, 'according': 104, 'gallon': 2393, 'helped': 2754, 'dangerous': 1477, '__dash__': 54, 'thought_bubble_lenny:': 6027, 'confidential': 1277, 'glasses': 2481, 'problem': 4588, \"number's\": 4090, 'smitty:': 5408, 'gamble': 2395, 'c': 889, 'proud': 4622, 'motto': 3879, 'carey': 951, 'upbeat': 6312, 'sausage': 5049, 'booking': 701, 'gets': 2446, 'ore': 4188, 'la': 3305, 'bubble': 814, 'colonel:': 1213, 'eyesore': 2047, 'personal': 4352, 'snotball': 5442, 'gals': 2394, 'coherent': 1200, 'points': 4471, 'washed': 6443, 'williams': 6588, 'thnord': 6018, 'jovial': 3175, 'mathis': 3672, 'alternative': 238, 'dr': 1734, 'outta': 4213, 'gift': 2457, 'charged': 1037, 'backing': 441, 'irish': 3075, 'drapes': 1741, 'comic': 1229, 'away': 414, 'shaggy': 5190, 'herself': 2771, 'shakes': 5193, 'front': 2348, 'list': 3460, 'her': 2763, 'squeals': 5586, 'oddest': 4120, 'average': 409, 'lucius:': 3558, 'boozehound': 707, 'gumbo': 2603, 'th': 5959, 'regretted': 4805, 'surgery': 5796, 'sometimes': 5490, 'blown': 670, 'disappear': 1643, 'together': 6085, 'knock': 3278, 'seen': 5134, \"i'm-so-stupid\": 2933, 'predictable': 4534, 'walked': 6412, 'ground': 2575, 'pulling': 4644, \"tree's\": 6164, 'north': 4066, 'dan_gillick:': 1472, 'klown': 3271, 'event': 1976, 'tonic': 6104, 'unjustly': 6297, 'lately': 3341, 'chocolate': 1095, 'than': 5962, 'carnival': 962, 'court': 1355, \"it's\": 3092, 'boxer': 734, 'failure': 2063, 'progress': 4603, 'candy': 925, 'mediterranean': 3714, 'ho': 2811, 'bear': 529, 'sturdy': 5741, 'spelling': 5538, \"she'd\": 5211, 'trick': 6173, 'signed': 5296, 'gasp': 2411, 'cheat': 1054, 'loneliness': 3500, 'bottomless': 720, 'bumped': 840, 'yoo': 6747, 'proves': 4625, 'shooting': 5236, 'stirrers': 5681, 'allowed': 225, 'dressing': 1756, 'rascals': 4735, 'snatch': 5429, 'barflies:': 484, \"buffalo's\": 824, 'awfully': 419, 'artie': 353, 'european': 1969, 'grunt': 2588, 'sniffing': 5435, 're-al': 4746, 'anonymous': 285, 'item': 3096, 'diets': 1616, 'ho-la': 2812, 'appropriate': 323, 'put': 4663, 'pinchpenny': 4399, 'kinda': 3253, 'confidentially': 1278, 'dealer': 1510, 'crotch': 1410, 'patty_bouvier:': 4305, 'owe': 4221, \"washin'\": 6445, \"'er\": 9, 'gift:': 2458, 'kramer': 3298, 'ã': 6779, 'backward': 442, 'broadway': 792, 'say': 5057, 'repeating': 4850, 'stop': 5694, 'entrance': 1951, 'manipulation': 3637, 'derisive': 1579, 'plant': 4427, 'mudflap': 3899, 'hafta': 2626, 'boneheaded': 691, 'motorcycle': 3878, 'video': 6366, 'holiday': 2824, 'emergency': 1907, 'barney_gumble:': 494, 'lance': 3321, 'incarcerated': 2980, 'perch': 4338, 'mountain': 3881, 'derek': 1578, 'fix': 2199, 'huge': 2900, 'buyer': 881, 'sticking': 5669, 'tv_announcer:': 6217, 'bastard': 513, 'inspiring': 3034, 'buddy': 821, 'savings': 5054, 'numeral': 4092, 'eurotrash': 1970, 'shred': 5264, 'old': 4146, 'improved': 2974, 'brine': 785, 'reopen': 4846, 'aggravazes': 175, 'test-lady': 5952, 'scram': 5091, 'moment': 3838, 'gotta': 2524, 'charming': 1043, 'supreme': 5793, 'yap': 6718, 'population': 4501, 'transmission': 6152, 'england': 1931, 'support': 5789, 'whoopi': 6565, 'pile': 4392, 'scully': 5104, 'blows': 671, '50-60': 44, \"when's\": 6533, 'op': 4174, 'prolonged': 4606, 'hexa-': 2772, 'dregs': 1753, 'fork': 2284, 'certificate': 1009, 'selection': 5138, 'information': 3010, 'jer': 3138, 'cleaned': 1147, 'calvin': 913, \"secret's\": 5121, 'fwooof': 2383, 'lotta': 3528, 'ura': 6319, 'eyeballs': 2043, 'freedom': 2321, 'our': 4204, 'enterprising': 1944, 'thomas': 6019, 'sideshow': 5286, 'log': 3497, 'student': 5732, 'slurred': 5390, 'presidential': 4550, 'jamaican': 3119, 'fierce': 2146, 'monroe': 3848, 'gary_chalmers:': 2408, 'remaining': 4825, 'selective': 5139, 'eliminate': 1896, 'kept': 3226, 'fat_tony:': 2097, 'continuing': 1303, 'steely-eyed': 5656, 'domestic': 1704, 'days': 1501, 'windelle': 6596, \"tomorrow's\": 6099, 'fountain': 2300, 'powers': 4522, 'zero': 6773, 'overhearing': 4217, 'sooo': 5498, 'ping-pong': 4401, 'spot': 5570, 'meals': 3694, \"ragin'\": 4711, 'deserve': 1580, 'apartment': 306, 'vin': 6372, 'wiggle-frowns': 6579, 'annoying': 282, 'carney': 961, 'tickets': 6053, 'normal': 4064, 'bret:': 774, 'grateful': 2548, 'robin': 4921, 'envy-tations': 1954, 'influence': 3007, '/': 26, 'voicemail': 6385, \"mtv's\": 3897, 'cheery': 1066, \"hobo's\": 2817, 'royal': 4956, 'disdainful': 1655, 'arse': 351, \"he'd\": 2710, 'homie': 2842, 'enlightened': 1940, 'pine': 4400, 'through': 6042, 'alma': 227, 'fica': 2142, 'hot-rod': 2877, 'undies': 6279, 'awkwardly': 421, 'dollar': 1699, 'harm': 2683, 'source': 5513, 'fools': 2262, 'groin': 2573, 'hops': 2862, 'horns': 2863, 'fat-free': 2095, 'quotes': 4693, 'exciting': 2005, 'securities': 5124, 'brother': 803, 'y-you': 6713, 'surprised/thrilled': 5799, 'medical': 3710, 'give': 2474, 'lear': 3360, 'celebrate': 994, \"bringin'\": 787, 'videotaped': 6367, 'vance': 6344, 'thank': 5963, 'spine': 5548, 'favor': 2105, 'beings': 576, 'lugs': 3563, 'laugh': 3345, 'kazoo': 3211, 'tummies': 6204, 'offer': 4128, 'donuts': 1717, 'last': 3339, 'tax': 5896, 'work': 6662, 'son-of-a': 5494, 'motel': 3874, 'h': 2619, 'judgments': 3183, 'housing': 2889, 'ratted': 4745, 'recorder': 4784, 'assistant': 372, 'milks': 3768, 'scrubbing': 5100, 'i-i': 2936, 'hat': 2693, 'omit': 4154, \"stabbin'\": 5595, '-ry': 25, 'endorse': 1922, 'incredulous': 2988, 'femininity': 2133, 'thanking': 5965, 'noble': 4044, 'manjula_nahasapeemapetilon:': 3639, \"can't-believe-how-bald-he-is\": 921, 'arts': 356, 'hell': 2748, 'filthy': 2166, 'hawking:': 2707, 'rid': 4893, 'repay': 4848, 'navy': 3970, 'resenting': 4860, 'overturned': 4219, 'billiard': 619, 'bar': 473, 'oof': 4168, 'lungs': 3566, 'direction': 1636, 'killer': 3247, 'icy': 2943, 'hmm': 2808, 'way': 6463, 'mixed': 3805, 'besides': 595, 'gargoyle': 2405, 'peppy': 4333, 'sneaky': 5431, 'prompting': 4610, 'gutenberg': 2612, \"o'clock\": 4099, 'bob': 680, 'pageant': 4237, 'pronounce': 4611, 'officials': 4132, \"shootin'\": 5235, 'renovations': 4842, 'replaced': 4852, 'after': 160, 'original': 4192, \"'round\": 19, 'wanted': 6428, 'wenceslas': 6502, 'legally': 3377, 'hub': 2896, 'groveling': 2577, 'sees': 5135, 'ehhhhhhhh': 1875, 'lucinda': 3556, 'science': 5080, 'tv_wife:': 6221, 'follow': 2250, 'world-class': 6670, 'plotz': 4451, 'lime': 3437, 'guard': 2590, 'hitchhike': 2802, 'stagy': 5601, 'pulls': 4645, 'pointy': 4472, 'born': 711, 'clearing': 1152, 'meant': 3702, 'one': 4158, 'principal': 4577, 'hurting': 2919, 'cheers': 1065, 'self-centered': 5141, 'trainers': 6146, 'studied': 5733, 'snitch': 5439, 'popular': 4500, 'pal': 4250, 'rash': 4736, 'sang': 5030, 'needs': 3986, 'insecure': 3023, 'manfred': 3636, 'tee': 5912, 'helen': 2745, 'helping': 2756, 'renee': 4837, 'braun:': 758, 'boggs': 683, 'kent_brockman:': 3224, 'neighboreeno': 3991, 'slip': 5377, 'johnny_carson:': 3165, 'specializes': 5529, 'wobble': 6630, 'tender': 5934, 'scared': 5065, 'bret': 773, \"can'tcha\": 922, 'date': 1491, 'gimmicks': 2466, 'enveloped': 1952, 'startup': 5629, 'wrestle': 6692, 'computer_voice_2:': 1262, 'chubby': 1113, 'yours': 6761, 'plain': 4418, 'kirk_van_houten:': 3260, 'demand': 1557, 'orifice': 4191, 'wok': 6633, 'tenor:': 5935, 'unfair': 6283, \"he'll\": 2711, 'moe-lennium': 3830, 'anybody': 297, 'floating': 2228, 'awed': 416, \"raggin'\": 4710, 'better': 602, 'y': 6709, 'escort': 1961, 'grabbing': 2529, 'pilsner-pusher': 4396, 'alarm': 201, 'buttocks': 875, 'searching': 5110, 'impeach': 2967, 'propose': 4615, 'soot': 5499, 'beef': 551, 'lay': 3354, 'heh': 2742, 'subscriptions': 5745, 'rueful': 4965, 'totalitarians': 6120, 'happily:': 2673, 'index': 2993, 'u2:': 6245, 'march': 3643, 'mortal': 3868, 'chief': 1078, 'bedtime': 549, 'joey_kramer:': 3161, 'putting': 4666, 'padre': 4234, 'convenient': 1308, 'mccarthy': 3687, 'presidents': 4551, 'pig': 4389, 'code': 1197, 'wordloaf': 6659, 'grade': 2532, 'all-all-all': 217, 'thing': 5999, 'ordered': 4186, 'hollowed-out': 2826, 'relaxed': 4812, 'mr': 3894, 'wells': 6501, 'off': 4123, 'jebediah': 3132, \"they'd\": 5994, 'rancid': 4731, 'hottest': 2881, 'elves:': 1903, \"should've\": 5248, 'charlie': 1040, 'gore': 2518, 'pridesters:': 4571, 'orphan': 4193, 'rent': 4843, 'neck': 3979, \"nothin'\": 4073, 'homeland': 2831, 'matter': 3673, 'pancakes': 4254, 'clenched': 1156, 'no': 4042, 'broom': 802, 'typing': 6242, 'advertise': 145, 'due': 1791, 'snide': 5434, 'irs': 3080, 'kidnaps': 3239, 'tired': 6074, 'pause': 4306, 'sobbing': 5455, 'shape': 5200, 'carny:': 963, 'shush': 5271, 'catch-phrase': 979, 'hilarious': 2789, 'crowbar': 1412, 'degradation': 1539, 'brown': 809, 'in': 2975, 'data': 1490, 'broken': 797, 'goes': 2500, 'fondly': 2255, 'chin': 1087, 'bulldozing': 832, 'top': 6115, 'ingredient': 3014, 'die-hard': 1612, 'reads': 4760, 'hugh': 2902, 'simplest': 5302, 'genuinely': 2435, 'hanh': 2664, 'polite': 4483, 'dignity': 1623, 'sixty-nine': 5343, 'teddy': 5911, 'mt': 3896, 'magic': 3595, 'change': 1024, 'sissy': 5325, 'cards': 945, 'agnes_skinner:': 179, 'reconsidering': 4781, 'vengeance': 6349, 'perfected': 4340, 'astronaut': 378, 'pay': 4308, 'contented': 1300, 'ding-a-ding-ding-ding-ding-ding-ding': 1630, 'suspicious': 5807, 'lard': 3332, 'world': 6668, 'territorial': 5947, 'befriend': 565, 'remembers': 4830, 'calm': 911, 'padres': 4235, 'glum': 2491, 'handwriting': 2656, 'exhibit': 2012, '__period__': 57, 'wuss': 6703, 'yello': 6732, 'piano': 4377, 'for': 2267, 'caper': 933, 'clinton': 1162, 'rub': 4959, 'texas': 5957, \"toot's\": 6112, 'lincoln': 3441, 'waltz': 6422, \"bart's\": 499, 'cartoons': 967, 'department': 1568, 'join': 3166, 'frazier': 2315, 'sugar-me-do': 5763, 'choked': 1101, 'dearest': 1516, 'teacher': 5901, 'somewhere': 5491, 'stools': 5693, 'african': 158, 'frozen': 2351, 'hemorrhage-amundo': 2760, 'arimasen': 338, 'urge': 6321, 'abandon': 80, 'covers': 1362, 'sassy': 5040, 'tigers': 6059, 'shaking': 5195, 'wood': 6652, 'aww': 422, 'highway': 2787, 'pleasant': 4444, 'extended': 2033, 'intoxicants': 3056, 'preparation': 4541, 'gentles': 2433, 'invite': 3067, 'yellow': 6733, 'wrong': 6700, 'stomach': 5687, 'dean': 1514, 'reaches': 4750, 'stan': 5610, 'acceptance': 99, 'fixes': 2201, 'virtual': 6378, 'defensive': 1537, 'attracted': 391, 'special': 5527, 'chinese_restaurateur:': 1089, 'right': 4901, 'scent': 5070, 'superhero': 5781, 'thawing': 5972, 'kool': 3295, 'drank': 1740, 'pad': 4233, 'applicant': 317, 'eaters': 1844, 'send': 5157, 'wazoo': 6470, 'gabriel': 2388, 'spied': 5545, 'roomy': 4942, 'sedaris': 5125, 'nigerian': 4028, 'caused': 988, 'boxcars': 733, 'foibles': 2245, 'dreamed': 1747, 'fragile': 2308, 'stein-stengel-': 5657, 'must': 3929, 'puffy': 4635, 'load': 3481, 'airport': 197, 'unkempt': 6298, 'coins': 1204, 'suspended': 5805, 'photographer': 4372, 'value': 6340, 'may': 3678, \"lovers'\": 3547, 'badmouths': 450, 'ripping': 4912, 'warning': 6437, 'legoland': 3379, 'mayor': 3683, 'cowardly': 1365, 'presses': 4553, 'spreads': 5575, 'proposing': 4616, 'stewart': 5665, 'magnanimous': 3596, 'mags': 3597, 'looting': 3515, 'mamma': 3620, 'sea': 5107, 'eu': 1968, 'begins': 571, 'ken:': 3220, 'remains': 4826, 'drinker': 1760, 'laughter': 3348, \"callin'\": 908, 'unable': 6260, 'pants': 4259, 'b-day': 429, 'sequel': 5165, 'bigger': 613, 'cricket': 1397, 'nothing': 4075, 'the_edge:': 5974, 'gator': 2413, 'homer': 2833, 'said': 5013, 'hardwood': 2680, 'mike': 3758, 'raging': 4712, 'grab': 2528, 'grave': 2549, 'sleep': 5367, 'louder': 3533, 'mortgage': 3869, 'coupon': 1352, 'hardhat': 2679, 'geyser': 2451, 'corporate': 1325, 'faulkner': 2102, 'nonsense': 4056, 'chub': 1112, 'throats': 6041, 'mailbox': 3602, 'penny': 4327, 'second': 5118, 'vote': 6389, 'rainier_wolfcastle:': 4720, \"spaghetti-o's\": 5520, \"here's\": 2765, 'spender': 5540, 'huhza': 2905, 'filed': 2160, 'mabel': 3579, 'next': 4017, 'name': 3948, \"wasn't\": 6447, 'railroad': 4714, 'drunks': 1785, 'poor': 4492, 'whatever': 6526, 'hippies': 2795, \"cat's\": 977, 'swan': 5812, \"fine-lookin'\": 2173, 'combines': 1221, 'foot': 2263, 'quit': 4690, 'stacey': 5596, 'urinal': 6322, 'managing': 3632, 'shores': 5240, 'fleabag': 2220, 'allowance': 224, 'yuh-huh': 6768, 'wheel': 6530, 'polls': 4487, 'modern': 3821, 'drawing': 1745, 'ya': 6714, 'here': 2764, 'cushion': 1443, 'kidding': 3238, 'certain': 1007, 'dashes': 1489, 'back': 437, 'protestantism': 4619, 'contemplates': 1297, 'craphole': 1379, 'items': 3097, 'recorded': 4783, 'phone': 4368, 'ones': 4161, 'talkers': 5871, 'fighter': 2151, 'roses': 4945, 'bunch': 843, 'nah': 3942, 'onions': 4163, 'bike': 615, 'price': 4567, 'refill': 4794, 'whistling': 6551, 'harrowing': 2685, 'guff': 2594, \"'kay-zugg'\": 13, 'sadistic_barfly:': 5002, 'only': 4165, 'earlier': 1828, 'meyerhof': 3740, 'swimmers': 5831, 'highest': 2786, \"sayin'\": 5058, 'understood:': 6277, 'oooo': 4172, 'excitement': 2004, 'life-threatening': 3420, 'cab': 893, 'roach': 4916, \"livin'\": 3476, 'public': 4629, 'wally': 6418, 'sponge:': 5562, 'cheerier': 1061, 'close': 1167, '35': 40, 'gestated': 2441, 'during': 1814, \"team's\": 5904, 'papa': 4261, 'lushmore': 3571, 'uneasy': 6281, 'uh-huh': 6252, 'perfect': 4339, 'bus': 861, 'schabadoo': 5071, 'planet': 4422, 'girls': 2473, 'lurleen': 3568, 'imaginary': 2962, 'fridge': 2332, 'enthusiastically': 1948, 'upn': 6315, 'therapy': 5987, 'allow': 223, 'ultimate': 6255, 'tolerance': 6092, 'musical': 3925, 'saving': 5053, 'birthday': 628, 'louisiana': 3536, 'maude': 3675, \"clancy's\": 1140, 'lovelorn': 3543, 'developed': 1596, \"depressin'\": 1574, 'phasing': 4363, 'reluctantly': 4822, 'bindle': 624, 'damn': 1469, 'terminated': 5941, 'yelp': 6736, 'growing': 2579, 'links': 3450, \"choosin'\": 1105, 'start': 5622, 'squeeze': 5587, 'donor': 1714, 'show-off': 5257, 'stevie': 5664, 'poulet': 4514, 'sniffles': 5436, 'oughtta': 4203, 'ech': 1849, 'actor': 118, 'naegle': 3940, 'runners': 4980, \"what'sa\": 6521, 'bucks': 818, 'quimbys:': 4689, 'slit': 5379, 'soul': 5504, 'cases': 970, 'eyeing': 2045, 'pointing': 4469, 'tv_husband:': 6220, 'bono:': 695, 'customer': 1445, 'donut': 1715, 'all': 216, 'flatly': 2217, 'discriminate': 1652, 'judge': 3180, \"enjoyin'\": 1938, 'municipal': 3912, 'bloodiest': 665, 'quietly': 4686, 'ninety-six': 4038, 'peach': 4317, 'swamp': 5811, 'concerned': 1266, 'option': 4182, 'fortune': 2290, 'sack': 4997, 'outstanding': 4212, 'puke': 4637, 'whiny': 6544, 'angrily': 274, \"homer'll\": 2834, 'stalking': 5605, 'civic': 1135, 'strategy': 5713, 'bed': 545, 'compete': 1246, 'milhouses': 3764, 'always': 241, 'bashir': 511, 'fry': 2354, 'inclination': 2982, 'deep': 1531, 'irishman': 3076, 'maintenance': 3603, 'desperate': 1585, 'twelve': 6222, 'zinged': 6776, 'lanes': 3325, 'machine': 3584, \"isn't\": 3085, 'served': 5171, 'thrown': 6045, 'dead': 1507, 'exits': 2015, 'looking': 3511, '1979': 34, 'criminal': 1401, 'sixteen': 5340, 'kinds': 3256, 'shoulda': 5249, 'begin': 569, 'be-stainã¨d': 522, 'stengel': 5659, 'contemptuous': 1299, 'enhance': 1935, 'calendars': 903, 'mary': 3662, 'complaining': 1249, 'ehhhhhhhhh': 1876, 'nemo': 3999, 'plane': 4421, 'lurleen_lumpkin:': 3569, 'meatpies': 3706, 'ding-a-ding-ding-a-ding-ding': 1629, 'reminded': 4831, 'kissing': 3266, 'standards': 5612, 'fat': 2094, 'lonely': 3501, 'pitch': 4410, 'affectations': 151, 'who-o-oa': 6558, 'sponsoring': 5564, 'whaaaa': 6511, 'hears': 2725, 'so-ng': 5448, 'week': 6489, 'aw': 411, 'tow-joes': 6129, 'spare': 5523, 'taylor': 5899, 'books': 702, 'trip': 6176, 'less': 3396, 'smurfs': 5419, 'low-life': 3551, 'crime': 1399, \"school's\": 5078, 'professor_jonathan_frink:': 4600, 'sitar': 5331, 'extract': 2036, 'pian-ee': 4376, 'intruding': 3061, 'lucius': 3557, 'drunkening': 1783, 'luckiest': 3560, 'meaning': 3697, 'hairs': 2632, 'sanitary': 5032, 'alien': 213, 'hotenhoffer': 2879, 'miserable': 3791, 'tiger': 6058, 'slot': 5386, 'capitalists': 934, 'booth': 703, 'eco-fraud': 1850, '91': 51, 'stirring': 5682, 'hoped': 2859, 'smugglers': 5418, 'coast': 1184, 'craft': 1375, 'moonshine': 3859, 'excellent': 1998, 'sympathizer': 5841, 'easily': 1836, 'history': 2800, 'pronto': 4612, 'per': 4336, 'stationery': 5636, 'sass': 5039, 'heliotrope': 2747, 'scary': 5067, 'declared': 1529, 'twenty-six': 6230, 'saved': 5052, 'divorced': 1683, 'carll': 957, 'cheered': 1060, 'scooter': 5084, 'fondest': 2254, 'network': 4005, 'jacques:': 3114, 'denver': 1566, 'reentering': 4790, 'inspired': 3033, 'weep': 6493, \"aristotle's\": 340, 'gums': 2604, 'storms': 5702, 'hilton': 2792, 'guiltily': 2597, 'disaster': 1649, 'andy': 271, 'horrified': 2866, 'rome': 4935, 'pen': 4324, 'alec_baldwin:': 208, 'pretends': 4560, 'not': 4070, 'most': 3870, 'sprawl': 5573, \"beer's\": 557, 'three': 6036, 'leg': 3375, 'thinks': 6006, \"writin'\": 6697, 'plywood': 4458, 'killed': 3246, 'runs': 4982, 'conclude': 1267, 'health': 2719, 'even': 1974, 'do': 1687, 'came': 914, 'folk': 2248, 'hygienically': 2926, \"daughter's\": 1496, 'nose': 4069, 'suave': 5742, 'safer': 5007, 'mimes': 3771, 'innocent': 3020, 'dad': 1459, \"brady's\": 745, 'reptile': 4858, \"floatin'\": 2227, 'thinking': 6005, 'peaked': 4318, 'multi-purpose': 3908, 'geysir': 2452, 'badge': 446, 'site': 5333, 'reality': 4763, 'detail': 1590, 'mm': 3806, 'changes': 1026, 'assume': 374, 'greatly': 2555, 'doug:': 1729, 'e-z': 1824, 'tonight': 6105, 'patting': 4303, 'polishing': 4482, 'light': 3428, \"countin'\": 1345, 'chumbawamba': 1122, 'rig': 4899, 'snorts': 5441, 'wear': 6480, 'chicks': 1077, 'elaborate': 1889, \"money's\": 3844, \"haven't\": 2701, 'quarter': 4674, 'tanking': 5878, 'marmaduke': 3653, 'shaky': 5196, 'intention': 3047, 'cockroaches': 1193, 'bee': 550, 'k-zug': 3202, 'joke': 3170, 'trash': 6156, 'pair': 4248, 'businessman_#1:': 866, 'cocks': 1194, 'declan': 1526, 'lenford': 3386, 'transylvania': 6153, 'complicated': 1254, 'skunk': 5357, 'fifth': 2148, 'effect': 1864, 'friction': 2330, 'pointedly': 4468, 'statistician': 5637, 'placing': 4417, 'moolah-stealing': 3854, 'reliable': 4817, 'drinking:': 1763, 'bash': 510, 'mic': 3741, 'out': 4206, 'ten': 5933, 'cup': 1434, 'winces': 6592, 'forever': 2275, 'clearly': 1153, 'hate-hugs': 2695, 'suck': 5749, 'blood': 661, 'needed': 3985, 'customers': 1446, 'lurks': 3567, 'travel': 6158, 'stu': 5730, 'scanning': 5063, 'hide': 2778, 'meaningless': 3700, 'hugh:': 2903, \"who'da\": 6555, 'tv-station_announcer:': 6216, 'ask': 361, 'announcer:': 280, 'syrup': 5846, 'self': 5140, 'sad': 5000, \"squeezin'\": 5589, 'taking': 5865, 'labels': 3307, 'pee': 4321, 'aidens': 192, 'infor': 3008, \"i-i'll\": 2937, 'chance': 1023, 'terrace': 5942, 'j': 3104, 'brightening': 783, 'nasty': 3962, 'rotten': 4948, \"santa's\": 5035, 'cage': 897, 'assert': 370, 'parasol': 4266, \"ain't\": 195, 'contemporary': 1298, 'hateful': 2697, 'late': 3340, 'almost': 229, 'listening': 3464, 'seven': 5179, 'heavens': 2737, 'reporter': 4853, 'sudoku': 5756, 'delicately': 1548, 'pre-recorded': 4531, 'spews': 5544, 'kids': 3242, 'steel': 5655, '3rd_voice:': 41, 'joy': 3176, 'retired': 4875, 'today': 6080, 'asleep': 366, 'writing': 6698, 'thirty-three': 6014, 'lovely': 3544, 'brandy': 755, 'village': 6370, 'helicopter': 2746, 'sweetheart': 5823, 'recreate': 4785, 'shaken': 5191, 'mail': 3601, 'famous': 2079, 'enforced': 1929, 'risquã©': 4913, 'hoping': 2861, '__comma__': 53, 'wins': 6609, 'ned': 3982, \"i'd'a\": 2930, 'yourselves': 6764, 'too': 6110, 'limericks': 3438, 'prepared': 4542, 'mayor_joe_quimby:': 3684, 't-shirt': 5849, 'chastity': 1046, 'very': 6358, 'lifestyle': 3422, 'gunk': 2606, 'ruuuule': 4989, 'ninety-seven': 4037, 'maya': 3679, 'buddha': 819, 'nuts': 4095, 'grampa': 2538, 'disposal': 1669, 'fustigation': 2380, 'chicken': 1076, 'explain': 2025, 'plans': 4426, 'hare-brained': 2682, 'schmoe': 5075, 'betrayed': 599, 'noooooooooo': 4058, 'wang': 6423, 'shocked': 5230, 'gear-head': 2418, 'gags': 2391, 'interrupting': 3052, 'faiths': 2068, \"man'd\": 3622, 'hole': 2822, 'mel': 3717, 'tropical': 6182, '_powers:': 71, 'disturbance': 1677, 'sister': 5326, 'painting': 4245, 'touchdown': 6123, 'chain': 1012, 'movies': 3890, 'answers': 290, 'sometime': 5489, 'helllp': 2751, \"it'll\": 3091, 'high-definition': 2782, 'ah': 183, 'minimum': 3779, 'wings': 6603, 'mustard': 3932, 'au': 396, 'freaking': 2317, \"something's\": 5487, 'because': 543, 'moved': 3887, \"kiddin'\": 3237, 'hours': 2885, 'demo': 1558, 'chic': 1074, \"homer's\": 2835, 'wallet': 6416, 'genius': 2428, 'message': 3731, 'does': 1690, 'pas': 4282, 'burn': 850, 'key': 3228, 'please': 4445, 'sexy': 5184, 'possessions': 4508, 'hostile': 2874, 'comment': 1234, 'law-abiding': 3351, 'politics': 4486, 'poster': 4511, 'presently': 4545, 'necessary': 3978, 'vacation': 6334, 'spending': 5541, 'pictured': 4387, 'hall': 2639, 'wiggle': 6578, 'license': 3412, 'patron_#2:': 4298, 'accident': 102, 'starving': 5631, 'artie_ziff:': 354, 'reached': 4749, 'jeers': 3133, 'pews': 4359, 'nfl_narrator:': 4018, '10:15': 30, 'itchy': 3095, 'bump': 839, 'gin-slingers': 2468, 'mommy': 3840, 'betty:': 604, 'young_barfly:': 6755, 'bees': 562, 'strips': 5724, 'drunkenly': 1784, 'maya:': 3680, 'menacing': 3726, 'infestation': 3004, 'non-losers': 4052, 'ass': 367, 'ref': 4791, 'heals': 2718, 'spacey': 5519, 'hope': 2858, 'stalin': 5604, 'moonlight': 3857, 'carpet': 965, 'lizard': 3478, 'limited': 3439, 'couch': 1336, 'just': 3197, 'lookalike': 3506, 'mariah': 3650, 'pond': 4489, 'allegiance': 221, 'afraid': 156, 'football_announcer:': 2266, 'woman_bystander:': 6640, 'ew': 1989, 'haws': 2708, 'crowds': 1416, 'sketch': 5347, 'madman': 3589, 'return': 4876, 'publishers': 4632, 'teeth': 5918, 'ling': 3447, 'bet': 597, 'expression': 2031, 'cheaper': 1052, 'fault': 2103, 'rain': 4716, 'cocoa': 1196, 'homer_doubles:': 2838, 'simultaneous': 5305, 'wizard': 6629, 'moans': 3814, 'riding': 4897, 'lighting': 3431, 'rewound': 4882, 'priest': 4572, \"s'okay\": 4992, 'spend': 5539, 'wittgenstein': 6627, 'incriminating': 2989, 'amazed': 244, \"'cause\": 5, 'dignified': 1622, \"duelin'\": 1793, 'eighty-five': 1881, 'separator': 5164, 'decide': 1522, 'bitter': 634, 'showed': 5258, 'eight-year-old': 1878, 'hero': 2767, 'displeased': 1668, \"o'reilly\": 4101, \"treatin'\": 6161, 'woulda': 6680, 'old_jewish_man:': 4148, 'windshield': 6600, 'sec': 5115, 'name:': 3949, 'wears': 6483, 'minister': 3780, 'dramatic': 1738, 'conversations': 1310, 'hates': 2698, 'payments': 4313, 'crew': 1396, 'barbara': 478, 'birth': 627, 'transfer': 6151, 'mug': 3902, 'tried': 6174, 'troy_mcclure:': 6187, 'diamond': 1602, 'pre-columbian': 4529, 'smiles': 5405, 'feast': 2112, 'pocket': 4459, 'their': 5979, 'whatchacallit': 6524, 'boxcar': 732, 'eddie:': 1853, 'trivia': 6179, 'negative': 3988, 'known': 3287, 'gees': 2420, 'twerpy': 6232, 'oblongata': 4106, \"tramp's\": 6150, 'seat': 5113, 'jacksons': 3112, \"town's\": 6134, 'coms': 1263, 'night': 4029, 'hoax': 2815, 'said:': 5014, 'jar': 3125, 'grimly': 2566, 'smart': 5397, 'familiar': 2075, \"smokin'\": 5412, 'moxie': 3892, \"jimbo's_dad:\": 3153, 'beatings': 536, 'hourly': 2884, 'neighbor': 3989, 'gold': 2504, 'left': 3372, 'stocking': 5684, \"round's\": 4951, 'carve': 968, 'skinner': 5352, \"england's\": 1932, \"football's\": 2265, 'enabling': 1916, \"spiffin'\": 5546, 'quiet': 4685, 'song': 5495, 'jack': 3105, 'norway': 4067, 'dum-dum': 1803, 'vodka': 6381, 'rob': 4918, 'fdic': 2110, 'nickels': 4025, 'yet': 6741, 'cappuccino': 936, 'product': 4595, 'morose': 3867, 'ancestors': 262, \"renovatin'\": 4841, 'error': 1959, 'completely': 1252, 'feed': 2115, 'errrrrrr': 1960, 'shreda': 5265, 'distaste': 1672, 'cruel': 1418, 'correct': 1328, 'blocked': 659, 'yeah': 6724, 'guy': 2615, 'moe': 3824, 'club': 1179, 'monday': 3842, 'bursts': 857, 'beam': 526, 'expired': 2024, 'frustrated': 2353, \"goin'\": 2501, 'crimes': 1400, 'toys': 6137, 'toilet': 6087, \"boy's\": 740, 'chapter': 1033, 'indicates': 2994, 'over-pronouncing': 4215, 'un-sults': 6259, 'capuchin': 939, \"you'll\": 6750, 'golf': 2507, 'vengeful': 6350, 'nigeria': 4027, 'ha': 2620, 'microwave': 3750, 'muhammad': 3904, 'local': 3490, 'curious': 1440, 'shill': 5225, 'legal': 3376, 'odor': 4121, 'bouquet': 724, 'nibble': 4019, 'plum': 4455, 'ab': 79, 'obsessive-compulsive': 4107, 'volunteer': 6386, 'lie': 3413, 'changed': 1025, 'troy': 6185, \"maggie's\": 3594, 'ugh': 6246, 'moustache': 3883, 'photos': 4373, 'these': 5992, 'sounded': 5507, 'giggles': 2462, 'buffet': 825, 'pulitzer': 4640, 'taunting': 5894, 'barf': 482, 'beer:': 560, 'harvard': 2688, 'glowers': 2490, 'buried': 849, 'life:': 3421, 'night-crawlers': 4030, 'sunk': 5774, 'miss_lois_pennycandy:': 3794, 'energy': 1928, \"today's\": 6081, \"spyin'\": 5579, 'bounced': 723, 'stab': 5594, 'occupancy': 4111, 'boozer': 708, 'castle': 974, 'foam': 2242, 'nerve': 4002, 'problems': 4590, 'flower': 2232, 'crony': 1406, 'jã¤germeister': 3200, 'strong': 5727, \"how're\": 2892, 'mmmm': 3810, 'weirder': 6497, 'faint': 2064, 'wacky': 6398, 'look': 3505, 'continuum': 1304, 'wayne': 6467, 'coy': 1368, 'majesty': 3605, \"tellin'\": 5924, 'washer': 6444, 'crayola': 1384, \"mecca's\": 3707, 'grammar': 2535, 'hunger': 2911, 'suicide': 5764, 'weak': 6477, 'protesters': 4620, 'doy': 1732, 'older': 4149, 'flourish': 2231, 'koi': 3293, 'bright': 782, 'outlive': 4207, 'compromise:': 1260, 'someone': 5480, 'title': 6075, 'birthplace': 629, 'thought_bubble_homer:': 6026, 'mini-dumpsters': 3778, \"let's\": 3400, 'charter': 1044, 'quick': 4682, \"ol'\": 4145, 'my': 3934, 'stars': 5621, 'slays': 5365, 'clientele': 1159, 'donation': 1711, 'ecru': 1851, 'committing': 1238, 'fund': 2367, 'fury': 2377, 'lousy': 3538, \"readin'\": 4757, 'pumping': 4646, 'mill': 3769, 'arise': 339, 'correcting': 1329, 'poison': 4473, 'stripe': 5722, 'romance': 4933, 'xx': 6708, 'lotsa': 3527, 'especially': 1962, 'stern': 5662, \"askin'\": 363, 'worth': 6677, 'southern': 5515, 'captain:': 938, 'a-a-b-b-a': 75, 'portfolium': 4504, 'whip': 6545, 'prohibit': 4604, 'idiot': 2951, 'snackie': 5420, 'reaching': 4751, 'knocks': 3282, 'anthony_kiedis:': 291, 'refreshment': 4800, 'buy': 880, 'lou': 3530, 'score': 5085, 'presto:': 4556, 'smile:': 5403, 'watched': 6453, 'fair': 2066, 'enemy': 1927, 'amount': 258, 'badly': 448, 'fink': 2180, 'options': 4183, 'state': 5632, 'insured': 3043, 'whatsit': 6527, 'de-scramble': 1504, 'decided': 1524, 'puke-holes': 4638, 'incredible': 2987, 'strictly': 5720, 'stood': 5690, 'compliments': 1256, \"shouldn't\": 5252, 'times': 6065, 'edison': 1857, 'flexible': 2224, 'bow': 726, 'manjula': 3638, 'internet': 3051, 'lock': 3492, \"won't\": 6644, 'typed': 6241, 'spit': 5552, 'boisterous': 684, 'cajun': 899, 'horses': 2869, 'pantry': 4258, 'souvenir': 5516, 'brunch': 811, 'deli': 1544, 'design': 1581, 'pirate': 4407, 'perverted': 4354, 'sighs': 5291, 'delays': 1542, 'burp': 855, 'silence': 5297, 'higher': 2785, 'cockroach': 1192, 'payday': 4310, 'statue': 5639, 'bar:': 476, 'technical': 5910, 'checks': 1058, 'lap': 3330, 'hootie': 2856, 'nash': 3961, 'when': 6532, 'generous': 2426, 'disappointment': 1647, 'short_man:': 5242, 'helps': 2758, 'stayed': 5643, 'tha': 5961, 'fixed': 2200, 'st': 5593, 'strategizing': 5712, 'swelling': 5827, 'lachrymose': 3309, 'save': 5051, 'sits': 5334, 'nice': 4020, 'themselves': 5982, 'insurance': 3042, 'package': 4231, 'team': 5903, \"rustlin'\": 4986, 'news': 4012, 'otherwise': 4200, 'senator': 5154, 'loved': 3541, \"didn't\": 1610, 'million': 3770, 'hunting': 2916, 'admiring': 134, 'gregor': 2558, 'intervention': 3053, 'frankly': 2312, 'service': 5172, 'into': 3055, 'plastic': 4432, 'month': 3851, \"valentine's\": 6337, 'pro': 4586, 'bart': 497, 'pitcher': 4411, 'savvy': 5055, 'wh': 6508, 'shhh': 5223, 'dance': 1474, 'sub-monkeys': 5743, 'cutting': 1452, 'l': 3304, 'loser': 3520, 'real': 4762, 'jubilant': 3178, 'believe': 579, 'nor': 4062, 'aerospace': 150, 'fledgling': 2221, 'pretentious_rat_lover:': 4561, 'became': 542, 'denser': 1564, 'keeping': 3215, 'corner': 1324, 'relieved': 4818, 'cameras': 916, 'nurse': 4093, 'vampires': 6342, 'napkins': 3955, 'clammy': 1138, 'row': 4954, 'perã³n': 4355, 'brick': 776, 'shipment': 5227, 'dutch': 1815, 'buttons': 878, 'collapse': 1207, 'underbridge': 6271, 'clown-like': 1178, 'intoxicated': 3057, 'six': 5338, 'pigtown': 4391, 'fool': 2260, \"that's\": 5971, 'had': 2624, '530': 45, 'united': 6295, 'jams': 3121, 'weather': 6485, 'relaxing': 4813, \"d'\": 1456, 'raggie': 4709, 'innocence': 3019, 'sober': 5456, 'pizza': 4413, 'names': 3952, 'survive': 5802, 'elizabeth': 1898, 'awww': 423, 'backwards': 443, 'mexican': 3737, 'hispanic_crowd:': 2799, 'pills': 4395, 'dang': 1476, 'rush': 4985, 'level': 3403, 'example': 1994, 'super-genius': 5777, 'talked': 5870, 'reasons': 4770, 'puts': 4664, 'delicious': 1549, 'willing': 6589, 'reciting': 4778, 'reporter:': 4854, 'conference': 1273, \"stallin'\": 5606, 'salt': 5021, 'skydiving': 5359, \"wouldn't-a\": 6682, 'gut': 2611, 'notice': 4076, 'flush-town': 2237, 'actually': 121, 'slaps': 5363, 'pepto-bismol': 4335, 'nahasapeemapetilon': 3943, 'parked': 4272, 'lists': 3466, 'agent_miller:': 171, 'much': 3898, 'moonnnnnnnn': 3858, 'texan': 5956, 'dirty': 1642, 'rationalizing': 4743, 'owns': 4226, 'pointless': 4470, 'failed': 2062, 'grampa_simpson:': 2539, 'hangover': 2662, 'shove': 5254, 'satisfaction': 5044, 'shows': 5263, 'yogurt': 6745, 'ineffective': 3001, 'rounds': 4952, 'natural': 3964, 'taxes': 5897, 'drivers': 1768, 'dae': 1463, 'mickey': 3746, 'dropped': 1776, 'shakespeare': 5194, 'thru': 6047, 'toward': 6131, \"playin'\": 4440, 'spread': 5574, 'winnings': 6607, 'sacrifice': 4998, 'nbc': 3971, 'cannot': 927, 'horror': 2867, \"year's\": 6726, 'frescas': 2326, 'tipsy': 6072, 'tomatoes': 6096, 'fbi_agent:': 2109, 'app': 309, 'cleaning': 1150, 'pinball': 4398, 'steinbrenner': 5658, 'lighten': 3429, 'hearing': 2724, 'commanding': 1233, 'mock-up': 3818, 'whatchamacallit': 6525, 'fly': 2239, \"kearney's_dad:\": 3212, 'discussing': 1654, 'f-l-a-n-r-d-s': 2049, \"ya'\": 6715, 'television': 5922, 'cops': 1319, 'without:': 6626, 'suru': 5801, \"usin'\": 6328, 'beauty': 541, \"moe's_thoughts:\": 3826, \"cuckold's\": 1427, 'cute': 1449, 'coward': 1364, 'ivy-covered': 3103, 'doreen': 1724, 'suffering': 5760, 'slap': 5361, 'mis-statement': 3789, 'purse': 4654, 'ooh': 4169, 'shaved': 5209, 'woe:': 6632, 'enjoys': 1939, 'baseball': 507, 'heard': 2723, 'scum-sucking': 5106, 'paste': 4291, 'encores': 1918, 'living': 3477, 'sizes': 5345, 'seemed': 5132, 'rock': 4923, 'serious': 5167, 'sight-unseen': 5293, 'alpha-crow': 232, 'anyone': 301, 'crinkly': 1402, 'literature': 3468, 'junior': 3194, 'presentable': 4544, 'fifty': 2149, 'young_homer:': 6756, 'turkey': 6207, 'cueball': 1430, 'swig': 5828, 'saturday': 5046, 'argue': 336, 'hail': 2629, 'ali': 211, 'steamed': 5652, 'splash': 5557, 'heart-broken': 2728, 'premise': 4539, \"moe's\": 3825, 'yells': 6735, 'jackson': 3111, 'call': 906, 'miracle': 3786, 'weary': 6484, 'fifteen': 2147, 'feeling': 2119, 'ahem': 186, 'pillows': 4394, 'brunswick': 812, 'portuguese': 4505, 'career': 947, 'yes': 6738, 'eighteen': 1880, 'shelbyville': 5218, 'a-lug': 77, 'eye': 2040, 'gordon': 2517, 'stairs': 5603, 'bottom': 719, 'resigned': 4863, 'mistresses': 3801, 'sickens': 5280, 'pack': 4230, 'ballclub': 460, 'astrid': 377, 'tape': 5881, 'stepped': 5661, 'aisle': 198, 'pit': 4409, 'tiny': 6069, 'realize': 4764, 'figured': 2156, \"drexel's\": 1757, 'soaking': 5451, 'tear': 5906, 'sharing': 5205, 'another': 286, 'cat': 976, 'feels': 2121, 'spouses': 5572, 'inspector': 3031, 'waterfront': 6459, 'alphabet': 233, 'marge': 3646, 'why': 6569, 'meanwhile': 3703, 'be': 521, 'prison': 4581, 'formico:': 2287, 'bachelorette': 435, 'astonishment': 376, 'agreement': 182, 'cavern': 991, 'card': 944, \"fightin'\": 2152, 'violin': 6375, 'watt': 6461, 'hopeful': 2860, 'carb': 943, 'blank': 642, 'ah-ha': 184, 'laws': 3352, 'parenting': 4268, 'happens': 2670, 'bartending': 504, 'haikus': 2628, 'dame': 1466, 'thirteen': 6009, 'jokes': 3171, 'gag': 2390, 'lennyy': 3391, 'thousand': 6032, 'thunder': 6050, 'incapable': 2979, 'twin': 6234, 'partly': 4278, 'squad': 5581, 'pudgy': 4633, 'manchego': 3635, 'complete': 1251, 'lenny:': 3389, 'dime': 1625, 'laughs': 3347, \"carl's\": 954, 'fonzie': 2257, 'ourselves': 4205, 'compliment': 1255, 'considers': 1289, \"startin'\": 5625, 'scrutinizing': 5103, 'woman:': 6639, 'decide:': 1523, 'guide': 2595, 'hemoglobin': 2759, 'lenny': 3387, 'uglier': 6247, 'dumbass': 1806, \"tonight's\": 6106, 'disappointing': 1646, 'tokens': 6088, 'wiggum': 6580, 'japanese': 3124, 'button-pusher': 877, \"pressure's\": 4555, 'sue': 5758, 'mither': 3802, 'breakfast': 765, 'men:': 3724, 'payback': 4309, 'latin': 3343, 'dilemma': 1624, 'piece': 4388, 'examples': 1995, 'ears': 1832, 'ninety-nine': 4036, 'dials': 1601, 'dealt': 1513, 'see': 5127, 'liver': 3474, 'keeps': 3216, 'teenage_bart:': 5916, 'statues': 5640, 'waylon_smithers:': 6466, 'sending': 5158, 'riveting': 4915, 'sign': 5294, 'bagged': 452, 'defiantly': 1538, 'picky': 4384, 'drive': 1765, 'rich': 4888, 'drinks': 1764, 'privacy': 4582, 'lise:': 3458, 'weekly': 6491, 'wishes': 6619, 'patterns': 4302, 'bugging': 826, 'prints': 4579, 'linda_ronstadt:': 3443, 'jogging': 3162, 'wind': 6594, 'gently': 2434, 'punk': 4651, 'outlook': 4208, 'terrific': 5944, 'secret': 5120, 'literary': 3467, 'lessons': 3398, 'cherry': 1069, 'fires': 2185, 'aghast': 177, 'sobs': 5459, 'page': 4236, \"wouldn't\": 6681, 'bring': 786, 'trade': 6139, 'granted': 2546, 'ram': 4729, 'trench': 6169, 'grieving': 2563, \"doesn't\": 1691, 'idiots': 2952, 'equivalent': 1956, 'century': 1004, \"'your\": 24, 'nonchalant': 4053, 'those': 6022, 'firing': 2187, 'dishrag': 1663, 'already': 234, 'gangrene': 2402, 'bill': 616, 'swings': 5834, '/mr': 27, 'nigel_bakerbutcher:': 4026, 'red': 4788, \"i'unno\": 2934, 'jay:': 3128, 'lookalikes': 3508, 'sen': 5153, 'executive': 2009, 's-a-u-r-c-e': 4994, 'conspiracy': 1291, 'pool': 4491, 'kidney': 3240, 'fighting': 2153, 'eyeball': 2042, 'babe': 431, \"breakin'\": 766, 'scrutinizes': 5102, 'hm': 2806, 'bridges': 779, 'haw': 2704, 'factor': 2058, 'launch': 3349, 'forgotten': 2283, 'waste': 6448, 'jerk-ass': 3140, 'heatherton': 2734, 'gil_gunderson:': 2463, 'pass': 4283, 'apron': 325, 'poplar': 4497, 'banquo': 472, 'beyond': 607, '70': 48, 'lemonade': 3383, 'pink': 4402, 'began': 566, 'jerking': 3141, 'ways': 6469, 'cooking': 1315, 'home': 2830, 'doreen:': 1725, 'sobriety': 5458, 'eighty-six': 1884, 'cruise': 1419, \"patrick's\": 4295, 'ran': 4730, 'bragging': 747, 'tabooger': 5855, \"duff's\": 1795, 'sports_announcer:': 5569, 'simpson': 5303, 'bonding': 689, 'therefore': 5990, 'street': 5715, 'beards': 531, 'ing': 3011, 'reaction': 4752, 'afford': 154, 'fast-food': 2091, 'having': 2703, 'jasper_beardly:': 3126, 'disturbing': 1678, 'doooown': 1720, 'intakes': 3044, 'amends': 250, \"chewin'\": 1073, 'delete': 1543, 'doubt': 1728, 'barber': 480, 'flew': 2223, 'script': 5099, 'cheerleaders:': 1064, 'pretty': 4564, 'witches': 6623, 'park': 4271, 'bunion': 844, 'ford': 2272, 'crestfallen': 1395, 'tap': 5879, 'sharps': 5208, 'wha': 6509, 'means': 3701, 'psst': 4627, 'burning': 852, 'chauffeur': 1048, 'deliberately': 1546, 'passes': 4286, 'watch': 6452, 'whatcha': 6523, 'focus': 2243, 'safely': 5006, 'arm': 342, 'blessing': 649, 'kicks': 3234, 'entirely': 1950, 'has': 2691, 'zeal': 6772, 'modestly': 3823, 'apu': 326, 'shock': 5229, 'arrest': 348, 'repressed': 4857, 'sideshow_mel:': 5288, '__question_mark__': 58, 'shyly': 5276, 'kearney_zzyzwicz:': 3213, 'hurry': 2917, 'almond': 228, 'gum': 2601, 'peanut': 4319, 'killarney': 3245, 'anti-intellectualism': 293, 'pure': 4653, 'military': 3765, 'tsking': 6201, 'arrange': 347, 'refresh': 4797, 'pall': 4251, 'christmas': 1110, 'yo': 6744, 'couple': 1351, 'wa': 6397, 'white_rabbit:': 6553, 'inning': 3018, 'kennedy': 3221, 'dammit': 1468, 'control': 1307, 'brassiest': 757, 'splattered': 5558, 'abcs': 81, 'jazz': 3130, 'cheesecake': 1068, 'politician': 4484, 'musses': 3928, 'jump': 3190, 'waking-up': 6410, 'rem': 4823, 'darn': 1486, 'sheets': 5217, 'impress': 2971, 'maxed': 3676, 'ball': 457, 'boat': 679, 'jaegermeister': 3115, 'occasion': 4109, 'using': 6329, 'chug': 1118, 'invented': 3062, 'pop': 4494, 'bartender': 501, 'skin': 5350, 'springfield': 5576, 'telling': 5925, 'bolting': 686, 'hate': 2694, 'batmobile': 518, 'problemo': 4589, \"neighbor's\": 3990, 'moon-bounce': 3856, 'duffman:': 1799, 'material': 3671, 'bad-mouth': 445, 'dawning': 1499, 'porn': 4502, 'italian': 3094, 'twenty-two': 6231, 'alter': 237, 'restroom': 4871, 'expecting': 2017, 'cadillac': 896, 'heroism': 2769, 'militia': 3766, 'ago': 180, 'stuff': 5735, 'co-sign': 1181, 'misconstrue': 3790, 'here-here-here': 2766, 'pasta': 4290, 'victim': 6363, 'dear': 1515, 'jockey': 3158, 'silent': 5298, 'intimacy': 3054, 'hello': 2752, 'hooked': 2852, 'glove': 2489, 'officer': 4130, 'cola': 1205, 'cold': 1206, 'augustus': 399, 'theme': 5981, 'thousands': 6034, 'exact': 1991, 'strolled': 5726, 'sleeps': 5369, 'sob': 5454, \"drawin'\": 1744, 'smoothly': 5415, 'bathtub': 517, 'grumpy': 2587, 'young_moe:': 6758, 'underpants': 6273, 'knocked': 3280, 'suspenders': 5806, 'connor-politan': 1284, 'gibson': 2456, 'used': 6326, 'dan': 1471, 'cruiser': 1420, 'ugliness': 6249, 'it:': 3093, 'lawyer': 3353, 'meteor': 3735, 'sweat': 5816, 'first': 2190, '1973': 33, 'chuckling': 1117, 'thesaurus': 5991, 'janette': 3123, 'mission': 3797, 'kegs': 3217, 'stops': 5696, 'dismissive': 1666, 'took': 6111, 'release': 4814, 'flying': 2240, 'sir': 5324, 'knowledge': 3286, 'habit': 2622, 'julep': 3188, 'gr-aargh': 2527, 'tentative': 5937, 'fan': 2080, 'civil': 1136, 'eddie': 1852, 'snake': 5422, 'hooray': 2854, 'bugs': 827, 'friend': 2333, 'w': 6395, 'sucked': 5750, 'stir': 5680, 'housewife': 2887, 'ziffcorp': 6775, 'voice:': 6383, 'forget-me-shot': 2278, 'socialize': 5461, 'comes': 1226, 'fiction': 2143, 'cakes': 901, 'ointment': 4143, 'beautiful': 540, 'kl5-4796': 3269, 'place': 4415, 'savagely': 5050, 'side': 5282, 'whose': 6567, 'smokes': 5411, 'convinced': 1312, 'aged_moe:': 167, 'accelerating': 96, 'pushes': 4659, 'commit': 1236, 'middle': 3753, 'cheer': 1059, 'vanities': 6345, 'turns': 6212, 'group': 2576, 'cars': 966, 'poetry': 4464, 'fuss': 2378, 'upset': 6317, 'unhappy': 6289, 'squeezed': 5588, 'brave': 759, 'law': 3350, 'informant': 3009, 'squabbled': 5580, 'november': 4082, 'whistles': 6550, 'thanksgiving': 5967, 'planning': 4425, 'composite': 1258, 'junkyard': 3195, 'fainted': 2065, 'shard': 5201, 'showing': 5262, 'works': 6667, 'crunch': 1423, 'easy': 1839, 'part-time': 4276, 'declan_desmond:': 1527, 'moe-clone:': 3828, 'ominous': 4153, 'specific': 5532, 'lenny_leonard:': 3390, 'go': 2495, 'iddilies': 2944, \"fans'll\": 2084, 'adult_bart:': 141, 'measurements': 3705, 'van': 6343, 'recipe': 4777, 'catching': 980, \"'pu\": 17, 'absolut': 91, 'screws': 5098, 'sabermetrics': 4995, 'rivalry': 4914, \"america's\": 252, 'shut': 5272, 'corpses': 1327, 'kim_basinger:': 3251, 'ã€': 6780, 'bush': 862, 'nearly': 3975, 'mines': 3776, 'putty': 4667, 'between': 605, 'wienerschnitzel': 6574, 'easygoing': 1841, 'pretzel': 4565, 'james': 3120, 'neil_gaiman:': 3994, 'blew': 650, 'fact': 2057, 'excavating': 1997, \"liberty's\": 3409, 'inches': 2981, 'spanish': 5522, 'luck': 3559, 'crab': 1372, 'window': 6598, 'benjamin': 593, 'and/or': 266, 'dejected_barfly:': 1541, 'enthusiasm': 1947, 'edner': 1862, 'yelling': 6731, 'cozy': 1371, 'wigs': 6581, 'heaving': 2738, 'chipped': 1092, 'happy': 2675, \"bo's\": 678, 'prayer': 4527, 'carl_carlson:': 956, 'portentous': 4503, 'yellow-belly': 6734, 'sale': 5019, 'bedbugs': 546, 'smuggled': 5417, 'acting': 115, 'lager': 3317, 'again': 163, 'rasputin': 4737, 'ladder': 3310, 'busy': 870, 'icelandic': 2942, 'arab_man:': 330, 'churchill': 1126, 'obvious': 4108, 'vacations': 6335, 'ze-ro': 6771, 'finished': 2178, 'products': 4596, 'random': 4732, 'bum:': 836, 'sanctuary': 5028, 'past': 4289, 'loboto-moth': 3486, 'unless': 6299, \"summer's\": 5770, 'schizophrenia': 5074, 'comedies': 1224, 'zoomed': 6778, \"they're\": 5996, 'barney-guarding': 491, 'suppose': 5791, 'gumbel': 2602, 'whoa-ho': 6560, 'tremendous': 6168, 'most:': 3871, 'thoughtfully': 6029, 'throws': 6046, \"wearin'\": 6481, 'bliss': 655, 'tow-talitarian': 6130, 'shame': 5198, 'dispenser': 1667, 'tire': 6073, \"gettin'\": 2447, \"wino's\": 6608, 'sugar-free': 5762, 'fudd': 2356, 'philosophic': 4365, 'show': 5255, 'radiation': 4699, 'remembering': 4829, \"feelin's\": 2118, 'exited': 2014, 'many': 3642, 'rev': 4878, 'dazed': 1502, 'cologne': 1212, 'stonewall': 5689, 'guessing': 2592, 'roz:': 4958, 'mmm': 3808, 'victory': 6365, 'jelly': 3137, 'wagering': 6402, 'played': 4436, 'frog': 2345, 'buzz': 884, 'dive': 1680, 'offended': 4125, 'dimly': 1627, 'four': 2301, 'duffed': 1797, 'sigh': 5290, \"son's\": 5493, 'how': 2890, 'today/': 6082, 'sacrilicious': 4999, 'unsourced': 6306, 'fortensky': 2288, 'straining': 5707, 'farewell': 2088, 'vegas': 6347, 'polish': 4481, 'investigating': 3063, 'aer': 148, 'total': 6119, 'hook': 2851, 'refund': 4801, 'puzzled': 4669, 'reckless': 4779, 'boozy': 709, 'there': 5988, 'agh': 176, 'betcha': 598, 'low-blow': 3550, 'princess': 4575, 'ignoring': 2956, 'priority': 4580, 'yell': 6730, 'macbeth': 3582, 'buying': 883, '14': 31, 'debonair': 1518, 'flophouse': 2230, 'endorsement': 1924, 'abolish': 86, 'anti-crime': 292, 'stooges': 5691, 'occurs': 4116, 'lee': 3371, 'heck': 2741, 'wild': 6583, 'begging': 568, 'friend:': 2335, 'death': 1517, 'open-casket': 4176, 'any': 296, 'los': 3518, 'brainheaded': 750, 'homers': 2840, 'something': 5486, 'quero': 4680, 'sleeping': 5368, 'screams': 5096, 'embarrassing': 1906, 'happily': 2672, 'prize': 4584, 'africa': 157, 'joe': 3159, 'admirer': 133, 'cheap': 1050, 'sexual': 5183, 'full-bodied': 2360, 'corkscrew': 1321, 'joey': 3160, 'bide': 610, 'hotel': 2878, 'cats': 982, 'greatest': 2554, 'butter': 873, 'coma': 1218, 'flaking': 2206, 'crying': 1425, 'causes': 989, 'super-nice': 5778, 'ahhhh': 189, 'taxi': 5898, 'andrew': 270, 'heartily': 2729, 'examines': 1993, 'foil': 2246, 'unlucky': 6302, 'were': 6504, 'stupid': 5738, 'eve': 1973, \"ladies'\": 3312, 'with': 6624, 'loud': 3532, 'muscles': 3921, 'endorsed': 1923, 'friday': 2331, 'americans': 254, 'rummy': 4975, 'glass': 2480, 'landfill': 3323, 'barney-type': 493, 'everybody': 1981, 'thrust': 6048, 'wing': 6602, 'low': 3549, 'cough': 1337, 'mull': 3906, \"'til\": 21, 'rude': 4964, 'decent': 1521, 'teams': 5905, 'encore': 1917, 'spits': 5555, 'wipe': 6611, 'moments': 3839, 'pain': 4240, \"nothin's\": 4074, 'ivanna': 3101, 'guns': 2607, 'brother-in-law': 804, 'tied': 6057, 'wednesday': 6488, \"'morning\": 14, 'trashed': 6157, 'calls': 910, 'arms': 344, 'rage': 4708, 'buzziness': 885, \"battin'\": 519, 'mitts': 3803, 'spoon': 5566, 'feld': 2124, 'cranberry': 1376, 'supermarket': 5783, 'listens': 3465, 'closer': 1169, 'mafia': 3591, 'funds': 2368, 'honest': 2844, 'chill': 1085, 'montrer': 3853, 'alfred': 210, 'awareness': 413, 'religion': 4819, 'drug': 1780, 'appeals': 312, 'marvelous': 3660, 'medicine': 3711, 'foundation': 2298, 'changing': 1028, 'big': 612, 'fictional': 2144, 'chipper': 1093, 'enthused': 1946, 'twice': 6233, 'tuna': 6205, 'wieners': 6573, 'share': 5202, 'casting': 973, 'charges': 1038, 'aunt': 400, 'drop-off': 1775, \"rasputin's\": 4738, 'everyone': 1983, 'insulted': 3040, 'serve': 5170, 'whaddaya': 6512, 'absolutely': 92, 'cooker': 1313, 'stagey': 5600, 'wheeeee': 6529, 'losers': 3521, 'swear': 5815, 'ireland': 3074, 'badmouth': 449, 'seymour': 5185, 'coming': 1232, 'perking': 4345, 'tale': 5866, 'kisses': 3265, 'popping': 4499, 'market': 3652, 'anderson': 269, 'plastered': 4431, 'sets': 5175, 'triple-sec': 6177, 'temples': 5930, 'gator:': 2414, 'teenage_homer:': 5917, 'chinese': 1088, 'disguise': 1659, 'photo': 4371, 'dory': 1726, \"kids'\": 3243, 'noises': 4049, 'hyper-credits': 2927, 'coaster': 1185, 'groan': 2570, 'flag': 2204, 'ruled': 4972, 'lot': 3525, 'breathalyzer': 770, 'slick': 5373, 'destroyed': 1589, 'darkness': 1485, 'designated': 1582, 'groans': 2571, \"elmo's\": 1900, 'salary': 5018, \"comin'\": 1231, 'squadron': 5582, 'pusillanimous': 4661, 'kiss': 3262, 'twins': 6235, 'traffic': 6142, 'ned_flanders:': 3983, 'looooooooooooooooooong': 3513, 'company': 1242, 'book_club_member:': 699, \"president's\": 4549, \"rentin'\": 4845, 'listen': 3461, 'kissingher': 3267, 'him': 2793, 'enjoyed': 1937, 'slyly': 5392, 'ideal': 2947, 'though': 6023, \"bettin'\": 603, 'freeze': 2323, 'married': 3656, 'unbelievably': 6265, 'road': 4917, 'blues': 674, 'lady_duff:': 3316, 'kick-ass': 3231, \"ball's\": 458, 'sex': 5181, 'trunk': 6192, 'christopher': 1111, 'grammy': 2536, 'eaten': 1843, 'devils:': 1598, 'hibachi': 2775, 'teriyaki': 5939, 'junebug': 3193, 'breathtaking': 772, 'indecipherable': 2990, 'monster': 3850, 'grenky': 2559, 'truth': 6196, 'rugged': 4967, 'she-pu': 5214, 'break-up': 763, 'need': 3984, 'creates': 1389, 'driver': 1767, 'buddies': 820, 'great': 2553, 'glen': 2483, 'daddy': 1461, 'kang:': 3206, 'warranty': 6438, 'bets': 600, 'able': 84, \"department's\": 1569, 'gunter': 2608, 'view': 6368, 'jury': 3196, 'average-looking': 410, 'worthless': 6678, 'lift': 3424, 'committee': 1237, 'amazing': 245, 'malted': 3618, 'straight': 5704, 'plaintive': 4419, 'r': 4694, 'cut': 1448, 'based': 508, 'guess': 2591, 'kidneys': 3241, 'unfortunately': 6286, 'highball': 2784, 'pour': 4516, 'knives': 3277, 'firm': 2188, 'gargoyles': 2406, 'collette:': 1211, 'quick-like': 4683, \"wallet's\": 6417, 'called': 907, 'depressed': 1573, 'bill_james:': 617, 'loudly': 3534, 'poet': 4462, 'tubman': 6202, 'access': 101, 'minus': 3783, 'sampler': 5026, 'employees': 1912, 'spooky': 5565, 'noticing': 4078, 'sap': 5037, '50%': 43, 'abe': 82, 'cuz': 1453, 'generosity': 2425, 'gruff': 2585, 'totally': 6121, 'eggshell': 1871, 'sesame': 5173, 'conversion': 1311, 'brockelstein': 793, 'depressing': 1575, 'valley': 6338, 'white': 6552, 'theory': 5985, 'slightly': 5375, 'potato': 4512, 'moe-heads': 3829, '__right_parentheses__': 61, 'diablo': 1600, 'dateline': 1492, 'over': 4214, 'my-y-y-y-y-y': 3935, 'up-bup-bup': 6311, 'thousand-year': 6033, 'newly-published': 4011, 'take': 5859, 'germans': 2438, 'everyday': 1982, 'music': 3924, 'bread': 761, 'beady': 525, 'eats': 1847, 'figure': 2155, 'devastated': 1595, 'sound': 5506, 'finish': 2177, 'organ': 4189, 'painless': 4242, 'government': 2526, 'fletcherism': 2222, 'man:': 3625, 'hank_williams_jr': 2665, 'unhook': 6290, 'its': 3098, 'sell': 5146, 'frink': 2341, 'raise': 4722, 'tv_daughter:': 6218, \"messin'\": 3732, 'years': 6727, 'offense': 4126, 'bottoms': 721, 'pigs': 4390, \"'n'\": 15, 'embarrassed': 1905, 'dingy': 1631, 'kissed': 3263, 'chug-a-lug': 1119, 'rebuilt': 4771, 'dungeon': 1812, 'bucket': 817, 'wife': 6575, \"sippin'\": 5322, \"bar's\": 474, 'adventure': 144, 'cannoli': 926, 'test-': 5951, 'quitcher': 4691, 'drawn': 1746, 'plenty': 4450, 'boring': 710, 'regret': 4803, 'possibly': 4509, 'sitcom': 5332, 'torn': 6116, 'cuff': 1431, 'whale': 6514, 'flanders': 2210, 'wreck': 6690, 'charm': 1042, 'santeria': 5036, 'venture': 6353, 'swine': 5833, 'carmichael': 960, 'panties': 4257, 'frontrunner': 2349, 'horrors': 2868, 'text': 5958, 'daaaaad': 1458, 'pretending': 4559, 'youse': 6765, 'socratic': 5464, 'ehhh': 1873, 'unattended': 6261, \"tatum'll\": 5892, 'door': 1721, 'bank': 467, 'threatening': 6035, \"costume's\": 1334, 'bon': 687, \"getting'\": 2449, 'ripped': 4910, 'exquisite': 2032, 'anyhow': 299, 'fell': 2125, 'more': 3862, 'stinks': 5678, 'bonfire': 693, 'freak': 2316, 'sandwich': 5029, \"'now\": 16, 'larson': 3337, \"pope's\": 4496, 'young_marge:': 6757, 'timbuk-tee': 6062, 'expense': 2018, 'peeved': 4323, 'insist': 3029, 'seeing': 5129, 'needy': 3987, 'dumb-asses': 1805, 'fastest': 2093, 'classy': 1145, 'fire': 2181, 'shifty': 5224, 'curse': 1441, 'gun': 2605, 'rubs': 4962, 'dracula': 1735, 'solo': 5472, 'british': 790, 'taken': 5862, 'jukebox': 3186, 'justice': 3198, 'absentmindedly': 90, 'banks': 468, 'act': 114, 'disgrace': 1656, 'settles': 5178, 'parents': 4269, 'before': 563, 'minors': 3781, 'cool': 1316, 'race': 4697, 'blind': 652, 'choose': 1104, 'bowling': 730, 'rats': 4744, 'judge_snyder:': 3181, 'all:': 220, 'jubilation': 3179, 'runaway': 4979, 'persia': 4350, 'frink-y': 2342, 'suspect': 5804, 'check': 1056, 'gossipy': 2521, 'expensive': 2019, 'title:': 6076, 'd': 1455, 'super-tough': 5779, 'joking': 3172, \"bashir's\": 512, 'ancient': 263, 'onion': 4162, 'righ': 4900, 'kyoto': 3303, \"thinkin'\": 6004, \"knockin'\": 3281, 'nachos': 3939, 'closet': 1171, 'lecture': 3369, 'is': 3081, 'abercrombie': 83, 'counting': 1346, 'stares': 5616, 'methinks': 3736, 'clean': 1146, 'mini-beret': 3777, 'letters': 3402, \"wife's\": 6576, 'garbage': 2403, 'cent': 1001, 'simple': 5301, 'everything': 1985, 'practice': 4524, 'full-time': 2361, 'oils': 4142, 'record': 4782, 'answer': 287, 'swimming': 5832, 'celeste': 998, 'grain': 2533, 'us': 6324, 'mild': 3760, 'shrugging': 5268, 'hockey-fight': 2818, 'guilt': 2596, 'choices': 1098, 'got': 2522, 'nasa': 3959, 'seductive': 5126, \"table's\": 5853, 'employment': 1913, 'har': 2676, 'two-thirds-empty': 6238, 'gesture': 2442, 'cousin': 1359, \"y'money's\": 6711, 'round': 4950, 'loan': 3484, 'man': 3621, 'afloat': 155, 'other': 4195, 'larry': 3334, 'investment': 3064, 'hans:': 2666, 'linda': 3442, 'director:': 1639, 'four-drink': 2302, 'elect': 1891, 'slaves': 5364, 'well-wisher': 6500, 'homer_simpson:': 2839, 'mobile': 3816, 'tribute': 6172, 'sail': 5015, 'deliberate': 1545, 'popped': 4498, 'strain': 5706, 'jailbird': 3117, 'cigarettes': 1129, 'sickened': 5279, 'handsome': 2655, \"workin'\": 6665, 'hurt': 2918, 'confident': 1276, 'indeed': 2991, 'dã¼ffenbraus': 1822, 'choice:': 1097, 'fast-paced': 2092, 'sinister': 5319, 'then:': 5984, 'early': 1829, 'further': 2376, 'verticality': 6357, 'hillary': 2790, 'eight': 1877, 'customers-slash-only': 1447, 'little_man:': 3471, 'crow': 1411, 'ferry': 2137, 'flayvin': 2218, 'earpiece': 1830, 'britannia': 789, 'winner': 6605, 'offensive': 4127, 'eleven': 1895, \"cont'd:\": 1294, 'pregnancy': 4536, 'fritz': 2343, 'prayers': 4528, 'gentleman:': 2431, 'michelin': 3745, 'tease': 5909, 'gave': 2415, 'weapon': 6479, 'roof': 4939, 'copy': 1320, 'dank': 1480, 'soaked': 5449, 'forty-five': 2292, 'an': 260, 'fist': 2194, 'decadent': 1519, 'huddle': 2898, 'boxer:': 735, 'sagely': 5011, 'west': 6506, 'widow': 6571, 'pawed': 4307, 'image': 2961, 'wire': 6614, 'troll': 6180, 'lorre': 3517, 'so-called': 5447, 'nature': 3966, 'depending': 1570, 'appreciated': 322, 'voice_on_transmitter:': 6384, 'hoo': 2849, 'simpsons': 5304, 'lying': 3574, 'owner': 4225, \"hasn't\": 2692, 'giving': 2477, 'investor': 3065, 'whispers': 6549, 'disgraceful': 1657, 'phlegm': 4367, 'muffled': 3901, 'sit': 5330, 'partner': 4279, 'trolls': 6181, 'cowboys': 1367, 'pledge': 4449, 'muertos': 3900, 'affects': 153, 'dishonor': 1662, 'ceremony': 1006, 'anguished': 276, 'touch': 6122, 'fired': 2184, 'wad': 6399, 'krusty': 3299, 'medieval': 3712, 'california': 905, 'szyslak': 5848, 'bite': 631, 'greedy': 2556, 'wars': 6440, 'operation': 4179, 'ad': 122, 'kodos:': 3291, 'sitting': 5336, 'schorr': 5079, 'daniel': 1478, 'sidelines': 5285, 'browns': 810, 'mushy': 3923, '_hooper:': 66, 'wife-swapping': 6577, \"ma's\": 3578, 'yourself': 6763, 'exhaust': 2011, 'chapel': 1031, \"blowin'\": 669, 'asses': 371, 'rocks': 4925, 'course': 1354, 'honey': 2845, 'hobo': 2816, 'sneeze': 5433, 'botanical': 714, 'philip': 4364, 'forbids': 2269, 'crap': 1378, 'goldarnit': 2505, 'wishful': 6620, '_marvin_monroe:': 69, 'juice': 3184, 'puke-pail': 4639, 'office': 4129, 'beefs': 552, 'conditioners': 1270, 'good': 2511, 'gol-dangit': 2503, 'grease': 2552, \"plaster's\": 4430, 'bible': 608, 'briefly': 781, 'effervescence': 1866, 'sam:': 5024, 'phony': 4370, 'maitre': 3604, 'tornado': 6117, 'looser': 3514, \"professor's\": 4599, 'free': 2319, 'sneak': 5430, 'owes': 4222, 'sixty-five': 5342, 'mmm-hmm': 3809, 'necklace': 3980, 'tapping': 5884, 'dislike': 1665, 'passenger': 4285, 'pointed': 4467, 'tail': 5858, 'blobbo': 658, 'vampire': 6341, 'age': 165, 'broncos': 800, \"high-falutin'\": 2783, 'sodas': 5465, 'banned': 469, 'evening': 1975, 'unlike': 6300, 'strains': 5708, 'butterball': 874, 'grey': 2560, 'country-fried': 1348, 'poisoning': 4475, \"robbin'\": 4920, 'playoff': 4442, 'improv': 2973, 'half-day': 2637, 'please/': 4446, 'blur': 676, 'bluff': 675, 'tank': 5876, 'inquiries': 3022, 'haplessly': 2667, 'proper': 4614, 'occupation': 4112, 'skills': 5349, 'krabappel': 3297, 'splendid': 5559, \"mopin'\": 3861, 'nineteen': 4034, 'holy': 2829, 'bad': 444, 'crossed': 1409, 'system': 5847, 'traitors': 6149, 'churchy': 1127, \"tinklin'\": 6068, \"time's\": 6064, 'snake_jailbird:': 5424, 'mention': 3728, 'smiled': 5404, 'cuckoo': 1428, 'pouring': 4518, \"buyin'\": 882, 'crazy': 1386, 'flashing': 2215, 'disgracefully': 1658, 'pepper': 4331, 'sieben-gruben': 5289, 'polygon': 4488, 'happened': 2669, 'chuckle': 1115, 'unfamiliar': 6284, 'offshoot': 4133, 'reward': 4881, 'mistakes': 3799, 'insulin': 3039, 'clams': 1139, 'sink': 5320, 'ripcord': 4909, 'scruffy_blogger:': 5101, 'loathe': 3485, 'geez': 2421, 'cab_driver:': 894, \"cupid's\": 1436, 'made': 3587, 'jail': 3116, 'edna': 1858, 'pickles': 4383, 'table': 5852, 'grandiose': 2541, 'hated': 2696, 'formico': 2286, \"they'll\": 5995, 'limits': 3440, 'dennis_kucinich:': 1563, 'artist': 355, 'helpless': 2757, 'ees': 1863, 'fake': 2069, 'fish': 2191, 'little_hibbert_girl:': 3470, 'hike': 2788, 'three-man': 6037, 'lowering': 3552, 'morlocks': 3863, 'funny': 2371, 'coin': 1201, 'will': 6586, 'mall': 3617, 'counter': 1343, 'beneath': 591, 'appendectomy': 315, 'tidy': 6055, 'rat': 4739, 'guys': 2617, 'onto': 4167, 'shutup': 5275, \"showin'\": 5261, 'fortress': 2289, 'streetcorner': 5716, 'bride': 777, 'appearance-altering': 314, 'amiable': 255, 'virile': 6376, 'hanging': 2660, 'lifetime': 3423, 'lovejoy': 3542, \"you've\": 6752, 'pernt': 4348, 'burt_reynolds:': 859, 'gambler': 2396, 'glitterati': 2485, 'trenchant': 6170, 'rife': 4898, '8': 50, 'thirty-nine': 6012, 'cheated': 1055, 'stories': 5701, 'passion': 4287, \"they've\": 5997, \"smackin'\": 5393, 'expose': 2029, 'ninth': 4039, 'something:': 5488, 'extreme': 2037, 'clear': 1151, 'ironed': 3077, 'cloudy': 1176, 'flash': 2212, 'albert': 203, 'wave': 6462, 'sixty': 5341, 'halloween': 2640, 'appreciate': 321, 'archaeologist': 332, 'awful': 418, 'waters': 6460, 'fuzzlepitch': 2382, 'little': 3469, 'voodoo': 6388, 'rapidly': 4734, \"bartender's\": 502, 'nos': 4068, 'true': 6191, 'handler': 2650, 'minutes': 3785, 'engraved': 1934, 'larry:': 3336, 'faded': 2060, 'oooh': 4171, 'catch': 978, 'soap': 5452, 'raises': 4723, 'chuckles': 1116, 'lumpa': 3565, 'horrible': 2865, 'narrator:': 3958, 'deeper': 1532, 'shindig': 5226, 'oughta': 4202, 'result': 4872, 'canyonero': 931, 'hammy': 2644, 'delivery_man:': 1555, 'fabulous': 2050, 'funeral': 2369, 'languages': 3329, 'accepting': 100, 'different': 1618, 'laney_fontaine:': 3327, 'cable': 895, 'challenge': 1016, 'leprechaun': 3395, \"man's_voice:\": 3624, 'recommend': 4780, 'lottery': 3529, 'cummerbund': 1433, 'rainier': 4719, 'win': 6591, 'kings': 3258, 'the': 5973, 'inserts': 3026, 'sadder': 5001, 'marvin': 3661, 'awe': 415, 'space-time': 5518, 'fireworks': 2186, 'slow': 5387, 'proof': 4613, 'strongly': 5728, 'clown': 1177, \"'tis\": 22, 'common': 1239, 'pope': 4495, 'ow': 4220, 'aah': 78, 'newsletter': 4014, '__return__': 60, 'shirt': 5228, 'acronyms': 112, 'flashbacks': 2214, 'should': 5247, 'danish': 1479, \"lenny's\": 3388, 'david': 1497, 'extremely': 2038, 'sincere': 5307, 'clincher': 1161, 'all-star': 219, 'luxury': 3573, 'glorious': 2488, 'strangles': 5710, 'mess': 3730, 'reason': 4768, \"that'd\": 5969, 'tenuous': 5938, 'without': 6625, 'directions': 1637, 'severe': 5180, 'thirsty': 6008, 'b': 427, \"drivin'\": 1770, 'fustigate': 2379, 'engine': 1930, 'villanova': 6371, 'paying': 4312, 'toss': 6118, 'waylon': 6465, 'blokes': 660, 'treats': 6162, 'octa-': 4118, 'quickly': 4684, 'crappy': 1381, 'somebody': 5476, 'hiding': 2780, 'verdict': 6354, 'backbone': 438, 'bought': 722, 'disco_stu:': 1651, \"i'd\": 2929, 'difference': 1617, '1-800-555-hugs': 28, 'menlo': 3727, 'twenty-nine': 6229, 'mmmmm': 3811, 'x-men': 6706, 'onassis': 4156, 'anniversary': 279, 'wounds': 6684, 'additional-seating-capacity': 125, 'grace': 2531, 'few': 2141, '__semicolon__': 62, 'iranian': 3073, 'divine': 1681, 'hawaii': 2705, 'sick': 5278, 'drawer': 1743, 'swatch': 5813, 'glitz': 2486, 'patty': 4304, 'awkward': 420, 'assassination': 368, 'kinderhook': 3254, 'finale': 2167, 'gheet': 2453, 'cliff': 1160, 'eating': 1846, 'months': 3852, 'magazine': 3592, 'bulked': 830, 'tourist': 6127, 'jesus': 3146, 'air': 196, 'nobody': 4045, 'saw': 5056, 'ooo': 4170, '_montgomery_burns:': 70, 'slogan': 5383, 'spellbinding': 5537, 'tinkle': 6067, 'can': 919, 'referee': 4792, 'holidays': 2825, \"lisa's\": 3456, 'relax': 4811, 'fantasy': 2086, 'play/': 4435, 'adequate': 128, 'gary:': 2407, 'al': 199, 'gasps': 2412, 'lowers': 3553, 'shoulders': 5251, 'utility': 6333, 'think': 6003, 'recall': 4773, 'nods': 4046, 'hungry': 2912, 'extinguishers': 2034, 'specialists': 5528, 'society_matron:': 5463, 'kill': 3244, 'future': 2381, 'or': 4184, 'beaumont': 539, 'drop': 1774, 'dryer': 1787, 'spent': 5542, 'created': 1388, 'cheaped': 1051, \"stayin'\": 5644, 'religious': 4820, 'clone': 1166, 'moe-clone': 3827, 'oh-ho': 4136, \"calf's\": 904, 'anyhoo': 298, 'blooded': 664, 'rules': 4973, 'lady': 3313, 'wade_boggs:': 6400, 'indeedy': 2992, \"lefty's\": 3374, 'died': 1613, 'situation': 5337, 'illustrates': 2960, 'massive': 3667, 'pursue': 4655, 'nightmares': 4032, 'alva': 240, 'clips': 1164, 'email': 1904, 'deacon': 1506, 'dark': 1483, 'hillbillies': 2791, 'thoughtful': 6028, 'plow': 4452, 'slop': 5384, 'fellas': 2127, 'crack': 1373, 'startled': 5627, 'steaming': 5653, 'evasive': 1972, 'multi-national': 3907, 'computer': 1261, 'suddenly': 5755, 'circus': 1131, 'basement': 509, 'way:': 6464, 'jacques': 3113, \"what's\": 6520, 'fourteen:': 2304, 'cake': 900, 'bowie': 727, 'car': 940, 'dropping': 1777, 'invisible': 3066, 'jewelry': 3149, 'espousing': 1964, 'pull': 4641, 'boxing_announcer:': 738, 'steak': 5647, 'achem': 109, \"game's\": 2398, 'driveability': 1766, \"'roids\": 18, 'singers:': 5312, 'firmly': 2189, 'permitting': 4347, \"listenin'\": 3463, \"this'll\": 6016, 'tobacky': 6079, \"man's\": 3623, 'tradition': 6140, 'peanuts': 4320, 'tears': 5908, 'eye-gouger': 2041, \"we'll\": 6473, 'lied': 3414, 'weeks': 6492, 'gorgeous': 2519, 'bidet': 611, 'faced': 2054, 'knuckle-dragging': 3289, 'barflies': 483, 'patrons:': 4300, 'intense': 3046, 'kneeling': 3272, 'freaky': 2318, 'libraries': 3411, 'al_gore:': 200, 'his': 2798, 'warned': 6436, 'wangs': 6424, 'mistake': 3798, 'crowd': 1413, 'tapered': 5882, 'arrived': 350, 'delts': 1556, 'hmmm': 2809, 'malabar': 3612, 'small': 5394, 'consciousness': 1285, 'contractors': 1306, 'ate': 382, 'huggenkiss': 2901, 'could': 1339, 'force': 2270, 'band': 466, 'mostly': 3872, 'built': 829, 'wussy': 6704, 'bam': 465, 'drederick': 1752, 'takes': 5863, 'chair': 1014, 'w-a-3-q-i-zed': 6396, 'whining': 6543, 'fights': 2154, \"barney's\": 490, 'crummy': 1422, 'uses': 6327, 'skeptical': 5346, 'burns': 853, 'squirrel': 5590, 'prank': 4526, 'driving': 1771, 'present': 4543, 'paint': 4243, 'para': 4264, 'forgets': 2279, 'fourth': 2305, 'produce': 4593, 'tab': 5850, 'lainie:': 3319, 'haiti': 2633, 'brilliant': 784, 'trail': 6144, 'boys': 743, 'party': 4281, 'distraught': 1675, 'half-back': 2635, 'promotion': 4609, 'bubbles-in-my-nose-y': 816, 'spite': 5554, 'jeff_gordon:': 3136, 'omigod': 4152, 'crank': 1377, 'reflected': 4796, 'whaaa': 6510, 'decision': 1525, 'ironic': 3078, 'still': 5672, 'diving': 1682, 'midnight': 3756, 'doppler': 1723, 'pays': 4314, 'mason': 3664, 'vincent': 6373, 'dirge-like': 1640, 'pardon': 4267, 'sun': 5771, 'getup': 2450, 'charlie:': 1041, 'experiments': 2022, 'barely': 481, 'conditioner': 1269, 'celebrities': 996, 'nominated': 4050, \"g'on\": 2386, 'john': 3163, 'started': 5623, 'journey': 3174, 'duff': 1794, 'feedbag': 2116, 'lump': 3564, 'gives': 2476, 'man_with_tree_hat:': 3628, 'len-ny': 3384, 'jobless': 3156, 'tells': 5926, 'case': 969, 'benefits': 592, 'president': 4548, 'inspection': 3030, 'brooklyn': 801, 'dreamily': 1748, 'oblivious': 4105, 'tree_hoper:': 6165, 'held': 2744, 'accusing': 107, 'around': 346, 'lovers': 3546, 'beep': 554, 'edelbrock': 1854, 'third': 6007, 'toms': 6100, 'rings': 4906, 'throat': 6040, 'hidden': 2777, 'stage': 5598, 'glad': 2478, 'other_book_club_member:': 4197, 'stupidest': 5739, 'brockman': 794, 'tofu': 6084, 'beers': 561, 'grim': 2565, 'pipes': 4406, 'ingested': 3012, 'sudden': 5754, 'however': 2894, 'jay_leno:': 3129, 'opens': 4178, 'class': 1144, 'applesauce': 316, 'legend': 3378, \"tootin'\": 6114, 'mop': 3860, 'college': 1210, 'relative': 4810, 'brotherhood': 805, 'glamour': 2479, 'led': 3370, 'depressant': 1572, 'singing': 5314, 'elder': 1890, 'bull': 831, 'imported-sounding': 2970, 'scam': 5061, 'confidence': 1275, 'character': 1034, 'liven': 3473, 'soothing': 5500, 'expert': 2023, 'compare': 1243, 'refinanced': 4795, 'story': 5703, 'pip': 4404, 'civilization': 1137, 'tree': 6163, 'stiffening': 5671, 'pint': 4403, 'use': 6325, 'saying': 5059, 'lily-pond': 3435, 'mister': 3800, 'lobster-politans': 3489, 'diapers': 1604, 'goods': 2515, 'penmanship': 4325, 'society': 5462, 'cobbling': 1188, 'behavior': 572, 'connection': 1282, 'whirlybird': 6546, 'jackass': 3107, 'grubby': 2582, 'sauce': 5047, \"brockman's\": 795, 'memories': 3720, 'temple': 5929, 'ambrosia': 249, 'head-gunk': 2714, 'rutabaga': 4988, 'baby': 433, \"g'night\": 2385, 'count': 1342, 'adopted': 137, 'by': 886, 'jigger': 3152, 'live': 3472, 'congoleum': 1280, 'glee': 2482, 'test': 5950, 'trust': 6193, 'two-drink': 6237, 'nonchalantly': 4054, 'agent': 169, 'series': 5166, 'yew': 6742, 'toe': 6083, 'restless': 4870, 'dumpster': 1810, 'drollery': 1772, 'available': 405, 'forgot': 2282, 'boo': 696, 'sympathetic': 5840, 'rap': 4733, 'grind': 2569, 'sure': 5794, \"people's\": 4329, 'viva': 6380, 'associate': 373, \"father's\": 2099, \"what're\": 6519, 'shuts': 5273, \"'topes\": 23, 'heads': 2717, \"poisonin'\": 4474, 'chip': 1091, 'although': 239, 'fight': 2150, 'harv': 2686, 'family-owned': 2078, 'balls': 463, 'moon': 3855, 'english': 1933, 'nantucket': 3953, 'supplying': 5788, \"linin'\": 3449, 'malibu': 3616, 'asking': 364, 'marched': 3644, \"wonderin'\": 6648, 'maybe': 3682, 'yee-haw': 6729, 'woooooo': 6656, 'hunka': 2913, 'bartenders': 503, 'frenchman': 2325, 'lazy': 3356, 'attention': 389, 'cushions': 1444, 'mad': 3586, 'platinum': 4433, 'brace': 744, 'snapping': 5427, 'written': 6699, 'bully': 835, 'presents': 4546, 'automobiles': 404, 'usual': 6330, 'novelty': 4081, 'egg': 1869, 'involving': 3070, 'potatoes': 4513, 'cigars': 1130, 'locked': 3493, '_babcock:': 63, 'line': 3446, \"mo'\": 3812, 'doors': 1722, 'roll': 4927, 'pick': 4378, 'make': 3607, 'tactful': 5857, 'lodge': 3495, 'grandã©': 2545, 'happiness': 2674, 'stopped': 5695, 'male_singers:': 3614, 'teen': 5913, 'exchange': 2001, 'washouts': 6446, 'understanding': 6275, 'twenty-five': 6227, 'scatter': 5068, 'upgrade': 6314, 'carlson': 959, 'comforting': 1228, 'brakes': 753, 'wistful': 6622, 'stinky': 5679, 'thrilled': 6039, 'grrrreetings': 2580, 'thorough': 6021, 'heartless': 2730, 'overflowing': 4216, 'anything': 302, 'question': 4681, 'excuses': 2008, 'recently': 4776, 'sperm': 5543, 'schemes': 5073, 'island': 3083, 'stay-puft': 5642, 'patrons': 4299, 'bulletin': 834, 'alfalfa': 209, 'wakede': 6409, \"changin'\": 1027, 'darkest': 1484, 'wearing': 6482, 'lose': 3519, 'sticker': 5667, 'king': 3257, 'bums': 842, 'sweden': 5819, 'bupkus': 845, 'enjoy': 1936, 'scratcher': 5093, \"snappin'\": 5426, \"neat's-foot\": 3977, 'cowboy': 1366, 'tries': 6175, 'nightmare': 4031, '__exclamation_mark__': 55, 'deals': 1512, 'vigilante': 6369, 'watered': 6457, 'uncomfortable': 6267, 'sloe': 5382, 'joint': 3169, 'hearse': 2726, 'represent': 4855, 'pfft': 4360, 'ignorance': 2954, 'scores': 5086, 'superpower': 5785, 'shorter': 5244, 'pub': 4628, 'tasty': 5890, 'interested': 3048, 'clock': 1165, 'rhode': 4884, 'effervescent': 1867, 'eternity': 1967, 'ebullient': 1848, 're:': 4747, \"payin'\": 4311, 'rolling': 4930, 'eventually': 1977, 'animals': 277, 'eww': 1990, 'smoker': 5410, 'meal': 3693, 'wake': 6408, 'eighty-three': 1885, 'stillwater:': 5673, 'often': 4134, 'things': 6002, 'rafter': 4705, \"sat's\": 5042, 'sweetest': 5822, 'con': 1264, 'uniforms': 6291, 'stained-glass': 5602, 'wrapped': 6688, 'martini': 3659, 'either': 1887, \"somebody's\": 5477, 'depository': 1571, 'oak': 4102, 'mind-numbing': 3773, 'going': 2502, 'workers': 6664, 'cosmetics': 1331, 'toxins': 6135, 'gig': 2460, 'brain-switching': 749, 'theatah': 5976, 'boyfriend': 741, 'wiener': 6572, 'george': 2436, 'luv': 3572, 'backgammon': 439, 'sternly': 5663, 'cleveland': 1158, 'keep': 3214, 'fbi': 2108, 'joined': 3167, 'costume': 1333, 'voted': 6390, 'heh-heh': 2743, 'renders': 4836, 'reader': 4756, 'ralphie': 4728, 'chuck': 1114, 'utensils': 6332, 'pep': 4330, 'coined': 1203, 'afternoon': 162, 'marquee': 3654, 'rumor': 4976, 'selma_bouvier:': 5150, 'hot': 2876, 'quarry': 4673, \"world's\": 6669, 'juke': 3185, 'star': 5615, 'corporation': 1326, 'canoodling': 928, 'goblins': 2498, 'ollie': 4151, 'far': 2087, 'learned': 3362, 'pats': 4301, 'wowww': 6686, 'courage': 1353, 'meaningful': 3698, 'aiden': 191, 'wine': 6601, 'given': 2475, 'boxing': 737, 'stamps': 5609, 'dying': 1818, 'beaumarchais': 538, 'streetlights': 5717, 'satisfied': 5045, 'forbidden': 2268, 'punkin': 4652, 'deal': 1509, 'turn': 6209, 'reserved': 4862, \"i'm\": 2932, 'romantic': 4934, 'professor': 4598, 'are': 333, 'elmer': 1899, 'unintelligent': 6293, 'keys': 3229, \"one's\": 4159, 'cure': 1438, 'terrorizing': 5949, 'missed': 3795, 'maiden': 3600, 'noggin': 4047, 'amused': 259, 'marry': 3657, 'you': 6748, 'jolly': 3173, 'arm-pittish': 343, 'fence': 2135, 'winch': 6593, \"you're\": 6751, 'congratulations': 1281, 'showered': 5260, 'least': 3364, 'goodnight': 2514, 'seething': 5137, 'experienced': 2021, \"somethin':\": 5484, 'shelf': 5219, 'accidents': 103, 'five': 2197, 'chum': 1121, 'enough': 1941, 'reluctant': 4821, 'shack': 5187, 'write': 6694, 'type': 6240, 'turlet': 6208, 'exit': 2013, 'louie:': 3535, '7-year-old_brockman:': 47, 'tv_father:': 6219, 'dennis': 1561, 'louse': 3537, 'inspire': 3032, 'e': 1823, 'walk': 6411, 'cattle': 983, 'station': 5635, 'cupid': 1435, 'dallas': 1464, 'brief': 780, 'palm': 4252, 'starla': 5617, 'greetings': 2557, 'roy': 4955, 'limber': 3436, 'try': 6197, 'misfire': 3792, 'placed': 4416, 'creeps': 1392, 'dunno': 1813, 'perfunctory': 4342, 'soir': 5468, 'rumaki': 4974, 'pretend': 4558, 's': 4990, 'instantly': 3036, 'whee': 6528, 'rolled': 4928, 'slugger': 5388, 'weirded-out': 6496, 'declare': 1528, 'chips': 1094, 'celebration': 995, 'human': 2906, 'bold': 685, 'brain': 748, 'grandkids': 2542, 'forty': 2291, 'harvey': 2690, 'wish-meat': 6618, \"dolph's_dad:\": 1702, 'dinner': 1633, 'feminist': 2134, \"tony's\": 6109, 'squirrels': 5591, 'insults': 3041, 'traditions': 6141, 'beard': 530, 'i': 2928, 'wantcha': 6427, 'hideous': 2779, '4x4': 42, 'writer:': 6695, 'smells': 5400, \"gentleman's\": 2430, 'dexterous': 1599, 'face-macer': 2052, 'wisconsin': 6615, 'arabs': 331, 'flames': 2208, 'tomahto': 6094, 'women': 6642, 'mumbling': 3911, 'rough': 4949, 'film': 2164, 'noosey': 4060, 'straighten': 5705, 'beer-jerks': 559, 'this:': 6017, '250': 37, 'founded': 2299, 'talk-sings': 5868, 'perplexed': 4349, 'nobel': 4043, 'procedure': 4591, 'teacup': 5902, 'indigenous': 2997, 'panicky': 4256, 'life': 3415, 'protesting': 4621, 'elite': 1897, 'naturally': 3965, 'twelveball': 6224, 'nick': 4022, \"you'd\": 6749, 'furious': 2372, 'girl': 2470, 'bartholomã©:': 506, \"sittin'\": 5335, 'estranged': 1965, 'move': 3886, 'gulliver_dark:': 2599, 'jukebox_record:': 3187, 'mole': 3836, 'studio': 5734, 'metal': 3734, 'environment': 1953, 'lindsay_naegle:': 3445, 'bubbles': 815, 'el': 1888, 'depression': 1576, 'musketeers': 3926, 'she': 5210, 'duke': 1801, 'spit-backs': 5553, 'mint': 3782, 'power': 4519, 'published': 4631, 'polenta': 4479, 'singing/pushing': 5315, 'cooler': 1317, 'owned': 4224, 'arguing': 337, 'tastes': 5889, 'dejected': 1540, 'tablecloth': 5854, 'pathetic': 4293, 'starts': 5628, 'thought': 6025, 'lookalike:': 3507, 'broken:': 798, 'stones': 5688, 'flailing': 2205, 'fail': 2061, 'hotline': 2880, 'billion': 621, 'south': 5514, \"yesterday's\": 6740, 'beer': 556, 'lisa_simpson:': 3457, 'sisters': 5328, 'dump': 1809, 'focused': 2244, 'chairman': 1015, 'temporarily': 5931, 'scratching': 5094, 'god': 2499, 'hooch': 2850, 'saint': 5016, 'dentist': 1565, 'grunts': 2589, 'acquitted': 111, 'visas': 6379, 'pus-bucket': 4657, 'comeback': 1223, 'jack_larson:': 3106, 'bowled': 729, 'grienke': 2562, 'detecting': 1591, 'six-barrel': 5339, 'hands': 2653, 'lou:': 3531, 'tearfully': 5907, 'dry': 1786, 'proposition': 4617, 'mouths': 3885, 'yup': 6769, 'daughter': 1495, 'string': 5721, 'billy_the_kid:': 623, 'managed': 3630, 'vomit': 6387, 'professional': 4597, 'falsetto': 2074, 'leaving': 3368, 'then': 5983, 'gabriel:': 2389, 'reed': 4789, 'answered': 288, 'scornful': 5087, 'delicate': 1547, 'turned': 6210, 'aging': 178, 'las': 3338, 'rubbed': 4961, 'woman': 6638, 'someday': 5478, 'amber_dempsey:': 247, 'massachusetts': 3665, 'pained': 4241, 'fatty': 2101, 'cheese': 1067, 'donut-shaped': 1716, 'notably': 4071, 'knife': 3275, 'naked': 3947, 'job': 3155, 'researching': 4859, 'calling': 909, 'slurps': 5389, 'threw': 6038, 'forehead': 2274, \"fishin'\": 2192, 'fine': 2172, 'ayyy': 425, 'bust': 868, 'filled': 2162, 'wonderful': 6647, 'root': 4943, 'find': 2170, 'german': 2437, 'asked': 362, 'seek': 5130, 'cuddling': 1429, 'unattractive': 6262, 'finishing': 2179, 'looks': 3512, 'read:': 4755, 'cross-country': 1408, 'dreary': 1751, 'register': 4802, 'sips': 5323, 'ginger': 2469, 'eh': 1872, \"coffee'll\": 1199, 'listened': 3462, 'gus': 2610, 'lisa': 3455, 'spamming': 5521, \"o'problem\": 4100, \"mcstagger's\": 3691, 'invited': 3068, 'humanity': 2907, 'edge': 1855, \"s'pose\": 4993, 'hunky': 2914, 'blood-thirsty': 662, 'cocking': 1191, 'fat_in_the_hat:': 2096, 'injury': 3017, \"lookin'\": 3510, 'microbrew': 3747, 'fistiana': 2195, 'rupert_murdoch:': 4984, 'sinkhole': 5321, 'press': 4552, 'rookie': 4940, 'robbers': 4919, 'ruby-studded': 4963, 'hangout': 2661, 'indifference': 2995, 'bookie': 700, 'smelling': 5399, '__quotation_mark__': 59, 'poem': 4461, 'sagacity': 5010, 'boned': 690, 'courteous': 1356, 'breaks': 768, 'hustle': 2923, 'while': 6541, 'picture': 4386, 'triangle': 6171, 'also': 236, \"don't\": 1706, 'mm-hmm': 3807, 'replace': 4851, 'shout': 5253, 'mulder': 3905, 'would': 6679, 'normals': 4065, 'confused': 1279, 'nine': 4033, 'media': 3709, 'flaming': 2209, 'consoling': 1290, 'meeting': 3716, 'lloyd:': 3480, 'cocktail': 1195, 'baloney': 464, \"coaster's\": 1186, 'generally': 2424, 'paparazzo': 4262, 'peace': 4316, 'sent': 5162, 'official': 4131, 'koji': 3294, 'hard': 2677, 'actress': 120, 'gardens': 2404, 'jerry': 3145, 'bumpy-like': 841, 'distributor': 1676, 'wanna': 6425, 'conclusions': 1268, 'peter_buck:': 4357, 'academy': 95, 'disgusted': 1661, 'bid': 609, 'blubberino': 672, 'kemi': 3218, 'single-mindedness': 5317, 'remembered': 4828, 'smile': 5402, 'troubles': 6184, 'queer': 4679, 'childless': 1081, 'tatum': 5891, 'amnesia': 257, 'somehow': 5479, 'comic_book_guy:': 1230, \"y'know\": 6710, 'might': 3757, 'locklear': 3494, 'beating': 535, 'sarcastic': 5038, 'enemies': 1926, 'worry': 6674, 'post-suicide': 4510, 'remember': 4827, 'goodbye': 2513, 'trees': 6167, \"cashin'\": 972, 'hampstead-on-cecil-cecil': 2645, 'pipe': 4405, 'dessert': 1588, 'did': 1608, 'leonard': 3394, 'field': 2145, 'eat': 1842, 'went': 6503, 'love': 3539, 'fans': 2083, 'head': 2713, 'blob': 657, '2': 35, 'cow': 1363, 'suits': 5767, 'fellow': 2128, 'grinch': 2568, \"watchin'\": 6454, 'crowded': 1415, 'increasingly': 2986, 'thirty-thousand': 6013, 'annoyed': 281, 'healthier': 2721, 'flame': 2207, 'obese': 4104, 'resist': 4864, 'midge:': 3755, 'rug': 4966, 'jumping': 3191, 'ditched': 1679, 'o': 4097, 'horribilis': 2864, 'term': 5940, 'longer': 3503, 'grammys': 2537, \"cheerin'\": 1062, 'appalled': 310, 'bird': 626, 'prettiest': 4563, 'kindly': 3255, 'toledo': 6090, 'take-back': 5860, 'barney': 489, 'rope': 4944, 'warmth': 6434, 'monkey': 3845, 'outrageous': 4209, 'synthesize': 5845, 'lives': 3475, 'nooo': 4057, 'spinning': 5549, 'supposed': 5792, 'i/you': 2940, 'klingon': 3270, 'fox': 2306, 'wound': 6683, 'commission': 1235, 'ragtime': 4713, 'nicer': 4021, 'billingsley': 620, 'in-in-in': 2977, 'meaningfully': 3699, 'as': 357, 'citizens': 1132, 'cell-ee': 1000, 'grin': 2567, 'mckinley': 3689, 'tow': 6128, 'earth': 1833, 'billboard': 618, 'enter': 1942, 'ons': 4166, 'ihop': 2957, 'notices': 4077, 'rebuttal': 4772, 'shotgun': 5246, \"mother's\": 3876, 'taps': 5885, 'uhhhh': 6254, 'leno': 3392, 'cecil_terwilliger:': 993, 'cap': 932, 'umm': 6257, 'griffith': 2564, 'ugliest': 6248, 'cerebral': 1005, 'sunday': 5772, 'he': 2709, 'when-i-get-a-hold-of-you': 6534, 'brings': 788, 'caught': 985, 'beach': 523, 'fears': 2111, 'regulars': 4806, 'stores': 5700, 'happen': 2668, 'nordiques': 4063, 'successful': 5747, 'murmur': 3917, 'black': 636, 'wonder': 6645, 'punishment': 4650, 'telephone': 5921, 'bake': 455, 'lifters': 3425, 'wally:': 6419, \"bart'd\": 498, 'leave': 3366, 'tavern': 5895, 'cutie': 1451, 'triumphantly': 6178, 'rafters': 4706, 'wudgy': 6702, 'vacuum': 6336, 'gosh': 2520, \"renee's\": 4838, 'switched': 5838, 'stock': 5683, 'chorus:': 1106, 'killjoy': 3249, 'vehicle': 6348, 'wolverines': 6636, 'bag': 451, 'admitting': 136, 'impatient': 2966, 'let': 3399, 'crisis': 1404, 'eyed': 2044, 'runt': 4983, 'idealistic': 2948, 'waitress': 6407, 'stealings': 5650, 'like': 3433, 'tick': 6051, 'mother': 3875, 'whoops': 6566, 'loyal': 3555, 'consulting': 1293, 'quimby_#2:': 4688, 'motor': 3877, 'dads': 1462, 'burps': 856, 'imagine': 2963, 'marguerite:': 3649, 'clothespins': 1174, 'jeff': 3135, 'surgeonnn': 5795, 'anarchy': 261, 'playing': 4441, 'tune': 6206, 'overstressed': 4218, 'wore': 6661, 'inflated': 3006, 'child': 1080, 'dreamy': 1750, 'producers': 4594, 'who': 6554, 'farthest': 2089, 'unlocked': 6301, 'richard': 4889, 'sheet': 5216, 'telemarketing': 5920, 'andalay': 268, 'trying': 6199, 'sports': 5568, 'ingrates': 3013, 'generously': 2427, 'bites': 632, 'mexicans': 3739, 'summer': 5769, 'pharmaceutical': 4361, 'prince': 4574, \"dyin'\": 1817, 'dull': 1802, 'giggle': 2461, 'semi-imported': 5151, 'fontaine': 2256, 'match': 3668, 'newest': 4010, 'chateau': 1047, 'goo': 2510, 'choices:': 1099, 'chinua': 1090, 'mcclure': 3688, 'liar': 3407, 'fill': 2161, 'hubub': 2897, 'eager': 1826, 'speech': 5535, 'unusually': 6309, 'alone': 230, \"games'd\": 2400, \"hadn't\": 2625, 'ready': 4761, 'lots': 3526, 'distract': 1674, 'gee': 2419, 'ambrose': 248, 'we': 6471, 'ice': 2941, \"grandmother's\": 2544, 'karaoke': 3208, 'zone': 6777, 'paramedic:': 4265, 'life-extension': 3417, 'skoal': 5356, 'bachelor': 434, 'moron': 3866, 'affection': 152, 'salvation': 5023, 'tin': 6066, 'movie': 3889, 'singer': 5311, 'camp': 917, 'brow': 808, \"i-i'm\": 2938, 'getaway': 2444, 'favorite': 2106, 'squashing': 5584, 'sold': 5469, 'harv:': 2687, 'whup': 6568, 'broad': 791, 'guttural': 2614, 'paints': 4247, 'numbers': 4091, 'layer': 3355, 'behind': 573, 'gonna': 2509, 'pulled': 4642, 'regretful': 4804, 'five-fifteen': 2198, 'catty': 984, 'wealthy': 6478, 'certainly': 1008, 'superior': 5782, 'realized': 4765, 'knees': 3273, 'scare': 5064, 'pockets': 4460, 'minute': 3784, \"guy's\": 2616, 'bits': 633, 'playhouse': 4439, 'youuu': 6767, 'donate': 1708, 'worse': 6675, 'stranger:': 5709, 'lenses': 3393, 'flynt': 2241, 'dictator': 1607, 'beached': 524, 'strap': 5711, 'well': 6499, 'sealed': 5108, \"hawkin'\": 2706, 'knowingly': 3285, \"there's\": 5989, 'sanitation': 5033, 'breath': 769, 'swell': 5826, 'mona_simpson:': 3841, 'frankie': 2311, 'boston': 713, 'mac-who': 3580, 'dramatically': 1739, 'jewish': 3150, 'sucking': 5752, 'rip-off': 4908, 'amid': 256, 'quadruple-sec': 4671, 'senators:': 5156, 'avec': 407, 'safety': 5008, \"we'd\": 6472, 'politicians': 4485, 'ends': 1925, 'doing': 1696, 'hems': 2761, \"pullin'\": 4643, 'whaddya': 6513, 'i-i-i': 2939, 'sec_agent_#2:': 5117, 'memory': 3721, 'fall': 2071, 'nudge': 4087, 'nailed': 3945, 'soaps': 5453, 'twenty-four': 6228, 'twelve-step': 6223, \"life's\": 3416, 'physical': 4375, 'taught': 5893, 'parking': 4273, 'specials': 5530, 'pussycat': 4662, 'ladies': 3311, 'flash-fry': 2213, 'asks': 365, 'na': 3938, 'tough': 6126, 'mock': 3817, 'publish': 4630, 'agency': 168, 'losing': 3522, 'bon-bons': 688, 'wrecking': 6691, 'crawl': 1382, 'explanation': 2027, 'swigmore': 5829, 'get': 2443, 'lost': 3524, 'restaurant': 4868, 'p-k': 4229, 'moe_szyslak:': 3834, 'rhyme': 4885, 'jig': 3151, 'exception:': 2000, 'dã¼ff': 1821, 'paris': 4270, 'praise': 4525, 'concentrate': 1265, 'helpful': 2755, 'sotto': 5503, \"queen's\": 4678, 'huh': 2904, 'isotopes': 3086, 'clothespins:': 1175, 'contact': 1295, 'detective_homer_simpson:': 1593, 'woodchucks': 6653, 'finally': 2168, 'poin-dexterous': 4465, 'lowest': 3554, 'cotton': 1335, 'food': 2258, 'repairman': 4847, 'quarterback': 4675, 'drove': 1778, 'blowfish': 668, 'lighter': 3430, 'creature': 1390, 'son': 5492, 'victorious': 6364, 'harder': 2678, 'push': 4658, 'order': 4185, 'prep': 4540, 'ride': 4894, 'grants': 2547, 'hellhole': 2750, 'entering': 1943, 'toy': 6136, '$42': 1, 'chase': 1045, 'prices': 4569, 'raking': 4725, 'twentieth': 6225, 'disapproving': 1648, 'ratio': 4742, 'house': 2886, 'connor': 1283, 'against': 164, 'lush': 3570, 'beats': 537, 'xanders': 6707, 'saucy': 5048, 'players': 4437, 'clap': 1142, 'approval': 324, 'goodwill': 2516, 'glen:': 2484, 'steam': 5651, 'edna_krabappel-flanders:': 1861, 'ronstadt': 4938, 'principles': 4578, 'die': 1611, 'whim': 6542, 'police': 4480, 'beverage': 606, 'camera': 915, 'plan': 4420, 'permanent': 4346, 'smoke': 5409, 'words': 6660, 'maximum': 3677, 'standing': 5613, 'paid': 4239, 'till': 6061, 'bail': 454, 'they': 5993, 'rest': 4867, 'cream': 1387, 'ye': 6722, 'snort': 5440, 'dash': 1488, 'honored': 2848, 'reading': 4758, \"yieldin'\": 6743, 'someplace': 5482, 'finance': 2169, 'joining': 3168, 'gang': 2401, 'gas': 2409, 'laramie': 3331, 'marriage': 3655, 'alcohol': 204, 'hooky': 2853, 'football': 2264, 'mind': 3772, \"i've\": 2935, 'homer_': 2837, 'forward': 2296, 'unrelated': 6303, 'including': 2983, 'gotten': 2525, 'caveman': 990, 'urban': 6320, 'richard:': 4890, 'prejudice': 4537, \"idea's\": 2946, \"tester's\": 5954, 'hushed': 2922, 'soon': 5496, 'alky': 215, 'labor': 3308, 'um': 6256, 'appealing': 311, 'increased': 2985, 'column': 1217, 'above': 88, 'gimme': 2464, 'swallowed': 5810, 'website': 6486, 'newsies': 4013, 'assumed': 375, 'fruit': 2352, 'hooters': 2855, 'duff_announcer:': 1796, 'odd': 4119, 'appear': 313, 'wondered': 6646, 'two': 6236, 'apology': 308, 'hmf': 2807, 'cesss': 1011, 'ha-ha': 2621, 'buffalo': 823, 'candles': 924, 'oopsie': 4173, 'lover': 3545, 'forecast': 2273, 'desperately': 1586, 'ringing': 4905, 'smell': 5398, 'pleased': 4447, 'annus': 284, 'margarita': 3645, 'burt': 858, 'chosen': 1107, 'du': 1788, 'cutest': 1450, 'shoes': 5232, 'towed': 6132, 'followed': 2251, 'thankful': 5964, 'handshake': 2654, 'strokkur': 5725, 'sleigh-horses': 5370, 'nation': 3963, 'gal': 2392, 'jets': 3148, 'carlotta:': 958, \"tv'll\": 6214, 'nursemaid': 4094, 'korea': 3296, 'grabs': 2530, 'yourse': 6762, 'chest': 1071, 'sing': 5309, 'election': 1892, 'drift': 1758, 'wolfe': 6635, 'ohhhh': 4139, \"fallin'\": 2072, 'peter': 4356, 'ads': 139, 'troy:': 6186, 'attraction': 392, 'nail': 3944, 'come': 1222, 'cursed': 1442, 'cletus_spuckler:': 1157, \"friend's\": 2334, 'barstools': 496, 'sees/': 5136, 'corn': 1323, 'channel': 1029, 'democracy': 1559, 'x': 6705, 'down': 1731, \"bladder's\": 638, 'treat': 6160, 'clapping': 1143, 'deeply': 1533, 'aquafresh': 329, \"she's\": 5213, 'rom': 4932, 'assent': 369, 'girl-bart': 2471, 'caholic': 898, 'neither': 3996, 'perfume': 4341, 'malfeasance': 3615, 'nards': 3956, 'jimmy': 3154, 'industry': 2999, 'unison': 6294, 'dea-d-d-dead': 1505, 'fast': 2090, 'bottle': 717, 'pennies': 4326, 'ma': 3576, 'immiggants': 2965, 'except': 1999, 'lights': 3432, 'edna-lover-one-seventy-two': 1860, 'doll-baby': 1698, 'shares': 5204, 'adrift': 138, 'doll': 1697, 'to': 6077, 'clench': 1155, 'opening': 4177, 'forced': 2271, 'center': 1002, 'sky': 5358, 'interesting': 3049, 'settlement': 5177, 'kent': 3223, 'of': 4122, 'issues': 3087, 'karaoke_machine:': 3209, 'damned': 1470, 'talking': 5873, 'burger': 847, 'steampunk': 5654, 'soup': 5510, 'steal': 5648, 'walks': 6414, 'rule': 4971, 'iran': 3072, 'bless': 648, 'spitting': 5556, 'prettied': 4562, 'manboobs': 3634, 'cozies': 1370, 'amanda': 243, 'considering': 1287, 'eva': 1971, 'bears': 532, 'sadly': 5003, 'build': 828, 'wayne:': 6468, 'across': 113, 'sheepish': 5215, 'majority': 3606, 'delightful': 1551, 'regulations': 4807, 'audience:': 398, 'wipes': 6612, 'and:': 267, 'jeez': 3134, 'aerosmith': 149, 'audience': 397, 'play': 4434, \"others'\": 4199, \"nixon's\": 4041, 'been': 553, 'crystal': 1426, 'mob': 3815, 'milk': 3767, 'poker': 4477, 'number': 4089, 'brusque': 813, 'legs': 3380, 'lessee': 3397, 'throwing': 6044, 'brewed': 775, 'nickel': 4024, 'wrap': 6687, 'poking': 4478, 'undermine': 6272, 'glummy': 2492, 'finger': 2175, 'ralph': 4726, 'caricature': 952, 'snotty': 5443, 'blurbs': 677, 'starting': 5626, 'practically': 4523, 'sector': 5123, 'advance': 142, 'says': 5060, 'newspaper': 4015, 'spy': 5578, \"i'll\": 2931, 'walking': 6413, 'spiritual': 5551, 'midge': 3754, \"show's\": 5256, 'answering': 289, 'ralph_wiggum:': 4727, 'dollars': 1700, 'moe-near-now': 3831, 'versus': 6356, 'chili': 1084, 'honeys': 2846, \"pickin'\": 4380, 'manuel': 3641, 'other_player:': 4198, 'seamstress': 5109, 'shades': 5188, 'mugs': 3903, 'rat-like': 4740, 'sincerely': 5308, 'beligerent': 581, 'anti-lock': 294, 'such': 5748, 'realizing': 4766, \"everyone's\": 1984, 'rims': 4903, 'homesick': 2841, 'it': 3089, 'fl': 2202, 'kicked': 3232, 'lame': 3320, 'understood': 6276, 'agent_johnson:': 170, 'disappeared': 1644, 'witty': 6628, 'knuckles': 3290, 'colorado': 1215, 'idioms': 2950, 'online': 4164, 'car:': 942, 'tsk': 6200, 'hurts': 2920, 'clipped': 1163, 'snow': 5445, 'fritz:': 2344, 'byrne': 888, 'patron_#1:': 4297, 'valuable': 6339, 'drown': 1779, 'pickled': 4382, 'boxers': 736, 'releasing': 4816, 'smooth': 5414, 'wow': 6685, 'shark': 5207, 'yea': 6723, 'scene': 5069, 'perhaps': 4343, \"city's\": 1134, 'diaper': 1603, 'togetherness': 6086, 'wall': 6415, 'smithers': 5407, 'folks': 2249, \"s'cuse\": 4991, 'kansas': 3207, 'considering:': 1288, 'democrats': 1560, 'inherent': 3015, 'represents': 4856, 'kucinich': 3301, 'new': 4008, 'winks': 6604, 'frat': 2313, 'hang': 2658, 'pages': 4238, 'ungrateful': 6288, 'waist': 6403, 'bye': 887, 'safecracker': 5005, \"heat's\": 2732, 'u': 6244, 'resolution': 4865, 'radioactive': 4703, 'feel': 2117, 'sour': 5512, 'cock': 1190, 'ivory': 3102, 'apu_nahasapeemapetilon:': 327, 'anxious': 295, 'slab': 5360, 'fumigated': 2364, 'later': 3342, 'flustered': 2238, \"ridin'\": 4896, 'smelly': 5401, 'henry': 2762, 'eminence': 1908, \"'em\": 8, 'syndicate': 5844, 'issuing': 3088, 'sucks': 5753, 'nucular': 4086, 'universe': 6296, 'pleasure': 4448, 'er': 1957, 'culkin': 1432, 'morning': 3864, 'international': 3050, 'watered-down': 6458, 'and-and': 265, 'deny': 1567, 'glyco-load': 2494, \"cleanin'\": 1149, 'cause': 987, 'temper': 5928, 'matter-of-fact': 3674, 'sweet': 5820, 'hyahh': 2924, 'cronies': 1405, 'shower': 5259, 'invulnerable': 3071, 'handing': 2648, 'exploiter': 2028, 'infatuation': 3003, 'hold': 2819, 'room': 4941, 'intrigued': 3058, 'crapmore': 1380, 'thighs': 5998, 'snail': 5421, 'train': 6145, 'jane': 3122, 'sunglasses': 5773, 'plug': 4454, 'tying': 6239, 'sooner': 5497, 'snaps': 5428, 'plucked': 4453, 'homunculus': 2843, 'shopping': 5239, 'atlanta': 383, 'dies': 1614, \"poundin'\": 4515, 'k': 3201, 'flea:': 2219, 'oh-so-sophisticated': 4137, 'moan': 3813, 'badges': 447, 'tell': 5923, 'become': 544, 'avenue': 408, 'warm_female_voice:': 6432, 'extra': 2035, 'illegally': 2959, 'people': 4328, 'fuhgetaboutit': 2357, 'easier': 1835, 'else': 1902, 'continued': 1302, 'woo': 6650, 'maggie': 3593, 'alibi': 212, 'furiously': 2373, 'oww': 4227, 'grow': 2578, 'punch': 4647, 'dumb': 1804, 'fevered': 2140, 'crippling': 1403, 'rosey': 4946, 'holds': 2821, 'lewis': 3404, 'refiero': 4793, 'mirror': 3787, 'miles': 3761, 'attractive_woman_#2:': 395, 'truck_driver:': 6189, 'author': 402, 'tip': 6070, 'powered': 4520, \"speakin'\": 5525, 'sister-in-law': 5327, 'important': 2969, 'color': 1214, 'rods': 4926, 'bar-boy': 475, 'truck': 6188, 'right-handed': 4902, 'booze-bags': 705, 'scoffs': 5083, 'opportunity': 4180, 'dynamite': 1819, 'homeless': 2832, 'run': 4978, 'grumbling': 2586, 'carolina': 964, 'maher': 3599, 'closed': 1168, 'solid': 5471, 'emporium': 1914, 'size': 5344, 'warn': 6435, 'forty-nine': 2293, 'sing-song': 5310, 'at': 380, 'prime': 4573, 'starlets': 5620, 'defected': 1536, \"burnin'\": 851, 'flack': 2203, 'hydrant': 2925, 'handle': 2649, 'authenticity': 401, 'adult': 140, '6': 46, 'dollface': 1701, 'dig': 1620, 'peeping': 4322, 'bell': 582, 'blade': 639, 'logos': 3498, 'melodramatic': 3719, \"she'll\": 5212, 'wheels': 6531, 'tom': 6093, 'reminds': 4832, 'prove': 4624, \"handwriting's\": 2657, 'sentimonies': 5163, 'lis': 3454, 'clears': 1154, 'calculate': 902, 'chilly': 1086, 'compressions': 1259, 'hibbert': 2776, 'easter': 1838, 'shells': 5220, 'sheriff': 5221, 'covering': 1361, 'taste': 5888, 'yep': 6737, 'phase': 4362, 'annual': 283, \"couldn't\": 1341, 'starve': 5630, 'once': 4157, 'long': 3502, 'donated': 1709, 'positive': 4507, 'sympathy': 5842, 'stool': 5692, 'flips': 2225, 'blinds': 654, 'lead': 3357, 'snout': 5444, 'attempting': 387, 'kitchen': 3268, 'belch': 577, 'exclusive:': 2006, 'loafers': 3483, 'idea': 2945, 'forget': 2276, 'all-american': 218, 'partners': 4280, 'macaulay': 3581, 'handoff': 2652, 'this': 6015, 'blend': 647, \"stinkin'\": 5677, '&': 2, 'won': 6643, 'city': 1133, 'evil': 1987, 'duffman': 1798, \"'ere\": 10, 'care': 946, 'delivery': 1553, 'entire': 1949, 'repeated': 4849, 'suburban': 5746, 'wolveriskey': 6637, 'falcons': 2070, 'some': 5475, 'irrelevant': 3079, 'partially': 4277, 'rip': 4907, 'creepy': 1393, 'nervously': 4004, 'screw': 5097, 'refreshingness': 4799, 'planned': 4424, '_zander:': 73, 'one-hour': 4160, 'working': 6666, 'apulina': 328, 'jerk': 3139, 'candidate': 923, 'duty': 1816, 'bushes': 863, 'the_rich_texan:': 5975, 'tones': 6102, 'season': 5112, 'mural': 3913, 'laughing': 3346, 'wholeheartedly': 6563, 'tight': 6060, 'natured': 3967, 'social': 5460, 'on': 4155, \"edna's\": 1859, 'therapist': 5986, 'courts': 1358, 'outs': 4210, 'tomato': 6095, 'ball-sized': 459, 'lloyd': 3479, \"don'tcha\": 1707, 'handling': 2651, 'rockers': 4924, 'heart': 2727, 'whispered': 6548, 'stamp': 5608, 'busiest': 864, 'water': 6456, 'charity': 1039, \"drinkin'\": 1761, 'slapped': 5362, 'juan': 3177, 'intelligent': 3045, 'obama': 4103, 'holding': 2820, 'cyrano': 1454, \"doin'\": 1695, 'radio': 4702, \"donatin'\": 1710, 'scornfully': 5088, 'mine': 3775, 'poured': 4517, 'halvsies': 2641, 'champ': 1018, 'near': 3974, 'patented': 4292, \"'ceptin'\": 7, 'seriously': 5168, 'neon': 4000, 'language': 3328, 'ocean': 4117, 'leftover': 3373, 'rusty': 4987, 'speak': 5524, 'tolerable': 6091, 'shesh': 5222, 'large': 3333, 'cookies': 1314, 'anymore': 300, 'powerful': 4521, 'likes': 3434, 'fonda': 2253, 'lofty': 3496, 'ease': 1834, \"puttin'\": 4665, 'isle': 3084, 'stalwart': 5607, 'offa': 4124, 'carl': 953, '_timothy_lovejoy:': 72, 'skins': 5354, 'gel': 2422, 'sumatran': 5768, 'nope': 4061, 'introduce': 3060, 'piling': 4393, 'f': 2048, \"aren't\": 334, \"fryer's\": 2355, 'looked': 3509, 'general': 2423, 'ziff': 6774, 'believer': 580, 'certified': 1010, 'bridge': 778, 'hey': 2773, 'heavyweight': 2740, 'barbed': 479, 'wants': 6429, 'cash': 971, 'murdered': 3914, 'neat': 3976, 'youth': 6766, 'hug': 2899, 'lucky': 3562, 'part': 4275, 'laid': 3318, \"must've\": 3930, 'orders': 4187, 'loaded': 3482, 'consider': 1286, 'countryman': 1349, 'subject': 5744, 'flush': 2236, 'wish': 6617, 'spilled': 5547, 'etc': 1966, 'hop': 2857, 'nitwit': 4040, 'knowing': 3284, 'respect': 4866, 'trouble': 6183, 'releases': 4815, 'hundred': 2909, 'sideshow_bob:': 5287, 'label': 3306, 'grope': 2574, 'shoot': 5234, 'gasoline': 2410, 'supports': 5790, 'coal': 1183, 'rainforest': 4718, 'vestigial': 6359, 'einstein': 1886, 'stuck': 5731, 'characteristic': 1035, 'moe-ron': 3832, \"beggin'\": 567, 'quimby': 4687, 'wrote': 6701, 'wishing': 6621, 'father': 2098, 'scientists': 5082, 'yawns': 6721, 'freshened': 2329, 'clubs': 1180, 'ummmmmmmmm': 6258, 'stays': 5646, 'set': 5174, 'digging': 1621, 'sensitivity': 5161, 'attached': 385, 'though:': 6024, 'barter': 505, 'playful': 4438, 'adjourned': 129, 'poke': 4476, 'wondering': 6649, 'lend': 3385, 'windowshade': 6599, 'burglary': 848, 'jerky': 3143, 'noise': 4048, 'fluoroscope': 2235, 'fox_mulder:': 2307, 'patient': 4294, 'nã£o': 4096, 'agents': 172, 'sketching': 5348, 'private': 4583, 'fancy': 2082, 'perverse': 4353, 'spoken': 5560, 'dancing': 1475, 'ridiculous': 4895, 'slipped': 5378, 'hair': 2630, 'bitterly': 635, 'trapping': 6155, 'recruiter': 4786, 'stay': 5641, 'raining': 4721, 'advertising': 146, 'liser': 3459, \"dimwit's\": 1628, 'mindless': 3774, 'grandmother': 2543, 'muttering': 3933, \"talkin'\": 5872, 'broke': 796, 'hi': 2774, 'usually': 6331, \"car's\": 941, 'sneering': 5432, \"murphy's\": 3919, 'until': 6307, 'housework': 2888, 'liquor': 3453, 'okay': 4144, 'thirty': 6010, 'refreshing': 4798, \"swishifyin'\": 5835, 'howya': 2895, 'borrow': 712, 'careful': 948, 'kahlua': 3204, 'uncreeped-out': 6268, 'stand': 5611, 'puff': 4634, 'violations': 6374, 'takeaway': 5861}\n"
     ]
    }
   ],
   "source": [
    "# debug helper \n",
    "text = helper.load_data(data_dir)\n",
    "\n",
    "# Ignore notice, since we don't use it for analysing the data\n",
    "text = text[81:]\n",
    "\n",
    "token_dict = token_lookup()\n",
    "for key, token in token_dict.items():\n",
    "    text = text.replace(key, ' {} '.format(token))\n",
    "\n",
    "text = text.lower()\n",
    "text = text.split()\n",
    "\n",
    "vocab_to_int, int_to_vocab = create_lookup_tables(text)\n",
    "\n",
    "print(vocab_to_int)"
   ]
  },
  {
   "cell_type": "code",
   "execution_count": 8,
   "metadata": {
    "collapsed": false
   },
   "outputs": [],
   "source": [
    "import pickle\n",
    "int_text = [vocab_to_int[word] for word in text]\n",
    "pickle.dump((int_text, vocab_to_int, int_to_vocab, token_dict), open('preprocess.p', 'wb'))"
   ]
  },
  {
   "cell_type": "code",
   "execution_count": 9,
   "metadata": {
    "collapsed": false,
    "deletable": true,
    "editable": true
   },
   "outputs": [],
   "source": [
    "\"\"\"\n",
    "DON'T MODIFY ANYTHING IN THIS CELL\n",
    "\"\"\"\n",
    "# Preprocess Training, Validation, and Testing Data\n",
    "helper.preprocess_and_save_data(data_dir, token_lookup, create_lookup_tables)"
   ]
  },
  {
   "cell_type": "markdown",
   "metadata": {
    "deletable": true,
    "editable": true
   },
   "source": [
    "# Check Point\n",
    "This is your first checkpoint. If you ever decide to come back to this notebook or have to restart the notebook, you can start from here. The preprocessed data has been saved to disk."
   ]
  },
  {
   "cell_type": "code",
   "execution_count": 10,
   "metadata": {
    "collapsed": false,
    "deletable": true,
    "editable": true
   },
   "outputs": [],
   "source": [
    "\"\"\"\n",
    "DON'T MODIFY ANYTHING IN THIS CELL\n",
    "\"\"\"\n",
    "import helper\n",
    "import numpy as np\n",
    "import problem_unittests as tests\n",
    "\n",
    "int_text, vocab_to_int, int_to_vocab, token_dict = helper.load_preprocess()"
   ]
  },
  {
   "cell_type": "markdown",
   "metadata": {
    "deletable": true,
    "editable": true
   },
   "source": [
    "## Build the Neural Network\n",
    "You'll build the components necessary to build a RNN by implementing the following functions below:\n",
    "- get_inputs\n",
    "- get_init_cell\n",
    "- get_embed\n",
    "- build_rnn\n",
    "- build_nn\n",
    "- get_batches\n",
    "\n",
    "### Check the Version of TensorFlow and Access to GPU"
   ]
  },
  {
   "cell_type": "code",
   "execution_count": 11,
   "metadata": {
    "collapsed": false
   },
   "outputs": [
    {
     "name": "stdout",
     "output_type": "stream",
     "text": [
      "TensorFlow Version: 1.0.0\n"
     ]
    },
    {
     "name": "stderr",
     "output_type": "stream",
     "text": [
      "C:\\Users\\Andreas\\AppData\\Local\\conda\\conda\\envs\\dl\\lib\\site-packages\\ipykernel\\__main__.py:14: UserWarning: No GPU found. Please use a GPU to train your neural network.\n"
     ]
    }
   ],
   "source": [
    "\"\"\"\n",
    "DON'T MODIFY ANYTHING IN THIS CELL\n",
    "\"\"\"\n",
    "from distutils.version import LooseVersion\n",
    "import warnings\n",
    "import tensorflow as tf\n",
    "\n",
    "# Check TensorFlow Version\n",
    "assert LooseVersion(tf.__version__) >= LooseVersion('1.0'), 'Please use TensorFlow version 1.0 or newer'\n",
    "print('TensorFlow Version: {}'.format(tf.__version__))\n",
    "\n",
    "# Check for a GPU\n",
    "if not tf.test.gpu_device_name():\n",
    "    warnings.warn('No GPU found. Please use a GPU to train your neural network.')\n",
    "else:\n",
    "    print('Default GPU Device: {}'.format(tf.test.gpu_device_name()))"
   ]
  },
  {
   "cell_type": "markdown",
   "metadata": {},
   "source": [
    "### Input\n",
    "Implement the `get_inputs()` function to create TF Placeholders for the Neural Network.  It should create the following placeholders:\n",
    "- Input text placeholder named \"input\" using the [TF Placeholder](https://www.tensorflow.org/api_docs/python/tf/placeholder) `name` parameter.\n",
    "- Targets placeholder\n",
    "- Learning Rate placeholder\n",
    "\n",
    "Return the placeholders in the following the tuple `(Input, Targets, LearingRate)`"
   ]
  },
  {
   "cell_type": "code",
   "execution_count": 12,
   "metadata": {
    "collapsed": false
   },
   "outputs": [],
   "source": [
    "def get_inputs():\n",
    "    \"\"\"\n",
    "    Create TF Placeholders for input, targets, and learning rate.\n",
    "    :return: Tuple (inputs, targets, learning rate)\n",
    "    \"\"\"    \n",
    "    inputs = tf.placeholder(tf.int32, [None, None], name='input')\n",
    "    targets = tf.placeholder(tf.int32, [None, None], name='label')\n",
    "    learning_rate = tf.placeholder(tf.float32, name='keep_prob')\n",
    "\n",
    "    return inputs, targets, learning_rate\n",
    "\n",
    "#input_data, targets, lr = get_inputs()\n",
    "#print((input_data.__doc__))"
   ]
  },
  {
   "cell_type": "code",
   "execution_count": 13,
   "metadata": {
    "collapsed": false,
    "deletable": true,
    "editable": true
   },
   "outputs": [
    {
     "name": "stdout",
     "output_type": "stream",
     "text": [
      "Tests Passed\n"
     ]
    }
   ],
   "source": [
    "\"\"\"\n",
    "DON'T MODIFY ANYTHING IN THIS CELL THAT IS BELOW THIS LINE\n",
    "\"\"\"\n",
    "tests.test_get_inputs(get_inputs)"
   ]
  },
  {
   "cell_type": "markdown",
   "metadata": {
    "deletable": true,
    "editable": true
   },
   "source": [
    "### Build RNN Cell and Initialize\n",
    "Stack one or more [`BasicLSTMCells`](https://www.tensorflow.org/api_docs/python/tf/contrib/rnn/BasicLSTMCell) in a [`MultiRNNCell`](https://www.tensorflow.org/api_docs/python/tf/contrib/rnn/MultiRNNCell).\n",
    "- The Rnn size should be set using `rnn_size`\n",
    "- Initalize Cell State using the MultiRNNCell's [`zero_state()`](https://www.tensorflow.org/api_docs/python/tf/contrib/rnn/MultiRNNCell#zero_state) function\n",
    "    - Apply the name \"initial_state\" to the initial state using [`tf.identity()`](https://www.tensorflow.org/api_docs/python/tf/identity)\n",
    "\n",
    "Return the cell and initial state in the following tuple `(Cell, InitialState)`"
   ]
  },
  {
   "cell_type": "code",
   "execution_count": 14,
   "metadata": {
    "collapsed": false
   },
   "outputs": [],
   "source": [
    "lstm_layers = 4\n",
    "\n",
    "def get_init_cell(batch_size, rnn_size):\n",
    "    \"\"\"\n",
    "    Create an RNN Cell and initialize it.\n",
    "    :param batch_size: Size of batches\n",
    "    :param rnn_size: Size of RNNs\n",
    "    :return: Tuple (cell, initial_state)\n",
    "    \"\"\"\n",
    "    \n",
    "    # Your basic LSTM cell\n",
    "    lstm = tf.contrib.rnn.BasicLSTMCell(rnn_size)\n",
    "    \n",
    "    # Add dropout to the cell\n",
    "    #drop = tf.contrib.rnn.DropoutWrapper(lstm, output_keep_prob=keep_prob)\n",
    "    drop = lstm\n",
    "    \n",
    "    # Stack up multiple LSTM layers, for deep learning\n",
    "    cell = tf.contrib.rnn.MultiRNNCell([drop] * lstm_layers)\n",
    "    \n",
    "    # Getting an initial state of all zeros\n",
    "    initial_state = cell.zero_state(batch_size, tf.float32)\n",
    "    \n",
    "    initial_state = tf.identity(initial_state,'initial_state')\n",
    "    \n",
    "    return cell, initial_state\n",
    "\n"
   ]
  },
  {
   "cell_type": "code",
   "execution_count": 15,
   "metadata": {
    "collapsed": false,
    "deletable": true,
    "editable": true
   },
   "outputs": [
    {
     "name": "stdout",
     "output_type": "stream",
     "text": [
      "Tests Passed\n"
     ]
    }
   ],
   "source": [
    "\"\"\"\n",
    "DON'T MODIFY ANYTHING IN THIS CELL THAT IS BELOW THIS LINE\n",
    "\"\"\"\n",
    "tests.test_get_init_cell(get_init_cell)"
   ]
  },
  {
   "cell_type": "markdown",
   "metadata": {
    "deletable": true,
    "editable": true
   },
   "source": [
    "### Word Embedding\n",
    "Apply embedding to `input_data` using TensorFlow.  Return the embedded sequence."
   ]
  },
  {
   "cell_type": "code",
   "execution_count": 16,
   "metadata": {
    "collapsed": false
   },
   "outputs": [],
   "source": [
    "def get_embed(input_data, vocab_size, embed_dim):\n",
    "    \"\"\"\n",
    "    Create embedding for <input_data>.\n",
    "    :param input_data: TF placeholder for text input.\n",
    "    :param vocab_size: Number of words in vocabulary.\n",
    "    :param embed_dim: Number of embedding dimensions\n",
    "    :return: Embedded input.\n",
    "    \"\"\"\n",
    "    print(input_data)\n",
    "    embedding = tf.Variable(tf.random_uniform((vocab_size, embed_dim), -1, 1),name='embedding_weights')\n",
    "    print(embedding)\n",
    "    embed = tf.nn.embedding_lookup(embedding, input_data)  \n",
    "    print(embed)\n",
    "\n",
    "    return embed\n"
   ]
  },
  {
   "cell_type": "code",
   "execution_count": 17,
   "metadata": {
    "collapsed": false,
    "deletable": true,
    "editable": true
   },
   "outputs": [
    {
     "name": "stdout",
     "output_type": "stream",
     "text": [
      "Tensor(\"Placeholder:0\", shape=(50, 5), dtype=int32)\n",
      "Tensor(\"embedding_weights/read:0\", shape=(27, 256), dtype=float32)\n",
      "Tensor(\"embedding_lookup:0\", shape=(50, 5, 256), dtype=float32)\n",
      "Tests Passed\n"
     ]
    }
   ],
   "source": [
    "\"\"\"\n",
    "DON'T MODIFY ANYTHING IN THIS CELL THAT IS BELOW THIS LINE\n",
    "\"\"\"\n",
    "tests.test_get_embed(get_embed)"
   ]
  },
  {
   "cell_type": "markdown",
   "metadata": {
    "deletable": true,
    "editable": true
   },
   "source": [
    "### Build RNN\n",
    "You created a RNN Cell in the `get_init_cell()` function.  Time to use the cell to create a RNN.\n",
    "- Build the RNN using the [`tf.nn.dynamic_rnn()`](https://www.tensorflow.org/api_docs/python/tf/nn/dynamic_rnn)\n",
    " - Apply the name \"final_state\" to the final state using [`tf.identity()`](https://www.tensorflow.org/api_docs/python/tf/identity)\n",
    "\n",
    "Return the outputs and final_state state in the following tuple `(Outputs, FinalState)` "
   ]
  },
  {
   "cell_type": "code",
   "execution_count": 18,
   "metadata": {
    "collapsed": false,
    "deletable": true,
    "editable": true
   },
   "outputs": [
    {
     "name": "stdout",
     "output_type": "stream",
     "text": [
      "Tensor(\"Placeholder:0\", shape=(?, ?, 256), dtype=float32)\n",
      "Tensor(\"final_state:0\", shape=(2, 2, ?, 256), dtype=float32)\n",
      "Tensor(\"rnn/transpose:0\", shape=(?, ?, 256), dtype=float32)\n",
      "Tests Passed\n"
     ]
    }
   ],
   "source": [
    "def build_rnn(cell, inputs):\n",
    "    \"\"\"\n",
    "    Create a RNN using a RNN Cell\n",
    "    :param cell: RNN Cell\n",
    "    :param inputs: Input text data\n",
    "    :return: Tuple (Outputs, Final State)\n",
    "    \"\"\"\n",
    "    print(inputs)\n",
    "    \n",
    "    outputs, final_state = tf.nn.dynamic_rnn(cell, inputs,\n",
    "                                             dtype = tf.float32\n",
    "                                             #initial_state=initial_state\n",
    "                                            )\n",
    "    \n",
    "    final_state = tf.identity(final_state,'final_state')\n",
    "    print(final_state)\n",
    "    print(outputs)\n",
    "    return outputs, final_state\n",
    "\n",
    "\n",
    "\"\"\"\n",
    "DON'T MODIFY ANYTHING IN THIS CELL THAT IS BELOW THIS LINE\n",
    "\"\"\"\n",
    "tests.test_build_rnn(build_rnn)"
   ]
  },
  {
   "cell_type": "markdown",
   "metadata": {
    "deletable": true,
    "editable": true
   },
   "source": [
    "### Build the Neural Network\n",
    "Apply the functions you implemented above to:\n",
    "- Apply embedding to `input_data` using your `get_embed(input_data, vocab_size, embed_dim)` function.\n",
    "- Build RNN using `cell` and your `build_rnn(cell, inputs)` function.\n",
    "- Apply a fully connected layer with a linear activation and `vocab_size` as the number of outputs.\n",
    "\n",
    "Return the logits and final state in the following tuple (Logits, FinalState) "
   ]
  },
  {
   "cell_type": "code",
   "execution_count": 19,
   "metadata": {
    "collapsed": false,
    "deletable": true,
    "editable": true
   },
   "outputs": [
    {
     "name": "stdout",
     "output_type": "stream",
     "text": [
      "Tensor(\"Placeholder:0\", shape=(128, 5), dtype=int32)\n",
      "Tensor(\"embedding_weights/read:0\", shape=(27, 256), dtype=float32)\n",
      "Tensor(\"embedding_lookup:0\", shape=(128, 5, 256), dtype=float32)\n",
      "Tensor(\"embedding_lookup:0\", shape=(128, 5, 256), dtype=float32)\n",
      "Tensor(\"final_state:0\", shape=(2, 2, ?, 256), dtype=float32)\n",
      "Tensor(\"rnn/transpose:0\", shape=(128, 5, 256), dtype=float32)\n",
      "Tests Passed\n"
     ]
    }
   ],
   "source": [
    "def build_nn(cell, rnn_size, input_data, vocab_size):\n",
    "    \"\"\"\n",
    "    Build part of the neural network\n",
    "    :param cell: RNN cell\n",
    "    :param rnn_size: Size of rnns\n",
    "    :param input_data: Input data\n",
    "    :param vocab_size: Vocabulary size\n",
    "    :return: Tuple (Logits, FinalState)\n",
    "    \"\"\"\n",
    "    \n",
    "    embed = get_embed(input_data, vocab_size, rnn_size)\n",
    "    outputs, final_state = build_rnn(cell, embed)\n",
    "\n",
    "    logits = tf.contrib.layers.fully_connected(\n",
    "        outputs, \n",
    "        num_outputs=vocab_size,\n",
    "        weights_initializer=tf.truncated_normal_initializer(stddev=0.01)\n",
    "        )\n",
    "\n",
    "    return logits, final_state\n",
    "\n",
    "\n",
    "\"\"\"\n",
    "DON'T MODIFY ANYTHING IN THIS CELL THAT IS BELOW THIS LINE\n",
    "\"\"\"\n",
    "tests.test_build_nn(build_nn)"
   ]
  },
  {
   "cell_type": "markdown",
   "metadata": {
    "deletable": true,
    "editable": true
   },
   "source": [
    "### Batches\n",
    "Implement `get_batches` to create batches of input and targets using `int_text`.  The batches should be a Numpy array with the shape `(number of batches, 2, batch size, sequence length)`. Each batch contains two elements:\n",
    "- The first element is a single batch of **input** with the shape `[batch size, sequence length]`\n",
    "- The second element is a single batch of **targets** with the shape `[batch size, sequence length]`\n",
    "\n",
    "If you can't fill the last batch with enough data, drop the last batch.\n",
    "\n",
    "For exmple, `get_batches([1, 2, 3, 4, 5, 6, 7, 8, 9, 10, 11, 12, 13, 14, 15], 2, 3)` would return a Numpy array of the following:\n",
    "```\n",
    "[\n",
    "  # First Batch\n",
    "  [\n",
    "    # Batch of Input\n",
    "    [[ 1  2  3], [ 7  8  9]],\n",
    "    # Batch of targets\n",
    "    [[ 2  3  4], [ 8  9 10]]\n",
    "  ],\n",
    " \n",
    "  # Second Batch\n",
    "  [\n",
    "    # Batch of Input\n",
    "    [[ 4  5  6], [10 11 12]],\n",
    "    # Batch of targets\n",
    "    [[ 5  6  7], [11 12 13]]\n",
    "  ]\n",
    "]\n",
    "```"
   ]
  },
  {
   "cell_type": "code",
   "execution_count": 20,
   "metadata": {
    "collapsed": false,
    "deletable": true,
    "editable": true
   },
   "outputs": [
    {
     "name": "stdout",
     "output_type": "stream",
     "text": [
      "seq_length : 5\n",
      "single_batch_len : 4994\n",
      "batch_size : 128\n",
      "n_batches : 7\n",
      "Tests Passed\n"
     ]
    }
   ],
   "source": [
    "import random\n",
    "\n",
    "batch_distance_override = None\n",
    "\n",
    "def get_batches(int_text, batch_size, seq_length, batch_distance = None):\n",
    "    \"\"\"\n",
    "    Return batches of input and target\n",
    "    :param int_text: Text with the words replaced by their ids\n",
    "    :param batch_size: The size of batch\n",
    "    :param seq_length: The length of sequence\n",
    "    :return: Batches as a Numpy array\n",
    "    \"\"\"\n",
    "    x = int_text[:-1]\n",
    "    y = int_text[1:]\n",
    "    \n",
    "    print('{} : {}'.format('seq_length',seq_length))\n",
    "    single_batch_len = len(x)-seq_length\n",
    "    print('{} : {}'.format('single_batch_len',single_batch_len))\n",
    "    single_batch = np.empty([2,single_batch_len,seq_length])\n",
    "    \n",
    "    single_batch_range = list(range(single_batch_len))\n",
    "    \n",
    "    random.shuffle(single_batch_range)\n",
    "    #print(batch_range)\n",
    "    \n",
    "    ii2 = 0\n",
    "    for ii in single_batch_range:\n",
    "        single_batch [0,ii2] = x[ii:ii+seq_length]\n",
    "        single_batch [1,ii2] = y[ii:ii+seq_length]\n",
    "        ii2 += 1\n",
    "    \n",
    "    \n",
    "    #################################################################################################################\n",
    "    #\n",
    "    #\n",
    "    #  Question 1: why are the labels same length sequences of words not just the one word ?\n",
    "    #\n",
    "    #  Question 2: would it be better to set batch_distance to a smaller value ?\n",
    "    #\n",
    "    #\n",
    "    #################################################################################################################\n",
    "\n",
    "    if batch_distance == None:\n",
    "        batch_distance = seq_length # would be 1 better?\n",
    "        \n",
    "    if batch_distance_override != None:\n",
    "        batch_distance = batch_distance_override\n",
    "        \n",
    "    n_batches = single_batch_len//batch_size//batch_distance\n",
    "    result = np.empty([n_batches,2,batch_size,seq_length])\n",
    "\n",
    "    print('{} : {}'.format('batch_size',batch_size))\n",
    "    print('{} : {}'.format('n_batches',n_batches))\n",
    "    \n",
    "    batch_range = (list(range(n_batches)))\n",
    "    \n",
    "    for ii in range(n_batches): #range(0, len(x), batch_size):\n",
    "        iii = ii * batch_size * batch_distance\n",
    "        result[ii] = single_batch[:,iii:iii+batch_size]\n",
    "\n",
    "    return result\n",
    "\n",
    "\n",
    "\"\"\"\n",
    "DON'T MODIFY ANYTHING IN THIS CELL THAT IS BELOW THIS LINE\n",
    "\"\"\"\n",
    "tests.test_get_batches(get_batches)"
   ]
  },
  {
   "cell_type": "markdown",
   "metadata": {
    "deletable": true,
    "editable": true
   },
   "source": [
    "## Neural Network Training\n",
    "### Hyperparameters\n",
    "Tune the following parameters:\n",
    "\n",
    "- Set `num_epochs` to the number of epochs.\n",
    "- Set `batch_size` to the batch size.\n",
    "- Set `rnn_size` to the size of the RNNs.\n",
    "- Set `seq_length` to the length of sequence.\n",
    "- Set `learning_rate` to the learning rate.\n",
    "- Set `show_every_n_batches` to the number of batches the neural network should print progress."
   ]
  },
  {
   "cell_type": "code",
   "execution_count": 28,
   "metadata": {
    "collapsed": true
   },
   "outputs": [],
   "source": [
    "###### Number of Epochs\n",
    "num_epochs = 1000\n",
    "# Batch Size\n",
    "batch_size = 127*2**3 # Primfaktoren von 69088: 2, 2, 2, 2, 2, 17, 127\n",
    "# RNN Size\n",
    "rnn_size = 222\n",
    "# Sequence Length\n",
    "seq_length = 15\n",
    "# Learning Rate\n",
    "learning_rate = 0.005\n",
    "# Show stats for every n number of batches\n",
    "show_every_n_batches = 1\n",
    "# override batch_distance\n",
    "batch_distance_override = 1 # seq_length * 3 // 5\n",
    "\n",
    "\n",
    "\"\"\"\n",
    "DON'T MODIFY ANYTHING IN THIS CELL THAT IS BELOW THIS LINE\n",
    "\"\"\"\n",
    "save_dir = './save'"
   ]
  },
  {
   "cell_type": "markdown",
   "metadata": {
    "deletable": true,
    "editable": true
   },
   "source": [
    "### Build the Graph\n",
    "Build the graph using the neural network you implemented."
   ]
  },
  {
   "cell_type": "code",
   "execution_count": 29,
   "metadata": {
    "collapsed": false,
    "deletable": true,
    "editable": true
   },
   "outputs": [
    {
     "name": "stdout",
     "output_type": "stream",
     "text": [
      "Tensor(\"input:0\", shape=(?, ?), dtype=int32)\n",
      "Tensor(\"embedding_weights/read:0\", shape=(6781, 222), dtype=float32)\n",
      "Tensor(\"embedding_lookup:0\", shape=(?, ?, 222), dtype=float32)\n",
      "Tensor(\"embedding_lookup:0\", shape=(?, ?, 222), dtype=float32)\n",
      "Tensor(\"final_state:0\", shape=(4, 2, ?, 222), dtype=float32)\n",
      "Tensor(\"rnn/transpose:0\", shape=(?, ?, 222), dtype=float32)\n"
     ]
    }
   ],
   "source": [
    "\"\"\"\n",
    "DON'T MODIFY ANYTHING IN THIS CELL\n",
    "\"\"\"\n",
    "from tensorflow.contrib import seq2seq\n",
    "\n",
    "train_graph = tf.Graph()\n",
    "with train_graph.as_default():\n",
    "    vocab_size = len(int_to_vocab)\n",
    "    input_text, targets, lr = get_inputs()\n",
    "    input_data_shape = tf.shape(input_text)\n",
    "    cell, initial_state = get_init_cell(input_data_shape[0], rnn_size)\n",
    "    logits, final_state = build_nn(cell, rnn_size, input_text, vocab_size)\n",
    "\n",
    "    # Probabilities for generating words\n",
    "    probs = tf.nn.softmax(logits, name='probs')\n",
    "\n",
    "    # Loss function\n",
    "    cost = seq2seq.sequence_loss(\n",
    "        logits,\n",
    "        targets,\n",
    "        tf.ones([input_data_shape[0], input_data_shape[1]]))\n",
    "\n",
    "    # Optimizer\n",
    "    optimizer = tf.train.AdamOptimizer(lr)\n",
    "\n",
    "    # Gradient Clipping\n",
    "    gradients = optimizer.compute_gradients(cost)\n",
    "    capped_gradients = [(tf.clip_by_value(grad, -1., 1.), var) for grad, var in gradients]\n",
    "    train_op = optimizer.apply_gradients(capped_gradients)"
   ]
  },
  {
   "cell_type": "markdown",
   "metadata": {
    "deletable": true,
    "editable": true
   },
   "source": [
    "## Train\n",
    "Train the neural network on the preprocessed data.  If you have a hard time getting a good loss, check the [forms](https://discussions.udacity.com/) to see if anyone is having the same problem."
   ]
  },
  {
   "cell_type": "code",
   "execution_count": 23,
   "metadata": {
    "collapsed": false,
    "deletable": true,
    "editable": true
   },
   "outputs": [],
   "source": [
    "\"\"\"\n",
    "DON'T MODIFY ANYTHING IN THIS CELL\n",
    "\"\" \"\n",
    "\n",
    "batches = get_batches(int_text, batch_size, seq_length)\n",
    "\n",
    "with tf.Session(graph=train_graph) as sess:\n",
    "    sess.run(tf.global_variables_initializer())\n",
    "\n",
    "    for epoch_i in range(num_epochs):\n",
    "        state = sess.run(initial_state, {input_text: batches[0][0]})\n",
    "\n",
    "        for batch_i, (x, y) in enumerate(batches):\n",
    "            feed = {\n",
    "                input_text: x,\n",
    "                targets: y,\n",
    "                initial_state: state,\n",
    "                lr: learning_rate}\n",
    "            train_loss, state, _ = sess.run([cost, final_state, train_op], feed)\n",
    "\n",
    "            # Show every <show_every_n_batches> batches\n",
    "            if (epoch_i * len(batches) + batch_i) % show_every_n_batches == 0:\n",
    "                print('Epoch {:>3} Batch {:>4}/{}   train_loss = {:.3f}'.format(\n",
    "                    epoch_i,\n",
    "                    batch_i,\n",
    "                    len(batches),\n",
    "                    train_loss))\n",
    "\n",
    "    # Save Model\n",
    "    saver = tf.train.Saver()\n",
    "    saver.save(sess, save_dir)\n",
    "    print('Model Trained and Saved')\n",
    "        \n",
    "\"\"\";"
   ]
  },
  {
   "cell_type": "code",
   "execution_count": 30,
   "metadata": {
    "collapsed": false
   },
   "outputs": [
    {
     "name": "stdout",
     "output_type": "stream",
     "text": [
      "Initialised Model...\n",
      "seq_length : 15\n",
      "single_batch_len : 69085\n",
      "batch_size : 1016\n",
      "n_batches : 67\n",
      "Epoch   0 Batch    0/67   train_loss = 8.822\n",
      "Epoch   0 Batch    1/67   train_loss = 8.819\n",
      "Epoch   0 Batch    2/67   train_loss = 8.814\n",
      "Epoch   0 Batch    3/67   train_loss = 8.797\n",
      "Epoch   0 Batch    4/67   train_loss = 8.758\n",
      "Epoch   0 Batch    5/67   train_loss = 8.687\n",
      "Epoch   0 Batch    6/67   train_loss = 8.585\n",
      "Epoch   0 Batch    7/67   train_loss = 8.460\n",
      "Epoch   0 Batch    8/67   train_loss = 8.322\n",
      "Epoch   0 Batch    9/67   train_loss = 8.171\n",
      "Epoch   0 Batch   10/67   train_loss = 8.013\n",
      "Epoch   0 Batch   11/67   train_loss = 7.848\n",
      "Epoch   0 Batch   12/67   train_loss = 7.685\n",
      "Epoch   0 Batch   13/67   train_loss = 7.524\n",
      "Epoch   0 Batch   14/67   train_loss = 7.362\n",
      "Epoch   0 Batch   15/67   train_loss = 7.227\n",
      "Epoch   0 Batch   16/67   train_loss = 7.120\n",
      "Epoch   0 Batch   17/67   train_loss = 7.004\n",
      "Epoch   0 Batch   18/67   train_loss = 6.861\n",
      "Epoch   0 Batch   19/67   train_loss = 6.747\n",
      "Epoch   0 Batch   20/67   train_loss = 6.666\n",
      "Epoch   0 Batch   21/67   train_loss = 6.575\n",
      "Epoch   0 Batch   22/67   train_loss = 6.501\n",
      "Epoch   0 Batch   23/67   train_loss = 6.415\n",
      "Epoch   0 Batch   24/67   train_loss = 6.333\n",
      "Epoch   0 Batch   25/67   train_loss = 6.328\n",
      "Epoch   0 Batch   26/67   train_loss = 6.276\n",
      "Epoch   0 Batch   27/67   train_loss = 6.222\n",
      "Epoch   0 Batch   28/67   train_loss = 6.169\n",
      "Epoch   0 Batch   29/67   train_loss = 6.166\n",
      "Epoch   0 Batch   30/67   train_loss = 6.105\n",
      "Epoch   0 Batch   31/67   train_loss = 6.128\n",
      "Epoch   0 Batch   32/67   train_loss = 6.114\n",
      "Epoch   0 Batch   33/67   train_loss = 6.114\n",
      "Epoch   0 Batch   34/67   train_loss = 6.060\n",
      "Epoch   0 Batch   35/67   train_loss = 6.051\n",
      "Epoch   0 Batch   36/67   train_loss = 6.095\n",
      "Epoch   0 Batch   37/67   train_loss = 6.082\n",
      "Epoch   0 Batch   38/67   train_loss = 6.085\n",
      "Epoch   0 Batch   39/67   train_loss = 6.056\n",
      "Epoch   0 Batch   40/67   train_loss = 6.036\n",
      "Epoch   0 Batch   41/67   train_loss = 6.010\n",
      "Epoch   0 Batch   42/67   train_loss = 6.129\n",
      "Epoch   0 Batch   43/67   train_loss = 6.052\n",
      "Epoch   0 Batch   44/67   train_loss = 6.022\n",
      "Epoch   0 Batch   45/67   train_loss = 6.043\n",
      "Epoch   0 Batch   46/67   train_loss = 6.054\n",
      "Epoch   0 Batch   47/67   train_loss = 6.036\n",
      "Epoch   0 Batch   48/67   train_loss = 6.044\n",
      "Epoch   0 Batch   49/67   train_loss = 6.080\n",
      "Epoch   0 Batch   50/67   train_loss = 6.061\n",
      "Epoch   0 Batch   51/67   train_loss = 6.036\n",
      "Epoch   0 Batch   52/67   train_loss = 6.014\n",
      "Epoch   0 Batch   53/67   train_loss = 6.058\n",
      "Epoch   0 Batch   54/67   train_loss = 6.041\n",
      "Epoch   0 Batch   55/67   train_loss = 6.034\n",
      "Epoch   0 Batch   56/67   train_loss = 6.018\n",
      "Epoch   0 Batch   57/67   train_loss = 6.007\n",
      "Epoch   0 Batch   58/67   train_loss = 6.022\n",
      "Epoch   0 Batch   59/67   train_loss = 6.010\n",
      "Epoch   0 Batch   60/67   train_loss = 6.033\n",
      "Epoch   0 Batch   61/67   train_loss = 6.023\n",
      "Epoch   0 Batch   62/67   train_loss = 6.002\n",
      "Epoch   0 Batch   63/67   train_loss = 6.030\n",
      "Epoch   0 Batch   64/67   train_loss = 6.022\n",
      "Epoch   0 Batch   65/67   train_loss = 6.039\n",
      "Epoch   0 Batch   66/67   train_loss = 6.004\n",
      "computation time : 2572.506016969681\n",
      "Model Trained and Saved\n"
     ]
    },
    {
     "data": {
      "image/png": "[encoded data removed]",
      "text/plain": [
       "<matplotlib.figure.Figure at 0x1c0459040f0>"
      ]
     },
     "metadata": {},
     "output_type": "display_data"
    },
    {
     "name": "stdout",
     "output_type": "stream",
     "text": [
      "seq_length : 15\n",
      "single_batch_len : 69085\n",
      "batch_size : 1016\n",
      "n_batches : 67\n",
      "Epoch   1 Batch    0/67   train_loss = 6.034\n",
      "Epoch   1 Batch    1/67   train_loss = 6.008\n",
      "Epoch   1 Batch    2/67   train_loss = 6.000\n",
      "Epoch   1 Batch    3/67   train_loss = 6.022\n",
      "Epoch   1 Batch    4/67   train_loss = 6.046\n",
      "Epoch   1 Batch    5/67   train_loss = 6.040\n",
      "Epoch   1 Batch    6/67   train_loss = 5.983\n",
      "Epoch   1 Batch    7/67   train_loss = 6.018\n",
      "Epoch   1 Batch    8/67   train_loss = 6.003\n",
      "Epoch   1 Batch    9/67   train_loss = 6.001\n",
      "Epoch   1 Batch   10/67   train_loss = 5.979\n",
      "Epoch   1 Batch   11/67   train_loss = 6.042\n",
      "Epoch   1 Batch   12/67   train_loss = 6.011\n",
      "Epoch   1 Batch   13/67   train_loss = 5.974\n",
      "Epoch   1 Batch   14/67   train_loss = 6.012\n",
      "Epoch   1 Batch   15/67   train_loss = 6.001\n",
      "Epoch   1 Batch   16/67   train_loss = 5.967\n",
      "Epoch   1 Batch   17/67   train_loss = 5.986\n",
      "Epoch   1 Batch   18/67   train_loss = 6.028\n",
      "Epoch   1 Batch   19/67   train_loss = 5.976\n",
      "Epoch   1 Batch   20/67   train_loss = 6.002\n",
      "Epoch   1 Batch   21/67   train_loss = 6.017\n",
      "Epoch   1 Batch   22/67   train_loss = 5.993\n",
      "Epoch   1 Batch   23/67   train_loss = 5.989\n",
      "Epoch   1 Batch   24/67   train_loss = 6.002\n",
      "Epoch   1 Batch   25/67   train_loss = 5.996\n",
      "Epoch   1 Batch   26/67   train_loss = 5.993\n",
      "Epoch   1 Batch   27/67   train_loss = 6.005\n",
      "Epoch   1 Batch   28/67   train_loss = 6.007\n",
      "Epoch   1 Batch   29/67   train_loss = 5.991\n",
      "Epoch   1 Batch   30/67   train_loss = 5.995\n",
      "Epoch   1 Batch   31/67   train_loss = 6.032\n",
      "Epoch   1 Batch   32/67   train_loss = 6.024\n",
      "Epoch   1 Batch   33/67   train_loss = 6.007\n",
      "Epoch   1 Batch   34/67   train_loss = 5.999\n",
      "Epoch   1 Batch   35/67   train_loss = 6.005\n",
      "Epoch   1 Batch   36/67   train_loss = 5.971\n",
      "Epoch   1 Batch   37/67   train_loss = 5.964\n",
      "Epoch   1 Batch   38/67   train_loss = 5.987\n",
      "Epoch   1 Batch   39/67   train_loss = 5.991\n",
      "Epoch   1 Batch   40/67   train_loss = 6.027\n",
      "Epoch   1 Batch   41/67   train_loss = 5.992\n",
      "Epoch   1 Batch   42/67   train_loss = 5.999\n",
      "Epoch   1 Batch   43/67   train_loss = 5.970\n",
      "Epoch   1 Batch   44/67   train_loss = 5.968\n",
      "Epoch   1 Batch   45/67   train_loss = 6.004\n",
      "Epoch   1 Batch   46/67   train_loss = 5.992\n",
      "Epoch   1 Batch   47/67   train_loss = 6.017\n",
      "Epoch   1 Batch   48/67   train_loss = 6.021\n",
      "Epoch   1 Batch   49/67   train_loss = 5.966\n",
      "Epoch   1 Batch   50/67   train_loss = 5.992\n",
      "Epoch   1 Batch   51/67   train_loss = 6.005\n",
      "Epoch   1 Batch   52/67   train_loss = 6.004\n",
      "Epoch   1 Batch   53/67   train_loss = 6.013\n",
      "Epoch   1 Batch   54/67   train_loss = 5.971\n",
      "Epoch   1 Batch   55/67   train_loss = 6.009\n",
      "Epoch   1 Batch   56/67   train_loss = 6.007\n",
      "Epoch   1 Batch   57/67   train_loss = 5.994\n",
      "Epoch   1 Batch   58/67   train_loss = 5.970\n",
      "Epoch   1 Batch   59/67   train_loss = 6.038\n",
      "Epoch   1 Batch   60/67   train_loss = 6.037\n",
      "Epoch   1 Batch   61/67   train_loss = 6.000\n",
      "Epoch   1 Batch   62/67   train_loss = 5.991\n",
      "Epoch   1 Batch   63/67   train_loss = 6.008\n",
      "Epoch   1 Batch   64/67   train_loss = 6.006\n",
      "Epoch   1 Batch   65/67   train_loss = 5.978\n",
      "Epoch   1 Batch   66/67   train_loss = 5.997\n",
      "computation time : 2248.223430633545\n",
      "Model Trained and Saved\n"
     ]
    },
    {
     "data": {
      "image/png": "[encoded data removed]",
      "text/plain": [
       "<matplotlib.figure.Figure at 0x1c0050ca400>"
      ]
     },
     "metadata": {},
     "output_type": "display_data"
    },
    {
     "name": "stdout",
     "output_type": "stream",
     "text": [
      "seq_length : 15\n",
      "single_batch_len : 69085\n",
      "batch_size : 1016\n",
      "n_batches : 67\n",
      "Epoch   2 Batch    0/67   train_loss = 6.036\n",
      "Epoch   2 Batch    1/67   train_loss = 5.976\n",
      "Epoch   2 Batch    2/67   train_loss = 6.008\n",
      "Epoch   2 Batch    3/67   train_loss = 5.985\n",
      "Epoch   2 Batch    4/67   train_loss = 5.962\n",
      "Epoch   2 Batch    5/67   train_loss = 6.009\n",
      "Epoch   2 Batch    6/67   train_loss = 5.969\n",
      "Epoch   2 Batch    7/67   train_loss = 6.047\n",
      "Epoch   2 Batch    8/67   train_loss = 5.998\n",
      "Epoch   2 Batch    9/67   train_loss = 6.024\n",
      "Epoch   2 Batch   10/67   train_loss = 6.002\n",
      "Epoch   2 Batch   11/67   train_loss = 5.998\n",
      "Epoch   2 Batch   12/67   train_loss = 5.981\n",
      "Epoch   2 Batch   13/67   train_loss = 5.985\n",
      "Epoch   2 Batch   14/67   train_loss = 5.999\n",
      "Epoch   2 Batch   15/67   train_loss = 5.998\n",
      "Epoch   2 Batch   16/67   train_loss = 6.013\n",
      "Epoch   2 Batch   17/67   train_loss = 6.004\n",
      "Epoch   2 Batch   18/67   train_loss = 6.013\n",
      "Epoch   2 Batch   19/67   train_loss = 5.969\n",
      "Epoch   2 Batch   20/67   train_loss = 5.998\n",
      "Epoch   2 Batch   21/67   train_loss = 5.965\n",
      "Epoch   2 Batch   22/67   train_loss = 6.009\n",
      "Epoch   2 Batch   23/67   train_loss = 6.004\n",
      "Epoch   2 Batch   24/67   train_loss = 5.979\n",
      "Epoch   2 Batch   25/67   train_loss = 5.976\n",
      "Epoch   2 Batch   26/67   train_loss = 6.015\n",
      "Epoch   2 Batch   27/67   train_loss = 6.000\n",
      "Epoch   2 Batch   28/67   train_loss = 6.010\n",
      "Epoch   2 Batch   29/67   train_loss = 5.990\n",
      "Epoch   2 Batch   30/67   train_loss = 6.027\n",
      "Epoch   2 Batch   31/67   train_loss = 6.016\n",
      "Epoch   2 Batch   32/67   train_loss = 5.982\n",
      "Epoch   2 Batch   33/67   train_loss = 5.964\n",
      "Epoch   2 Batch   34/67   train_loss = 5.986\n",
      "Epoch   2 Batch   35/67   train_loss = 5.973\n",
      "Epoch   2 Batch   36/67   train_loss = 6.030\n",
      "Epoch   2 Batch   37/67   train_loss = 5.944\n",
      "Epoch   2 Batch   38/67   train_loss = 5.981\n",
      "Epoch   2 Batch   39/67   train_loss = 5.990\n",
      "Epoch   2 Batch   40/67   train_loss = 5.985\n",
      "Epoch   2 Batch   41/67   train_loss = 6.007\n",
      "Epoch   2 Batch   42/67   train_loss = 5.987\n",
      "Epoch   2 Batch   43/67   train_loss = 6.017\n",
      "Epoch   2 Batch   44/67   train_loss = 5.970\n",
      "Epoch   2 Batch   45/67   train_loss = 6.013\n",
      "Epoch   2 Batch   46/67   train_loss = 5.981\n",
      "Epoch   2 Batch   47/67   train_loss = 6.031\n",
      "Epoch   2 Batch   48/67   train_loss = 6.000\n",
      "Epoch   2 Batch   49/67   train_loss = 5.988\n",
      "Epoch   2 Batch   50/67   train_loss = 6.020\n",
      "Epoch   2 Batch   51/67   train_loss = 6.005\n",
      "Epoch   2 Batch   52/67   train_loss = 5.984\n",
      "Epoch   2 Batch   53/67   train_loss = 5.986\n",
      "Epoch   2 Batch   54/67   train_loss = 5.973\n",
      "Epoch   2 Batch   55/67   train_loss = 5.996\n",
      "Epoch   2 Batch   56/67   train_loss = 5.978\n",
      "Epoch   2 Batch   57/67   train_loss = 6.029\n",
      "Epoch   2 Batch   58/67   train_loss = 6.027\n",
      "Epoch   2 Batch   59/67   train_loss = 6.007\n",
      "Epoch   2 Batch   60/67   train_loss = 5.979\n",
      "Epoch   2 Batch   61/67   train_loss = 5.988\n",
      "Epoch   2 Batch   62/67   train_loss = 6.030\n",
      "Epoch   2 Batch   63/67   train_loss = 6.018\n",
      "Epoch   2 Batch   64/67   train_loss = 5.965\n",
      "Epoch   2 Batch   65/67   train_loss = 5.945\n",
      "Epoch   2 Batch   66/67   train_loss = 5.961\n",
      "computation time : 2248.925416946411\n",
      "Model Trained and Saved\n"
     ]
    },
    {
     "data": {
      "image/png": "[encoded data removed]",
      "text/plain": [
       "<matplotlib.figure.Figure at 0x1c00ab6ff60>"
      ]
     },
     "metadata": {},
     "output_type": "display_data"
    },
    {
     "name": "stdout",
     "output_type": "stream",
     "text": [
      "seq_length : 15\n",
      "single_batch_len : 69085\n",
      "batch_size : 1016\n",
      "n_batches : 67\n"
     ]
    },
    {
     "ename": "KeyboardInterrupt",
     "evalue": "",
     "output_type": "error",
     "traceback": [
      "\u001b[0;31m---------------------------------------------------------------------------\u001b[0m",
      "\u001b[0;31mKeyboardInterrupt\u001b[0m                         Traceback (most recent call last)",
      "\u001b[0;32m<ipython-input-30-f7ee3700dd8c>\u001b[0m in \u001b[0;36m<module>\u001b[0;34m()\u001b[0m\n\u001b[1;32m     45\u001b[0m                 \u001b[0minitial_state\u001b[0m\u001b[1;33m:\u001b[0m \u001b[0mstate\u001b[0m\u001b[1;33m,\u001b[0m\u001b[1;33m\u001b[0m\u001b[0m\n\u001b[1;32m     46\u001b[0m                 lr: learning_rate}\n\u001b[0;32m---> 47\u001b[0;31m             \u001b[0mtrain_loss\u001b[0m\u001b[1;33m,\u001b[0m \u001b[0mstate\u001b[0m\u001b[1;33m,\u001b[0m \u001b[0m_\u001b[0m \u001b[1;33m=\u001b[0m \u001b[0msess\u001b[0m\u001b[1;33m.\u001b[0m\u001b[0mrun\u001b[0m\u001b[1;33m(\u001b[0m\u001b[1;33m[\u001b[0m\u001b[0mcost\u001b[0m\u001b[1;33m,\u001b[0m \u001b[0mfinal_state\u001b[0m\u001b[1;33m,\u001b[0m \u001b[0mtrain_op\u001b[0m\u001b[1;33m]\u001b[0m\u001b[1;33m,\u001b[0m \u001b[0mfeed\u001b[0m\u001b[1;33m)\u001b[0m\u001b[1;33m\u001b[0m\u001b[0m\n\u001b[0m\u001b[1;32m     48\u001b[0m \u001b[1;33m\u001b[0m\u001b[0m\n\u001b[1;32m     49\u001b[0m             \u001b[0mtrain_loss_history\u001b[0m \u001b[1;33m+=\u001b[0m \u001b[1;33m[\u001b[0m\u001b[0mtrain_loss\u001b[0m\u001b[1;33m]\u001b[0m\u001b[1;33m\u001b[0m\u001b[0m\n",
      "\u001b[0;32mC:\\Users\\Andreas\\AppData\\Local\\conda\\conda\\envs\\dl\\lib\\site-packages\\tensorflow\\python\\client\\session.py\u001b[0m in \u001b[0;36mrun\u001b[0;34m(self, fetches, feed_dict, options, run_metadata)\u001b[0m\n\u001b[1;32m    765\u001b[0m     \u001b[1;32mtry\u001b[0m\u001b[1;33m:\u001b[0m\u001b[1;33m\u001b[0m\u001b[0m\n\u001b[1;32m    766\u001b[0m       result = self._run(None, fetches, feed_dict, options_ptr,\n\u001b[0;32m--> 767\u001b[0;31m                          run_metadata_ptr)\n\u001b[0m\u001b[1;32m    768\u001b[0m       \u001b[1;32mif\u001b[0m \u001b[0mrun_metadata\u001b[0m\u001b[1;33m:\u001b[0m\u001b[1;33m\u001b[0m\u001b[0m\n\u001b[1;32m    769\u001b[0m         \u001b[0mproto_data\u001b[0m \u001b[1;33m=\u001b[0m \u001b[0mtf_session\u001b[0m\u001b[1;33m.\u001b[0m\u001b[0mTF_GetBuffer\u001b[0m\u001b[1;33m(\u001b[0m\u001b[0mrun_metadata_ptr\u001b[0m\u001b[1;33m)\u001b[0m\u001b[1;33m\u001b[0m\u001b[0m\n",
      "\u001b[0;32mC:\\Users\\Andreas\\AppData\\Local\\conda\\conda\\envs\\dl\\lib\\site-packages\\tensorflow\\python\\client\\session.py\u001b[0m in \u001b[0;36m_run\u001b[0;34m(self, handle, fetches, feed_dict, options, run_metadata)\u001b[0m\n\u001b[1;32m    963\u001b[0m     \u001b[1;32mif\u001b[0m \u001b[0mfinal_fetches\u001b[0m \u001b[1;32mor\u001b[0m \u001b[0mfinal_targets\u001b[0m\u001b[1;33m:\u001b[0m\u001b[1;33m\u001b[0m\u001b[0m\n\u001b[1;32m    964\u001b[0m       results = self._do_run(handle, final_targets, final_fetches,\n\u001b[0;32m--> 965\u001b[0;31m                              feed_dict_string, options, run_metadata)\n\u001b[0m\u001b[1;32m    966\u001b[0m     \u001b[1;32melse\u001b[0m\u001b[1;33m:\u001b[0m\u001b[1;33m\u001b[0m\u001b[0m\n\u001b[1;32m    967\u001b[0m       \u001b[0mresults\u001b[0m \u001b[1;33m=\u001b[0m \u001b[1;33m[\u001b[0m\u001b[1;33m]\u001b[0m\u001b[1;33m\u001b[0m\u001b[0m\n",
      "\u001b[0;32mC:\\Users\\Andreas\\AppData\\Local\\conda\\conda\\envs\\dl\\lib\\site-packages\\tensorflow\\python\\client\\session.py\u001b[0m in \u001b[0;36m_do_run\u001b[0;34m(self, handle, target_list, fetch_list, feed_dict, options, run_metadata)\u001b[0m\n\u001b[1;32m   1013\u001b[0m     \u001b[1;32mif\u001b[0m \u001b[0mhandle\u001b[0m \u001b[1;32mis\u001b[0m \u001b[1;32mNone\u001b[0m\u001b[1;33m:\u001b[0m\u001b[1;33m\u001b[0m\u001b[0m\n\u001b[1;32m   1014\u001b[0m       return self._do_call(_run_fn, self._session, feed_dict, fetch_list,\n\u001b[0;32m-> 1015\u001b[0;31m                            target_list, options, run_metadata)\n\u001b[0m\u001b[1;32m   1016\u001b[0m     \u001b[1;32melse\u001b[0m\u001b[1;33m:\u001b[0m\u001b[1;33m\u001b[0m\u001b[0m\n\u001b[1;32m   1017\u001b[0m       return self._do_call(_prun_fn, self._session, handle, feed_dict,\n",
      "\u001b[0;32mC:\\Users\\Andreas\\AppData\\Local\\conda\\conda\\envs\\dl\\lib\\site-packages\\tensorflow\\python\\client\\session.py\u001b[0m in \u001b[0;36m_do_call\u001b[0;34m(self, fn, *args)\u001b[0m\n\u001b[1;32m   1020\u001b[0m   \u001b[1;32mdef\u001b[0m \u001b[0m_do_call\u001b[0m\u001b[1;33m(\u001b[0m\u001b[0mself\u001b[0m\u001b[1;33m,\u001b[0m \u001b[0mfn\u001b[0m\u001b[1;33m,\u001b[0m \u001b[1;33m*\u001b[0m\u001b[0margs\u001b[0m\u001b[1;33m)\u001b[0m\u001b[1;33m:\u001b[0m\u001b[1;33m\u001b[0m\u001b[0m\n\u001b[1;32m   1021\u001b[0m     \u001b[1;32mtry\u001b[0m\u001b[1;33m:\u001b[0m\u001b[1;33m\u001b[0m\u001b[0m\n\u001b[0;32m-> 1022\u001b[0;31m       \u001b[1;32mreturn\u001b[0m \u001b[0mfn\u001b[0m\u001b[1;33m(\u001b[0m\u001b[1;33m*\u001b[0m\u001b[0margs\u001b[0m\u001b[1;33m)\u001b[0m\u001b[1;33m\u001b[0m\u001b[0m\n\u001b[0m\u001b[1;32m   1023\u001b[0m     \u001b[1;32mexcept\u001b[0m \u001b[0merrors\u001b[0m\u001b[1;33m.\u001b[0m\u001b[0mOpError\u001b[0m \u001b[1;32mas\u001b[0m \u001b[0me\u001b[0m\u001b[1;33m:\u001b[0m\u001b[1;33m\u001b[0m\u001b[0m\n\u001b[1;32m   1024\u001b[0m       \u001b[0mmessage\u001b[0m \u001b[1;33m=\u001b[0m \u001b[0mcompat\u001b[0m\u001b[1;33m.\u001b[0m\u001b[0mas_text\u001b[0m\u001b[1;33m(\u001b[0m\u001b[0me\u001b[0m\u001b[1;33m.\u001b[0m\u001b[0mmessage\u001b[0m\u001b[1;33m)\u001b[0m\u001b[1;33m\u001b[0m\u001b[0m\n",
      "\u001b[0;32mC:\\Users\\Andreas\\AppData\\Local\\conda\\conda\\envs\\dl\\lib\\site-packages\\tensorflow\\python\\client\\session.py\u001b[0m in \u001b[0;36m_run_fn\u001b[0;34m(session, feed_dict, fetch_list, target_list, options, run_metadata)\u001b[0m\n\u001b[1;32m   1002\u001b[0m         return tf_session.TF_Run(session, options,\n\u001b[1;32m   1003\u001b[0m                                  \u001b[0mfeed_dict\u001b[0m\u001b[1;33m,\u001b[0m \u001b[0mfetch_list\u001b[0m\u001b[1;33m,\u001b[0m \u001b[0mtarget_list\u001b[0m\u001b[1;33m,\u001b[0m\u001b[1;33m\u001b[0m\u001b[0m\n\u001b[0;32m-> 1004\u001b[0;31m                                  status, run_metadata)\n\u001b[0m\u001b[1;32m   1005\u001b[0m \u001b[1;33m\u001b[0m\u001b[0m\n\u001b[1;32m   1006\u001b[0m     \u001b[1;32mdef\u001b[0m \u001b[0m_prun_fn\u001b[0m\u001b[1;33m(\u001b[0m\u001b[0msession\u001b[0m\u001b[1;33m,\u001b[0m \u001b[0mhandle\u001b[0m\u001b[1;33m,\u001b[0m \u001b[0mfeed_dict\u001b[0m\u001b[1;33m,\u001b[0m \u001b[0mfetch_list\u001b[0m\u001b[1;33m)\u001b[0m\u001b[1;33m:\u001b[0m\u001b[1;33m\u001b[0m\u001b[0m\n",
      "\u001b[0;31mKeyboardInterrupt\u001b[0m: "
     ]
    }
   ],
   "source": [
    "###### Number of Epochs\n",
    "num_epochs = 1000\n",
    "# Learning Rate\n",
    "learning_rate = 0.001\n",
    "# Show stats for every n number of batches\n",
    "show_every_n_batches = 1\n",
    "# override batch_distance\n",
    "batch_distance_override = 1 # seq_length * 1 // 5\n",
    "\n",
    "\n",
    "# added cyclic save and restore to interrupt training\n",
    "\n",
    "# moved rerandomised batch generation in epoch loop\n",
    " \n",
    "import matplotlib.pyplot as plt\n",
    "import time\n",
    "\n",
    "#batches = get_batches(int_text, batch_size, seq_length)\n",
    "\n",
    "with tf.Session(graph=train_graph) as sess:\n",
    "    \n",
    "    try:\n",
    "        saver.restore(sess, save_dir)\n",
    "        print('Model Restored :)')\n",
    "        with open('train_loss_history.p','rb') as file:\n",
    "            train_loss_history = pickle.load(file)\n",
    "        print('Loss_history Restored :)')\n",
    "    except:\n",
    "        train_loss_history = []\n",
    "        sess.run(tf.global_variables_initializer())\n",
    "        print('Initialised Model...')\n",
    "\n",
    "    for epoch_i in range(num_epochs):\n",
    "        \n",
    "        # rerandomise batches\n",
    "        batches = get_batches(int_text, batch_size, seq_length)\n",
    "\n",
    "        state = sess.run(initial_state, {input_text: batches[0][0]})\n",
    "    \n",
    "        start = time.time()\n",
    "        for batch_i, (x, y) in enumerate(batches):\n",
    "            feed = {\n",
    "                input_text: x,\n",
    "                targets: y,\n",
    "                initial_state: state,\n",
    "                lr: learning_rate}\n",
    "            train_loss, state, _ = sess.run([cost, final_state, train_op], feed)\n",
    "            \n",
    "            train_loss_history += [train_loss]\n",
    "\n",
    "            # Show every <show_every_n_batches> batches\n",
    "            if (epoch_i * len(batches) + batch_i) % show_every_n_batches == 0:\n",
    "                print('Epoch {:>3} Batch {:>4}/{}   train_loss = {:.3f}'.format(\n",
    "                    epoch_i,\n",
    "                    batch_i,\n",
    "                    len(batches),\n",
    "                    train_loss))\n",
    "                \n",
    "        print('computation time : {}'.format(time.time() - start))\n",
    "\n",
    "        # Save Model\n",
    "        saver = tf.train.Saver()\n",
    "        saver.save(sess, save_dir)\n",
    "        pickle.dump((train_loss_history), open('train_loss_history.p', 'wb'))\n",
    "        print('Model Trained and Saved')\n",
    "        plt.plot(train_loss_history)\n",
    "        plt.show()"
   ]
  },
  {
   "cell_type": "markdown",
   "metadata": {
    "deletable": true,
    "editable": true
   },
   "source": [
    "## Save Parameters\n",
    "Save `seq_length` and `save_dir` for generating a new TV script."
   ]
  },
  {
   "cell_type": "code",
   "execution_count": null,
   "metadata": {
    "collapsed": false,
    "deletable": true,
    "editable": true
   },
   "outputs": [],
   "source": [
    "\"\"\"\n",
    "DON'T MODIFY ANYTHING IN THIS CELL\n",
    "\"\"\"\n",
    "# Save parameters for checkpoint\n",
    "helper.save_params((seq_length, save_dir))"
   ]
  },
  {
   "cell_type": "markdown",
   "metadata": {
    "deletable": true,
    "editable": true
   },
   "source": [
    "# Checkpoint"
   ]
  },
  {
   "cell_type": "code",
   "execution_count": null,
   "metadata": {
    "collapsed": false,
    "deletable": true,
    "editable": true
   },
   "outputs": [],
   "source": [
    "\"\"\"\n",
    "DON'T MODIFY ANYTHING IN THIS CELL\n",
    "\"\"\"\n",
    "import tensorflow as tf\n",
    "import numpy as np\n",
    "import helper\n",
    "import problem_unittests as tests\n",
    "\n",
    "_, vocab_to_int, int_to_vocab, token_dict = helper.load_preprocess()\n",
    "seq_length, load_dir = helper.load_params()"
   ]
  },
  {
   "cell_type": "markdown",
   "metadata": {
    "deletable": true,
    "editable": true
   },
   "source": [
    "## Implement Generate Functions\n",
    "### Get Tensors\n",
    "Get tensors from `loaded_graph` using the function [`get_tensor_by_name()`](https://www.tensorflow.org/api_docs/python/tf/Graph#get_tensor_by_name).  Get the tensors using the following names:\n",
    "- \"input:0\"\n",
    "- \"initial_state:0\"\n",
    "- \"final_state:0\"\n",
    "- \"probs:0\"\n",
    "\n",
    "Return the tensors in the following tuple `(InputTensor, InitialStateTensor, FinalStateTensor, ProbsTensor)` "
   ]
  },
  {
   "cell_type": "code",
   "execution_count": null,
   "metadata": {
    "collapsed": false,
    "deletable": true,
    "editable": true
   },
   "outputs": [],
   "source": [
    "def get_tensors(loaded_graph):\n",
    "    \"\"\"\n",
    "    Get input, initial state, final state, and probabilities tensor from <loaded_graph>\n",
    "    :param loaded_graph: TensorFlow graph loaded from file\n",
    "    :return: Tuple (InputTensor, InitialStateTensor, FinalStateTensor, ProbsTensor)\n",
    "    \"\"\"\n",
    "    InputTensor        = loaded_graph.get_tensor_by_name(\"input:0\")\n",
    "    InitialStateTensor = loaded_graph.get_tensor_by_name(\"initial_state:0\")\n",
    "    FinalStateTensor   = loaded_graph.get_tensor_by_name(\"final_state:0\")\n",
    "    ProbsTensor        = loaded_graph.get_tensor_by_name(\"probs:0\")\n",
    "    return InputTensor, InitialStateTensor, FinalStateTensor, ProbsTensor\n",
    "\n",
    "\n",
    "\"\"\"\n",
    "DON'T MODIFY ANYTHING IN THIS CELL THAT IS BELOW THIS LINE\n",
    "\"\"\"\n",
    "tests.test_get_tensors(get_tensors)"
   ]
  },
  {
   "cell_type": "markdown",
   "metadata": {
    "deletable": true,
    "editable": true
   },
   "source": [
    "### Choose Word\n",
    "Implement the `pick_word()` function to select the next word using `probabilities`."
   ]
  },
  {
   "cell_type": "code",
   "execution_count": null,
   "metadata": {
    "collapsed": false,
    "deletable": true,
    "editable": true
   },
   "outputs": [],
   "source": [
    "def pick_word(probabilities, int_to_vocab):\n",
    "    \"\"\"\n",
    "    Pick the next word in the generated text\n",
    "    :param probabilities: Probabilites of the next word\n",
    "    :param int_to_vocab: Dictionary of word ids as the keys and words as the values\n",
    "    :return: String of the predicted word\n",
    "    \"\"\"\n",
    "    print(probabilities.index(max(probabilities)))\n",
    "    \n",
    "    sort,\n",
    "    use it or not by random over treshold\n",
    "    \n",
    "    extra idee:  memory// if in memory increase probabability//memorise top picks or picks?\n",
    "        deleate on hit\n",
    "        memorise speaker and words\n",
    "        \n",
    "    add lieblingswörter / lieblingsactor (hoomers brain, sientists)\n",
    "    \n",
    "    prefere same letter\n",
    "    return None\n",
    "\n",
    "\n",
    "\"\"\"\n",
    "DON'T MODIFY ANYTHING IN THIS CELL THAT IS BELOW THIS LINE\n",
    "\"\"\"\n",
    "tests.test_pick_word(pick_word)"
   ]
  },
  {
   "cell_type": "markdown",
   "metadata": {
    "deletable": true,
    "editable": true
   },
   "source": [
    "## Generate TV Script\n",
    "This will generate the TV script for you.  Set `gen_length` to the length of TV script you want to generate."
   ]
  },
  {
   "cell_type": "code",
   "execution_count": null,
   "metadata": {
    "collapsed": false,
    "deletable": true,
    "editable": true
   },
   "outputs": [],
   "source": [
    "gen_length = 200\n",
    "# homer_simpson, moe_szyslak, or Barney_Gumble\n",
    "prime_word = 'moe_szyslak'\n",
    "\n",
    "\"\"\"\n",
    "DON'T MODIFY ANYTHING IN THIS CELL THAT IS BELOW THIS LINE\n",
    "\"\"\"\n",
    "loaded_graph = tf.Graph()\n",
    "with tf.Session(graph=loaded_graph) as sess:\n",
    "    # Load saved model\n",
    "    loader = tf.train.import_meta_graph(load_dir + '.meta')\n",
    "    loader.restore(sess, load_dir)\n",
    "\n",
    "    # Get Tensors from loaded model\n",
    "    input_text, initial_state, final_state, probs = get_tensors(loaded_graph)\n",
    "\n",
    "    # Sentences generation setup\n",
    "    gen_sentences = [prime_word + ':']\n",
    "    prev_state = sess.run(initial_state, {input_text: np.array([[1]])})\n",
    "\n",
    "    # Generate sentences\n",
    "    for n in range(gen_length):\n",
    "        # Dynamic Input\n",
    "        dyn_input = [[vocab_to_int[word] for word in gen_sentences[-seq_length:]]]\n",
    "        dyn_seq_length = len(dyn_input[0])\n",
    "\n",
    "        # Get Prediction\n",
    "        probabilities, prev_state = sess.run(\n",
    "            [probs, final_state],\n",
    "            {input_text: dyn_input, initial_state: prev_state})\n",
    "        \n",
    "        pred_word = pick_word(probabilities[dyn_seq_length-1], int_to_vocab)\n",
    "\n",
    "        gen_sentences.append(pred_word)\n",
    "    \n",
    "    # Remove tokens\n",
    "    tv_script = ' '.join(gen_sentences)\n",
    "    for key, token in token_dict.items():\n",
    "        ending = ' ' if key in ['\\n', '(', '\"'] else ''\n",
    "        tv_script = tv_script.replace(' ' + token.lower(), key)\n",
    "    tv_script = tv_script.replace('\\n ', '\\n')\n",
    "    tv_script = tv_script.replace('( ', '(')\n",
    "        \n",
    "    print(tv_script)"
   ]
  },
  {
   "cell_type": "markdown",
   "metadata": {
    "deletable": true,
    "editable": true
   },
   "source": [
    "# The TV Script is Nonsensical\n",
    "It's ok if the TV script doesn't make any sense.  We trained on less than a megabyte of text.  In order to get good results, you'll have to use a smaller vocabulary or get more data.  Luckly there's more data!  As we mentioned in the begging of this project, this is a subset of [another dataset](https://www.kaggle.com/wcukierski/the-simpsons-by-the-data).  We didn't have you train on all the data, because that would take too long.  However, you are free to train your neural network on all the data.  After you complete the project, of course.\n",
    "# Submitting This Project\n",
    "When submitting this project, make sure to run all the cells before saving the notebook. Save the notebook file as \"dlnd_tv_script_generation.ipynb\" and save it as a HTML file under \"File\" -> \"Download as\". Include the \"helper.py\" and \"problem_unittests.py\" files in your submission."
   ]
  }
 ],
 "metadata": {
  "kernelspec": {
   "display_name": "Python 3",
   "language": "python",
   "name": "python3"
  },
  "language_info": {
   "codemirror_mode": {
    "name": "ipython",
    "version": 3
   },
   "file_extension": ".py",
   "mimetype": "text/x-python",
   "name": "python",
   "nbconvert_exporter": "python",
   "pygments_lexer": "ipython3",
   "version": "3.5.2"
  }
 },
 "nbformat": 4,
 "nbformat_minor": 0
}
