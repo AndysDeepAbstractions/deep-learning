{
 "cells": [
  {
   "cell_type": "markdown",
   "metadata": {
    "deletable": true,
    "editable": true
   },
   "source": [
    "# TV Script Generation\n",
    "In this project, you'll generate your own [Simpsons](https://en.wikipedia.org/wiki/The_Simpsons) TV scripts using RNNs.  You'll be using part of the [Simpsons dataset](https://www.kaggle.com/wcukierski/the-simpsons-by-the-data) of scripts from 27 seasons.  The Neural Network you'll build will generate a new TV script for a scene at [Moe's Tavern](https://simpsonswiki.com/wiki/Moe's_Tavern).\n",
    "## Get the Data\n",
    "The data is already provided for you.  You'll be using a subset of the original dataset.  It consists of only the scenes in Moe's Tavern.  This doesn't include other versions of the tavern, like \"Moe's Cavern\", \"Flaming Moe's\", \"Uncle Moe's Family Feed-Bag\", etc.."
   ]
  },
  {
   "cell_type": "code",
   "execution_count": 1,
   "metadata": {
    "collapsed": false,
    "deletable": true,
    "editable": true
   },
   "outputs": [],
   "source": [
    "\"\"\"\n",
    "DON'T MODIFY ANYTHING IN THIS CELL\n",
    "\"\"\"\n",
    "import helper\n",
    "\n",
    "data_dir = './data/simpsons/moes_tavern_lines.txt'\n",
    "text = helper.load_data(data_dir)\n",
    "# Ignore notice, since we don't use it for analysing the data\n",
    "text = text[81:]"
   ]
  },
  {
   "cell_type": "markdown",
   "metadata": {
    "deletable": true,
    "editable": true
   },
   "source": [
    "## Explore the Data\n",
    "Play around with `view_sentence_range` to view different parts of the data."
   ]
  },
  {
   "cell_type": "code",
   "execution_count": 2,
   "metadata": {
    "collapsed": false,
    "deletable": true,
    "editable": true
   },
   "outputs": [
    {
     "name": "stdout",
     "output_type": "stream",
     "text": [
      "Dataset Stats\n",
      "Roughly the number of unique words: 11492\n",
      "Number of scenes: 262\n",
      "Average number of sentences in each scene: 15.251908396946565\n",
      "Number of lines: 4258\n",
      "Average number of words in each line: 11.50164396430249\n",
      "\n",
      "The sentences 0 to 10:\n",
      "\n",
      "Moe_Szyslak: (INTO PHONE) Moe's Tavern. Where the elite meet to drink.\n",
      "Bart_Simpson: Eh, yeah, hello, is Mike there? Last name, Rotch.\n",
      "Moe_Szyslak: (INTO PHONE) Hold on, I'll check. (TO BARFLIES) Mike Rotch. Mike Rotch. Hey, has anybody seen Mike Rotch, lately?\n",
      "Moe_Szyslak: (INTO PHONE) Listen you little puke. One of these days I'm gonna catch you, and I'm gonna carve my name on your back with an ice pick.\n",
      "Moe_Szyslak: What's the matter Homer? You're not your normal effervescent self.\n",
      "Homer_Simpson: I got my problems, Moe. Give me another one.\n",
      "Moe_Szyslak: Homer, hey, you should not drink to forget your problems.\n",
      "Barney_Gumble: Yeah, you should only drink to enhance your social skills.\n",
      "\n"
     ]
    }
   ],
   "source": [
    "view_sentence_range = (0, 10)\n",
    "\n",
    "\"\"\"\n",
    "DON'T MODIFY ANYTHING IN THIS CELL\n",
    "\"\"\"\n",
    "import numpy as np\n",
    "\n",
    "print('Dataset Stats')\n",
    "print('Roughly the number of unique words: {}'.format(len({word: None for word in text.split()})))\n",
    "scenes = text.split('\\n\\n')\n",
    "print('Number of scenes: {}'.format(len(scenes)))\n",
    "sentence_count_scene = [scene.count('\\n') for scene in scenes]\n",
    "print('Average number of sentences in each scene: {}'.format(np.average(sentence_count_scene)))\n",
    "\n",
    "sentences = [sentence for scene in scenes for sentence in scene.split('\\n')]\n",
    "print('Number of lines: {}'.format(len(sentences)))\n",
    "word_count_sentence = [len(sentence.split()) for sentence in sentences]\n",
    "print('Average number of words in each line: {}'.format(np.average(word_count_sentence)))\n",
    "\n",
    "print()\n",
    "print('The sentences {} to {}:'.format(*view_sentence_range))\n",
    "print('\\n'.join(text.split('\\n')[view_sentence_range[0]:view_sentence_range[1]]))"
   ]
  },
  {
   "cell_type": "markdown",
   "metadata": {
    "deletable": true,
    "editable": true
   },
   "source": [
    "## Implement Preprocessing Functions\n",
    "The first thing to do to any dataset is preprocessing.  Implement the following preprocessing functions below:\n",
    "- Lookup Table\n",
    "- Tokenize Punctuation\n",
    "\n",
    "### Lookup Table\n",
    "To create a word embedding, you first need to transform the words to ids.  In this function, create two dictionaries:\n",
    "- Dictionary to go from the words to an id, we'll call `vocab_to_int`\n",
    "- Dictionary to go from the id to word, we'll call `int_to_vocab`\n",
    "\n",
    "Return these dictionaries in the following tuple `(vocab_to_int, int_to_vocab)`"
   ]
  },
  {
   "cell_type": "code",
   "execution_count": 3,
   "metadata": {
    "collapsed": false
   },
   "outputs": [],
   "source": [
    "import numpy as np\n",
    "import problem_unittests as tests\n",
    "import re\n",
    "\n",
    "def create_lookup_tables(text):\n",
    "    \"\"\"\n",
    "    Create lookup tables for vocabulary\n",
    "    :param text: The text of tv scripts split into words\n",
    "    :return: A tuple of dicts (vocab_to_int, int_to_vocab)\n",
    "    \"\"\"\n",
    "\n",
    "    text = ''.join([c.lower()+' ' for c in text])\n",
    "    #text_for_lookup  = sorted(list(set(re.split('(\\W)+', text))))\n",
    "    #marks_for_lookup = sorted(list(set(re.split('(\\w)+', text))))\n",
    "    #text_for_lookup  = sorted(list(set(text_for_lookup + (marks_for_lookup))))\n",
    "    text_for_lookup = sorted(list(set(re.split(' ', text))))\n",
    "\n",
    "    int_to_vocab = dict((i, c) for i, c in enumerate(text_for_lookup))\n",
    "    vocab_to_int = dict((c, i) for i, c in enumerate(text_for_lookup))\n",
    "\n",
    "    return vocab_to_int, int_to_vocab"
   ]
  },
  {
   "cell_type": "code",
   "execution_count": 4,
   "metadata": {
    "collapsed": false,
    "deletable": true,
    "editable": true
   },
   "outputs": [
    {
     "name": "stdout",
     "output_type": "stream",
     "text": [
      "Tests Passed\n"
     ]
    }
   ],
   "source": [
    "\"\"\"\n",
    "DON'T MODIFY ANYTHING IN THIS CELL THAT IS BELOW THIS LINE\n",
    "\"\"\"\n",
    "tests.test_create_lookup_tables(create_lookup_tables)"
   ]
  },
  {
   "cell_type": "markdown",
   "metadata": {
    "deletable": true,
    "editable": true
   },
   "source": [
    "### Tokenize Punctuation\n",
    "We'll be splitting the script into a word array using spaces as delimiters.  However, punctuations like periods and exclamation marks make it hard for the neural network to distinguish between the word \"bye\" and \"bye!\".\n",
    "\n",
    "Implement the function `token_lookup` to return a dict that will be used to tokenize symbols like \"!\" into \"__Exclamation_Mark__\".  Create a dictionary for the following symbols where the symbol is the key and value is the token:\n",
    "- Period ( . )\n",
    "- Comma ( , )\n",
    "- Quotation Mark ( \" )\n",
    "- Semicolon ( ; )\n",
    "- Exclamation mark ( ! )\n",
    "- Question mark ( ? )\n",
    "- Left Parentheses ( ( )\n",
    "- Right Parentheses ( ) )\n",
    "- Dash ( -- )\n",
    "- Return ( \\n )\n",
    "\n",
    "This dictionary will be used to token the symbols and add the delimiter (space) around it.  This separates the symbols as it's own word, making it easier for the neural network to predict on the next word. Make sure you don't use a token that could be confused as a word. Instead of using the token \"dash\", try using something like \"__dash__\"."
   ]
  },
  {
   "cell_type": "code",
   "execution_count": 5,
   "metadata": {
    "collapsed": false
   },
   "outputs": [
    {
     "data": {
      "text/plain": [
       "{'\\n': '__return__',\n",
       " '!': '__exclamation_mark__',\n",
       " '\"': '__quotation_Mark__',\n",
       " '(': '__left_Parentheses__',\n",
       " ')': '__right_Parentheses__',\n",
       " ',': '__comma__',\n",
       " '--': '__dash__',\n",
       " '.': '__period__',\n",
       " ';': '__semicolon__',\n",
       " '?': '__question_mark__'}"
      ]
     },
     "execution_count": 5,
     "metadata": {},
     "output_type": "execute_result"
    }
   ],
   "source": [
    "def token_lookup():\n",
    "    \"\"\"\n",
    "    Generate a dict to turn punctuation into a token.\n",
    "    :return: Tokenize dictionary where the key is the punctuation and the value is the token\n",
    "    \"\"\"\n",
    "    symbols = (['.', ',', '\"', ';', '!', '?', '(', ')', '--', '\\n'#, ':', '\\'', '#', '/', '%'\n",
    "               ])\n",
    "    \n",
    "    symbol_desc = ([\n",
    "        '__period__',\n",
    "        '__comma__',\n",
    "        '__quotation_Mark__',\n",
    "        '__semicolon__',\n",
    "        '__exclamation_mark__',\n",
    "        '__question_mark__',\n",
    "        '__left_Parentheses__',\n",
    "        '__right_Parentheses__',\n",
    "        '__dash__',\n",
    "        '__return__',\n",
    "        #'__double_point__', ## missing in description\n",
    "        #'__quote__',        ## missing in description\n",
    "        #'__hash__',         ## missing in description\n",
    "        #'__slash__',        ## missing in description\n",
    "        #'__procent__',      ## missing in description\n",
    "        ])\n",
    "    \n",
    "    return dict(zip(symbols,symbol_desc))\n",
    "\n",
    "token_lookup()\n"
   ]
  },
  {
   "cell_type": "code",
   "execution_count": 6,
   "metadata": {
    "collapsed": false,
    "deletable": true,
    "editable": true
   },
   "outputs": [
    {
     "name": "stdout",
     "output_type": "stream",
     "text": [
      "Tests Passed\n"
     ]
    }
   ],
   "source": [
    "\"\"\"\n",
    "DON'T MODIFY ANYTHING IN THIS CELL THAT IS BELOW THIS LINE\n",
    "\"\"\"\n",
    "tests.test_tokenize(token_lookup)"
   ]
  },
  {
   "cell_type": "markdown",
   "metadata": {
    "deletable": true,
    "editable": true
   },
   "source": [
    "## Preprocess all the data and save it\n",
    "Running the code cell below will preprocess all the data and save it to file."
   ]
  },
  {
   "cell_type": "code",
   "execution_count": 7,
   "metadata": {
    "collapsed": false
   },
   "outputs": [
    {
     "name": "stdout",
     "output_type": "stream",
     "text": [
      "{'': 0, 'played': 4436, 'extremely': 2038, 'brought': 807, 'hounds': 2882, 'moonnnnnnnn': 3858, 'full-time': 2361, 'pridesters:': 4571, 'tavern': 5895, 'whatever': 6526, 'nahasapeemapetilon': 3943, 'illustrates': 2960, 'lurks': 3567, '70': 48, 'carll': 957, 'again': 163, 'grains': 2534, 'story': 5703, 'flash': 2212, 'lenny:': 3389, 'shocked': 5230, 'those': 6022, 'dinner': 1633, 'waitress': 6407, 'trash': 6156, 'invulnerable': 3071, 'aisle': 198, 'equivalent': 1956, 'round': 4950, 'coast': 1184, 'sincerely': 5308, 'knowing': 3284, 'tonight': 6105, 'mudflap': 3899, \"watchin'\": 6454, 'inches': 2981, 'fonda': 2253, 'newly-published': 4011, 'a': 74, 'righ': 4900, \"narratin'\": 3957, 'friendship': 2338, 'patented': 4292, 'stickers': 5668, 'thorn': 6020, 'advertising': 146, 'corporate': 1325, 'teams': 5905, 'fumigated': 2364, 'fishing': 2193, 'clean': 1146, 'abandon': 80, 'rolls': 4931, 'evil': 1987, 'lizard': 3478, 'switch': 5837, 'play/': 4435, 'edgy': 1856, 'ram': 4729, 'bubble': 814, 'specialists': 5528, 'pleased': 4447, 'purse': 4654, 'writers': 6696, 'tropical': 6182, 'onassis': 4156, 'corpses': 1327, 'squeezed': 5588, 'horrible': 2865, 'earlier': 1828, 'nicer': 4021, 'suspended': 5805, 'now': 4083, 'warily': 6431, 'detecting': 1591, 'kick': 3230, 'churchy': 1127, \"pressure's\": 4555, 'weep': 6493, 'disappear': 1643, 'said:': 5014, 'troy:': 6186, 'beep': 554, 'prince': 4574, 'strategy': 5713, 'jewelry': 3149, 'believer': 580, 'total': 6119, 'triumphantly': 6178, \"shootin'\": 5235, 'boxcars': 733, \"school's\": 5078, 'delightfully': 1552, 'heather': 2733, 'actually': 121, 'draw': 1742, 'whoops': 6566, 'bash': 510, 'common': 1239, 'fiiiiile': 2158, 'alcohol': 204, 'passion': 4287, 'shutup': 5275, \"you've\": 6752, 'unattended': 6261, 'chain': 1012, \"people's\": 4329, 'test-lady': 5952, 'asleep': 366, 'hundred': 2909, 'single': 5316, 'wayne': 6467, 'visas': 6379, 'accept': 98, 'crony': 1406, 'frink-y': 2342, 'therapist': 5986, 'eye': 2040, 'badge': 446, 'getaway': 2444, 'hate-hugs': 2695, 'children': 1082, 'couch': 1336, 'lover': 3545, 'fistiana': 2195, 'caught': 985, 'girlfriend': 2472, 'also': 236, 'driveability': 1766, 'fell': 2125, 'chest': 1071, 'doubt': 1728, 'graves': 2550, 'club': 1179, 'choices:': 1099, 'watched': 6453, 'checks': 1058, 'gold': 2504, 'mcclure': 3688, 'provide': 4626, 'cadillac': 896, 'gees': 2420, 'benjamin': 593, 'low-blow': 3550, 'ugliness': 6249, 'asks': 365, 'offense': 4126, 'patting': 4303, 'meals': 3694, 'ear': 1827, 'behavior': 572, 'return': 4876, 'hop': 2857, 'shakespeare': 5194, 'gentle': 2429, 'bowie': 727, 'captain:': 938, 'along': 231, 'hear': 2722, \"askin'\": 363, 'hammer': 2642, 'replace': 4851, 'tempting': 5932, 'shaken': 5191, \"lenny's\": 3388, 'term': 5940, 'closing': 1172, 'kills': 3250, 'tv_father:': 6219, 'patient': 4294, 'mustard': 3932, 'improved': 2974, 'attractive_woman_#2:': 395, 'touchdown': 6123, \"homer'll\": 2834, 'jumps': 3192, 'law': 3350, 'spot': 5570, 'clipped': 1163, 'smitty:': 5408, 'insensitive': 3024, 'appear': 313, 'twenty-five': 6227, 'hope': 2858, 'crew': 1396, 'troy_mcclure:': 6187, 'hiya': 2805, 'exhale': 2010, 'getting': 2448, 'bachelor': 434, 'studied': 5733, 'prison': 4581, 'plums': 4456, 'takes': 5863, 'women': 6642, 'is:': 3082, 'pulled': 4642, 'tail': 5858, 'sister-in-law': 5327, 'majority': 3606, 'and/or': 266, 'relieved': 4818, 'not': 4070, 'beaumarchais': 538, \"neighbor's\": 3990, 'wrapped': 6688, 'pats': 4301, 'rules': 4973, 'swell': 5826, 'funds': 2368, 'pinchpenny': 4399, 'bubbles': 815, 'unattractive': 6262, 'store-bought': 5698, 'feat': 2113, 'ghouls': 2454, 'ask': 361, 'finally': 2168, 'margarita': 3645, 'twenty-four': 6228, 'ga': 2387, 'lost': 3524, 'read': 4754, 'closes': 1170, 'charm': 1042, 'royal': 4956, 'diaper': 1603, 'going': 2502, 'small_boy:': 5395, 'pontiff': 4490, 'carlotta:': 958, 'pretending': 4559, 'corner': 1324, 'sat-is-fac-tion': 5043, 'partially': 4277, 'energy': 1928, 'kindly': 3255, 'blinded': 653, 'attach': 384, 'benefits': 592, 'call': 906, 'media': 3709, 'rugged': 4967, 'furious': 2372, 're:': 4747, 'danish': 1479, 'ate': 382, 'serious': 5167, 'begging': 568, 'bridges': 779, 'roller': 4929, 'broke': 796, 'unlocked': 6301, 'quality': 4672, 'forget-me-shot': 2278, 'madman': 3589, 'half-back': 2635, 'tv_wife:': 6221, 'greatest': 2554, 'gift:': 2458, \"haven't\": 2701, 'losing': 3522, 'aid': 190, 'stay': 5641, 'crying': 1425, 'wiggle-frowns': 6579, 'klown': 3271, 'mommy': 3840, 'shark': 5207, 'crimes': 1400, 'solid': 5471, 'safer': 5007, 'predictable': 4534, 'mirthless': 3788, 'zoomed': 6778, 'souped': 5511, 'manipulation': 3637, 'screw': 5097, 'gone': 2508, \"scammin'\": 5062, 'sent': 5162, 'aidens': 192, 'everyday': 1982, 'other_book_club_member:': 4197, 'junebug': 3193, 'milks': 3768, 'taps': 5885, \"bart'd\": 498, 'attitude': 390, 'players': 4437, 'chapel': 1031, 'is': 3081, 'habitrail': 2623, 'seem': 5131, '__left_parentheses__': 56, 'bartending': 504, 'frazier': 2315, 'suru': 5801, 'ninety-seven': 4037, 'delighted': 1550, 'if': 2953, 'anti-intellectualism': 293, 'hey': 2773, 'creeps': 1392, 'hail': 2629, 'hugh:': 2903, 'fast': 2090, 'startup': 5629, 'oughtta': 4203, 'team': 5903, 'heliotrope': 2747, 'elder': 1890, 'understood': 6276, \"jimbo's_dad:\": 3153, 'notorious': 4079, 'mobile': 3816, 'insured': 3043, 'shores': 5240, 'elephants': 1894, 'embarrassing': 1906, 'distraught': 1675, 'pair': 4248, 'grandmother': 2543, 'oooo': 4172, 'helpful': 2755, 'legoland': 3379, 'wanna': 6425, 'pageant': 4237, 'lowers': 3553, 'donate': 1708, 'quarry': 4673, 'koholic': 3292, 'ohmygod': 4140, 'nice': 4020, 'chase': 1045, 'closet': 1171, \"speakin'\": 5525, 'figured': 2156, 'alky': 215, 'justify': 3199, 'control': 1307, 'bookie': 700, 'proposing': 4616, 'lobster-based': 3488, 'butterball': 874, 'parked': 4272, 'pretty': 4564, 'smile': 5402, 'beyond': 607, 'frink': 2341, 'pickled': 4382, \"what's\": 6520, 'feelings': 2120, 'diddilies': 1609, 'woodchucks': 6653, 'thnord': 6018, 'wars': 6440, 'forget-me-drinks': 2277, 'trouble': 6183, 'filthy': 2166, 'lurleen_lumpkin:': 3569, 'ivana': 3100, 'barstools': 496, 'polish': 4481, 'guff': 2594, 'americans': 254, 'running': 4981, 'spine': 5548, 'rain': 4716, 'disdainful': 1655, 'pre-columbian': 4529, 'sentimonies': 5163, 'bleak': 645, 'novelty': 4081, 'choking': 1103, \"queen's\": 4678, 'log': 3497, 'upn': 6315, 'really': 4767, 'k-zug': 3202, 'potatoes': 4513, 'yellow-belly': 6734, 'premise': 4539, 'ride': 4894, 'gas': 2409, 'singing/pushing': 5315, 'mt': 3896, 'focus': 2243, 'infestation': 3004, 'homers': 2840, 'clown-like': 1178, 'bold': 685, 'beat': 534, 'became': 542, 'commanding': 1233, 'grants': 2547, 'slot': 5386, 'virility': 6377, \"'pu\": 17, 'bono:': 695, 'side': 5282, 'their': 5979, 'breathtaking': 772, 'ping-pong': 4401, 'yea': 6723, 'went': 6503, 'nearly': 3975, 'imaginary': 2962, \"barney's\": 490, 'creme': 1394, 'bathed': 514, 'smooth': 5414, 'famous': 2079, \"tatum'll\": 5892, 'splash': 5557, 'cobbling': 1188, 'sketch': 5347, 'four-drink': 2302, 'aggie': 173, 'prize': 4584, 'power': 4519, 'uncle': 6266, 'catty': 984, 'warmth': 6434, 'trapped': 6154, 'gin': 2467, 'bank': 467, 'ehhhhhhhh': 1875, 'languages': 3329, 'better': 602, 'seemed': 5132, 'source': 5513, 'drunks': 1785, 'bon': 687, 'sports': 5568, 'plywood': 4458, 'pugilist': 4636, 'ew': 1989, 'scratching': 5094, 'comic_book_guy:': 1230, \"toot's\": 6112, 'proof': 4613, 'someone': 5480, 'pour': 4516, 'fellow': 2128, 'choke': 1100, 'rough': 4949, 'burt_reynolds:': 859, 'heavyweight': 2740, 'show-off': 5257, 'ninety-nine': 4036, 'considers': 1289, 'stadium': 5597, 'unhappy': 6289, 'hollye': 2827, 'blend': 647, 'tobacky': 6079, 'lemonade': 3383, 'dizer': 1684, 'million': 3770, 'windowshade': 6599, 'tanking': 5878, 'far': 2087, 'fink': 2180, 'sponge:': 5562, 'shutting': 5274, 'brain-switching': 749, 'even': 1974, 'suspicious': 5807, 'caper': 933, \"ma's\": 3578, 'telemarketing': 5920, 'what': 6516, 'decadent': 1519, 'dollface': 1701, 'har': 2676, 'delays': 1542, 'gulps': 2600, 'ahhhh': 189, 'fourteen:': 2304, 'refill': 4794, \"wallet's\": 6417, 'indeedy': 2992, 'compared': 1244, 'bunion': 844, 'tears': 5908, 'explanation': 2027, 'swelling': 5827, 'available': 405, 'awfully': 419, 'thoughts': 6031, 'bedbugs': 546, 'slaves': 5364, 'souvenir': 5516, 'blame': 640, 'headhunters': 2715, 'cause': 987, 'rats': 4744, 'tale': 5866, 'fly': 2239, 'answers': 290, 'chum': 1121, 'collette:': 1211, 'meet': 3715, 'mob': 3815, 'polenta': 4479, 'jã¤germeister': 3200, 'telephone': 5921, 'kinderhook': 3254, 'nail': 3944, 'pants': 4259, 'show': 5255, 'supermarket': 5783, 'eddie:': 1853, 'annoyed': 281, \"readin'\": 4757, 'sternly': 5663, 'express': 2030, 'began': 566, 'mocking': 3819, 'stick': 5666, 'whatsit': 6527, 'winnings': 6607, 'troy': 6185, 'realize': 4764, 'blob': 657, 'secrets': 5122, 'bake': 455, 'specials': 5530, 'timbuk-tee': 6062, 'paper': 4263, 'moments': 3839, 'break-up': 763, 'fbi': 2108, 'scatter': 5068, 'ancient': 263, 'correcting': 1329, 'nameless': 3951, 'stewart': 5665, 'moron': 3866, 'presided': 4547, 'impressed': 2972, 'unison': 6294, 'exit': 2013, 'enter': 1942, 'happiness': 2674, 'normal': 4064, 'carmichael': 960, 'upset': 6317, 'carnival': 962, 'eggshell': 1871, 'dreary': 1751, 'flaming': 2209, 'helpless': 2757, 'eye-gouger': 2041, 'midge': 3754, 'sweaty': 5818, 'suave': 5742, 'marguerite:': 3649, 'bless': 648, 'gheet': 2453, 'involving': 3070, 'glen': 2483, 'mickey': 3746, 'however': 2894, 'crap': 1378, 'fortune': 2290, 'serum': 5169, 'somewhere': 5491, 'grrrreetings': 2580, 'reluctant': 4821, 'naked': 3947, 'mimes': 3771, 'whaaa': 6510, 'wiggle': 6578, 'wheels': 6531, 'panicked': 4255, 'musical': 3925, 'hootie': 2856, 'ah-ha': 184, 'screams': 5096, 'gardens': 2404, 'thirteen': 6009, 'painting': 4245, 'action': 116, 'crunch': 1423, 'jernt': 3144, 'voyager': 6392, 'moans': 3814, 'sued': 5759, 'leaving': 3368, 'corn': 1323, 'civilization': 1137, 'branding': 754, 'alfred': 210, 'roomy': 4942, 'society_matron:': 5463, 'lord': 3516, 'congoleum': 1280, 'publishers': 4632, 'slyly': 5392, 'your': 6760, 'hemorrhage-amundo': 2760, 'sweden': 5819, \"they're\": 5996, 'newsies': 4013, 'schnapps': 5076, 'donated': 1709, 'lights': 3432, 'backbone': 438, 'conversations': 1310, 'weirder': 6497, 'malabar': 3612, 'hooch': 2850, 'bedridden': 547, 'girls': 2473, 'sensitivity': 5161, 'general': 2423, 'husband': 2921, 'awed': 416, 'maya': 3679, 'cruiser': 1420, 'it:': 3093, 'lloyd': 3479, 'nucular': 4086, 'vote': 6389, 'shtick': 5270, 'forbids': 2269, 'divorced': 1683, 'nasa': 3959, 'selling': 5147, 'commission': 1235, 'd': 1455, 'ideal': 2947, 'nose': 4069, 'afloat': 155, \"edna's\": 1859, 'grampa_simpson:': 2539, 'short_man:': 5242, 'steam': 5651, 'tones': 6102, 'make:': 3608, '__question_mark__': 58, 'hygienically': 2926, \"gettin'\": 2447, 'panicky': 4256, 'twentieth': 6225, 'smugglers': 5418, 'putty': 4667, 'pepto-bismol': 4335, \"takin'\": 5864, 'voted': 6390, 'uh': 6251, 'bucket': 817, 'spending': 5541, 'delete': 1543, 'bottomless': 720, 'case': 969, 'brown': 809, 'sloe': 5382, 'noosey': 4060, 'conspiratorial': 1292, 'recreate': 4785, 'serve': 5170, 'home': 2830, 'rumor': 4976, 'lead': 3357, 'tablecloth': 5854, 'bird': 626, 'pulls': 4645, 'polite': 4483, 'marquee': 3654, 'liver': 3474, 'ya': 6714, 'romantic': 4934, 'forbidden': 2268, 'lou': 3530, 'subject': 5744, 'clearly': 1153, 'skunk': 5357, 'trick': 6173, 'photo': 4371, 'yawns': 6721, 'pip': 4404, 'worthless': 6678, 'place': 4415, 'jay:': 3128, 'certificate': 1009, 'they': 5993, 'losers': 3521, 'planet': 4422, 'roz:': 4958, 'gives': 2476, 'parking': 4273, 'shrugs': 5269, 'gave': 2415, 'einstein': 1886, 'dame': 1466, 'terror': 5948, 'apu_nahasapeemapetilon:': 327, 'supports': 5790, 'solely': 5470, 'chair': 1014, \"tellin'\": 5924, 'mall': 3617, 'issuing': 3088, 'bow': 726, 'feminine': 2132, 'belly': 583, 'grunt': 2588, 'crooks': 1407, 'business': 865, 'matter': 3673, 'minister': 3780, 'parents': 4269, 'swine': 5833, 'gifts': 2459, \"nixon's\": 4041, 'intriguing': 3059, 'glitterati': 2485, 'life-partner': 3418, 'cops': 1319, 'calm': 911, 'manboobs': 3634, 'richer': 4891, 'apology': 308, 'broken:': 798, 'notably': 4071, 'freaky': 2318, 'straighten': 5705, 'delightful': 1551, 'ralphie': 4728, 'welcome': 6498, 'stats': 5638, 'exclusive:': 2006, 'masks': 3663, 'aer': 148, \"dog's\": 1693, 'elect': 1891, 'grope': 2574, 'bartenders': 503, 'finale': 2167, 'listening': 3464, 'invisible': 3066, 'mate': 3669, '_hooper:': 66, 'girl-bart': 2471, 'hooray': 2854, 'celebration': 995, '2nd_voice_on_transmitter:': 38, 'hyper-credits': 2927, 'survive': 5802, 'looting': 3515, 'mother': 3875, \"floatin'\": 2227, 'woman:': 6639, 'jobs': 3157, 'brilliant': 784, \"fine-lookin'\": 2173, 'new_health_inspector:': 4009, 'underbridge': 6271, 'clientele': 1159, 'beloved': 587, 'gunk': 2606, 'cough': 1337, 'lovers': 3546, 'bail': 454, 'western': 6507, \"game's\": 2398, 'fixes': 2201, 'unkempt': 6298, 'crossed': 1409, 'mr': 3894, 'tow-joes': 6129, 'loudly': 3534, \"'til\": 21, 'looking': 3511, 'officer': 4130, 'cockroach': 1192, 'smoke': 5409, 'necklace': 3980, 'cozies': 1370, 'straight': 5704, 'prizefighters': 4585, 'minutes': 3785, 'jerky': 3143, 'column': 1217, 'intense': 3046, 'bye': 887, 'toe': 6083, 'booze-bags': 705, 'peabody': 4315, 'denser': 1564, 'flophouse': 2230, 'chip': 1091, 'idealistic': 2948, 'goldarnit': 2505, \"ragin'\": 4711, 'thirty-thousand': 6013, 'drag': 1736, 'sits': 5334, 'eighty-one': 1882, \"moe's\": 3825, 'burps': 856, 'sooo': 5498, \"payin'\": 4311, 'piece': 4388, \"'ceptin'\": 7, 'unable': 6260, 'paste': 4291, 'conditioners': 1270, 'ã€': 6780, 'dictating': 1606, 'aah': 78, 'challenge': 1016, 'jerks': 3142, 'looser': 3514, 'camera': 915, 'gags': 2391, 'support': 5789, 'moe-clone': 3827, 'talking': 5873, 'omit': 4154, 'cab': 893, \"bein'\": 574, 'cotton': 1335, 'awww': 423, 'pall': 4251, 'luv': 3572, 'wade_boggs:': 6400, 'limits': 3440, 'boxer:': 735, 'prices': 4569, 'crow': 1411, \"duelin'\": 1793, 'demo': 1558, 'belches': 578, 'libraries': 3411, 'intakes': 3044, 'wearing': 6482, 'ecru': 1851, 'accent': 97, 'deal': 1509, 'enjoy': 1936, 'working': 6666, 'jacques': 3113, 'unforgettable': 6285, 'gesture': 2442, 'encore': 1917, 'blokes': 660, 'ten': 5933, 'uncreeped-out': 6268, 'shelbyville': 5218, 'says': 5060, 'whaddaya': 6512, 'restless': 4870, 'deeper': 1532, 'nevada': 4006, 'makes': 3609, 'deny': 1567, 'saying': 5059, 'pronto': 4612, 'vulgar': 6393, 'thomas': 6019, 'rector': 4787, 'book': 698, 'crapmore': 1380, 'gentles': 2433, 'great': 2553, 'warren': 6439, 'police': 4480, 'kept': 3226, 'bret:': 774, 'spouses': 5572, 'anniversary': 279, 'pointed': 4467, 'tree_hoper:': 6165, 'i': 2928, 'voice_on_transmitter:': 6384, 'exasperated': 1996, 'hunter': 2915, 'slobs': 5381, 'gum': 2601, 'rolled': 4928, 'doof': 1718, 'here-here-here': 2766, 'plane': 4421, 'unsafe': 6304, 'often': 4134, 'wave': 6462, 'frenchman': 2325, 'ton': 6101, 'shares': 5204, 'handling': 2651, \"foolin'\": 2261, 'wad': 6399, 'dan_gillick:': 1472, 'to': 6077, 'pointedly': 4468, \"fun's\": 2366, 'swooning': 5839, 'charming': 1043, 'throat': 6040, 'noggin': 4047, 'puzzle': 4668, 'agents': 172, 'ice': 2941, 'called': 907, 'nobel': 4043, 'best': 596, 'type': 6240, 'thousand-year': 6033, 'suburban': 5746, 'mumble': 3910, 'deer': 1534, 'flaking': 2206, \"fishin'\": 2192, 'cheap': 1050, 'stationery': 5636, 'sacrilicious': 4999, 'body': 682, \"tryin'\": 6198, 'committee': 1237, 'fondly': 2255, 'doppler': 1723, 'when': 6532, 'friends': 2337, 'fit': 2196, 'derek': 1578, 'dishrag': 1663, 'hardhat': 2679, 'professional': 4597, 'reality': 4763, 'superpower': 5785, \"tv's\": 6215, 'breath': 769, 'gabriel': 2388, 'bumped': 840, 'ultimate': 6255, 'inclination': 2982, 'pull': 4641, 'work': 6662, 'competitive': 1248, 'brainheaded': 750, 'hammock': 2643, 'produce': 4593, 'darts': 1487, 'want': 6426, 'bees': 562, 'lobster': 3487, 'seymour_skinner:': 5186, 'stalwart': 5607, 'lose': 3519, 'harrowing': 2685, 'padres': 4235, 'jer': 3138, 'tv': 6213, 'wing': 6602, 'diving': 1682, 'understand': 6274, 'bid': 609, 'thirty': 6010, \"countin'\": 1345, 'donut': 1715, 'justice': 3198, 'selma_bouvier:': 5150, 'crayon': 1385, 'comedies': 1224, 'midnight': 3756, 'telling': 5925, 'babies': 432, 'freak': 2316, 'saucy': 5048, 'composer': 1257, 'betrayed': 599, 'domed': 1703, 'today': 6080, 'judgments': 3183, 'likes': 3434, 'refiero': 4793, 'dismissive': 1666, 'thank': 5963, 'furniture': 2374, 'direction': 1636, 'steinbrenner': 5658, 'full': 2358, 'lewis': 3404, 'endorsement': 1924, \"i've\": 2935, 'moonlight': 3857, 'affectations': 151, 'picnic': 4385, 'fleabag': 2220, \"dad's\": 1460, 'stagey': 5600, 'legs': 3380, 'romance': 4933, 'get': 2443, 'rebuilt': 4771, 'felt': 2130, 'prepared': 4542, 'tatum': 5891, 'bright': 782, 'decent': 1521, 'disgusted': 1661, 'books': 702, 'numbers': 4091, 'option': 4182, 'muscles': 3921, 'dropping': 1777, 'hollywood': 2828, 'teddy': 5911, 'tuna': 6205, 'viva': 6380, 'nectar': 3981, 'per': 4336, 'swe-ee-ee-ee-eet': 5814, 'sequel': 5165, 'drives': 1769, 'taunting': 5894, 'dory': 1726, \"nothin's\": 4074, 'typed': 6241, 'oil': 4141, 'middle': 3753, 'neil_gaiman:': 3994, 'weight': 6494, 'white': 6552, 'dance': 1474, \"city's\": 1134, 'mccarthy': 3687, 'hibbert': 2776, 'mafia': 3591, 'directions': 1637, 'umm': 6257, 'conditioning': 1271, 'everyone': 1983, 'speaking': 5526, 'standing': 5613, 'expression': 2031, 'smiles': 5405, 'enlightened': 1940, \"betsy'll\": 601, 'kitchen': 3268, 'lonely': 3501, 'th-th-th-the': 5960, 'farewell': 2088, 'belch': 577, 'hand': 2646, 'anyone': 301, 'pfft': 4360, 'scratcher': 5093, 'klingon': 3270, 'shop': 5238, 'crowded': 1415, 'cupid': 1435, 'celebrity': 997, 'roach': 4916, 'der': 1577, 'sneeze': 5433, 'college': 1210, 'swimmers': 5831, 'hat': 2693, 'noise': 4048, 'crotch': 1410, 'john': 3163, 'reader': 4756, 'waylon_smithers:': 6466, 'nuclear': 4085, 'brunch': 811, 'shoots': 5237, 'ginger': 2469, 'gig': 2460, 'pure': 4653, 'contemplates': 1297, 'options': 4183, 'kansas': 3207, 'stripes': 5723, 'whoo': 6564, \"cat's\": 977, 'festival': 2138, 'exited': 2014, 'grandkids': 2542, 'keeps': 3216, 'learn': 3361, 'man': 3621, 'scanning': 5063, 'longer': 3503, 'bush': 862, 'lighten': 3429, 'certified': 1010, 'winded': 6595, 'statues': 5640, 'alive': 214, 'poem': 4461, 'devastated': 1595, 'politician': 4484, 'brothers': 806, 'slim': 5376, 'chicks': 1077, 'planned': 4424, 'play': 4434, 'temp': 5927, 'windshield': 6600, 'travel': 6158, 'wrestling': 6693, 'terrifying': 5946, 'contest': 1301, 'good-looking': 2512, 'beauty': 541, 'data': 1490, 'thesaurus': 5991, 'chubby': 1113, 'b': 427, 'mis-statement': 3789, 'starla': 5617, 'kl5-4796': 3269, 'dying': 1818, 'young_homer:': 6756, 'kearney_zzyzwicz:': 3213, 'plum': 4455, 'anonymous': 285, \"ma'am\": 3577, 'top': 6115, 'bitter': 634, 'drollery': 1772, 'memories': 3720, 'phase': 4362, 'acquaintance': 110, 'telegraph': 5919, \"cupid's\": 1436, 'fires': 2185, 'tolerance': 6092, 'warm_female_voice:': 6432, 'bowled': 729, \"y'know\": 6710, 'typing': 6242, 'sick': 5278, 'peach': 4317, 'her': 2763, 'author': 402, 'glum': 2491, 'pause': 4306, 'placing': 4417, 'held': 2744, 'safe': 5004, \"today's\": 6081, 'led': 3370, 'offshoot': 4133, 'calling': 909, 'vengeful': 6350, '14': 31, 'bit': 630, 'modestly': 3823, 'queen': 4677, 'sets': 5175, \"c'mere\": 890, 'appeals': 312, 'overturned': 4219, 'hexa-': 2772, 'buzziness': 885, \"mtv's\": 3897, \"'im\": 12, 'installed': 3035, 'attractive': 393, 'damn': 1469, 'disapproving': 1648, \"listenin'\": 3463, 'feisty': 2123, 'exception:': 2000, \"linin'\": 3449, 'eddie': 1852, 'neon': 4000, 'thru': 6047, 'jobless': 3156, 'ancestors': 262, 'completing': 1253, 'sap': 5037, 'toy': 6136, 'remain': 4824, 'bully': 835, 'match': 3668, 'dressed': 1755, 'bottoms': 721, 'la': 3305, \"aristotle's\": 340, 'cleaned': 1147, 'busy': 870, 'cannoli': 926, 'guy': 2615, 'lump': 3564, 'shaking': 5195, 'cauliflower': 986, 'murmurs': 3918, 'eh': 1872, 'form': 2285, 'cuff': 1431, 'dreamed': 1747, 'businessman_#2:': 867, \"man's\": 3623, 'syrup': 5846, 'road': 4917, 'word': 6658, 'honored': 2848, 'champion': 1020, 'into': 3055, 'pretzel': 4565, 'octa-': 4118, \"'roids\": 18, \"cont'd:\": 1294, 'tony': 6108, 'r': 4694, 'choked': 1101, 'bumpy-like': 841, 'sooner': 5497, \"pullin'\": 4643, 'tom': 6093, 'sing': 5309, 'radiation': 4699, 'musses': 3928, 'steaming': 5653, 'partly': 4278, 'leg': 3375, 'allegiance': 221, 'year': 6725, 'insults': 3041, 'al': 199, 'uncomfortable': 6267, 'disposal': 1669, 'befouled': 564, 'nature': 3966, 'snake': 5422, 'product': 4595, 'squirrels': 5591, '530': 45, 'reluctantly': 4822, 'presently': 4545, 'strolled': 5726, 'head': 2713, 'academy': 95, 'hell': 2748, 'regulars': 4806, 'vodka': 6381, 'choice': 1096, 'steely-eyed': 5656, 'customer': 1445, 'still': 5672, 'beer-jerks': 559, 'wowww': 6686, \"it'd\": 3090, 'fund': 2367, 'fraud': 2314, 'well-wisher': 6500, 'hangs': 2663, 'sticker': 5667, \"car's\": 941, 'random': 4732, 'playful': 4438, \"kiddin'\": 3237, 'puff': 4634, 'boxers': 736, \"this'll\": 6016, 'links': 3450, 'actors': 119, 'image': 2961, 'compare': 1243, 'impending': 2968, 'fletcherism': 2222, 'fury': 2377, 'witty': 6628, 'slogan': 5383, 'victorious': 6364, 'outlive': 4207, 'pitcher': 4411, 'raise': 4722, 'frog': 2345, 'cover': 1360, 'grim': 2565, 'stocking': 5684, 'mccall': 3686, 'pointless': 4470, 'ointment': 4143, \"bladder's\": 638, 'pack': 4230, 'utensils': 6332, 'regretted': 4805, \"town's\": 6134, 'j': 3104, 'transfer': 6151, \"grandmother's\": 2544, 'halvsies': 2641, 'drinking': 1762, 'taking': 5865, 'resolution': 4865, 'reaches': 4750, 'eat': 1842, 'paints': 4247, 'sheriff': 5221, 'harv:': 2687, 'procedure': 4591, 'boneheaded': 691, 'hub': 2896, 'mouths': 3885, \"let's\": 3400, 'befriend': 565, 'stars': 5621, 'mural': 3913, 'spied': 5545, 'indicates': 2994, 'sober': 5456, 'haws': 2708, 'breakdown': 764, 'strap': 5711, 'stupid': 5738, 'convenient': 1308, 'spooky': 5565, 'baloney': 464, 'koi': 3293, 'fl': 2202, 'nachos': 3939, 'jerk': 3139, 'bursts': 857, 'candidate': 923, 'multi-purpose': 3908, 'mess': 3730, 'racially-diverse': 4698, 'dollar': 1699, 'freaking': 2317, 'bull': 831, 'wantcha': 6427, 'grubby': 2582, 'exhibit': 2012, 'group': 2576, 'six-barrel': 5339, 'powers': 4522, 'simpson': 5303, 'located': 3491, 'horns': 2863, 'watered': 6457, 'complicated': 1254, 'both': 715, 'annual': 283, 'jewish': 3150, 'stupidly': 5740, \"you'll\": 6750, 'holy': 2829, 'bald': 456, 'hmmmm': 2810, 'wears': 6483, 'agh': 176, 'occurred': 4114, 'k': 3201, 'flanders': 2210, 'heavens': 2737, 'murmur': 3917, 'chateau': 1047, 'average': 409, 'housing': 2889, 'park': 4271, 'miss_lois_pennycandy:': 3794, 'tomato': 6095, 'cock': 1190, 'steampunk': 5654, 'involved': 3069, 'tabooger': 5855, 'treats': 6162, 'without:': 6626, 'squeals': 5586, 'moe_szyslak:': 3834, 'way:': 6464, 'reconsidering': 4781, 'cowardly': 1365, 'hateful': 2697, 'bleacher': 644, 'snorts': 5441, 'texas': 5957, 'apart': 305, 'dislike': 1665, 'wishing': 6621, 'hawaii': 2705, 'fantastic': 2085, 'acronyms': 112, 'astronauts': 379, 'sharing': 5205, 'badmouths': 450, 'original': 4192, 'initially': 3016, 'spits': 5555, 'swimming': 5832, 'gargoyles': 2406, 'butt': 872, 'frontrunner': 2349, 'suddenly': 5755, 'sideshow_mel:': 5288, 'nonchalant': 4053, 'overflowing': 4216, 'railroads': 4715, 'non-losers': 4052, 'eats': 1847, 'due': 1791, 'walks': 6414, 'robin': 4921, 'purveyor': 4656, \"wife's\": 6576, 'answered': 288, \"tootin'\": 6114, 'finished': 2178, \"we'll\": 6473, 'are': 333, 'geez': 2421, 'worldly': 6671, 'senators': 5155, 'amanda': 243, 'agency': 168, 'streetlights': 5717, 'piling': 4393, 'fights': 2154, 'tang': 5875, 'teacup': 5902, 'afterglow': 161, 'each': 1825, 'based': 508, 'youngsters': 6759, 'jogging': 3162, 'coward': 1364, 'fastest': 2093, 'position': 4506, 'barney_gumble:': 494, 'methinks': 3736, 'fireworks': 2186, 'shells': 5220, 'latin': 3343, \"men's\": 3723, 'died': 1613, 'pipe': 4405, 'successful': 5747, 'harder': 2678, 'drug': 1780, 'awe': 415, 'geyser': 2451, 'code': 1197, 'pumping': 4646, 'un-sults': 6259, 'interesting': 3049, 'speed': 5536, 'changing': 1028, 'accelerating': 96, 'weather': 6485, 'ling': 3447, 'sail': 5015, 'dee-fense': 1530, 'reactions': 4753, 'shape': 5200, 'democracy': 1559, 'venom': 6351, 'local': 3490, 'trapping': 6155, 'legally': 3377, 'doing': 1696, 'sweetheart': 5823, 'tight': 6060, 'slays': 5365, 'pop': 4494, 'between': 605, 'grand': 2540, 'dã¼ff': 1821, '50-60': 44, 'named': 3950, 'wood': 6652, 'pasta': 4290, 'terrified': 5945, 'shrugging': 5268, 'pews': 4359, 'undated': 6269, 'ron': 4936, 'easily': 1836, 'holds': 2821, 'anyhoo': 298, 'army': 345, \"high-falutin'\": 2783, 'private': 4583, 'kirk_voice_milhouse:': 3261, 'rice': 4887, 'poke': 4476, 'flush-town': 2237, 'present': 4543, 'barney-guarding': 491, 'vermont': 6355, \"she's\": 5213, 'moan': 3813, 'continuing': 1303, 'cyrano': 1454, 'disguise': 1659, 'hunky': 2914, \"won't\": 6644, 'anti-crime': 292, 'jams': 3121, 'milk': 3767, 'limited': 3439, 'lighting': 3431, 'think': 6003, 'dealt': 1513, \"patrick's\": 4295, 'worse': 6675, 'sangre': 5031, \"buffalo's\": 824, 'shaved': 5209, 'expect': 2016, 'theatrical': 5978, 'compadre': 1241, 'yells': 6735, 'ducked': 1789, 'desperately': 1586, 'chained': 1013, 'spilled': 5547, 'buzz': 884, 'whining': 6543, 'tastes': 5889, 'repairman': 4847, 'flashing': 2215, 'shelf': 5219, 'compromise:': 1260, 'nation': 3963, 'worry': 6674, 'thumb': 6049, 'contractors': 1306, 'woozy': 6657, 'shove': 5254, 'botanical': 714, \"drinkin'\": 1761, 'porn': 4502, 'help': 2753, 'eaters': 1844, 'proposition': 4617, 'sagely': 5011, 'indifferent': 2996, 'bed': 545, 'helicopter': 2746, 'cracked': 1374, 'ohh': 4138, 'package': 4231, 'kemi:': 3219, 'test-': 5951, 'shoo': 5233, 'hampstead-on-cecil-cecil': 2645, 'noble': 4044, 'immiggants': 2965, 'yep': 6737, 'fica': 2142, 'being': 575, 'territorial': 5947, 'alarm': 201, 'stands': 5614, 'nervous': 4003, 'duel': 1792, 'squishee': 5592, 'urban': 6320, 'crippling': 1403, 'bets': 600, 'sadder': 5001, 'recap:': 4774, 'disco_stu:': 1651, 'lying': 3574, 'freshened': 2329, \"valentine's\": 6337, 'bunch': 843, 'recent': 4775, 'barbara': 478, 'solo': 5472, \"stayin'\": 5644, 'brockelstein': 793, \"children's\": 1083, 'director': 1638, 'undies': 6279, 'conditioner': 1269, 'kool': 3295, 'baritone': 485, \"wonderin'\": 6648, 'beards': 531, '/': 26, 'wolfe': 6635, 'imitating': 2964, 'raining': 4721, 'fall': 2071, 'traditions': 6141, 'puke': 4637, 'dignity': 1623, 'crappy': 1381, 'society': 5462, 'presents': 4546, 'pad': 4233, 'garbage': 2403, 'outstanding': 4212, 'chief_wiggum:': 1079, 'rancid': 4731, 'dump': 1809, 'anywhere': 304, 'increased': 2985, 'owner': 4225, 'bought': 722, 'punishment': 4650, 'krusty_the_clown:': 3300, 'trainers': 6146, 'seriously': 5168, \"secret's\": 5121, 'looked': 3509, 'roses': 4945, 'homer_simpson:': 2839, 'fausto': 2104, 'fluoroscope': 2235, 'teenage_bart:': 5916, 'exactly': 1992, 'days': 1501, \"fans'll\": 2084, 'samples': 5027, 'happily': 2672, 'steamed': 5652, 'town': 6133, 'clandestine': 1141, 'sector': 5123, 'friend:': 2335, 'comic': 1229, 'forgive': 2280, 'eightball': 1879, 'apply': 319, 'norway': 4067, 'odd': 4119, 'accurate': 106, 'kidding': 3238, 'characteristic': 1035, 'vacuum': 6336, 'sanctuary': 5028, 'deeply': 1533, 'theme': 5981, 'release': 4814, 'wholeheartedly': 6563, 'tied': 6057, 'fat_tony:': 2097, 'point': 4466, 'chug-a-lug': 1119, 'frogs': 2346, 'starve': 5630, 'front': 2348, 'sport': 5567, 'having': 2703, 'icelandic': 2942, 'unfair': 6283, 'quietly': 4686, 'pantsless': 4260, 'spinning': 5549, 'sweater': 5817, 'tongue': 6103, \"that'd\": 5969, 'naturally': 3965, 'seeing': 5129, 'relaxing': 4813, 'employment': 1913, 'carl:': 955, 'two-thirds-empty': 6238, 'billboard': 618, 'caveman': 990, 'taken': 5862, 'pope': 4495, 'wells': 6501, 'paramedic:': 4265, 'lachrymose': 3309, 'meteor': 3735, 'strokkur': 5725, 'depression': 1576, 'sobs': 5459, 'dessert': 1588, 'squad': 5581, 'carefully': 949, 'see': 5127, 'six': 5338, \"here's\": 2765, 'man_with_crazy_beard:': 3627, 'aggravazes': 175, 'drunkenly': 1784, 'england': 1931, 'hers': 2770, 'bashir': 511, 'ditched': 1679, 'grampa': 2538, 'itchy': 3095, 'life:': 3421, 'gargoyle': 2405, 'yourself': 6763, 'school': 5077, 'till': 6061, 'intention': 3047, 'eventually': 1977, 'agent_miller:': 171, 'fuss': 2378, 'table': 5852, 'seminar': 5152, 'turning': 6211, 'son': 5492, 'vigilante': 6369, 'and:': 267, 'attempting': 387, 'pussycat': 4662, 'gets': 2446, 'sounded': 5507, 'ignoring': 2956, 'written': 6699, 'size': 5344, 'curse': 1441, 'tip': 6070, 'swig': 5828, 'amused': 259, 'hosting': 2875, 'winks': 6604, 'haplessly': 2667, 'latour': 3344, 'unjustly': 6297, 'sedaris': 5125, 'enterprising': 1944, 'sorry': 5501, 'changed': 1025, '91': 51, 'lay': 3354, 'patty': 4304, 'vacation': 6334, 'tax': 5896, 'oof': 4168, 'woe:': 6632, 'yourselves': 6764, 'marge': 3646, 'talk': 5867, \"year's\": 6726, 'emotion': 1909, 'laugh': 3345, 'cozy': 1371, 'conversation': 1309, 'wallet': 6416, 'rent': 4843, \"callin'\": 908, 'highball': 2784, 'angel': 272, 'jukebox_record:': 3187, 'portuguese': 4505, 'sickly': 5281, 'wooooo': 6655, \"nothin'\": 4073, 'lone': 3499, 'hose': 2870, \"somethin's\": 5485, 'sadly': 5003, 'schabadoo': 5071, \"writin'\": 6697, 'superhero': 5781, 'sack': 4997, 'ale': 207, 'gamble': 2395, 'getcha': 2445, 'wordloaf': 6659, 'oopsie': 4173, 'si-lent': 5277, \"leavin'\": 3367, 'take-back': 5860, 'susie-q': 5803, 'order': 4185, 'plans': 4426, 'had': 2624, 'possibly': 4509, 'frankie': 2311, 'vincent': 6373, 'declan': 1526, 'dunno': 1813, 'sistine': 5329, 'gary_chalmers:': 2408, 'mistake': 3798, 'nasty': 3962, 'pint': 4403, 'rapidly': 4734, 'muertos': 3900, 'vin': 6372, 'beneath': 591, 'one': 4158, 'before': 563, 'rainforest': 4718, 'represents': 4856, 'shorter': 5244, 'muscle': 3920, 'meaning': 3697, 'buried': 849, 'lady_duff:': 3316, 'radiator': 4700, 'debonair': 1518, \"'cept\": 6, 'distance': 1671, 'trashed': 6157, '_eugene_blatz:': 65, 'washouts': 6446, 'e': 1823, 'mindless': 3774, 'lurleen': 3568, \"idea's\": 2946, 'contemptuous': 1299, 'au': 396, 'some': 5475, 'legs:': 3381, 'conclusions': 1268, \"g'ahead\": 2384, '_marvin_monroe:': 69, 'trusted': 6194, 'rumaki': 4974, 'emporium': 1914, 'knuckle-dragging': 3289, 'compels': 1245, 'falcons': 2070, 'inspire': 3032, 'small': 5394, 'gregor': 2558, 'perã³n': 4355, 'yogurt': 6745, \"showin'\": 5261, 'elizabeth': 1898, 'appearance-altering': 314, 'old_jewish_man:': 4148, 'massage': 3666, 'pigtown': 4391, 'coach:': 1182, 'creature': 1390, 'jacks': 3110, 'hang': 2658, 'co-sign': 1181, 'beard': 530, 'coal': 1183, 'rubs': 4962, 'combine': 1220, 'f-l-a-n-r-d-s': 2049, 'slap': 5361, 'seamstress': 5109, 'endorse': 1922, 'a-lug': 77, 'glorious': 2488, 'advice': 147, 'backwards': 443, 'always': 241, 'comforting': 1228, 'boned': 690, 'mmmmm': 3811, 'intelligent': 3045, 'remember': 4827, 'forty': 2291, 'needy': 3987, 'whee': 6528, 'faced': 2054, 'resigned': 4863, 'assumed': 375, 'natural': 3964, 'stole': 5685, 'furry': 2375, 'environment': 1953, 'kidnaps': 3239, 'rig': 4899, 'muhammad': 3904, 'irs': 3080, \"lookin'\": 3510, 'prayer': 4527, 'blood': 661, 'forty-five': 2292, 'henry': 2762, 'curiosity': 1439, 'sniffing': 5435, 'wangs': 6424, 'finish': 2177, 'avenue': 408, 'consciousness': 1285, 'glasses': 2481, 'must': 3929, \"where's\": 6538, 'yelp': 6736, 'liability': 3405, 'fayed': 2107, 'pleading': 4443, 'card': 944, 'applicant': 317, 'maude': 3675, 'incredulous': 2988, 'cola': 1205, 'quebec': 4676, 'wise': 6616, 'booze': 704, 'alls': 226, 'troubles': 6184, 'firmly': 2189, 'lifetime': 3423, 'eternity': 1967, 'very': 6358, \"father's\": 2099, 'may': 3678, 'race': 4697, 'maggie': 3593, 'run': 4978, \"getting'\": 2449, '_kissingher:': 68, 'doors': 1722, 'donor': 1714, 'shred': 5264, 'bachelorhood': 436, \"'em\": 8, 'tick': 6051, 'seats': 5114, 'drive': 1765, 'in-ground': 2976, 'calculate': 902, 'nooo': 4057, 'young_marge:': 6757, 'though': 6023, 'shaggy': 5190, 'continuum': 1304, 'artie': 353, 'trip': 6176, \"buyin'\": 882, 'shut': 5272, 'ironic': 3078, 'injury': 3017, 'brief': 780, 'poison': 4473, 'joking': 3172, 'cuckoo': 1428, 'reckless': 4779, 'payback': 4309, 'ivanna': 3101, 'remembers': 4830, 'noises': 4049, 'chips': 1094, 'nemo': 3999, 'dumb': 1804, 'appendectomy': 315, 'wings': 6603, \"how'd\": 2891, 'sir': 5324, 'femininity': 2133, 'gumbo': 2603, 'anyway': 303, 'suicide': 5764, 'proves': 4625, 'spread': 5574, 'dennis': 1561, 'distinct': 1673, 'button': 876, 'difference': 1617, 'ooh': 4169, 'unhook': 6290, 'published': 4631, 'winning': 6606, 'scoffs': 5083, 'things': 6002, 'unusually': 6309, 'referee': 4792, 'unfresh': 6287, 'talkative': 5869, 'twenty-nine': 6229, \"someone's\": 5481, 'wally:': 6419, 'hot-rod': 2877, 'christopher': 1111, 'donuts': 1717, 'miracle': 3786, 'wh': 6508, 'fountain': 2300, 'ore': 4188, 'sports_announcer:': 5569, 'tokens': 6088, 'menlo': 3727, 'worst': 6676, 'slugger': 5388, 'long': 3502, 'dumbass': 1806, 'distaste': 1672, \"weren't\": 6505, 'montrer': 3853, \"yesterday's\": 6740, 'sea': 5107, 'catch': 978, 'morose': 3867, 'hurting': 2919, 'license': 3412, \"world's\": 6669, 'boxing_announcer:': 738, 'midge:': 3755, 'darn': 1486, 'banks': 468, 'passed': 4284, 'tin': 6066, 'buy': 880, 'super': 5776, 'mason': 3664, 'insulted': 3040, 'unsanitary': 6305, 'upsetting': 6318, 'snide': 5434, 'fire': 2181, \"bringin'\": 787, 'bill': 616, 'depository': 1571, 'sanitary': 5032, 'duh': 1800, 'freeze': 2323, 'brains': 752, 'correction': 1330, 'lumpa': 3565, 'career': 947, 'big': 612, 'cocktail': 1195, 'toasting': 6078, 'vanities': 6345, 'ze-ro': 6771, 'jets': 3148, 'coy': 1368, 'sponsor': 5563, 'lap': 3330, 'cheering': 1063, 'error': 1959, 'beast': 533, 'staying': 5645, 'intimacy': 3054, 'homeless': 2832, 'treat': 6160, 'sue': 5758, 'bluff': 675, 'accident': 102, 're-al': 4746, 'prayers': 4528, 'needed': 3985, 'blaze': 643, 'pick': 4378, 'snaps': 5428, 'ninety-six': 4038, 'sauce': 5047, 'flexible': 2224, 'coin': 1201, 'mine': 3775, 'x-men': 6706, 'fonzie': 2257, 'moe-ron': 3832, 'rem': 4823, 'rope': 4944, 'reliable': 4817, 'correct': 1328, 'bigger': 613, 'sad': 5000, 'fatty': 2101, 'age': 165, 'deacon': 1506, 'quick-like': 4683, 'ringing': 4905, 'bourbon': 725, 'devils:': 1598, \"c'mon\": 892, 'thunder': 6050, 'promotion': 4609, 'pockets': 4460, 'careful': 948, 'divine': 1681, 'gee': 2419, 'slop': 5384, 'state': 5632, 'mechanical': 3708, 'certainly': 1008, 'looooooooooooooooooong': 3513, 'nos': 4068, 'kickoff': 3233, 'raises': 4723, 'bouquet': 724, 'plan': 4420, 'jury': 3196, 'um': 6256, 'exact': 1991, 'patty_bouvier:': 4305, \"stabbin'\": 5595, 'cents': 1003, \"number's\": 4090, 'unfamiliar': 6284, 'vance': 6344, 'impeach': 2967, 'forgets': 2279, 'specializes': 5529, 'aboard': 85, 'regretful': 4804, \"pope's\": 4496, 'men:': 3724, 'jay_leno:': 3129, 'terrific': 5944, 'tab': 5850, 'remembering': 4829, 'hmm': 2808, 'counting': 1346, 'crayola': 1384, 'longest': 3504, 'contemplated': 1296, 'maman': 3619, 'trust': 6193, 'community': 1240, 'covers': 1362, 'cheery': 1066, 'given': 2475, 'hidden': 2777, 'knock-up': 3279, 'hands': 2653, 'foibles': 2245, 'himself': 2794, 'chinese_restaurateur:': 1089, 'giggles': 2462, 'delivery': 1553, 'tank': 5876, 'je': 3131, 'star': 5615, 'spit-backs': 5553, 'sweet': 5820, 'everybody': 1981, 'mozzarella': 3893, 'exhaust': 2011, 'mm': 3806, 'showing': 5262, 'stumble': 5736, 'corkscrews': 1322, 'benjamin:': 594, 'ziffcorp': 6775, 'intervention': 3053, 'acting': 115, 'adult_bart:': 141, 'mole': 3836, 'lovejoy': 3542, 'boggs': 683, 'realizing': 4766, 'fill': 2161, 'protecting': 4618, 'rat': 4739, 'grocery': 2572, 'design': 1581, 'settlement': 5177, 'kennedy': 3221, 'shame': 5198, 'finishing': 2179, 'sandwich': 5029, 'jigger': 3152, 'field': 2145, 'planning': 4425, 'speak': 5524, 'frescas': 2326, 'gutenberg': 2612, 'cheaped': 1051, 'moxie': 3892, 'program': 4602, 'simplest': 5302, 'punk': 4651, 'give': 2474, 'enabling': 1916, 'puzzled': 4669, 'ripper': 4911, 'superdad': 5780, 'two': 6236, 'hair': 2630, 'ivory': 3102, 'heck': 2741, 'app': 309, 'oh-ho': 4136, 'orgasmville': 4190, 'crummy': 1422, 'doug:': 1729, \"coffee'll\": 1199, 'put': 4663, 'workers': 6664, 'ohhhh': 4139, 'woooooo': 6656, 'craft': 1375, 'dumpster': 1810, 'browns': 810, 'stern': 5662, 'wanted': 6428, 'badmouth': 449, 'spent': 5542, 'dealer': 1510, 'lance': 3321, 'four-star': 2303, 'greedy': 2556, \"renovatin'\": 4841, 'glen:': 2484, 'germs': 2440, 'charity': 1039, 'ignorant': 2955, 'harvard': 2688, 'unusual': 6308, 'dã¼ffenbraus': 1822, 'paintings': 4246, 'worth': 6677, 'snotball': 5442, 'oughta': 4202, 'on': 4155, 'stagehand:': 5599, 'cranberry': 1376, 'tinkle': 6067, 'stink': 5676, 'underwear': 6278, 'ball-sized': 459, 'said': 5013, 'polls': 4487, 'same': 5025, 'highest': 2786, 'doll': 1697, 'payday': 4310, 'spend': 5539, 'company': 1242, 'stinks': 5678, 'attraction': 392, 'beeps': 555, 'len-ny': 3384, 'mona_simpson:': 3841, 'anybody': 297, 'file': 2159, 'valuable': 6339, 'dressing': 1756, 'busted': 869, 'pretend': 4558, 'hilarious': 2789, 'fresco': 2327, 'splattered': 5558, 'fontaine': 2256, 'names': 3952, 'ashamed': 358, 'cakes': 901, 'swallowed': 5810, \"ya'\": 6715, 'conspiracy': 1291, 'connection': 1282, 'sperm': 5543, 'hourly': 2884, 'captain': 937, 'confidential': 1277, \"'topes\": 23, 'cleaning': 1150, 'marshmallow': 3658, 'family-owned': 2078, 'lie': 3413, 'slip': 5377, 'post-suicide': 4510, 'sacajawea': 4996, 'yes': 6738, 'done': 1712, 'ziff': 6774, 'sleep': 5367, 'lend': 3385, 'sunglasses': 5773, 'day': 1500, 'arab_man:': 330, 'appreciated': 322, 'answering': 289, \"phone's\": 4369, 'lemme': 3382, 'reading': 4758, 'ahem': 186, 'releasing': 4816, 'milhouses': 3764, 'tubman': 6202, 'prime': 4573, 'sees/': 5136, \"depressin'\": 1574, 'hotline': 2880, 'meyerhof': 3740, 'mortgage': 3869, 'were': 6504, \"aren'tcha\": 335, 'tickets': 6053, 'rap': 4733, 'krusty': 3299, 'jack': 3105, 'mayor': 3683, 'arts': 356, 'poster': 4511, 'reunion': 4877, 'putting': 4666, 'duty': 1816, 'fantasy': 2086, \"games'd\": 2400, 'exciting': 2005, 'texan': 5956, 'sudoku': 5756, 'sizes': 5345, 'everything': 1985, 'pointing': 4469, 'pulling': 4644, 'weak': 6477, 'alone': 230, 'poulet': 4514, 'allowed': 225, 'wolveriskey': 6637, 'infatuation': 3003, 'profiling': 4601, 'remembered': 4828, 'owned': 4224, 'arise': 339, 'congratulations': 1281, 'lovely': 3544, 'water': 6456, 'circus': 1131, 'alright': 235, 'car:': 942, 'mild': 3760, 'beautiful': 540, 'meanwhile': 3703, \"bar's\": 474, 'recently': 4776, 'rasputin': 4737, 'cueball': 1430, 'jeff': 3135, 'ebullient': 1848, 'dae': 1463, 'more': 3862, 'greatly': 2555, 'disaster': 1649, 'lot': 3525, 'set': 5174, \"treatin'\": 6161, 'womb': 6641, 'sexual': 5183, \"meanin'\": 3696, 'mansions': 3640, 'bliss': 655, 'dumbest': 1808, 'be': 521, 'apulina': 328, 'arimasen': 338, 'sam:': 5024, 'tv-station_announcer:': 6216, 'all-american': 218, 'hops': 2862, 'jesus': 3146, 'designer': 1583, 'disappointing': 1646, 'cecil': 992, 'killarney': 3245, 'score': 5085, \"wino's\": 6608, 'ads': 139, 'figure': 2155, 'onion': 4162, 'helllp': 2751, 'cheryl': 1070, 'painless': 4242, 'pit': 4409, 'carny:': 963, 'hearing': 2724, 'sales': 5020, 'hushed': 2922, 'slice': 5372, \"spyin'\": 5579, 'gimmicks': 2466, 'patrons': 4299, 'therefore': 5990, 'we-we-we': 6476, 'whale': 6514, 'cans': 929, 'soup': 5510, 'spit': 5552, 'pinball': 4398, 'military': 3765, 'de': 1503, 'enjoyed': 1937, 'non-american': 4051, 'ripped': 4910, 'wants': 6429, 'elves:': 1903, 'die': 1611, 'shotgun': 5246, 'starting': 5626, 'african': 158, 'plant': 4427, 'suits': 5767, 'ragtime': 4713, 'kermit': 3227, 'prep': 4540, 'disgraceful': 1657, 'scam': 5061, 'astonishment': 376, 'decide': 1522, 'then': 5983, 'railroad': 4714, 'aiden': 191, 'nfl_narrator:': 4018, 'idea': 2945, 'jacques:': 3114, 'ehhhhhh': 1874, 'grease': 2552, 'brace': 744, 'giggle': 2461, 'kissingher': 3267, 'north': 4066, 'tree': 6163, 'fixed': 2200, 'morning': 3864, 'eva': 1971, 'flying': 2240, 'stage': 5598, 'someday': 5478, 'dracula': 1735, 'hurts': 2920, 'infor': 3008, 'hispanic_crowd:': 2799, 'thoughtfully': 6029, 'refreshment': 4800, 'yak': 6716, 'fridge': 2332, 'face': 2051, 'breaks': 768, 'george': 2436, 'explain': 2025, 'crowbar': 1412, 'ungrateful': 6288, \"what'll\": 6518, 'glamour': 2479, 'girl': 2470, \"there's\": 5989, 'office': 4129, 'thankful': 5964, 'holding': 2820, 'coherent': 1200, 'lifters': 3425, 'kadlubowski': 3203, \"life's\": 3416, 'poker': 4477, 'string': 5721, 'test': 5950, 'chanting': 1030, 'turns': 6212, 'them': 5980, 'goal': 2497, 'depending': 1570, 'slit': 5379, 'beer-dorf': 558, 'boozebag': 706, 'exchange': 2001, 'victim': 6363, 'noooooooooo': 4058, 'where': 6536, 'routine': 4953, 'greetings': 2557, 'mop': 3860, 'neither': 3996, 'pickles': 4383, 'endorsed': 1923, 'cousin': 1359, 'palm': 4252, 'thawing': 5972, 'expecting': 2017, 'ron_howard:': 4937, \"ol'\": 4145, 'inspiring': 3034, 'fix': 2199, 'tabs': 5856, 'tsk': 6200, \"son's\": 5493, 'spellbinding': 5537, 'ballclub': 460, 'that': 5968, 'seven': 5179, 'send': 5157, 'complaining': 1249, 'nerd': 4001, \"they've\": 5997, 'death': 1517, 'protesters': 4620, 'grunts': 2589, 'all': 216, 'computer_voice_2:': 1262, 'hockey-fight': 2818, 'gunter:': 2609, 'reason': 4768, 'satisfied': 5045, \"o'clock\": 4099, \"mecca's\": 3707, 'so-called': 5447, 'princesses': 4576, 'nickel': 4024, 'wham': 6515, 'shush': 5271, 'cajun': 899, 'newsweek': 4016, 'silent': 5298, 'feeling': 2119, 'rubbed': 4961, 'seas': 5111, 'did': 1608, 'eight-year-old': 1878, 'criminal': 1401, 'causes': 989, 'man:': 3625, 'thorough': 6021, 'gimme': 2464, 'hotenhoffer': 2879, 'colossal': 1216, 'camp': 917, 'waking-up': 6410, 'wobbly': 6631, 'and': 264, 'snatch': 5429, \"'n'\": 15, 'alcoholism': 206, 'shreda': 5265, \"heat's\": 2732, 'forgot': 2282, '3': 39, 'sissy': 5325, 'recruiter': 4786, \"robbin'\": 4920, 'key': 3228, 'stayed': 5643, 'beefs': 552, 'voters': 6391, 'agent_johnson:': 170, 'dungeon': 1812, 'labor': 3308, 'supposed': 5792, 'reward': 4881, 'forgotten': 2283, 'winces': 6592, 'breakfast': 765, \"y'money's\": 6711, 'poorer': 4493, 'when-i-get-a-hold-of-you': 6534, 'hits': 2804, 'language': 3328, \"what're\": 6519, 'amid': 256, 'starters': 5624, 'crab': 1372, 'sunny': 5775, 'focused': 2244, 'kidneys': 3241, \"plaster's\": 4430, \"couldn't\": 1341, \"that'll\": 5970, 'blow': 667, 'stranger:': 5709, 'away': 414, 'the': 5973, 'playing': 4441, 'young_barfly:': 6755, 'scientists': 5082, 'rush': 4985, 'agreement': 182, 'billingsley': 620, 'moustache': 3883, 'need': 3984, 'whirlybird': 6546, 'ha': 2620, 'drank': 1740, 'morning-after': 3865, 'sympathetic': 5840, 'seek': 5130, 'natured': 3967, 'vestigial': 6359, 'jukebox': 3186, 'half': 2634, 'fighter': 2151, 'name:': 3949, 'juan': 3177, 'wok': 6633, 'madonna': 3590, 'bubbles-in-my-nose-y': 816, 'hunka': 2913, 'helped': 2754, \"tomorrow's\": 6099, 'sips': 5323, 'sight': 5292, 'tapestry': 5883, 'carlson': 959, \"wouldn't\": 6681, 'snort': 5440, 'whip': 6545, 'monorails': 3847, 'lookalike': 3506, ':': 52, 'wienerschnitzel': 6574, 'was': 6441, 'a-a-b-b-a': 75, 'scornfully': 5088, 'ing': 3011, 'macgregor': 3583, 'raccoons': 4696, 'hare-brained': 2682, 'fainted': 2065, 'explaining': 2026, 'jailbird': 3117, 'easygoing': 1841, 'teeth': 5918, 'ref': 4791, 'faint': 2064, 'talkers': 5871, 'hug': 2899, 'bastard': 513, 'cheated': 1055, 'ralph_wiggum:': 4727, 'coined': 1203, 'er': 1957, 'faiths': 2068, 'access': 101, 'idiots': 2952, 'who': 6554, 'chick': 1075, 'retain': 4874, 'god': 2499, 'crowd:': 1414, 'perverse': 4353, 'afraid': 156, 'innocent': 3020, 'quiet': 4685, 'remote': 4835, 'boxing': 737, 'leonard': 3394, 'luckily': 3561, 'dramatically': 1739, \"messin'\": 3732, 'poet': 4462, 'aims': 194, 'magic': 3595, 'friendly': 2336, 'cold': 1206, 'eating': 1846, 'bones': 692, \"time's\": 6064, 'promised': 4608, \"one's\": 4159, \"ball's\": 458, 'percent': 4337, 'vegas': 6347, 'grimly': 2566, 'weary': 6484, 'agnes_skinner:': 179, 'pets': 4358, 'calvin': 913, 'coaster': 1185, 'loaded': 3482, 'soaked': 5449, 'compliments': 1256, 'intoxicants': 3056, \"i'unno\": 2934, 'michelin': 3745, 'life': 3415, 'groveling': 2577, 'boy': 739, 'collapse': 1207, 'expensive': 2019, 'shipment': 5227, 'nursemaid': 4094, 'notch': 4072, 'assert': 370, 'driver': 1767, 'lily-pond': 3435, 'argue': 336, 'leans': 3359, 'church': 1125, 'kemi': 3218, 'rule': 4971, 'most:': 3871, 'spamming': 5521, 'artist': 355, 'born': 711, 'satisfaction': 5044, 'reporter': 4853, 'pub': 4628, 'next': 4017, 'goodnight': 2514, 'bupkus': 845, 'thrown': 6045, 'lotta': 3528, 'quotes': 4693, 'special': 5527, 'punch': 4647, 'affection': 152, 'lazy': 3356, 'lucky': 3562, 'begin': 569, 'perfect': 4339, \"they'd\": 5994, 'barter': 505, 'drivers': 1768, 'professor_jonathan_frink:': 4600, 'guinea': 2598, 'gr-aargh': 2527, 'mrs': 3895, 'clincher': 1161, 'achebe': 108, 'fritz': 2343, 'nineteen': 4034, 'placed': 4416, 'totalitarians': 6120, 'kinds': 3256, 'mock': 3817, 'lawyer': 3353, 'mice': 3742, \"tv'll\": 6214, 'stop': 5694, 'pajamas': 4249, 'smokes': 5411, 'science': 5080, 'yee-haw': 6729, 'ambrose': 248, 'fritz:': 2344, 'probably': 4587, 'thrust': 6048, 'booger': 697, 'wittgenstein': 6627, 'classy': 1145, 'under': 6270, 'theory': 5985, 'coming': 1232, 'handed': 2647, 'junior': 3194, 'evening': 1975, 'technical': 5910, 'crestfallen': 1395, 'betty:': 604, 'religious': 4820, 'presto:': 4556, 'row': 4954, 'hundreds': 2910, 'cesss': 1011, 'jovial': 3175, 'gruff': 2585, 'brawled': 760, 'vampires': 6342, 'confidence': 1275, 'tornado': 6117, \"tree's\": 6164, 'restaurant': 4868, 'democrats': 1560, 'city': 1133, 'outside': 4211, 'flynt': 2241, 'man_with_tree_hat:': 3628, \"beggin'\": 567, 'handing': 2648, 'aside': 360, 'he': 2709, 'channel': 1029, 'been': 553, 'greystash': 2561, 'espn': 1963, 'sickened': 5279, 'businessman_#1:': 866, 'breaking': 767, 'beer': 556, 'maher': 3599, 'discriminate': 1652, \"mother's\": 3876, \"soakin's\": 5450, 'writing': 6698, 'so': 5446, 'any': 296, 'such': 5748, 'shows': 5263, 'billy_the_kid:': 623, 'backing': 441, \"table's\": 5853, 'penmanship': 4325, 'sink': 5320, 'join': 3166, 'bulldozing': 832, 'this': 6015, 'end': 1921, 'truck_driver:': 6189, 'coma': 1218, 'gonna': 2509, 'cappuccino': 936, 'canyonero': 931, 'etc': 1966, 'exultant': 2039, 'delicately': 1548, 'designated': 1582, 'quero': 4680, 'curds': 1437, 'mission': 3797, 'announcer:': 280, 'surprised': 5798, 'inspector': 3031, 'heh': 2742, 'st': 5593, 'frosty': 2350, 'manage': 3629, 'dennis_kucinich:': 1563, 'engine': 1930, 'mabel': 3579, 'suspenders': 5806, 'cut': 1448, 'kicked': 3232, \"hawkin'\": 2706, 'ralph': 4726, 'tape': 5881, 'enemy': 1927, 'fumes': 2363, 'old-time': 4147, '-ry': 25, 'red': 4788, 'birthday': 628, 'night': 4029, 'sanitation': 5033, 'mention': 3728, 'sit': 5330, 'schmoe': 5075, 'laughing': 3346, 'popular': 4500, 'trivia': 6179, 'care': 946, 'tiny': 6069, 'rev': 4878, 'stalin': 5604, 'squeeze': 5587, 'liable': 3406, 'simultaneous': 5305, 'minors': 3781, 'lots': 3526, 'theatah': 5976, 'lard': 3332, 'mckinley': 3689, \"england's\": 1932, 'albert': 203, 'moe': 3824, 'weeks': 6492, 'lady': 3313, 'duke': 1801, 'generally': 2424, 'instantly': 3036, 'managing': 3632, 'yelling': 6731, 'amazed': 244, 'using': 6329, 'stretch': 5718, 'riding': 4897, 'ugliest': 6248, 'olive': 4150, 'loyal': 3555, 'x': 6705, \"what'd\": 6517, 'apartment': 306, 'linda': 3442, 'dingy': 1631, 'italian': 3094, \"didn't\": 1610, 'ollie': 4151, 'snout': 5444, 'sketching': 5348, 'asses': 371, 'video': 6366, 'hears': 2725, 'owns': 4226, 'peppers': 4332, 'in': 2975, 'with': 6624, 'sisters': 5328, 'giant': 2455, 'forced': 2271, 'las': 3338, 'sings': 5318, \"lovers'\": 3547, 'inflated': 3006, 'pretzels': 4566, 'edge': 1855, 'judge': 3180, 'africa': 157, 'butter': 873, 'tired': 6074, 'ago': 180, 'bindle': 624, 'thought_bubble_homer:': 6026, 'degradation': 1539, 'shoulders': 5251, 'selfish': 5145, 'gus': 2610, 'pennies': 4326, 'perfunctory': 4342, 'pus-bucket': 4657, \"how's\": 2893, 'soft': 5466, 'chosen': 1107, 'colorado': 1215, 'win': 6591, 'homunculus': 2843, 'hawking:': 2707, 'nurse': 4093, 'releases': 4815, 'urine': 6323, 'coms': 1263, 'happen': 2668, 'wins': 6609, 'shaker': 5192, 'arrived': 350, 'owe': 4221, 'street': 5715, 'incapable': 2979, 'germany': 2439, 'excuse': 2007, 'gore': 2518, 'priest': 4572, 'soap': 5452, 'absentmindedly': 90, 'hi': 2774, 'feedbag': 2116, 'quimbys:': 4689, 'philosophic': 4365, 'cocoa': 1196, 'dimly': 1627, 'paint': 4243, 'practice': 4524, 'krabappel': 3297, 'winch': 6593, 'puke-pail': 4639, 'luckiest': 3560, 'double': 1727, '250': 37, 'homeland': 2831, 'traffic': 6142, 'partners': 4280, 'until': 6307, 'moment': 3838, 'kneeling': 3272, 'concentrate': 1265, 'catching': 980, 'value': 6340, 'sale': 5019, 'meeting': 3716, \"d'\": 1456, 'gimmick': 2465, 'innocuous': 3021, 'scene': 5069, 'lincoln': 3441, 'witches': 6623, \"talkin'\": 5872, 'annus': 284, 'village': 6370, 'population': 4501, 'awake': 412, 'allowance': 224, 'jerry': 3145, 'nightmare': 4031, 'grabs': 2530, 'court': 1355, 'rip-off': 4908, 'permanent': 4346, 'loser': 3520, 'stunned': 5737, 'seductive': 5126, 'spare': 5523, 'certain': 1007, 'cocking': 1191, 'be-stainã¨d': 522, 'willy': 6590, \"we'd\": 6472, 'strongly': 5728, 'which': 6540, 'costume': 1333, 'strictly': 5720, 'eggs': 1870, 'least': 3364, \"family's\": 2077, 'binoculars': 625, 'service': 5172, 'napkins': 3955, 'measurements': 3705, 'life-threatening': 3420, \"playin'\": 4440, 'prettied': 4562, 'fifth': 2148, 'shooting': 5236, 'elmer': 1899, \"crawlin'\": 1383, 'nine': 4033, 'do': 1687, 'moe_recording:': 3833, 'month': 3851, 'ones': 4161, 'feed': 2115, 'xanders': 6707, 'cat': 976, 'broad': 791, 'philip': 4364, 'button-pusher': 877, 'bobo': 681, 'broadway': 792, 'cuz': 1453, 'smithers': 5407, 'all:': 220, 'stonewall': 5689, 'stealings': 5650, 'versus': 6356, 'cell': 999, 'through': 6042, 'beans': 528, 'open-casket': 4176, 'pepsi': 4334, 'dead': 1507, 'helps': 2758, 'sobbing': 5455, 'bide': 610, 'turlet': 6208, \"gentleman's\": 2430, 'begins': 571, '100': 29, 'braun:': 758, 'blessing': 649, 'totally': 6121, 'bag': 451, 'traitor': 6148, 'pointy': 4472, 'sumatran': 5768, 'tiger': 6058, 'windex': 6597, 'runs': 4982, 'embarrassed': 1905, 'joey': 3160, 'badly': 448, 'glowers': 2490, 'chili': 1084, 'sass': 5039, 'pillows': 4394, 'ahhh': 188, 'sub-monkeys': 5743, 'buds': 822, 'offensive': 4127, 'fatso': 2100, 'slurred': 5390, 'turn': 6209, 'chilly': 1086, 'wipes': 6612, 'minute': 3784, 'diminish': 1626, 'index': 2993, 'lindsay_naegle:': 3445, 'skoal': 5356, 'bidet': 611, 'check': 1056, 'gift': 2457, 'anderson': 269, 'rocks': 4925, 'east': 1837, 'jackpot-thief': 3109, 'jar': 3125, 'dull': 1802, 'fierce': 2146, 'fold': 2247, 'repeating': 4850, 'ahh': 187, 'pleasure': 4448, 'mellow': 3718, 'astronaut': 378, 'sleeps': 5369, \"somethin'\": 5483, 'fudd': 2356, 'ivy-covered': 3103, 'jazz': 3130, 'result': 4872, 'knock': 3278, 'considering': 1287, 'jackass': 3107, 'faded': 2060, 'right-handed': 4902, 'cheapskates': 1053, 'kahlua': 3204, 'maybe': 3682, 'crumble': 1421, 'yoo': 6747, 'joke': 3170, 'twelve-step': 6223, 'balls': 463, 'snail': 5421, 'disturbing': 1678, \"sittin'\": 5335, 'clench': 1155, 'presentable': 4544, 'nonsense': 4056, 'tourist': 6127, 'assistant': 372, 'triangle': 6171, 'teach': 5900, 'whiny': 6544, 'sugar': 5761, 'summer': 5769, 'jockey': 3158, 'quimby': 4687, 'sideshow': 5286, 'sleigh-horses': 5370, 'sideshow_bob:': 5287, 'finance': 2169, 'lucius': 3557, 'sincere': 5307, 'playhouse': 4439, 'fist': 2194, 'saving': 5053, 'interested': 3048, 'unavailable': 6263, 'bullet-proof': 833, 'yoink': 6746, 'favor': 2105, 'pulitzer': 4640, \"it'll\": 3091, 'pronounce': 4611, 'soaking': 5451, 'oww': 4227, \"sippin'\": 5322, 'miss': 3793, 'rings': 4906, 'murdoch': 3916, 'ne': 3972, 'pep': 4330, '_zander:': 73, 'oh-so-sophisticated': 4137, 'kisser': 3264, 'white_rabbit:': 6553, 'ummmmmmmmm': 6258, 'examples': 1995, 'dress': 1754, \"choosin'\": 1105, 'funny': 2371, 'hired': 2796, 'outs': 4210, 'mulder': 3905, 'maxed': 3676, 'soothing': 5500, 'fulla': 2362, 'painted': 4244, 'producers': 4594, 'teacher': 5901, 'letters': 3402, 'startled': 5627, 'larry:': 3336, 'pharmaceutical': 4361, 'kidney': 3240, 'duff_announcer:': 1796, \"yieldin'\": 6743, 'strips': 5724, 'fears': 2111, \"jackpot's\": 3108, 'accusing': 107, 'rewound': 4882, 'encores': 1918, 'jeter': 3147, 'william': 6587, 'mistakes': 3799, 'figures': 2157, 'renders': 4836, 'buddha': 819, 'othello': 4194, 'derisive': 1579, 'cream': 1387, 'sausage': 5049, 'planted': 4428, 'shoes': 5232, 'birth': 627, 'quit': 4690, 'harm': 2683, 'ali': 211, 'little': 3469, 'resenting': 4860, \"america's\": 252, 'bulletin': 834, 'bears': 532, 'widow': 6571, 'nascar': 3960, 'uneasy': 6281, 'hold': 2819, 'wife-swapping': 6577, 'handle': 2649, 'rip': 4907, 'progress': 4603, 'andy': 271, 'appointment': 320, 'flame': 2207, 'try': 6197, 'metal': 3734, 'smallest': 5396, 'sledge-hammer': 5366, 'ashtray': 359, 'dreamily': 1748, 'formico': 2286, 'humiliation': 2908, 'moolah-stealing': 3854, 'against': 164, 'voice': 6382, 'emotional': 1910, 'delivery_boy:': 1554, 'thoughtful': 6028, 'kucinich': 3301, 'lainie:': 3319, 'nightmares': 4032, 'silence': 5297, 'narrator:': 3958, 'unlike': 6300, 'remains': 4826, \"man's_voice:\": 3624, 'forecast': 2273, 'dumptruck': 1811, 'bagged': 452, 'gangrene': 2402, 'escort': 1961, 'paris': 4270, 'cecil_terwilliger:': 993, 'darjeeling': 1482, 'wreck': 6690, 'deli': 1544, 'problem': 4588, 'illegal': 2958, 'skinny': 5353, 'murderously': 3915, 'rods': 4926, 'weirded-out': 6496, 'soaps': 5453, 'housework': 2888, 'tipsy': 6072, 'sixty-five': 5342, 'clown': 1177, 'scully': 5104, 'public': 4629, 'older': 4149, 'eleven': 1895, 'ourselves': 4205, 'catholic': 981, 'hustle': 2923, 'early': 1829, 'meal': 3693, 'teen': 5913, 'pig': 4389, 'hostages': 2873, 'champs': 1022, 'something:': 5488, 'rife': 4898, 'unbelievable': 6264, 'eco-fraud': 1850, \"snappin'\": 5426, 'last': 3339, 'drunk': 1782, 'fifty': 2149, 'plastered': 4431, 'sobriety': 5458, 'hearts': 2731, 'brunswick': 812, 'manjula': 3638, 'beady': 525, 'wish': 6617, 'count': 1342, 'shriners': 5267, 'cutest': 1450, 'religion': 4819, 'barbed': 479, 'complete': 1251, 'jane': 3122, 'steel': 5655, 'good': 2511, 'bread': 761, 'mediterranean': 3714, 'waterfront': 6459, 'drederick': 1752, 'tried': 6174, 'atlanta': 383, \"seein'\": 5128, 'cookies': 1314, 'karaoke': 3208, 'occurs': 4116, 'behind': 573, \"tap-pullin'\": 5880, 'five': 2197, 'cameras': 916, 'quarterback': 4675, 'arms': 344, 'credit': 1391, 'softer': 5467, 'drains': 1737, 'ab': 79, 'ribbon': 4886, \"i'm-so-stupid\": 2933, 'rag': 4707, 'hit': 2801, 'renovations': 4842, 'barney-type': 493, 'f': 2048, 'polygon': 4488, 'rest': 4867, 'monday': 3842, 'reach': 4748, 'lookalikes': 3508, 'verdict': 6354, 'richard': 4889, 'buying': 883, 'outta': 4213, 'cocks': 1194, 'literary': 3467, 'lessee': 3397, 'photos': 4373, 'saga': 5009, 'mock-up': 3818, 'u2:': 6245, 'view': 6368, 'america': 251, 'flowers': 2233, 'funeral': 2369, 'safecracker': 5005, 'restaurants': 4869, 'pigs': 4390, 'vengeance': 6349, 'uhhhh': 6254, 'doctor': 1688, 'prompting': 4610, 'lise:': 3458, 'genius': 2428, 'priority': 4580, 'lessons': 3398, 'cup': 1434, 'electronic': 1893, 'hanging': 2660, 'as': 357, \"you'd\": 6749, 'smiled': 5404, 'waltz': 6422, 'op': 4174, 'coney': 1272, 'artie_ziff:': 354, 'awesome': 417, 'liquor': 3453, 'drawing': 1745, 'rookie': 4940, \"homer's\": 2835, 'thousands': 6034, 'investor': 3065, 'practically': 4523, 'mix': 3804, 'game': 2397, 'harmony': 2684, 'grey': 2560, 'despite': 1587, 'scream': 5095, 'us': 6324, 'nelson_muntz:': 3998, 'france': 2309, 'gals': 2394, 'malfeasance': 3615, 'ordered': 4186, 'reviews': 4880, 'madison': 3588, '3rd_voice:': 41, \"bo's\": 678, '$42': 1, 'motel': 3874, 'sassy': 5040, 'checking': 1057, 'doreen': 1724, 'letter': 3401, 'oblivious': 4105, 'lease': 3363, \"makin'\": 3610, 'loan': 3484, 'plus': 4457, 'neighbor': 3989, 'whoever': 6561, 'sexy': 5184, 'touched': 6124, 'broncos': 800, 'whenever': 6535, 'supreme': 5793, 'realized': 4765, 'event': 1976, 'omigod': 4152, 'encouraging': 1920, 'seymour': 5185, 'labels': 3307, 'scotch': 5089, 'sorts': 5502, 'synthesize': 5845, \"breakin'\": 766, 'third': 6007, \"she'd\": 5211, 'generously': 2427, 'of': 4122, 'jig': 3151, 'fighting': 2153, 'fuzzlepitch': 2382, 'partner': 4279, 'boxer': 734, 'airport': 197, 'lifestyle': 3422, 'gibson': 2456, 'ineffective': 3001, 'toilet': 6087, 'falsetto': 2074, 'nein': 3995, 'occupation': 4112, 'signal': 5295, 'tying': 6239, 'conference': 1273, 'b-day': 429, 'write': 6694, 'ugly': 6250, 'peter': 4356, 'rusty': 4987, '_julius_hibbert:': 67, 'device': 1597, 'manjula_nahasapeemapetilon:': 3639, 'chorus:': 1106, 'guess': 2591, 'watashi': 6451, 'experiments': 2022, \"'cause\": 5, 'cletus_spuckler:': 1157, 'gotcha': 2523, 'charter': 1044, \"man'd\": 3622, 'most': 3870, 'meaningless': 3700, 'pool': 4491, 'burg': 846, 'treasure': 6159, 'know': 3283, 'lis': 3454, 'american': 253, 'notices': 4077, 'espousing': 1964, 'hearse': 2726, 'hellhole': 2750, 'further': 2376, 'habit': 2622, 'helping': 2756, 'grenky': 2559, 'slurps': 5389, 'hans:': 2666, 'should': 5247, 'loved': 3541, 'film': 2164, 'municipal': 3912, \"'round\": 19, 'ruined': 4969, 'killjoy': 3249, 'gol-dangit': 2503, 'delicious': 1549, 'victory': 6365, 'w-a-3-q-i-zed': 6396, 'his': 2798, 'reads': 4760, 'scrutinizes': 5102, 'exploiter': 2028, 'mid-conversation': 3751, 'breathalyzer': 770, 'dating': 1494, 'recommend': 4780, 'trees': 6167, '10:15': 30, 'sticking-place': 5670, 'lock': 3492, 'does': 1690, 'love': 3539, 'savvy': 5055, 'separator': 5164, 'other_player:': 4198, 'presumir': 4557, 'force': 2270, 'fool': 2260, 'detail': 1590, 'solves': 5474, 'almond': 228, 'bum:': 836, 'sister': 5326, 'later': 3342, \"fendin'\": 2136, 'peace': 4316, 'piano': 4377, 'beats': 537, 'bellyaching': 585, 'flush': 2236, 'africanized': 159, 'julep': 3188, '__quotation_mark__': 59, 'use': 6325, 'rounds': 4952, 'life-sized': 3419, 'scrubbing': 5100, 'chunky': 1124, 'chicken': 1076, 'buttons': 878, 'reed': 4789, \"smokin'_joe_frazier:\": 5413, 'carve': 968, '4x4': 42, 'regulations': 4807, 'deserve': 1580, 'real': 4762, 'hanh': 2664, 'wash': 6442, 'kirk': 3259, 'dude': 1790, 'nah': 3942, 'smiling': 5406, 'killing': 3248, 'lisa_simpson:': 3457, 'blossoming': 666, 'assume': 374, 'expense': 2018, 'cruel': 1418, 'delicate': 1547, 'family': 2076, 'talk-sings': 5868, 'calmly': 912, 'caricature': 952, 'nibble': 4019, 'amends': 250, 'sees': 5135, 'toms': 6100, 'doreen:': 1725, 'reynolds': 4883, 'smug': 5416, 'bumbling': 838, 'jacksons': 3112, 'bragging': 747, 'richard:': 4890, 'jump': 3190, 'my-y-y-y-y-y': 3935, 'this:': 6017, 'champ': 1018, 'burnside': 854, 'guessing': 2592, 'bleeding': 646, 'trucks': 6190, \"'kay-zugg'\": 13, 'pizzicato': 4414, 'phone': 4368, 'manchego': 3635, 'throats': 6041, 'goodbye': 2513, 'voicemail': 6385, \"challengin'\": 1017, 'shoulder': 5250, 'enveloped': 1952, 'gumbel': 2602, 'pal': 4250, 'confession': 1274, 'contented': 1300, \"somethin':\": 5484, 'eighty-five': 1881, 'blind': 652, 'punching': 4649, 'goodwill': 2516, 'snap': 5425, 'hiding': 2780, 'gay': 2416, 'she-pu': 5214, 'maya:': 3680, 'lookalike:': 3507, 'cliff': 1160, 'aww': 422, 'dateline': 1492, 'oblongata': 4106, 'desire': 1584, 'caholic': 898, 'signed': 5296, 'darkest': 1484, 'excited': 2003, 'emergency': 1907, 'hated': 2696, 'enforced': 1929, 'donation': 1711, 'dies': 1614, 'owes': 4222, 'teenage_barney:': 5915, 'script': 5099, 'watt': 6461, 'stairs': 5603, 'severe': 5180, 'bee': 550, 'lobster-politans': 3489, 'crystal': 1426, 'attack': 386, 'rascals': 4735, 'voodoo': 6388, 'customers-slash-only': 1447, 'changes': 1026, 'inserted': 3025, 'iranian': 3073, 'sells': 5148, 'damned': 1470, 'honey': 2845, 'sheet': 5216, 'brooklyn': 801, 'linda_ronstadt:': 3443, 'grumpy': 2587, 'fake': 2069, 'rock': 4923, 'warmly': 6433, 'internet': 3051, 'tips': 6071, 'scary': 5067, \"collector's\": 1209, 'kyoto': 3303, 'wakede': 6409, 'dirge-like': 1640, 'whup': 6568, 'milhouse_van_houten:': 3763, 'head-gunk': 2714, 'scooter': 5084, 'proper': 4614, 'bar_rag:': 477, 'attend': 388, 'whisper': 6547, 'barney-shaped_form:': 492, 'encouraged': 1919, 'fellas': 2127, 'ees': 1863, 'intoxicated': 3057, 'zero': 6773, 'cars': 966, 'monkeyshines': 3846, 'chumbawamba': 1122, 'brakes': 753, 'plain': 4418, 'scram': 5091, 'grandã©': 2545, \"s'pose\": 4993, 'abusive': 94, 'monster': 3850, 'maitre': 3604, 'adjust': 130, \"poundin'\": 4515, 'alma': 227, 'blues': 674, 'lied': 3414, 'capitalists': 934, 'right': 4901, 'wonder': 6645, 'item': 3096, 'chairman': 1015, 'neanderthal': 3973, 'have': 2700, 'obvious': 4108, 'please/': 4446, 'michael_stipe:': 3744, 'bugging': 826, 'done:': 1713, 'huddle': 2898, 'dads': 1462, 'proudly': 4623, 'consulting': 1293, 'brandy': 755, 'mcstagger': 3690, 'meant': 3702, 'feels': 2121, 'scum-sucking': 5106, 'alternative': 238, 'julienne': 3189, \"pickin'\": 4380, 'so-ng': 5448, 'fruit': 2352, 'earpiece': 1830, 'whatchacallit': 6524, 'tries': 6175, 'roll': 4927, 'class': 1144, 'reporter:': 4854, 'rims': 4903, 'ã': 6779, 'scent': 5070, 'pained': 4241, 'medicine': 3711, 'comfortable': 1227, 'tow-talitarian': 6130, 'appealing': 311, 'lodge': 3495, 'tenor:': 5935, 'united': 6295, 'chug-monkeys': 1120, 'emphasis': 1911, 'fictional': 2144, 'syndicate': 5844, 'quite': 4692, 'dallas': 1464, 'nerve': 4002, 'edison': 1857, 'negative': 3988, 'less': 3396, \"eatin'\": 1845, 'dynamite': 1819, 'dive': 1680, 'worked': 6663, 'folks': 2249, 'products': 4596, 'english': 1933, 'orders': 4187, 'love-matic': 3540, 'tanked-up': 5877, 'familiar': 2075, 'musketeers': 3926, 'few': 2141, 'belt': 588, 'opens': 4178, \"g'on\": 2386, \"changin'\": 1027, 'manuel': 3641, 'buddies': 820, 'delts': 1556, 'inspired': 3033, 'stu': 5730, 'faceful': 2055, 'blade': 639, 'wayne:': 6468, 'adopted': 137, 'wha': 6509, 'times': 6065, 'leave': 3366, 'lips': 3452, 'happy': 2675, 'iran': 3072, 'brain': 748, 'mountain': 3881, 'online': 4164, 'wiping': 6613, 'crowd': 1413, 'meaningfully': 3699, 'cheerier': 1061, \"burnin'\": 851, 'hillbillies': 2791, \"washin'\": 6445, 'known': 3287, 'fella': 2126, 'jimmy': 3154, 'gayer': 2417, 'phrase': 4374, 'cavern': 991, 'yew': 6742, 'iddilies': 2944, 'kegs': 3217, 'chapstick': 1032, 'unfortunately': 6286, 'uh-huh': 6252, 'amount': 258, 'newspaper': 4015, 'hmf': 2807, \"thinkin'\": 6004, 'text': 5958, 'cruise': 1419, 'reasons': 4770, 'supply': 5787, 'virtual': 6378, 'tremendous': 6168, 'tooth': 6113, 'break': 762, 'sympathy': 5842, 'mexicans': 3739, 'van': 6343, 'sense': 5159, 'refreshingness': 4799, 'predecessor': 4533, 'never': 4007, 'edna': 1858, 'stool': 5692, 'carl': 953, 'lingus': 3448, 'fail': 2061, 'kid': 3235, 'sour': 5512, 'squabbled': 5580, 'brightening': 783, 'politics': 4486, 'wistful': 6622, 'winston': 6610, 'hangover': 2662, 'walther_hotenhoffer:': 6421, 'karaoke_machine:': 3209, 'p': 4228, 'recall': 4773, 'aggravated': 174, 'grow': 2578, 'weird': 6495, 'hopeful': 2860, 'sloppy': 5385, 'sky': 5358, 'strangles': 5710, 'pyramid': 4670, 'puts': 4664, 'wiggum': 6580, 'equal': 1955, 'ratio': 4742, '1979': 34, 'privacy': 4582, \"mopin'\": 3861, 'ho': 2811, 'tender': 5934, 'nantucket': 3953, 'dangerous': 1477, 'floating': 2228, 'connor-politan': 1284, 'underpants': 6273, 'h': 2619, 'supervising': 5786, 'cushion': 1443, 'urinal': 6322, 'freely': 2322, 'watch': 6452, 'free': 2319, 'coughs': 1338, 'ech': 1849, 'nigel_bakerbutcher:': 4026, \"kearney's_dad:\": 3212, 'employees': 1912, \"round's\": 4951, 'griffith': 2564, \"'your\": 24, \"handwriting's\": 2657, 'briefly': 781, 'agree': 181, 'superior': 5782, 'bill_james:': 617, 'macho': 3585, 'goo': 2510, 'deep': 1531, \"dyin'\": 1817, 'golf': 2507, 'bonding': 689, 'dennis_conroy:': 1562, 'box': 731, 'cobra': 1189, 'johnny_carson:': 3165, 'tradition': 6140, 'wound': 6683, 'spews': 5544, 'boisterous': 684, '_burns_heads:': 64, 'bottles': 718, 'bite': 631, 'jeez': 3134, 'reserved': 4862, 'entering': 1943, 'ass': 367, 'law-abiding': 3351, 'bottle': 717, 'cries': 1398, 'touch': 6122, \"football's\": 2265, 'parrot': 4274, 'expert': 2023, 'time': 6063, 'diamond': 1602, 'its': 3098, 'like': 3433, 'mines': 3776, 'cigarettes': 1129, 'badges': 447, 'flourish': 2231, 'male_singers:': 3614, \"doin'\": 1695, 'al_gore:': 200, 'laney': 3326, 'itself': 3099, 'suit': 5766, 'alfalfa': 209, 'eliminate': 1896, 'atari': 381, 'poetics': 4463, 'admirer': 133, 'tasty': 5890, 'storms': 5702, 'spelling': 5538, 'sounds': 5509, 'xx': 6708, 'asking': 364, 'about': 87, 'whoa-ho': 6560, 'sex': 5181, 'takeaway': 5861, 'discussing': 1654, 'friend': 2333, \"chewin'\": 1073, \"tonight's\": 6106, 'frat': 2313, 'shock': 5229, 'wrestle': 6692, 'clear': 1151, 'gentlemen': 2432, 'straining': 5707, 'stools': 5693, 'sucker': 5751, 'california': 905, 'kind': 3252, 'sneak': 5430, 'dad': 1459, 'self-centered': 5141, 'rummy': 4975, 'killed': 3246, 'desperate': 1585, 'and-and': 265, 'zinged': 6776, 'cannot': 927, 'patron_#1:': 4297, 'scarf': 5066, 'cable': 895, 'jerk-ass': 3140, 'much': 3898, 'jolly': 3173, 'overhearing': 4217, 'civic': 1135, 'informant': 3009, 'flatly': 2217, 'save': 5051, \"mcstagger's\": 3691, 'casual': 975, 'searching': 5110, 'broken': 797, 'hardwood': 2680, \"where'd\": 6537, \"beer's\": 557, 'cash': 971, 'cowboy': 1366, 'bad': 444, 'ventriloquism': 6352, 'heading': 2716, 'okay': 4144, 'acquitted': 111, 'muttering': 3933, 'sniffs': 5437, 'saturday': 5046, \"stinkin'\": 5677, \"we're\": 6474, 'hotel': 2878, 'gun': 2605, 'listen': 3461, 'hospital': 2871, 'macaulay': 3581, \"can't-believe-how-bald-he-is\": 921, 'steak': 5647, 'gluten': 2493, 'handshake': 2654, 'abercrombie': 83, 'wiener': 6572, 'bachelorette': 435, 'oddest': 4120, 'doom': 1719, 'director:': 1639, 'dry': 1786, 'confused': 1279, 'villanova': 6371, \"livin'\": 3476, 'settles': 5178, 'sighs': 5291, 'whim': 6542, 'japanese': 3124, 'joe': 3159, 'venture': 6353, 'sinister': 5319, 'runt': 4983, 'wow': 6685, 'imagine': 2963, 'radical': 4701, 'kings': 3258, 'turned': 6210, 'sly': 5391, 'togetherness': 6086, 'manfred': 3636, 'bart': 497, 'swamp': 5811, 'whispers': 6549, 'cross-country': 1408, 'ireland': 3074, 'whaaaa': 6511, 'tomatoes': 6096, 'south': 5514, 'problemo': 4589, 'blew': 650, \"blowin'\": 669, \"liftin'\": 3426, 'trenchant': 6170, 'wish-meat': 6618, 'tease': 5909, 'without': 6625, 'anti-lock': 294, \"'\": 3, 'ends': 1925, \"who's\": 6557, 'ooo': 4170, 'patterns': 4302, 'anarchy': 261, 'ripcord': 4909, 'history': 2800, 'square': 5583, 'cost': 1332, 'swigmore': 5829, 'experience': 2020, 'shindig': 5226, 'urge': 6321, 'sharity': 5206, 'shoot': 5234, 'golden': 2506, 'fast-food': 2091, 'goblins': 2498, 'tomorrow': 6098, 'grudgingly': 2583, 'aged': 166, 'foam': 2242, 'snake-handler': 5423, \"'now\": 16, 'birthplace': 629, 'y': 6709, 'blinds': 654, 'crowned': 1417, 'hour': 2883, 'refreshing': 4798, 'disguised': 1660, 'dealie': 1511, 'annie': 278, 'upbeat': 6312, 'ah': 183, 'fourth': 2305, 'borrow': 712, 'comeback': 1223, 'stiffening': 5671, 'pine': 4400, 'wildfever': 6585, 'sec_agent_#1:': 5116, 'offer': 4128, 'mike_mills:': 3759, 'assent': 369, 'wonderful': 6647, 'magazine': 3592, 'lisa': 3455, 'skydiving': 5359, 'ford': 2272, 'luck': 3559, 'up': 6310, 'dizzy': 1685, 'lush': 3570, 'important': 2969, 'quick': 4682, 'because': 543, 'statesmanlike': 5634, 'fancy': 2082, 'rafters': 4706, 'modest': 3822, 'moe-heads': 3829, 'charged': 1037, 'nash': 3961, 'slow': 5387, 'chill': 1085, 'level': 3403, 'twice': 6233, 'foundation': 2298, 'wind': 6594, 'discuss': 1653, 'obese': 4104, 'treehouse': 6166, 'easier': 1835, 'flailing': 2205, 'raging': 4712, 'bushes': 863, 'shrieks': 5266, 'blue': 673, 'marriage': 3655, 'poin-dexterous': 4465, 'crack': 1373, 'eyeball': 2042, 'fan': 2080, 'prettiest': 4563, 'hitler': 2803, 'thirty-five': 6011, 'dumbbell': 1807, 'boyfriend': 741, 'took': 6111, 'drove': 1778, 'dryer': 1787, \"d'ya\": 1457, \"could've\": 1340, \"'evening\": 11, 'ura': 6319, 'alibi': 212, 'inquiries': 3022, 'knit': 3276, 'daddy': 1461, 'remodel': 4833, 'delivery_man:': 1555, 'uses': 6327, 'surgery': 5796, 'broom': 802, 'confidentially': 1278, 'yap': 6718, 'compete': 1246, 'nigerian': 4028, 'choked-up': 1102, 'slightly': 5375, 'banned': 469, 'dreamy': 1750, 'wrote': 6701, 'arm-pittish': 343, 'chauffeur': 1048, 'praise': 4525, 'bar': 473, 'walking': 6413, 'shill': 5225, 'monkey': 3845, 'canyoner-oooo': 930, '7-year-old_brockman:': 47, 'heatherton': 2734, 'liven': 3473, 'tuborg': 6203, 'sagacity': 5010, 'bills': 622, 'naegle': 3940, 'thrilled': 6039, 'government': 2526, \"show's\": 5256, 'dana_scully:': 1473, 'vicious': 6362, 'domestic': 1704, 'therapy': 5987, 'presidential': 4550, 'besides': 595, 'blown': 670, 'roof': 4939, 'specified': 5533, 'hours': 2885, 'kwik-e-mart': 3302, 'rump': 4977, 'salvador': 5022, 'eager': 1826, 'rash': 4736, 'addiction': 124, 'portfolium': 4504, 'perhaps': 4343, 'warning': 6437, 'fresh': 2328, 'various': 6346, 'paparazzo': 4262, 'strain': 5706, 'tearfully': 5907, 'menacing': 3726, 'healthier': 2721, 'cheat': 1054, 'fat_in_the_hat:': 2096, 'considering:': 1288, 'pardon': 4267, 'french': 2324, 'almost': 229, 'tummies': 6204, 'uglier': 6247, 'spy': 5578, 'occasion': 4109, 'buyer': 881, 'dash': 1488, 'center': 1002, 'ever': 1978, 'belts': 589, \"poisonin'\": 4474, 'movies': 3890, 'mostrar': 3873, 'firm': 2188, \"doctor's\": 1689, 'whaddya': 6513, 'strategizing': 5712, 'haircuts': 2631, 'exquisite': 2032, 'saget': 5012, 'contact': 1295, \"'s\": 20, 'stuff': 5735, \"who'll\": 6556, 'candles': 924, 'cutting': 1452, 'misfire': 3792, 'ruint': 4970, 'hero-phobia': 2768, 'literature': 3468, 'nordiques': 4063, 'magnanimous': 3596, 'short': 5241, 'museum': 3922, 'happier': 2671, 'tar-paper': 5886, 'libido': 3410, 'hats': 2699, 'keys': 3229, 'zeal': 6772, 'duffman:': 1799, 'watching': 6455, 'distributor': 1676, 'bumblebee_man:': 837, 'stones': 5688, 'hilton': 2792, 'carpet': 965, 'counterfeit': 1344, 'brewed': 775, 'sensible': 5160, 'hoped': 2859, 'updated': 6313, 'attached': 385, 'it': 3089, 'ye': 6722, 'met': 3733, 'premiering': 4538, 'lovelorn': 3543, 'clubs': 1180, 'hunting': 2916, 'louisiana': 3536, 'food': 2258, 'terrorizing': 5949, 'presses': 4553, 'sunk': 5774, 'rotten': 4948, 'tenuous': 5938, 'afternoon': 162, 'actor': 118, 'gut': 2611, '__comma__': 53, '50%': 43, 'she': 5210, 'swatch': 5813, 'medical': 3710, 'chauffeur:': 1049, 'bottom': 719, 'movie': 3889, 'flustered': 2238, 'motorcycle': 3878, 'runners': 4980, 'cute': 1449, 'castle': 974, 'yard': 6719, 'nobody': 4045, 'dramatic': 1738, 'title:': 6076, 'vampire': 6341, \"coaster's\": 1186, 'sesame': 5173, 'cowboys': 1367, 'churchill': 1126, 'relaxed': 4812, 'guys': 2617, 'half-day': 2637, 'election': 1892, \"smackin'\": 5393, 'opening': 4177, 'senators:': 5156, 'found': 2297, 'dirty': 1642, 'am': 242, 'kentucky': 3225, 'wooden': 6654, 'happened': 2669, \"mo'\": 3812, 'unsourced': 6306, 'liar': 3407, 'chow': 1108, 'prank': 4526, 'childless': 1081, 'indigenous': 2997, 'happily:': 2673, 'needs': 3986, 'dignified': 1622, 'homie': 2842, 'dig': 1620, 'chunk': 1123, 'chastity': 1046, '_powers:': 71, 'quitcher': 4691, 'universe': 6296, 'shard': 5201, 'neighbors': 3993, 'insist': 3029, 'bugs': 827, \"he'll\": 2711, \"'bout\": 4, 'bury': 860, 'beginning': 570, 'ferry': 2137, 'frustrated': 2353, 'collateral': 1208, 'salad': 5017, 'by': 886, 'amber_dempsey:': 247, 'muslim': 3927, 'patron_#2:': 4298, 'hugh': 2902, 'coyly': 1369, 'saved': 5052, 'nervously': 4004, 'waters': 6460, 'chin': 1087, 'gasps': 2412, 'nope': 4061, 'yello': 6732, 'counter': 1343, 'awwww': 424, 'schedule': 5072, 'orifice': 4191, 'massachusetts': 3665, 'avec': 407, 'pages': 4238, 'just': 3197, 'floor': 2229, \"cuckold's\": 1427, 'feminist': 2134, 'jay': 3127, '__right_parentheses__': 61, 'brings': 788, 'sampler': 5026, 'lugs': 3563, 'housewife': 2887, 'carolina': 964, 'blur': 676, 'folk': 2248, 'y-you': 6713, 'hurry': 2917, 'elaborate': 1889, 'unrelated': 6303, 'lungs': 3566, 'pushes': 4659, 'shhh': 5223, 'hot': 2876, 'jerking': 3141, 'introduce': 3060, 'murdered': 3914, 'traitors': 6149, 'soir': 5468, 'pen': 4324, 'chapter': 1033, 'runaway': 4979, 'steal': 5648, 'gotten': 2525, 'oooh': 4171, 'archaeologist': 332, 'i-i-i': 2939, 'choose': 1104, 'icy': 2943, 'wednesday': 6488, 'darkness': 1485, 'luxury': 3573, 'banquo': 472, 'cell-ee': 1000, 'coat': 1187, 'babar': 430, 'dexterous': 1599, 'noticing': 4078, 'dear': 1515, 'struggling': 5729, 'gotta': 2524, 'gulliver_dark:': 2599, 'harvey': 2690, 'chance': 1023, 'schemes': 5073, \"tinklin'\": 6068, 'defiantly': 1538, 'months': 3852, 'lushmore': 3571, 'civil': 1136, 'ease': 1834, 'fun': 2365, '1973': 33, 'horrified': 2866, 'showered': 5260, 'person': 4351, 'dna': 1686, 'bike': 615, 'muffled': 3901, 'impatient': 2966, 'regret': 4803, 'coffee': 1198, 'pawed': 4307, 'pregnancy': 4536, \"swishifyin'\": 5835, 'anymore': 300, 'mcbain': 3685, 'dials': 1601, \"wait'll\": 6405, \"spiffin'\": 5546, 'unlucky': 6302, 'sponge': 5561, \"havin'\": 2702, 'bedtime': 549, 'mike': 3758, 'homesick': 2841, 'rutabaga': 4988, 'stories': 5701, 'homer': 2833, 'message': 3731, 'find': 2170, 'haiti': 2633, 'temper': 5928, 'soul-crushing': 5505, 'settled': 5176, 'colonel:': 1213, 'campaign': 918, 'unexplained': 6282, 'smell': 5398, 'yourse': 6762, 'angrily': 274, 'declan_desmond:': 1527, 'guzzles': 2618, 'reserve': 4861, 'bam': 465, 'corporation': 1326, 'stripe': 5722, 'tapping': 5884, 'diets': 1616, 'warn': 6435, 'honeys': 2846, 'games': 2399, 'weapon': 6479, 'mistresses': 3801, 'football_announcer:': 2266, 'thoughtless': 6030, 'stored': 5699, 'smurfs': 5419, 'alpha-crow': 232, 'theater': 5977, '8': 50, 'chuckles': 1116, 'u': 6244, 'incarcerated': 2980, 'finger': 2175, 'jasper_beardly:': 3126, 'pian-ee': 4376, '1-800-555-hugs': 28, 'take': 5859, 'testing': 5955, \"cheerin'\": 1062, 'advantage': 143, 'forever': 2275, 'robbers': 4919, 'cheesecake': 1068, 'wall': 6415, 'following': 2252, 'inexorable': 3002, 'carney': 961, 'war': 6430, 'wisconsin': 6615, 'whispered': 6548, 'president': 4548, 'idiot': 2951, 'larry': 3334, 'host': 2872, 'bet': 597, 'minus': 3783, \"rentin'\": 4845, 'founded': 2299, 'beach': 523, 'season': 5112, 'snake_jailbird:': 5424, 'hmmm': 2809, 'cheer': 1059, 'bump': 839, 'excavating': 1997, 'load': 3481, 'drink': 1759, 'disco': 1650, 'blobbo': 658, 'movement': 3888, 'wipe': 6611, 'peeved': 4323, 'experienced': 2021, 'blows': 671, 'boozehound': 707, 'glummy': 2492, 'necessary': 3978, 'compliment': 1255, 'ihop': 2957, \"shouldn't\": 5252, 'balloon': 461, 'maiden': 3600, 'smelly': 5401, 'stood': 5690, 'charge': 1036, 'first': 2190, 'instead': 3037, \"startin'\": 5625, 'kick-ass': 3231, 'ominous': 4153, 'sidekick': 5284, 'knocks': 3282, 'savagely': 5050, 'carb': 943, 'cologne': 1212, 'anyhow': 299, 'skills': 5349, 'awareness': 413, \"bart's\": 499, 'bolting': 686, 'dice': 1605, 'except': 1999, 'bronco': 799, 'single-mindedness': 5317, 'boozer': 708, 'excellent': 1998, 'extended': 2033, 'safety': 5008, 'ned_flanders:': 3983, 'years': 6727, 'job': 3155, 'whole': 6562, 'pre-recorded': 4531, 'judges': 3182, 'brassiest': 757, 'rented': 4844, 'ahead': 185, 'mister': 3800, 'waist': 6403, 'hoping': 2861, 'banquet': 471, 'keeping': 3215, 'followed': 2251, 'admit': 135, 'savings': 5054, 'become': 544, 'cummerbund': 1433, \"soundin'\": 5508, 'press': 4552, 'burglary': 848, 'starla:': 5619, 'penny': 4327, 'something': 5486, 'quarter': 4674, 'eyeballs': 2043, 'laws': 3352, 'fever': 2139, 'drawn': 1746, 'sweat': 5816, 'sickens': 5280, \"don'tcha\": 1707, 'wikipedia': 6582, 'century': 1004, 'sucking': 5752, \"hangin'\": 2659, 'moe-near-now': 3831, 'bon-bons': 688, 'ned': 3982, 'motor': 3877, 'sound': 5506, 'goods': 2515, \"rustlin'\": 4986, 'byrne': 888, \"tab's\": 5851, 'someplace': 5482, 'hide': 2778, 'violin': 6375, 'could': 1339, 'groan': 2570, 'moesy': 3835, 'bartholomã©:': 506, 'cleaner': 1148, 'represent': 4855, 'forty-two': 2295, 'blissful': 656, \"somebody's\": 5477, 'cigars': 1130, 'microbrew': 3747, 'throwing': 6044, 'slapped': 5362, 'dejected_barfly:': 1541, 'barber': 480, 'faces': 2056, 'wear': 6480, 'rationalizing': 4743, 'casting': 973, 'student': 5732, 'gary:': 2407, 'heart': 2727, 'only': 4165, 'singing': 5314, \"i-i'll\": 2937, 'peter_buck:': 4357, 'babe': 431, 'dishonor': 1662, 'sucked': 5750, 'bums': 842, 'sieben-gruben': 5289, 'sang': 5030, 'appreciate': 321, \"guy's\": 2616, 'baseball': 507, 'sexton': 5182, 'associate': 373, 'queer': 4679, 'name': 3948, 'men': 3722, 'drinks': 1764, 'rivalry': 4914, 'harv': 2686, 'bear': 529, 'rainier_wolfcastle:': 4720, 'slender': 5371, 'willing': 6589, 'lenny': 3387, 'taxes': 5897, 'snapping': 5427, 'replaced': 4852, 'parasol': 4266, 'copy': 1320, 'disillusioned': 1664, 'professor': 4598, 'tsking': 6201, 'relative': 4810, 'news': 4012, 'reentering': 4790, 'german': 2437, 'stepped': 5661, 'listened': 3462, 'doooown': 1720, 'advertise': 145, 'gal': 2392, 'true': 6191, 'beatings': 536, 'covering': 1361, 'inspection': 3030, 'acceptance': 99, \"he'd\": 2710, 'chief': 1078, 'nailed': 3945, 'bedroom': 548, 'process': 4592, 'little_hibbert_girl:': 3470, 'veux': 6361, 'according': 104, 'batmobile': 518, 'pre-game': 4530, 'knows': 3288, 'burp': 855, 'mayor_joe_quimby:': 3684, 'mugs': 3903, 'uniforms': 6291, 'arrest': 348, 'ratted': 4745, \"kid's\": 3236, \"professor's\": 4599, 'socratic': 5464, 'space': 5517, 'david_byrne:': 1498, \"department's\": 1569, 'catch-phrase': 979, 'extra': 2035, 'guttural': 2614, 'stagy': 5601, 'reminded': 4831, 'shifty': 5224, 'accepting': 100, 'tear': 5906, 'today/': 6082, 'ons': 4166, 'microwave': 3750, 'switched': 5838, 'blubberino': 672, 'barf': 482, 'closer': 1169, 'supplying': 5788, 'laramie': 3331, 'danny': 1481, \"fryer's\": 2355, 'thing': 5999, 'wake': 6408, 'official': 4131, 'wishful': 6620, 'dinks': 1632, 'reaching': 4751, 'super-nice': 5778, 'edna_krabappel-flanders:': 1861, 'falling': 2073, 'heartily': 2729, 'fabulous': 2050, 'tv_husband:': 6220, 'faulkner': 2102, 'heard': 2723, 'stillwater:': 5673, 'poking': 4478, 'snitch': 5439, 'championship': 1021, 'christian': 1109, 'inherent': 3015, 'plastic': 4432, 'grateful': 2548, 'mind': 3772, 'while': 6541, 'wigs': 6581, 'male_inspector:': 3613, 'groin': 2573, 'cloudy': 1176, 'beers': 561, 'temporarily': 5931, 'trench': 6169, 'fat-free': 2095, 'married': 3656, 'rolling': 4930, 'air': 196, 'socialize': 5461, 'cares': 950, \"thing's\": 6000, 'declared': 1529, 'admiration': 132, 'misconstrue': 3790, 'haw': 2704, 'prove': 4624, 'chew': 1072, 'mel': 3717, 'marjorie': 3651, 'sweetly': 5825, 'federal': 2114, 'difficult': 1619, 'knife': 3275, 'thanking': 5965, 'toxins': 6135, 'shuts': 5273, 'states': 5633, 'legend': 3378, 'faith': 2067, 'wishes': 6619, 'enthusiastically': 1948, 'glove': 2489, 'aghast': 177, 'inning': 3018, 'admitting': 136, 'industry': 2999, 'prejudice': 4537, 'joey_kramer:': 3161, 'kids': 3242, 'chipped': 1092, 'stab': 5594, 'moved': 3887, 'including': 2983, 'picky': 4384, 'frightened': 2339, \"neat's-foot\": 3977, 'microphone': 3749, 'wild': 6583, 'renee:': 4839, 'money': 3843, 'loss': 3523, 'reminds': 4832, 'enemies': 1926, 'moving': 3891, 'stooges': 5691, 'you-need-man': 6753, 'rotch': 4947, 'appalled': 310, \"clancy's\": 1140, 'gestated': 2441, 'assassination': 368, 'mmm-hmm': 3809, 'late': 3340, 'fight': 2150, 'dea-d-d-dead': 1505, 'officials': 4132, 'label': 3306, \"duff's\": 1795, 'mostly': 3872, 'eighty-seven': 1883, 'veteran': 6360, 'rub-a-dub': 4960, 'part': 4275, 'doll-baby': 1698, 'hibachi': 2775, 'dyspeptic': 1820, 'beanbag': 527, 'hm': 2806, 'investment': 3064, 'freedom': 2321, 'triple-sec': 6177, \"disrobin'\": 1670, 'zack': 6770, \"wearin'\": 6481, 'apu': 326, 'wheel': 6530, 'starts': 5628, 'bar-boy': 475, 'mariah': 3650, 'overstressed': 4218, 'disturbance': 1677, 'push': 4658, 'leathery': 3365, 'stops': 5696, 'depressant': 1572, \"tester's\": 5954, \"larry's\": 3335, 'mull': 3906, 'started': 5623, 'celebrate': 994, \"squeezin'\": 5589, 'many': 3642, 'mither': 3802, 'highway': 2787, 'simple': 5301, 'cattle': 983, 'deliberately': 1546, 'anxious': 295, 'neighboreeno': 3991, 'accounta': 105, 'mmmm': 3810, 'at': 380, 'slight': 5374, 'audience:': 398, 'website': 6486, 'mm-hmm': 3807, 'blimp': 651, 'hall': 2639, 'achem': 109, 'phony': 4370, 'twins': 6235, 'feet': 2122, '/mr': 27, 'conclude': 1267, 'humanity': 2907, 'amazing': 245, 'nominated': 4050, 'female_inspector:': 2131, 'shot': 5245, \"moe's_thoughts:\": 3826, 'guide': 2595, 'kissed': 3263, 'sure': 5794, 'blocked': 659, 'skirt': 5355, 'ticket': 6052, \"stealin'\": 5649, 'peaked': 4318, 'dirt': 1641, 'beings': 576, 'nards': 3956, 'my': 3934, 'streetcorner': 5716, 'filth': 2165, 'kissing': 3266, 'grieving': 2563, 'irrelevant': 3079, 'decency': 1520, 'kicks': 3234, 'eighty-three': 1885, 'drop-off': 1775, 'landfill': 3323, 'rosey': 4946, 'lecture': 3369, 'arabs': 331, 'gums': 2604, 'trolls': 6181, 'huh': 2904, 'torn': 6116, 'fox_mulder:': 2307, 'trail': 6144, 'candy': 925, 'hooky': 2853, 'gabriel:': 2389, 'father': 2098, 'answer': 287, 'all-star': 219, 'powered': 4520, 'gambler': 2396, 'spirit': 5550, 'european': 1969, 'nods': 4046, 'peanuts': 4320, 'especially': 1962, 'idioms': 2950, 'raising': 4724, 'suck': 5749, 'cure': 1438, 'mount': 3880, 'picture': 4386, 'mind-numbing': 3773, 'around': 346, 'woman': 6638, \"lisa's\": 3456, 'perplexed': 4349, 'who-o-oa': 6558, 'errrrrrr': 1960, 'clapping': 1143, 'morlocks': 3863, 'combines': 1221, 'wheeeee': 6529, 'protestantism': 4619, 'plug': 4454, 'sniper': 5438, 'material': 3671, 'whose': 6567, 'over-pronouncing': 4215, 'fringe': 2340, 'otherwise': 4200, 'record': 4782, \"workin'\": 6665, 'tragedy': 6143, 'fwooof': 2383, 'already': 234, 'friction': 2330, 'bits': 633, 'horribilis': 2864, 'hottest': 2881, 'tribute': 6172, 'destroyed': 1589, 'launch': 3349, 'follow': 2250, 'egg': 1869, 'fills': 2163, 'rude': 4964, 'whistles': 6550, 'then:': 5984, 'eyeing': 2045, 'hitchhike': 2802, 'eighty-six': 1884, 'papa': 4261, \"they'll\": 5995, 'promise': 4607, 'charges': 1038, 'louder': 3533, 'gentleman:': 2431, 'michael': 3743, 'temples': 5930, 'worried': 6673, 'mill': 3769, 'gel': 2422, 'flag': 2204, 'five-fifteen': 2198, 'clenched': 1156, \"hadn't\": 2625, 'holidays': 2825, 'entire': 1949, 'entertainer': 1945, \"hasn't\": 2692, 'scruffy_blogger:': 5101, \"drawin'\": 1744, 'grace': 2531, 'smells': 5400, 'living': 3477, 'relax': 4811, 'mitts': 3803, 'awkward': 420, 'ways': 6469, 'dang': 1476, 'bathing': 515, 'kent': 3223, 'reached': 4749, 'agent': 169, \"ladies'\": 3312, 'statistician': 5637, 'roz': 4957, 'curious': 1440, 'wore': 6661, 'competing': 1247, 'comedy': 1225, 'imported-sounding': 2970, 'windelle': 6596, 'volunteer': 6386, 'adventure': 144, 'selection': 5138, 'absorbent': 93, 'wenceslas': 6502, 'hangout': 2661, 'child': 1080, 'ape-like': 307, 'ding-a-ding-ding-a-ding-ding': 1629, 'marvelous': 3660, 'clears': 1154, '__dash__': 54, 'raggie': 4709, 'dispenser': 1667, 'deadly': 1508, 'oils': 4142, 'courts': 1358, 'cap': 932, 'eighteen': 1880, 'surprising': 5800, 'james': 3120, 'beligerent': 581, 'indignant': 2998, 'andalay': 268, 'machine': 3584, 'spectacular': 5534, \"everyone's\": 1984, 'adeleine': 127, 'face-macer': 2052, 'invented': 3062, 'obsessive-compulsive': 4107, 'bret': 773, 'sweetie': 5824, '35': 40, 'department': 1568, 'conversion': 1311, 'vomit': 6387, 'influence': 3007, 'flown': 2234, 'whoopi': 6565, 'smoker': 5410, \"knockin'\": 3281, \"you're\": 6751, 'detective': 1592, 'enthused': 1946, 'spacey': 5519, 'hostile': 2874, 'chuckling': 1117, 'window': 6598, 'priceless': 4568, 'tomahto': 6094, 'astrid': 377, 'tv_daughter:': 6218, 'inanely': 2978, 'flower': 2232, 'protesting': 4621, 'bitterly': 635, 'crushed': 1424, 'disappointment': 1647, 'bad-mouth': 445, 'learned': 3362, 'once': 4157, 'cab_driver:': 894, 'sucks': 5753, 'lime': 3437, 'impress': 2971, 'world-class': 6670, 'flayvin': 2218, 'book_club_member:': 699, 'insurance': 3042, 'fence': 2135, 'commit': 1236, 'walked': 6412, 'ha-ha': 2621, 'beef': 551, 'lear': 3360, 'station': 5635, 'psst': 4627, 'flanders:': 2211, 'suing': 5765, 'nickels': 4025, 'market': 3652, 'offended': 4125, 'super-genius': 5777, 'dozen': 1733, 'build': 828, 'mini-dumpsters': 3778, 'creepy': 1393, 'dearest': 1516, 'woman_bystander:': 6640, 'teriyaki': 5939, 'leprechaun': 3395, 'thirsty': 6008, 'doy': 1732, 'lucinda': 3556, 'issues': 3087, 'remaining': 4825, 'recorded': 4783, 'hoo': 2849, 'modern': 3821, 'future': 2381, 'wildest': 6584, 'incredible': 2987, 'a-b-': 76, 'pudgy': 4633, 'tyson/secretariat': 6243, 'these': 5992, 'ails': 193, 'ceremony': 1006, 'beached': 524, 'nbc': 3971, 'fools': 2262, \"donatin'\": 1710, 'reptile': 4858, 'novel': 4080, 'baby': 433, 'wasted': 6449, 'accidents': 103, 'black': 636, 'mad': 3586, 'filed': 2160, \"sayin'\": 5058, 'health': 2719, 'wealthy': 6478, 'project': 4605, 'managed': 3630, 'respect': 4866, \"she'll\": 5212, 'violations': 6374, 'taste': 5888, 'barely': 481, 'burt': 858, 'glitz': 2486, 'got': 2522, 'digging': 1621, 'dateline:': 1493, 'whatcha': 6523, 'salt': 5021, 'ballot': 462, 'forget': 2276, 'passports': 4288, 'waylon': 6465, 'riveting': 4915, 'ingredient': 3014, 'repressed': 4857, 'sabermetrics': 4995, 'fortensky': 2288, 'kako:': 3205, 'farthest': 2089, 'droning': 1773, 'juice': 3184, 'during': 1814, 'defected': 1536, 'comment': 1234, 'pissed': 4408, 'david': 1497, 'fifteen': 2147, 'three-man': 6037, 'tee': 5912, 'm': 3575, 'past': 4289, 'wondering': 6649, 'carl_carlson:': 956, 'ripping': 4912, 'dumb-asses': 1805, 'full-bodied': 2360, 'hoagie': 2814, 'enough': 1941, \"lefty's\": 3374, 'jubilant': 3178, 'fans': 2083, 'thighs': 5998, 'stengel': 5659, 'twerpy': 6232, 'presidents': 4551, 'touches': 6125, 'duffman': 1798, 'couple': 1351, 'capuchin': 939, 'biggest': 614, 'ladder': 3310, 'mary': 3662, 'out': 4206, 'awful': 418, 'demand': 1557, 'none': 4055, 'lowest': 3554, \"calf's\": 904, 'statue': 5639, 'down': 1731, 'dime': 1625, 'hiring': 2797, 'crazy': 1386, '__exclamation_mark__': 55, 'yours': 6761, 'wizard': 6629, 'mathis': 3672, 'bounced': 723, 'sadistic_barfly:': 5002, 'granted': 2546, 'fondest': 2254, 'guts': 2613, 'threatening': 6035, 'knowingly': 3285, 'handoff': 2652, 'schizophrenia': 5074, 'locked': 3493, 'fdic': 2110, 'tells': 5926, 'vacations': 6335, 'uninhibited': 6292, 'toward': 6131, 'sight-unseen': 5293, 'enjoys': 1939, 'evasive': 1972, 'grub': 2581, 'nã£o': 4096, 'crinkly': 1402, 'joy': 3176, 'yellow': 6733, 'soon': 5496, 'chipper': 1093, 'step': 5660, 'cherry': 1069, 'risquã©': 4913, '&': 2, 'burn': 850, 'appropriate': 323, 'sobo': 5457, 'close': 1167, 'tolerable': 6091, 'barn': 488, 'onions': 4163, 'add': 123, 'phlegm': 4367, 'cases': 970, 'color': 1214, 'chub': 1112, 'champignons': 1019, 'enthusiasm': 1947, \"maggie's\": 3594, 'threw': 6038, 'won': 6643, '_timothy_lovejoy:': 72, 'surprise': 5797, \"now's\": 4084, 'feel': 2117, 'du': 1788, 'dollars': 1700, 'tofu': 6084, 'hubub': 2897, 'principles': 4578, 'pirate': 4407, 'onto': 4167, 'chic': 1074, 'ironed': 3077, 'pays': 4314, 'halloween': 2640, 'tha': 5961, 'how': 2890, 'rob': 4918, \"i'd\": 2929, 'ring': 4904, 'dashes': 1489, 'rickles': 4892, 'glyco-load': 2494, 'scientific': 5081, 'aunt': 400, 'lucius:': 3558, 'sending': 5158, 'second': 5118, 'simon': 5299, 'koji': 3294, 'aw': 411, 'principal': 4577, 'seems': 5133, 'television': 5922, \"rasputin's\": 4738, 'drinker': 1760, 'motto': 3879, 'maintenance': 3603, \"springfield's\": 5577, 'sen': 5153, 'cats': 982, 'flew': 2223, 'bride': 777, 'terrace': 5942, 'martini': 3659, 'crisis': 1404, 'displeased': 1668, 'odor': 4121, 'poured': 4517, 'rainier': 4719, 'tasimeter': 5887, 'sold': 5469, 'plucked': 4453, 'for': 2267, 'inside': 3027, 'holiday': 2824, 'taught': 5893, 'youuu': 6767, 'w': 6395, 'marry': 3657, 'alec_baldwin:': 208, 'sitcom': 5332, 'grabbing': 2529, 'tense': 5936, 'lady-free': 3315, \"tony's\": 6109, 'dogs': 1694, \"liberty's\": 3409, 'two-drink': 6237, 'anger': 273, 'indecipherable': 2990, 'daniel': 1478, 'slaps': 5363, \"isn't\": 3085, 'sturdy': 5741, 'lindsay': 3444, \"cashin'\": 972, 'jam': 3118, 'popping': 4499, 'kiss': 3262, 'huhza': 2905, 'mixed': 3805, 'schorr': 5079, 'forward': 2296, 'hard': 2677, 'preparation': 4541, 'hollowed-out': 2826, 'buffalo': 823, 'administration': 131, 'self-made': 5143, 'pantry': 4258, 'scout': 5090, 'voice:': 6383, 'screws': 5098, 'list': 3460, 'rabbits': 4695, 'authenticity': 401, 'high-definition': 2782, '__period__': 57, 'system': 5847, 'rhyme': 4885, 'forty-nine': 2293, 'adequate': 128, 'defeated': 1535, 'our': 4204, 'resist': 4864, 'mater': 3670, 'celeste': 998, 'fault': 2103, 'stomach': 5687, 'either': 1887, 'heaving': 2738, 'dr': 1734, 'radishes': 4704, 'twenty-two': 6231, 'manager': 3631, 'here': 2764, 'naval': 3969, 'burger': 847, 'high': 2781, 'self': 5140, 'page': 4236, 'effect': 1864, 'thought': 6025, 'pity': 4412, 'scrape': 5092, 'kill': 3244, 'paid': 4239, 'bulked': 830, 'fragile': 2308, 'wife': 6575, 'arse': 351, 'boys': 743, 'spite': 5554, \"hell's\": 2749, 'wide': 6570, 'nick': 4022, 'recipe': 4777, 'polishing': 4482, 'applesauce': 316, 'honor': 2847, 'dammit': 1468, 'daughter': 1495, 'hate': 2694, 'skin': 5350, 'halfway': 2638, 'party': 4281, 'sat': 5041, 'perverted': 4354, \"enjoyin'\": 1938, \"homer's_brain:\": 2836, 'outlook': 4208, 'pusillanimous': 4661, 'hates': 2698, \"drivin'\": 1770, 'boxcar': 732, 'super-tough': 5779, 'arrange': 347, 'layer': 3355, 'marched': 3644, 'gasoline': 2410, \"y'see\": 6712, 'brockman': 794, 'ho-ly': 2813, 'positive': 4507, 'understood:': 6277, 'fuhgetaboutit': 2357, 'parenting': 4268, 'clips': 1164, 'wrecking': 6691, 'roy': 4955, 'truth': 6196, 'disgracefully': 1658, 'courteous': 1356, 'guest': 2593, 'else': 1902, 'used': 6326, 'tapered': 5882, 'brotherhood': 805, 'easter': 1838, 'thanksgiving': 5967, 'scornful': 5087, 'bus': 861, 'booth': 703, 'backward': 442, 'looks': 3512, 'busiest': 864, \"friend's\": 2334, 'full-blooded': 2359, 'squeal': 5585, 'miles': 3761, 'trustworthy': 6195, 'left': 3372, 'larson': 3337, 'together': 6085, 'researching': 4859, 'came': 914, 'mid-seventies': 3752, 'skinner': 5352, 'aquafresh': 329, 'musta': 3931, 'lottery': 3529, 'beam': 526, 'sheets': 5217, 'bart_simpson:': 500, 'rub': 4959, 'pernt': 4348, 'wire': 6614, 'confident': 1276, 'rage': 4708, 'alphabet': 233, 'ma': 3576, 'eyes': 2046, 'toys': 6137, 'buffet': 825, 'bites': 632, 'wedding': 6487, 'enhance': 1935, 'flips': 2225, 'stalking': 5605, 'able': 84, 'occurrence': 4115, 'lou:': 3531, 'waste': 6448, 'rafter': 4705, 'deliberate': 1545, 'beating': 535, 'abolish': 86, 'memory': 3721, 'knuckles': 3290, 'pickle': 4381, 'quadruple-sec': 4671, 'fox': 2306, \"elmo's\": 1900, 'charlie': 1040, 'comes': 1226, 'wussy': 6704, 'flashbacks': 2214, 'allow': 223, 'celebrities': 996, 'gil_gunderson:': 2463, 'empty': 1915, 'feld': 2124, 'thinks': 6006, 'skins': 5354, \"goin'\": 2501, 'ayyy': 425, 'insecure': 3023, 'defensive': 1537, 'payments': 4313, 'quickly': 4684, \"dolph's_dad:\": 1702, \"hobo's\": 2817, 'lowering': 3552, 'deals': 1512, 'tap': 5879, \"stallin'\": 5606, 'optimistic': 4181, 'meaningful': 3698, 'convinced': 1312, 'juke': 3185, 'hardy': 2681, 'investigating': 3063, 'persia': 4350, 'hello': 2752, 'complaint': 1250, 'milhouse': 3762, 'specific': 5532, 'edna-lover-one-seventy-two': 1860, 'boring': 710, 'throw': 6043, \"costume's\": 1334, 'virile': 6376, \"b-52's:\": 428, 'mug': 3902, \"fallin'\": 2072, 'jelly': 3137, 'mortal': 3868, 'maximum': 3677, 'than': 5962, \"'ere\": 10, 'amnesia': 257, 'me': 3692, 'lift': 3424, 'pills': 4395, 'missed': 3795, \"plank's\": 4423, \"sat's\": 5042, \"comin'\": 1231, 's': 4990, 'committing': 1238, 'stays': 5646, 'flea:': 2219, 'awkwardly': 421, 'instrument': 3038, 'burns': 853, 'moonshine': 3859, 'leno': 3392, \"i'll\": 2931, 'jokes': 3171, 'boston': 713, 'lists': 3466, 'grade': 2532, 'effervescence': 1866, 'creates': 1389, 'surprised/thrilled': 5799, 'gator': 2413, 'wait': 6404, 'secret': 5120, 'jaegermeister': 3115, 'sotto': 5503, 'sec': 5115, 'woo-hoo': 6651, 'closed': 1168, 'speech': 5535, 'padre': 4234, 'playoff': 4442, 'but': 871, 'handler': 2650, 'youse': 6765, 'pass': 4283, 'wuss': 6703, 'physical': 4375, 'carey': 951, 'gloop': 2487, 'yup': 6769, 'sniffles': 5436, 'stares': 5616, \"o'\": 4098, 'disappointed': 1645, 'knees': 3273, 'fanciest': 2081, 'majesty': 3605, 'bathtub': 517, 'register': 4802, 'eyesore': 2047, 'twin': 6234, 'peanut': 4319, 'snotty': 5443, 'sweetest': 5822, 'island': 3083, 'dancing': 1475, 'pizza': 4413, 'micronesian': 3748, 'offa': 4124, 'hurt': 2918, 'stirring': 5682, 'soul': 5504, 'watered-down': 6458, 'organ': 4189, 'reciting': 4778, 'interrupting': 3052, 'door': 1721, 'abe': 82, 'cool': 1316, 'lager': 3317, 'ronstadt': 4938, \"daughter's\": 1496, 'week': 6489, 'thousand': 6032, 'sixty-nine': 5343, 'naively': 3946, 'prefer': 4535, 'pee': 4321, 'mahatma': 3598, 'permitting': 4347, 'anguished': 276, 'bowl': 728, 'beverage': 606, \"cleanin'\": 1149, 'bust': 868, 'apron': 325, 'upon': 6316, 'aged_moe:': 167, 'choice:': 1097, 'glee': 2482, 'floated': 2226, 'genuinely': 2435, 'examines': 1993, 'nauseous': 3968, 'gear-head': 2418, 'look': 3505, 'alcoholic': 205, 'has': 2691, 'king': 3257, 'sacrifice': 4998, 'nothing': 4075, 'salvation': 5023, 'burning': 852, 'singers:': 5312, 'wine': 6601, 'bloodiest': 665, 'gunter': 2608, 'lenny_leonard:': 3390, 'cheaper': 1052, 'mmm': 3808, 'tie': 6056, 'kent_brockman:': 3224, 'sodas': 5465, 'marmaduke': 3653, 'anything': 302, 'mamma': 3620, 'o': 4097, 'contract': 1305, 'tester': 5953, 'hungry': 2912, 'loafers': 3483, '__return__': 60, 'swear': 5815, \"g'night\": 2385, 'propose': 4615, 'eve': 1973, 'mystery': 3937, \"it's\": 3092, 'ridiculous': 4895, 'cigarette': 1128, 'wasting': 6450, 'temple': 5929, 'shack': 5187, 'coins': 1204, 'fevered': 2140, 'pressure': 4554, 'smart': 5397, 'shaky': 5196, 'increasingly': 2986, 'shirt': 5228, 'information': 3010, 'earth': 1833, 'county': 1350, 'dames': 1467, 'make': 3607, 'bridge': 778, 'ball': 457, 'say': 5057, 'stir': 5680, 'network': 4005, 'marvin': 3661, 'santeria': 5036, 'hammy': 2644, 'cheered': 1060, 'loves': 3548, 'pouring': 4518, 'over': 4214, 'nitwit': 4040, 'wagering': 6402, 'connor': 1283, 'shoe': 5231, 'stinky': 5679, 'grain': 2533, 'themselves': 5982, 'executive': 2009, 'happens': 2670, 'composite': 1258, 'hemoglobin': 2759, 'huggenkiss': 2901, 'c': 889, 'williams': 6588, 'outrageous': 4209, 'pancakes': 4254, \"monroe's\": 3849, 'hooters': 2855, 'twenty-six': 6230, 'hydrant': 2925, 'gator:': 2414, 'brainiac': 751, 'oh': 4135, 'videotaped': 6367, 'subscriptions': 5745, 'four': 2301, 'shall': 5197, \"wouldn't-a\": 6682, 'radio': 4702, \"ain't\": 195, 'inserts': 3026, 'puffy': 4635, 'determined': 1594, 'yell': 6730, 'arm': 342, 'pink': 4402, 'gag': 2390, 'strawberry': 5714, 'cerebral': 1005, 'generous': 2426, 'booking': 701, 'jeers': 3133, \"lady's\": 3314, 'kay': 3210, 'come': 1222, 'locklear': 3494, 'we': 6471, 'cosmetics': 1331, 'ruled': 4972, 'cleveland': 1158, 'shout': 5253, 'peeping': 4322, \"o'problem\": 4100, 'manatee': 3633, 'laney_fontaine:': 3327, 'unintelligent': 6293, 'panties': 4257, 'nudge': 4087, \"c'mom\": 891, 'forty-seven': 2294, \"renee's\": 4838, 'absentminded': 89, 'pictured': 4387, 'landlord': 3324, 'lanes': 3325, 'fortress': 2289, 'laughter': 3348, 'stores': 5700, 'improv': 2973, 'young_moe:': 6758, 'fast-paced': 2092, 'young': 6754, 'knowledge': 3286, 'warned': 6436, 'nonchalantly': 4054, 'bannister': 470, 'lifts': 3427, 'lloyd:': 3480, 'reopen': 4846, 'yo': 6744, \"he's\": 2712, 'occupancy': 4111, 'cheerleaders:': 1064, 'clammy': 1138, 'store': 5697, 'wacky': 6398, 'intrigued': 3058, 'eyed': 2044, 'mean': 3695, 'yuh-huh': 6768, 'missing': 3796, 'higher': 2785, 'publish': 4630, 'dentist': 1565, 'nap': 3954, 'bartender': 501, 'newsletter': 4014, 'pain': 4240, 'rich': 4888, 'light': 3428, 'wondered': 6646, 'easy': 1839, 'failed': 2062, 'across': 113, 'tracks': 6138, 'eight': 1877, 'cards': 945, 'jebediah': 3132, 'isle': 3084, 'crowds': 1416, 'thinking': 6005, 'seen': 5134, 'why': 6569, 'period': 4344, 'coupon': 1352, 'served': 5171, \"marge's\": 3647, 'craphole': 1379, 'mexican': 3737, 'gruesome': 2584, 'disappeared': 1644, 'dejected': 1540, 'built': 829, 'kazoo': 3211, 'southern': 5515, 'whistling': 6551, 'live': 3472, 'culkin': 1432, 'words': 6660, 'showed': 5258, 'let': 3399, 'clinton': 1162, 'punkin': 4652, 'keep': 3214, 'effigy': 1868, 'peppy': 4333, 'continued': 1302, 'felony': 2129, 'fish': 2191, 'clams': 1139, 'grab': 2528, 'unless': 6299, 'rid': 4893, 'effects': 1865, 'growing': 2579, 'read:': 4755, 'hah': 2627, 'hero': 2767, 'mail': 3601, 'talked': 5870, 'sun': 5771, 'sixty': 5341, 'radioactive': 4703, 'ehhhhhhhhh': 1876, 'anthony_kiedis:': 291, 'too': 6110, 'flames': 2208, 'whether': 6539, 'suppose': 5791, 'con': 1264, 'transmission': 6152, 'teenage_homer:': 5917, 'reasonable': 4769, 'evils': 1988, \"that's\": 5971, 'pushing': 4660, \"other's\": 4196, 'drift': 1758, 'developed': 1596, \"waitin'\": 6406, 'liser': 3459, 'people': 4328, 'date': 1491, 'stacey': 5596, 'nor': 4062, 'fledgling': 2221, 'lousy': 3538, 'dipping': 1635, 'basement': 509, 'since': 5306, 'tell': 5923, 'although': 239, \"fightin'\": 2152, 'concerned': 1266, 'cursed': 1442, 'dum-dum': 1803, 'rupert_murdoch:': 4984, 'him': 2793, 'multi-national': 3907, 'proud': 4622, 'tactful': 5857, \"industry's\": 3000, 'monroe': 3848, 'obama': 4103, 'macbeth': 3582, 'bell': 582, 'retired': 4875, 'ho-la': 2812, 'pin': 4397, 'crime': 1399, 'usual': 6330, 'adult': 140, 'duff': 1794, 'whoa': 6559, 'computer': 1261, \"s'okay\": 4992, 'fork': 2284, 'janette': 3123, 'poplar': 4497, 'marge_simpson:': 3648, 'barney': 489, 'sneering': 5432, 'sometimes': 5490, 'man_at_bar:': 3626, 'occupied': 4113, 'forehead': 2274, 'forgiven': 2281, 'leak': 3358, 'normals': 4065, 'species': 5531, 'minimum': 3779, 'malibu': 3616, 'snow': 5445, 'palmerston': 4253, 'nagurski': 3941, 'gasp': 2411, 'would': 6679, 'calls': 910, 'sympathizer': 5841, 'towed': 6132, 'honest': 2844, 'though:': 6024, 'perfume': 4341, 'wolfcastle': 6634, 'decision': 1525, 'slick': 5373, 'clone': 1166, 'lenford': 3386, 'evergreen': 1979, 'drown': 1779, 'los': 3518, \"can't\": 920, 'clothespins': 1174, 'ignorance': 2954, 'share': 5202, 'character': 1034, 'exits': 2015, 'mom': 3837, 'listens': 3465, 'erasers': 1958, 'bowling': 730, 'entirely': 1950, 'abcs': 81, 'gorgeous': 2519, 'thing:': 6001, 'popped': 4498, 'effervescent': 1867, 'heaven': 2736, \"bashir's\": 512, 'ingested': 3012, \"something's\": 5487, 'automobiles': 404, \"can'tcha\": 922, \"smokin'\": 5412, 'problems': 4590, 'dictator': 1607, \"doesn't\": 1691, 'toss': 6118, 'shag': 5189, 'stingy': 5675, 'cop': 1318, 'mic': 3741, 'gently': 2434, 'strains': 5708, 'pocket': 4459, 'brusque': 813, 'own': 4223, 'tv_announcer:': 6217, 'another': 286, 'friday': 2331, 'chuckle': 1115, 'pledge': 4449, 'pretentious_rat_lover:': 4561, 'other': 4195, 'rat-like': 4740, 'consider': 1286, 'scare': 5064, \"summer's\": 5770, 'stamp': 5608, 'wrap': 6687, 'off': 4123, 'surgeonnn': 5795, 'sealed': 5108, 'large': 3333, 'expose': 2029, 'transylvania': 6153, \"bettin'\": 603, 'thirty-nine': 6012, \"we've\": 6475, 'handwriting': 2656, 'warranty': 6438, 'meditative': 3713, 'edelbrock': 1854, 'vulnerable': 6394, 'repeated': 4849, 'orphan': 4193, 'completely': 1252, 'barkeeps': 487, 'somehow': 5479, 'formico:': 2287, 'portentous': 4503, 'fireball': 2183, 'herself': 2771, 'application': 318, 'moe-lennium': 3830, 'moon-bounce': 3856, 'dog': 1692, 'part-time': 4276, \"money's\": 3844, 'valley': 6338, 'innocence': 3019, 'cake': 900, 'grumbling': 2586, 'change': 1024, 'suspect': 5804, 'lately': 3341, 'shyly': 5276, 'youth': 6766, 'brick': 776, 'paying': 4312, 'augustus': 399, 'boat': 679, 'loneliness': 3500, 'approval': 324, 'line': 3446, 'ground': 2575, 'gossipy': 2521, 'stock': 5683, 'fact': 2057, 'woo': 6650, 'feast': 2112, 'generosity': 2425, 'bono': 694, \"president's\": 4549, 'trying': 6199, 'jackson': 3111, 'consoling': 1290, 'tonic': 6104, 'hairs': 2632, 'laughs': 3347, 'shortcomings': 5243, 'worldview': 6672, 'i-i': 2936, \"should've\": 5248, 'incriminating': 2989, 'lofty': 3496, 'selma': 5149, 'ow': 4220, 'number': 4089, 'guard': 2590, 'created': 1388, 'restroom': 4871, 'fustigation': 2380, 'cronies': 1405, 'spreads': 5575, 'invited': 3068, 'stolen': 5686, 'louie:': 3535, 'drapes': 1741, 'heroism': 2769, 'verticality': 6357, 'depressed': 1573, 'numeral': 4092, 'dilemma': 1624, 'taylor': 5899, 'factor': 2058, 'utility': 6333, 'selective': 5139, \"murphy's\": 3919, 'isotopes': 3086, 'prints': 4579, 'rekindle': 4808, 'turkey': 6207, 'envy-tations': 1954, 'indifference': 2995, 'countryman': 1349, 'told': 6089, 'bars': 495, 'skeptical': 5346, 'swan': 5812, 'belong': 586, 'sugar-me-do': 5763, 'teenage': 5914, 'nigeria': 4027, 'diablo': 1600, 'expired': 2024, 'mint': 3782, 'haikus': 2628, 'cow': 1363, 'notice': 4076, 'from': 2347, 'drunkening': 1783, 'plow': 4452, 'homer_': 2837, 'attention': 389, 'wally': 6418, 'bathroom': 516, 'gallon': 2393, 'bloodball': 663, 'occasional': 4110, 'suffering': 5760, \"starla's\": 5618, 'different': 1618, 'eurotrash': 1970, 'decided': 1524, 'grave': 2549, 'stevie': 5664, 'e-z': 1824, 'pride': 4570, 'bible': 608, 'glad': 2478, 'what-for': 6522, 'ken:': 3220, 'sometime': 5489, 'plenty': 4450, \"who'da\": 6555, 'symphonies': 5843, 'billion': 621, 'senator': 5154, 'pro': 4586, 'na': 3938, 'yesterday': 6739, 'die-hard': 1612, 'three': 6036, 'ding-a-ding-ding-ding-ding-ding-ding': 1630, 'rome': 4935, 'way': 6463, 'scared': 5065, 'train': 6145, 'brow': 808, 'jubilation': 3179, 'britannia': 789, 'fire_inspector:': 2182, 'judge_snyder:': 3181, 'charlie:': 1041, 'platinum': 4433, 'aristotle:': 341, \"brady's\": 745, 'above': 88, 'eaten': 1843, 'johnny': 3164, \"team's\": 5904, 'son-of-a': 5494, 'oak': 4102, \"dimwit's\": 1628, 'troll': 6180, 'pipes': 4406, 'means': 3701, \"others'\": 4199, 'leftover': 3373, 'site': 5333, 'guilt': 2596, 'spanish': 5522, 'belly-aching': 584, 'drummer': 1781, 'jumping': 3191, 'unbelievably': 6265, 'average-looking': 410, \"singin'\": 5313, 'absolutely': 92, 'trade': 6139, 'shakes': 5193, 'night-crawlers': 4030, 'sneaky': 5431, 'miserable': 3791, 'alley': 222, 'yee-ha': 6728, 'simp-sonnnn': 5300, 'blurbs': 677, 'pretends': 4560, 'terminated': 5941, 'p-k': 4229, 'everywhere': 1986, 'ocean': 4117, 'wudgy': 6702, 'chinua': 1090, 'root': 4943, \"'tis\": 22, 't-shirt': 5849, 'melodramatic': 3719, 'tough': 6126, 'geysir': 2452, 'spoken': 5560, 'fad': 2059, \"nick's\": 4023, 'stinger': 5674, 'kisses': 3265, 'start': 5622, 'elocution': 1901, 'packets': 4232, 'heavyset': 2739, 'heart-broken': 2728, 'hank_williams_jr': 2665, 'believe': 579, 'heave-ho': 2735, 'well': 6499, 'multiple': 3909, 'sudden': 5754, 'killer': 3247, 'adrift': 138, 'unearth': 6280, 'room': 4941, '6': 46, 'upgrade': 6314, 'spitting': 5556, \"wasn't\": 6447, 'myself': 3936, 'eminence': 1908, 'blood-thirsty': 662, 'grandiose': 2541, 'heals': 2718, 'ninety-eight': 4035, 'perking': 4345, 'extinguishers': 2034, 'limericks': 3438, '__semicolon__': 62, 'throws': 6046, 'navy': 3970, 'mini-beret': 3777, 'clearing': 1152, 'brine': 785, 'heh-heh': 2743, 'stan': 5610, 'low': 3549, 'springfield': 5576, 'whatchamacallit': 6525, 'gin-slingers': 2468, 'saw': 5056, 'donut-shaped': 1716, 'west': 6506, 'knives': 3277, 'grammys': 2537, 'uh-oh': 6253, 'medieval': 3712, 'precious': 4532, 'bar:': 476, 'ought': 4201, 'pleasant': 4444, 'sell': 5146, 'international': 3050, 'amber': 246, 'boozy': 709, '1895': 32, 'november': 4082, 'buddy': 821, 'wrong': 6700, 'mags': 3597, 'football': 2264, 'cheers': 1065, 'course': 1354, 'side:': 5283, 'excitement': 2004, 'model': 3820, 'wang': 6423, 'incognito': 2984, 'boo': 696, 'foot': 2263, 'personal': 4352, 'invite': 3067, 'raking': 4725, 'illegally': 2959, 'citizens': 1132, 'backgammon': 439, 'slobbo': 5380, 'wazoo': 6470, 'blooded': 664, 'ugh': 6246, 'bags': 453, 'diapers': 1604, 'choices': 1098, 'albeit': 202, 'edner': 1862, 'legal': 3376, 'buttocks': 875, 'giving': 2477, 'rug': 4966, 'bras': 756, 'seconds': 5119, 'laid': 3318, 'tons': 6107, 'no': 4042, 'bender:': 590, 'moe-clone:': 3828, 'snackie': 5420, \"i'd'a\": 2930, 'operation': 4179, 'swings': 5834, 'thirty-three': 6014, 'firing': 2187, 'hideous': 2779, '_montgomery_burns:': 70, 'pile': 4392, 'glass': 2480, 'audience': 397, 'scum': 5105, 'act': 114, 'dregs': 1753, 'heartless': 2730, 'sweeter': 5821, 'coincidentally': 1202, 'goes': 2500, 'hike': 2788, 'tune': 6206, 'ideas': 2949, 'amiable': 255, 'grammy': 2536, 'self-satisfied': 5144, 'asked': 362, 'ready': 4761, 'mailbox': 3602, 'horror': 2867, 'ladies': 3311, 'smuggled': 5417, 'sidelines': 5285, \"spaghetti-o's\": 5520, 'dean': 1514, 'corkscrew': 1321, 'massive': 3667, 'daaaaad': 1458, 'kim_basinger:': 3251, 'drop': 1774, '_babcock:': 63, 'hunger': 2911, 'picked': 4379, 'estranged': 1965, \"must've\": 3930, 'fine': 2172, 'spender': 5540, 'cooker': 1313, 'passes': 4286, 'squadron': 5582, 'attractive_woman_#1:': 394, 'journey': 3174, 'butts': 879, 'robot': 4922, 'stupidest': 5739, 'drinking:': 1763, 'eu': 1968, 'stained-glass': 5602, 'rhode': 4884, 'bring': 786, 'guns': 2607, 'intruding': 3061, \"brockman's\": 795, 'hippies': 2795, 'capitol': 935, 'de-scramble': 1504, 'flat': 2216, 'washer': 6444, 'points': 4471, 'graveyard': 2551, 'british': 790, 'possessions': 4508, 'moon': 3855, 'groans': 2571, 'funniest': 2370, 'twelve': 6222, 'patrons:': 4300, 'depressing': 1575, 'flack': 2203, 'louse': 3537, 'shower': 5259, 'th': 5959, 'philosophical': 4366, 'smelling': 5399, 'chocolate': 1095, 'yards': 6720, 'cuddling': 1429, 'go-near-': 2496, 'refinanced': 4795, 'extreme': 2037, 'loathe': 3485, 'march': 3643, 'training': 6147, 'in-in-in': 2977, \"battin'\": 519, 'authorized': 403, 'mirror': 3787, \"o'reilly\": 4101, 'supermodel': 5784, 'alien': 213, 'safely': 5006, 'opportunity': 4180, 'country-fried': 1348, 'boyhood': 742, '21': 36, 'guiltily': 2597, 'series': 5166, 'ruin': 4968, 'knocked': 3280, 'half-beer': 2636, 'prolonged': 4606, 'email': 1904, 'canoodling': 928, 'extract': 2036, 'barkeep': 486, 'zone': 6777, 'aerosmith': 149, 'avalanche': 406, 'admiring': 134, 'entrance': 1951, 'trunk': 6192, 'little_man:': 3471, 'menace': 3725, 'sign': 5294, 'grammar': 2535, 'aerospace': 150, 'dank': 1480, 'wieners': 6573, 'yeah': 6724, 'example': 1994, 'infiltrate': 3005, 'background': 440, 'human': 2906, 'plotz': 4451, 'poisoning': 4475, 'saint': 5016, 'sprawl': 5573, 'noose': 4059, 'clock': 1165, 'dutch': 1815, 'title': 6075, \"boy's\": 740, 'question': 4681, 'activity': 117, 'kang:': 3206, 'wolverines': 6636, 'please': 4445, 'health_inspector:': 2720, 'sinkhole': 5321, 'spoon': 5566, 'results': 4873, 'alter': 237, 'suspiciously': 5808, 'failure': 2063, \"tramp's\": 6150, 'knew': 3274, \"santa's\": 5035, 'reflected': 4796, 'gang': 2401, 'chug': 1118, 'wounds': 6684, 'insightful': 3028, 'bonfire': 693, 'tentative': 5937, 'weekend': 6490, 'truck': 6188, 'stretches': 5719, 'ticks': 6054, 'stopped': 5695, 'wa': 6397, 'don': 1705, 'hook': 2851, 'dropped': 1776, 'rather': 4741, \"raggin'\": 4710, 'rebuttal': 4772, 'frankly': 2312, 'powerful': 4521, 'shades': 5188, 'suds': 5757, 'mayan': 3681, 'made': 3587, 'works': 6667, 'nuked': 4088, 'toledo': 6090, 'revenge': 4879, 'weekly': 6491, 'dreams': 1749, 'fingers': 2176, 'space-time': 5518, 'pond': 4489, 'items': 3097, 'cage': 897, 'junkyard': 3195, 'joining': 3168, 'tigers': 6059, 'potato': 4512, 'decide:': 1523, 'absolut': 91, \"bartender's\": 502, 'shoulda': 5249, 'angry': 275, 'spiritual': 5551, 'kramer': 3298, 'heads': 2717, 'lennyy': 3391, 'might': 3757, \"puttin'\": 4665, '7g': 49, 'new': 4008, 'lotsa': 3527, 'sing-song': 5310, 'understanding': 6275, 'drawer': 1743, 'cent': 1001, 'mushy': 3923, 'aziz': 426, 'bothered': 716, 'address': 126, 'sitting': 5336, 'helen': 2745, 'you': 6748, 'crawl': 1382, 'bucks': 818, 'salary': 5018, 'standards': 5612, 'lorre': 3517, 'filled': 2162, 'pathetic': 4293, 'exchanged': 2002, 'jeff_gordon:': 3136, 'blackjack': 637, 'howya': 2895, 'mouse': 3882, 'hyahh': 2924, 'scrutinizing': 5103, 'sixteen': 5340, 'shopping': 5239, 'stirrers': 5681, \"carl's\": 954, 'affects': 153, 'cockroaches': 1193, 'fair': 2066, 'poetry': 4464, 'self-esteem': 5142, 'smoothly': 5415, 'frozen': 2351, 'disgrace': 1656, 'favorite': 2106, 'sec_agent_#2:': 5117, 'somebody': 5476, 'shesh': 5222, \"aren't\": 334, 'neighborhood': 3992, 'passenger': 4285, 'plants': 4429, 'brave': 759, 'compressions': 1259, 'afford': 154, 'fry': 2354, 'winner': 6605, \"'er\": 9, 'clap': 1142, 'up-bup-bup': 6311, 'hoax': 2815, 'tidy': 6055, 'sustain': 5809, 'grienke': 2562, \"hole'\": 2823, 'meatpies': 3706, 'old': 4146, 'brother-in-law': 804, 'wage': 6401, 'getup': 2450, 'art': 352, 'sob': 5454, 'move': 3886, 'fired': 2184, 'harvesting': 2689, 'spotting': 5571, \"what'sa\": 6521, 'merchants': 3729, 'contemporary': 1298, 'betcha': 598, 'blank': 642, 'or': 4184, 'strong': 5727, 'quimby_#2:': 4688, 'world': 6668, 'dazed': 1502, 'bob': 680, 'country': 1347, 'twelveball': 6224, 'newest': 4010, 'squashing': 5584, 'hafta': 2626, 'dint': 1634, 'limber': 3436, 'cartoons': 967, 'denver': 1566, 'militia': 3766, 'prohibit': 4604, 'ninth': 4039, 'remorseful': 4834, 'song': 5495, 'slab': 5360, 'ruby-studded': 4963, 'soot': 5499, 'grind': 2569, 'finding': 2171, 's-a-u-r-c-e': 4994, 'nelson': 3997, 'hems': 2761, 'band': 466, 'mouth': 3884, 'homer_doubles:': 2838, 'semi-imported': 5151, 'hobo': 2816, 'lame': 3320, 'grinch': 2568, 'price': 4567, 'land': 3322, 'christmas': 1110, 'excuses': 2008, 'hole': 2822, 'photographer': 4372, 'back': 437, 'courthouse': 1357, 'caused': 988, 'relationship': 4809, 'loud': 3532, 'jamaican': 3119, 'adjourned': 129, 'washed': 6443, 'neck': 3979, 'dough': 1730, 'insulin': 3039, 'barflies': 483, 'reaction': 4752, 'renee': 4837, 'crank': 1377, 'horses': 2869, 'splendid': 5559, 'easy-going': 1840, 'foodie': 2259, 'mac-who': 3580, 'tommy': 6097, 'an': 260, 'billiard': 619, 'social': 5460, 'low-life': 3551, 'fbi_agent:': 2109, 'distract': 1674, 'frankenstein': 2310, 'the_edge:': 5974, 'stuck': 5731, \"feelin's\": 2118, 'yammering': 6717, 'eww': 1990, 'lenses': 3393, 'l': 3304, 'irish': 3075, 'cooking': 1315, 'wraps': 6689, 'blowfish': 668, 'finest': 2174, \"drexel's\": 1757, \"when's\": 6533, 'usually': 6331, 'kodos:': 3291, 'chinese': 1088, 'neat': 3976, 'dan': 1471, 'arguing': 337, 'after': 160, 'refresh': 4797, 'hooked': 2852, 'lighter': 3430, 'perfected': 4340, 'ruuuule': 4989, 'mumbling': 3911, 'hillary': 2790, 'fiction': 2143, 'pilsner-pusher': 4396, 'ran': 4730, 'germans': 2438, 'puke-holes': 4638, 'driving': 1771, 'lib': 3408, 'ingrates': 3013, 'woulda': 6680, 'ad': 122, 'additional-seating-capacity': 125, 'ears': 1832, 'walther': 6420, 'one-hour': 4160, 'reading:': 4759, 'szyslak': 5848, 'rockers': 4924, 'thanks': 5966, 'korea': 3296, 'indeed': 2991, 'beer:': 560, 'go': 2495, 'horrors': 2868, 'blamed': 641, 'starving': 5631, 'pepper': 4331, 'ehhh': 1873, 'perch': 4338, 'joint': 3169, 'open': 4175, 'repay': 4848, 'smile:': 5403, 'starlets': 5620, 'chuck': 1114, 'sugar-free': 5762, 'ambrosia': 249, 'cheese': 1067, 'facebook': 2053, 'huge': 2900, 'actress': 120, 'phasing': 4363, 'dawning': 1499, 'rueful': 4965, \"shan't\": 5199, 'yet': 6741, 'i/you': 2940, 'diet': 1615, 'swill': 5830, 'stamps': 5609, 'lives': 3475, 'securities': 5124, 'sunday': 5772, 'kenny': 3222, 'malted': 3618, 'para': 4264, 'logos': 3498, 'life-extension': 3417, 'tall': 5874, 'el': 1888, \"i-i'm\": 2938, 'engraved': 1934, 'near': 3974, 'andrew': 270, 'there': 5988, 'annoying': 282, 'wobble': 6630, 'stay-puft': 5642, 'shareholder': 5203, 'punches': 4648, 'aging': 178, 'beaumont': 539, 'princess': 4575, 'terrible': 5943, 'thought_bubble_lenny:': 6027, 'furiously': 2373, 'kinda': 3253, 'cushions': 1444, 'grin': 2567, 'pitch': 4410, 'joined': 3167, 'irishman': 3076, 'breathless': 771, 'taxi': 5898, 'car': 940, 'fustigate': 2379, 'arrested:': 349, 'nuts': 4095, 'animals': 277, 'making': 3611, \"ridin'\": 4896, \"i'm\": 2932, 'gordon': 2517, 'pay': 4308, 'gosh': 2520, 'jack_larson:': 3106, 'loboto-moth': 3486, 'patriotic': 4296, 'music': 3924, 'brother': 803, 'rom': 4932, 'squirrel': 5590, 'calendars': 903, 'slipped': 5378, 'the_rich_texan:': 5975, 'refund': 4801, 'jail': 3116, 'plaintive': 4419, 'seat': 5113, '2': 35, 'fat': 2094, 'scores': 5086, 'sponsoring': 5564, 'measure': 3704, 'lee': 3371, 'clothes': 1173, 'stein-stengel-': 5657, 'poor': 4492, \"kids'\": 3243, 'studio': 5734, 'can': 919, 'declare': 1528, \"'morning\": 14, 'writer:': 6695, 'duffed': 1797, 'every': 1980, 'sheepish': 5215, \"how're\": 2892, 'customers': 1446, 'combination': 1219, 'lipo': 3451, \"usin'\": 6328, 'barflies:': 484, 'sticking': 5669, 'walk': 6411, 'pursue': 4655, 'house': 2886, 'recorder': 4784, 'tow': 6128, 'all-all-all': 217, 'sigh': 5290, 'stand': 5611, 'flash-fry': 2213, 'seething': 5137, 'detective_homer_simpson:': 1593, 'freed': 2320, 'damage': 1465, 'foil': 2246, 'elite': 1897, 'clothespins:': 1175, 'will': 6586, 'renew': 4840, 'vehicle': 6348, 'rainbows': 4717, 'solved': 5473, 'pas': 4282, 'singer': 5311, 'tire': 6073, \"s'cuse\": 4991, 'cooler': 1317, 'undermine': 6272, 'courage': 1353, 'cricket': 1397, 'kirk_van_houten:': 3260, 'simpsons': 5304, 'advance': 142, 'situation': 5337, 'sleeping': 5368, 'brag': 746, 'dark': 1483, 'attracted': 391, \"don't\": 1706, 'cutie': 1451, 'twenty': 6226, 'handsome': 2655, 'matter-of-fact': 3674, 'mexican_duffman:': 3738, 'earrings': 1831, 'politicians': 4485, 'skinheads': 5351, 'santa': 5034, 'bauer': 520, 'sarcastic': 5038, 'sitar': 5331, 'swishkabobs': 5836, 'alva': 240, 'sharps': 5208}\n"
     ]
    }
   ],
   "source": [
    "# debug helper \n",
    "\n",
    "text = helper.load_data(data_dir)\n",
    "\n",
    "# Ignore notice, since we don't use it for analysing the data\n",
    "text = text[81:]\n",
    "\n",
    "token_dict = token_lookup()\n",
    "for key, token in token_dict.items():\n",
    "    text = text.replace(key, ' {} '.format(token))\n",
    "\n",
    "text = text.lower()\n",
    "text = text.split()\n",
    "\n",
    "vocab_to_int, int_to_vocab = create_lookup_tables(text)\n",
    "\n",
    "print(vocab_to_int)"
   ]
  },
  {
   "cell_type": "code",
   "execution_count": 8,
   "metadata": {
    "collapsed": false
   },
   "outputs": [],
   "source": [
    "import pickle\n",
    "int_text = [vocab_to_int[word] for word in text]\n",
    "pickle.dump((int_text, vocab_to_int, int_to_vocab, token_dict), open('preprocess.p', 'wb'))"
   ]
  },
  {
   "cell_type": "code",
   "execution_count": 9,
   "metadata": {
    "collapsed": false,
    "deletable": true,
    "editable": true
   },
   "outputs": [],
   "source": [
    "\"\"\"\n",
    "DON'T MODIFY ANYTHING IN THIS CELL\n",
    "\"\"\"\n",
    "# Preprocess Training, Validation, and Testing Data\n",
    "helper.preprocess_and_save_data(data_dir, token_lookup, create_lookup_tables)"
   ]
  },
  {
   "cell_type": "markdown",
   "metadata": {
    "deletable": true,
    "editable": true
   },
   "source": [
    "# Check Point\n",
    "This is your first checkpoint. If you ever decide to come back to this notebook or have to restart the notebook, you can start from here. The preprocessed data has been saved to disk."
   ]
  },
  {
   "cell_type": "code",
   "execution_count": 10,
   "metadata": {
    "collapsed": false,
    "deletable": true,
    "editable": true
   },
   "outputs": [],
   "source": [
    "\"\"\"\n",
    "DON'T MODIFY ANYTHING IN THIS CELL\n",
    "\"\"\"\n",
    "import helper\n",
    "import numpy as np\n",
    "import problem_unittests as tests\n",
    "\n",
    "int_text, vocab_to_int, int_to_vocab, token_dict = helper.load_preprocess()"
   ]
  },
  {
   "cell_type": "markdown",
   "metadata": {
    "deletable": true,
    "editable": true
   },
   "source": [
    "## Build the Neural Network\n",
    "You'll build the components necessary to build a RNN by implementing the following functions below:\n",
    "- get_inputs\n",
    "- get_init_cell\n",
    "- get_embed\n",
    "- build_rnn\n",
    "- build_nn\n",
    "- get_batches\n",
    "\n",
    "### Check the Version of TensorFlow and Access to GPU"
   ]
  },
  {
   "cell_type": "code",
   "execution_count": 11,
   "metadata": {
    "collapsed": false
   },
   "outputs": [
    {
     "name": "stdout",
     "output_type": "stream",
     "text": [
      "TensorFlow Version: 1.0.0\n"
     ]
    },
    {
     "name": "stderr",
     "output_type": "stream",
     "text": [
      "C:\\Users\\Andreas\\AppData\\Local\\conda\\conda\\envs\\dl\\lib\\site-packages\\ipykernel\\__main__.py:14: UserWarning: No GPU found. Please use a GPU to train your neural network.\n"
     ]
    }
   ],
   "source": [
    "\"\"\"\n",
    "DON'T MODIFY ANYTHING IN THIS CELL\n",
    "\"\"\"\n",
    "from distutils.version import LooseVersion\n",
    "import warnings\n",
    "import tensorflow as tf\n",
    "\n",
    "# Check TensorFlow Version\n",
    "assert LooseVersion(tf.__version__) >= LooseVersion('1.0'), 'Please use TensorFlow version 1.0 or newer'\n",
    "print('TensorFlow Version: {}'.format(tf.__version__))\n",
    "\n",
    "# Check for a GPU\n",
    "if not tf.test.gpu_device_name():\n",
    "    warnings.warn('No GPU found. Please use a GPU to train your neural network.')\n",
    "else:\n",
    "    print('Default GPU Device: {}'.format(tf.test.gpu_device_name()))"
   ]
  },
  {
   "cell_type": "markdown",
   "metadata": {},
   "source": [
    "### Input\n",
    "Implement the `get_inputs()` function to create TF Placeholders for the Neural Network.  It should create the following placeholders:\n",
    "- Input text placeholder named \"input\" using the [TF Placeholder](https://www.tensorflow.org/api_docs/python/tf/placeholder) `name` parameter.\n",
    "- Targets placeholder\n",
    "- Learning Rate placeholder\n",
    "\n",
    "Return the placeholders in the following the tuple `(Input, Targets, LearingRate)`"
   ]
  },
  {
   "cell_type": "code",
   "execution_count": 12,
   "metadata": {
    "collapsed": false
   },
   "outputs": [],
   "source": [
    "def get_inputs():\n",
    "    \"\"\"\n",
    "    Create TF Placeholders for input, targets, and learning rate.\n",
    "    :return: Tuple (inputs, targets, learning rate)\n",
    "    \"\"\"    \n",
    "    inputs = tf.placeholder(tf.int32, [None, None], name='input')\n",
    "    targets = tf.placeholder(tf.int32, [None, None], name='label')\n",
    "    learning_rate = tf.placeholder(tf.float32, name='keep_prob')\n",
    "\n",
    "    return inputs, targets, learning_rate\n",
    "\n",
    "#input_data, targets, lr = get_inputs()\n",
    "#print((input_data.__doc__))"
   ]
  },
  {
   "cell_type": "code",
   "execution_count": 13,
   "metadata": {
    "collapsed": false,
    "deletable": true,
    "editable": true
   },
   "outputs": [
    {
     "name": "stdout",
     "output_type": "stream",
     "text": [
      "Tests Passed\n"
     ]
    }
   ],
   "source": [
    "\"\"\"\n",
    "DON'T MODIFY ANYTHING IN THIS CELL THAT IS BELOW THIS LINE\n",
    "\"\"\"\n",
    "tests.test_get_inputs(get_inputs)"
   ]
  },
  {
   "cell_type": "markdown",
   "metadata": {
    "deletable": true,
    "editable": true
   },
   "source": [
    "### Build RNN Cell and Initialize\n",
    "Stack one or more [`BasicLSTMCells`](https://www.tensorflow.org/api_docs/python/tf/contrib/rnn/BasicLSTMCell) in a [`MultiRNNCell`](https://www.tensorflow.org/api_docs/python/tf/contrib/rnn/MultiRNNCell).\n",
    "- The Rnn size should be set using `rnn_size`\n",
    "- Initalize Cell State using the MultiRNNCell's [`zero_state()`](https://www.tensorflow.org/api_docs/python/tf/contrib/rnn/MultiRNNCell#zero_state) function\n",
    "    - Apply the name \"initial_state\" to the initial state using [`tf.identity()`](https://www.tensorflow.org/api_docs/python/tf/identity)\n",
    "\n",
    "Return the cell and initial state in the following tuple `(Cell, InitialState)`"
   ]
  },
  {
   "cell_type": "code",
   "execution_count": 14,
   "metadata": {
    "collapsed": false
   },
   "outputs": [],
   "source": [
    "def get_init_cell(batch_size, rnn_size):\n",
    "    \"\"\"\n",
    "    Create an RNN Cell and initialize it.\n",
    "    :param batch_size: Size of batches\n",
    "    :param rnn_size: Size of RNNs\n",
    "    :return: Tuple (cell, initial_state)\n",
    "    \"\"\"\n",
    "    lstm_layers = 2\n",
    "    \n",
    "    # Your basic LSTM cell\n",
    "    lstm = tf.contrib.rnn.BasicLSTMCell(rnn_size)\n",
    "    \n",
    "    # Add dropout to the cell\n",
    "    #drop = tf.contrib.rnn.DropoutWrapper(lstm, output_keep_prob=keep_prob)\n",
    "    drop = lstm\n",
    "    \n",
    "    # Stack up multiple LSTM layers, for deep learning\n",
    "    cell = tf.contrib.rnn.MultiRNNCell([drop] * lstm_layers)\n",
    "    \n",
    "    # Getting an initial state of all zeros\n",
    "    initial_state = cell.zero_state(batch_size, tf.float32)\n",
    "    \n",
    "    initial_state = tf.identity(initial_state,'initial_state')\n",
    "    \n",
    "    return cell, initial_state\n",
    "\n"
   ]
  },
  {
   "cell_type": "code",
   "execution_count": 15,
   "metadata": {
    "collapsed": false,
    "deletable": true,
    "editable": true
   },
   "outputs": [
    {
     "name": "stdout",
     "output_type": "stream",
     "text": [
      "Tests Passed\n"
     ]
    }
   ],
   "source": [
    "\"\"\"\n",
    "DON'T MODIFY ANYTHING IN THIS CELL THAT IS BELOW THIS LINE\n",
    "\"\"\"\n",
    "tests.test_get_init_cell(get_init_cell)"
   ]
  },
  {
   "cell_type": "markdown",
   "metadata": {
    "deletable": true,
    "editable": true
   },
   "source": [
    "### Word Embedding\n",
    "Apply embedding to `input_data` using TensorFlow.  Return the embedded sequence."
   ]
  },
  {
   "cell_type": "code",
   "execution_count": 16,
   "metadata": {
    "collapsed": false
   },
   "outputs": [],
   "source": [
    "def get_embed(input_data, vocab_size, embed_dim):\n",
    "    \"\"\"\n",
    "    Create embedding for <input_data>.\n",
    "    :param input_data: TF placeholder for text input.\n",
    "    :param vocab_size: Number of words in vocabulary.\n",
    "    :param embed_dim: Number of embedding dimensions\n",
    "    :return: Embedded input.\n",
    "    \"\"\"\n",
    "    print(input_data)\n",
    "    embedding = tf.Variable(tf.random_uniform((vocab_size, embed_dim), -1, 1),name='embedding_weights')\n",
    "    print(embedding)\n",
    "    embed = tf.nn.embedding_lookup(embedding, input_data)  \n",
    "    print(embed)\n",
    "\n",
    "    return embed\n"
   ]
  },
  {
   "cell_type": "code",
   "execution_count": 17,
   "metadata": {
    "collapsed": false,
    "deletable": true,
    "editable": true
   },
   "outputs": [
    {
     "name": "stdout",
     "output_type": "stream",
     "text": [
      "Tensor(\"Placeholder:0\", shape=(50, 5), dtype=int32)\n",
      "Tensor(\"embedding_weights/read:0\", shape=(27, 256), dtype=float32)\n",
      "Tensor(\"embedding_lookup:0\", shape=(50, 5, 256), dtype=float32)\n",
      "Tests Passed\n"
     ]
    }
   ],
   "source": [
    "\"\"\"\n",
    "DON'T MODIFY ANYTHING IN THIS CELL THAT IS BELOW THIS LINE\n",
    "\"\"\"\n",
    "tests.test_get_embed(get_embed)"
   ]
  },
  {
   "cell_type": "markdown",
   "metadata": {
    "deletable": true,
    "editable": true
   },
   "source": [
    "### Build RNN\n",
    "You created a RNN Cell in the `get_init_cell()` function.  Time to use the cell to create a RNN.\n",
    "- Build the RNN using the [`tf.nn.dynamic_rnn()`](https://www.tensorflow.org/api_docs/python/tf/nn/dynamic_rnn)\n",
    " - Apply the name \"final_state\" to the final state using [`tf.identity()`](https://www.tensorflow.org/api_docs/python/tf/identity)\n",
    "\n",
    "Return the outputs and final_state state in the following tuple `(Outputs, FinalState)` "
   ]
  },
  {
   "cell_type": "code",
   "execution_count": 18,
   "metadata": {
    "collapsed": false,
    "deletable": true,
    "editable": true
   },
   "outputs": [
    {
     "name": "stdout",
     "output_type": "stream",
     "text": [
      "Tensor(\"Placeholder:0\", shape=(?, ?, 256), dtype=float32)\n",
      "Tensor(\"final_state:0\", shape=(2, 2, ?, 256), dtype=float32)\n",
      "Tensor(\"rnn/transpose:0\", shape=(?, ?, 256), dtype=float32)\n",
      "Tests Passed\n"
     ]
    }
   ],
   "source": [
    "def build_rnn(cell, inputs):\n",
    "    \"\"\"\n",
    "    Create a RNN using a RNN Cell\n",
    "    :param cell: RNN Cell\n",
    "    :param inputs: Input text data\n",
    "    :return: Tuple (Outputs, Final State)\n",
    "    \"\"\"\n",
    "    print(inputs)\n",
    "    \n",
    "    outputs, final_state = tf.nn.dynamic_rnn(cell, inputs,\n",
    "                                             dtype = tf.float32\n",
    "                                             #initial_state=initial_state\n",
    "                                            )\n",
    "    \n",
    "    final_state = tf.identity(final_state,'final_state')\n",
    "    print(final_state)\n",
    "    print(outputs)\n",
    "    return outputs, final_state\n",
    "\n",
    "\n",
    "\"\"\"\n",
    "DON'T MODIFY ANYTHING IN THIS CELL THAT IS BELOW THIS LINE\n",
    "\"\"\"\n",
    "tests.test_build_rnn(build_rnn)"
   ]
  },
  {
   "cell_type": "markdown",
   "metadata": {
    "deletable": true,
    "editable": true
   },
   "source": [
    "### Build the Neural Network\n",
    "Apply the functions you implemented above to:\n",
    "- Apply embedding to `input_data` using your `get_embed(input_data, vocab_size, embed_dim)` function.\n",
    "- Build RNN using `cell` and your `build_rnn(cell, inputs)` function.\n",
    "- Apply a fully connected layer with a linear activation and `vocab_size` as the number of outputs.\n",
    "\n",
    "Return the logits and final state in the following tuple (Logits, FinalState) "
   ]
  },
  {
   "cell_type": "code",
   "execution_count": 19,
   "metadata": {
    "collapsed": false,
    "deletable": true,
    "editable": true
   },
   "outputs": [
    {
     "name": "stdout",
     "output_type": "stream",
     "text": [
      "Tensor(\"Placeholder:0\", shape=(128, 5), dtype=int32)\n",
      "Tensor(\"embedding_weights/read:0\", shape=(27, 256), dtype=float32)\n",
      "Tensor(\"embedding_lookup:0\", shape=(128, 5, 256), dtype=float32)\n",
      "Tensor(\"embedding_lookup:0\", shape=(128, 5, 256), dtype=float32)\n",
      "Tensor(\"final_state:0\", shape=(2, 2, ?, 256), dtype=float32)\n",
      "Tensor(\"rnn/transpose:0\", shape=(128, 5, 256), dtype=float32)\n",
      "Tests Passed\n"
     ]
    }
   ],
   "source": [
    "def build_nn(cell, rnn_size, input_data, vocab_size):\n",
    "    \"\"\"\n",
    "    Build part of the neural network\n",
    "    :param cell: RNN cell\n",
    "    :param rnn_size: Size of rnns\n",
    "    :param input_data: Input data\n",
    "    :param vocab_size: Vocabulary size\n",
    "    :return: Tuple (Logits, FinalState)\n",
    "    \"\"\"\n",
    "    \n",
    "    embed = get_embed(input_data, vocab_size, rnn_size)\n",
    "    outputs, final_state = build_rnn(cell, embed)\n",
    "\n",
    "    logits = tf.contrib.layers.fully_connected(\n",
    "        outputs, \n",
    "        num_outputs=vocab_size,\n",
    "        weights_initializer=tf.truncated_normal_initializer(stddev=0.01)\n",
    "        )\n",
    "\n",
    "    return logits, final_state\n",
    "\n",
    "\n",
    "\"\"\"\n",
    "DON'T MODIFY ANYTHING IN THIS CELL THAT IS BELOW THIS LINE\n",
    "\"\"\"\n",
    "tests.test_build_nn(build_nn)"
   ]
  },
  {
   "cell_type": "markdown",
   "metadata": {
    "deletable": true,
    "editable": true
   },
   "source": [
    "### Batches\n",
    "Implement `get_batches` to create batches of input and targets using `int_text`.  The batches should be a Numpy array with the shape `(number of batches, 2, batch size, sequence length)`. Each batch contains two elements:\n",
    "- The first element is a single batch of **input** with the shape `[batch size, sequence length]`\n",
    "- The second element is a single batch of **targets** with the shape `[batch size, sequence length]`\n",
    "\n",
    "If you can't fill the last batch with enough data, drop the last batch.\n",
    "\n",
    "For exmple, `get_batches([1, 2, 3, 4, 5, 6, 7, 8, 9, 10, 11, 12, 13, 14, 15], 2, 3)` would return a Numpy array of the following:\n",
    "```\n",
    "[\n",
    "  # First Batch\n",
    "  [\n",
    "    # Batch of Input\n",
    "    [[ 1  2  3], [ 7  8  9]],\n",
    "    # Batch of targets\n",
    "    [[ 2  3  4], [ 8  9 10]]\n",
    "  ],\n",
    " \n",
    "  # Second Batch\n",
    "  [\n",
    "    # Batch of Input\n",
    "    [[ 4  5  6], [10 11 12]],\n",
    "    # Batch of targets\n",
    "    [[ 5  6  7], [11 12 13]]\n",
    "  ]\n",
    "]\n",
    "```"
   ]
  },
  {
   "cell_type": "code",
   "execution_count": 20,
   "metadata": {
    "collapsed": false,
    "deletable": true,
    "editable": true
   },
   "outputs": [
    {
     "name": "stdout",
     "output_type": "stream",
     "text": [
      "seq_length : 5\n",
      "single_batch_len : 4994\n",
      "batch_size : 128\n",
      "n_batches : 7\n",
      "[4, 0, 2, 3, 5, 6, 1]\n",
      "Tests Passed\n"
     ]
    }
   ],
   "source": [
    "def get_batches(int_text, batch_size, seq_length, batch_distance = None):\n",
    "    \"\"\"\n",
    "    Return batches of input and target\n",
    "    :param int_text: Text with the words replaced by their ids\n",
    "    :param batch_size: The size of batch\n",
    "    :param seq_length: The length of sequence\n",
    "    :return: Batches as a Numpy array\n",
    "    \"\"\"\n",
    "    x = int_text[:-1]\n",
    "    y = int_text[1:]\n",
    "    \n",
    "    print('{} : {}'.format('seq_length',seq_length))\n",
    "    single_batch_len = len(x)-seq_length\n",
    "    print('{} : {}'.format('single_batch_len',single_batch_len))\n",
    "    single_batch = np.empty([2,single_batch_len,seq_length])\n",
    "    \n",
    "    for ii in range(single_batch_len):\n",
    "        single_batch [0,ii] = x[ii:ii+seq_length]\n",
    "        single_batch [1,ii] = y[ii:ii+seq_length]\n",
    "    \n",
    "    \n",
    "    ###################################################################\n",
    "    #\n",
    "    #\n",
    "    #  Question: would it be better to set batch_distance to 1 ?\n",
    "    #\n",
    "    #\n",
    "    ###################################################################\n",
    "\n",
    "    if batch_distance == None:\n",
    "        batch_distance = seq_length # would be 1 better?\n",
    "        \n",
    "    n_batches = single_batch_len//batch_size//batch_distance\n",
    "    result = np.empty([n_batches,2,batch_size,seq_length])\n",
    "\n",
    "    print('{} : {}'.format('batch_size',batch_size))\n",
    "    print('{} : {}'.format('n_batches',n_batches))\n",
    "    \n",
    "    batch_range = (list(range(n_batches)))\n",
    "    \n",
    "    from random import shuffle\n",
    "    shuffle(batch_range)\n",
    "    print(batch_range)\n",
    "\n",
    "    for ii in range(n_batches): #range(0, len(x), batch_size):\n",
    "        iii = ii * batch_size * batch_distance\n",
    "        result[ii] = single_batch[:,iii:iii+batch_size]\n",
    "\n",
    "    return result\n",
    "\n",
    "\n",
    "\"\"\"\n",
    "DON'T MODIFY ANYTHING IN THIS CELL THAT IS BELOW THIS LINE\n",
    "\"\"\"\n",
    "tests.test_get_batches(get_batches)"
   ]
  },
  {
   "cell_type": "markdown",
   "metadata": {
    "deletable": true,
    "editable": true
   },
   "source": [
    "## Neural Network Training\n",
    "### Hyperparameters\n",
    "Tune the following parameters:\n",
    "\n",
    "- Set `num_epochs` to the number of epochs.\n",
    "- Set `batch_size` to the batch size.\n",
    "- Set `rnn_size` to the size of the RNNs.\n",
    "- Set `seq_length` to the length of sequence.\n",
    "- Set `learning_rate` to the learning rate.\n",
    "- Set `show_every_n_batches` to the number of batches the neural network should print progress."
   ]
  },
  {
   "cell_type": "code",
   "execution_count": 21,
   "metadata": {
    "collapsed": true
   },
   "outputs": [],
   "source": [
    "###### Number of Epochs\n",
    "num_epochs = 1\n",
    "# Batch Size\n",
    "batch_size = 127*2**3 # Primfaktoren von 69088: 2, 2, 2, 2, 2, 17, 127\n",
    "# RNN Size\n",
    "rnn_size = 128\n",
    "# Sequence Length\n",
    "seq_length = 17\n",
    "# Learning Rate\n",
    "learning_rate = 0.001\n",
    "# Show stats for every n number of batches\n",
    "show_every_n_batches = 1\n",
    "\n",
    "\"\"\"\n",
    "DON'T MODIFY ANYTHING IN THIS CELL THAT IS BELOW THIS LINE\n",
    "\"\"\"\n",
    "save_dir = './save'"
   ]
  },
  {
   "cell_type": "markdown",
   "metadata": {
    "deletable": true,
    "editable": true
   },
   "source": [
    "### Build the Graph\n",
    "Build the graph using the neural network you implemented."
   ]
  },
  {
   "cell_type": "code",
   "execution_count": 22,
   "metadata": {
    "collapsed": false,
    "deletable": true,
    "editable": true
   },
   "outputs": [
    {
     "name": "stdout",
     "output_type": "stream",
     "text": [
      "Tensor(\"input:0\", shape=(?, ?), dtype=int32)\n",
      "Tensor(\"embedding_weights/read:0\", shape=(6781, 128), dtype=float32)\n",
      "Tensor(\"embedding_lookup:0\", shape=(?, ?, 128), dtype=float32)\n",
      "Tensor(\"embedding_lookup:0\", shape=(?, ?, 128), dtype=float32)\n",
      "Tensor(\"final_state:0\", shape=(2, 2, ?, 128), dtype=float32)\n",
      "Tensor(\"rnn/transpose:0\", shape=(?, ?, 128), dtype=float32)\n"
     ]
    }
   ],
   "source": [
    "\"\"\"\n",
    "DON'T MODIFY ANYTHING IN THIS CELL\n",
    "\"\"\"\n",
    "from tensorflow.contrib import seq2seq\n",
    "\n",
    "train_graph = tf.Graph()\n",
    "with train_graph.as_default():\n",
    "    vocab_size = len(int_to_vocab)\n",
    "    input_text, targets, lr = get_inputs()\n",
    "    input_data_shape = tf.shape(input_text)\n",
    "    cell, initial_state = get_init_cell(input_data_shape[0], rnn_size)\n",
    "    logits, final_state = build_nn(cell, rnn_size, input_text, vocab_size)\n",
    "\n",
    "    # Probabilities for generating words\n",
    "    probs = tf.nn.softmax(logits, name='probs')\n",
    "\n",
    "    # Loss function\n",
    "    cost = seq2seq.sequence_loss(\n",
    "        logits,\n",
    "        targets,\n",
    "        tf.ones([input_data_shape[0], input_data_shape[1]]))\n",
    "\n",
    "    # Optimizer\n",
    "    optimizer = tf.train.AdamOptimizer(lr)\n",
    "\n",
    "    # Gradient Clipping\n",
    "    gradients = optimizer.compute_gradients(cost)\n",
    "    capped_gradients = [(tf.clip_by_value(grad, -1., 1.), var) for grad, var in gradients]\n",
    "    train_op = optimizer.apply_gradients(capped_gradients)"
   ]
  },
  {
   "cell_type": "markdown",
   "metadata": {
    "deletable": true,
    "editable": true
   },
   "source": [
    "## Train\n",
    "Train the neural network on the preprocessed data.  If you have a hard time getting a good loss, check the [forms](https://discussions.udacity.com/) to see if anyone is having the same problem."
   ]
  },
  {
   "cell_type": "code",
   "execution_count": 35,
   "metadata": {
    "collapsed": false,
    "deletable": true,
    "editable": true
   },
   "outputs": [],
   "source": [
    "\"\"\"\n",
    "DON'T MODIFY ANYTHING IN THIS CELL\n",
    "\n",
    "\n",
    "batches = get_batches(int_text, batch_size, seq_length)\n",
    "\n",
    "with tf.Session(graph=train_graph) as sess:\n",
    "    sess.run(tf.global_variables_initializer())\n",
    "\n",
    "    for epoch_i in range(num_epochs):\n",
    "        state = sess.run(initial_state, {input_text: batches[0][0]})\n",
    "\n",
    "        for batch_i, (x, y) in enumerate(batches):\n",
    "            feed = {\n",
    "                input_text: x,\n",
    "                targets: y,\n",
    "                initial_state: state,\n",
    "                lr: learning_rate}\n",
    "            train_loss, state, _ = sess.run([cost, final_state, train_op], feed)\n",
    "\n",
    "            # Show every <show_every_n_batches> batches\n",
    "            if (epoch_i * len(batches) + batch_i) % show_every_n_batches == 0:\n",
    "                print('Epoch {:>3} Batch {:>4}/{}   train_loss = {:.3f}'.format(\n",
    "                    epoch_i,\n",
    "                    batch_i,\n",
    "                    len(batches),\n",
    "                    train_loss))\n",
    "\n",
    "    # Save Model\n",
    "    saver = tf.train.Saver()\n",
    "    saver.save(sess, save_dir)\n",
    "    print('Model Trained and Saved')\n",
    "        \n",
    "\"\"\";"
   ]
  },
  {
   "cell_type": "code",
   "execution_count": null,
   "metadata": {
    "collapsed": false
   },
   "outputs": [
    {
     "name": "stdout",
     "output_type": "stream",
     "text": [
      "seq_length : 17\n",
      "single_batch_len : 69083\n",
      "batch_size : 1016\n",
      "n_batches : 3\n",
      "[0, 1, 2]\n",
      "Initialised Model...\n",
      "Epoch   0 Batch    0/3   train_loss = 8.822\n",
      "Epoch   0 Batch    1/3   train_loss = 8.820\n",
      "Epoch   0 Batch    2/3   train_loss = 8.818\n",
      "Model Trained and Saved\n",
      "Epoch   1 Batch    0/3   train_loss = 8.809\n",
      "Epoch   1 Batch    1/3   train_loss = 8.802\n",
      "Epoch   1 Batch    2/3   train_loss = 8.799\n",
      "Model Trained and Saved\n",
      "Epoch   2 Batch    0/3   train_loss = 8.771\n",
      "Epoch   2 Batch    1/3   train_loss = 8.745\n",
      "Epoch   2 Batch    2/3   train_loss = 8.734\n",
      "Model Trained and Saved\n",
      "Epoch   3 Batch    0/3   train_loss = 8.656\n",
      "Epoch   3 Batch    1/3   train_loss = 8.593\n",
      "Epoch   3 Batch    2/3   train_loss = 8.574\n",
      "Model Trained and Saved\n",
      "Epoch   4 Batch    0/3   train_loss = 8.433\n",
      "Epoch   4 Batch    1/3   train_loss = 8.347\n",
      "Epoch   4 Batch    2/3   train_loss = 8.334\n",
      "Model Trained and Saved\n",
      "Epoch   5 Batch    0/3   train_loss = 8.138\n",
      "Epoch   5 Batch    1/3   train_loss = 8.042\n",
      "Epoch   5 Batch    2/3   train_loss = 8.050\n",
      "Model Trained and Saved\n",
      "Epoch   6 Batch    0/3   train_loss = 7.806\n",
      "Epoch   6 Batch    1/3   train_loss = 7.714\n",
      "Epoch   6 Batch    2/3   train_loss = 7.755\n",
      "Model Trained and Saved\n",
      "Epoch   7 Batch    0/3   train_loss = 7.475\n",
      "Epoch   7 Batch    1/3   train_loss = 7.398\n",
      "Epoch   7 Batch    2/3   train_loss = 7.476\n",
      "Model Trained and Saved\n",
      "Epoch   8 Batch    0/3   train_loss = 7.169\n",
      "Epoch   8 Batch    1/3   train_loss = 7.109\n",
      "Epoch   8 Batch    2/3   train_loss = 7.224\n",
      "Model Trained and Saved\n",
      "Epoch   9 Batch    0/3   train_loss = 6.894\n",
      "Epoch   9 Batch    1/3   train_loss = 6.852\n",
      "Epoch   9 Batch    2/3   train_loss = 7.000\n",
      "Model Trained and Saved\n",
      "Epoch  10 Batch    0/3   train_loss = 6.649\n",
      "Epoch  10 Batch    1/3   train_loss = 6.624\n",
      "Epoch  10 Batch    2/3   train_loss = 6.806\n",
      "Model Trained and Saved\n",
      "Epoch  11 Batch    0/3   train_loss = 6.435\n",
      "Epoch  11 Batch    1/3   train_loss = 6.426\n",
      "Epoch  11 Batch    2/3   train_loss = 6.641\n",
      "Model Trained and Saved\n",
      "Epoch  12 Batch    0/3   train_loss = 6.250\n",
      "Epoch  12 Batch    1/3   train_loss = 6.258\n",
      "Epoch  12 Batch    2/3   train_loss = 6.504\n",
      "Model Trained and Saved\n",
      "Epoch  13 Batch    0/3   train_loss = 6.093\n",
      "Epoch  13 Batch    1/3   train_loss = 6.118\n",
      "Epoch  13 Batch    2/3   train_loss = 6.393\n",
      "Model Trained and Saved\n",
      "Epoch  14 Batch    0/3   train_loss = 5.963\n",
      "Epoch  14 Batch    1/3   train_loss = 6.004\n"
     ]
    }
   ],
   "source": [
    "# added cyclic save and restore to train an my hardware\n",
    "\n",
    "num_epochs = 1000\n",
    "\n",
    "batches = get_batches(int_text, batch_size, seq_length)\n",
    "\n",
    "with tf.Session(graph=train_graph) as sess:\n",
    "    \n",
    "    try:\n",
    "        saver.restore(sess, save_dir)\n",
    "        print('Restored Model.')\n",
    "    except:\n",
    "        sess.run(tf.global_variables_initializer())\n",
    "        print('Initialised Model...')\n",
    "        \n",
    "\n",
    "    for epoch_i in range(num_epochs):\n",
    "        state = sess.run(initial_state, {input_text: batches[0][0]})\n",
    "\n",
    "        for batch_i, (x, y) in enumerate(batches):\n",
    "            feed = {\n",
    "                input_text: x,\n",
    "                targets: y,\n",
    "                initial_state: state,\n",
    "                lr: learning_rate}\n",
    "            train_loss, state, _ = sess.run([cost, final_state, train_op], feed)\n",
    "\n",
    "            # Show every <show_every_n_batches> batches\n",
    "            if (epoch_i * len(batches) + batch_i) % show_every_n_batches == 0:\n",
    "                print('Epoch {:>3} Batch {:>4}/{}   train_loss = {:.3f}'.format(\n",
    "                    epoch_i,\n",
    "                    batch_i,\n",
    "                    len(batches),\n",
    "                    train_loss))\n",
    "\n",
    "        # Save Model\n",
    "        saver = tf.train.Saver()\n",
    "        saver.save(sess, save_dir)\n",
    "        print('Model Trained and Saved')"
   ]
  },
  {
   "cell_type": "markdown",
   "metadata": {
    "deletable": true,
    "editable": true
   },
   "source": [
    "## Save Parameters\n",
    "Save `seq_length` and `save_dir` for generating a new TV script."
   ]
  },
  {
   "cell_type": "code",
   "execution_count": null,
   "metadata": {
    "collapsed": false,
    "deletable": true,
    "editable": true
   },
   "outputs": [],
   "source": [
    "\"\"\"\n",
    "DON'T MODIFY ANYTHING IN THIS CELL\n",
    "\"\"\"\n",
    "# Save parameters for checkpoint\n",
    "helper.save_params((seq_length, save_dir))"
   ]
  },
  {
   "cell_type": "markdown",
   "metadata": {
    "deletable": true,
    "editable": true
   },
   "source": [
    "# Checkpoint"
   ]
  },
  {
   "cell_type": "code",
   "execution_count": null,
   "metadata": {
    "collapsed": false,
    "deletable": true,
    "editable": true
   },
   "outputs": [],
   "source": [
    "\"\"\"\n",
    "DON'T MODIFY ANYTHING IN THIS CELL\n",
    "\"\"\"\n",
    "import tensorflow as tf\n",
    "import numpy as np\n",
    "import helper\n",
    "import problem_unittests as tests\n",
    "\n",
    "_, vocab_to_int, int_to_vocab, token_dict = helper.load_preprocess()\n",
    "seq_length, load_dir = helper.load_params()"
   ]
  },
  {
   "cell_type": "markdown",
   "metadata": {
    "deletable": true,
    "editable": true
   },
   "source": [
    "## Implement Generate Functions\n",
    "### Get Tensors\n",
    "Get tensors from `loaded_graph` using the function [`get_tensor_by_name()`](https://www.tensorflow.org/api_docs/python/tf/Graph#get_tensor_by_name).  Get the tensors using the following names:\n",
    "- \"input:0\"\n",
    "- \"initial_state:0\"\n",
    "- \"final_state:0\"\n",
    "- \"probs:0\"\n",
    "\n",
    "Return the tensors in the following tuple `(InputTensor, InitialStateTensor, FinalStateTensor, ProbsTensor)` "
   ]
  },
  {
   "cell_type": "code",
   "execution_count": null,
   "metadata": {
    "collapsed": false,
    "deletable": true,
    "editable": true
   },
   "outputs": [],
   "source": [
    "def get_tensors(loaded_graph):\n",
    "    \"\"\"\n",
    "    Get input, initial state, final state, and probabilities tensor from <loaded_graph>\n",
    "    :param loaded_graph: TensorFlow graph loaded from file\n",
    "    :return: Tuple (InputTensor, InitialStateTensor, FinalStateTensor, ProbsTensor)\n",
    "    \"\"\"\n",
    "    InputTensor        = loaded_graph.get_tensor_by_name(\"input:0\")\n",
    "    InitialStateTensor = loaded_graph.get_tensor_by_name(\"initial_state:0\")\n",
    "    FinalStateTensor   = loaded_graph.get_tensor_by_name(\"final_state:0\")\n",
    "    ProbsTensor        = loaded_graph.get_tensor_by_name(\"probs:0\")\n",
    "    return InputTensor, InitialStateTensor, FinalStateTensor, ProbsTensor\n",
    "\n",
    "\n",
    "\"\"\"\n",
    "DON'T MODIFY ANYTHING IN THIS CELL THAT IS BELOW THIS LINE\n",
    "\"\"\"\n",
    "tests.test_get_tensors(get_tensors)"
   ]
  },
  {
   "cell_type": "markdown",
   "metadata": {
    "deletable": true,
    "editable": true
   },
   "source": [
    "### Choose Word\n",
    "Implement the `pick_word()` function to select the next word using `probabilities`."
   ]
  },
  {
   "cell_type": "code",
   "execution_count": null,
   "metadata": {
    "collapsed": false,
    "deletable": true,
    "editable": true
   },
   "outputs": [],
   "source": [
    "def pick_word(probabilities, int_to_vocab):\n",
    "    \"\"\"\n",
    "    Pick the next word in the generated text\n",
    "    :param probabilities: Probabilites of the next word\n",
    "    :param int_to_vocab: Dictionary of word ids as the keys and words as the values\n",
    "    :return: String of the predicted word\n",
    "    \"\"\"\n",
    "    print(probabilities.index(max(probabilities)))\n",
    "    return None\n",
    "\n",
    "\n",
    "\"\"\"\n",
    "DON'T MODIFY ANYTHING IN THIS CELL THAT IS BELOW THIS LINE\n",
    "\"\"\"\n",
    "tests.test_pick_word(pick_word)"
   ]
  },
  {
   "cell_type": "markdown",
   "metadata": {
    "deletable": true,
    "editable": true
   },
   "source": [
    "## Generate TV Script\n",
    "This will generate the TV script for you.  Set `gen_length` to the length of TV script you want to generate."
   ]
  },
  {
   "cell_type": "code",
   "execution_count": null,
   "metadata": {
    "collapsed": false,
    "deletable": true,
    "editable": true
   },
   "outputs": [],
   "source": [
    "gen_length = 200\n",
    "# homer_simpson, moe_szyslak, or Barney_Gumble\n",
    "prime_word = 'moe_szyslak'\n",
    "\n",
    "\"\"\"\n",
    "DON'T MODIFY ANYTHING IN THIS CELL THAT IS BELOW THIS LINE\n",
    "\"\"\"\n",
    "loaded_graph = tf.Graph()\n",
    "with tf.Session(graph=loaded_graph) as sess:\n",
    "    # Load saved model\n",
    "    loader = tf.train.import_meta_graph(load_dir + '.meta')\n",
    "    loader.restore(sess, load_dir)\n",
    "\n",
    "    # Get Tensors from loaded model\n",
    "    input_text, initial_state, final_state, probs = get_tensors(loaded_graph)\n",
    "\n",
    "    # Sentences generation setup\n",
    "    gen_sentences = [prime_word + ':']\n",
    "    prev_state = sess.run(initial_state, {input_text: np.array([[1]])})\n",
    "\n",
    "    # Generate sentences\n",
    "    for n in range(gen_length):\n",
    "        # Dynamic Input\n",
    "        dyn_input = [[vocab_to_int[word] for word in gen_sentences[-seq_length:]]]\n",
    "        dyn_seq_length = len(dyn_input[0])\n",
    "\n",
    "        # Get Prediction\n",
    "        probabilities, prev_state = sess.run(\n",
    "            [probs, final_state],\n",
    "            {input_text: dyn_input, initial_state: prev_state})\n",
    "        \n",
    "        pred_word = pick_word(probabilities[dyn_seq_length-1], int_to_vocab)\n",
    "\n",
    "        gen_sentences.append(pred_word)\n",
    "    \n",
    "    # Remove tokens\n",
    "    tv_script = ' '.join(gen_sentences)\n",
    "    for key, token in token_dict.items():\n",
    "        ending = ' ' if key in ['\\n', '(', '\"'] else ''\n",
    "        tv_script = tv_script.replace(' ' + token.lower(), key)\n",
    "    tv_script = tv_script.replace('\\n ', '\\n')\n",
    "    tv_script = tv_script.replace('( ', '(')\n",
    "        \n",
    "    print(tv_script)"
   ]
  },
  {
   "cell_type": "markdown",
   "metadata": {
    "deletable": true,
    "editable": true
   },
   "source": [
    "# The TV Script is Nonsensical\n",
    "It's ok if the TV script doesn't make any sense.  We trained on less than a megabyte of text.  In order to get good results, you'll have to use a smaller vocabulary or get more data.  Luckly there's more data!  As we mentioned in the begging of this project, this is a subset of [another dataset](https://www.kaggle.com/wcukierski/the-simpsons-by-the-data).  We didn't have you train on all the data, because that would take too long.  However, you are free to train your neural network on all the data.  After you complete the project, of course.\n",
    "# Submitting This Project\n",
    "When submitting this project, make sure to run all the cells before saving the notebook. Save the notebook file as \"dlnd_tv_script_generation.ipynb\" and save it as a HTML file under \"File\" -> \"Download as\". Include the \"helper.py\" and \"problem_unittests.py\" files in your submission."
   ]
  }
 ],
 "metadata": {
  "kernelspec": {
   "display_name": "Python 3",
   "language": "python",
   "name": "python3"
  },
  "language_info": {
   "codemirror_mode": {
    "name": "ipython",
    "version": 3
   },
   "file_extension": ".py",
   "mimetype": "text/x-python",
   "name": "python",
   "nbconvert_exporter": "python",
   "pygments_lexer": "ipython3",
   "version": "3.5.2"
  }
 },
 "nbformat": 4,
 "nbformat_minor": 0
}
