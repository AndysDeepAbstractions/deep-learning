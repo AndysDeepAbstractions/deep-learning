{
 "cells": [
  {
   "cell_type": "markdown",
   "metadata": {
    "deletable": true,
    "editable": true
   },
   "source": [
    "# TV Script Generation\n",
    "In this project, you'll generate your own [Simpsons](https://en.wikipedia.org/wiki/The_Simpsons) TV scripts using RNNs.  You'll be using part of the [Simpsons dataset](https://www.kaggle.com/wcukierski/the-simpsons-by-the-data) of scripts from 27 seasons.  The Neural Network you'll build will generate a new TV script for a scene at [Moe's Tavern](https://simpsonswiki.com/wiki/Moe's_Tavern).\n",
    "## Get the Data\n",
    "The data is already provided for you.  You'll be using a subset of the original dataset.  It consists of only the scenes in Moe's Tavern.  This doesn't include other versions of the tavern, like \"Moe's Cavern\", \"Flaming Moe's\", \"Uncle Moe's Family Feed-Bag\", etc.."
   ]
  },
  {
   "cell_type": "code",
   "execution_count": 1,
   "metadata": {
    "collapsed": false,
    "deletable": true,
    "editable": true
   },
   "outputs": [],
   "source": [
    "\"\"\"\n",
    "DON'T MODIFY ANYTHING IN THIS CELL\n",
    "\"\"\"\n",
    "import helper\n",
    "\n",
    "data_dir = './data/simpsons/moes_tavern_lines.txt'\n",
    "text = helper.load_data(data_dir)\n",
    "# Ignore notice, since we don't use it for analysing the data\n",
    "text = text[81:]"
   ]
  },
  {
   "cell_type": "markdown",
   "metadata": {
    "deletable": true,
    "editable": true
   },
   "source": [
    "## Explore the Data\n",
    "Play around with `view_sentence_range` to view different parts of the data."
   ]
  },
  {
   "cell_type": "code",
   "execution_count": 2,
   "metadata": {
    "collapsed": false,
    "deletable": true,
    "editable": true
   },
   "outputs": [
    {
     "name": "stdout",
     "output_type": "stream",
     "text": [
      "Dataset Stats\n",
      "Roughly the number of unique words: 11492\n",
      "Number of scenes: 262\n",
      "Average number of sentences in each scene: 15.248091603053435\n",
      "Number of lines: 4257\n",
      "Average number of words in each line: 11.50434578341555\n",
      "\n",
      "The sentences 0 to 10:\n",
      "Moe_Szyslak: (INTO PHONE) Moe's Tavern. Where the elite meet to drink.\n",
      "Bart_Simpson: Eh, yeah, hello, is Mike there? Last name, Rotch.\n",
      "Moe_Szyslak: (INTO PHONE) Hold on, I'll check. (TO BARFLIES) Mike Rotch. Mike Rotch. Hey, has anybody seen Mike Rotch, lately?\n",
      "Moe_Szyslak: (INTO PHONE) Listen you little puke. One of these days I'm gonna catch you, and I'm gonna carve my name on your back with an ice pick.\n",
      "Moe_Szyslak: What's the matter Homer? You're not your normal effervescent self.\n",
      "Homer_Simpson: I got my problems, Moe. Give me another one.\n",
      "Moe_Szyslak: Homer, hey, you should not drink to forget your problems.\n",
      "Barney_Gumble: Yeah, you should only drink to enhance your social skills.\n",
      "\n",
      "\n"
     ]
    }
   ],
   "source": [
    "view_sentence_range = (0, 10)\n",
    "\n",
    "\"\"\"\n",
    "DON'T MODIFY ANYTHING IN THIS CELL\n",
    "\"\"\"\n",
    "import numpy as np\n",
    "\n",
    "print('Dataset Stats')\n",
    "print('Roughly the number of unique words: {}'.format(len({word: None for word in text.split()})))\n",
    "scenes = text.split('\\n\\n')\n",
    "print('Number of scenes: {}'.format(len(scenes)))\n",
    "sentence_count_scene = [scene.count('\\n') for scene in scenes]\n",
    "print('Average number of sentences in each scene: {}'.format(np.average(sentence_count_scene)))\n",
    "\n",
    "sentences = [sentence for scene in scenes for sentence in scene.split('\\n')]\n",
    "print('Number of lines: {}'.format(len(sentences)))\n",
    "word_count_sentence = [len(sentence.split()) for sentence in sentences]\n",
    "print('Average number of words in each line: {}'.format(np.average(word_count_sentence)))\n",
    "\n",
    "print()\n",
    "print('The sentences {} to {}:'.format(*view_sentence_range))\n",
    "print('\\n'.join(text.split('\\n')[view_sentence_range[0]:view_sentence_range[1]]))"
   ]
  },
  {
   "cell_type": "markdown",
   "metadata": {
    "deletable": true,
    "editable": true
   },
   "source": [
    "## Implement Preprocessing Functions\n",
    "The first thing to do to any dataset is preprocessing.  Implement the following preprocessing functions below:\n",
    "- Lookup Table\n",
    "- Tokenize Punctuation\n",
    "\n",
    "### Lookup Table\n",
    "To create a word embedding, you first need to transform the words to ids.  In this function, create two dictionaries:\n",
    "- Dictionary to go from the words to an id, we'll call `vocab_to_int`\n",
    "- Dictionary to go from the id to word, we'll call `int_to_vocab`\n",
    "\n",
    "Return these dictionaries in the following tuple `(vocab_to_int, int_to_vocab)`"
   ]
  },
  {
   "cell_type": "code",
   "execution_count": 3,
   "metadata": {
    "collapsed": false,
    "deletable": true,
    "editable": true
   },
   "outputs": [],
   "source": [
    "import numpy as np\n",
    "import problem_unittests as tests\n",
    "import re\n",
    "\n",
    "def create_lookup_tables(text):\n",
    "    \"\"\"\n",
    "    Create lookup tables for vocabulary\n",
    "    :param text: The text of tv scripts split into words\n",
    "    :return: A tuple of dicts (vocab_to_int, int_to_vocab)\n",
    "    \"\"\"\n",
    "\n",
    "    #text = ''.join([c.lower()+' ' for c in text])\n",
    "    #text_for_lookup  = sorted(list(set(re.split('(\\W)+', text))))\n",
    "    #marks_for_lookup = sorted(list(set(re.split('(\\w)+', text))))\n",
    "    #text_for_lookup  = sorted(list(set(text_for_lookup + (marks_for_lookup))))\n",
    "    #test = re.split(' ', text)\n",
    "    text_for_lookup = sorted(list(set(text)))\n",
    "\n",
    "    int_to_vocab = dict((i, c) for i, c in enumerate(text_for_lookup))\n",
    "    vocab_to_int = dict((c, i) for i, c in enumerate(text_for_lookup))\n",
    "\n",
    "    return vocab_to_int, int_to_vocab"
   ]
  },
  {
   "cell_type": "code",
   "execution_count": 4,
   "metadata": {
    "collapsed": false,
    "deletable": true,
    "editable": true
   },
   "outputs": [
    {
     "name": "stdout",
     "output_type": "stream",
     "text": [
      "Tests Passed\n"
     ]
    }
   ],
   "source": [
    "\"\"\"\n",
    "DON'T MODIFY ANYTHING IN THIS CELL THAT IS BELOW THIS LINE\n",
    "\"\"\"\n",
    "tests.test_create_lookup_tables(create_lookup_tables)"
   ]
  },
  {
   "cell_type": "markdown",
   "metadata": {
    "deletable": true,
    "editable": true
   },
   "source": [
    "### Tokenize Punctuation\n",
    "We'll be splitting the script into a word array using spaces as delimiters.  However, punctuations like periods and exclamation marks make it hard for the neural network to distinguish between the word \"bye\" and \"bye!\".\n",
    "\n",
    "Implement the function `token_lookup` to return a dict that will be used to tokenize symbols like \"!\" into \"__Exclamation_Mark__\".  Create a dictionary for the following symbols where the symbol is the key and value is the token:\n",
    "- Period ( . )\n",
    "- Comma ( , )\n",
    "- Quotation Mark ( \" )\n",
    "- Semicolon ( ; )\n",
    "- Exclamation mark ( ! )\n",
    "- Question mark ( ? )\n",
    "- Left Parentheses ( ( )\n",
    "- Right Parentheses ( ) )\n",
    "- Dash ( -- )\n",
    "- Return ( \\n )\n",
    "\n",
    "This dictionary will be used to token the symbols and add the delimiter (space) around it.  This separates the symbols as it's own word, making it easier for the neural network to predict on the next word. Make sure you don't use a token that could be confused as a word. Instead of using the token \"dash\", try using something like \"__dash__\"."
   ]
  },
  {
   "cell_type": "code",
   "execution_count": 5,
   "metadata": {
    "collapsed": false,
    "deletable": true,
    "editable": true
   },
   "outputs": [
    {
     "data": {
      "text/plain": [
       "{'\\n': '__return__',\n",
       " '!': '__exclamation_mark__',\n",
       " '\"': '__quotation_Mark__',\n",
       " '(': '__left_Parentheses__',\n",
       " ')': '__right_Parentheses__',\n",
       " ',': '__comma__',\n",
       " '--': '__dash__',\n",
       " '.': '__period__',\n",
       " ';': '__semicolon__',\n",
       " '?': '__question_mark__'}"
      ]
     },
     "execution_count": 5,
     "metadata": {},
     "output_type": "execute_result"
    }
   ],
   "source": [
    "def token_lookup():\n",
    "    \"\"\"\n",
    "    Generate a dict to turn punctuation into a token.\n",
    "    :return: Tokenize dictionary where the key is the punctuation and the value is the token\n",
    "    \"\"\"\n",
    "    symbols = (['.', ',', '\"', ';', '!', '?', '(', ')', '--', '\\n'#, ':', '\\'', '#', '/', '%'\n",
    "               ])\n",
    "    \n",
    "    symbol_desc = ([\n",
    "        '__period__',\n",
    "        '__comma__',\n",
    "        '__quotation_Mark__',\n",
    "        '__semicolon__',\n",
    "        '__exclamation_mark__',\n",
    "        '__question_mark__',\n",
    "        '__left_Parentheses__',\n",
    "        '__right_Parentheses__',\n",
    "        '__dash__',\n",
    "        '__return__',\n",
    "        #'__double_point__', ## missing in description\n",
    "        #'__quote__',        ## missing in description\n",
    "        #'__hash__',         ## missing in description\n",
    "        #'__slash__',        ## missing in description\n",
    "        #'__procent__',      ## missing in description\n",
    "        ])\n",
    "    \n",
    "    return dict(zip(symbols,symbol_desc))\n",
    "\n",
    "token_lookup()\n"
   ]
  },
  {
   "cell_type": "code",
   "execution_count": 6,
   "metadata": {
    "collapsed": false,
    "deletable": true,
    "editable": true
   },
   "outputs": [
    {
     "name": "stdout",
     "output_type": "stream",
     "text": [
      "Tests Passed\n"
     ]
    }
   ],
   "source": [
    "\"\"\"\n",
    "DON'T MODIFY ANYTHING IN THIS CELL THAT IS BELOW THIS LINE\n",
    "\"\"\"\n",
    "tests.test_tokenize(token_lookup)"
   ]
  },
  {
   "cell_type": "markdown",
   "metadata": {
    "deletable": true,
    "editable": true
   },
   "source": [
    "## Preprocess all the data and save it\n",
    "Running the code cell below will preprocess all the data and save it to file."
   ]
  },
  {
   "cell_type": "code",
   "execution_count": 7,
   "metadata": {
    "collapsed": false,
    "deletable": true,
    "editable": true
   },
   "outputs": [
    {
     "name": "stdout",
     "output_type": "stream",
     "text": [
      "{'hmmm': 2808, 'sledge-hammer': 5365, 'shuts': 5272, 'improv': 2972, 'my-y-y-y-y-y': 3934, 'kind': 3251, 'prove': 4623, 'flatly': 2216, 'jay': 3126, 'witty': 6627, 'joey_kramer:': 3160, 'taught': 5892, 'friend:': 2334, 'my': 3933, 'dilemma': 1623, 'smugglers': 5417, 'sir': 5323, 'shoulders': 5250, 'disdainful': 1654, 'weak': 6476, 'selling': 5146, 'lot': 3524, 'boggs': 682, 'chair': 1013, 'moonlight': 3856, 'covers': 1361, 'code': 1196, 'amber_dempsey:': 246, \"she's\": 5212, 'uses': 6326, 'bobo': 680, 'growing': 2578, 'perplexed': 4348, 'twenty-two': 6230, 'get': 2442, 'chick': 1074, '__right_parentheses__': 60, 'nos': 4067, 'dating': 1493, 'racially-diverse': 4697, 'forty': 2290, 'amazing': 244, 'kinderhook': 3253, 'wrap': 6686, 'lee': 3370, 'mr': 3893, 'prime': 4572, 'woooooo': 6655, \"smokin'\": 5411, 'live': 3471, 'turns': 6211, 'sales': 5019, 'cakes': 900, 'sweet': 5819, 'aisle': 197, 'stay-puft': 5641, 'nuclear': 4084, 'edelbrock': 1853, 'bar_rag:': 476, 'whose': 6566, 'hearse': 2725, 'dames': 1466, 'napkins': 3954, 'are': 332, 'blood-thirsty': 661, 'rug': 4965, \"it'd\": 3089, 'in': 2974, 'hilarious': 2788, \"i-i'll\": 2936, 'license': 3411, 'swallowed': 5809, 'crippling': 1402, 'energy': 1927, 'lame': 3319, 'pre-game': 4529, 'unfamiliar': 6283, 'heals': 2717, 'blood': 660, 'protesters': 4619, 'title': 6074, 'hammock': 2642, 'mines': 3775, 'telephone': 5920, 'flynt': 2240, 'uhhhh': 6253, 'tomorrow': 6097, 'düff': 1820, 'burt_reynolds:': 858, 'einstein': 1885, 'slipped': 5377, 'wally': 6417, 'nitwit': 4039, 'squirrels': 5590, \"crawlin'\": 1382, 'large': 3332, 'co-sign': 1180, 'when-i-get-a-hold-of-you': 6533, 'frogs': 2345, 'asleep': 365, 'holding': 2819, 'forbidden': 2267, 'vacuum': 6335, 'bashir': 510, 'heads': 2716, 'invisible': 3065, 'koholic': 3291, 'what': 6515, \"ridin'\": 4895, 'huh': 2903, 'ad': 121, 'pirate': 4406, 'whiny': 6543, 'squashing': 5583, 'mocking': 3818, 'beefs': 551, 'agh': 175, 'pulls': 4644, 'extra': 2034, 'bottomless': 719, 'hitchhike': 2801, 'actually': 120, 'fl': 2201, 'playhouse': 4438, 'beeps': 554, 'fountain': 2299, 'splendid': 5558, \"fine-lookin'\": 2172, 'sugar-free': 5761, 'pleasure': 4447, 'served': 5170, 'chained': 1012, 'normals': 4064, 'whole': 6561, 'drunkenly': 1783, 'coaster': 1184, 'cupid': 1434, 'young_marge:': 6756, 'rat-like': 4739, 'eternity': 1966, 'same': 5024, 'awake': 411, 'used': 6325, 'bar': 472, 'puzzled': 4668, 'graveyard': 2550, 'meaningfully': 3698, 'except': 1998, \"can't\": 919, 'delightful': 1550, 'dashes': 1488, 'fun': 2364, 'hmf': 2806, 'engine': 1929, 'festival': 2137, 'written': 6698, 'paid': 4238, 'uh-huh': 6251, 'stolen': 5685, 'half': 2633, 'war': 6429, 'wooooo': 6654, 'arrange': 346, 'cookies': 1313, 'matter': 3672, 'crushed': 1423, 'crooks': 1406, 'tow-joes': 6128, 'botanical': 713, 'stay': 5640, 'barkeep': 485, 'recipe': 4776, 'alter': 236, 'bride': 776, 'standards': 5611, 'faiths': 2067, 'mugs': 3902, 'feelings': 2119, 'busy': 869, 'hair': 2629, 'goodwill': 2515, 'community': 1239, 'progress': 4602, 'anniversary': 278, 'frink-y': 2341, 'oh': 4134, 'coat': 1186, 'ultimate': 6254, 'yoo': 6746, 'grandé': 2544, 'avalanche': 405, 'knees': 3272, 'vacation': 6333, \"doesn't\": 1690, 'sick': 5277, 'contemplates': 1296, 'guest': 2592, 'frosty': 2349, 'liable': 3405, 'wish-meat': 6617, 'pre-recorded': 4530, 'ehhh': 1872, 'brawled': 759, 'quimbys:': 4688, 'favor': 2104, 'forgets': 2278, 'spelling': 5537, 'match': 3667, 'snatch': 5428, 'pal': 4249, 'yesterday': 6738, 'gang': 2400, 'switched': 5837, 'picnic': 4384, 'gore': 2517, \"thing's\": 5999, 'hearing': 2723, 'pigs': 4389, 'stupidest': 5738, 'handsome': 2654, 'hard': 2676, 'homeless': 2831, 'clandestine': 1140, 'item': 3095, 'falling': 2072, 'stiffening': 5670, 'thought_bubble_lenny:': 6026, 'jubilation': 3178, 'stand': 5610, 'thoughtful': 6027, 'glitterati': 2484, 'heard': 2722, 'groan': 2569, 'furniture': 2373, 'shaking': 5194, 'heavens': 2736, 'intention': 3046, 'whoa-ho': 6559, 'today/': 6081, 'sings': 5317, 'giggles': 2461, 'going': 2501, 'created': 1387, 'blackjack': 636, 'goodnight': 2513, 'rash': 4735, 'blew': 649, 'senators:': 5155, 'burns': 852, 'attach': 383, 'blame': 639, 'cake': 899, 'winks': 6603, 'dan': 1470, 'chubby': 1112, 'stupidly': 5739, 'conference': 1272, 'renee:': 4838, 'labels': 3306, 'bread': 760, 'bed': 544, 'lobster-based': 3487, 'arguing': 336, 'determined': 1593, 'american': 252, 'add': 122, 'control': 1306, \"coaster's\": 1185, 'sap': 5036, 'doppler': 1722, 'ignorant': 2954, 'stadium': 5596, 'snake': 5421, 'kent': 3222, 'sincere': 5306, 'vampires': 6341, 'hero': 2766, 'short': 5240, 'ahem': 185, 'stock': 5682, 'remembering': 4828, 'uh-oh': 6252, 'jewish': 3149, 'germany': 2438, 'ballot': 461, 'safer': 5006, 'moustache': 3882, 'rife': 4897, 'mess': 3729, 'will': 6585, 'ambrosia': 248, 'this:': 6016, 'gun': 2604, 'worldview': 6671, 'churchill': 1125, 'worked': 6662, \"fendin'\": 2135, 'canoodling': 927, 'inserts': 3025, 'poulet': 4513, 'stairs': 5602, 'shot': 5244, 'victory': 6364, 'raises': 4722, 'accidents': 102, 'cheesecake': 1067, 'wife': 6574, 'patriotic': 4295, 'farewell': 2087, 'captain:': 937, 'frankenstein': 2309, 'saved': 5051, 'hyahh': 2923, 'turlet': 6207, 'oughta': 4201, 'either': 1886, 'cheaped': 1050, 'scores': 5085, 'ping-pong': 4400, 'cherry': 1068, 'runaway': 4978, 'running': 4980, 'intimacy': 3053, \"can't-believe-how-bald-he-is\": 920, 'knives': 3276, 'since': 5305, 'attractive_woman_#1:': 393, 'peach': 4316, 'procedure': 4590, 'limits': 3439, 'papa': 4260, 'hike': 2787, 'dreary': 1750, 'city': 1132, 'booze-bags': 704, 'laramie': 3330, 'subscriptions': 5744, 'eighty-five': 1880, 'sympathy': 5841, \"bashir's\": 511, 'authorized': 402, 'dawning': 1498, 'fondest': 2253, 'bartholomé:': 505, \"bo's\": 677, 'luckiest': 3559, 'automobiles': 403, 'after': 159, 'pond': 4488, 'enjoyed': 1936, 'cameras': 915, 'sat-is-fac-tion': 5042, 'morose': 3866, 'percent': 4336, 'audience': 396, 'luxury': 3572, 'glummy': 2491, 'reading': 4757, 'lighten': 3428, 'moan': 3812, 'seems': 5132, 'hooray': 2853, 'female_inspector:': 2130, 'ali': 210, 'whistles': 6549, 'sense': 5158, 'closing': 1171, 'bridge': 777, 'england': 1930, 'suru': 5800, 'glowers': 2489, 'tab': 5849, 'both': 714, 'planted': 4427, 'hey': 2772, 'quarry': 4672, 'tv_daughter:': 6217, 'waltz': 6421, 'a': 73, 'grampa': 2537, 'message': 3730, \"g'on\": 2385, 'pontiff': 4489, 'sexton': 5181, 'takeaway': 5860, 'chief': 1077, 'stinger': 5673, 'lone': 3498, 'magazine': 3591, \"don't\": 1705, 'sea': 5106, 'twerpy': 6231, \"wouldn't-a\": 6681, 'wait': 6403, 'let': 3398, \"barney's\": 489, 'nasty': 3961, 'silent': 5297, 'artie_ziff:': 353, 'joint': 3168, 'spilled': 5546, 'market': 3651, 'nothing': 4074, 'greatly': 2554, \"carl's\": 953, 'slaps': 5362, 'routine': 4952, 'cummerbund': 1432, 'freedom': 2320, 'rutabaga': 4987, \"countin'\": 1344, \"tinklin'\": 6067, 'worry': 6673, 'dregs': 1752, 'drop': 1773, \"wasn't\": 6446, 'weight': 6493, 'reed': 4788, 'stays': 5645, 'roller': 4928, 'garbage': 2402, 'hmm': 2807, 'handed': 2646, 'scoffs': 5082, 'padre': 4233, 'thousand': 6031, 'safety': 5007, 'albeit': 201, 'okay': 4143, 'apulina': 327, 'buzz': 883, 'choked-up': 1101, 'lainie:': 3318, 'most': 3869, 'health': 2718, 'fault': 2102, 'example': 1993, 'poisoning': 4474, \"choosin'\": 1104, \"when's\": 6532, 'grinch': 2567, 'monday': 3841, 'streetlights': 5716, 'enlightened': 1939, 'her': 2762, 'non-american': 4050, 'africanized': 158, 'plant': 4426, 'sacrifice': 4997, 'dan_gillick:': 1471, 'good': 2510, 'fink': 2179, 'wore': 6660, 'extinguishers': 2033, 'completely': 1251, 'squeezed': 5587, 'fell': 2124, 'pope': 4494, 'alibi': 211, 'amnesia': 256, 'ground': 2574, 'polishing': 4481, 'drown': 1778, 'weather': 6484, 'car:': 941, 'record': 4781, 'truck': 6187, 'intoxicants': 3055, 'limber': 3435, 'local': 3489, 'story': 5702, 'the': 5972, 'pee': 4320, 'wire': 6613, 'mmmm': 3809, 'express': 2029, 'xanders': 6706, 'jar': 3124, 'hug': 2898, 'presently': 4544, 'strongly': 5727, \"kearney's_dad:\": 3211, 'uglier': 6246, 'jockey': 3157, 'treats': 6161, \"battin'\": 518, 'womb': 6640, 'ripper': 4910, 'perch': 4337, 'murmurs': 3917, 'giving': 2476, 'tragedy': 6142, 'backgammon': 438, 'asses': 370, 'dory': 1725, 'disgusted': 1660, 'buds': 821, 'wipe': 6610, 'harvesting': 2688, 'coincidentally': 1201, 'limited': 3438, 'priest': 4571, 'familiar': 2074, 'first': 2189, 'farthest': 2088, 'bart': 496, 'iddilies': 2943, 'sports_announcer:': 5568, 'evergreen': 1978, 'starts': 5627, 'unfortunately': 6285, 'exultant': 2038, 'king': 3256, 'thrust': 6047, 'cruel': 1417, 'confession': 1273, 'male_inspector:': 3612, \"mother's\": 3875, 'bush': 861, 'fortress': 2288, 'metal': 3733, 'microbrew': 3746, 'novelty': 4080, 'amazed': 243, 'plum': 4454, \"elmo's\": 1899, 'suspect': 5803, 'villanova': 6370, 'ze-ro': 6770, 'beings': 575, 'childless': 1080, 'merchants': 3728, 'hour': 2882, 'rims': 4902, 'perking': 4344, 'apron': 324, 'arms': 343, 'share': 5201, 'scanning': 5062, 'exact': 1990, 'tastes': 5888, 'exited': 2013, 'jack': 3104, 'glyco-load': 2493, 'politicians': 4484, \"this'll\": 6015, 'grain': 2532, \"waitin'\": 6405, 'anybody': 296, 'lifts': 3426, 'days': 1500, \"linin'\": 3448, 'trouble': 6182, 'grumbling': 2585, 'schnapps': 5075, 'dude': 1789, 'realized': 4764, 'continued': 1301, 'culkin': 1431, 'mull': 3905, 'aggravazes': 174, \"fun's\": 2365, 'chub': 1111, 'drollery': 1771, 'brassiest': 756, 'permanent': 4345, 'wondered': 6645, \"bartender's\": 501, \"world's\": 6668, 'we-we-we': 6475, 'lowering': 3551, 'attempting': 386, 'julep': 3187, 'skydiving': 5358, 'lurleen': 3567, 'corner': 1323, 'flayvin': 2217, 'question': 4680, '35': 39, 'clientele': 1158, 'contemptuous': 1298, 'place': 4414, 'presents': 4545, 'sweaty': 5817, 'dna': 1685, 'grandiose': 2540, 'fellas': 2126, 'nelson': 3996, 'dumbbell': 1806, 'brotherhood': 804, 'swimming': 5831, 'proud': 4621, 'absolutely': 91, 'beaumarchais': 537, 'grammar': 2534, 'risqué': 4912, 'fuss': 2377, \"d'\": 1455, 'punk': 4650, 'dank': 1479, '_timothy_lovejoy:': 71, 'avec': 406, 'authenticity': 400, \"bein'\": 573, 'luv': 3571, 'ruuuule': 4988, 'fork': 2283, 'went': 6502, 'sorry': 5500, 'unearth': 6279, 'inspection': 3029, 'bullet-proof': 832, 'smells': 5399, 'signed': 5295, 'denver': 1565, \"calf's\": 903, 'mouse': 3881, 'sec_agent_#2:': 5116, 'play': 4433, 'throws': 6045, 'minors': 3780, 'jukebox_record:': 3186, 'yak': 6715, 'device': 1596, 'verdict': 6353, 'rough': 4948, \"ain't\": 194, 'pats': 4300, 'sneak': 5429, 'puke-holes': 4637, 'fictional': 2143, 'blimp': 650, 'tha': 5960, 'male_singers:': 3613, 'kemi': 3217, 'clipped': 1162, 'texas': 5956, 'pusillanimous': 4660, 'fausto': 2103, 'marvelous': 3659, 'oooo': 4171, 'languages': 3328, 'menacing': 3725, 'peter_buck:': 4356, 'ninety-seven': 4036, 'learn': 3360, 'there': 5987, 'struggling': 5728, 'newspaper': 4014, 'clams': 1138, 'delivery_boy:': 1553, 'explanation': 2026, 'mate': 3668, 'feminine': 2131, \"neat's-foot\": 3976, 'mill': 3768, 'die-hard': 1611, 'massive': 3666, 'passed': 4283, \"doctor's\": 1688, 'renee': 4836, 'negative': 3987, 'purse': 4653, 'entering': 1942, 'prizefighters': 4584, 'us': 6323, 'hugh': 2901, 'celeste': 997, 'suck': 5748, 'nemo': 3998, 'checks': 1057, 'continuum': 1303, 'brother': 802, 'ees': 1862, 'roses': 4944, '250': 36, 'punkin': 4651, 'cab_driver:': 893, 'harm': 2682, 'ocean': 4116, 'beard': 529, 'moe_recording:': 3832, 'vehicle': 6347, 'monkeyshines': 3845, 'curds': 1436, 'park': 4270, 'bachelorhood': 435, 'sunny': 5774, 'ehhhhhh': 1873, 'conversion': 1310, 'closed': 1167, 'engraved': 1933, 'problem': 4587, 'lurleen_lumpkin:': 3568, 'moe-clone': 3826, 'buyer': 880, 'fantastic': 2084, 'nonchalant': 4052, 'tin': 6065, 'cushions': 1443, 'amanda': 242, 'boy': 738, 'cool': 1315, 'tapestry': 5882, 'indifferent': 2995, 'noosey': 4059, 'honor': 2846, 'furiously': 2372, 'threatening': 6034, 'loved': 3540, 'side': 5281, 'crappy': 1380, 'inflated': 3005, 'bon-bons': 687, 'sight': 5291, 'anywhere': 303, \"man'd\": 3621, 'nuts': 4094, 'homer_doubles:': 2837, 'finest': 2173, 'feel': 2116, 'priority': 4579, 'know': 3282, 'weirder': 6496, \"how're\": 2891, 'knuckle-dragging': 3288, 'edge': 1854, 'brewed': 774, 'pleasant': 4443, 'shame': 5197, 'wienerschnitzel': 6573, 'elves:': 1902, 'cleaner': 1147, 'faint': 2063, 'refill': 4793, 'anti-intellectualism': 292, 'until': 6306, 'hotel': 2877, 'thought_bubble_homer:': 6025, \"foolin'\": 2260, 'patient': 4293, 'inspiring': 3033, 'alternative': 237, 'government': 2525, 'aiden': 190, 'marched': 3643, 'shoulda': 5248, 'frustrated': 2352, 'lately': 3340, 'wiping': 6612, 'attraction': 391, 'yogurt': 6744, 'hail': 2628, 'well': 6498, 'strategizing': 5711, 'plastered': 4430, 'smelling': 5398, 'burg': 845, 'fad': 2058, 'doreen': 1723, 'root': 4942, 'spitting': 5555, 'uninhibited': 6291, 'meyerhof': 3739, 'workers': 6663, 'sent': 5161, 'life-sized': 3418, 'though:': 6023, 'repairman': 4846, 'edna_krabappel-flanders:': 1860, 'musketeers': 3925, 'careful': 947, 'full-blooded': 2358, 'lovelorn': 3542, 'bottoms': 720, 'any': 295, 'imaginary': 2961, 'thirty-nine': 6011, 'occupied': 4112, 'legend': 3377, 'drink': 1758, 'gator:': 2413, 'cheered': 1059, 'angel': 271, 'totalitarians': 6119, 'start': 5621, 'ab': 78, 'measurements': 3704, 'highest': 2785, 'fox': 2305, 'alcoholism': 205, 'astonishment': 375, 'exploiter': 2027, 'felony': 2128, 'brunswick': 811, 'mcbain': 3684, 'hospital': 2870, 'fleabag': 2219, 'fixes': 2200, 'carny:': 962, 'occasion': 4108, 'catty': 983, 'halloween': 2639, 'throw': 6042, 'sponge:': 5561, \"she'll\": 5211, 'warily': 6430, 'lofty': 3495, 'billy_the_kid:': 622, 'said:': 5013, \"edna's\": 1858, 'puke': 4636, 'civilization': 1136, 'dice': 1604, 'knowing': 3283, 'waking-up': 6409, 'inches': 2980, 'smart': 5396, 'effect': 1863, 'looting': 3514, 'th-th-th-the': 5959, 'cowardly': 1364, \"tap-pullin'\": 5879, 'collapse': 1206, 'jubilant': 3177, 'unsourced': 6305, 'hans:': 2665, 'sanctuary': 5027, \"don'tcha\": 1706, 'woo-hoo': 6650, 'charity': 1038, 'shack': 5186, 'carmichael': 959, 'draw': 1741, 'attention': 388, 'comfortable': 1226, 'almond': 227, 'hit': 2800, 'fulla': 2361, 'publishers': 4631, 'sympathizer': 5840, \"startin'\": 5624, 'love-matic': 3539, 'man:': 3624, 'wad': 6398, 'schmoe': 5074, 'degradation': 1538, 'temp': 5926, 'mop': 3859, 'dismissive': 1665, 'walks': 6413, 'businessman_#1:': 865, 'blokes': 659, 'spits': 5554, 'exhaust': 2010, 'till': 6060, 'cooker': 1312, 'alky': 214, \"somethin's\": 5484, 'flustered': 2237, 'chunky': 1123, 'hate-hugs': 2694, \"plank's\": 4422, 'towed': 6131, 'catholic': 980, 'springfield': 5575, 'open-casket': 4175, 'presto:': 4555, 'hootie': 2855, 'leg': 3374, 'uniforms': 6290, 'represent': 4854, 'bothered': 715, 'pantsless': 4259, 'fat_tony:': 2096, 'collateral': 1207, 'actor': 117, 'abcs': 80, 'coney': 1271, 'gr-aargh': 2526, 'his': 2797, 'terrorizing': 5948, 'walking': 6412, \"i'd'a\": 2929, 'comeback': 1222, 'intriguing': 3058, 'rotten': 4947, 'steampunk': 5653, 'feld': 2123, 'pin': 4396, 'trip': 6175, 'fella': 2125, 'filth': 2164, 'morning': 3863, 'gasoline': 2409, 'wistful': 6621, 'rosey': 4945, 'bear': 528, 'faces': 2055, 'kill': 3243, 'bedroom': 547, 'abe': 81, 'caholic': 897, 'hook': 2850, 'knew': 3273, \"gentleman's\": 2429, 'louse': 3536, 'shotgun': 5245, 'afternoon': 161, 'snap': 5424, 'driving': 1770, 'save': 5050, 'term': 5939, 'boxing_announcer:': 737, 'aging': 177, 'heatherton': 2733, '530': 44, 'distract': 1673, 'bought': 721, 'piece': 4387, 'write': 6693, 'manipulation': 3636, 'lifestyle': 3421, 'korea': 3295, 'steinbrenner': 5657, 'friendly': 2335, 'suit': 5765, 'adeleine': 126, 'cologne': 1211, 'filthy': 2165, 'voodoo': 6387, 'twentieth': 6224, 'choking': 1102, 'aristotle:': 340, 'fit': 2195, 'bums': 841, 'slurps': 5388, 'smell': 5397, 'coy': 1367, 'drummer': 1780, 'bite': 630, 'full': 2357, 'kazoo': 3210, 'fishing': 2192, 'given': 2474, 'finance': 2168, \"tomorrow's\": 6098, 'the_rich_texan:': 5974, 'linda_ronstadt:': 3442, 'ruled': 4971, 'pitch': 4409, 'boo': 695, 'space-time': 5517, 'dealie': 1510, 'eyeball': 2041, 'super-genius': 5776, 'bag': 450, 'pushes': 4658, 'sotto': 5502, 'mom': 3836, 'lloyd': 3478, 'portentous': 4502, 'fact': 2056, 'dum-dum': 1802, 'international': 3049, 'daaaaad': 1457, 'sugar-me-do': 5762, 'naval': 3968, 'priceless': 4567, 'whenever': 6534, 'lise:': 3457, 'simp-sonnnn': 5299, 'cure': 1437, 'taxi': 5897, 'highball': 2783, 'village': 6369, 'blissful': 655, 'rubbed': 4960, 'other_book_club_member:': 4196, 'team': 5902, 'contemporary': 1297, 'arm': 341, 'camp': 916, 'kept': 3225, 'pocket': 4458, 'kitchen': 3267, 'treehouse': 6165, 'occupation': 4111, 'hose': 2869, 'thirty-thousand': 6012, 'annoyed': 280, 'despite': 1586, 'larry:': 3335, 'restroom': 4870, 'law-abiding': 3350, 'angrily': 273, 'personal': 4351, 'wordloaf': 6658, 'video': 6365, 'beep': 553, 'whim': 6541, 'usually': 6330, 'stripe': 5721, 'acceptance': 98, \"speakin'\": 5524, 'shelf': 5218, 'expired': 2023, 'failed': 2061, \"takin'\": 5863, 'facebook': 2052, 'elocution': 1900, \"snappin'\": 5425, 'junkyard': 3194, 'chinua': 1089, 'rockers': 4923, 'four': 2300, 'beach': 522, 'judgments': 3182, 'lie': 3412, 'espn': 1962, 'list': 3459, 'fwooof': 2382, 'prepared': 4541, 'envy-tations': 1953, 'scare': 5063, 'belong': 585, 'enter': 1941, 'backwards': 442, 'eyed': 2043, 'grrrreetings': 2579, 'under': 6269, 'compare': 1242, 'imported-sounding': 2969, 'declan_desmond:': 1526, 'crab': 1371, 'gags': 2390, 'rat': 4738, \"i-i'm\": 2937, 'drawing': 1744, 'stored': 5698, 'diaper': 1602, 'malfeasance': 3614, 'sucked': 5749, 'fonzie': 2256, 'arise': 338, 'leave': 3365, 'patrons': 4298, \"man's_voice:\": 3623, 'wipes': 6611, 'cutest': 1449, 'judges': 3181, 'special': 5526, 'alive': 213, 'bumblebee_man:': 836, 'composer': 1256, 'jigger': 3151, 'prolonged': 4605, 'barney-shaped_form:': 491, 'whaddya': 6512, 'hiring': 2796, 'savvy': 5054, 'replaced': 4851, 'owes': 4221, 'bauer': 519, 'built': 828, 'panicked': 4254, 'diddilies': 1608, 'midge': 3753, 'eddie:': 1852, 'elizabeth': 1897, 'for': 2266, 'plants': 4428, 'bulked': 829, 'whaaa': 6509, \"patrick's\": 4294, \"fallin'\": 2071, 'sign': 5293, 'coughs': 1337, 'perverted': 4353, 'flame': 2206, 'insulted': 3039, 'trust': 6192, 'happily:': 2672, 'mm': 3805, 'slurred': 5389, 'wade_boggs:': 6399, 'wuss': 6702, 'cueball': 1429, \"hell's\": 2748, 'indeed': 2990, 'crowd:': 1413, 'planned': 4423, 'awesome': 416, 'windex': 6596, 'regretful': 4803, 'patty': 4303, 'emporium': 1913, 'fatso': 2099, \"d'ya\": 1456, 'jeff_gordon:': 3135, 'hare-brained': 2681, 'reached': 4748, 'forgive': 2279, \"it'll\": 3090, \"starla's\": 5617, 'annie': 277, 'british': 789, 'cursed': 1441, 'because': 542, 'heh-heh': 2742, \"depressin'\": 1573, 'brockman': 793, 'once': 4156, 'strolled': 5725, 'lenny': 3386, 'slightly': 5374, 'rent': 4842, 'swell': 5825, 'thirteen': 6008, 'perfunctory': 4341, 'x': 6704, 'hall': 2638, 'nasa': 3958, 'secrets': 5121, 'motto': 3878, 'dies': 1613, 'op': 4173, 'dead': 1506, 'dryer': 1786, 'stab': 5593, 'breathless': 770, 'disapproving': 1647, 'craft': 1374, 'mushy': 3922, 'awe': 414, 'comforting': 1227, 'overflowing': 4215, 'theatrical': 5977, 'squeals': 5585, 'yard': 6718, 'unrelated': 6302, 'candles': 923, 'scotch': 5088, 'ticks': 6053, 'sneering': 5431, 'divine': 1680, 'seats': 5113, 'logos': 3497, 'beverage': 605, 'taxes': 5896, 'waylon': 6464, 'drank': 1739, 'outta': 4212, 'maman': 3618, 'remodel': 4832, 'jerky': 3142, 'reliable': 4816, 'could': 1338, 'elephants': 1893, 'accident': 101, 'boring': 709, 'notch': 4071, 'fire_inspector:': 2181, 'attractive': 392, 'teenage_barney:': 5914, 'stagehand:': 5598, 'genuinely': 2434, 'tenuous': 5937, 'grienke': 2561, 'patting': 4302, 'clammy': 1137, 'mckinley': 3688, 'mathis': 3671, 'instantly': 3035, 'sneaky': 5430, 'microwave': 3749, 'minus': 3782, 'teams': 5904, 'underpants': 6272, 'wham': 6514, 'swe-ee-ee-ee-eet': 5813, 'prints': 4578, 'flash': 2211, 'top': 6114, 'least': 3363, \"watchin'\": 6453, 'bathed': 513, 'spending': 5540, 'tester': 5952, 'hammer': 2641, 'bites': 631, 'friends': 2336, 'dignified': 1621, 'stuff': 5734, 'formico:': 2286, 'schizophrenia': 5073, 'move': 3885, 'fumes': 2362, 'just': 3196, 'unfresh': 6286, 'proposing': 4615, 'citizens': 1131, 'before': 562, 'accent': 96, 'irrelevant': 3078, 'represents': 4855, 'handing': 2647, 'club': 1178, 'dishrag': 1662, 'saga': 5008, 'ga': 2386, 'doors': 1721, 'scam': 5060, 'pussycat': 4661, 'brandy': 754, 'nailed': 3944, 'ha-ha': 2620, 'anymore': 299, 'pall': 4250, 'rules': 4972, 'ehhhhhhhh': 1874, 'yo': 6743, 'later': 3341, 'upset': 6316, 'author': 401, 'stories': 5700, 'maude': 3674, 'insurance': 3041, 'reviews': 4879, 'modestly': 3822, 'ooo': 4169, 'hugh:': 2902, 'gee': 2418, 'bottom': 718, 'mustard': 3931, 'turkey': 6206, 'vestigial': 6358, \"won't\": 6643, 'slender': 5370, 'referee': 4791, 'hardhat': 2678, 'discussing': 1653, 'utility': 6332, 'if': 2952, 'sly': 5390, 'wish': 6616, 'force': 2269, 'press': 4551, 'bras': 755, 'dress': 1753, 'hooky': 2852, 'killed': 3245, 'impatient': 2965, 'cannoli': 925, 'virility': 6376, 'boston': 712, 'corpses': 1326, 'kyoto': 3302, 'buying': 882, 'suspicious': 5806, 'presided': 4546, 'depository': 1570, 'acquaintance': 109, \"stayin'\": 5643, 'warmly': 6432, 'protestantism': 4618, 'gargoyle': 2404, \"swishifyin'\": 5834, 'innocence': 3018, 'jovial': 3174, 'whatchamacallit': 6524, 'e': 1822, 'suspended': 5804, 'adopted': 136, 'lumpa': 3564, 'alfred': 209, 'haikus': 2627, 'modern': 3820, 'nigel_bakerbutcher:': 4025, \"hole'\": 2822, 'horrible': 2864, '$42': 0, 'spot': 5569, 'harmony': 2683, 'settled': 5175, 'myself': 3935, 'kucinich': 3300, 'yourself': 6762, 'indeedy': 2991, 'begging': 567, 'waterfront': 6458, 'swan': 5811, 'depending': 1569, 'heartily': 2728, 'buttocks': 874, \"s'cuse\": 4990, 'compared': 1243, 'beer-jerks': 558, '2nd_voice_on_transmitter:': 37, 'pen': 4323, 'shooting': 5235, 'lookalike:': 3506, 'craphole': 1378, 'teacup': 5901, 'stools': 5692, 'moon-bounce': 3855, 'w-a-3-q-i-zed': 6395, 'boxing': 736, 'blend': 646, 'bachelorette': 434, 'boxcars': 732, 'literature': 3467, 'so-called': 5446, 'spacey': 5518, 'jamaican': 3118, 'he': 2708, 'sometimes': 5489, 'talked': 5869, 'flames': 2207, 'process': 4591, 'happens': 2669, 'meet': 3714, 'clearing': 1151, 'boxers': 735, 'mistresses': 3800, 'wayne:': 6467, 'lurks': 3566, 'speed': 5535, 'people': 4327, 'figure': 2154, \"'cept\": 5, 'tabs': 5855, 'resigned': 4862, 'busted': 868, 'soul': 5503, 'flack': 2202, 'nick': 4021, 'medicine': 3710, 'marvin': 3660, \"how's\": 2892, 'sighs': 5290, 'snitch': 5438, 'reserve': 4860, 'scared': 5064, 'goblins': 2497, 'nein': 3994, 'pre-columbian': 4528, \"o'clock\": 4098, 'simon': 5298, 'especially': 1961, \"i'd\": 2928, 'achem': 108, 'mostly': 3871, 'muhammad': 3903, 'chipper': 1092, 'monkey': 3844, 'chunk': 1122, 'fourteen:': 2303, 'slapped': 5361, 'soon': 5495, 'index': 2992, 'stalwart': 5606, 'killing': 3247, 'roach': 4915, 'pyramid': 4669, 'drains': 1736, 'shells': 5219, 'regret': 4802, 'travel': 6157, 'contractors': 1305, 'huhza': 2904, 'frozen': 2350, 'whispered': 6547, 'sisters': 5327, 'players': 4436, 'louie:': 3534, 'japanese': 3123, 'happiness': 2673, 'upon': 6315, 'asked': 361, 'designer': 1582, 'fills': 2162, 'offshoot': 4132, 'remains': 4825, 'arrived': 349, 'nature': 3965, 'rain': 4715, 'coherent': 1199, 'according': 103, 'pledge': 4448, 'unhappy': 6288, 'neither': 3995, 'hushed': 2921, 'befouled': 563, 'blind': 651, 'blaze': 642, 'warmth': 6433, 'du': 1787, \"must've\": 3929, 'hafta': 2625, 'artist': 354, 'forty-five': 2291, 'words': 6659, 'bitterly': 634, 'jackson': 3110, \"fightin'\": 2151, 'ignoring': 2955, \"santa's\": 5034, 'sweat': 5815, 'hexa-': 2771, 'selection': 5137, 'mimes': 3770, 'cowboy': 1365, 'whispers': 6548, 'atari': 380, 'occupancy': 4110, 'cousin': 1358, 'cigarettes': 1128, 'chain': 1011, 'shades': 5187, 'cares': 949, 'provide': 4625, 'stir': 5679, \"clancy's\": 1139, 'quotes': 4692, 'stop': 5693, 'microphone': 3748, 'cowboys': 1366, 'hustle': 2922, 'superior': 5781, 'manjula': 3637, 'teenage_homer:': 5916, 'plotz': 4450, 'nards': 3955, 'mole': 3835, 'me': 3691, 'ripcord': 4908, 'register': 4801, 'pause': 4305, \"c'mom\": 890, 'liar': 3406, 'pretzel': 4564, 'fools': 2261, 'harv:': 2686, 'singing': 5313, 'gary:': 2406, 'self-satisfied': 5143, 'massachusetts': 3664, 'heh': 2741, \"handwriting's\": 2656, 'old_jewish_man:': 4147, 'hub': 2895, 'gift:': 2457, 'knocks': 3281, 'fall': 2070, 'lawyer': 3352, 'fragile': 2307, 'rancid': 4730, 'glum': 2490, 'lime': 3436, 'doll-baby': 1697, 'skinny': 5352, 'low-life': 3550, 'right': 4900, 'half-beer': 2635, 'house': 2885, 'rub': 4958, 'plow': 4451, 'jimmy': 3153, 'stirrers': 5680, 'germs': 2439, \"what'd\": 6516, 'louder': 3532, 'appearance-altering': 313, 'idealistic': 2947, 'excitement': 2003, 'superpower': 5784, 'lucky': 3561, 'twins': 6234, 'encore': 1916, 'glove': 2488, 'sloppy': 5384, 'perverse': 4352, 'bits': 632, 'act': 113, 'letter': 3400, 'out': 4205, 'brag': 745, 'businessman_#2:': 866, 'close': 1166, 'unkempt': 6297, 'build': 827, 'wooden': 6653, 'toms': 6099, 'football': 2263, 'competing': 1246, 'seven': 5178, 'mini-dumpsters': 3777, 'preparation': 4540, 'bedridden': 546, 'different': 1617, 'dislike': 1664, 'necessary': 3977, 'miserable': 3790, 'unattended': 6260, 'mostrar': 3872, 'appreciated': 321, 'blank': 641, 'taste': 5887, 'giggle': 2460, 'goodbye': 2512, 'gil_gunderson:': 2462, 'firmly': 2188, 'impeach': 2966, 'coin': 1200, 'staying': 5644, 'dash': 1487, 'swooning': 5838, \"usin'\": 6327, 'juice': 3183, 'when': 6531, 'comedy': 1224, 'queen': 4676, 'enabling': 1915, 'wazoo': 6469, 'although': 238, 'lou': 3529, 'soaps': 5452, 'bad-mouth': 444, 'julienne': 3188, 'yards': 6719, 'donut-shaped': 1715, 'wasted': 6448, 'freak': 2315, 'hop': 2856, 'lists': 3465, 'confident': 1275, 'soir': 5467, 'situation': 5336, 'nightmare': 4030, 'dingy': 1630, 'rounds': 4951, 'supermodel': 5783, 'wears': 6482, 'scary': 5066, 'impress': 2970, 'paris': 4269, 'tar-paper': 5885, 'neighborhood': 3991, 'howya': 2894, 'naked': 3946, 'christian': 1108, 'dracula': 1734, 'maybe': 3681, 'libraries': 3410, 'greatest': 2553, 'wholeheartedly': 6562, 'stole': 5684, 'insist': 3028, 'aghast': 176, 'conditioners': 1269, 'impressed': 2971, \"brockman's\": 794, 'swamp': 5810, 'stats': 5637, 'disco': 1649, 'poin-dexterous': 4464, 'sixty': 5340, 'seymour_skinner:': 5185, \"'morning\": 13, 'um': 6255, 'panties': 4256, 'mike_mills:': 3758, 'landlord': 3323, 'nobody': 4044, \"team's\": 5903, 'pilsner-pusher': 4395, 'grampa_simpson:': 2538, 'olive': 4149, 'guys': 2616, 'together': 6084, 'pepto-bismol': 4334, 'name': 3947, 'saget': 5011, 'ew': 1988, 'ing': 3010, 'produce': 4592, 'distinct': 1672, 'interrupting': 3051, 'doug:': 1728, 'friction': 2329, 'sheepish': 5214, 'double': 1726, 'begins': 570, 'all': 215, 'poplar': 4496, \"nothin's\": 4073, 'activity': 116, 'zinged': 6775, 'aw': 410, 'thirty-three': 6013, 'slow': 5386, \"tootin'\": 6113, 'strain': 5705, 'access': 100, 'rummy': 4974, 'cushion': 1442, \"sippin'\": 5321, 'backward': 441, 'memories': 3719, \"car's\": 940, 'excited': 2002, 'aerospace': 149, 'thomas': 6018, 'sudden': 5753, 'witches': 6622, 'calling': 908, \"hawkin'\": 2705, 'all-all-all': 216, 'image': 2960, 'woulda': 6679, 'music': 3923, \"sayin'\": 5057, 'transmission': 6151, 'cobra': 1188, 'decency': 1519, 'text': 5957, 'rubs': 4961, 'amount': 257, 'gimmicks': 2465, 'beans': 527, \"ma'am\": 3576, 'dear': 1514, 'damage': 1464, 'jacques:': 3113, 'smurfs': 5418, 'wide': 6569, 'steaming': 5652, \"seein'\": 5127, 'endorsement': 1923, 'talkers': 5870, 'dads': 1461, 'slogan': 5382, 'alpha-crow': 231, 'brain-switching': 748, \"time's\": 6063, 'tony': 6107, 'pronto': 4611, 'gums': 2603, 'cash': 970, \"department's\": 1568, 'kidding': 3237, 'cries': 1397, 'passenger': 4284, 'ends': 1924, 'throats': 6040, 'everyday': 1981, \"tramp's\": 6149, 'happen': 2667, 'bets': 599, 'kadlubowski': 3202, 'moe-heads': 3828, 'dimly': 1626, 'pasta': 4289, 'family': 2075, 'uncreeped-out': 6267, 'way:': 6463, 'she': 5209, 'lazy': 3355, 'wenceslas': 6501, 'difficult': 1618, 'lager': 3316, 'aid': 189, 'slit': 5378, 'zero': 6772, 'gift': 2456, 'twice': 6232, \"readin'\": 4756, 'life-extension': 3416, 'huge': 2899, 'super-nice': 5777, 'ear': 1826, 'blues': 673, 'marge': 3645, 'thunder': 6049, 'assassination': 367, 'using': 6328, 'round': 4949, 'committee': 1236, 'sieben-gruben': 5288, 'ye': 6721, 'compadre': 1240, 'part': 4274, 'cloudy': 1175, 'billion': 620, 'kentucky': 3224, 'thru': 6046, 'high-definition': 2781, 'curious': 1439, 'trees': 6166, 'unattractive': 6261, 'it': 3088, 'fireball': 2182, 'sincerely': 5307, 'tapping': 5883, 'hemorrhage-amundo': 2759, 'ralphie': 4727, 'whip': 6544, 'sets': 5174, 'its': 3097, 'au': 395, 'saucy': 5047, 'closer': 1168, 'rebuilt': 4770, 'moolah-stealing': 3853, 'accusing': 106, 'luckily': 3560, 'fica': 2141, 'idiots': 2951, 'mumble': 3909, \"heat's\": 2731, 'decent': 1520, 'deacon': 1505, 'network': 4004, 'mechanical': 3707, 'having': 2702, 'kissing': 3265, 'photographer': 4371, 'reaction': 4751, 'names': 3951, 'ruby-studded': 4962, 'hiding': 2779, 'platinum': 4432, 'ease': 1833, 'hanging': 2659, 'grudgingly': 2582, 'thanksgiving': 5966, \"'roids\": 17, 'scum-sucking': 5105, 'wishes': 6618, 'cheap': 1049, 'dejected': 1539, 'nearly': 3974, \"cashin'\": 971, 'trustworthy': 6194, \"pickin'\": 4379, 'managed': 3629, 'hockey-fight': 2817, 'sells': 5147, 'detecting': 1590, 'son-of-a': 5493, 'launch': 3348, 'seas': 5110, 'toss': 6117, 'new_health_inspector:': 4008, 'boxcar': 731, 'laughs': 3346, 'log': 3496, \"wearin'\": 6480, 'wednesday': 6487, 'respect': 4865, 'mock-up': 3817, 'kissed': 3262, 'correction': 1329, 'micronesian': 3747, 'aboard': 84, 'eminence': 1907, 'sharing': 5204, 'quit': 4689, 'wa': 6396, 'bet': 596, 'headhunters': 2714, 'recreate': 4784, 'securities': 5123, 'radioactive': 4702, 'troy': 6184, 'developed': 1595, 'investor': 3064, 'steel': 5654, 'gangrene': 2401, 'distraught': 1674, 'page': 4235, 'kahlua': 3203, 'churchy': 1126, 'protesting': 4620, 'donor': 1713, 'moments': 3838, 'butts': 878, 'brainheaded': 749, 'jazz': 3129, 'newsweek': 4015, 'flush-town': 2236, 'sizes': 5344, 'shape': 5199, 'cell': 998, 'hears': 2724, 'vanities': 6344, 'owner': 4224, 'radiator': 4699, 'find': 2169, 'rag': 4706, 'roomy': 4941, 'hideous': 2778, '_zander:': 72, 'owe': 4220, 'ones': 4160, 'las': 3337, '__period__': 56, 'twelve': 6221, 'go-near-': 2495, 'suspenders': 5805, \"weren't\": 6504, 'cranberry': 1375, 'tobacky': 6078, \"she'd\": 5210, 'syrup': 5845, 'grammy': 2535, 'position': 4505, 'vodka': 6380, 'solely': 5469, 'supplying': 5787, 'checking': 1056, 'ordered': 4185, 'summer': 5768, 'lindsay': 3443, 'salary': 5017, \"nixon's\": 4040, 'michael_stipe:': 3743, 'generously': 2426, 'pets': 4357, 'disappeared': 1643, 'pinball': 4397, 'saw': 5055, 'crunch': 1422, 'brow': 807, 'pair': 4247, 'reopen': 4845, 'minimum': 3778, 'whirlybird': 6545, 'bottles': 717, 'seductive': 5125, 'been': 552, 'fine': 2171, 'shaved': 5208, 'tomato': 6094, 'anyway': 302, \"valentine's\": 6336, 'producers': 4593, 'swig': 5827, 'gonna': 2508, 'jail': 3115, 'billboard': 617, 'little_hibbert_girl:': 3469, 'mason': 3663, 'please': 4444, 'supreme': 5792, 'stonewall': 5688, 'gum': 2600, 'pour': 4515, 'mistakes': 3798, 'listening': 3463, 'gas': 2408, 'captain': 936, \"cheerin'\": 1061, 'notorious': 4078, 'mozzarella': 3892, 'dig': 1619, 'hers': 2769, 'mccarthy': 3686, 'purveyor': 4655, \"squeezin'\": 5588, 'putty': 4666, 'homers': 2839, 'civil': 1135, 'lucius:': 3557, 'carl_carlson:': 955, 'glen': 2482, 'hello': 2751, 'nation': 3962, 'idiot': 2950, 't-shirt': 5848, 'ball': 456, 'cheery': 1065, 'gulps': 2599, 'bring': 785, 'day': 1499, 'koi': 3292, 'trivia': 6178, 'cheryl': 1069, 'medieval': 3711, 'and': 263, 'higher': 2784, 'stopped': 5694, 'land': 3321, \"mopin'\": 3860, 'incarcerated': 2979, 'frankie': 2310, 'ingrates': 3012, 'speech': 5534, 'investment': 3063, 'turning': 6210, 'tonight': 6104, 'wobbly': 6630, 'bee': 549, 'health_inspector:': 2719, 'allowance': 223, 'orgasmville': 4189, 'intakes': 3043, 'ugliest': 6247, 'course': 1353, 'rivalry': 4913, 'solved': 5472, 'everything': 1984, \"'topes\": 22, 'bash': 509, 'golf': 2506, 'blamed': 640, 'dame': 1465, 'murdered': 3913, 'starlets': 5619, 'campaign': 917, 'calendars': 902, 'real': 4761, 'forecast': 2272, 'stars': 5620, 'touchdown': 6122, 'oh-ho': 4135, 'hands': 2652, \"ragin'\": 4710, 'hottest': 2880, 'genius': 2427, 'chicks': 1076, 'david': 1496, 'appreciate': 320, 'couch': 1335, 'chug-a-lug': 1118, 'buy': 879, 'princesses': 4575, 'happy': 2674, \"aristotle's\": 339, 'apology': 307, 'imagine': 2962, 'recall': 4772, 'than': 5961, 'california': 904, 'late': 3339, \"father's\": 2098, 'tommy': 6096, 'santa': 5033, 'lobster': 3486, 'bid': 608, 'relaxed': 4811, 'lump': 3563, 'lover': 3544, 'naturally': 3964, \"he's\": 2711, 'storms': 5701, 'buddha': 818, 'beady': 524, 'nantucket': 3952, 'fair': 2065, 'tells': 5925, 'buttons': 877, 'muscle': 3919, 'pudgy': 4632, 'hungry': 2911, 'boxer': 733, 'unsanitary': 6304, 'pumping': 4645, \"kid's\": 3235, 'those': 6021, 'men:': 3723, 'apply': 318, 'sing': 5308, 'say': 5056, 'burps': 855, 'donut': 1714, 'moesy': 3834, 'self-esteem': 5141, 'romance': 4932, 'restless': 4869, 'considering:': 1287, 'open': 4174, 'tire': 6072, 'quiet': 4684, 'insecure': 3022, 'warranty': 6437, 'peppers': 4331, 'los': 3517, 'assumed': 374, 'cans': 928, \"'pu\": 16, \"g'night\": 2384, 'branding': 753, 'nelson_muntz:': 3997, 'tv_wife:': 6220, 'curiosity': 1438, 'read:': 4754, 'certificate': 1008, 'consoling': 1289, 'conspiratorial': 1291, 'inanely': 2977, 'exhibit': 2011, 'mountain': 3880, 'zoomed': 6777, 'arab_man:': 329, 'tomahto': 6093, 'har': 2675, 'agent': 168, 'director': 1637, 'smitty:': 5407, 'outlive': 4206, 'would': 6678, 'fainted': 2064, 'gambler': 2395, 'taylor': 5898, 'unusually': 6308, 'tornado': 6116, 'patterns': 4301, 'gunter:': 2608, 'groin': 2572, \"daughter's\": 1495, 'hollywood': 2827, 'father': 2097, 'scornful': 5086, \"table's\": 5852, 'ceremony': 1005, 'othello': 4193, 'don': 1704, 'nor': 4061, 'phlegm': 4366, 'reconsidering': 4780, 'sideshow': 5285, 'wizard': 6628, 'shrugging': 5267, \"smokin'_joe_frazier:\": 5412, 'near': 3973, 'vulnerable': 6393, 'gary_chalmers:': 2407, 'dreamily': 1747, 'stooges': 5690, 'persia': 4349, 'homer_': 2836, 'abercrombie': 82, 'ah': 182, 'mall': 3616, 'lachrymose': 3308, 'shout': 5252, 'six-barrel': 5338, 'hawking:': 2706, 'blocked': 658, 'nigeria': 4026, \"today's\": 6080, 'koji': 3293, 'knowledge': 3285, 'calmly': 911, 'penny': 4326, 'word': 6657, 'mommy': 3839, 'three': 6035, 'watt': 6460, 'sat': 5040, 'traffic': 6141, 'contract': 1304, 'hired': 2795, \"who'da\": 6554, 'errrrrrr': 1959, 'snort': 5439, 'time': 6062, 'wash': 6441, 'poetry': 4463, 'back': 436, 'radio': 4701, 'modest': 3821, 'serious': 5166, 'yup': 6768, 'smithers': 5406, 'white': 6551, 'lincoln': 3440, 'ominous': 4152, 'beers': 560, 'bartender': 500, \"beggin'\": 566, 'mediterranean': 3713, 'annoying': 281, 'scully': 5103, 'danny': 1480, 'leans': 3358, 'repay': 4847, 'filled': 2161, 'winnings': 6606, 'grunts': 2588, 'infor': 3007, 'shag': 5188, 'promised': 4607, 'did': 1607, 'tokens': 6087, 'charming': 1042, \"renovatin'\": 4840, 'ralph_wiggum:': 4726, 'abusive': 93, 'low-blow': 3549, 'alma': 226, 'relationship': 4808, 'nicer': 4020, 'gel': 2421, 'manager': 3630, 'toxins': 6134, '/': 25, 'strictly': 5719, '1973': 32, 'pigtown': 4390, 'frankly': 2311, 'spreads': 5574, 'power': 4518, 'aquafresh': 328, 'chuckling': 1116, 'burning': 851, 'arrested:': 348, 'pinchpenny': 4398, 'eco-fraud': 1849, 'of': 4121, 'innocent': 3019, 'voice': 6381, 'meditative': 3712, \"wallet's\": 6416, 'march': 3642, 'james': 3119, 'cigars': 1129, 'hibbert': 2775, 'undermine': 6271, 'seminar': 5151, 'dateline': 1491, 'kwik-e-mart': 3301, 'sampler': 5025, 'eighty-six': 1883, 'domed': 1702, 'smoker': 5409, 'someone': 5479, 'noooooooooo': 4057, 'gut': 2610, 'young_barfly:': 6754, 'repeated': 4848, 'praise': 4524, 'sob': 5453, 'nominated': 4049, '_hooper:': 65, 'proposition': 4616, 'disappointment': 1646, 'glamour': 2478, 'w': 6394, 'hurt': 2917, 'placed': 4415, 'aside': 359, 'sold': 5468, 'grabs': 2529, 'stops': 5695, 'starve': 5629, 'barstools': 495, 'civic': 1134, 'c': 888, 'aged': 165, 'less': 3395, 'leprechaun': 3394, 'awkwardly': 420, 'grandmother': 2542, 'easy-going': 1839, 'clone': 1165, 'scream': 5094, \"burnin'\": 850, 'administration': 130, 'popping': 4498, 'offa': 4123, 'politician': 4483, 'parents': 4268, 'salvador': 5021, 'row': 4953, \"tellin'\": 5923, 'sticking': 5668, \"round's\": 4950, \"moe's_thoughts:\": 3825, 'ned': 3981, 'agents': 171, 'runt': 4982, 'telemarketing': 5919, 'pfft': 4359, 'perón': 4354, 'tracks': 6137, 'jasper_beardly:': 3125, 'rasputin': 4736, 'yet': 6740, 'think': 6002, 'saint': 5015, 'stink': 5675, 'sweetest': 5821, 'chauffeur': 1047, 'owned': 4223, 'polls': 4486, 'professional': 4596, 'mail': 3600, 'issues': 3086, 'emotional': 1909, 'overhearing': 4216, 'syndicate': 5843, 'does': 1689, 'mcclure': 3687, 'stevie': 5663, 'barn': 487, 'putting': 4665, 'scram': 5090, 'doubt': 1727, 'attracted': 390, 'philosophic': 4364, 'general': 2422, 'sister-in-law': 5326, 'clothespins:': 1174, 'enough': 1940, 'methinks': 3735, 'hopeful': 2859, 'spoken': 5559, 'now': 4082, 'renovations': 4841, 'usual': 6329, 'statesmanlike': 5633, 'pointing': 4468, 'ziff': 6773, 'a-lug': 76, \"stinkin'\": 5676, 'friendship': 2337, 'barf': 481, 'insults': 3040, 'michelin': 3744, 'important': 2968, 'chuckle': 1114, 'floor': 2228, 'pure': 4652, 'hi': 2773, 'crying': 1424, 'own': 4222, 'glee': 2481, 'snide': 5433, 'total': 6118, 'losing': 3521, 'secret': 5119, 'bonding': 688, 'seconds': 5118, \"c'mon\": 891, 'jams': 3120, 'seamstress': 5108, 'i-i': 2935, 'telling': 5924, 'trapping': 6154, 'awful': 417, 'railroads': 4714, 'strangles': 5709, \"thinkin'\": 6003, 'delts': 1555, 'mortgage': 3868, 'joined': 3166, 'hundred': 2908, 'neighboreeno': 3990, 'ducked': 1788, 'fbi_agent:': 2108, 'flophouse': 2229, \"drivin'\": 1769, 'hours': 2884, 'ron': 4935, 'knocked': 3279, 'santeria': 5035, \"children's\": 1082, 'thrown': 6044, 'fist': 2193, 'bull': 830, 'gregor': 2557, 'foot': 2262, 'carl:': 954, 'not': 4069, 'talk': 5866, 'brightening': 782, 'bow': 725, 'reaches': 4749, 'cards': 944, 'benjamin:': 593, 'pipes': 4405, 'smelly': 5400, 'writers': 6695, 'gol-dangit': 2502, 'began': 565, 'due': 1790, 'shaky': 5195, 'characteristic': 1034, 'nahasapeemapetilon': 3942, 'cell-ee': 999, 'food': 2257, 'bake': 454, 'flew': 2222, 'weep': 6492, 'advertise': 144, 'inserted': 3024, 'guiltily': 2596, 'norway': 4066, 'cheat': 1053, 'had': 2623, 'tied': 6056, 'teach': 5899, 'cats': 981, 'choice': 1095, 'layer': 3354, \"duff's\": 1794, 'longer': 3502, 'stupid': 5737, 'freaky': 2317, \"'ere\": 9, 'boozebag': 705, 'ale': 206, 'pit': 4408, 'twenty': 6225, 'limericks': 3437, 'aunt': 399, 'girls': 2472, 'jam': 3117, 'flag': 2203, 'crotch': 1409, 'professor': 4597, 'lights': 3431, \"rustlin'\": 4985, 'opening': 4176, 'bunch': 842, 'windshield': 6599, 'examples': 1994, 'carnival': 961, 'fury': 2376, 'early': 1828, 'feast': 2111, 'wikipedia': 6581, 'beer-dorf': 557, 'swings': 5833, 'hydrant': 2924, 'cock': 1189, 'mind-numbing': 3772, 'prep': 4539, 'looser': 3513, 'comment': 1233, 'affectations': 150, 'bleak': 644, \"grandmother's\": 2543, 'holidays': 2824, 'coined': 1202, 'mater': 3669, 'unintelligent': 6292, 'sec_agent_#1:': 5115, 'goldarnit': 2504, 'well-wisher': 6499, 'wildest': 6583, 'offer': 4127, 'loyal': 3554, 'yawns': 6720, \"'em\": 7, 'slyly': 5391, 'birthplace': 628, 'duty': 1815, 'terrace': 5941, 'doom': 1718, 'born': 710, 'relaxing': 4812, 'carl': 952, 'punch': 4646, 'future': 2380, 'misconstrue': 3789, 'bum:': 835, 'says': 5059, 'noise': 4047, 'so-ng': 5447, 'drinking': 1761, 'driver': 1766, 'newsies': 4012, 'johnny': 3163, \"wonderin'\": 6647, 'most:': 3870, 'baritone': 484, 'twenty-five': 6226, 'menace': 3724, 'fast': 2089, 'richard': 4888, 'background': 439, 'ready': 4760, 'pancakes': 4253, 'darkness': 1484, 'elder': 1889, 'squirrel': 5589, 'step': 5659, 'cricket': 1396, 'accepting': 99, 'crowded': 1414, \"dyin'\": 1816, 'willy': 6589, 'score': 5084, 'splash': 5556, 'you': 6747, 'elite': 1896, 'surprising': 5799, 'solo': 5471, 'front': 2347, 'butt': 871, 'evasive': 1971, 'kansas': 3206, 'twenty-six': 6229, 'grandkids': 2541, 'fastest': 2092, 'per': 4335, 'entrance': 1950, 'chow': 1107, 'kisser': 3263, 'squadron': 5581, 'pepsi': 4333, 'penmanship': 4324, 'loneliness': 3499, \"writin'\": 6696, \"tryin'\": 6197, 'sponsor': 5562, 'whether': 6538, 'mt': 3895, 'heading': 2715, 'moe-clone:': 3827, 'elaborate': 1888, 'african': 157, 'glass': 2479, 'fund': 2366, 'baby': 432, 'selma_bouvier:': 5149, 'almost': 228, 'wanna': 6424, 'nickels': 4024, 'y-you': 6712, 'bushes': 862, 'fumigated': 2363, 'peppy': 4332, 'inside': 3026, 'desire': 1583, 'swatch': 5812, 'shaker': 5191, 'tv_announcer:': 6216, 'dog': 1691, 'career': 946, 'lard': 3331, 'brains': 751, 'goal': 2496, 'gimme': 2463, 'grand': 2539, 'delete': 1542, 'terrible': 5942, 'solid': 5470, 'sky': 5357, 'rector': 4786, 'instead': 3036, 'o': 4096, 'er': 1956, \"b-52's:\": 427, 'desperate': 1584, 'underbridge': 6270, 'violin': 6374, 'schabadoo': 5070, \"others'\": 4198, 'speaking': 5525, 'beauty': 540, 'parenting': 4267, 'jerk': 3138, 'failure': 2062, 'affects': 152, 'may': 3677, 'tv-station_announcer:': 6215, 'an': 259, 'creates': 1388, 'scruffy_blogger:': 5100, 'victorious': 6363, 'richard:': 4889, 'formico': 2285, \"ol'\": 4144, '50%': 42, 'bide': 609, \"wino's\": 6607, \"rentin'\": 4844, 'goes': 2499, 'dishonor': 1661, 'andy': 270, 'ads': 138, 'indecipherable': 2989, 'snorts': 5440, 'warning': 6436, 'gasps': 2411, 'upgrade': 6313, 'kneeling': 3271, 'mudflap': 3898, 'lottery': 3528, 'man_with_tree_hat:': 3627, 'forbids': 2268, 'rap': 4732, 'beat': 533, 'cable': 894, 'maggie': 3592, 'squishee': 5591, 'klingon': 3269, 'handwriting': 2655, 'made': 3586, 'corn': 1322, 'results': 4872, 'product': 4594, 'cannot': 926, 'beligerent': 580, 'quick': 4681, 'grab': 2527, 'screws': 5097, 'watered': 6456, \"other's\": 4195, 'robot': 4921, 'scatter': 5067, 'pro': 4585, 'bank': 466, 'pointedly': 4467, 'tolerance': 6091, 'permitting': 4346, 'original': 4191, 'soaking': 5450, 'mister': 3799, \"somethin'\": 5482, 'wrestle': 6691, 'sack': 4996, 'loss': 3522, 'kim_basinger:': 3250, 'child': 1079, 'suppose': 5790, 'oughtta': 4202, 'marmaduke': 3652, 'pizza': 4412, 'hoping': 2860, 'times': 6064, 'grenky': 2558, 'twenty-nine': 6228, 'shtick': 5269, 'derek': 1577, 'sad': 4999, 'valuable': 6338, 'kodos:': 3290, 'raccoons': 4695, 'vicious': 6361, 'wigs': 6580, 'painting': 4244, 'poking': 4477, 'soft': 5465, 'journey': 3173, '10:15': 29, 'likes': 3433, 'politics': 4485, 'monster': 3849, 'mortal': 3867, 'superhero': 5780, 'fire': 2180, \"bar's\": 473, 'powerful': 4520, 'benefits': 591, 'bachelor': 433, 'nigerian': 4027, \"'your\": 23, 'grin': 2566, 'hateful': 2696, 'forget': 2275, 'blobbo': 657, 'cuz': 1452, 'birthday': 627, 'folks': 2248, 'email': 1903, 'radishes': 4703, 'adult_bart:': 140, \"dimwit's\": 1627, 'fudd': 2355, 'grubby': 2581, 'coming': 1231, 'celebration': 994, 'trunk': 6191, 'tyson/secretariat': 6242, 'west': 6505, 'lock': 3491, 'blow': 666, 'sitting': 5335, 'very': 6357, 'fletcherism': 2221, 'little': 3468, 'combines': 1220, 'ladies': 3310, 'appropriate': 322, 'sunday': 5771, 'adrift': 137, \"o'\": 4097, 'stillwater:': 5672, 'ollie': 4150, 'len-ny': 3383, \"sittin'\": 5334, 'legs': 3379, 'bible': 607, 'spiritual': 5550, 'treasure': 6158, 'urine': 6322, 'hates': 2697, 'remembers': 4829, \"brady's\": 744, 'school': 5076, 'cheers': 1064, 'supposed': 5791, 'beneath': 590, 'shortcomings': 5242, 'invited': 3067, \"life's\": 3415, 'harrowing': 2684, 'life-threatening': 3419, 'black': 635, 'portuguese': 4504, '__comma__': 52, 'flying': 2239, 'frog': 2344, 'paramedic:': 4264, 'mrs': 3894, 'symphonies': 5842, 'test-lady': 5951, 'updated': 6312, 'counting': 1345, 'snake_jailbird:': 5423, 'lease': 3362, 'joey': 3159, 'stayed': 5642, 'hand': 2645, 'costume': 1332, 'illegal': 2957, 'puts': 4663, 'pathetic': 4292, 'daughter': 1494, 'jer': 3137, 'democrats': 1559, 'clothes': 1172, 'super-tough': 5778, 'ratted': 4744, 'thousands': 6033, 'grateful': 2547, 'swelling': 5826, 'goo': 2509, 'saving': 5052, 'attractive_woman_#2:': 394, 'eggshell': 1870, 'landfill': 3322, 'trainers': 6145, 'fears': 2110, 'prince': 4573, 'multi-purpose': 3907, 'catch-phrase': 978, 'initially': 3015, 'scarf': 5065, 'duff_announcer:': 1795, 'jogging': 3161, 'bubbles-in-my-nose-y': 815, 'depressed': 1572, \"murphy's\": 3918, 'pad': 4232, 'wonder': 6644, 'eighty-three': 1884, 'caused': 987, 'meals': 3693, 'put': 4662, 'mexicans': 3738, 'liver': 3473, 'published': 4630, 'pennies': 4325, 'janette': 3122, 'living': 3476, 'l': 3303, 'lloyd:': 3479, 'pointed': 4466, 'endorsed': 1922, 'suburban': 5745, 'correct': 1327, 'reporter': 4852, 'bail': 453, \"ya'\": 6714, 'tiger': 6057, 'feels': 2120, 'prices': 4568, 'kidneys': 3240, 'sistine': 5328, 'moe-near-now': 3830, 'points': 4470, 'pageant': 4236, 'parked': 4271, 'ehhhhhhhhh': 1875, 'pain': 4239, 'obese': 4103, 'magic': 3594, 'billingsley': 619, \"'\": 2, 'rats': 4743, 'public': 4628, 'mags': 3596, 'haw': 2703, 'bugging': 825, 'makes': 3608, 'fifth': 2147, 'y': 6708, 'extreme': 2036, 'lungs': 3565, 'poster': 4510, 'cleaning': 1149, 'online': 4163, 'sang': 5029, 'else': 1901, 'sidekick': 5283, 'clench': 1154, 'support': 5788, 'bupkus': 844, 'came': 913, 'ohmygod': 4139, 'shower': 5258, 'wang': 6422, \"spaghetti-o's\": 5519, 'stool': 5691, 'handoff': 2651, 'therapy': 5986, 'pretend': 4557, 'bloodball': 662, 'burglary': 847, 'links': 3449, 'hellhole': 2749, 'viva': 6379, 'indignant': 2997, \"'cause\": 4, 'maitre': 3603, 'point': 4465, 'exactly': 1991, 'easy': 1838, 'maximum': 3676, 'popular': 4499, 'standing': 5612, 'buried': 848, 'invulnerable': 3070, 'cheaper': 1051, 'yours': 6760, 'monorails': 3846, 'smug': 5415, 'film': 2163, 'gentles': 2432, 'boisterous': 683, 'easter': 1837, 'singing/pushing': 5314, 'tow-talitarian': 6129, 'sniffles': 5435, \"springfield's\": 5576, 'courts': 1357, 'bald': 455, 'showered': 5259, 'noticing': 4077, 'booze': 703, 'fdic': 2109, 'million': 3769, 'machine': 3583, 'peanuts': 4319, 'expensive': 2018, 'sausage': 5048, 'mayor': 3682, 'massage': 3665, 'stamp': 5607, 'tearfully': 5906, 'nauseous': 3967, 'meanwhile': 3702, 'tsk': 6199, 'themselves': 5981, 'guts': 2612, 'writer:': 6694, 'united': 6294, 'customers': 1445, 'seeing': 5128, 'exquisite': 2031, 'channel': 1028, 'homesick': 2840, 'leonard': 3393, 'naively': 3945, 'appear': 312, 'kids': 3241, 'renew': 4839, 'suddenly': 5754, 'handling': 2650, 'oblongata': 4105, 'realize': 4763, 'strains': 5707, 'half-day': 2636, 'no': 4041, 'shaken': 5190, 'martini': 3658, 'fail': 2060, 'convinced': 1311, 'wolverines': 6635, 'human': 2905, 'uh': 6250, 'zack': 6769, 'introduce': 3059, 'clock': 1164, 'typed': 6240, 'passion': 4286, 'chorus:': 1105, 'ginger': 2468, 'ruined': 4968, 'thorn': 6019, 'lousy': 3537, 'alva': 239, 'statue': 5638, 'employees': 1911, 'including': 2982, 'spanish': 5521, 'dogs': 1693, 'show': 5254, 'packets': 4231, 'voyager': 6391, 'evening': 1974, 'truth': 6195, 'j': 3103, 'gator': 2412, 'caper': 932, 'ding-a-ding-ding-ding-ding-ding-ding': 1629, 'bumpy-like': 840, 'equivalent': 1955, 'drunks': 1784, 'eye-gouger': 2040, 'alls': 225, 'cockroach': 1191, 'africa': 156, 'selective': 5138, '__question_mark__': 57, 'sober': 5455, 'further': 2375, 'vance': 6343, 'pressure': 4553, 'up': 6309, 'pills': 4394, 'bless': 647, 'gear-head': 2417, 'brothers': 805, 'hubub': 2896, 'amends': 249, 'yelling': 6730, 'shesh': 5221, 'pockets': 4459, 'fireworks': 2185, 'plan': 4419, 'numeral': 4091, 'frazier': 2314, 'brunch': 810, 'eggs': 1869, 'result': 4871, 'consider': 1285, \"there's\": 5988, 'ingredient': 3013, 'case': 968, 'jets': 3147, 'leno': 3391, 'ladder': 3309, 'a-b-': 75, 'drawn': 1745, 'occurred': 4113, 'carb': 942, 'freaking': 2316, 'selfish': 5144, 'blur': 675, 'bell': 581, 'albert': 202, 'causes': 988, 'ziffcorp': 6774, 'brave': 758, 'believe': 578, 'mix': 3803, 'rainier_wolfcastle:': 4719, 'confidence': 1274, 'unbelievably': 6264, 'visas': 6378, 'geyser': 2450, 'babar': 429, 'eighteen': 1879, 'rueful': 4964, 'u': 6243, 'rope': 4943, 'irs': 3079, 'devils:': 1597, 'lord': 3515, 'worthless': 6677, 'butterball': 873, 'application': 317, 'bartenders': 502, 'compete': 1245, 'happily': 2671, 'tip': 6069, 'across': 112, 'muertos': 3899, 'commit': 1235, 'window': 6597, 'oopsie': 4172, '/mr': 26, 'lose': 3518, 'learned': 3361, 'punishment': 4649, 'species': 5530, 'fellow': 2127, 'não': 4095, 'intelligent': 3044, 'town': 6132, 'ass': 366, 'judge_snyder:': 3180, 'resist': 4863, 'pays': 4313, 'girl-bart': 2470, 'dictating': 1605, \"knockin'\": 3280, 'specified': 5532, 'spooky': 5564, 'illegally': 2958, 'inquiries': 3021, 'ways': 6468, 'ninety-nine': 4035, 'madison': 3587, 'onion': 4161, 'third': 6006, 'defeated': 1534, 'hunter': 2914, 'each': 1824, 'whoopi': 6564, 'expose': 2028, 'streetcorner': 5715, 'cheese': 1066, 'sustain': 5808, 'unfair': 6282, 'apu': 325, 'gave': 2414, \"kids'\": 3242, 'weary': 6483, 'lance': 3320, \"singin'\": 5312, 'dispenser': 1666, 'send': 5156, 'interested': 3047, 'popped': 4497, 'glad': 2477, 'roy': 4954, 'label': 3305, 'dexterous': 1598, 'best': 595, 'bye': 886, 'raise': 4721, 'frink': 2340, \"something's\": 5486, \"liftin'\": 3425, 'him': 2792, 'wiener': 6571, 'eleven': 1894, 'single-mindedness': 5316, 'nibble': 4018, 'throwing': 6043, 'wobble': 6629, 'prompting': 4609, 'crony': 1405, 'orifice': 4190, 'sacajawea': 4995, 'encouraged': 1918, 'payday': 4309, 'cuff': 1430, 'thawing': 5971, 'approval': 323, \"stealin'\": 5648, 'concerned': 1265, 'smile': 5401, 'combine': 1219, 'tired': 6073, 'loser': 3519, 'small_boy:': 5394, 'whining': 6542, 'hank_williams_jr': 2664, 'above': 87, 'orphan': 4192, 'occurs': 4115, 'rotch': 4946, 'physical': 4374, \"stabbin'\": 5594, 'minister': 3779, 'dunno': 1812, 'remote': 4834, 'je': 3130, 'congoleum': 1279, 'faith': 2066, 'new': 4007, \"collector's\": 1208, 'windowshade': 6598, 'apu_nahasapeemapetilon:': 326, 'scrape': 5091, 'carlotta:': 957, 'runners': 4979, 'cow': 1362, 'this': 6014, 'milhouses': 3763, 'notices': 4076, \"fryer's\": 2354, 'basement': 508, 'nursemaid': 4093, 'vegas': 6346, 'jerry': 3144, 'dyspeptic': 1819, 'befriend': 564, 'button-pusher': 876, \"somebody's\": 5476, 'ripping': 4911, 'kenny': 3221, 'hold': 2818, 'quero': 4679, 'grave': 2548, 'uneasy': 6280, 'joe': 3158, 'join': 3165, 'unexplained': 6281, 'recap:': 4773, 'marjorie': 3650, 'sagacity': 5009, 'bit': 629, 'capitol': 934, 'blows': 670, 'missing': 3795, 'lewis': 3403, 'fat': 2093, 'fontaine': 2255, 'eliminate': 1895, 'fiiiiile': 2157, 'spoon': 5565, 'honest': 2843, 'lead': 3356, 'gin-slingers': 2467, 'forgotten': 2282, 'sweater': 5816, 'nonsense': 4055, 'precious': 4531, 'bridges': 778, 'reach': 4747, 'waist': 6402, 'yellow': 6732, \"bringin'\": 786, 'subject': 5743, 'lovely': 3543, 'want': 6425, 'fortune': 2289, 'triangle': 6170, 'cerebral': 1004, 'eyeing': 2044, 'de-scramble': 1503, 'warren': 6438, 'answers': 289, 'notably': 4070, 'french': 2323, 'sass': 5038, 'camera': 914, 'wall': 6414, 'bump': 838, 'patron_#2:': 4297, 'dark': 1482, 'tall': 5873, 'sure': 5793, 'twenty-four': 6227, 'temper': 5927, 'certainly': 1007, 'pizzicato': 4413, 'forgot': 2281, 'selma': 5148, 'ashtray': 358, 'handshake': 2653, 'wow': 6684, 'gargoyles': 2405, 'fridge': 2331, 'neil_gaiman:': 3993, 'gardens': 2403, 'drawer': 1742, 'over': 4213, 'wiggle': 6577, 'should': 5246, 'pleased': 4446, 'ought': 4200, 'rusty': 4986, \"'kay-zugg'\": 12, 'vin': 6371, 'itchy': 3094, 'unlucky': 6301, 'nash': 3960, 'bathing': 514, 'krabappel': 3296, 'incredulous': 2987, 'puff': 4633, 'nfl_narrator:': 4017, 'clap': 1141, 'kickoff': 3232, 'danish': 1478, \"cleanin'\": 1148, 'screams': 5095, 'tatum': 5890, 'unsafe': 6303, 'romantic': 4933, 'underwear': 6277, 'desperately': 1585, \"jackpot's\": 3107, 'closet': 1170, 'grope': 2573, 'britannia': 788, 'led': 3369, 'connor-politan': 1283, 'carefully': 948, 'show-off': 5256, 'incognito': 2983, 'eating': 1845, 'broken': 796, 'aah': 77, 'box': 730, 'suave': 5741, 'shaggy': 5189, 'four-drink': 2301, \"queen's\": 4677, 'booking': 700, 'psst': 4626, 'life': 3414, 'gloop': 2486, 'sentimonies': 5162, 'fledgling': 2220, 'poetics': 4462, 'looooooooooooooooooong': 3512, 'dennis': 1560, 'inherent': 3014, 'belly': 582, 'mount': 3879, 'and:': 266, 'duke': 1800, 'afloat': 154, 'narrator:': 3957, \"dolph's_dad:\": 1701, 'horribilis': 2863, 'patented': 4291, 'type': 6239, 'tabooger': 5854, 'fustigation': 2379, \"challengin'\": 1016, 'nameless': 3950, 'tanking': 5877, 'letters': 3401, 'along': 230, 'cesss': 1010, 'children': 1081, 'cocoa': 1195, 'milk': 3766, 'scientists': 5081, 'come': 1221, 'were': 6503, 'yeah': 6723, 'america': 250, 'chips': 1093, 'arts': 355, \"town's\": 6133, 'sixty-five': 5341, 'mayan': 3680, 'hoo': 2848, 'pip': 4403, 'mirror': 3786, 'bouquet': 723, 'insensitive': 3023, 'follow': 2249, 'lend': 3384, \"people's\": 4328, 'crawl': 1381, 'mansions': 3639, 'plenty': 4449, 'started': 5622, 'ripped': 4909, 'four-star': 2302, 'golden': 2505, 'scratcher': 5092, 'square': 5582, 'simplest': 5301, 'depression': 1575, 'hillary': 2789, 'though': 6022, 'sabermetrics': 4994, 'dropped': 1775, 'awareness': 412, 'number': 4088, 'hunka': 2912, 'mmmmm': 3810, 'eyeballs': 2042, 'into': 3054, 'outlook': 4207, 'enforced': 1928, 'easier': 1834, 'or': 4183, 'five-fifteen': 2197, 'pretending': 4558, 'privacy': 4581, 'melodramatic': 3718, 'onto': 4166, 'tight': 6059, 'tv_father:': 6218, 'recommend': 4779, 'driveability': 1765, 'navy': 3969, 'eventually': 1976, 'brace': 743, 'scent': 5069, 'talk-sings': 5867, 'junebug': 3192, 'science': 5079, 'jane': 3121, 'designated': 1581, 'anthony_kiedis:': 290, 'italian': 3093, 'snapping': 5426, 'riveting': 4914, 'shreda': 5264, 'murderously': 3914, \"floatin'\": 2226, 'malibu': 3615, 'soup': 5509, 'hitler': 2802, 'mural': 3912, 'e-z': 1823, 'arrest': 347, 'belly-aching': 583, 'vigilante': 6368, 'lushmore': 3570, 'sprawl': 5572, 'lovejoy': 3541, 'creme': 1393, 'shoulder': 5249, 'casual': 974, \"shootin'\": 5234, 'enthusiasm': 1946, \"playin'\": 4439, 'successful': 5746, 'fifty': 2148, \"i've\": 2934, 'crestfallen': 1394, 'wrapped': 6687, 'aziz': 425, 'something': 5485, 'taunting': 5893, 'stick': 5665, 'reader': 4755, 'between': 604, 'veteran': 6359, 'taking': 5864, 'offended': 4124, 'bones': 691, \"washin'\": 6444, 'mulder': 3904, 'sadistic_barfly:': 5001, 'guttural': 2613, '__semicolon__': 61, 'sloe': 5381, 'thnord': 6017, 'evils': 1987, 'night': 4028, 'pus-bucket': 4656, 'al_gore:': 199, 'disguise': 1658, 'horses': 2868, 'rolled': 4927, 'cheated': 1054, 'darn': 1485, 'buddies': 819, 'gabriel:': 2388, 'weekend': 6489, \"that'll\": 5969, 'ahhhh': 188, 'was': 6440, 'pipe': 4404, 'sour': 5511, 'absentminded': 88, 'diminish': 1625, 'yell': 6729, 'earlier': 1827, 'card': 943, 'trade': 6138, 'belts': 588, 'sideshow_mel:': 5287, \"that'd\": 5968, 'it:': 3092, 'semi-imported': 5150, 'shrieks': 5265, 'lugs': 3562, 'doctor': 1687, 'wudgy': 6701, 'anarchy': 260, 'incredible': 2986, \"disrobin'\": 1669, 'today': 6079, 'riding': 4896, 'sanitation': 5032, 'addiction': 123, 'attached': 384, 'skins': 5353, 'cross-country': 1407, 'ambrose': 247, \"aren'tcha\": 334, 'eaters': 1843, 'startled': 5626, 'mint': 3781, 'nickel': 4023, 'installed': 3034, 'photos': 4372, 'recent': 4774, 'squabbled': 5579, 're-al': 4745, 'alcohol': 203, 'ninety-six': 4037, '__left_parentheses__': 55, 'heart-broken': 2727, 'corporation': 1325, 'nurse': 4092, 'congratulations': 1280, 'generosity': 2424, 'thing:': 6000, 'gamble': 2394, 'pep': 4329, 'hearts': 2730, 'hated': 2695, 'sticker': 5666, 'splattered': 5557, 'sheets': 5216, 'pick': 4377, 'profiling': 4600, 'fat-free': 2094, 'figured': 2155, 'red': 4787, 'skin': 5349, 'emotion': 1908, 'prefer': 4534, 'managing': 3631, 'monroe': 3847, 'starving': 5630, 'chuck': 1113, 'elmer': 1898, 'cost': 1331, 'cobbling': 1187, 'self': 5139, 'ragtime': 4712, 'stationery': 5635, 'batmobile': 517, 'courage': 1352, 'comic_book_guy:': 1229, 'good-looking': 2511, 'ideas': 2948, 'looked': 3508, 'reasons': 4769, 'excavating': 1996, 'lingus': 3447, 'beaumont': 538, 'to': 6076, \"callin'\": 907, 'tickets': 6052, 'lib': 3407, 'sleeps': 5368, 'sit': 5329, 'therapist': 5985, 'pulitzer': 4639, 'police': 4479, 'stands': 5613, 'yap': 6717, 'wok': 6632, 'train': 6144, 'mmm': 3807, 'temple': 5928, \"summer's\": 5769, 'beats': 536, 'attend': 387, 'allowed': 224, 'adult': 139, 'sidelines': 5284, 'doy': 1731, 'arm-pittish': 342, 'dutch': 1814, 'homie': 2841, 'harvard': 2687, 'enthused': 1945, '_marvin_monroe:': 68, 'puke-pail': 4638, 'program': 4601, 'otherwise': 4199, 'specials': 5529, 'ninth': 4038, 'reluctantly': 4821, 'brain': 747, 'jeff': 3134, 'braun:': 757, 'bar:': 475, 'reluctant': 4820, 'dateline:': 1492, 'plane': 4420, 'teriyaki': 5938, 'sanitary': 5031, 'devastated': 1594, \"tonight's\": 6105, 'longest': 3503, 'himself': 2793, 'chinese': 1087, 'alone': 229, \"city's\": 1133, \"nothin'\": 4072, 'moe_szyslak:': 3833, 'your': 6759, 'smiled': 5403, 'nervously': 4003, 'choices:': 1098, 'defiantly': 1537, 'wife-swapping': 6576, 'awww': 422, 'dictator': 1606, 'fanciest': 2080, 'snow': 5444, 'crack': 1372, \"livin'\": 3475, 'daddy': 1460, 'stunned': 5736, 'espousing': 1963, 'digging': 1620, 'thighs': 5997, 'gestated': 2440, \"enjoyin'\": 1937, 'gag': 2389, 'sing-song': 5309, 'palmerston': 4252, 'unjustly': 6296, 'benjamin': 592, 'picture': 4385, 'rods': 4925, 'pine': 4399, '_babcock:': 62, 'decided': 1523, 'carney': 960, 'lenny:': 3388, 'crossed': 1408, 'fights': 2153, 'drug': 1779, 'giant': 2454, 'crayola': 1383, 'feed': 2114, 'susie-q': 5802, 'displeased': 1667, 'harv': 2685, 'drove': 1777, 'script': 5098, 'appalled': 309, 'football_announcer:': 2265, 'celebrate': 993, 'two-thirds-empty': 6237, \"cuckold's\": 1426, 'agency': 167, 'breathalyzer': 769, 'everyone': 1982, 'pint': 4402, 'refiero': 4792, 'something:': 5487, 'coyly': 1368, 'wood': 6651, 'faded': 2059, 'aged_moe:': 166, 'breakfast': 764, 'tooth': 6112, 'fistiana': 2194, 'fiction': 2142, 'chew': 1071, 'naegle': 3939, 'shutup': 5274, 'invite': 3066, 'youngsters': 6758, 'ventriloquism': 6351, 'transylvania': 6152, 'declare': 1527, 'bret': 772, 'cents': 1002, 'grease': 2551, 'cheerier': 1060, 'knows': 3287, 'remain': 4823, 'nerd': 4000, 'whatever': 6525, 'medical': 3709, 'fast-paced': 2091, 'i': 2927, 'insightful': 3027, 'wishful': 6619, 'officer': 4129, 'ho': 2810, 'illustrates': 2959, 'barflies': 482, 'distaste': 1671, 'sangre': 5030, 'hotline': 2879, 'noises': 4048, 'person': 4350, 'rugged': 4966, 'and/or': 265, 'byrne': 887, 'chipped': 1091, 'forty-seven': 2293, 'canyoner-oooo': 929, 'bowled': 728, 'mumbling': 3910, 'legoland': 3378, 'junior': 3193, 'mad': 3585, 'without': 6624, 'contented': 1299, 'andrew': 269, 'end': 1920, 'cecil': 991, 'moe-ron': 3831, 'tang': 5874, 'clenched': 1155, 'peter': 4355, 'so': 5445, 'horror': 2866, 'looks': 3511, \"renee's\": 4837, \"bart'd\": 497, 'manuel': 3640, 'winces': 6591, 'woman:': 6638, 'customer': 1444, 'yoink': 6745, 'gone': 2507, 'become': 543, 'backing': 440, 'load': 3480, 'jumps': 3191, 'straining': 5706, 'direction': 1635, 'gumbo': 2602, 'startup': 5628, 'indigenous': 2996, 'rig': 4898, 'safe': 5003, \"tab's\": 5850, 'pass': 4282, 'deserve': 1579, 'sticking-place': 5669, 'duel': 1791, 'mention': 3727, 'color': 1213, 'delicately': 1547, 'ura': 6318, 'regretted': 4804, 'bumbling': 837, 'wondering': 6648, 'b-day': 428, 'searching': 5109, '2': 34, 'bagged': 451, 'starla': 5616, 'traditions': 6140, 'unison': 6293, 'christmas': 1109, 'ring': 4903, 'homer_simpson:': 2838, 'runs': 4981, 'foundation': 2297, 'gumbel': 2601, 'cletus_spuckler:': 1156, 'sucking': 5751, 'ore': 4187, 'feet': 2121, 'loud': 3531, 'therefore': 5989, 'natured': 3966, \"messin'\": 3731, 'youuu': 6766, 'pretzels': 4565, 'tongue': 6102, 'gabriel': 2387, 'swigmore': 5828, 'dallas': 1463, 'dramatic': 1737, 'behavior': 571, 'luck': 3558, 'two': 6235, 'irish': 3074, 'balls': 462, 'washed': 6442, 'dangerous': 1476, 'daniel': 1477, 'law': 3349, 'caricature': 951, 'design': 1580, 'got': 2521, 'tying': 6238, 'szyslak': 5847, \"buyin'\": 881, 'immiggants': 2964, \"ladies'\": 3311, 'and-and': 264, 'zeal': 6771, 'winning': 6605, 'breakdown': 763, 'banks': 467, 'hiya': 2804, 'releasing': 4815, \"dog's\": 1692, 'interesting': 3048, 'slice': 5371, 'yea': 6722, 'stewart': 5664, 'isle': 3083, 'spit': 5551, 'glorious': 2487, 'dungeon': 1811, 'forty-nine': 2292, 'domestic': 1703, \"comin'\": 1230, 'urge': 6320, 'folk': 2247, 'paparazzo': 4261, 'pepper': 4330, 'offense': 4125, 'quite': 4691, 'distributor': 1675, 'barbed': 478, 'shutting': 5273, 'jig': 3150, 'empty': 1914, 'involved': 3068, 'uncle': 6265, 'answering': 288, \"mo'\": 3811, 'soot': 5498, 'legal': 3375, 'debonair': 1517, \"professor's\": 4598, 'second': 5117, 'complaint': 1249, 'locked': 3492, 'embarrassed': 1904, 'wells': 6500, 'fired': 2183, 'vomit': 6386, 'pillows': 4393, 'season': 5111, 'fluoroscope': 2234, 'henry': 2761, 'wolveriskey': 6636, 'holy': 2828, \"cupid's\": 1435, 'blinded': 652, 'parrot': 4273, \"treatin'\": 6160, 'greedy': 2555, 'dramatically': 1738, 'eurotrash': 1969, 'nah': 3941, '_julius_hibbert:': 66, 'rapidly': 4733, 'gold': 2503, 'steak': 5646, 'videotaped': 6366, 'con': 1263, 's': 4989, 'renders': 4835, 'tell': 5922, 'circus': 1130, 'surprised': 5797, 'recorder': 4783, 'xx': 6707, \"beer's\": 556, 'nonchalantly': 4053, 'pas': 4281, 'brown': 808, 'guy': 2614, 'flashbacks': 2213, 'at': 379, 'gulliver_dark:': 2598, 'signal': 5294, 'promotion': 4608, 'pay': 4307, 'eight': 1876, 'mis-statement': 3788, 'hairs': 2631, 'but': 870, 'tribute': 6171, 'apart': 304, 'discuss': 1652, 'vampire': 6340, 'decision': 1524, 'seething': 5136, 'lookalikes': 3507, \"'round\": 18, 'commanding': 1232, \"doin'\": 1694, 'faced': 2053, 'oil': 4140, 'easily': 1835, 'wine': 6600, 'dean': 1513, 'triple-sec': 6176, 'vulgar': 6392, 'entire': 1948, '__quotation_mark__': 58, 'glen:': 2483, 'frat': 2312, 'yelp': 6735, 'awed': 415, '_burns_heads:': 63, 'relieved': 4817, 'none': 4054, 'evil': 1986, 'corporate': 1324, 'hurts': 2919, 'east': 1836, 'finding': 2170, 'utensils': 6331, 'pages': 4237, 'lotta': 3527, 'officials': 4131, 'allegiance': 220, 'tie': 6055, 'ebullient': 1847, 'kick-ass': 3230, 'yes': 6737, 'adequate': 127, 'average-looking': 409, 'office': 4128, 'ignorance': 2953, 'upsetting': 6317, 'head-gunk': 2713, 'grub': 2580, 'denser': 1563, 'sobriety': 5457, 'bar-boy': 474, 'detail': 1589, 'ha': 2619, 'working': 6665, 'bender:': 589, 'crummy': 1421, 'eyes': 2045, 'duh': 1799, '1-800-555-hugs': 27, 'painted': 4243, 'with': 6623, 'dull': 1801, 'die': 1610, 'country-fried': 1347, 'helped': 2753, 'tow': 6127, 'peeved': 4322, 'madman': 3588, 'bleeding': 645, 'disgraceful': 1656, 'innocuous': 3020, 'idioms': 2949, 'wheel': 6529, \"neighbor's\": 3989, 'expression': 2030, 'detective': 1591, 'huggenkiss': 2900, 'rabbits': 4694, 'asking': 363, 'tries': 6174, 'changing': 1027, 'sealed': 5107, 'flush': 2235, 'string': 5720, 'eightball': 1878, 'portfolium': 4503, 'side:': 5282, 'damn': 1468, 'guess': 2590, 'barely': 480, 'neighbor': 3988, 'majority': 3605, \"coffee'll\": 1198, 'weird': 6494, 'waters': 6459, 'forget-me-shot': 2277, \"s'pose\": 4992, 'patty_bouvier:': 4304, 'fat_in_the_hat:': 2095, 'station': 5634, 'cheapskates': 1052, 'better': 601, 'stengel': 5658, 'teen': 5912, 'regulations': 4806, 'knock-up': 3278, 'michael': 3742, 'proof': 4612, 'somewhere': 5490, 'talking': 5872, 'predecessor': 4532, \"'er\": 8, \"mecca's\": 3706, 'chug-monkeys': 1119, 'watashi': 6450, 'chilly': 1085, 'thirty-five': 6010, 'warned': 6435, \"here's\": 2764, 'pictured': 4386, 'fustigate': 2378, 'john': 3162, 'project': 4604, 'besides': 594, 'paintings': 4245, 'à': 6778, 'thought': 6024, 'triumphantly': 6177, 'weapon': 6478, 'sharity': 5205, 'nordiques': 4062, 'sodas': 5464, 'ya': 6713, 'present': 4542, 'champ': 1017, 'tiny': 6068, 'sooner': 5496, 'hygienically': 2925, 'doing': 1695, 'that': 5967, 'kl5-4796': 3268, 'guzzles': 2617, 'deliberately': 1545, 'internet': 3050, 'touched': 6123, \"getting'\": 2448, 'in-in-in': 2976, 'dollface': 1700, '100': 28, 'accept': 97, 'chill': 1084, 'needs': 3985, 'puffy': 4634, 'trapped': 6153, 'wh': 6507, 'grocery': 2571, 'disappointed': 1644, 'sitar': 5330, 'sounded': 5506, 'hoax': 2814, 'adjourned': 128, 'cocks': 1193, 'deep': 1530, 'amber': 245, 'warm_female_voice:': 6431, 'punches': 4647, 'souvenir': 5515, 'injury': 3016, \"lookin'\": 3509, 'book': 697, 'shelbyville': 5217, 'criminal': 1400, 'deadly': 1507, 'brief': 779, 'meaningless': 3699, 'muffled': 3900, 'federal': 2113, 'macbeth': 3581, 'chum': 1120, 'car': 939, 'ribbon': 4885, 'needy': 3986, 'slaves': 5363, 'winner': 6604, 'ape-like': 306, 'infiltrate': 3004, 'hotenhoffer': 2878, 'completing': 1252, 'loudly': 3533, 'charged': 1036, 'worst': 6675, 'liability': 3404, 'germans': 2437, 'stalin': 5603, 'gently': 2433, 'countryman': 1348, 'premiering': 4537, 'jacques': 3112, 'ma': 3575, 'quimby': 4686, 'justify': 3198, 'perfected': 4339, 'tips': 6070, 'totally': 6120, 'marriage': 3654, 'paper': 4262, 'kissingher': 3266, 'musses': 3927, 'data': 1489, 'director:': 1638, 'dirt': 1640, 'space': 5516, 'aer': 147, 'comic': 1228, 'lemonade': 3382, 'finishing': 2178, 'cadillac': 895, 'burp': 854, 'unlike': 6299, 'haircuts': 2630, 'mac-who': 3579, 'wings': 6602, 'cent': 1000, 'rickles': 4891, 'newly-published': 4010, 'virtual': 6377, 'five': 2196, 'hah': 2626, 'dreams': 1748, 'tee': 5911, 'icelandic': 2941, 'ruint': 4969, 'actors': 118, 'lots': 3525, 'ding-a-ding-ding-a-ding-ding': 1628, 'gifts': 2458, 'painless': 4241, 'enthusiastically': 1947, 'dennis_kucinich:': 1562, 'karaoke_machine:': 3208, 'stripes': 5722, 'adventure': 143, 'bathtub': 516, 'release': 4813, 'ferry': 2136, 'remembered': 4827, 'abolish': 85, 'releases': 4814, 'sequel': 5164, 'ivana': 3099, 'training': 6146, \"feelin's\": 2117, 'dessert': 1587, 'yellow-belly': 6733, 'practically': 4522, 'inning': 3017, 'drop-off': 1774, 'forced': 2270, 'moxie': 3891, 'counterfeit': 1343, 'arimasen': 337, 'stares': 5615, 'stuck': 5730, 'smuggled': 5416, 'raising': 4723, 'rainbows': 4716, 'kearney_zzyzwicz:': 3212, 'gets': 2445, 'intense': 3045, 'gesture': 2441, 'nightmares': 4031, 'rewound': 4881, 'center': 1001, 'appeals': 311, 'cajun': 898, 'ten': 5932, 'flower': 2231, 'beer': 555, 'plus': 4456, 'tried': 6173, 'hole': 2821, 'stealings': 5649, 'christopher': 1110, 'line': 3445, \"should've\": 5247, 'tsking': 6200, 'problems': 4589, 'trashed': 6156, 'tanked-up': 5876, 'gallon': 2392, 'half-back': 2634, 'eat': 1841, 'cosmetics': 1330, 'sight-unseen': 5292, 'bucks': 817, 'combination': 1218, 'resolution': 4864, 'joke': 3169, 'astronaut': 377, 'bono:': 694, 'simultaneous': 5304, 'scooter': 5083, 'rhyme': 4884, 'eats': 1846, \"makin'\": 3609, 'badmouths': 449, 'sheriff': 5220, 'app': 308, 'take': 5858, 'x-men': 6705, 'granted': 2545, 'turn': 6208, \"lovers'\": 3546, \"lefty's\": 3373, 'alcoholic': 204, 'fritz': 2342, 'scientific': 5080, 'halvsies': 2640, 'consciousness': 1284, 'bees': 561, 'jay:': 3127, 'option': 4181, 'clubs': 1179, 'tax': 5895, 'admitting': 135, \"maggie's\": 3593, 'column': 1216, \"drinkin'\": 1760, 'insulin': 3038, 'skoal': 5355, 'handler': 2649, 'competitive': 1247, 'payback': 4308, \"phone's\": 4368, 'ho-ly': 2812, 'small': 5393, 'hear': 2721, 'convenient': 1307, 'jackpot-thief': 3108, 'helping': 2755, 'these': 5991, 'death': 1516, 'trenchant': 6169, 'finally': 2167, 'pig': 4388, 'package': 4230, 'model': 3819, 'rainier': 4718, \"england's\": 1931, '-ry': 24, 'neck': 3978, 'steam': 5650, 'reynolds': 4882, 'texan': 5955, 'smallest': 5395, \"hasn't\": 2691, 'knit': 3275, 'problemo': 4588, 'liven': 3472, \"nick's\": 4022, 'crowds': 1415, 'mexican': 3736, 'blinds': 653, 'quietly': 4685, 'courthouse': 1356, '14': 30, 'rice': 4886, 'pridesters:': 4570, 'universe': 6295, 'betcha': 597, 'anyhow': 298, 'paint': 4242, 'choice:': 1096, \"isn't\": 3084, \"aren't\": 333, 'housewife': 2886, 'brother-in-law': 803, 'blade': 638, 'funds': 2367, 'extended': 2032, 'violations': 6373, 'whoever': 6560, 'understand': 6273, 'resenting': 4859, \"you'll\": 6749, 'shoot': 5233, 'maintenance': 3602, \"school's\": 5077, 'plucked': 4452, 'phone': 4367, \"games'd\": 2399, 'planet': 4421, 'relative': 4809, 'behind': 572, 'smoke': 5408, 'regulars': 4805, 'already': 233, 'listen': 3460, 'admiring': 133, 'sweetie': 5823, 'hems': 2760, 'assent': 368, 'broncos': 799, 'vengeful': 6349, 'prettiest': 4562, 'duffman:': 1798, 'hawaii': 2704, 'rationalizing': 4742, 'kinds': 3255, 'expense': 2017, 'eww': 1989, 'pretends': 4559, 'probably': 4586, 'flash-fry': 2212, '3': 38, 'oof': 4167, 'cut': 1447, 'delighted': 1549, 'whatchacallit': 6523, 'laid': 3317, 'hardwood': 2679, 'fantasy': 2085, 'games': 2398, \"hobo's\": 2816, \"goin'\": 2500, 'strips': 5723, 'fake': 2068, 'breaking': 766, 'calvin': 912, 'slobs': 5380, \"'evening\": 10, 'classy': 1144, \"toot's\": 6111, 'applesauce': 315, 'donated': 1708, 'fondly': 2254, 'organ': 4188, 'single': 5315, 'blowfish': 667, \"'im\": 11, 'gotta': 2523, 'killarney': 3244, 'publish': 4629, 'forever': 2274, 'manboobs': 3633, 'chauffeur:': 1048, 'crowbar': 1411, 'milhouse': 3761, 'necklace': 3979, 'use': 6324, 'ahh': 186, \"what's\": 6519, 'reporter:': 4853, 'plug': 4453, 'murdoch': 3915, 'cozy': 1370, \"scammin'\": 5061, 'attitude': 389, 'i/you': 2939, 'boyhood': 741, 'up-bup-bup': 6310, 'ticket': 6051, 'democracy': 1558, 'chumbawamba': 1121, 'doreen:': 1724, 'rolls': 4930, 'fool': 2259, 'dreamy': 1749, 'haws': 2707, 'lives': 3474, 'poison': 4472, 'glitz': 2485, 'dozen': 1732, 'pity': 4411, 'spy': 5577, 'trucks': 6189, \"everyone's\": 1983, \"bart's\": 498, 'crimes': 1399, 'swill': 5829, 'calls': 909, 'omit': 4153, 'moe-lennium': 3829, 'faceful': 2054, 'items': 3096, 'walther': 6419, 'supports': 5789, \"he'd\": 2709, 'killer': 3246, 'song': 5494, 'halfway': 2637, 'pews': 4358, 'grim': 2564, 'affection': 151, 'water': 6455, 'dignity': 1622, 'honey': 2844, 'gheet': 2452, 'sandwich': 5028, 'many': 3641, 'meaningful': 3697, 'emergency': 1906, 'yee-haw': 6728, 'presumir': 4556, 'like': 3432, 'hispanic_crowd:': 2798, 'two-drink': 6236, 'certain': 1006, 'ugliness': 6248, 'drinks': 1763, 'champs': 1021, 'grabbing': 2528, 'jerks': 3141, 'cracked': 1373, 'located': 3490, 'pugilist': 4635, 'cattle': 982, 'motor': 3876, 'they': 5992, 'suds': 5756, 'hampstead-on-cecil-cecil': 2644, 'compromise:': 1259, 'carll': 956, 'cute': 1448, 'playing': 4440, 'industry': 2998, 'effects': 1864, 'then': 5982, 'darjeeling': 1481, 'abandon': 79, 'roz:': 4957, 'gal': 2391, 'tropical': 6181, 'brought': 806, 'slop': 5383, 'bulletin': 833, 'fly': 2238, 'western': 6506, 'reentering': 4789, 'restaurant': 4867, 'rekindle': 4807, 'broadway': 791, 'thousand-year': 6032, \"'bout\": 3, 'starters': 5623, 'eighty-seven': 1882, 'deer': 1533, \"let's\": 3399, 'coupon': 1351, 'decadent': 1518, 'miss_lois_pennycandy:': 3793, 'tap': 5878, 'while': 6540, 'favorite': 2105, 'fringe': 2339, 'squeeze': 5586, 'rafters': 4705, 'site': 5332, 'ever': 1977, 'pack': 4229, 'understood': 6275, 'restaurants': 4868, 'lisa': 3454, 'duffed': 1796, 'sued': 5758, 'such': 5747, 'starla:': 5618, 'oww': 4226, \"listenin'\": 3462, 'horrified': 2865, 'cutting': 1451, 'clown': 1176, 'upbeat': 6311, 'afterglow': 160, 'disgrace': 1655, 'quimby_#2:': 4687, 'gay': 2415, 'young_moe:': 6757, 'meeting': 3715, 'mouth': 3883, 'incapable': 2978, 'beautiful': 539, 'hourly': 2883, 'factor': 2057, 'americans': 253, 'environment': 1952, 'bragging': 746, 'eh': 1871, 'banned': 468, 'killjoy': 3248, 'righ': 4899, 'worldly': 6670, 'whatsit': 6526, \"smackin'\": 5392, 'error': 1958, 'savings': 5053, 'conspiracy': 1290, 'bills': 621, 'clinton': 1161, 'lifters': 3424, 'morning-after': 3864, 'dinner': 1632, 'feedbag': 2115, 'sniffs': 5436, 'gin': 2466, 'movie': 3888, 'eddie': 1851, 'archaeologist': 331, 'brakes': 752, 'hollowed-out': 2825, 'suits': 5766, \"o'problem\": 4099, 'grade': 2531, 'media': 3708, 'aims': 193, 'revenge': 4878, 'recently': 4775, 'watered-down': 6457, 'ling': 3446, 'nbc': 3970, 'cooking': 1314, 'lost': 3523, 'guilt': 2595, 'connor': 1282, 'enveloped': 1951, 'perhaps': 4342, 'justice': 3197, 'volunteer': 6385, 'venom': 6350, 'anguished': 275, 'meatpies': 3705, 'fence': 2134, 'file': 2158, 'age': 164, 'college': 1209, 'tenor:': 5934, 'territorial': 5946, 'button': 875, 'bellyaching': 584, 'anger': 272, 'how': 2889, 'natural': 3963, 'wangs': 6423, 'calm': 910, 'mixed': 3804, 'lessons': 3397, 'rest': 4866, 'sickly': 5280, 'harvey': 2689, 'morlocks': 3862, 'sponge': 5560, 'loboto-moth': 3485, 'grains': 2533, 'lowers': 3552, 'eva': 1970, 'stretches': 5718, \"eatin'\": 1844, 'wedding': 6486, 'oak': 4101, 'bret:': 773, 'loathe': 3484, 'foam': 2241, 'also': 235, 'nectar': 3980, 'avenue': 407, 'pink': 4401, 'choked': 1100, \"ball's\": 457, 'musta': 3930, 'enjoys': 1938, 'odd': 4118, 'offensive': 4126, 'south': 5513, 'wing': 6601, 'freed': 2319, \"tester's\": 5953, \"bladder's\": 637, 'brusque': 812, 'grumpy': 2586, 'spent': 5541, 'sounds': 5508, 'wowww': 6685, 'potato': 4511, 'murmur': 3916, 'change': 1023, 'memory': 3720, 'healthier': 2720, 'wrestling': 6692, 'ghouls': 2453, 'singer': 5310, 'lecture': 3368, 'troy_mcclure:': 6186, 'bronco': 798, 'larson': 3336, 'champion': 1019, 'wha': 6508, 'f': 2047, 'door': 1720, 'poke': 4475, 'jägermeister': 3199, 'figures': 2156, 'hunky': 2913, 'thanking': 5964, 'heave-ho': 2734, 'smokes': 5410, 'unforgettable': 6284, 'grow': 2577, 'survive': 5801, 'strawberry': 5713, 'burn': 849, 'pub': 4627, ':': 51, 'toy': 6135, 'away': 413, 'icy': 2942, 'slugger': 5387, \"game's\": 2397, 'wonderful': 6646, 'seemed': 5131, 'u2:': 6244, 'bears': 531, 'gasp': 2410, 'deeper': 1531, 'employment': 1912, 'repeating': 4849, 'predictable': 4533, 'cigarette': 1127, 'read': 4753, '_montgomery_burns:': 69, 'informant': 3008, 'breaks': 767, \"boy's\": 739, \"cont'd:\": 1293, 'social': 5459, 'lied': 3413, 'rumor': 4975, 'silence': 5296, 'infatuation': 3002, 'ohh': 4137, 'pointy': 4471, \"they've\": 5996, 'smoothly': 5414, 'royal': 4955, 'miracle': 3785, 'clear': 1150, 'wrecking': 6690, 'noose': 4058, 'opens': 4177, 'touch': 6121, 'acting': 114, 'graves': 2549, 'jailbird': 3116, 'give': 2473, 'spread': 5573, 'scornfully': 5087, 'gluten': 2492, 'theater': 5976, 'heather': 2732, 'bitter': 633, 'larry': 3333, 'awkward': 419, 'true': 6190, 'bugs': 826, 'lenses': 3392, 'demand': 1556, 'barney-type': 492, 'being': 574, 'known': 3286, 'boozy': 708, 'de': 1502, 'swimmers': 5830, 'charges': 1037, 'jolly': 3172, 'cat': 975, 'poet': 4461, 'play/': 4434, 'rafter': 4704, 'yuh-huh': 6767, 'language': 3327, 'comes': 1225, 'unbelievable': 6263, 'fox_mulder:': 2306, 'mike': 3757, 'wound': 6682, 'dinks': 1631, 'spouses': 5571, 'gunk': 2605, 'possessions': 4507, 'dentist': 1564, 'keep': 3213, 'swine': 5832, 'undated': 6268, \"one's\": 4158, 'cover': 1359, 'foodie': 2258, 'dipping': 1634, 'waylon_smithers:': 6465, 'population': 4500, 'hurting': 2918, 'creepy': 1392, 'humanity': 2906, 'phrase': 4373, 'unhook': 6289, 'insured': 3042, 'obvious': 4107, 'lenford': 3385, 'breathtaking': 771, 'tuborg': 6202, 'intruding': 3060, 'rented': 4843, 'pickled': 4381, 'reciting': 4777, 'nachos': 3938, 'plastic': 4431, 'english': 1932, 'nobel': 4042, \"who's\": 6556, 'german': 2436, 'verticality': 6356, 'by': 885, 'money': 3842, 'housework': 2887, 'dad': 1458, 'st': 5592, 'weeks': 6491, 'dynamite': 1818, 'showed': 5257, 'deal': 1508, 'diet': 1614, 'fan': 2079, 'voters': 6390, 'mabel': 3578, 'average': 408, \"'til\": 20, 'girl': 2469, 'rock': 4922, 'richer': 4890, 'thinking': 6004, 'lis': 3453, 'advantage': 142, 'schemes': 5072, 'admit': 134, 'menlo': 3726, 'argue': 335, 'd': 1454, 'feminist': 2133, 'compliment': 1254, 'polish': 4480, 'dizer': 1683, 'divorced': 1682, 'malabar': 3611, 'named': 3949, 'rude': 4963, 'groveling': 2576, 'spied': 5544, 'fbi': 2107, 'cases': 969, 'wolfcastle': 6633, 'please/': 4445, 'satisfied': 5044, 'connection': 1281, 'teddy': 5910, 'deals': 1511, 'iran': 3071, 'williams': 6587, 'we': 6470, 'notice': 4075, 'uncomfortable': 6266, \"money's\": 3843, 'ancient': 262, 'road': 4916, 'reminds': 4831, 'trash': 6155, 'she-pu': 5213, 'donuts': 1716, 'everywhere': 1985, 'rid': 4892, 'schorr': 5078, 'wheeeee': 6528, 'freely': 2321, 'enterprising': 1943, 'fevered': 2139, 'dumpster': 1809, 'retain': 4873, 'broken:': 797, 'mafia': 3590, 'three-man': 6036, 'shop': 5237, 'trail': 6143, 'eye': 2039, 'news': 4011, 'eu': 1967, 'crank': 1376, 'court': 1354, 'unusual': 6307, \"c'mere\": 889, 'winch': 6592, 'buffet': 824, 'television': 5921, 'much': 3897, 'blob': 656, 'chance': 1022, 'believer': 579, \"he'll\": 2710, 'multi-national': 3906, 'shark': 5206, 'lookalike': 3505, 'teenage_bart:': 5915, 'omigod': 4151, 'all:': 219, 'won': 6642, 'partly': 4277, 'dae': 1462, 'achebe': 107, 'covering': 1360, 'army': 344, 'tuna': 6204, 'demo': 1557, 'count': 1341, 'butter': 872, 'on': 4154, 'chin': 1086, 'oddest': 4119, 'propose': 4614, 'warn': 6434, 'poor': 4491, 'distance': 1670, 'tough': 6125, 'softer': 5466, 'ratio': 4741, 'nevada': 4005, \"showin'\": 5260, 'view': 6367, \"can'tcha\": 921, 'have': 2699, 'test-': 5950, 'forget-me-drinks': 2276, 'shove': 5253, 'latin': 3342, 'glasses': 2480, 'terrifying': 5945, 'leaving': 3367, 'kid': 3234, 'what-for': 6521, 'charlie': 1039, 'long': 3501, 'admiration': 131, 'thoughts': 6030, 'dreamed': 1746, \"it's\": 3091, 'sarcastic': 5037, 'salad': 5016, 'p': 4227, 'which': 6539, 'dough': 1729, 'isotopes': 3085, 'ivy-covered': 3102, '8': 49, 'powers': 4521, 'literary': 3466, 'left': 3371, 'krusty': 3298, 'wisconsin': 6614, 'colonel:': 1212, \"hangin'\": 2658, 'bad': 443, 'white_rabbit:': 6552, 'hot': 2875, '__exclamation_mark__': 54, 'woman': 6637, \"pope's\": 4495, 'concentrate': 1264, 'bon': 686, 'shred': 5263, 'sauce': 5046, 'brings': 787, 'hate': 2693, 'contest': 1300, 'doll': 1696, 'neanderthal': 3972, 'scum': 5104, 'taps': 5884, 'skeptical': 5345, 'sniper': 5437, 'nooo': 4056, 'sucker': 5750, 'snake-handler': 5422, 'suing': 5764, 'furious': 2371, 'bolting': 685, 'squad': 5580, 'courteous': 1355, 'remorseful': 4833, 'radiation': 4698, 'soap': 5451, 'accelerating': 95, 'widow': 6570, 'gus': 2609, 'curse': 1440, 'queer': 4678, 'voice:': 6382, 'last': 3338, 'chocolate': 1094, 'disco_stu:': 1650, 'shareholder': 5202, 'urinal': 6321, 'highway': 2786, 'troll': 6179, \"we've\": 6474, 'ned_flanders:': 3982, \"someone's\": 5480, 'phasing': 4362, 'wallet': 6415, \"puttin'\": 4664, 'shifty': 5223, 'barney': 488, 'sue': 5757, 'helicopter': 2745, 'influence': 3006, 'muttering': 3932, 'supermarket': 5782, 'absorbent': 92, 'david_byrne:': 1497, 'prayer': 4526, 'again': 162, 'self-centered': 5140, 'incriminating': 2988, 'roz': 4956, 'laugh': 3344, 'bedbugs': 545, \"homer's_brain:\": 2835, \"now's\": 4083, 'anything': 301, 'lindsay_naegle:': 3444, 'hooch': 2849, 'nope': 4060, 'fires': 2184, 'cleaned': 1146, 'coast': 1183, 'spender': 5539, 'chase': 1044, 'asks': 364, 'advertising': 145, 'bam': 464, 'computer_voice_2:': 1261, 'admirer': 132, 'palm': 4251, \"mcstagger's\": 3690, 'transfer': 6150, 'darts': 1486, 'sugar': 5760, 'big': 611, \"cat's\": 976, 'always': 240, 'aggravated': 173, 'son': 5491, 'badly': 447, 'extract': 2035, 'backbone': 437, 'handle': 2648, 'mm-hmm': 3806, 'baloney': 463, 'falcons': 2069, \"i'll\": 2930, 'rush': 4984, 'finger': 2174, 'academy': 94, 'is:': 3081, 'th': 5958, 'grunt': 2587, 'key': 3227, 'labor': 3307, 'barney-guarding': 490, 'porn': 4501, 'old-time': 4146, 'shyly': 5275, 'look': 3504, 'coms': 1262, 'ringing': 4904, 'easygoing': 1840, 'expecting': 2016, 'stalking': 5604, 'hostages': 2872, 'excuses': 2007, 'shill': 5224, 'beginning': 569, 'fingers': 2175, 'face': 2050, 'fighter': 2150, 'gruff': 2584, 'traitor': 6147, 'prohibit': 4603, 'numbers': 4090, 'carey': 950, 'bus': 860, 'agreement': 181, 'twin': 6233, 'düffenbraus': 1821, 'bike': 614, 'indifference': 2994, 'calculate': 901, \"y'see\": 6711, 'movement': 3887, 'woodchucks': 6652, 'experience': 2019, 'meteor': 3734, 'punching': 4648, 'equal': 1954, 'whaddaya': 6511, 'island': 3082, 'pajamas': 4248, '21': 35, 'paying': 4311, 'advance': 141, 'flown': 2233, 'soul-crushing': 5504, 'browns': 809, 'shows': 5262, 'busiest': 863, 'coins': 1203, 'chug': 1117, 'dizzy': 1684, 'snackie': 5419, 'sponsoring': 5563, 'heroism': 2768, 'prettied': 4561, 'choose': 1103, 'balloon': 460, 'robin': 4920, 'thirty': 6009, 'chairman': 1014, 'flat': 2215, 'surgery': 5795, 'rupert_murdoch:': 4983, 'odor': 4120, 'wearing': 6481, 'break-up': 762, 'marry': 3656, 'touches': 6124, 'works': 6666, 'jumping': 3190, 'yee-ha': 6727, 'juke': 3184, 'photo': 4370, 'yammering': 6716, 'cleveland': 1157, 'life-partner': 3417, 'gutenberg': 2611, 'clown-like': 1177, 'tigers': 6058, 'eager': 1825, 'ken:': 3219, 'bleacher': 643, 'kills': 3249, 'scrutinizes': 5101, 'kennedy': 3220, 'jerking': 3140, 'dump': 1808, 'wants': 6428, 'habitrail': 2622, 'jaegermeister': 3114, 'barbara': 477, 'student': 5731, 'sickened': 5278, 'polenta': 4478, 'legs:': 3380, 'haiti': 2632, 'rage': 4707, 'called': 906, 'hope': 2857, 'oblivious': 4104, 'theory': 5984, 'jackass': 3106, 'darkest': 1483, \"yesterday's\": 6739, 'ineffective': 3000, 'grace': 2530, 'awfully': 418, 'jobs': 3156, 'another': 285, 'year': 6724, 'shoots': 5236, 'yello': 6731, 'right-handed': 4901, 'homunculus': 2842, 'anti-lock': 293, \"y'money's\": 6710, 'stickers': 5667, 'accounta': 104, \"couldn't\": 1340, 'week': 6488, 'sweeter': 5820, 'quebec': 4675, 'blessing': 648, 'wake': 6407, \"haven't\": 2700, 'ride': 4893, 'private': 4582, 'savagely': 5049, 'minute': 3783, \"askin'\": 362, 'homeland': 2830, 'marquee': 3653, 'outrageous': 4208, \"son's\": 5492, 'astronauts': 378, 'chip': 1090, 'creature': 1389, 'fancy': 2081, 'yells': 6734, 'mobile': 3815, \"america's\": 251, 'all-star': 218, 'torn': 6115, 'depressant': 1571, 'alfalfa': 208, 'kemi:': 3218, 'greetings': 2556, 'takes': 5862, 'winston': 6609, 'windelle': 6595, \"'now\": 15, 'their': 5978, 'thanks': 5965, 'gotcha': 2522, 'tear': 5905, \"leavin'\": 3366, 'toward': 6130, 'tasty': 5889, 'piling': 4392, 'bubble': 813, 'explaining': 2025, 'valley': 6337, 'cola': 1204, \"family's\": 2076, 'scout': 5089, 'watch': 6451, 'weekly': 6490, 'fixed': 2199, 'moment': 3837, 'paints': 4246, \"pullin'\": 4642, \"fishin'\": 2191, 'rebuttal': 4771, 'oils': 4141, 'increased': 2984, \"somethin':\": 5483, 'frightened': 2338, 'ate': 381, 'begin': 568, 'additional-seating-capacity': 124, 'shorter': 5243, 'boozer': 707, 'refinanced': 4794, 'hoped': 2858, 'kicks': 3233, 'pickle': 4380, 'tender': 5933, 'sinister': 5318, 'dennis_conroy:': 1561, 'one-hour': 4159, 'la': 3304, 'world': 6667, 'examines': 1992, 'foil': 2245, 'old': 4145, 'singers:': 5311, 'novel': 4079, 'kirk_van_houten:': 3259, \"lady's\": 3313, 'stumble': 5735, 'booth': 702, 'badges': 446, 'ashamed': 357, 'spectacular': 5533, 'thank': 5962, 'crow': 1410, 'bastard': 512, 'available': 404, 'coach:': 1181, 'means': 3700, 'appealing': 310, 'guinea': 2597, 'surprised/thrilled': 5798, 'pernt': 4347, 'bathroom': 515, 'laney': 3325, 'femininity': 2132, 'do': 1686, 'older': 4148, 'changed': 1024, 'theatah': 5975, 'ideal': 2946, \"'tis\": 21, 'eighty-one': 1881, 'turned': 6209, 'drives': 1768, 'complete': 1250, 'h': 2618, 'escort': 1960, 'hyper-credits': 2926, 'victim': 6362, 'superdad': 5779, 'sound': 5505, \"where'd\": 6536, 'dying': 1817, 'disgracefully': 1657, \"homer's\": 2834, 'lanes': 3324, 'funniest': 2369, 'candy': 924, 'peeping': 4321, 'sweden': 5818, 'jack_larson:': 3105, 'atlanta': 382, 'happened': 2668, 'blubberino': 671, 'strap': 5710, 'toe': 6082, 'intrigued': 3057, 'wieners': 6572, 'poorer': 4492, 'gentlemen': 2431, 'country': 1346, 'star': 5614, 'flanders:': 2210, 'bliss': 654, \"drexel's\": 1756, 'charge': 1035, 'truck_driver:': 6188, 'manchego': 3634, 'sexy': 5183, 'macaulay': 3580, 'tense': 5935, 'guff': 2593, 'why': 6568, 'sensitivity': 5160, 'cop': 1317, 'fabulous': 2049, 'spinning': 5548, 'head': 2712, 'slap': 5360, 'spirit': 5549, 'dropping': 1776, 'madonna': 3589, 'boozehound': 706, 'bedtime': 548, 'temporarily': 5930, 'tail': 5857, 'liquor': 3452, 'gayer': 2416, 'breath': 768, 'groans': 2570, 'cream': 1386, 'sickens': 5279, 'ingested': 3011, 'store-bought': 5697, 'shock': 5228, 'philip': 4363, 'mariah': 3649, 'action': 115, 'has': 2690, 'ruin': 4967, 'gentleman:': 2430, 'lap': 3329, 'jay_leno:': 3128, 'moron': 3865, 'booger': 696, 'cuddling': 1428, 'gorgeous': 2518, 'tinkle': 6066, 'watched': 6452, 'funeral': 2368, 'wise': 6615, 'jokes': 3170, 'through': 6041, 'tons': 6106, 'tolerable': 6090, 'agree': 180, 'ho-la': 2811, 'chicken': 1075, 'wounds': 6683, 'finish': 2176, 'hits': 2803, 'technical': 5909, 'chateau': 1046, 'fix': 2198, 'fraud': 2313, 'snotball': 5441, 'crayon': 1384, 'sector': 5122, 'bars': 494, 'cotton': 1334, 'voice_on_transmitter:': 6383, 'cheerleaders:': 1063, 'gunter': 2607, 'george': 2435, 'frontrunner': 2348, 'k-zug': 3201, 'difference': 1616, 'moving': 3890, 'reasonable': 4768, 'confused': 1278, 'champignons': 1018, 'presidents': 4550, 'dealt': 1512, 'anxious': 294, 'nose': 4068, 'lotsa': 3526, 'increasingly': 2985, 'lenny_leonard:': 3389, 'experienced': 2020, \"drawin'\": 1743, 'part-time': 4275, 'need': 3983, 'edner': 1861, 'inexorable': 3001, 'series': 5165, \"larry's\": 3334, 'nuked': 4087, 'ech': 1848, 'miles': 3760, 'one': 4157, 'cause': 986, 'muslim': 3926, 'celebrity': 996, 'drederick': 1751, 'ourselves': 4204, 'flips': 2224, 'dive': 1679, 'ago': 179, 'principal': 4576, 'credit': 1390, 'dearest': 1515, 'light': 3427, 'militia': 3765, 'great': 2552, 'joining': 3167, 'si-lent': 5276, 'oooh': 4170, 'focus': 2242, 'flashing': 2214, 'whup': 6567, 'bottle': 716, 'cockroaches': 1192, 'tv_husband:': 6219, 'pharmaceutical': 4360, 'damned': 1469, 'held': 2743, 'planning': 4424, 'lady-free': 3314, 'about': 86, 'protecting': 4617, 'bluff': 674, 'charm': 1041, 'suicide': 5763, 'chapter': 1032, 'researching': 4858, 'getup': 2449, 'elect': 1890, 'group': 2575, 'tv': 6212, 'tale': 5865, 'only': 4164, 'man_with_crazy_beard:': 3626, 'shares': 5203, 'pretty': 4563, 'milhouse_van_houten:': 3762, 'guns': 2606, 'frenchman': 2324, \"havin'\": 2701, 'theme': 5980, 'veux': 6360, 'professor_jonathan_frink:': 4599, \"friend's\": 2333, 'statues': 5639, 'alarm': 200, 'help': 2752, 'hat': 2692, '_powers:': 70, 'blossoming': 665, 'snout': 5443, 'wheels': 6530, 'weirded-out': 6495, 'teacher': 5900, 'traitors': 6148, 'taken': 5861, 'gruesome': 2583, 'owns': 4225, 'hardy': 2680, 'baseball': 506, 'wagering': 6401, 'jerk-ass': 3139, \"'ceptin'\": 6, 'ointment': 4142, 'confidentially': 1277, 'information': 3009, \"y'know\": 6709, 'macgregor': 3582, 'wolfe': 6634, 'conclusions': 1267, 'keeps': 3215, 'scrutinizing': 5102, 'adjust': 129, 'socialize': 5460, 'moe': 3823, 'slight': 5373, 'chanting': 1029, 'm': 3574, 'ihop': 2956, 'wiggle-frowns': 6578, 'diving': 1681, 'assert': 369, 'hurry': 2916, \"what're\": 6518, \"where's\": 6537, 'carlson': 958, 'sissy': 5324, 'remaining': 4824, 'reason': 4767, 'beards': 530, 'flaking': 2205, 'november': 4081, 'carolina': 963, 'beam': 525, 'mel': 3716, 'holds': 2820, 'presidential': 4549, 'moon': 3854, 'birth': 626, 'sweetheart': 5822, 'robbers': 4918, 'specialists': 5527, \"kiddin'\": 3236, 'f-l-a-n-r-d-s': 2048, 'perfect': 4338, 'el': 1887, 'following': 2251, 'generally': 2423, 'banquo': 471, 'bill_james:': 616, 'correcting': 1328, \"blowin'\": 668, 'cutie': 1450, 'simpson': 5302, 'sturdy': 5740, 'disappointing': 1645, 'skinheads': 5350, 'boneheaded': 690, \"spiffin'\": 5545, 'wittgenstein': 6626, 'service': 5171, 'repressed': 4856, 'smile:': 5402, 'casting': 972, 'buzziness': 884, 'screw': 5096, 'alley': 221, 'drift': 1757, 'octa-': 4117, 'eve': 1972, 'pickles': 4382, '6': 45, 'able': 83, 'hanh': 2663, 'studied': 5732, 'augustus': 398, 'furry': 2374, 'ecru': 1850, 'stamps': 5608, 'met': 3732, 'push': 4657, 'huddle': 2897, 'family-owned': 2077, 'sub-monkeys': 5742, \"donatin'\": 1709, 'mice': 3741, 'seek': 5129, \"pressure's\": 4554, 'whisper': 6546, 'absentmindedly': 89, 'job': 3154, 'edgy': 1855, 'compliments': 1255, 'declared': 1528, 'spend': 5538, 'make:': 3607, 'pitcher': 4410, 'snail': 5420, 'lisa_simpson:': 3456, 'order': 4184, 'friday': 2330, '_kissingher:': 67, 'few': 2140, 'poem': 4460, 'ah-ha': 183, 'nucular': 4085, 'room': 4940, 'walk': 6410, 'someday': 5477, 'shocked': 5229, 'kent_brockman:': 3223, 'masks': 3662, 'bird': 625, 'parking': 4272, 'meant': 3701, 'dr': 1733, 'passes': 4285, 'pardon': 4266, 'fritz:': 2343, 'somebody': 5475, 'shard': 5200, 'mid-conversation': 3750, \"robbin'\": 4919, 'run': 4977, 'dammit': 1467, 'newest': 4009, 'jeter': 3146, 'jernt': 3143, 'stern': 5661, 'ballclub': 459, 'manjula_nahasapeemapetilon:': 3638, 'here': 2763, 'doof': 1717, 'heavyset': 2738, 'earpiece': 1829, 'announcer:': 279, 'body': 681, 'consulting': 1292, '1895': 31, 'snotty': 5442, 'shrugs': 5268, 'walther_hotenhoffer:': 6420, 'guessing': 2591, 'ron_howard:': 4936, 'executive': 2008, \"fans'll\": 2083, 'sooo': 5497, 'stu': 5729, 'mini-beret': 3776, 'getcha': 2444, 'arse': 350, 'heavyweight': 2739, \"narratin'\": 3956, 'idea': 2944, 'satisfaction': 5043, 'proudly': 4622, 'died': 1612, 'sixty-nine': 5342, \"duelin'\": 1792, 'tomatoes': 6095, 'bubbles': 814, \"i'm-so-stupid\": 2932, 'anyhoo': 297, 'mamma': 3619, 'guide': 2594, 'lessee': 3396, 'never': 4006, 'deliberate': 1544, 'pointless': 4469, 'kicked': 3231, 'babe': 430, 'helpful': 2754, 'considers': 1288, \"wouldn't\": 6680, 'title:': 6075, 'clincher': 1160, 'hounds': 2881, 'nudge': 4086, 'dint': 1633, 'mid-seventies': 3751, 'klown': 3270, 'dana_scully:': 1472, \"i'm\": 2931, 'followed': 2250, 'fry': 2353, 'van': 6342, 'placing': 4416, 'non-losers': 4051, 'whistling': 6550, 'wins': 6608, 'cozies': 1369, 'grieving': 2562, 'sedaris': 5124, 'wrote': 6700, 'bunion': 843, 'pian-ee': 4375, 'castle': 973, 'trick': 6172, 'shopping': 5238, 'welcome': 6497, 'hooters': 2854, 'allow': 222, 'binoculars': 624, 'high': 2780, 'reunion': 4876, 'goods': 2514, 'voted': 6389, 'lay': 3353, 'crapmore': 1379, 'imitating': 2963, 'delicious': 1548, 'saturday': 5045, 'kermit': 3226, 'charlie:': 1040, 'game': 2396, 'earth': 1832, 'decide': 1521, 'electronic': 1892, 'bonfire': 692, 'laney_fontaine:': 3326, 'washer': 6443, '91': 50, 'dollars': 1699, 'woo': 6649, 'making': 3610, 'habit': 2621, 'sees/': 5135, 'hidden': 2776, 'playoff': 4441, 'cheer': 1058, 'lemme': 3381, 'irishman': 3075, 'nine': 4032, 'party': 4280, 'payments': 4312, '__return__': 59, 'mild': 3759, 'andalay': 267, 'measure': 3703, 'enhance': 1934, 'who': 6553, 'as': 356, 'edna': 1857, 'mickey': 3745, 'oh-so-sophisticated': 4136, 'generous': 2425, 'accurate': 105, 'walked': 6411, 'synthesize': 5844, 'feisty': 2122, 'radical': 4700, 'compressions': 1258, 'wantcha': 6426, 'brick': 775, 'directions': 1636, 'prejudice': 4536, 'try': 6196, 'event': 1975, 'ungrateful': 6287, 'liser': 3458, 'strategy': 5712, 'saying': 5058, 'ran': 4729, 'middle': 3752, 'blue': 672, 'entirely': 1949, \"tony's\": 6108, 'worried': 6672, 'actress': 119, 'tasimeter': 5886, 'phony': 4369, \"spyin'\": 5578, 'must': 3928, 'excuse': 2006, 'mona_simpson:': 3840, 'books': 701, \"you'd\": 6748, 'exit': 2012, 'became': 541, 'hunger': 2910, 'disappear': 1642, 'manatee': 3632, 'indicates': 2993, 'vincent': 6372, 'aww': 421, 'caveman': 989, 'candidate': 922, 'way': 6462, 'horns': 2862, 'joy': 3175, 'material': 3670, 'nineteen': 4033, 'foibles': 2244, 'donate': 1707, 'milks': 3767, \"costume's\": 1333, 'floated': 2225, 'focused': 2243, 'wage': 6400, 'burnside': 853, 'hilton': 2791, 'brainiac': 750, \"we're\": 6473, \"moe's\": 3824, \"what'll\": 6517, 'young': 6753, 'excellent': 1997, 'apartment': 305, 'obsessive-compulsive': 4106, 'cheering': 1062, 'woozy': 6656, 'premise': 4538, 'carve': 967, 'dumbass': 1805, 'wear': 6479, 'other_player:': 4197, 'life:': 3420, 'god': 2498, 'sitcom': 5331, 'airport': 196, 'hats': 2698, 'seat': 5112, 'tapered': 5881, 'sacrilicious': 4998, 'bart_simpson:': 499, 'dressing': 1755, 'attack': 385, 'religion': 4818, 'reckless': 4778, 'awwww': 423, 'everybody': 1980, 'humiliation': 2907, 'found': 2296, 'mellow': 3717, 'borrow': 711, 'agent_johnson:': 169, 'care': 945, 'sips': 5322, 'rub-a-dub': 4959, 'nap': 3953, 'feat': 2112, 'tank': 5875, 'finale': 2166, 'herself': 2770, 'sobs': 5458, 'stagy': 5600, 'rolling': 4929, 'tradition': 6139, 'chinese_restaurateur:': 1088, 'broke': 795, 'tempting': 5931, 'whee': 6527, 'guard': 2589, 'yew': 6741, 'animals': 276, 'quickly': 4683, 'pulled': 4641, 'joking': 3171, 'bumped': 839, 'getaway': 2443, 'kegs': 3216, 'obama': 4102, 'flaming': 2208, 'tones': 6101, '4x4': 41, 'laughter': 3347, 'virile': 6375, 'bold': 684, 'pawed': 4306, 'pretentious_rat_lover:': 4560, 'stranger:': 5708, 'railroad': 4713, 'grey': 2559, 'conversation': 1308, 'flailing': 2204, 'potatoes': 4512, 'official': 4130, 'badge': 445, 'museum': 3921, 'wanted': 6427, 'here-here-here': 2765, 'encores': 1917, 'crowd': 1412, 'aggie': 172, 'stained-glass': 5601, 'brooklyn': 800, 'straight': 5703, 'test': 5949, 'hunting': 2915, 'refund': 4800, \"guy's\": 2615, 'hang': 2657, 'mother': 3874, 'raging': 4711, 'wiggum': 6579, 'disturbing': 1677, 'tablecloth': 5853, 'plaintive': 4418, 'cap': 931, 'investigating': 3062, 'recorded': 4782, 'lighter': 3429, 'famous': 2078, 'earrings': 1830, 'newsletter': 4013, 'gordon': 2516, 'beyond': 606, 'extremely': 2037, 'artie': 352, 'crystal': 1425, 'discriminate': 1651, \"industry's\": 2999, 'pleading': 4442, 'funny': 2370, 'dressed': 1754, 'barflies:': 483, 'nascar': 3959, 'willing': 6588, 'drag': 1735, 'solves': 5473, '7-year-old_brockman:': 46, 'business': 864, 'grimly': 2565, 'mock': 3816, 'mccall': 3685, 'k': 3200, 'shall': 5196, 'mither': 3801, 'counter': 1342, 'freeze': 2322, 'bourbon': 724, 'sperm': 5542, 'cauliflower': 985, 'barber': 479, 'sternly': 5662, 'down': 1730, \"they'll\": 5994, 'computer': 1260, 'whoo': 6563, 'carpet': 964, 'senators': 5154, 'coffee': 1197, \"we'll\": 6472, 'prize': 4583, \"yieldin'\": 6742, 'knife': 3274, 'bowl': 727, 'bowie': 726, 'settlement': 5176, 'rom': 4931, 'sadder': 5000, 'ironed': 3076, 'wind': 6593, 'dumbest': 1807, 'phase': 4361, 'work': 6661, 'para': 4263, 'rev': 4877, 'william': 6586, 'specific': 5531, 'ton': 6100, 'broom': 801, 'wasting': 6449, 'certified': 1009, 'squeal': 5584, 'beef': 550, 'polygon': 4487, '3rd_voice:': 40, 'jewelry': 3148, 'vermont': 6354, 'sun': 5770, 'said': 5012, 'spamming': 5520, 'fight': 2149, 'hell': 2747, 'fighting': 2152, 'gig': 2459, 'lou:': 3530, 'blown': 669, 'arabs': 330, 'yep': 6736, 'reality': 4762, 'might': 3756, 'heart': 2726, 'spite': 5553, 'shores': 5239, 'compels': 1244, 'marguerite:': 3648, 'steely-eyed': 5655, 'the_edge:': 5973, 'deli': 1543, 'beached': 523, 'latour': 3343, 'assistant': 371, 'appendectomy': 314, 'geysir': 2451, 'band': 465, 'meaning': 3696, 'crumble': 1420, \"how'd\": 2890, 'heaving': 2737, 'hostile': 2873, 'malted': 3617, 'betrayed': 598, 'hollye': 2826, 'scrubbing': 5099, 'whale': 6513, 'sheet': 5215, \"betsy'll\": 600, 'ons': 4165, 'twelve-step': 6222, 'eaten': 1842, 'sneeze': 5432, 'sports': 5567, 'peanut': 4318, \"lisa's\": 3455, 'bounced': 722, 'crazy': 1385, 'puzzle': 4667, 'angry': 274, 'win': 6590, 'caught': 984, 'ask': 360, 'sensible': 5159, 'burger': 846, 'philosophical': 4365, 'society_matron:': 5462, 'presentable': 4543, 'reflected': 4795, 'kay': 3209, 'yourse': 6761, 'girlfriend': 2471, \"number's\": 4089, 'orders': 4186, 'championship': 1020, 'inspired': 3032, 'libido': 3409, 'flea:': 2218, 'closes': 1169, 'crew': 1395, 'defected': 1535, 'gotten': 2524, 'pulling': 4643, 'upn': 6314, 'buffalo': 822, 'off': 4122, 'cold': 1205, 'things': 6001, 'rule': 4970, 'clearly': 1152, 'raining': 4720, 'reserved': 4861, 'quitcher': 4690, 'book_club_member:': 698, 'wild': 6582, 'some': 5474, 'celebrities': 995, 'hammy': 2643, 'president': 4547, 'slobbo': 5379, 'ralph': 4725, 'art': 351, 'tofu': 6083, 'sesame': 5172, 'friend': 2332, 'shoo': 5232, 'rookie': 4939, 'skills': 5348, 'heliotrope': 2746, 'complaining': 1248, 'mission': 3796, 'steal': 5647, 'lighting': 3430, 'over-pronouncing': 4214, 'ooh': 4168, 'roof': 4938, 'character': 1033, 'tipsy': 6071, \"breakin'\": 765, 'sending': 5157, 'cappuccino': 935, 'wreck': 6689, 'bust': 867, 'drapes': 1740, 'applicant': 316, 'understood:': 6276, 'afraid': 155, 'scene': 5068, 'outs': 4209, 'billiard': 618, 'suspiciously': 5807, 'alphabet': 232, 'alien': 212, 'enemy': 1926, 'military': 3764, 'rich': 4887, 'proper': 4613, 'droning': 1772, 'crinkly': 1401, \"football's\": 2264, 'ails': 192, 'tape': 5880, 'dee-fense': 1529, 'disillusioned': 1663, 'neat': 3975, 'bannister': 469, 'thorough': 6020, 'wrong': 6699, 'beatings': 535, 'hobo': 2815, 'starting': 5625, 'confidential': 1276, 'safecracker': 5004, 'crisis': 1403, 'hippies': 2794, \"didn't\": 1609, 'clothespins': 1173, 'dumb-asses': 1804, 'pantry': 4257, '1979': 33, 'enemies': 1925, 'plain': 4417, 'make': 3606, 'sen': 5152, 'maiden': 3599, 'laughing': 3345, 'duffman': 1797, 'nice': 4019, 'answered': 287, 'fill': 2160, 'matter-of-fact': 3673, 'boys': 742, 'table': 5851, 'around': 345, 'sumatran': 5767, \"that's\": 5970, 'listens': 3464, '7g': 48, 'principles': 4577, \"soakin's\": 5449, 'rascals': 4734, 'spews': 5543, \"gettin'\": 2446, 'complicated': 1253, 'pouring': 4517, 'anyone': 300, 'dancing': 1474, 'snaps': 5427, 'bucket': 816, 'challenge': 1015, 'opportunity': 4179, 'moved': 3886, 'greystash': 2560, 'full-time': 2360, 'refresh': 4796, 'stepped': 5660, 'polite': 4482, 'nervous': 4002, 'hops': 2861, 'effervescent': 1866, 'alright': 234, 'louisiana': 3535, 'mine': 3774, 'whoa': 6558, 'mexican_duffman:': 3737, 'mistake': 3797, 'spine': 5547, 'stage': 5597, 'depressing': 1574, 'next': 4016, 'normal': 4063, 'wealthy': 6477, 'statistician': 5636, 'sell': 5145, 'burt': 857, 'fourth': 2304, 'heck': 2740, 'legally': 3376, 'freshened': 2328, 'slick': 5372, 'briefly': 780, 'men': 3721, 'sister': 5325, 'studio': 5733, 'mayor_joe_quimby:': 3683, 'exchanged': 2001, 'happier': 2670, 'homer': 2832, 'kisses': 3264, 'cup': 1433, 'rip': 4906, 'shush': 5270, 'chapstick': 1031, 'gentle': 2428, 'donation': 1710, 'trench': 6168, 'dejected_barfly:': 1540, 'floating': 2227, 'schedule': 5071, 'endorse': 1921, 'is': 3080, 'worth': 6676, 'bright': 781, 'locklear': 3493, 'cronies': 1404, 'dime': 1624, \"mtv's\": 3896, 'toledo': 6089, 'moans': 3813, 'expert': 2022, 'na': 3937, 'too': 6109, \"show's\": 5255, 'ronstadt': 4937, 'hangout': 2660, 'chapel': 1030, 'mirthless': 3787, 'issuing': 3087, 'thirsty': 6007, 'can': 918, 'sinkhole': 5320, 'tease': 5908, 'enjoy': 1935, 'improved': 2973, 'disguised': 1659, 'cops': 1318, 'b': 426, 'crap': 1377, 'recruiter': 4785, 'lily-pond': 3434, 'lifetime': 3422, 'intoxicated': 3056, 'conditioner': 1268, 'washouts': 6445, 'tick': 6050, 'iranian': 3072, 'outside': 4210, 'fruit': 2351, 'gosh': 2519, 'belch': 576, 'padres': 4234, 'bono': 693, 'cruiser': 1419, 'anonymous': 284, 'crime': 1398, 'separator': 5163, 'forehead': 2273, 'sucks': 5752, 'leftover': 3372, 'young_homer:': 6755, 'canyonero': 930, 'gives': 2475, 'perfume': 4340, 'pronounce': 4610, 'switch': 5836, 'vacations': 6334, 'church': 1124, 'toilet': 6086, 'stan': 5609, 'fifteen': 2146, 'ears': 1831, 'creeps': 1391, 'ice': 2940, 'shakes': 5192, 'intervention': 3052, 'reads': 4759, 'rem': 4822, 'egg': 1868, 'choices': 1097, 'strokkur': 5724, 'fold': 2246, 'stacey': 5595, 'them': 5979, \"year's\": 6725, 'sassy': 5039, 'thinks': 6005, 'manage': 3628, 'practice': 4523, 's-a-u-r-c-e': 4993, 'mitts': 3802, \"buffalo's\": 823, 'instrument': 3037, 'explain': 2024, 'mouths': 3884, 'cars': 965, 'presses': 4552, 'harder': 2677, 'sleeping': 5367, 'picked': 4378, 'sometime': 5488, 'venture': 6352, 'beating': 534, 'women': 6641, 'beast': 532, 'badmouth': 448, 'rather': 4740, 'exciting': 2004, 'european': 1968, 'occasional': 4109, 'positive': 4506, 'slim': 5375, 'mmm-hmm': 3808, 'grammys': 2536, 'brockelstein': 792, 'religious': 4819, 'am': 241, 'check': 1055, 'shoe': 5230, 'go': 2494, 'eyesore': 2046, 'be': 520, 'plans': 4425, 'thesaurus': 5990, 'al': 198, 'overturned': 4218, 'suffering': 5759, 'parasol': 4265, 'diets': 1615, 'bartending': 503, 'slot': 5385, 'falsetto': 2073, \"soundin'\": 5507, 'mic': 3740, 'pile': 4391, 'juan': 3176, 'samples': 5026, 'broad': 790, 'beanbag': 526, 'capitalists': 933, 'nail': 3943, 'air': 195, \"tv's\": 6214, 'occurrence': 4114, 'mahatma': 3597, 'lying': 3573, 'drunk': 1781, 'partners': 4279, 'effigy': 1867, 'housing': 2888, 'address': 125, 'sunglasses': 5772, 'edison': 1856, 'dance': 1473, 'deny': 1566, 'deeply': 1532, 'dirge-like': 1639, 'bookie': 699, 'fish': 2190, 'laws': 3351, 'montrer': 3852, 'frescas': 2325, 'stood': 5689, 'kako:': 3204, \"workin'\": 6664, 'rainforest': 4717, 'fever': 2138, 'terminated': 5940, 'sketching': 5347, 'kidney': 3239, 'derisive': 1578, 'unlocked': 6300, 'terror': 5947, 'onions': 4162, 'clapping': 1142, 'chic': 1073, 'relax': 4810, 'supervising': 5785, 'bursts': 856, 'sigh': 5289, 'wishing': 6620, 'sexual': 5182, 'jump': 3189, 'stores': 5699, 'aidens': 191, \"marge's\": 3646, 'swishkabobs': 5835, 'jobless': 3155, 'mob': 3814, 'grind': 2568, 'love': 3538, 'p-k': 4228, 'conversations': 1309, 'buddy': 820, 'thoughtfully': 6028, 'reminded': 4830, 'babies': 431, 'vote': 6388, 'lear': 3359, 'cliff': 1159, \"plaster's\": 4429, 'delivery': 1552, 'more': 3861, 'drunkening': 1782, 'grants': 2546, 'someplace': 5481, 'loaded': 3481, \"you're\": 6750, 'against': 163, 'bloodiest': 664, 'maher': 3598, 'done:': 1712, 'tactful': 5856, 'diapers': 1603, 'horrors': 2867, 'heartless': 2729, 'boat': 678, \"'n'\": 14, 'hangover': 2661, 'seem': 5130, 'sudoku': 5755, 'be-stainèd': 521, 'chastity': 1045, 'return': 4875, 'take-back': 5859, 'peace': 4315, 'muscles': 3920, 'catch': 977, 'erasers': 1957, 'jukebox': 3185, 'skinner': 5351, 'feeling': 2118, 'amused': 258, 'mystery': 3936, 'exclusive:': 2005, \"liberty's\": 3408, 'bury': 859, 'magnanimous': 3595, 'duff': 1793, 'forty-two': 2294, 'southern': 5514, 'wacky': 6397, 'states': 5632, 'cab': 892, 'margarita': 3644, 'wraps': 6688, 'various': 6345, 'dumptruck': 1810, 'throat': 6039, 'emphasis': 1910, 'mindless': 3773, \"rasputin's\": 4737, 'teenage': 5913, 'rip-off': 4907, 'kick': 3229, 'treat': 6159, 'bully': 834, 'nods': 4045, 'flourish': 2230, 'dollar': 1698, \"bettin'\": 602, \"'s\": 19, 'kings': 3257, 'specializes': 5528, \"president's\": 4548, 'however': 2893, 'inclination': 2981, 'writing': 6697, 'rumaki': 4973, 'surprise': 5796, 'powered': 4519, 'meal': 3692, 'wakede': 6408, 'honored': 2847, 'drive': 1764, 'ref': 4790, 'assume': 373, \"they'd\": 5993, 'loves': 3547, 'ivanna': 3100, 'simpsons': 5303, 'youth': 6765, 'lodge': 3494, 'serve': 5169, 'kindly': 3254, 'anderson': 268, 'patron_#1:': 4296, 'hangs': 2662, 'absolut': 90, 'audience:': 397, 'neon': 3999, 'ugh': 6245, 'chief_wiggum:': 1078, 'sharps': 5207, 'misfire': 3791, 'moonshine': 3858, '50-60': 43, 'ugly': 6249, 'hosting': 2874, 'size': 5343, 'tonic': 6103, 'tidy': 6054, 'crowned': 1416, 'sagely': 5010, 'geez': 2420, 'boxer:': 734, 'in-ground': 2975, 'hooked': 2851, 'retired': 4874, 'ahhh': 187, 'shriners': 5266, 'cruise': 1418, 'optimistic': 4180, 'undies': 6278, 'sport': 5566, 'slab': 5359, 'value': 6339, 'firing': 2186, 'anti-crime': 291, 'tummies': 6203, '_eugene_blatz:': 64, \"shan't\": 5198, 'coward': 1363, 'spellbinding': 5536, 'entertainer': 1944, 'mean': 3694, 'umm': 6256, \"homer'll\": 2833, 'thoughtless': 6029, 'ayyy': 424, 'swear': 5814, 'linda': 3441, 'declan': 1525, \"jimbo's_dad:\": 3152, 'mug': 3901, 'world-class': 6669, 'bags': 452, 'gals': 2393, 'steamed': 5651, 'refreshingness': 4798, 'tubman': 6201, 'nagurski': 3940, \"shouldn't\": 5251, 'beloved': 586, 'worse': 6674, 'drinker': 1759, 'maxed': 3675, 'contact': 1294, 'lipo': 3450, 'watching': 6454, 'face-macer': 2051, 'quadruple-sec': 4670, 'jury': 3195, 'fierce': 2145, 'race': 4696, 'thrilled': 6038, 'considering': 1286, 'disturbance': 1676, 'diamond': 1601, 'judge': 3179, 'estranged': 1964, 'exchange': 2000, 'coal': 1182, 'tourist': 6126, 'quick-like': 4682, 'blooded': 663, 'krusty_the_clown:': 3299, 'level': 3402, 'wayne': 6466, 'month': 3850, 'troubles': 6183, 'woe:': 6631, 'poured': 4516, 'host': 2871, 'listened': 3461, 'dazed': 1501, 'system': 5846, 'drinking:': 1762, 'cocking': 1190, 'hemoglobin': 2758, 'told': 6088, 'common': 1238, 'whoops': 6565, 'severe': 5179, \"raggin'\": 4709, \"what'sa\": 6520, 'youse': 6764, 'dry': 1785, \"g'ahead\": 2383, 'haplessly': 2666, 'amid': 255, 'far': 2086, 'barkeeps': 486, 'hillbillies': 2790, 'temples': 5929, 'heaven': 2735, \"tree's\": 6163, \"payin'\": 4310, 'wussy': 6703, 'stomach': 5686, 'advice': 146, 'sees': 5134, 'gibson': 2455, 'jelly': 3136, 'rome': 4934, 'shut': 5271, 'karaoke': 3207, 'itself': 3098, \"tatum'll\": 5891, 'kinda': 3252, 'lady_duff:': 3315, 'plums': 4455, 'a-a-b-b-a': 74, 'self-made': 5142, 'loafers': 3482, 'copy': 1319, 'slip': 5376, 'stein-stengel-': 5656, 'jacks': 3109, 'motorcycle': 3877, 'options': 4182, 'prayers': 4527, 'commission': 1234, 'barney_gumble:': 493, 'choke': 1099, 'ummmmmmmmm': 6257, 'cyrano': 1453, 'macho': 3584, 'banquet': 470, 'delicate': 1546, \"who'll\": 6555, 'lucinda': 3555, 'kirk': 3258, 'maya': 3678, 'hibachi': 2774, 'inspire': 3031, 'teeth': 5917, 'realizing': 4765, 'helllp': 2750, 'experiments': 2021, 'noble': 4043, 'cooler': 1316, 'form': 2284, 'where': 6535, 'pained': 4240, 'exasperated': 1995, 'manfred': 3635, 'clips': 1163, \"wife's\": 6575, 'mary': 3661, 'composite': 1257, 'motel': 3873, 'refreshing': 4797, 'founded': 2298, 'cartoons': 966, 'slays': 5364, 'jacksons': 3111, 'agnes_skinner:': 178, \"dad's\": 1459, 'dang': 1475, 'belches': 577, 'tentative': 5936, 'filed': 2159, 'souped': 5510, 'acronyms': 111, 'ancestors': 261, 'unless': 6298, 'marge_simpson:': 3647, 'chosen': 1106, 'customers-slash-only': 1446, 'break': 761, 'man_at_bar:': 3625, 'election': 1891, 'astrid': 376, 'winded': 6594, 'prank': 4525, 'call': 905, 'surgeonnn': 5794, 'company': 1241, 'vengeance': 6348, 'blurbs': 676, 'lips': 3451, \"wait'll\": 6404, 'jeers': 3132, 'hide': 2777, 'mind': 3771, 'field': 2144, 'afford': 153, 'barter': 504, 'gees': 2419, \"poundin'\": 4514, 'salt': 5020, 'jeez': 3133, 'kiss': 3261, 'pool': 4490, 'involving': 3069, 'answer': 286, 'catching': 979, 'marshmallow': 3657, 'dealer': 1509, 'invented': 3061, 'hm': 2805, 'exhale': 2009, 'department': 1567, 'urban': 6319, 'during': 1813, 'continuing': 1302, 'infestation': 3003, 'onassis': 4155, 'comedies': 1223, \"poisonin'\": 4473, 'firm': 2187, 'johnny_carson:': 3164, 'products': 4595, 'losers': 3520, 'noggin': 4046, 'exits': 2014, 'peaked': 4317, 'der': 1576, 'ironic': 3077, 'contemplated': 1295, 'skirt': 5354, 'clears': 1153, 'trying': 6198, 'charter': 1043, 'shhh': 5222, 'helps': 2757, 'all-american': 217, 'street': 5714, 'reaching': 4750, \"stallin'\": 5605, 'fuhgetaboutit': 2356, 'inspector': 3030, 'colorado': 1214, \"talkin'\": 5871, 'history': 2799, 'settles': 5177, 'terrific': 5943, '__dash__': 53, 'cecil_terwilliger:': 992, 'detective_homer_simpson:': 1592, 'salvation': 5022, 'flanders': 2209, 'bowling': 729, 'husband': 2920, \"lenny's\": 3387, 'dials': 1600, 'gossipy': 2520, 'woman_bystander:': 6639, 'soaked': 5448, 'colossal': 1215, 'pride': 4569, 'eight-year-old': 1877, 'little_man:': 3470, 'safely': 5005, 'defensive': 1536, 'picky': 4383, 'encouraging': 1919, 'then:': 5983, 'pull': 4640, 'supply': 5786, 'sleigh-horses': 5369, 'leak': 3357, 'embarrassing': 1905, 'tree': 6162, 'poker': 4476, 'midnight': 3755, 'shirt': 5227, 'sixteen': 5339, 'seymour': 5184, 'bulldozing': 831, 'sweetly': 5824, 'lorre': 3516, 'acquitted': 110, 'operation': 4178, 'chest': 1070, 'fayed': 2106, 'faulkner': 2101, 'state': 5631, 'looking': 3510, 'reptile': 4857, 'other': 4194, 'mcstagger': 3689, 'ahead': 184, 'knock': 3277, 'north': 4065, 'county': 1349, 'flexible': 2223, 'keys': 3228, 'thumb': 6048, 'chili': 1083, 'lucius': 3556, 'you-need-man': 6752, 'disposal': 1668, 'ne': 3971, 'typing': 6241, 'drivers': 1767, 'piano': 4376, 'low': 3548, \"monroe's\": 3848, \"they're\": 5995, 'sail': 5014, 'fast-food': 2090, 'serum': 5168, \"meanin'\": 3695, 'playful': 4437, 'waste': 6447, 'sniffing': 5434, 'appointment': 319, 'committing': 1237, 'etc': 1965, 'man': 3620, \"idea's\": 2945, 'gimmick': 2464, 'night-crawlers': 4029, 'holiday': 2823, 'helpless': 2756, 'spotting': 5570, 'troy:': 6185, 'timbuk-tee': 6061, \"tv'll\": 6213, 'proves': 4624, 'ditched': 1678, 'partially': 4276, \"high-falutin'\": 2782, \"hadn't\": 2624, 'outstanding': 4211, 'kidnaps': 3238, 'impending': 2967, 'cavern': 990, 'source': 5512, 'r': 4693, 'fortensky': 2287, 'sympathetic': 5839, 'refreshment': 4799, 'lowest': 3553, 'shoes': 5231, 'price': 4566, 'remember': 4826, 'pursue': 4654, 'took': 6110, 'loan': 3483, 'pushing': 4659, 'seen': 5133, 'exception:': 1999, 'hmmmm': 2809, 'partner': 4278, 'beer:': 559, 'flowers': 2232, 'dea-d-d-dead': 1504, 'conclude': 1266, 're:': 4746, 'boned': 689, 'movies': 3889, 'home': 2829, 'stones': 5687, 'see': 5126, 'wars': 6439, 'stocking': 5683, 'kool': 3294, 'months': 3851, 'edna-lover-one-seventy-two': 1859, 'yourselves': 6763, 'annual': 282, 'lobster-politans': 3488, 'un-sults': 6258, 'trolls': 6180, 'skunk': 5356, 'tremendous': 6167, \"sat's\": 5041, 'knowingly': 3284, 'date': 1490, 'free': 2318, 'lizard': 3477, 'married': 3655, 'seriously': 5167, 'sex': 5180, 'brine': 784, 'smiling': 5405, '70': 47, 'hero-phobia': 2767, 'doooown': 1719, 'sketch': 5346, 'tears': 5907, 'lennyy': 3390, 'knuckles': 3289, 'lonely': 3500, 'sideshow_bob:': 5286, 'neighbors': 3992, 'panicky': 4255, 'pop': 4493, 'leathery': 3364, 'done': 1711, 'capuchin': 938, 'ivory': 3101, 'sam:': 5023, 'rob': 4917, 'brilliant': 783, 'aerosmith': 148, 'patrons:': 4299, 'spit-backs': 5552, 'nerve': 4001, 'stretch': 5717, 'trusted': 6193, 'sobbing': 5454, 'belt': 587, 'soothing': 5499, 'miss': 3792, 'multiple': 3908, 'thing': 5998, 'annus': 283, 'forgiven': 2280, 'rocks': 4924, 'moonnnnnnnn': 3857, 'unable': 6259, 'without:': 6625, 'society': 5461, 'ridiculous': 4894, 'zone': 6776, 'tavern': 5894, 'ball-sized': 458, 'kirk_voice_milhouse:': 3260, 'i-i-i': 2938, 'sink': 5319, 'couple': 1350, \"changin'\": 1026, 'smooth': 5413, \"o'reilly\": 4100, 'shipment': 5226, 'passports': 4287, 'biggest': 613, 'municipal': 3911, \"s'okay\": 4991, 'possibly': 4508, 'cuckoo': 1427, 'hundreds': 2909, 'amiable': 254, 'six': 5337, 'stinks': 5677, 'bindle': 623, 'understanding': 6274, 'shindig': 5225, 'dumb': 1803, 'spare': 5522, 'maya:': 3679, 'tom': 6092, 'mailbox': 3601, 'rhode': 4883, 'paste': 4290, 'sleep': 5366, 'hot-rod': 2876, \"ma's\": 3577, 'really': 4766, 'class': 1143, 'ram': 4728, 'pants': 4258, 'reactions': 4752, 'reading:': 4758, 'short_man:': 5241, 'corkscrew': 1320, 'replace': 4850, 'jesus': 3145, 'sadly': 5002, 'full-bodied': 2359, 'years': 6726, 'wildfever': 6584, 'delivery_man:': 1554, 'prison': 4580, 'quarter': 4673, \"men's\": 3722, 'ford': 2271, 'bidet': 610, 'who-o-oa': 6557, 'clean': 1145, 'wally:': 6418, 'reward': 4880, 'alec_baldwin:': 207, 'lady': 3312, 'tree_hoper:': 6164, \"i'unno\": 2933, 'kramer': 3297, 'changes': 1025, 'senator': 5153, 'sec': 5114, 'stingy': 5674, 'plywood': 4457, 'cage': 896, 'conditioning': 1270, 'pregnancy': 4535, 'random': 4731, 'every': 1979, 'diablo': 1599, 'set': 5173, 'voicemail': 6384, 'fatty': 2100, 'collette:': 1210, 'socratic': 5463, 'tune': 6205, 'pissed': 4407, 'betty:': 603, 'lush': 3569, 'agent_miller:': 170, 'majesty': 3604, 'somehow': 5478, 'stirring': 5681, 'raggie': 4708, 'disaster': 1648, \"we'd\": 6471, 'corkscrews': 1321, \"you've\": 6751, 'cocktail': 1194, 'post-suicide': 4509, 'versus': 6355, 'honeys': 2845, 'destroyed': 1588, 'straighten': 5704, 'dirty': 1641, \"chewin'\": 1072, 'boyfriend': 740, 'name:': 3948, 'bill': 615, 'quarterback': 4674, 'france': 2308, 'super': 5775, 'lift': 3423, 'quality': 4671, 'period': 4343, 'from': 2346, 'fresh': 2327, 'terrified': 5944, 'sorts': 5501, 'simple': 5300, 'princess': 4574, 'forward': 2295, 'togetherness': 6085, 'cough': 1336, 'overstressed': 4217, 'rump': 4976, '&': 1, \"could've\": 1339, 'needed': 3984, 'talkative': 5868, 'wave': 6461, 'ohhhh': 4138, 'kang:': 3205, 'getting': 2447, 'midge:': 3754, 'fans': 2082, \"secret's\": 5120, 'testing': 5954, 'toys': 6136, 'promise': 4606, 'coma': 1217, 'delightfully': 1551, 'still': 5671, 'roll': 4926, 'fonda': 2252, 'jebediah': 3131, 'fresco': 2326, 'stinky': 5678, 'ireland': 3073, 'sale': 5018, 'toasting': 6077, 'bob': 679, 'showing': 5261, 'our': 4203, \"man's\": 3622, 'thankful': 5963, 'finished': 2177, 'unavailable': 6262, 'ow': 4219, 'expect': 2015, 'peabody': 4314, 'sits': 5333, 'scratching': 5093, 'fuzzlepitch': 2381, 'waitress': 6406, 'decide:': 1522, 'store': 5696, 'missed': 3794, 'speak': 5523, 'sunk': 5773, 'associate': 372, 'whatcha': 6522, 'stagey': 5599, 'sobo': 5456, 'felt': 2129, 'telegraph': 5918, 'griffith': 2563, 'musical': 3924, 'played': 4435, 'minutes': 3784, 'twelveball': 6223, 'whaaaa': 6510, 'raking': 4724, 'often': 4133, 'keeping': 3214, 'delays': 1541, 'lovers': 3545, 'threw': 6037, 'helen': 2744, 'strong': 5726, 'past': 4288, 'smiles': 5404, 'chuckles': 1115, 'shakespeare': 5193, 'based': 507, 'hoagie': 2813, 'century': 1003, 'ninety-eight': 4034, 'bigger': 612, 'rings': 4905, 'even': 1973, 'website': 6485, 'effervescence': 1865}\n"
     ]
    }
   ],
   "source": [
    "# debug helper \n",
    "text = helper.load_data(data_dir)\n",
    "\n",
    "# Ignore notice, since we don't use it for analysing the data\n",
    "text = text[81:]\n",
    "\n",
    "token_dict = token_lookup()\n",
    "for key, token in token_dict.items():\n",
    "    text = text.replace(key, ' {} '.format(token))\n",
    "\n",
    "text = text.lower()\n",
    "text = text.split()\n",
    "\n",
    "vocab_to_int, int_to_vocab = create_lookup_tables(text)\n",
    "\n",
    "print(vocab_to_int)"
   ]
  },
  {
   "cell_type": "code",
   "execution_count": 8,
   "metadata": {
    "collapsed": false,
    "deletable": true,
    "editable": true
   },
   "outputs": [],
   "source": [
    "import pickle\n",
    "int_text = [vocab_to_int[word] for word in text]\n",
    "pickle.dump((int_text, vocab_to_int, int_to_vocab, token_dict), open('preprocess.p', 'wb'))"
   ]
  },
  {
   "cell_type": "code",
   "execution_count": 9,
   "metadata": {
    "collapsed": false,
    "deletable": true,
    "editable": true
   },
   "outputs": [],
   "source": [
    "\"\"\"\n",
    "DON'T MODIFY ANYTHING IN THIS CELL\n",
    "\"\"\"\n",
    "# Preprocess Training, Validation, and Testing Data\n",
    "helper.preprocess_and_save_data(data_dir, token_lookup, create_lookup_tables)"
   ]
  },
  {
   "cell_type": "markdown",
   "metadata": {
    "deletable": true,
    "editable": true
   },
   "source": [
    "# Check Point\n",
    "This is your first checkpoint. If you ever decide to come back to this notebook or have to restart the notebook, you can start from here. The preprocessed data has been saved to disk."
   ]
  },
  {
   "cell_type": "code",
   "execution_count": 10,
   "metadata": {
    "collapsed": false,
    "deletable": true,
    "editable": true
   },
   "outputs": [],
   "source": [
    "\"\"\"\n",
    "DON'T MODIFY ANYTHING IN THIS CELL\n",
    "\"\"\"\n",
    "import helper\n",
    "import numpy as np\n",
    "import problem_unittests as tests\n",
    "\n",
    "int_text, vocab_to_int, int_to_vocab, token_dict = helper.load_preprocess()"
   ]
  },
  {
   "cell_type": "markdown",
   "metadata": {
    "deletable": true,
    "editable": true
   },
   "source": [
    "## Build the Neural Network\n",
    "You'll build the components necessary to build a RNN by implementing the following functions below:\n",
    "- get_inputs\n",
    "- get_init_cell\n",
    "- get_embed\n",
    "- build_rnn\n",
    "- build_nn\n",
    "- get_batches\n",
    "\n",
    "### Check the Version of TensorFlow and Access to GPU"
   ]
  },
  {
   "cell_type": "code",
   "execution_count": 11,
   "metadata": {
    "collapsed": false,
    "deletable": true,
    "editable": true
   },
   "outputs": [
    {
     "name": "stdout",
     "output_type": "stream",
     "text": [
      "TensorFlow Version: 1.0.0\n",
      "Default GPU Device: /gpu:0\n"
     ]
    }
   ],
   "source": [
    "\"\"\"\n",
    "DON'T MODIFY ANYTHING IN THIS CELL\n",
    "\"\"\"\n",
    "from distutils.version import LooseVersion\n",
    "import warnings\n",
    "import tensorflow as tf\n",
    "\n",
    "# Check TensorFlow Version\n",
    "assert LooseVersion(tf.__version__) >= LooseVersion('1.0'), 'Please use TensorFlow version 1.0 or newer'\n",
    "print('TensorFlow Version: {}'.format(tf.__version__))\n",
    "\n",
    "# Check for a GPU\n",
    "if not tf.test.gpu_device_name():\n",
    "    warnings.warn('No GPU found. Please use a GPU to train your neural network.')\n",
    "else:\n",
    "    print('Default GPU Device: {}'.format(tf.test.gpu_device_name()))"
   ]
  },
  {
   "cell_type": "markdown",
   "metadata": {
    "deletable": true,
    "editable": true
   },
   "source": [
    "### Input\n",
    "Implement the `get_inputs()` function to create TF Placeholders for the Neural Network.  It should create the following placeholders:\n",
    "- Input text placeholder named \"input\" using the [TF Placeholder](https://www.tensorflow.org/api_docs/python/tf/placeholder) `name` parameter.\n",
    "- Targets placeholder\n",
    "- Learning Rate placeholder\n",
    "\n",
    "Return the placeholders in the following the tuple `(Input, Targets, LearingRate)`"
   ]
  },
  {
   "cell_type": "code",
   "execution_count": 12,
   "metadata": {
    "collapsed": false,
    "deletable": true,
    "editable": true
   },
   "outputs": [],
   "source": [
    "def get_inputs():\n",
    "    \"\"\"\n",
    "    Create TF Placeholders for input, targets, and learning rate.\n",
    "    :return: Tuple (inputs, targets, learning rate)\n",
    "    \"\"\"    \n",
    "    inputs = tf.placeholder(tf.int32, [None, None], name='input')\n",
    "    targets = tf.placeholder(tf.int32, [None, None], name='label')\n",
    "    learning_rate = tf.placeholder(tf.float32, name='learning_rate')\n",
    "\n",
    "    return inputs, targets, learning_rate\n",
    "\n",
    "#input_data, targets, lr = get_inputs()\n",
    "#print((input_data.__doc__))"
   ]
  },
  {
   "cell_type": "code",
   "execution_count": 13,
   "metadata": {
    "collapsed": false,
    "deletable": true,
    "editable": true
   },
   "outputs": [
    {
     "name": "stdout",
     "output_type": "stream",
     "text": [
      "Tests Passed\n"
     ]
    }
   ],
   "source": [
    "\"\"\"\n",
    "DON'T MODIFY ANYTHING IN THIS CELL THAT IS BELOW THIS LINE\n",
    "\"\"\"\n",
    "tests.test_get_inputs(get_inputs)"
   ]
  },
  {
   "cell_type": "markdown",
   "metadata": {
    "deletable": true,
    "editable": true
   },
   "source": [
    "### Build RNN Cell and Initialize\n",
    "Stack one or more [`BasicLSTMCells`](https://www.tensorflow.org/api_docs/python/tf/contrib/rnn/BasicLSTMCell) in a [`MultiRNNCell`](https://www.tensorflow.org/api_docs/python/tf/contrib/rnn/MultiRNNCell).\n",
    "- The Rnn size should be set using `rnn_size`\n",
    "- Initalize Cell State using the MultiRNNCell's [`zero_state()`](https://www.tensorflow.org/api_docs/python/tf/contrib/rnn/MultiRNNCell#zero_state) function\n",
    "    - Apply the name \"initial_state\" to the initial state using [`tf.identity()`](https://www.tensorflow.org/api_docs/python/tf/identity)\n",
    "\n",
    "Return the cell and initial state in the following tuple `(Cell, InitialState)`"
   ]
  },
  {
   "cell_type": "code",
   "execution_count": 14,
   "metadata": {
    "collapsed": false,
    "deletable": true,
    "editable": true
   },
   "outputs": [],
   "source": [
    "lstm_layers = 1\n",
    "\n",
    "def get_init_cell(batch_size, rnn_size):\n",
    "    \"\"\"\n",
    "    Create an RNN Cell and initialize it.\n",
    "    :param batch_size: Size of batches\n",
    "    :param rnn_size: Size of RNNs\n",
    "    :return: Tuple (cell, initial_state)\n",
    "    \"\"\"\n",
    "    \n",
    "    # Your basic LSTM cell\n",
    "    lstm = tf.contrib.rnn.BasicLSTMCell(rnn_size)\n",
    "    \n",
    "    # Add dropout to the cell\n",
    "    #drop = tf.contrib.rnn.DropoutWrapper(lstm, output_keep_prob=keep_prob)\n",
    "    drop = lstm\n",
    "    \n",
    "    # Stack up multiple LSTM layers, for deep learning\n",
    "    cell = tf.contrib.rnn.MultiRNNCell([drop] * lstm_layers)\n",
    "    \n",
    "    # Getting an initial state of all zeros\n",
    "    initial_state = cell.zero_state(batch_size, tf.float32)\n",
    "    \n",
    "    initial_state = tf.identity(initial_state,'initial_state')\n",
    "    \n",
    "    return cell, initial_state\n",
    "\n"
   ]
  },
  {
   "cell_type": "code",
   "execution_count": 15,
   "metadata": {
    "collapsed": false,
    "deletable": true,
    "editable": true
   },
   "outputs": [
    {
     "name": "stdout",
     "output_type": "stream",
     "text": [
      "Tests Passed\n"
     ]
    }
   ],
   "source": [
    "\"\"\"\n",
    "DON'T MODIFY ANYTHING IN THIS CELL THAT IS BELOW THIS LINE\n",
    "\"\"\"\n",
    "tests.test_get_init_cell(get_init_cell)"
   ]
  },
  {
   "cell_type": "markdown",
   "metadata": {
    "deletable": true,
    "editable": true
   },
   "source": [
    "### Word Embedding\n",
    "Apply embedding to `input_data` using TensorFlow.  Return the embedded sequence."
   ]
  },
  {
   "cell_type": "code",
   "execution_count": 16,
   "metadata": {
    "collapsed": false,
    "deletable": true,
    "editable": true
   },
   "outputs": [
    {
     "name": "stdout",
     "output_type": "stream",
     "text": [
      "Tests Passed\n"
     ]
    }
   ],
   "source": [
    "def get_embed(input_data, vocab_size, embed_dim):\n",
    "    \"\"\"\n",
    "    Create embedding for <input_data>.\n",
    "    :param input_data: TF placeholder for text input.\n",
    "    :param vocab_size: Number of words in vocabulary.\n",
    "    :param embed_dim: Number of embedding dimensions\n",
    "    :return: Embedded input.\n",
    "    \"\"\"\n",
    "    #print(input_data)\n",
    "    #embedding = tf.Variable(tf.random_uniform((vocab_size, embed_dim), -1, 1),name='embedding_weights')\n",
    "    #print(embedding)\n",
    "    #embed = tf.nn.embedding_lookup(embedding, input_data)  \n",
    "    #print(embed)\n",
    "\n",
    "    return tf.contrib.layers.embed_sequence(input_data, vocab_size, embed_dim)\n",
    "\n",
    "\"\"\"\n",
    "DON'T MODIFY ANYTHING IN THIS CELL THAT IS BELOW THIS LINE\n",
    "\"\"\"\n",
    "tests.test_get_embed(get_embed)"
   ]
  },
  {
   "cell_type": "markdown",
   "metadata": {
    "deletable": true,
    "editable": true
   },
   "source": [
    "### Build RNN\n",
    "You created a RNN Cell in the `get_init_cell()` function.  Time to use the cell to create a RNN.\n",
    "- Build the RNN using the [`tf.nn.dynamic_rnn()`](https://www.tensorflow.org/api_docs/python/tf/nn/dynamic_rnn)\n",
    " - Apply the name \"final_state\" to the final state using [`tf.identity()`](https://www.tensorflow.org/api_docs/python/tf/identity)\n",
    "\n",
    "Return the outputs and final_state state in the following tuple `(Outputs, FinalState)` "
   ]
  },
  {
   "cell_type": "code",
   "execution_count": 17,
   "metadata": {
    "collapsed": false,
    "deletable": true,
    "editable": true
   },
   "outputs": [
    {
     "name": "stdout",
     "output_type": "stream",
     "text": [
      "Tests Passed\n"
     ]
    }
   ],
   "source": [
    "def build_rnn(cell, inputs):\n",
    "    \"\"\"\n",
    "    Create a RNN using a RNN Cell\n",
    "    :param cell: RNN Cell\n",
    "    :param inputs: Input text data\n",
    "    :return: Tuple (Outputs, Final State)\n",
    "    \"\"\"\n",
    "    #print(inputs)\n",
    "    \n",
    "    outputs, final_state = tf.nn.dynamic_rnn(cell, inputs,\n",
    "                                             dtype = tf.float32\n",
    "                                             #initial_state=initial_state\n",
    "                                            )\n",
    "    \n",
    "    final_state = tf.identity(final_state,'final_state')\n",
    "    #print(final_state)\n",
    "    #print(outputs)\n",
    "    return outputs, final_state\n",
    "\n",
    "\n",
    "\"\"\"\n",
    "DON'T MODIFY ANYTHING IN THIS CELL THAT IS BELOW THIS LINE\n",
    "\"\"\"\n",
    "tests.test_build_rnn(build_rnn)"
   ]
  },
  {
   "cell_type": "markdown",
   "metadata": {
    "deletable": true,
    "editable": true
   },
   "source": [
    "### Build the Neural Network\n",
    "Apply the functions you implemented above to:\n",
    "- Apply embedding to `input_data` using your `get_embed(input_data, vocab_size, embed_dim)` function.\n",
    "- Build RNN using `cell` and your `build_rnn(cell, inputs)` function.\n",
    "- Apply a fully connected layer with a linear activation and `vocab_size` as the number of outputs.\n",
    "\n",
    "Return the logits and final state in the following tuple (Logits, FinalState) "
   ]
  },
  {
   "cell_type": "code",
   "execution_count": 18,
   "metadata": {
    "collapsed": false,
    "deletable": true,
    "editable": true
   },
   "outputs": [
    {
     "name": "stdout",
     "output_type": "stream",
     "text": [
      "Tests Passed\n"
     ]
    }
   ],
   "source": [
    "def build_nn(cell, rnn_size, input_data, vocab_size):\n",
    "    \"\"\"\n",
    "    Build part of the neural network\n",
    "    :param cell: RNN cell\n",
    "    :param rnn_size: Size of rnns\n",
    "    :param input_data: Input data\n",
    "    :param vocab_size: Vocabulary size\n",
    "    :return: Tuple (Logits, FinalState)\n",
    "    \"\"\"\n",
    "    \n",
    "    embed = get_embed(input_data, vocab_size, rnn_size)\n",
    "    outputs, final_state = build_rnn(cell, embed)\n",
    "\n",
    "    logits = tf.contrib.layers.fully_connected(\n",
    "        outputs, \n",
    "        num_outputs=vocab_size,\n",
    "        activation_fn=None,\n",
    "        weights_initializer=tf.truncated_normal_initializer(stddev=0.01)\n",
    "        )\n",
    "\n",
    "    return logits, final_state\n",
    "\n",
    "\n",
    "\"\"\"\n",
    "DON'T MODIFY ANYTHING IN THIS CELL THAT IS BELOW THIS LINE\n",
    "\"\"\"\n",
    "tests.test_build_nn(build_nn)"
   ]
  },
  {
   "cell_type": "markdown",
   "metadata": {
    "deletable": true,
    "editable": true
   },
   "source": [
    "### Batches\n",
    "Implement `get_batches` to create batches of input and targets using `int_text`.  The batches should be a Numpy array with the shape `(number of batches, 2, batch size, sequence length)`. Each batch contains two elements:\n",
    "- The first element is a single batch of **input** with the shape `[batch size, sequence length]`\n",
    "- The second element is a single batch of **targets** with the shape `[batch size, sequence length]`\n",
    "\n",
    "If you can't fill the last batch with enough data, drop the last batch.\n",
    "\n",
    "For exmple, `get_batches([1, 2, 3, 4, 5, 6, 7, 8, 9, 10, 11, 12, 13, 14, 15], 2, 3)` would return a Numpy array of the following:\n",
    "```\n",
    "[\n",
    "  # First Batch\n",
    "  [\n",
    "    # Batch of Input\n",
    "    [[ 1  2  3], [ 7  8  9]],\n",
    "    # Batch of targets\n",
    "    [[ 2  3  4], [ 8  9 10]]\n",
    "  ],\n",
    " \n",
    "  # Second Batch\n",
    "  [\n",
    "    # Batch of Input\n",
    "    [[ 4  5  6], [10 11 12]],\n",
    "    # Batch of targets\n",
    "    [[ 5  6  7], [11 12 13]]\n",
    "  ]\n",
    "]\n",
    "```"
   ]
  },
  {
   "cell_type": "code",
   "execution_count": 19,
   "metadata": {
    "collapsed": false,
    "deletable": true,
    "editable": true
   },
   "outputs": [
    {
     "name": "stdout",
     "output_type": "stream",
     "text": [
      "Tests Passed\n"
     ]
    }
   ],
   "source": [
    "import random\n",
    "\n",
    "batch_distance_override = None\n",
    "\n",
    "def get_batches(int_text, batch_size, seq_length, batch_distance = None):\n",
    "    \"\"\"\n",
    "    Return batches of input and target\n",
    "    :param int_text: Text with the words replaced by their ids\n",
    "    :param batch_size: The size of batch\n",
    "    :param seq_length: The length of sequence\n",
    "    :return: Batches as a Numpy array\n",
    "    \"\"\"\n",
    "    x = int_text[:-1]\n",
    "    y = int_text[1:]\n",
    "    \n",
    "    #print('{} : {}'.format('seq_length',seq_length))\n",
    "    single_batch_len = len(x)-seq_length\n",
    "    #print('{} : {}'.format('single_batch_len',single_batch_len))\n",
    "    single_batch = np.empty([2,single_batch_len,seq_length])\n",
    "    \n",
    "    single_batch_range = list(range(single_batch_len))\n",
    "    \n",
    "    #random.shuffle(single_batch_range)\n",
    "    #print(batch_range)\n",
    "    \n",
    "    ii2 = 0\n",
    "    for ii in single_batch_range:\n",
    "        single_batch [0,ii2] = x[ii:ii+seq_length]\n",
    "        single_batch [1,ii2] = y[ii:ii+seq_length]\n",
    "        ii2 += 1\n",
    "    \n",
    "    \n",
    "    #################################################################################################################\n",
    "    #\n",
    "    #\n",
    "    #  Question 1: why are the labels same length sequences of words not just the one word ?\n",
    "    #\n",
    "    #  Question 2: would it be better to set batch_distance to a smaller value ?\n",
    "    #\n",
    "    #\n",
    "    #################################################################################################################\n",
    "\n",
    "    if batch_distance == None:\n",
    "        batch_distance = seq_length # would be 1 better?\n",
    "        \n",
    "    if batch_distance_override != None:\n",
    "        batch_distance = batch_distance_override\n",
    "        \n",
    "    n_batches = single_batch_len//batch_size//batch_distance\n",
    "    result = np.empty([n_batches,2,batch_size,seq_length])\n",
    "\n",
    "    #print('{} : {}'.format('batch_size',batch_size))\n",
    "    #print('{} : {}'.format('n_batches',n_batches))\n",
    "    \n",
    "    batch_range = (list(range(n_batches)))\n",
    "    \n",
    "    for ii in range(n_batches): #range(0, len(x), batch_size):\n",
    "        iii = ii * batch_size * batch_distance\n",
    "        result[ii] = single_batch[:,iii:iii+batch_size]\n",
    "\n",
    "    return result\n",
    "\n",
    "\n",
    "\"\"\"\n",
    "DON'T MODIFY ANYTHING IN THIS CELL THAT IS BELOW THIS LINE\n",
    "\"\"\"\n",
    "tests.test_get_batches(get_batches)"
   ]
  },
  {
   "cell_type": "markdown",
   "metadata": {
    "deletable": true,
    "editable": true
   },
   "source": [
    "## Neural Network Training\n",
    "### Hyperparameters\n",
    "Tune the following parameters:\n",
    "\n",
    "- Set `num_epochs` to the number of epochs.\n",
    "- Set `batch_size` to the batch size.\n",
    "- Set `rnn_size` to the size of the RNNs.\n",
    "- Set `seq_length` to the length of sequence.\n",
    "- Set `learning_rate` to the learning rate.\n",
    "- Set `show_every_n_batches` to the number of batches the neural network should print progress."
   ]
  },
  {
   "cell_type": "code",
   "execution_count": 20,
   "metadata": {
    "collapsed": true,
    "deletable": true,
    "editable": true
   },
   "outputs": [],
   "source": [
    "###### Number of Epochs\n",
    "num_epochs = 2**11\n",
    "# Batch Size\n",
    "batch_size = 127*2**2 # Primfaktoren von 69088: 2, 2, 2, 2, 2, 17, 127\n",
    "# RNN Size\n",
    "rnn_size = 256\n",
    "# Sequence Length\n",
    "seq_length = 10\n",
    "# Learning Rate\n",
    "learning_rate = 0.001\n",
    "# Show stats for every n number of batches\n",
    "show_every_n_batches = 130 * 5\n",
    "# override batch_distance\n",
    "batch_distance_override =  seq_length\n",
    "\n",
    "\n",
    "\"\"\"\n",
    "DON'T MODIFY ANYTHING IN THIS CELL THAT IS BELOW THIS LINE\n",
    "\"\"\"\n",
    "save_dir = './save'"
   ]
  },
  {
   "cell_type": "markdown",
   "metadata": {
    "deletable": true,
    "editable": true
   },
   "source": [
    "### Build the Graph\n",
    "Build the graph using the neural network you implemented."
   ]
  },
  {
   "cell_type": "code",
   "execution_count": 21,
   "metadata": {
    "collapsed": false,
    "deletable": true,
    "editable": true
   },
   "outputs": [],
   "source": [
    "\"\"\"\n",
    "DON'T MODIFY ANYTHING IN THIS CELL\n",
    "\"\"\"\n",
    "from tensorflow.contrib import seq2seq\n",
    "\n",
    "train_graph = tf.Graph()\n",
    "with train_graph.as_default():\n",
    "    vocab_size = len(int_to_vocab)\n",
    "    input_text, targets, lr = get_inputs()\n",
    "    input_data_shape = tf.shape(input_text)\n",
    "    cell, initial_state = get_init_cell(input_data_shape[0], rnn_size)\n",
    "    logits, final_state = build_nn(cell, rnn_size, input_text, vocab_size)\n",
    "\n",
    "    # Probabilities for generating words\n",
    "    probs = tf.nn.softmax(logits, name='probs')\n",
    "\n",
    "    # Loss function\n",
    "    cost = seq2seq.sequence_loss(\n",
    "        logits,\n",
    "        targets,\n",
    "        tf.ones([input_data_shape[0], input_data_shape[1]]))\n",
    "\n",
    "    # Optimizer\n",
    "    optimizer = tf.train.AdamOptimizer(lr)\n",
    "\n",
    "    # Gradient Clipping\n",
    "    gradients = optimizer.compute_gradients(cost)\n",
    "    capped_gradients = [(tf.clip_by_value(grad, -1., 1.), var) for grad, var in gradients]\n",
    "    train_op = optimizer.apply_gradients(capped_gradients)"
   ]
  },
  {
   "cell_type": "markdown",
   "metadata": {
    "deletable": true,
    "editable": true
   },
   "source": [
    "## Train\n",
    "Train the neural network on the preprocessed data.  If you have a hard time getting a good loss, check the [forms](https://discussions.udacity.com/) to see if anyone is having the same problem."
   ]
  },
  {
   "cell_type": "code",
   "execution_count": null,
   "metadata": {
    "collapsed": false,
    "deletable": true,
    "editable": true
   },
   "outputs": [],
   "source": [
    "\"\"\"\n",
    "DON'T MODIFY ANYTHING IN THIS CELL\n",
    "\"\" \"\n",
    "\n",
    "batches = get_batches(int_text, batch_size, seq_length)\n",
    "\n",
    "with tf.Session(graph=train_graph) as sess:\n",
    "    sess.run(tf.global_variables_initializer())\n",
    "\n",
    "    for epoch_i in range(num_epochs):\n",
    "        state = sess.run(initial_state, {input_text: batches[0][0]})\n",
    "\n",
    "        for batch_i, (x, y) in enumerate(batches):\n",
    "            feed = {\n",
    "                input_text: x,\n",
    "                targets: y,\n",
    "                initial_state: state,\n",
    "                lr: learning_rate}\n",
    "            train_loss, state, _ = sess.run([cost, final_state, train_op], feed)\n",
    "\n",
    "            # Show every <show_every_n_batches> batches\n",
    "            if (epoch_i * len(batches) + batch_i) % show_every_n_batches == 0:\n",
    "                print('Epoch {:>3} Batch {:>4}/{}   train_loss = {:.3f}'.format(\n",
    "                    epoch_i,\n",
    "                    batch_i,\n",
    "                    len(batches),\n",
    "                    train_loss))\n",
    "\n",
    "    # Save Model\n",
    "    saver = tf.train.Saver()\n",
    "    saver.save(sess, save_dir)\n",
    "    print('Model Trained and Saved')\n",
    "        \n",
    "\"\"\";"
   ]
  },
  {
   "cell_type": "code",
   "execution_count": null,
   "metadata": {
    "collapsed": false,
    "deletable": true,
    "editable": true
   },
   "outputs": [
    {
     "name": "stdout",
     "output_type": "stream",
     "text": [
      "Initialised Model...\n",
      "Epoch   0 Batch    0/13   train_loss = 8.822\n",
      "Epoch  50 Batch    0/13   train_loss = 4.483\n",
      "Epoch 100 Batch    0/13   train_loss = 3.173\n",
      "Epoch 150 Batch    0/13   train_loss = 2.203\n",
      "Epoch 200 Batch    0/13   train_loss = 1.589\n",
      "Epoch 250 Batch    0/13   train_loss = 1.173\n",
      "Epoch 300 Batch    0/13   train_loss = 0.883\n",
      "Epoch 350 Batch    0/13   train_loss = 0.688\n",
      "Epoch 400 Batch    0/13   train_loss = 0.562\n",
      "Epoch 450 Batch    0/13   train_loss = 0.476\n",
      "Epoch 500 Batch    0/13   train_loss = 0.423\n",
      "Epoch 550 Batch    0/13   train_loss = 0.389\n",
      "Epoch 600 Batch    0/13   train_loss = 0.369\n",
      "Epoch 650 Batch    0/13   train_loss = 0.358\n",
      "Epoch 700 Batch    0/13   train_loss = 0.351\n",
      "Epoch 750 Batch    0/13   train_loss = 0.347\n",
      "Epoch 800 Batch    0/13   train_loss = 0.344\n",
      "Epoch 850 Batch    0/13   train_loss = 0.342\n",
      "Epoch 900 Batch    0/13   train_loss = 0.341\n",
      "Epoch 950 Batch    0/13   train_loss = 0.339\n",
      "Epoch 1000 Batch    0/13   train_loss = 0.339\n",
      "Epoch 1050 Batch    0/13   train_loss = 0.338\n",
      "Epoch 1100 Batch    0/13   train_loss = 0.337\n",
      "Epoch 1150 Batch    0/13   train_loss = 0.337\n",
      "Epoch 1200 Batch    0/13   train_loss = 0.336\n",
      "Epoch 1250 Batch    0/13   train_loss = 0.336\n",
      "Epoch 1300 Batch    0/13   train_loss = 0.336\n",
      "Epoch 1350 Batch    0/13   train_loss = 0.336\n",
      "Epoch 1400 Batch    0/13   train_loss = 0.335\n",
      "Epoch 1450 Batch    0/13   train_loss = 0.335\n",
      "Epoch 1500 Batch    0/13   train_loss = 0.335\n",
      "Epoch 1550 Batch    0/13   train_loss = 0.335\n",
      "Epoch 1600 Batch    0/13   train_loss = 0.334\n",
      "Epoch 1650 Batch    0/13   train_loss = 0.334\n",
      "Epoch 1700 Batch    0/13   train_loss = 0.334\n",
      "Epoch 1750 Batch    0/13   train_loss = 0.334\n",
      "Epoch 1800 Batch    0/13   train_loss = 0.334\n",
      "Epoch 1850 Batch    0/13   train_loss = 0.334\n",
      "Epoch 1900 Batch    0/13   train_loss = 0.334\n",
      "Epoch 1950 Batch    0/13   train_loss = 0.334\n",
      "Epoch 2047 Batch   12/13   train_loss = 0.342\n",
      "Model Trained and Saved\n"
     ]
    },
    {
     "data": {
      "image/png": "[encoded data removed]",
      "text/plain": [
       "<matplotlib.figure.Figure at 0x7f3e154f8940>"
      ]
     },
     "metadata": {},
     "output_type": "display_data"
    }
   ],
   "source": [
    "# added cyclic save and restore to interrupt training\n",
    "\n",
    "# moved (rerandomised) batch generation in epoch loop\n",
    " \n",
    "import matplotlib.pyplot as plt\n",
    "import time\n",
    "\n",
    "#batches = get_batches(int_text, batch_size, seq_length)\n",
    "\n",
    "with tf.Session(graph=train_graph) as sess:\n",
    "    \n",
    "    try:\n",
    "        #assert() #\n",
    "        saver.restore(sess, save_dir)\n",
    "        print('Model Restored :)')\n",
    "        with open('train_loss_history.p','rb') as file:\n",
    "            train_loss_history = pickle.load(file)\n",
    "        print('Loss_history Restored :)')\n",
    "    except:\n",
    "        train_loss_history = []\n",
    "        sess.run(tf.global_variables_initializer())\n",
    "        print('Initialised Model...')\n",
    "\n",
    "    for epoch_i in range(num_epochs):\n",
    "        \n",
    "        # rerandomise batches\n",
    "        batches = get_batches(int_text, batch_size, seq_length)\n",
    "\n",
    "        state = sess.run(initial_state, {input_text: batches[0][0]})\n",
    "    \n",
    "        start = time.time()\n",
    "        for batch_i, (x, y) in enumerate(batches):\n",
    "            feed = {\n",
    "                input_text: x,\n",
    "                targets: y,\n",
    "                initial_state: state,\n",
    "                lr: learning_rate}\n",
    "            train_loss, state, _ = sess.run([cost, final_state, train_op], feed)\n",
    "            \n",
    "            train_loss_history += [train_loss]\n",
    "\n",
    "            # Show every <show_every_n_batches> batches\n",
    "            if (epoch_i * len(batches) + batch_i) % show_every_n_batches == 0:\n",
    "                print('Epoch {:>3} Batch {:>4}/{}   train_loss = {:.3f}'.format(\n",
    "                    epoch_i,\n",
    "                    batch_i,\n",
    "                    len(batches),\n",
    "                    train_loss))\n",
    "                \n",
    "            if(train_loss<0.1):\n",
    "                break\n",
    "        if(train_loss<0.1):\n",
    "            break\n",
    "                \n",
    "                \n",
    "    #print('computation time : {}'.format(time.time() - start))\n",
    "    print('Epoch {:>3} Batch {:>4}/{}   train_loss = {:.3f}'.format(\n",
    "        epoch_i,\n",
    "        batch_i,\n",
    "        len(batches),\n",
    "        train_loss))\n",
    "    # Save Model\n",
    "    saver = tf.train.Saver()\n",
    "    saver.save(sess, save_dir)\n",
    "    pickle.dump((train_loss_history), open('train_loss_history.p', 'wb'))\n",
    "    print('Model Trained and Saved')\n",
    "    plt.plot(train_loss_history)\n",
    "    plt.show()"
   ]
  },
  {
   "cell_type": "markdown",
   "metadata": {
    "deletable": true,
    "editable": true
   },
   "source": [
    "## Save Parameters\n",
    "Save `seq_length` and `save_dir` for generating a new TV script."
   ]
  },
  {
   "cell_type": "code",
   "execution_count": null,
   "metadata": {
    "collapsed": false,
    "deletable": true,
    "editable": true
   },
   "outputs": [],
   "source": [
    "\"\"\"\n",
    "DON'T MODIFY ANYTHING IN THIS CELL\n",
    "\"\"\"\n",
    "# Save parameters for checkpoint\n",
    "helper.save_params((seq_length, save_dir))"
   ]
  },
  {
   "cell_type": "markdown",
   "metadata": {
    "deletable": true,
    "editable": true
   },
   "source": [
    "# Checkpoint"
   ]
  },
  {
   "cell_type": "code",
   "execution_count": null,
   "metadata": {
    "collapsed": false,
    "deletable": true,
    "editable": true
   },
   "outputs": [],
   "source": [
    "\"\"\"\n",
    "DON'T MODIFY ANYTHING IN THIS CELL\n",
    "\"\"\"\n",
    "import tensorflow as tf\n",
    "import numpy as np\n",
    "import helper\n",
    "import problem_unittests as tests\n",
    "\n",
    "_, vocab_to_int, int_to_vocab, token_dict = helper.load_preprocess()\n",
    "seq_length, load_dir = helper.load_params()"
   ]
  },
  {
   "cell_type": "markdown",
   "metadata": {
    "deletable": true,
    "editable": true
   },
   "source": [
    "## Implement Generate Functions\n",
    "### Get Tensors\n",
    "Get tensors from `loaded_graph` using the function [`get_tensor_by_name()`](https://www.tensorflow.org/api_docs/python/tf/Graph#get_tensor_by_name).  Get the tensors using the following names:\n",
    "- \"input:0\"\n",
    "- \"initial_state:0\"\n",
    "- \"final_state:0\"\n",
    "- \"probs:0\"\n",
    "\n",
    "Return the tensors in the following tuple `(InputTensor, InitialStateTensor, FinalStateTensor, ProbsTensor)` "
   ]
  },
  {
   "cell_type": "code",
   "execution_count": null,
   "metadata": {
    "collapsed": false,
    "deletable": true,
    "editable": true
   },
   "outputs": [
    {
     "name": "stdout",
     "output_type": "stream",
     "text": [
      "Tests Passed\n"
     ]
    }
   ],
   "source": [
    "def get_tensors(loaded_graph):\n",
    "    \"\"\"\n",
    "    Get input, initial state, final state, and probabilities tensor from <loaded_graph>\n",
    "    :param loaded_graph: TensorFlow graph loaded from file\n",
    "    :return: Tuple (InputTensor, InitialStateTensor, FinalStateTensor, ProbsTensor)\n",
    "    \"\"\"\n",
    "    InputTensor        = loaded_graph.get_tensor_by_name(\"input:0\")\n",
    "    InitialStateTensor = loaded_graph.get_tensor_by_name(\"initial_state:0\")\n",
    "    FinalStateTensor   = loaded_graph.get_tensor_by_name(\"final_state:0\")\n",
    "    ProbsTensor        = loaded_graph.get_tensor_by_name(\"probs:0\")\n",
    "    return InputTensor, InitialStateTensor, FinalStateTensor, ProbsTensor\n",
    "\n",
    "\n",
    "\"\"\"\n",
    "DON'T MODIFY ANYTHING IN THIS CELL THAT IS BELOW THIS LINE\n",
    "\"\"\"\n",
    "tests.test_get_tensors(get_tensors)"
   ]
  },
  {
   "cell_type": "markdown",
   "metadata": {
    "deletable": true,
    "editable": true
   },
   "source": [
    "### Choose Word\n",
    "Implement the `pick_word()` function to select the next word using `probabilities`."
   ]
  },
  {
   "cell_type": "code",
   "execution_count": null,
   "metadata": {
    "collapsed": false,
    "deletable": true,
    "editable": true
   },
   "outputs": [
    {
     "name": "stdout",
     "output_type": "stream",
     "text": [
      "Tests Passed\n"
     ]
    }
   ],
   "source": [
    "def pick_word(probabilities, int_to_vocab):\n",
    "    \"\"\"\n",
    "    Pick the next word in the generated text\n",
    "    :param probabilities: Probabilites of the next word\n",
    "    :param int_to_vocab: Dictionary of word ids as the keys and words as the values\n",
    "    :return: String of the predicted word\n",
    "    \"\"\"\n",
    "    \n",
    "    p2 = sorted(list(zip(list(probabilities),range(len(probabilities)))))\n",
    "\n",
    "    # ideas : randomise by threshold, memorise last picks to control repetition, ad theme dict, alliteration\n",
    "\n",
    "    return int_to_vocab[p2[-1][-1]]\n",
    "\n",
    "\n",
    "\"\"\"\n",
    "DON'T MODIFY ANYTHING IN THIS CELL THAT IS BELOW THIS LINE\n",
    "\"\"\"\n",
    "tests.test_pick_word(pick_word)"
   ]
  },
  {
   "cell_type": "markdown",
   "metadata": {
    "deletable": true,
    "editable": true
   },
   "source": [
    "## Generate TV Script\n",
    "This will generate the TV script for you.  Set `gen_length` to the length of TV script you want to generate."
   ]
  },
  {
   "cell_type": "code",
   "execution_count": null,
   "metadata": {
    "collapsed": false,
    "deletable": true,
    "editable": true
   },
   "outputs": [],
   "source": [
    "gen_length = 1000\n",
    "# homer_simpson, moe_szyslak, or Barney_Gumble\n",
    "prime_word = 'homer_simpson'\n",
    "\n",
    "\"\"\"\n",
    "DON'T MODIFY ANYTHING IN THIS CELL THAT IS BELOW THIS LINE\n",
    "\"\"\"\n",
    "loaded_graph = tf.Graph()\n",
    "with tf.Session(graph=loaded_graph) as sess:\n",
    "    # Load saved model\n",
    "    loader = tf.train.import_meta_graph(load_dir + '.meta')\n",
    "    loader.restore(sess, load_dir)\n",
    "\n",
    "    # Get Tensors from loaded model\n",
    "    input_text, initial_state, final_state, probs = get_tensors(loaded_graph)\n",
    "\n",
    "    # Sentences generation setup\n",
    "    gen_sentences = [prime_word + ':']\n",
    "    prev_state = sess.run(initial_state, {input_text: np.array([[1]])})\n",
    "\n",
    "    # Generate sentences\n",
    "    for n in range(gen_length):\n",
    "        # Dynamic Input\n",
    "        dyn_input = [[vocab_to_int[word] for word in gen_sentences[-seq_length:]]]\n",
    "        dyn_seq_length = len(dyn_input[0])\n",
    "\n",
    "        # Get Prediction\n",
    "        probabilities, prev_state = sess.run(\n",
    "            [probs, final_state],\n",
    "            {input_text: dyn_input, initial_state: prev_state})\n",
    "        \n",
    "        pred_word = pick_word(probabilities[dyn_seq_length-1], int_to_vocab)\n",
    "\n",
    "        gen_sentences.append(pred_word)\n",
    "    \n",
    "    # Remove tokens\n",
    "    tv_script = ' '.join(gen_sentences)\n",
    "    for key, token in token_dict.items():\n",
    "        ending = ' ' if key in ['\\n', '(', '\"'] else ''\n",
    "        tv_script = tv_script.replace(' ' + token.lower(), key)\n",
    "    tv_script = tv_script.replace('\\n ', '\\n')\n",
    "    tv_script = tv_script.replace('( ', '(')\n",
    "        \n",
    "    print(tv_script)"
   ]
  },
  {
   "cell_type": "markdown",
   "metadata": {
    "deletable": true,
    "editable": true
   },
   "source": [
    "# The TV Script is Nonsensical\n",
    "It's ok if the TV script doesn't make any sense.  We trained on less than a megabyte of text.  In order to get good results, you'll have to use a smaller vocabulary or get more data.  Luckly there's more data!  As we mentioned in the begging of this project, this is a subset of [another dataset](https://www.kaggle.com/wcukierski/the-simpsons-by-the-data).  We didn't have you train on all the data, because that would take too long.  However, you are free to train your neural network on all the data.  After you complete the project, of course.\n",
    "# Submitting This Project\n",
    "When submitting this project, make sure to run all the cells before saving the notebook. Save the notebook file as \"dlnd_tv_script_generation.ipynb\" and save it as a HTML file under \"File\" -> \"Download as\". Include the \"helper.py\" and \"problem_unittests.py\" files in your submission."
   ]
  }
 ],
 "metadata": {
  "kernelspec": {
   "display_name": "Python 3",
   "language": "python",
   "name": "python3"
  },
  "language_info": {
   "codemirror_mode": {
    "name": "ipython",
    "version": 3
   },
   "file_extension": ".py",
   "mimetype": "text/x-python",
   "name": "python",
   "nbconvert_exporter": "python",
   "pygments_lexer": "ipython3",
   "version": "3.5.3"
  }
 },
 "nbformat": 4,
 "nbformat_minor": 0
}
