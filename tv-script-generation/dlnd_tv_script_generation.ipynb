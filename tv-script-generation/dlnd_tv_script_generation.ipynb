{
 "cells": [
  {
   "cell_type": "markdown",
   "metadata": {
    "deletable": true,
    "editable": true
   },
   "source": [
    "# TV Script Generation\n",
    "In this project, you'll generate your own [Simpsons](https://en.wikipedia.org/wiki/The_Simpsons) TV scripts using RNNs.  You'll be using part of the [Simpsons dataset](https://www.kaggle.com/wcukierski/the-simpsons-by-the-data) of scripts from 27 seasons.  The Neural Network you'll build will generate a new TV script for a scene at [Moe's Tavern](https://simpsonswiki.com/wiki/Moe's_Tavern).\n",
    "## Get the Data\n",
    "The data is already provided for you.  You'll be using a subset of the original dataset.  It consists of only the scenes in Moe's Tavern.  This doesn't include other versions of the tavern, like \"Moe's Cavern\", \"Flaming Moe's\", \"Uncle Moe's Family Feed-Bag\", etc.."
   ]
  },
  {
   "cell_type": "code",
   "execution_count": 1,
   "metadata": {
    "collapsed": false,
    "deletable": true,
    "editable": true
   },
   "outputs": [],
   "source": [
    "\"\"\"\n",
    "DON'T MODIFY ANYTHING IN THIS CELL\n",
    "\"\"\"\n",
    "import helper\n",
    "\n",
    "data_dir = './data/simpsons/moes_tavern_lines.txt'\n",
    "text = helper.load_data(data_dir)\n",
    "# Ignore notice, since we don't use it for analysing the data\n",
    "text = text[81:]"
   ]
  },
  {
   "cell_type": "markdown",
   "metadata": {
    "deletable": true,
    "editable": true
   },
   "source": [
    "## Explore the Data\n",
    "Play around with `view_sentence_range` to view different parts of the data."
   ]
  },
  {
   "cell_type": "code",
   "execution_count": 2,
   "metadata": {
    "collapsed": false,
    "deletable": true,
    "editable": true
   },
   "outputs": [
    {
     "name": "stdout",
     "output_type": "stream",
     "text": [
      "Dataset Stats\n",
      "Roughly the number of unique words: 11492\n",
      "Number of scenes: 262\n",
      "Average number of sentences in each scene: 15.248091603053435\n",
      "Number of lines: 4257\n",
      "Average number of words in each line: 11.50434578341555\n",
      "\n",
      "The sentences 0 to 10:\n",
      "Moe_Szyslak: (INTO PHONE) Moe's Tavern. Where the elite meet to drink.\n",
      "Bart_Simpson: Eh, yeah, hello, is Mike there? Last name, Rotch.\n",
      "Moe_Szyslak: (INTO PHONE) Hold on, I'll check. (TO BARFLIES) Mike Rotch. Mike Rotch. Hey, has anybody seen Mike Rotch, lately?\n",
      "Moe_Szyslak: (INTO PHONE) Listen you little puke. One of these days I'm gonna catch you, and I'm gonna carve my name on your back with an ice pick.\n",
      "Moe_Szyslak: What's the matter Homer? You're not your normal effervescent self.\n",
      "Homer_Simpson: I got my problems, Moe. Give me another one.\n",
      "Moe_Szyslak: Homer, hey, you should not drink to forget your problems.\n",
      "Barney_Gumble: Yeah, you should only drink to enhance your social skills.\n",
      "\n",
      "\n"
     ]
    }
   ],
   "source": [
    "view_sentence_range = (0, 10)\n",
    "\n",
    "\"\"\"\n",
    "DON'T MODIFY ANYTHING IN THIS CELL\n",
    "\"\"\"\n",
    "import numpy as np\n",
    "\n",
    "print('Dataset Stats')\n",
    "print('Roughly the number of unique words: {}'.format(len({word: None for word in text.split()})))\n",
    "scenes = text.split('\\n\\n')\n",
    "print('Number of scenes: {}'.format(len(scenes)))\n",
    "sentence_count_scene = [scene.count('\\n') for scene in scenes]\n",
    "print('Average number of sentences in each scene: {}'.format(np.average(sentence_count_scene)))\n",
    "\n",
    "sentences = [sentence for scene in scenes for sentence in scene.split('\\n')]\n",
    "print('Number of lines: {}'.format(len(sentences)))\n",
    "word_count_sentence = [len(sentence.split()) for sentence in sentences]\n",
    "print('Average number of words in each line: {}'.format(np.average(word_count_sentence)))\n",
    "\n",
    "print()\n",
    "print('The sentences {} to {}:'.format(*view_sentence_range))\n",
    "print('\\n'.join(text.split('\\n')[view_sentence_range[0]:view_sentence_range[1]]))"
   ]
  },
  {
   "cell_type": "markdown",
   "metadata": {
    "deletable": true,
    "editable": true
   },
   "source": [
    "## Implement Preprocessing Functions\n",
    "The first thing to do to any dataset is preprocessing.  Implement the following preprocessing functions below:\n",
    "- Lookup Table\n",
    "- Tokenize Punctuation\n",
    "\n",
    "### Lookup Table\n",
    "To create a word embedding, you first need to transform the words to ids.  In this function, create two dictionaries:\n",
    "- Dictionary to go from the words to an id, we'll call `vocab_to_int`\n",
    "- Dictionary to go from the id to word, we'll call `int_to_vocab`\n",
    "\n",
    "Return these dictionaries in the following tuple `(vocab_to_int, int_to_vocab)`"
   ]
  },
  {
   "cell_type": "code",
   "execution_count": 3,
   "metadata": {
    "collapsed": false,
    "deletable": true,
    "editable": true
   },
   "outputs": [],
   "source": [
    "import numpy as np\n",
    "import problem_unittests as tests\n",
    "import re\n",
    "\n",
    "def create_lookup_tables(text):\n",
    "    \"\"\"\n",
    "    Create lookup tables for vocabulary\n",
    "    :param text: The text of tv scripts split into words\n",
    "    :return: A tuple of dicts (vocab_to_int, int_to_vocab)\n",
    "    \"\"\"\n",
    "\n",
    "    #text = ''.join([c.lower()+' ' for c in text])\n",
    "    #text_for_lookup  = sorted(list(set(re.split('(\\W)+', text))))\n",
    "    #marks_for_lookup = sorted(list(set(re.split('(\\w)+', text))))\n",
    "    #text_for_lookup  = sorted(list(set(text_for_lookup + (marks_for_lookup))))\n",
    "    #test = re.split(' ', text)\n",
    "    text_for_lookup = sorted(list(set(text)))\n",
    "\n",
    "    int_to_vocab = dict((i, c) for i, c in enumerate(text_for_lookup))\n",
    "    vocab_to_int = dict((c, i) for i, c in enumerate(text_for_lookup))\n",
    "\n",
    "    return vocab_to_int, int_to_vocab"
   ]
  },
  {
   "cell_type": "code",
   "execution_count": 4,
   "metadata": {
    "collapsed": false,
    "deletable": true,
    "editable": true
   },
   "outputs": [
    {
     "name": "stdout",
     "output_type": "stream",
     "text": [
      "Tests Passed\n"
     ]
    }
   ],
   "source": [
    "\"\"\"\n",
    "DON'T MODIFY ANYTHING IN THIS CELL THAT IS BELOW THIS LINE\n",
    "\"\"\"\n",
    "tests.test_create_lookup_tables(create_lookup_tables)"
   ]
  },
  {
   "cell_type": "markdown",
   "metadata": {
    "deletable": true,
    "editable": true
   },
   "source": [
    "### Tokenize Punctuation\n",
    "We'll be splitting the script into a word array using spaces as delimiters.  However, punctuations like periods and exclamation marks make it hard for the neural network to distinguish between the word \"bye\" and \"bye!\".\n",
    "\n",
    "Implement the function `token_lookup` to return a dict that will be used to tokenize symbols like \"!\" into \"__Exclamation_Mark__\".  Create a dictionary for the following symbols where the symbol is the key and value is the token:\n",
    "- Period ( . )\n",
    "- Comma ( , )\n",
    "- Quotation Mark ( \" )\n",
    "- Semicolon ( ; )\n",
    "- Exclamation mark ( ! )\n",
    "- Question mark ( ? )\n",
    "- Left Parentheses ( ( )\n",
    "- Right Parentheses ( ) )\n",
    "- Dash ( -- )\n",
    "- Return ( \\n )\n",
    "\n",
    "This dictionary will be used to token the symbols and add the delimiter (space) around it.  This separates the symbols as it's own word, making it easier for the neural network to predict on the next word. Make sure you don't use a token that could be confused as a word. Instead of using the token \"dash\", try using something like \"__dash__\"."
   ]
  },
  {
   "cell_type": "code",
   "execution_count": 5,
   "metadata": {
    "collapsed": false,
    "deletable": true,
    "editable": true
   },
   "outputs": [
    {
     "data": {
      "text/plain": [
       "{'\\n': '__return__',\n",
       " '!': '__exclamation_mark__',\n",
       " '\"': '__quotation_Mark__',\n",
       " '(': '__left_Parentheses__',\n",
       " ')': '__right_Parentheses__',\n",
       " ',': '__comma__',\n",
       " '--': '__dash__',\n",
       " '.': '__period__',\n",
       " ';': '__semicolon__',\n",
       " '?': '__question_mark__'}"
      ]
     },
     "execution_count": 5,
     "metadata": {},
     "output_type": "execute_result"
    }
   ],
   "source": [
    "def token_lookup():\n",
    "    \"\"\"\n",
    "    Generate a dict to turn punctuation into a token.\n",
    "    :return: Tokenize dictionary where the key is the punctuation and the value is the token\n",
    "    \"\"\"\n",
    "    symbols = (['.', ',', '\"', ';', '!', '?', '(', ')', '--', '\\n'#, ':', '\\'', '#', '/', '%'\n",
    "               ])\n",
    "    \n",
    "    symbol_desc = ([\n",
    "        '__period__',\n",
    "        '__comma__',\n",
    "        '__quotation_Mark__',\n",
    "        '__semicolon__',\n",
    "        '__exclamation_mark__',\n",
    "        '__question_mark__',\n",
    "        '__left_Parentheses__',\n",
    "        '__right_Parentheses__',\n",
    "        '__dash__',\n",
    "        '__return__',\n",
    "        #'__double_point__', ## missing in description\n",
    "        #'__quote__',        ## missing in description\n",
    "        #'__hash__',         ## missing in description\n",
    "        #'__slash__',        ## missing in description\n",
    "        #'__procent__',      ## missing in description\n",
    "        ])\n",
    "    \n",
    "    return dict(zip(symbols,symbol_desc))\n",
    "\n",
    "token_lookup()\n"
   ]
  },
  {
   "cell_type": "code",
   "execution_count": 6,
   "metadata": {
    "collapsed": false,
    "deletable": true,
    "editable": true
   },
   "outputs": [
    {
     "name": "stdout",
     "output_type": "stream",
     "text": [
      "Tests Passed\n"
     ]
    }
   ],
   "source": [
    "\"\"\"\n",
    "DON'T MODIFY ANYTHING IN THIS CELL THAT IS BELOW THIS LINE\n",
    "\"\"\"\n",
    "tests.test_tokenize(token_lookup)"
   ]
  },
  {
   "cell_type": "markdown",
   "metadata": {
    "deletable": true,
    "editable": true
   },
   "source": [
    "## Preprocess all the data and save it\n",
    "Running the code cell below will preprocess all the data and save it to file."
   ]
  },
  {
   "cell_type": "code",
   "execution_count": 7,
   "metadata": {
    "collapsed": false,
    "deletable": true,
    "editable": true
   },
   "outputs": [
    {
     "name": "stdout",
     "output_type": "stream",
     "text": [
      "{'locklear': 3493, 'predictable': 4533, 'scream': 5094, 'find': 2169, 'settles': 5177, 'liven': 3472, 'ziffcorp': 6774, 'jar': 3124, 'payback': 4308, 'browns': 809, \"b-52's:\": 427, 'chauffeur:': 1048, 'cocking': 1190, 'spoon': 5565, 'restroom': 4870, 'frenchman': 2324, 'crapmore': 1379, \"didn't\": 1609, \"depressin'\": 1573, 'cleaned': 1146, 'seven': 5178, 'times': 6064, 'harvesting': 2688, 'entire': 1948, 'peter_buck:': 4356, 'music': 3923, 'diet': 1614, 'absolut': 90, 'runaway': 4978, 'frescas': 2325, 'carl': 952, 'walk': 6410, 'occasional': 4109, 'phlegm': 4366, 'doy': 1731, \"patrick's\": 4294, 'thousand': 6031, 'wolverines': 6635, 'tv_wife:': 6220, 'bridge': 777, 'tick': 6050, 'menace': 3724, 'headhunters': 2714, 'baseball': 506, 'laughter': 3347, 'reaction': 4751, 'shuts': 5272, 'incriminating': 2988, 'nauseous': 3967, 'rims': 4902, 'lemme': 3381, 'catholic': 980, 'continuing': 1302, 'diaper': 1602, 'horrible': 2864, 'twin': 6233, 'gesture': 2441, 'mole': 3835, 'against': 163, 'food': 2257, 'eyesore': 2046, 'genuinely': 2434, 'gore': 2517, 'shades': 5187, 'vulgar': 6392, 'self-esteem': 5141, 'meals': 3693, \"he's\": 2711, 'butt': 871, 'shut': 5271, 'other': 4194, 'wheeeee': 6528, '7g': 48, \"wouldn't\": 6680, 'alma': 226, 'massachusetts': 3664, 'hampstead-on-cecil-cecil': 2644, 'ha': 2619, 'all:': 219, 'wittgenstein': 6626, 'scornful': 5086, 'clenched': 1155, 'bottle': 716, 'crowbar': 1411, 'doll-baby': 1697, 'ghouls': 2453, 'exciting': 2004, 'single': 5315, 'sugar': 5760, 'difficult': 1618, 'yak': 6715, 'fbi': 2107, 'whoopi': 6564, 'monorails': 3846, 'shutup': 5274, 'soaps': 5452, 'easter': 1837, 'combines': 1220, 'head-gunk': 2713, \"y'money's\": 6710, 'cat': 975, 'actress': 119, 'corkscrew': 1320, 'robbers': 4918, 'appalled': 309, 'stories': 5700, 'cap': 931, 'phrase': 4373, 'hero-phobia': 2767, 'highway': 2786, 'insured': 3042, 'painted': 4243, 'sketching': 5347, 'tester': 5952, 'ducked': 1788, 'nine': 4032, 'you-need-man': 6752, 'cheaper': 1051, 'checking': 1056, 'up': 6309, 'specified': 5532, 'kitchen': 3267, 'legend': 3377, 'indeedy': 2991, 'ordered': 4185, 'jay': 3126, 'blaze': 642, 'patting': 4302, 'what-for': 6521, 'high': 2780, 'worked': 6662, \"c'mere\": 889, 'gasp': 2410, 'r': 4693, 'minister': 3779, 'chin': 1086, 'excuses': 2007, 'chairman': 1014, 'kids': 3241, 'cookies': 1313, 'plywood': 4457, 'price': 4566, 'super-genius': 5776, 'garbage': 2402, 'charges': 1037, 'inserts': 3025, 'angry': 274, 'coined': 1202, 'thrown': 6044, 'question': 4680, 'victim': 6362, 'far': 2086, 'underbridge': 6270, 'thing': 5998, 'upsetting': 6317, 'dads': 1461, 'composite': 1257, 'slit': 5378, 'playful': 4437, 'lifters': 3424, 'biggest': 613, 'polls': 4486, 'reluctantly': 4821, 'tipsy': 6071, 'waste': 6447, 'smugglers': 5417, 'lone': 3498, 'clapping': 1142, 'water': 6455, 'dreams': 1748, 'nonchalant': 4052, 'gruff': 2584, 'enlightened': 1939, 'courteous': 1355, 'entertainer': 1944, 'wants': 6428, \"summer's\": 5769, 'considering': 1286, 'frontrunner': 2348, 'worth': 6676, 'professional': 4596, 'heard': 2722, 'roz': 4956, 'prove': 4623, 'captain': 936, 'poorer': 4492, 'stock': 5682, 'host': 2871, 'luckily': 3560, 'anti-intellectualism': 292, \"'im\": 11, 'unison': 6293, \"family's\": 2076, 'better': 601, 'owe': 4220, 'into': 3054, 'clear': 1150, 'stomach': 5686, 'easily': 1835, 'funniest': 2369, 'pause': 4305, 'casting': 972, 'tale': 5865, 'fastest': 2092, 'done': 1711, 'stripes': 5722, 'feminist': 2133, 'ahhh': 187, 'follow': 2249, 'spine': 5547, 'focus': 2242, 'haiti': 2632, 'murdered': 3913, 'good-looking': 2511, 'health': 2718, 'creme': 1393, 'bucks': 817, 'exploiter': 2027, 'dejected_barfly:': 1540, 'muscle': 3919, 'slogan': 5382, 'maxed': 3675, 'forever': 2274, 'idiot': 2950, 'watching': 6454, 'hellhole': 2749, 'trunk': 6191, 'corn': 1322, 'chanting': 1029, 'devastated': 1594, 'lurks': 3566, 'ironic': 3077, 'non-losers': 4051, 'department': 1567, 'kirk_van_houten:': 3259, 'ehhhhhhhhh': 1875, 'teenage': 5913, 'computer_voice_2:': 1261, 'case': 968, 'steel': 5654, 'way:': 6463, \"fans'll\": 2083, 'ad': 121, 'repeating': 4849, 'spits': 5554, 'consider': 1285, 'honest': 2843, 'too': 6109, 'marmaduke': 3652, 'peppy': 4332, 'nobody': 4044, 'aristotle:': 340, 'needs': 3985, 'heather': 2732, 'eh': 1871, 'great': 2552, 'tones': 6101, 'profiling': 4600, 'bull': 830, 'prepared': 4541, 'hemorrhage-amundo': 2759, 'wanna': 6424, 'cutest': 1449, 'spinning': 5548, 'lager': 3316, 'transmission': 6151, 'ha-ha': 2620, \"stinkin'\": 5676, 'jacques': 3112, 'unbelievably': 6264, 'polite': 4482, 'starve': 5629, 'bartholomé:': 505, 'gary_chalmers:': 2407, 'caused': 987, 'dint': 1633, 'sending': 5157, 'cricket': 1396, 'frink-y': 2341, 'signal': 5294, 'protesting': 4620, 'perfected': 4339, 'aisle': 197, 'weather': 6484, 'occupancy': 4110, 'run': 4977, 'barber': 479, 'triangle': 6170, 'century': 1003, 'passed': 4283, 'book_club_member:': 698, \"guy's\": 2615, 'butter': 872, 'hubub': 2896, 'mug': 3901, 'malfeasance': 3614, 'kyoto': 3302, 'telegraph': 5918, 'plastered': 4430, 'cop': 1317, 'bar-boy': 474, 'takes': 5862, 'calm': 910, 'augustus': 398, 'rasputin': 4736, 'marvin': 3660, 'truck_driver:': 6188, 'strap': 5710, 'gr-aargh': 2526, 'mariah': 3649, 'gimmicks': 2465, 'snapping': 5426, 'churchy': 1126, 'walks': 6413, 'hello': 2751, 'steak': 5646, \"show's\": 5255, 'regulations': 4806, 'sympathetic': 5839, 'alky': 214, 'stats': 5637, \"'\": 2, 'charter': 1043, 'moron': 3865, 'w-a-3-q-i-zed': 6395, 'traffic': 6141, 'sandwich': 5028, 'wasting': 6449, 'spy': 5577, \"ain't\": 194, 'fry': 2353, \"donatin'\": 1709, 'fury': 2376, 'mural': 3912, 'demand': 1556, 'firm': 2187, 'moe_recording:': 3832, 'cameras': 915, 'sighs': 5290, 'kl5-4796': 3268, 'literature': 3467, 'leprechaun': 3394, 'kinderhook': 3253, 'bliss': 654, 'lifestyle': 3421, 'understanding': 6274, 'cheese': 1066, 'ooo': 4169, 'changes': 1025, 'oils': 4141, 'addiction': 123, 'farewell': 2087, 'proves': 4624, 'curiosity': 1438, 'crippling': 1402, 'hammock': 2642, 'whoa-ho': 6559, 'clown-like': 1177, 'gets': 2445, 'everyone': 1982, 'near': 3973, 'button': 875, 'zinged': 6775, 'sec_agent_#2:': 5116, 'lance': 3320, 'in-ground': 2975, 'cappuccino': 935, 'closer': 1168, 'comedy': 1224, 'three': 6035, 'compliments': 1255, 'sooner': 5496, 'brockman': 793, 'alley': 221, 'army': 344, \"other's\": 4195, 'caholic': 897, 'reason': 4767, 'young_homer:': 6755, 'darn': 1485, 'david_byrne:': 1497, 'lowers': 3552, 'statesmanlike': 5633, 'monday': 3841, 'tragedy': 6142, 'outlive': 4206, 'shesh': 5221, 'both': 714, 'full-time': 2360, 'punch': 4646, 'coy': 1367, 'leans': 3358, 'aw': 410, 'banquet': 470, 'ones': 4160, 'celeste': 997, 'boat': 678, 'cummerbund': 1432, 'dessert': 1587, 'contest': 1300, 'older': 4148, 'beefs': 551, 'ivy-covered': 3102, 'presses': 4552, 'milks': 3767, 'tab': 5849, 'cell-ee': 999, 'occurred': 4113, 'insults': 3040, 'mortgage': 3868, 'edgy': 1855, 'heading': 2715, 'sagacity': 5009, 'hours': 2884, 'move': 3885, 'sugar-free': 5761, 'uh-huh': 6251, 'school': 5076, 'fill': 2160, 'hibachi': 2774, 'pick': 4377, 'stealings': 5649, 'wild': 6582, 'imported-sounding': 2969, 'large': 3332, 'foundation': 2297, 'yeah': 6723, 'video': 6365, 'partner': 4278, 'stillwater:': 5672, 'shows': 5262, 'homesick': 2840, 'waitress': 6406, 'without:': 6625, 'mill': 3768, 'atlanta': 382, 'flayvin': 2217, 'rule': 4970, 'eyeing': 2044, 'play/': 4434, 'assumed': 374, 'widow': 6570, \"stallin'\": 5605, 'con': 1263, 'sad': 4999, 'heartless': 2729, 'dum-dum': 1802, 'glen': 2482, 'reserve': 4860, 'chorus:': 1105, 'shooting': 5235, 'few': 2140, 'stopped': 5694, 'lessons': 3397, 'kidneys': 3240, 'krabappel': 3296, \"drinkin'\": 1760, 'burning': 851, 'radioactive': 4702, 'model': 3819, 'neanderthal': 3972, 'furniture': 2373, 'checks': 1057, 'lose': 3518, 'mahatma': 3597, 'product': 4594, '__left_parentheses__': 55, 'ingredient': 3013, 'wobble': 6629, 'reasons': 4769, 'sixty-five': 5341, 'beloved': 586, 'smelly': 5400, 'whirlybird': 6545, 'falling': 2072, 'stops': 5695, 'enforced': 1928, 'pus-bucket': 4656, 'totalitarians': 6119, 'dictating': 1605, \"life's\": 3415, 'judges': 3181, 'yoo': 6746, 'billingsley': 619, 'lenford': 3385, 'screws': 5097, 'hiya': 2804, 'relationship': 4808, 'long': 3501, 'lady-free': 3314, 'fights': 2153, 'whistling': 6550, 'de': 1502, 'putting': 4665, 'sarcastic': 5037, \"money's\": 3843, 'sleep': 5366, 'handler': 2649, 'eats': 1846, 'terrifying': 5945, 'eyed': 2043, 'planned': 4423, 'thirty-three': 6013, 'deeper': 1531, 'crawl': 1381, 'archaeologist': 331, 'fragile': 2307, \"what'd\": 6516, 'groan': 2569, 'lately': 3340, 'moolah-stealing': 3853, 'enabling': 1915, 'serum': 5168, 'flush-town': 2236, 'faces': 2055, 'wazoo': 6469, 'choice': 1095, 'scratching': 5093, 'heatherton': 2733, 'solo': 5471, 'shhh': 5222, 'divine': 1680, 'walking': 6412, 'seen': 5133, 'crossed': 1408, 'super-tough': 5778, 'toasting': 6077, 'lise:': 3457, 'white_rabbit:': 6552, 'agents': 171, 'feeling': 2118, 'op': 4173, 'stationery': 5635, 'atari': 380, 'birthplace': 628, 'düffenbraus': 1821, 'flophouse': 2229, 'buttons': 877, 'smell': 5397, 'cut': 1447, 'blade': 638, 'pig': 4388, 'ehhhhhh': 1873, 'spacey': 5518, 'let': 3398, 'dear': 1514, 'type': 6239, 'play': 4433, 'arise': 338, 'wh': 6507, 'joey': 3159, 'reed': 4788, 'studied': 5732, 'grienke': 2561, 'macaulay': 3580, 'yards': 6719, 'waters': 6459, 'unattended': 6260, 'snake-handler': 5422, 'brine': 784, 'marguerite:': 3648, \"buffalo's\": 823, \"phone's\": 4368, 'mozzarella': 3892, 'boisterous': 683, 'expecting': 2016, 'spare': 5522, 'generosity': 2424, 'helped': 2753, 'assume': 373, 'followed': 2250, 'guy': 2614, 'noise': 4047, 'written': 6698, 'equal': 1954, 'jeers': 3132, 'unfortunately': 6285, 'underwear': 6277, 'sangre': 5030, 'producers': 4593, 'ignoring': 2955, 'germs': 2439, 'clientele': 1158, 'ew': 1988, 'nuclear': 4084, 'children': 1081, 'fictional': 2143, 'class': 1143, 'hollye': 2826, 'priest': 4571, 'oh-so-sophisticated': 4136, 'perplexed': 4348, 'mobile': 3815, 'joke': 3169, 'male_inspector:': 3612, 'gumbo': 2602, 'shred': 5263, 'scornfully': 5087, 'being': 574, 'energy': 1927, 'settled': 5175, 'harmony': 2683, 'correction': 1329, 'broke': 795, '_hooper:': 65, \"nick's\": 4022, 'vicious': 6361, 'break-up': 762, 'tease': 5908, 'bag': 450, 'self-centered': 5140, 'stamp': 5607, 'smoothly': 5414, 'hare-brained': 2681, 'goal': 2496, 'toilet': 6086, 'spied': 5544, \"ragin'\": 4710, 'shrieks': 5265, 'loafers': 3482, 'soap': 5451, 'dumptruck': 1810, 'strongly': 5727, \"you'll\": 6749, '8': 49, \"we'd\": 6471, 'called': 906, 'contract': 1304, 'decision': 1524, 'did': 1607, \"man's_voice:\": 3623, 'geez': 2420, 'moon': 3854, 'piling': 4392, 'bowling': 729, 'iran': 3071, 'easy-going': 1839, 'life': 3414, \"hole'\": 2822, 'oughta': 4201, 'event': 1975, 'soft': 5465, 'motto': 3878, 'germans': 2437, 'polenta': 4478, 'manipulation': 3636, 'old_jewish_man:': 4147, 'donation': 1710, 'cough': 1336, 'shriners': 5266, 'mm-hmm': 3806, 'payday': 4309, 'boyfriend': 740, 'sensible': 5159, 'violations': 6373, 'homers': 2839, 'tang': 5874, 'index': 2992, 'bum:': 835, 'sweet': 5819, 'breathless': 770, 'artie': 352, 'dreamed': 1746, 'express': 2029, 'donor': 1713, 'disco': 1649, 'freaking': 2316, 'bunion': 843, 'rewound': 4881, 'anxious': 294, 'friend:': 2334, 'worldview': 6671, 'alec_baldwin:': 207, 'portentous': 4502, 'flowers': 2232, 'replace': 4850, 'eye': 2039, 'captain:': 937, 'shoe': 5230, 'prayer': 4526, 'carefully': 948, 'mouse': 3881, '2nd_voice_on_transmitter:': 37, 'treehouse': 6165, 'aggie': 172, 'cuz': 1452, 'release': 4813, 'injury': 3016, 'manboobs': 3633, 'dentist': 1564, 'sounds': 5508, 'wolfe': 6634, 'hunka': 2912, 'einstein': 1885, 'noooooooooo': 4057, 'drinking:': 1762, 'hurry': 2916, 'karaoke_machine:': 3208, 'harder': 2677, '1979': 33, 'yew': 6741, 'fans': 2082, 'column': 1216, 'brilliant': 783, 'prayers': 4527, 'starts': 5627, 'wish-meat': 6617, 'unsourced': 6305, 'neighbors': 3992, 'store': 5696, 'terror': 5947, 'closed': 1167, 'crummy': 1421, 'eggs': 1869, 'awwww': 423, 'arimasen': 337, 'choices:': 1098, 'stagey': 5599, 'multi-purpose': 3907, 'whiny': 6543, 'fausto': 2103, 'eddie': 1851, 'stop': 5693, 'brace': 743, 'shaky': 5195, 'part': 4274, 'lookalikes': 3507, 'exception:': 1999, 'micronesian': 3747, 'obvious': 4107, 'fell': 2124, 'buttocks': 874, 'space-time': 5517, 'gibson': 2455, 'perfume': 4340, 'partially': 4276, 'alcoholic': 204, 'add': 122, 'shorter': 5243, 'fat-free': 2094, 'meaningfully': 3698, 'nursemaid': 4093, 'absentminded': 88, 'triumphantly': 6177, 'thirty-thousand': 6012, 'here': 2763, 'delightful': 1550, 'banquo': 471, 'thnord': 6017, 'busiest': 863, 'beach': 522, 'softer': 5466, 'tenor:': 5934, 'wistful': 6621, \"cuckold's\": 1426, 'built': 828, 'putty': 4666, 'eternity': 1966, 'gees': 2419, 'page': 4235, 'saved': 5051, 'unsafe': 6303, 'crestfallen': 1394, 'close': 1166, 'pretending': 4558, 'tells': 5925, 'flash': 2211, 'gun': 2604, 'duke': 1800, 'spoken': 5559, 'however': 2893, 'evils': 1987, 'whaaaa': 6510, 'judgments': 3182, \"springfield's\": 5576, 'only': 4164, 'dig': 1619, \"cupid's\": 1435, 'riding': 4896, 'hillbillies': 2790, 'lady': 3312, 'jebediah': 3131, 'please': 4444, 'potatoes': 4512, 'planning': 4424, 'sentimonies': 5162, 'scatter': 5067, 'warren': 6438, 'prince': 4573, 'hurt': 2917, 'catch': 977, 'vengeful': 6349, 'cake': 899, 'chip': 1090, 'kazoo': 3210, 'always': 240, 'amnesia': 256, 'grains': 2533, 'fridge': 2331, 'crumble': 1420, 'blows': 670, 'agreement': 181, 'points': 4470, 'hundred': 2908, \"stabbin'\": 5594, 'bon': 686, 'duff_announcer:': 1795, 'laughing': 3345, 'handling': 2650, 'dramatically': 1738, 'linda': 3441, 'passion': 4286, 'mechanical': 3707, 'briefly': 780, 'candidate': 922, 'planted': 4427, 'went': 6502, 'appealing': 310, 'healthier': 2720, 'tow': 6127, 'hippies': 2794, 'assassination': 367, 'phasing': 4362, 'score': 5084, 'languages': 3328, 'nineteen': 4033, 'poulet': 4513, 'bellyaching': 584, 'danish': 1478, 'amount': 257, 'eye-gouger': 2040, \"beggin'\": 566, 'cutie': 1450, 'spent': 5541, 'pleasant': 4443, 'feisty': 2122, 'faded': 2059, 'cuddling': 1428, 'named': 3949, 'fox_mulder:': 2306, \"readin'\": 4756, 'precious': 4531, 'mock': 3816, 'waltz': 6421, 'measurements': 3704, 'broad': 790, 'falsetto': 2073, 'inserted': 3024, 'conspiratorial': 1291, 'unhook': 6289, 'fwooof': 2382, 'wage': 6400, 'pasta': 4289, 'dregs': 1752, 'stretch': 5717, 'none': 4054, 'chase': 1044, 'thru': 6046, 'goodbye': 2512, 'kirk_voice_milhouse:': 3260, 'eventually': 1976, 'clown': 1176, 'unlocked': 6300, 'endorse': 1921, 'offensive': 4126, 'movement': 3887, 'informant': 3008, 'fixes': 2200, 'positive': 4506, 'sail': 5014, 'dumbbell': 1806, 'apu_nahasapeemapetilon:': 326, \"number's\": 4089, 'rap': 4732, 'pets': 4357, 'el': 1887, 'book': 697, 'masks': 3662, 'fumes': 2362, 'it': 3088, \"kearney's_dad:\": 3211, 'belch': 576, 'pantsless': 4259, 'hike': 2787, 'thought_bubble_homer:': 6025, 'film': 2163, 'pay': 4307, 'recipe': 4776, 'nelson': 3996, 'blind': 651, 'whoops': 6565, 'dull': 1801, 'prompting': 4609, 'mitts': 3802, 'persia': 4349, 'fighter': 2150, 'dollar': 1698, 'raggie': 4708, 'snout': 5443, 'derisive': 1578, 'staying': 5644, 'fulla': 2361, 'dramatic': 1737, 'blend': 646, 'officials': 4131, 'magazine': 3591, 'sorry': 5500, 'thoughtless': 6029, 'giggles': 2461, '1895': 31, 'securities': 5123, 'snotball': 5441, 'a-a-b-b-a': 74, 'memory': 3720, 'avalanche': 405, 'palmerston': 4252, 'chief': 1077, 'use': 6324, 'loved': 3540, 'doreen:': 1724, 'polishing': 4481, 'finally': 2167, 'begging': 567, 'soul': 5503, 'edge': 1854, 'fritz': 2342, \"father's\": 2098, 'pride': 4569, 'unfair': 6282, 'bleacher': 643, \"lookin'\": 3509, 'extreme': 2036, 'huh': 2903, 'diamond': 1601, 'longer': 3502, 'way': 6462, 'annual': 282, 'beeps': 554, 'saint': 5015, 'may': 3677, 'prettiest': 4562, 'saget': 5011, 'crowds': 1415, 'morning-after': 3864, \"monroe's\": 3848, \"aren't\": 333, 'motor': 3876, 'aims': 193, 'reaches': 4749, 'skills': 5348, 'adult': 139, 'crayon': 1384, 'physical': 4374, 'regulars': 4805, 'unexplained': 6281, 'fl': 2201, 'badge': 445, 'designated': 1581, 'cockroaches': 1192, 'malted': 3617, 'byrne': 887, 'trying': 6198, 'charlie': 1039, 'survive': 5801, 'and/or': 265, 'war': 6429, 'nuked': 4087, 'glummy': 2491, \"professor's\": 4598, 'brown': 808, 'lloyd': 3478, 'produce': 4592, 'unforgettable': 6284, 'bush': 861, 'holy': 2828, 'outstanding': 4211, 'blew': 649, 'rector': 4786, 'peeved': 4322, 'booze-bags': 704, 'mcstagger': 3689, 'effects': 1864, 'virtual': 6377, 'suru': 5800, 'present': 4542, 'smallest': 5395, 'easier': 1834, 'gag': 2389, 'we': 6470, 'eleven': 1894, 'laughs': 3346, 'religion': 4818, \"elmo's\": 1899, 'doooown': 1719, 'possibly': 4508, 'address': 125, 'mull': 3905, \"football's\": 2264, 'wrecking': 6690, 'blissful': 655, 'over': 4213, 'data': 1489, 'procedure': 4590, 'stolen': 5685, 'agnes_skinner:': 178, \"drexel's\": 1756, 'paint': 4242, 'hah': 2626, 'pledge': 4448, 'ungrateful': 6287, 'charming': 1042, 'recommend': 4779, 'tasty': 5889, 'renders': 4835, 'malabar': 3611, 'microphone': 3748, 'wife': 6574, 'accusing': 106, 'nightmares': 4031, 'jerk-ass': 3139, \"'s\": 19, 'competing': 1246, 'sugar-me-do': 5762, 'smurfs': 5418, 'trainers': 6145, 'gin-slingers': 2467, 'tie': 6055, 'wildest': 6583, 'internet': 3050, 'urban': 6319, 'bachelor': 433, 'throw': 6042, 'reconsidering': 4780, 'in': 2974, 'billy_the_kid:': 622, 'nerd': 4000, 'though:': 6023, 'football': 2263, 'hoagie': 2813, 'muslim': 3926, 'sixty': 5340, 'sneeze': 5432, 'kahlua': 3203, 'hard': 2676, 'lear': 3359, 'file': 2158, 'lorre': 3516, 'prison': 4580, 'dime': 1624, 'quadruple-sec': 4670, 'mess': 3729, 'theatah': 5975, 'pleasure': 4447, 'nein': 3994, 'betty:': 603, 'despite': 1586, \"kiddin'\": 3236, 'bumbling': 837, 'grimly': 2565, 'insensitive': 3023, 'title': 6074, 'tips': 6070, 'gift': 2456, 'loathe': 3484, 'faulkner': 2101, 'boy': 738, 'sexual': 5182, 'diets': 1615, 'deal': 1508, 'smile': 5401, \"smokin'\": 5411, 'arrange': 346, 'rutabaga': 4987, 'warm_female_voice:': 6431, 'prolonged': 4605, 'lighten': 3428, 'notices': 4076, 'brunch': 810, 'lame': 3319, 'c': 888, 'wait': 6403, 'knowingly': 3284, 'cover': 1359, 'sports_announcer:': 5568, 'pained': 4240, 'rings': 4905, 'car:': 941, 'rebuttal': 4771, 'community': 1239, 'oooo': 4171, 'familiar': 2074, 'yuh-huh': 6767, 'bart': 496, 'lowering': 3551, 'rubs': 4961, 'low': 3548, 'filthy': 2165, 'beans': 527, 'notably': 4070, 'sedaris': 5124, 'engraved': 1933, 'nigerian': 4027, 'quitcher': 4690, 'afterglow': 160, 'stinks': 5677, 'glum': 2490, 'latour': 3343, 'de-scramble': 1503, 'nbc': 3970, 'gunter': 2607, 'bought': 721, 'chilly': 1085, 'officer': 4129, 'batmobile': 517, 'scrape': 5091, 'rats': 4743, 'watch': 6451, 'build': 827, 'trustworthy': 6194, 'dory': 1725, 'nerve': 4001, 'troy:': 6185, 'hitchhike': 2801, 'mustard': 3931, \"leavin'\": 3366, 'awkwardly': 420, 'town': 6132, 'har': 2675, 'senators': 5154, 'enjoyed': 1936, 'killer': 3246, 'could': 1338, 'chinese_restaurateur:': 1088, 'world-class': 6669, 'caper': 932, 'extract': 2035, 'finishing': 2178, 'join': 3165, 'crime': 1398, 'stick': 5665, \"what's\": 6519, 'apron': 324, 'supermarket': 5782, 'pudgy': 4632, 'bender:': 589, 'bury': 859, 'story': 5702, 'quickly': 4683, 'egg': 1868, 'incognito': 2983, 'author': 401, 'u2:': 6244, 'harm': 2682, 'cock': 1189, 'faiths': 2067, 'answer': 286, 'apu': 325, 'peppers': 4331, 'even': 1973, \"pickin'\": 4379, 'relax': 4810, 'presto:': 4555, 'lisa': 3454, 'ringing': 4904, 'worse': 6674, 'wuss': 6702, \"handwriting's\": 2656, 'ointment': 4142, '_burns_heads:': 63, 'prep': 4539, 'character': 1033, 'explaining': 2025, 'sued': 5758, 'tight': 6059, 'bonding': 688, 'winning': 6605, 'badly': 447, 'simpson': 5302, 'brother-in-law': 803, 'lifetime': 3422, 'boring': 709, 'separator': 5163, 'buddy': 820, \"weren't\": 6504, 'duffman': 1797, 'city': 1132, 'chained': 1012, 'cecil': 991, 'bake': 454, 'forecast': 2272, 'cakes': 900, 'meyerhof': 3739, 'hot': 2875, 'smells': 5399, 'vodka': 6380, 'limericks': 3437, 'scent': 5069, 'owns': 4225, 'minors': 3780, 'bike': 614, \"bashir's\": 511, 'snap': 5424, 'match': 3667, 'folk': 2247, 'according': 103, 'cheesecake': 1067, 'wikipedia': 6581, 'youth': 6765, 'tough': 6125, 'schemes': 5072, 'sweetly': 5824, 'merchants': 3728, \"askin'\": 362, 'everybody': 1980, 'turkey': 6206, 'fifth': 2147, \"stayin'\": 5643, 'stage': 5597, 'spellbinding': 5536, 'feat': 2112, 'canoodling': 927, 'asked': 361, 'driving': 1770, 'throwing': 6043, 'ninety-seven': 4036, 'consulting': 1292, 'pussycat': 4661, 'employment': 1912, 'witches': 6622, 'amanda': 242, 'female_inspector:': 2130, 'granted': 2545, 'owned': 4223, 'norway': 4066, 'barbed': 478, \"raggin'\": 4709, 'contemplates': 1296, 'chumbawamba': 1121, 'aged': 165, 'wallet': 6415, 'sometime': 5488, 'greedy': 2555, 'intriguing': 3058, 'behavior': 571, 'steely-eyed': 5655, 'dirge-like': 1639, 'benjamin:': 593, 'drinking': 1761, 'prohibit': 4603, 'alter': 236, 'twerpy': 6231, 'wham': 6514, 'apulina': 327, 'mock-up': 3817, 'doll': 1696, 'whistles': 6549, \"rasputin's\": 4737, 'strain': 5705, 'ceremony': 1005, 'shaved': 5208, 'noble': 4043, 'cheapskates': 1052, 'wholeheartedly': 6562, 'renee:': 4838, 'big': 611, 'reporter': 4852, 'wide': 6569, 'speed': 5535, 'mason': 3663, 'eaten': 1842, 'sound': 5505, 'pretty': 4563, 'storms': 5701, 'therapy': 5986, 'developed': 1595, 'caveman': 989, 'loneliness': 3499, 'director': 1637, 'starters': 5623, 'spooky': 5564, 'heaving': 2737, 'sheets': 5216, 'mm': 3805, \"enjoyin'\": 1937, \"hasn't\": 2691, 'charlie:': 1040, 'whatever': 6525, 'kearney_zzyzwicz:': 3212, '6': 45, 'causes': 988, 'invited': 3067, \"dolph's_dad:\": 1701, 'p-k': 4228, 'dan_gillick:': 1471, 'stonewall': 5688, 'waylon': 6464, 'yours': 6760, 'treat': 6159, 'pharmaceutical': 4360, 'mic': 3740, 'brawled': 759, 'football_announcer:': 2265, 'been': 552, 'stood': 5689, '-ry': 24, 'pugilist': 4635, 'martini': 3658, 'richard': 4888, 'freedom': 2320, 'eighty-six': 1883, 'hiring': 2796, 'forgotten': 2282, 'buffalo': 822, 'dumbass': 1805, 'okay': 4143, 'friction': 2329, 'limited': 3438, 'ripper': 4910, 'graves': 2549, 'heart': 2726, 'suicide': 5763, 'shoo': 5232, 'missed': 3794, 'mel': 3716, 'weight': 6493, 'ease': 1833, 'trail': 6143, 'tanked-up': 5876, 'manjula_nahasapeemapetilon:': 3638, 'bubble': 813, 'hate-hugs': 2694, 'race': 4696, 'yup': 6768, 'moon-bounce': 3855, 'yellow': 6732, 'blubberino': 671, 'impending': 2967, 'share': 5201, 'will': 6585, 'insurance': 3041, 'robot': 4921, 'grammy': 2535, 'perfunctory': 4341, 'tsking': 6200, 'completely': 1251, 'joe': 3158, 'smoker': 5409, 'windelle': 6595, 'plug': 4453, 'less': 3395, 'awake': 411, 'rotch': 4946, 'squashing': 5583, 'wall': 6414, 'pit': 4408, 'ninety-six': 4037, 'terrific': 5943, 'actor': 117, 'sold': 5468, 'inspiring': 3033, 'transylvania': 6152, 'bulldozing': 831, 'ancient': 262, 'newly-published': 4010, 'delays': 1541, 'soothing': 5499, 'cleaner': 1147, 'want': 6425, 'pro': 4585, 'that': 5967, 'dangerous': 1476, 'freshened': 2328, 'forward': 2295, 'thoughts': 6030, 'denver': 1565, \"poundin'\": 4514, 'inspire': 3031, 'shoulders': 5250, 'scores': 5085, 'affectations': 150, 'hateful': 2696, 'guide': 2594, 'someday': 5477, 'pickle': 4380, 'e': 1822, 'coins': 1203, 'iranian': 3072, 'parking': 4272, 'relieved': 4817, 'shoot': 5233, 'smitty:': 5407, 'overflowing': 4215, 'whaddaya': 6511, 'closet': 1170, 'depression': 1575, 'confidentially': 1277, 'tries': 6174, 'tropical': 6181, 'mumble': 3909, 'true': 6190, 'wounds': 6683, 'unsanitary': 6304, 'what': 6515, 'orgasmville': 4189, 'daniel': 1477, 'ding-a-ding-ding-ding-ding-ding-ding': 1629, 'spectacular': 5533, 'shutting': 5273, 'gently': 2433, 'contemptuous': 1298, 'here-here-here': 2765, 'padre': 4233, 'krusty': 3298, 'knuckles': 3289, 'mayor_joe_quimby:': 3683, 'nagurski': 3940, 'radiation': 4698, 'yee-ha': 6727, 'founded': 2298, 'spit': 5551, \"now's\": 4083, 'dad': 1458, 'zeal': 6771, 'street': 5714, 'feed': 2114, 'urge': 6320, 'beef': 550, \"'tis\": 21, 'electronic': 1892, \"'topes\": 22, 'tried': 6173, 'locked': 3492, \"'roids\": 17, 'washouts': 6445, 'libido': 3409, 'paints': 4246, 'breakdown': 763, 'seething': 5136, 'all-american': 217, 'chic': 1073, 'flying': 2239, 'glyco-load': 2493, 'rolls': 4930, 'cozy': 1370, 'fund': 2366, 'sings': 5317, 'fustigation': 2379, 'intrigued': 3057, 'devils:': 1597, 'voodoo': 6387, 'young_barfly:': 6754, 'capuchin': 938, \"let's\": 3399, 'octa-': 4117, 'bookie': 699, 'ehhh': 1872, 'funeral': 2368, 'glitterati': 2484, 'lift': 3423, 'yello': 6731, 'deals': 1511, 'boned': 689, 'pulitzer': 4639, 'mexican_duffman:': 3737, 'sobriety': 5457, 'understood': 6275, 'estranged': 1964, \"it'll\": 3090, 'protestantism': 4618, 'beer:': 559, 'snake': 5421, 'p': 4227, 'live': 3471, 'doug:': 1728, 'forty-seven': 2293, 'hobo': 2815, 'homeless': 2831, 'rat-like': 4739, 'attraction': 391, 'fantastic': 2084, 'happened': 2668, \"bettin'\": 602, 'rumor': 4975, 'honor': 2846, 'pint': 4402, 'pockets': 4459, 'mcclure': 3687, 'pre-recorded': 4530, 'woulda': 6679, \"tap-pullin'\": 5879, 'beyond': 606, 'go': 2494, 'oil': 4140, 'deny': 1566, 'hugh:': 2902, 'crowd': 1412, 'astrid': 376, 'easy': 1838, 'syndicate': 5843, 'quebec': 4675, 'hostages': 2872, 'looked': 3508, 'kool': 3294, 'stupidest': 5738, \"drivin'\": 1769, 'jernt': 3143, 'hub': 2895, 'sets': 5174, 'belly-aching': 583, 'due': 1790, 'well': 6498, 'strains': 5707, 'per': 4335, 'szyslak': 5847, 'driver': 1766, 'composer': 1256, 'expression': 2030, 'sotto': 5502, 'professor': 4597, 'who-o-oa': 6557, 'environment': 1952, 'kissing': 3265, 'suburban': 5745, 'amazing': 244, 'sudden': 5753, 'hooked': 2851, 'twenty-four': 6227, 'endorsed': 1922, \"crawlin'\": 1382, 'longest': 3503, 'quiet': 4684, 'vacations': 6334, \"heat's\": 2731, 'hotenhoffer': 2878, 'corporation': 1325, 'enjoy': 1935, 'valley': 6337, \"what're\": 6518, 'drive': 1764, 'now': 4082, 'hawking:': 2706, \"can't-believe-how-bald-he-is\": 920, 'chicken': 1075, 'blown': 669, 'punching': 4648, 'meet': 3714, \"others'\": 4198, 'certified': 1009, 'first': 2189, 'reminded': 4830, 'patient': 4293, 'seats': 5113, 'spirit': 5549, 'cruise': 1418, 'un-sults': 6258, 'feld': 2123, 'smug': 5415, 'generously': 2426, 'were': 6503, 'bobo': 680, 'trivia': 6178, 'fifteen': 2146, 'phase': 4361, 'railroad': 4713, 'warn': 6434, \"doctor's\": 1688, 'fdic': 2109, 'ears': 1831, 'shelbyville': 5217, 'youuu': 6766, \"comin'\": 1230, 'combination': 1218, 'meaning': 3696, 'dipping': 1634, 'philosophic': 4364, 'mither': 3801, 'pizza': 4412, 'gentleman:': 2430, 'lay': 3353, 'than': 5961, 'celebrities': 995, 'dr': 1733, 'from': 2346, 'toe': 6082, 'sweat': 5815, 'tempting': 5931, 'modern': 3820, 'movies': 3889, 'obsessive-compulsive': 4106, 'scully': 5103, 'clearing': 1151, 'inspector': 3030, 'dreamily': 1747, 'kid': 3234, 'fixed': 2199, \"clancy's\": 1139, 'office': 4128, 'curse': 1440, 'hilarious': 2788, \"spiffin'\": 5545, 'look': 3504, 'embarrassed': 1904, \"i-i'll\": 2936, 'delts': 1555, 'symphonies': 5842, 'sweater': 5816, 'whee': 6527, 'protecting': 4617, 'bashir': 510, 'during': 1813, 'ashamed': 357, 'art': 351, 'dennis_conroy:': 1561, 'kegs': 3216, 'ragtime': 4712, 'samples': 5026, 'arabs': 330, 'excavating': 1996, 'three-man': 6036, 'nation': 3962, 'point': 4465, 'winded': 6594, 'thing:': 6000, 'gluten': 2492, 'dignity': 1622, 'kicked': 3231, 'luck': 3558, 'days': 1500, 'woooooo': 6655, 'filth': 2164, 'our': 4203, 'company': 1241, 'ladies': 3310, 'further': 2375, 'dog': 1691, 'dump': 1808, 'cracked': 1373, 'should': 5246, 'fiiiiile': 2157, 'complaint': 1249, '3': 38, 'bottoms': 720, 'finding': 2170, 'me': 3691, 'lady_duff:': 3315, 'virile': 6375, \"lady's\": 3313, 'mind-numbing': 3772, 'weeks': 6491, 'gee': 2418, 'police': 4479, 'streetlights': 5716, 'planet': 4421, \"nothin's\": 4073, \"goin'\": 2500, 'hooray': 2853, 'hardy': 2680, 'minimum': 3778, 'floor': 2228, 'consciousness': 1284, 'nightmare': 4030, 'attack': 385, 'pardon': 4266, 'strangles': 5709, 'additional-seating-capacity': 124, 'emotional': 1909, 'pub': 4627, 'coin': 1200, 'creeps': 1391, 'midnight': 3755, 'neighborhood': 3991, 'detective': 1591, 'bartender': 500, 'lead': 3356, 'reactions': 4752, 'girl-bart': 2470, 'icy': 2942, 'bindle': 623, 'americans': 253, 'coupon': 1351, 'sacrilicious': 4998, \"o'clock\": 4098, 'conclude': 1266, 'waking-up': 6409, 'drunk': 1781, 'moment': 3837, 'reads': 4759, 'maher': 3598, 'videotaped': 6366, 'heavyweight': 2739, 's-a-u-r-c-e': 4993, 'outta': 4212, 'west': 6505, 'h': 2618, 'onto': 4166, 'solved': 5472, \"neighbor's\": 3989, 'getting': 2447, 'sky': 5357, 'mamma': 3619, 'many': 3641, 'grumbling': 2585, 'tow-joes': 6128, 'triple-sec': 6176, 'lobster-politans': 3488, \"we've\": 6474, \"tester's\": 5953, 'undermine': 6271, 'teacup': 5901, 'degradation': 1538, 'tapered': 5881, 'low-blow': 3549, 'icelandic': 2941, 'denser': 1563, 'happily': 2671, 'lindsay': 3443, 'peanut': 4318, 'bumped': 839, 'leathery': 3364, 'jumps': 3191, 'doreen': 1723, 'attach': 383, 'volunteer': 6385, 'praise': 4524, 'macgregor': 3582, 'network': 4004, 'would': 6678, 'booth': 702, 'lonely': 3500, 'sale': 5018, 'maximum': 3676, 'conclusions': 1267, 'sips': 5322, 'watered-down': 6457, 'kinds': 3255, 'employees': 1911, 'dennis_kucinich:': 1562, 'nonsense': 4055, 'larry': 3333, 'exclusive:': 2005, 'over-pronouncing': 4214, \"fishin'\": 2191, 'make:': 3607, 'fact': 2056, 'counting': 1345, 'disappointed': 1644, 'sampler': 5025, 'offended': 4124, 'realized': 4764, '__right_parentheses__': 60, 'diddilies': 1608, \"'til\": 20, 'squabbled': 5579, 'omigod': 4151, 'sits': 5333, 'ventriloquism': 6351, 'sass': 5038, 'assistant': 371, 'tolerable': 6090, 'roses': 4944, 'quick': 4681, 'anyway': 302, 'boggs': 682, 'goodnight': 2513, 'gave': 2414, 'half-back': 2634, 'pigtown': 4390, 'carl:': 954, \"world's\": 6668, 'jailbird': 3116, 'slender': 5370, 'temper': 5927, 'amazed': 243, 'local': 3489, 'boneheaded': 690, 'hibbert': 2775, 'alive': 213, 'fluoroscope': 2234, 'besides': 594, 'mid-conversation': 3750, 'plane': 4420, 'following': 2251, 'deacon': 1505, 'temp': 5926, 'brooklyn': 800, 'ticket': 6051, 'mimes': 3770, 'memories': 3719, 'patriotic': 4295, 'through': 6041, 'eu': 1967, 'gifts': 2458, 'banks': 467, 'number': 4088, 'dishrag': 1662, 'snide': 5433, 'mouth': 3883, 'born': 710, 'harvey': 2689, 'unfresh': 6286, 'away': 413, 'chapel': 1030, 'steamed': 5651, 'murmurs': 3917, 'has': 2690, 'appointment': 319, 'whoever': 6560, 'inspection': 3029, 'box': 730, 'get': 2442, 'know': 3282, 'bee': 549, \"lovers'\": 3546, 'twelve': 6221, 'dressed': 1754, 'revenge': 4878, 'rolled': 4927, 'jägermeister': 3199, 'steam': 5650, 'duffed': 1796, 'allow': 222, 'damn': 1468, 'handle': 2648, 'richer': 4890, 'pass': 4282, 'skinner': 5351, 'embarrassing': 1905, \"who'll\": 6555, 'researching': 4858, 'growing': 2578, 'song': 5494, 'blokes': 659, 'surprised': 5797, 'aboard': 84, 'renee': 4836, 'size': 5343, 'twenty-nine': 6228, 'shop': 5237, 'effect': 1863, 'quotes': 4692, 'jovial': 3174, 'compromise:': 1259, 'furious': 2371, 'runs': 4981, 'knock-up': 3278, 'swatch': 5812, 'sub-monkeys': 5742, 'taxes': 5896, 'soaking': 5450, 'eight': 1876, 'freaky': 2317, 'inanely': 2977, 'roof': 4938, 'sacrifice': 4997, 'percent': 4336, 'accounta': 104, 'flourish': 2230, 'thank': 5962, 'realize': 4763, 'desire': 1583, \"grandmother's\": 2543, 'smiles': 5404, 'imitating': 2963, 'grope': 2573, 'promised': 4607, 'does': 1689, 'little_man:': 3470, 'fireball': 2182, 'tax': 5895, 'stuff': 5734, 'forgets': 2278, 'somehow': 5478, 'error': 1958, 'betcha': 597, 'pip': 4403, 'refund': 4800, 'temples': 5929, 'admirer': 132, 'voice:': 6382, 'grampa_simpson:': 2538, 'cards': 944, 'friends': 2336, 'foil': 2245, 'voyager': 6391, 'four-drink': 2301, 'appreciated': 321, 'also': 235, 'fast-paced': 2091, 'thoughtfully': 6028, 'depository': 1570, 'uglier': 6246, 'bolting': 685, 'neck': 3978, 'sassy': 5039, 'wishful': 6619, 'faceful': 2054, \"fallin'\": 2071, 'loves': 3547, 'louder': 3532, 'intoxicants': 3055, 'pour': 4515, 'dealer': 1509, 'aggravated': 173, \"wouldn't-a\": 6681, 'oooh': 4170, 'bitter': 633, 'see': 5126, \"swishifyin'\": 5834, 'chow': 1107, 'terrace': 5941, 'teenage_bart:': 5915, 'enveloped': 1951, 'gator:': 2413, 'yea': 6722, 'b-day': 428, 'pages': 4237, 'savvy': 5054, 'non-american': 4050, 'family-owned': 2077, 'choking': 1102, 'purse': 4653, 'bloodiest': 664, 'moe-clone': 3826, 'appendectomy': 314, 'marched': 3643, 'reserved': 4861, \"son's\": 5492, 'wise': 6615, 'flames': 2207, 'shelf': 5218, 'gang': 2400, 'befouled': 563, 'grinch': 2567, 'grub': 2580, 'marge_simpson:': 3647, 'smart': 5396, 'sucked': 5749, 'whim': 6541, \"table's\": 5852, 'interesting': 3048, 'barney-type': 492, 'squadron': 5581, 'shaggy': 5189, \"smackin'\": 5392, 'million': 3769, 'kadlubowski': 3202, 'legoland': 3378, 'exquisite': 2031, 'ohh': 4137, 'musta': 3930, 'giggle': 2460, 'releases': 4814, \"plaster's\": 4429, 'weep': 6492, 'platinum': 4432, 'which': 6539, 'lis': 3453, 'pepto-bismol': 4334, 'keeping': 3214, 'catching': 979, 'imagine': 2962, 'body': 681, \"speakin'\": 5524, 'er': 1956, 'newsweek': 4015, 'satisfaction': 5043, 'dude': 1789, 'ivanna': 3100, 'commit': 1235, 'annus': 283, 'cyrano': 1453, 'we-we-we': 6475, 'important': 2968, 'refill': 4793, '&': 1, 'tin': 6065, 'tall': 5873, 'fresh': 2327, 'slurps': 5388, 'blob': 656, 'bash': 509, 'mister': 3799, 'every': 1979, 'slap': 5360, 'ballclub': 459, 'quarry': 4672, 'vampire': 6340, 'root': 4942, 'think': 6002, 'notice': 4075, 'wonder': 6644, 'boxer': 733, 'disguised': 1659, 'pipes': 4405, 'society_matron:': 5462, 'omit': 4153, 'mailbox': 3601, 'project': 4604, 'tears': 5907, 'wooden': 6653, 'frat': 2312, 'nfl_narrator:': 4017, 'churchill': 1125, 'releasing': 4815, 'reality': 4762, 'monkey': 3844, 'intoxicated': 3056, 'eighty-three': 1884, 'chunky': 1123, \"children's\": 1082, 'astonishment': 375, 'keeps': 3215, 'quarter': 4673, 'lloyd:': 3479, 'slim': 5375, 'woman': 6637, 'botanical': 713, 'bulletin': 833, 'hems': 2760, 'yo': 6743, 'college': 1209, 'swimming': 5831, 'bullet-proof': 832, \"'cause\": 4, 'snotty': 5442, 'most': 3869, 'hide': 2777, 'reliable': 4816, 'gabriel:': 2388, 'crotch': 1409, 'johnny': 3163, 'testing': 5954, 'child': 1079, 'whaddya': 6512, 'rickles': 4891, 'haplessly': 2666, 'weirded-out': 6495, 'washed': 6442, 'madman': 3588, 'learn': 3360, 'drederick': 1751, 'pirate': 4406, 'runt': 4982, 'spending': 5540, 'fast': 2089, 'virility': 6376, 'billiard': 618, 'midge:': 3754, 'mid-seventies': 3751, 'rueful': 4964, \"calf's\": 903, 'squirrel': 5589, 'selective': 5138, 'mother': 3874, 'drift': 1757, 'heroism': 2768, 'delighted': 1549, 'till': 6060, 'friday': 2330, 'people': 4327, 'creature': 1389, 'kidding': 3237, 'libraries': 3410, 'thought': 6024, 'fink': 2179, 'watered': 6456, 'stingy': 5674, 'swallowed': 5809, 'superhero': 5780, 'down': 1730, 'instrument': 3037, 'invulnerable': 3070, 'shores': 5239, 'lachrymose': 3308, 'belts': 588, \"duelin'\": 1792, 'various': 6345, 'made': 3586, 'exasperated': 1995, 'ruled': 4971, 'specials': 5529, 'ambrose': 247, 'jubilation': 3178, 'screw': 5096, 'greetings': 2556, 'land': 3321, 'f': 2047, 'salt': 5020, 'grateful': 2547, 'thoughtful': 6027, 'stir': 5679, 'sunny': 5774, 'beligerent': 580, 'aah': 77, 'tune': 6205, 'cola': 1204, 'carpet': 964, 'novel': 4079, 'celebrity': 996, '__comma__': 52, 'corner': 1323, 'touches': 6124, 'routine': 4952, 'louse': 3536, 'hmf': 2806, 'pre-game': 4529, 'hawaii': 2704, 'decide': 1521, 'my': 3933, '_montgomery_burns:': 69, 'expect': 2015, 'propose': 4614, 'indeed': 2990, 'coal': 1182, 'windex': 6596, 'stalin': 5603, 'venture': 6352, 'touchdown': 6122, 'shame': 5197, 'enterprising': 1943, 'logos': 3497, 'vincent': 6372, 'manchego': 3634, 'beatings': 535, 'pepper': 4330, 'anymore': 299, 'starting': 5625, 'dames': 1466, 'cupid': 1434, 'old': 4145, 'carlotta:': 957, '3rd_voice:': 40, 'pool': 4490, 'scanning': 5062, 'paramedic:': 4264, 'ruby-studded': 4962, 'mushy': 3922, 'beaumarchais': 537, 'porn': 4501, \"renovatin'\": 4840, 'wayne:': 6467, 'nos': 4067, 'wondered': 6645, \"liftin'\": 3425, 'god': 2498, 'forty-nine': 2292, 'jane': 3121, 'cable': 894, 'relative': 4809, 'mickey': 3745, 'emphasis': 1910, 'kissed': 3262, \"i'm\": 2931, 'brain': 747, 'inexorable': 3001, 'unjustly': 6296, \"shan't\": 5198, 'tear': 5905, 'fella': 2125, 'sweetest': 5821, 'simpsons': 5303, \"ma'am\": 3576, 'moans': 3813, 'natured': 3966, 'terrified': 5944, 'shoulder': 5249, 'd': 1454, 'wiggum': 6579, 'kang:': 3205, \"dad's\": 1459, 'lofty': 3495, 'la': 3304, 'international': 3049, 'hurts': 2919, 'band': 465, \"spyin'\": 5578, 'wussy': 6703, 'piano': 4376, 'small': 5393, \"sayin'\": 5057, 'killing': 3247, 'landfill': 3322, 'sex': 5180, 'men': 3721, 'fun': 2364, 'breathtaking': 771, 'ayyy': 424, 'moe-clone:': 3827, 'wildfever': 6584, 'operation': 4178, 'bits': 632, 'enthusiastically': 1947, 'fevered': 2139, 'oopsie': 4172, 'appearance-altering': 313, 'pity': 4411, 'group': 2575, 'drop-off': 1774, 'kidney': 3239, \"washin'\": 6444, 'today/': 6081, 'considering:': 1287, 'parrot': 4273, 'pile': 4391, 'ziff': 6773, 'said': 5012, \"aren'tcha\": 334, 'buzz': 883, 'monster': 3849, 'control': 1306, 'trouble': 6182, 'foam': 2241, 'idioms': 2949, 'wipes': 6611, 'dressing': 1755, 'jewelry': 3148, 'dropping': 1776, \"challengin'\": 1016, 'parenting': 4267, 'miss': 3792, 'burg': 845, 'cooking': 1314, 'homer_doubles:': 2837, 'breathalyzer': 769, 'grace': 2530, 'forgive': 2279, 'focused': 2243, 'charm': 1041, 'swill': 5829, 'hexa-': 2771, 'countryman': 1348, 'dead': 1506, 'safe': 5003, 'statue': 5638, 'capitalists': 933, 'gotta': 2523, 'bully': 834, 'prime': 4572, 'new_health_inspector:': 4008, \"tv'll\": 6213, 'newspaper': 4014, 'poured': 4516, 'dropped': 1775, 'democracy': 1558, 'stands': 5613, 'free': 2318, 'proudly': 4622, 'circus': 1130, 'backgammon': 438, 'squeeze': 5586, 'ivory': 3101, 'service': 5171, 'words': 6659, 'bucket': 816, 'dizer': 1683, 'rationalizing': 4742, \"takin'\": 5863, 'little': 3468, 'proposition': 4616, 'bump': 838, 'relaxing': 4812, 'e-z': 1823, 'played': 4435, \"it'd\": 3089, 'reopen': 4845, 'superpower': 5784, '4x4': 41, 'troubles': 6183, 'christopher': 1110, 'lucius': 3556, 'perch': 4337, 'eighty-one': 1881, 'poplar': 4496, 'crap': 1377, 'walther_hotenhoffer:': 6420, 'moe-ron': 3831, 'need': 3983, 'albeit': 201, 'walther': 6419, 'comic_book_guy:': 1229, 'politician': 4483, 'salvation': 5022, 'colorado': 1214, 'expense': 2017, \"they've\": 5996, 'cuckoo': 1427, 'babies': 431, 'hearse': 2725, 'cause': 986, 'law-abiding': 3350, 'sick': 5277, 'eddie:': 1852, 'driveability': 1765, 'beaumont': 538, 'quimbys:': 4688, 'pictured': 4386, 'adopted': 136, 'grey': 2559, 'ebullient': 1847, 'refresh': 4796, 'tell': 5922, 'tactful': 5856, 'thankful': 5963, 'chapstick': 1031, 'earth': 1832, 'civilization': 1136, \"fightin'\": 2151, 'bridges': 778, 'trusted': 6193, 'much': 3897, 'hunter': 2914, 'myself': 3935, 'gulliver_dark:': 2598, 'compressions': 1258, 'japanese': 3123, 'outside': 4210, 'script': 5098, 'mckinley': 3688, 'house': 2885, 'whole': 6561, 'ab': 78, 'website': 6485, \"g'ahead\": 2383, 'blowfish': 667, 'businessman_#1:': 865, 'blur': 675, 'michael_stipe:': 3743, 'roach': 4915, 'brick': 775, 'wearing': 6481, 'complaining': 1248, 'talked': 5869, \"g'night\": 2384, 'badmouth': 448, 'unusually': 6308, 'doors': 1721, \"fine-lookin'\": 2172, 'tar-paper': 5885, 'advantage': 142, 'two-thirds-empty': 6237, 'lurleen': 3567, 'mafia': 3590, 'same': 5024, 'honeys': 2845, 'ye': 6721, 'teeth': 5917, 'wood': 6651, 'expert': 2022, 'almond': 227, 'snail': 5420, 'series': 5165, 'venom': 6350, 'fleabag': 2219, 'rip-off': 4907, 'funny': 2370, 'other_book_club_member:': 4196, \"tree's\": 6163, 'cowboys': 1366, 'chateau': 1046, \"singin'\": 5312, 'cases': 969, 'channel': 1028, 'players': 4436, 'guns': 2606, 'confused': 1278, 'nash': 3960, 'commission': 1234, 'sob': 5453, 'wheel': 6529, 'figures': 2156, 'eighty-five': 1880, 'lousy': 3537, 'blurbs': 676, 'goldarnit': 2504, 'slick': 5372, 'elect': 1890, 'sleeps': 5368, 'beats': 536, 'often': 4133, 'nectar': 3980, 'bear': 528, 'lighter': 3429, \"isn't\": 3084, 'glad': 2477, 'flynt': 2240, 'gasoline': 2409, 'na': 3937, 'press': 4551, 'owner': 4224, 'looks': 3511, 'itchy': 3094, 'flailing': 2204, 'michelin': 3744, 'macbeth': 3581, 'bide': 609, 'decided': 1523, 'renew': 4839, 'rolling': 4929, 'recruiter': 4785, 'app': 308, 'kept': 3225, '/mr': 26, 'compare': 1242, 'recall': 4772, 'enthusiasm': 1946, 'magic': 3594, 'stern': 5661, 'tommy': 6096, 'theme': 5980, 'him': 2792, \"yesterday's\": 6739, 'beep': 553, 'awkward': 419, 'penny': 4326, 'fica': 2141, 'window': 6597, 'verticality': 6356, 'random': 4731, 'temporarily': 5930, 'spend': 5538, 'cesss': 1010, 'taken': 5861, 'chapter': 1032, '__semicolon__': 61, 'life-extension': 3416, 'thanks': 5965, 'drop': 1773, 'rush': 4984, 'fabulous': 2049, 'as': 356, \"'bout\": 3, 'other_player:': 4197, 'flashing': 2214, 'squad': 5580, 'row': 4953, 'mindless': 3773, 'jer': 3137, 'tow-talitarian': 6129, 'warranty': 6437, 'cockroach': 1191, 'friend': 2332, 'highest': 2785, 'detail': 1589, 'tv': 6212, 'maiden': 3599, 'dirty': 1641, 'simultaneous': 5304, 'normals': 4064, 'wine': 6600, 'glen:': 2483, \"coaster's\": 1185, 'superdad': 5779, 'frozen': 2350, 'sucker': 5750, 'date': 1490, 'money': 3842, 'appeals': 311, 'bon-bons': 687, 'feast': 2111, 'living': 3476, 'wars': 6439, 'voice_on_transmitter:': 6383, 'instead': 3036, 'booze': 703, 'ralph_wiggum:': 4726, 'ahh': 186, 'flack': 2202, 'territorial': 5946, 'mmm-hmm': 3808, 'lotta': 3527, 'bedtime': 548, 'fonzie': 2256, 'incapable': 2978, 'diminish': 1625, 'predecessor': 4532, 'unfamiliar': 6283, 'towed': 6131, 'whale': 6513, 'ken:': 3219, 'seeing': 5128, 'connection': 1281, 'tony': 6107, 'navy': 3969, 'choked': 1100, 'decency': 1519, 'tail': 5857, 'increased': 2984, 'reward': 4880, 'mistake': 3797, 'dang': 1475, 'dumbest': 1807, 'tired': 6073, 'shakespeare': 5193, 'improv': 2972, 'medieval': 3711, 'wing': 6601, 'accepting': 99, 'exchange': 2000, 'totally': 6120, 'anguished': 275, 'glamour': 2478, 'sickly': 5280, 'thinks': 6005, 'streetcorner': 5715, 'bumpy-like': 840, 'presently': 4544, 'handwriting': 2655, 'seek': 5129, 'neat': 3975, 'huddle': 2897, 'taught': 5892, 'errrrrrr': 1959, 'meaningful': 3697, 'delivery_man:': 1554, 'skunk': 5356, 'romantic': 4933, 'carolina': 963, 'zero': 6772, 'sixty-nine': 5342, 'second': 5117, '_zander:': 72, 'intention': 3046, 'working': 6665, 'spite': 5553, 'up-bup-bup': 6310, 'adult_bart:': 140, 'chuckles': 1115, 'proper': 4613, 'muertos': 3899, 'mix': 3803, 'dough': 1729, 'though': 6022, 'team': 5902, 'quimby': 4686, 'whup': 6567, 'scram': 5090, 'month': 3850, 'larson': 3336, 'drag': 1735, 'count': 1341, 'scarf': 5065, 'disgusted': 1660, 'doof': 1717, 'raining': 4720, \"'ere\": 9, 'slapped': 5361, 'son-of-a': 5493, 'citizens': 1131, 'detecting': 1590, 'louisiana': 3535, 'celebration': 994, 'freely': 2321, 'alfred': 209, 'real': 4761, 'prank': 4525, 'drank': 1739, 'strictly': 5719, 'simplest': 5301, 'moe-near-now': 3830, 'used': 6325, 'jimmy': 3153, 'hmmmm': 2809, 's': 4989, 'mail': 3600, 'sperm': 5542, 'heartily': 2728, 'successful': 5746, 'british': 789, 'calendars': 902, 'card': 943, 'country': 1346, \"ma's\": 3577, 'shard': 5200, 'stacey': 5595, \"spaghetti-o's\": 5519, 'encouraging': 1919, 'win': 6590, 'kent': 3222, 'sorts': 5501, 'remember': 4826, 'coyly': 1368, \"here's\": 2764, 'complete': 1250, 'mention': 3727, 'punk': 4650, 'payments': 4312, 'soon': 5495, 'delicious': 1548, 'womb': 6640, 'lenny': 3386, 'elaborate': 1888, 'teenage_barney:': 5914, 'lover': 3544, 'hoax': 2814, \"sat's\": 5041, 'gargoyle': 2404, \"'morning\": 13, \"puttin'\": 4664, 'forehead': 2273, 'bar:': 475, 'avenue': 407, 'm': 3574, 'duel': 1791, 'kinda': 3252, 'above': 87, 'refinanced': 4794, 'chauffeur': 1047, 'open': 4174, 'media': 3708, 'coward': 1363, \"choosin'\": 1104, 'hootie': 2855, 'explanation': 2026, 'sister-in-law': 5326, 'favorite': 2105, 'troy': 6184, 'shag': 5188, \"won't\": 6643, 'stools': 5692, 'gangrene': 2401, 'naked': 3946, 'mac-who': 3579, 'violin': 6374, 'california': 904, 'savagely': 5049, 'rockers': 4923, 'taunting': 5893, 'hole': 2821, 'suds': 5756, 'janette': 3122, 'cash': 970, 'truck': 6187, 'tabs': 5855, 'singer': 5310, 'deserve': 1579, \"livin'\": 3475, 'outrageous': 4208, 'ooh': 4168, 'vote': 6388, 'utility': 6332, 'needed': 3984, 'key': 3227, 'jerk': 3138, 'cannoli': 925, 'evening': 1974, 'liability': 3404, 'grabs': 2529, 'fault': 2102, 'stagehand:': 5598, 'düff': 1820, 'feelings': 2119, 'meteor': 3734, 'capitol': 934, 'mellow': 3717, 'drinker': 1759, 'quite': 4691, 'form': 2284, 'marry': 3656, 'menlo': 3726, 'jeez': 3133, 'cattle': 982, \"wearin'\": 6480, 'chinua': 1089, 'elocution': 1900, 'orders': 4186, 'theater': 5976, 'cheryl': 1069, 'fellow': 2127, 'generally': 2423, 'nickel': 4023, 'ice': 2940, 'wally': 6417, 'ribbon': 4885, 'bill': 615, 'system': 5846, 'flatly': 2216, 'side:': 5282, 'honored': 2847, 'demo': 1557, 'undated': 6268, \"bringin'\": 786, \"usin'\": 6327, \"nixon's\": 4040, 'occupied': 4112, \"tatum'll\": 5891, 'ticks': 6053, 'presided': 4546, 'entrance': 1950, 'mistresses': 3800, 'bourbon': 724, 'push': 4657, 'colossal': 1215, 'stares': 5615, 'patrons': 4298, 'thirteen': 6008, 'fancy': 2081, \"listenin'\": 3462, 'bible': 607, 'sauce': 5046, 'total': 6118, 'yourself': 6762, 'airport': 196, 'gum': 2600, 'dazed': 1501, 'refiero': 4792, 'honey': 2844, 'day': 1499, 'ohhhh': 4138, 'freed': 2319, 'paintings': 4245, 'twice': 6232, 'parked': 4271, 'ads': 138, 'voted': 6389, 'taylor': 5898, 'maman': 3618, 'studio': 5733, 'plotz': 4450, 'grind': 2568, 'jubilant': 3177, 'women': 6641, 'name:': 3948, 'frink': 2340, 'crow': 1410, 'dana_scully:': 1472, 'premise': 4538, 'kiss': 3261, 'holding': 2819, 'world': 6667, 'it:': 3092, 'manjula': 3637, 'cooler': 1316, \"plank's\": 4422, 'corporate': 1324, 'sleeping': 5367, 'apartment': 305, 'confident': 1275, 'i-i-i': 2938, 'moe': 3823, 'suddenly': 5754, 'fuss': 2377, 'disgrace': 1655, 'formico': 2285, 'distinct': 1672, 'y-you': 6712, 'bluff': 674, 'barney': 488, \"he'll\": 2710, 'grubby': 2581, 'jam': 3117, 'around': 345, 'nose': 4068, 'unbelievable': 6263, \"they'd\": 5993, 'gheet': 2452, 'talk': 5866, 'chipper': 1092, 'twenty-six': 6229, 'presents': 4545, 'religious': 4819, 'created': 1387, 'means': 3700, 'childless': 1080, 'based': 507, 'offa': 4123, 'shape': 5199, 'madison': 3587, 'lurleen_lumpkin:': 3568, 'disco_stu:': 1650, 'well-wisher': 6499, 'radiator': 4699, 'go-near-': 2495, 'greatly': 2554, 'self-satisfied': 5143, 'listen': 3460, 'smelling': 5398, 'looooooooooooooooooong': 3512, 'delicately': 1547, 'calculate': 901, 'digging': 1620, 'hit': 2800, 'wayne': 6466, 'ireland': 3073, 'double': 1726, 'brightening': 782, 'plants': 4428, 'militia': 3765, 'dna': 1685, 'fatso': 2099, 'ugly': 6249, 'nucular': 4085, 'ons': 4165, 'miserable': 3790, 'ralphie': 4727, 'managing': 3631, 'black': 635, 'goods': 2514, 'stirrers': 5680, 'margarita': 3644, 'take': 5858, 'crowned': 1416, 'earlier': 1827, 'tapestry': 5882, 'chill': 1084, 'tapping': 5883, 'christian': 1108, 'ahhhh': 188, 'losing': 3521, 'represents': 4855, 'yes': 6737, 'billion': 620, 'sizes': 5344, 'to': 6076, 'dumb-asses': 1804, 'kucinich': 3300, 'effigy': 1867, 'horrified': 2865, 'malibu': 3615, 'catch-phrase': 978, \"valentine's\": 6336, 'jets': 3147, \"that's\": 5970, 'moonshine': 3858, 'yourse': 6761, 'bring': 785, \"they're\": 5995, 'ten': 5932, '2': 34, 'her': 2762, 'yogurt': 6744, 'brewed': 774, 'normal': 4063, 'envy-tations': 1953, 'boxing': 736, 'pocket': 4458, '_timothy_lovejoy:': 71, 'manatee': 3632, 'ride': 4893, 'man': 3620, 'cheaped': 1050, \"hell's\": 2748, 'wraps': 6688, 'a-b-': 75, \"o'reilly\": 4100, 'illegally': 2958, 'fritz:': 2343, 'reviews': 4879, 'playing': 4440, 'open-casket': 4175, 'happiness': 2673, 'convenient': 1307, 'indecipherable': 2989, 'good': 2510, 'wakede': 6408, \"knockin'\": 3280, 'earpiece': 1829, 'sternly': 5662, 'ruin': 4967, 'gentlemen': 2431, 'wrote': 6700, 'hourly': 2883, 'junebug': 3192, 'aer': 147, 'traitors': 6148, 'standing': 5612, 'klown': 3270, 'mexicans': 3738, 'starla:': 5618, 'minutes': 3784, 'uneasy': 6280, \"mtv's\": 3896, 'fast-food': 2090, 'forty-two': 2294, 'teach': 5899, 'correct': 1327, 'guzzles': 2617, 'bedridden': 546, \"how'd\": 2890, \"homer'll\": 2833, \"brady's\": 744, 'snatch': 5428, 'nelson_muntz:': 3997, 'sheriff': 5220, 'shtick': 5269, 'cadillac': 895, 'otherwise': 4199, 'joint': 3168, 'ruint': 4969, 'bums': 841, 'sympathy': 5841, 'tense': 5935, 'do': 1686, 'tons': 6106, 'march': 3642, 'judge': 3179, 'started': 5622, 'products': 4595, 'pancakes': 4253, 'alone': 229, 'champion': 1019, 'agent_miller:': 170, 'nasty': 3961, 'journey': 3173, 'broncos': 799, 'strokkur': 5724, 'everywhere': 1985, 'lips': 3451, 'expensive': 2018, \"cheerin'\": 1061, 'its': 3097, 'tofu': 6083, 'late': 3339, 'elephants': 1893, \"wife's\": 6575, 'mabel': 3578, 'earrings': 1830, 'regret': 4802, 'killjoy': 3248, 'lied': 3413, 'gay': 2415, 'online': 4163, 'clipped': 1162, 'selma': 5148, 'situation': 5336, 'usually': 6330, 'was': 6440, 'fox': 2305, 'oblongata': 4105, 'wiggle-frowns': 6578, 'nap': 3953, 'broken': 796, 'darjeeling': 1481, 'keep': 3213, 'tubman': 6201, 'center': 1001, 'depending': 1569, 'peeping': 4321, 'dirt': 1640, 'tongue': 6102, 'threw': 6037, 'chug-monkeys': 1119, 'stamps': 5608, 'darts': 1486, 'when': 6531, 'deeply': 1532, 'fall': 2070, 'politicians': 4484, 'voters': 6390, 'opening': 4176, \"hobo's\": 2816, 'heaven': 2735, 'forty-five': 2291, 'bret': 772, \"soakin's\": 5449, 'bastard': 512, 'alternative': 237, 'sloppy': 5384, 'homer_simpson:': 2838, 'grandmother': 2542, 'daughter': 1494, 'species': 5530, 'buddha': 818, 'friendly': 2335, 'barely': 480, 'sloe': 5381, 'paid': 4238, 'wrestling': 6692, 'including': 2982, 'jump': 3189, 'ahem': 185, 'ref': 4790, 'xx': 6707, 'stevie': 5663, 'understood:': 6276, 'bachelorhood': 435, 'admit': 134, 'lifts': 3426, 'passenger': 4284, \"toot's\": 6111, 'rapidly': 4733, 'closes': 1169, 'suits': 5766, 'resolution': 4864, 'rusty': 4986, 'clincher': 1160, 'collapse': 1206, 'john': 3162, 'listens': 3464, 'age': 164, 'minute': 3783, 'ratted': 4744, 'spit-backs': 5552, 'bank': 466, 'rugged': 4966, 'hanging': 2659, 'waylon_smithers:': 6465, 'liable': 3405, 'round': 4949, 'legs': 3379, 'news': 4011, 'sucking': 5751, 'binoculars': 624, \"she'll\": 5211, 'served': 5170, \"industry's\": 2999, 'sniper': 5437, 'eight-year-old': 1877, 'results': 4872, 'damage': 1464, 'tablecloth': 5853, 'gambler': 2395, 'heck': 2740, 'unusual': 6307, 'squeals': 5585, 'umm': 6256, 'seconds': 5118, 'conditioner': 1268, 'slow': 5386, \"buyin'\": 881, 'they': 5992, 'impress': 2970, 'rafters': 4705, 'tip': 6069, 'willy': 6589, \"ladies'\": 3311, 'clearly': 1152, 'gal': 2391, 'died': 1612, 'oak': 4101, 'knows': 3287, 'soot': 5498, 'jackass': 3106, 'foot': 2262, 'nail': 3943, 'talkative': 5868, 'scared': 5064, 'drollery': 1771, 'badmouths': 449, 'trashed': 6156, 'sober': 5455, 'man_with_crazy_beard:': 3626, 'wash': 6441, 'single-mindedness': 5316, 'kodos:': 3290, 'hang': 2657, 'counterfeit': 1343, 'comfortable': 1226, 'ripcord': 4908, 'radio': 4701, 'depressed': 1572, 'rocks': 4924, 'thunder': 6049, 'rag': 4706, 'kentucky': 3224, 'zack': 6769, '1-800-555-hugs': 27, 'american': 252, 'michael': 3742, 'ignorance': 2953, 'treats': 6161, 'windshield': 6599, '_powers:': 70, 'jacksons': 3111, 'pursue': 4654, 'cheat': 1053, 'wife-swapping': 6576, 'vampires': 6341, 'low-life': 3550, 'huhza': 2904, 'puff': 4633, 'settlement': 5176, 'short': 5240, 'disappointment': 1646, 'admiration': 131, 'diapers': 1603, 'his': 2797, 'belong': 585, 'train': 6144, 'pews': 4358, 'skinheads': 5350, 'lovejoy': 3541, 'ready': 4760, 'luv': 3571, 'vengeance': 6348, 'chair': 1013, 'self': 5139, 'sanctuary': 5027, 'seemed': 5131, 'awww': 422, 'hispanic_crowd:': 2798, \"edna's\": 1858, 'string': 5720, 'privacy': 4581, 'lives': 3474, 'ominous': 4152, 'partners': 4279, 'advice': 146, 'washer': 6443, \"haven't\": 2700, 'north': 4065, 'horrors': 2867, '__dash__': 53, 'sesame': 5172, 'camp': 916, 'newsletter': 4013, 'defeated': 1534, 'collateral': 1207, 'swe-ee-ee-ee-eet': 5813, 'sneak': 5429, 'innocuous': 3020, 'before': 562, 'torn': 6115, 'bride': 776, 'haws': 2707, 'wealthy': 6477, 'slice': 5371, 'smithers': 5406, 'approval': 323, 'gals': 2393, 'groveling': 2576, 'sickened': 5278, 'must': 3928, 'strategizing': 5711, 'crystal': 1425, 'sees': 5134, 'congratulations': 1280, 'groin': 2572, 'glass': 2479, 'labels': 3306, 'kim_basinger:': 3250, 'singing': 5313, 'multiple': 3908, 'miss_lois_pennycandy:': 3793, 'sadly': 5002, 'exits': 2014, 'criminal': 1400, 'hunting': 2915, 'eva': 1970, 'placing': 4416, 'gayer': 2416, 'numeral': 4091, 'steaming': 5652, 'emporium': 1913, 'cooker': 1312, 'become': 543, 'decide:': 1522, 'contemplated': 1295, 'higher': 2784, 'defiantly': 1537, 'rhyme': 4884, 'cotton': 1334, 'loser': 3519, 'student': 5731, 'upon': 6315, 'backbone': 437, 'swear': 5814, 'nemo': 3998, \"cleanin'\": 1148, 'dealie': 1510, \"men's\": 3722, 'fantasy': 2085, \"moe's\": 3824, 'hour': 2882, 'enemies': 1925, 'games': 2398, 'ginger': 2468, 'hooters': 2854, 'view': 6367, 'babar': 429, 'plus': 4456, 'awed': 415, 'reynolds': 4882, 'queer': 4678, 'save': 5050, 'courthouse': 1356, 'die-hard': 1611, 'sat': 5040, 'quit': 4689, 'knocked': 3279, 'professor_jonathan_frink:': 4599, 'position': 4505, 'halloween': 2639, 'dislike': 1664, 'most:': 3870, 'smoke': 5408, 'carll': 956, 'amber': 245, 'sang': 5029, 'grain': 2532, 'boozebag': 705, 'playoff': 4441, 'puffy': 4634, 'brothers': 805, 'supplying': 5787, 'elizabeth': 1897, 'dumb': 1803, 'patron_#1:': 4296, 'involving': 3069, 'meant': 3701, 'dignified': 1621, 'cheery': 1065, 'scrubbing': 5099, \"feelin's\": 2117, 'snow': 5444, 'if': 2952, 'tv_announcer:': 6216, 'nibble': 4018, 'fierce': 2145, 'hockey-fight': 2817, 'scooter': 5083, 'jewish': 3149, 'simp-sonnnn': 5299, 'incredible': 2986, \"costume's\": 1333, 'amends': 249, 'cats': 981, 'yammering': 6716, 'thesaurus': 5990, 'again': 162, 'england': 1930, 'odd': 4118, 'knives': 3276, 'something': 5485, 'poking': 4477, 'aghast': 176, 'sharps': 5207, 'screams': 5095, 'peaked': 4317, 'drawer': 1742, 'shipment': 5226, 'recreate': 4784, 'panties': 4256, 'braun:': 757, 'tying': 6238, 'investigating': 3062, 'red': 4787, 'partly': 4277, 'nurse': 4092, 'return': 4875, 'karaoke': 3207, 'barflies:': 483, 'naval': 3968, 'tied': 6056, 'writing': 6697, 'parasol': 4265, 'hemoglobin': 2758, 'schabadoo': 5070, \"city's\": 1133, 'feels': 2120, 'guttural': 2613, 'mis-statement': 3788, 'neil_gaiman:': 3993, 'fireworks': 2185, 'can': 918, 'maybe': 3681, 'finance': 2168, 'perverted': 4353, 'lookalike:': 3506, 'tonight': 6104, 'decent': 1520, 'sideshow_bob:': 5286, 'brassiest': 756, 'furiously': 2372, 'brandy': 754, 'dallas': 1463, 'replaced': 4851, 'elite': 1896, 'writer:': 6694, 'instantly': 3035, 'gel': 2421, 'technical': 5909, \"o'problem\": 4099, 'slightly': 5374, 'toledo': 6089, 'by': 885, 'upn': 6314, \"dimwit's\": 1627, 'break': 761, 'fever': 2138, 'bubbles-in-my-nose-y': 815, 'cherry': 1068, 'puke': 4636, 'vigilante': 6368, 'crinkly': 1401, 'flash-fry': 2212, 'showed': 5257, 'convinced': 1311, 'sweetheart': 5822, 'poster': 4510, 'indigenous': 2996, 'yells': 6734, 'scoffs': 5082, 'located': 3490, 'swelling': 5826, 'mmmm': 3809, 'sink': 5319, 'gorgeous': 2518, 'wonderful': 6646, 'neon': 3999, 'eighty-seven': 1882, \"rustlin'\": 4985, 'eightball': 1878, 'champs': 1021, 'limber': 3435, 'concerned': 1265, 'outlook': 4207, 'startled': 5626, 'rhode': 4883, 'pair': 4247, 'authenticity': 400, 'lucky': 3561, 'sucks': 5752, 'chance': 1022, 'breaks': 767, 'broadway': 791, 'slurred': 5389, 'customer': 1444, 'negative': 3987, 'pontiff': 4489, 'shopping': 5238, 'albert': 202, \"c'mon\": 891, 'famous': 2078, 'morning': 3863, 'strategy': 5712, 'lisa_simpson:': 3456, \"today's\": 6080, 'flat': 2215, 'sue': 5757, 'beer': 555, 'steampunk': 5653, 'newsies': 4012, 'benjamin': 592, 'winnings': 6606, 'duffman:': 1798, 'howya': 2894, 'fit': 2195, 'prints': 4578, 'am': 241, 'ron_howard:': 4936, 'sigh': 5289, 'led': 3369, 'nope': 4060, 'difference': 1616, 'sodas': 5464, 'awesome': 416, 'ask': 360, 'solves': 5473, 'shindig': 5225, 'awe': 414, 'allowed': 224, 'load': 3480, 'show': 5254, 'dry': 1785, 'musical': 3924, 'louie:': 3534, 'moe-heads': 3828, 'idea': 2944, 'afloat': 154, 'prize': 4583, 'metal': 3733, 'sideshow_mel:': 5287, 'enthused': 1945, 'crisis': 1403, 'pushes': 4658, 'flea:': 2218, 'thrust': 6047, 'hydrant': 2924, 'punches': 4647, 'tradition': 6139, 'duh': 1799, 'james': 3119, 'johnny_carson:': 3164, 'guest': 2592, 'ow': 4219, 'mediterranean': 3713, 'code': 1196, \"somethin's\": 5484, 'military': 3764, 'effervescent': 1866, 'disdainful': 1654, 'kicks': 3233, 'powered': 4519, '$42': 0, 'speech': 5534, 'pulling': 4643, 'je': 3130, 'turn': 6208, 'whoo': 6563, 'wagering': 6401, 'raccoons': 4695, 'blackjack': 636, 'rump': 4976, 'actors': 118, 'iddilies': 2943, 'kills': 3249, 'failed': 2061, 'across': 112, 'argue': 335, 'behind': 572, 'nantucket': 3952, 'winston': 6609, 'little_hibbert_girl:': 3469, 'shotgun': 5245, 'cruiser': 1419, 'helping': 2755, 'completing': 1252, 'bursts': 856, 'indicates': 2993, 'fold': 2246, 'straining': 5706, 'dollars': 1699, 'macho': 3584, 'but': 870, 'guts': 2612, 'wobbly': 6630, 'dame': 1465, 'schmoe': 5074, 'combine': 1219, 'ear': 1826, 'really': 4766, \"'evening\": 10, 'cops': 1318, \"ridin'\": 4895, 'dateline:': 1492, 'poison': 4472, 'mayor': 3682, \"ball's\": 457, 'game': 2396, 'w': 6394, 'sinkhole': 5320, 'remaining': 4824, 'this:': 6016, 'ya': 6713, 'jackson': 3110, \"it's\": 3091, 'teen': 5912, 'modest': 3821, 'landlord': 3323, 'fourteen:': 2303, 'twentieth': 6224, 'loaded': 3481, 'unlike': 6299, '100': 28, 'wangs': 6423, 'tiny': 6068, \"mo'\": 3811, 'inspired': 3032, 'wiggle': 6577, 'brother': 802, 'sweetie': 5823, 'coach:': 1181, 'necklace': 3979, 'africanized': 158, 'title:': 6075, 'rome': 4934, 'diablo': 1599, 'tasimeter': 5886, 'copy': 1319, 'mike': 3757, 'texan': 5955, 'plum': 4454, 'tobacky': 6078, 'mad': 3585, 'guys': 2616, 'groans': 2570, 'massive': 3666, 'melodramatic': 3718, 'interested': 3047, 'shall': 5196, 'singing/pushing': 5314, 'rat': 4738, 'habitrail': 2622, 'adequate': 127, 'beers': 560, 'isle': 3083, 'feedbag': 2115, 'explain': 2024, 'except': 1998, 'season': 5111, 'sit': 5329, 'begin': 568, 'seductive': 5125, 'specific': 5531, 'anywhere': 303, 'beached': 523, 'drivers': 1767, 'decadent': 1518, 'social': 5459, 'f-l-a-n-r-d-s': 2048, 'star': 5614, 'stuck': 5730, 'drunkenly': 1783, 'loss': 3522, 'muhammad': 3903, 'crying': 1424, 'lainie:': 3318, \"can't\": 919, 'bottles': 717, 'contented': 1299, 'cheer': 1058, 'slaves': 5363, 'fist': 2193, 'movie': 3888, 'dearest': 1515, 'eco-fraud': 1849, 'son': 5491, 'order': 4184, 'updated': 6312, 'dejected': 1539, 'certain': 1006, '91': 50, 'blood-thirsty': 661, 'andy': 270, 'k': 3200, 'voicemail': 6384, 'cup': 1433, 'gas': 2408, 'pronto': 4611, 'burt': 857, 'unintelligent': 6292, 'lobster': 3486, \"bart'd\": 497, 'dutch': 1814, 'summer': 5768, 'gentle': 2428, 'chain': 1011, 'kindly': 3254, 'surgeonnn': 5794, 'hundreds': 2909, 'turns': 6211, 'belly': 582, 'folks': 2248, 'trench': 6168, 'comes': 1225, 'application': 317, 'european': 1968, 'horror': 2866, 'sneaky': 5430, 'pusillanimous': 4660, 'tourist': 6126, '14': 30, 'unavailable': 6262, 'blank': 641, 'swan': 5811, 'books': 701, 'loyal': 3554, 'years': 6726, 'choose': 1103, 'savings': 5053, 'dating': 1493, 'job': 3154, 'running': 4980, 'mystery': 3936, 'counter': 1342, \"team's\": 5903, 'dismissive': 1665, 'test-': 5950, 'took': 6110, 'letter': 3400, 'eliminate': 1895, 'odor': 4120, '7-year-old_brockman:': 46, 'bit': 629, 'sledge-hammer': 5365, 'wa': 6396, 'having': 2702, 'test-lady': 5951, 'reaching': 4750, 'courage': 1352, 'cauliflower': 985, 'intruding': 3060, 'agent_johnson:': 169, 'at': 379, 'idiots': 2951, 'life:': 3420, \"starla's\": 5617, 'extra': 2034, 'utensils': 6331, 'lecture': 3368, 'brakes': 752, 'lying': 3573, 'disposal': 1668, 'ails': 192, 'threatening': 6034, 'wacky': 6397, 'ura': 6318, \"must've\": 3929, 'things': 6001, 'arms': 343, 'doubt': 1727, 'reunion': 4876, 'wondering': 6648, 'bad': 443, 'blobbo': 657, 'packets': 4231, 'ass': 366, 'equivalent': 1955, 'reading:': 4758, 'covers': 1361, 'weirder': 6496, 'blinds': 653, 'off': 4122, 'changed': 1024, 'espousing': 1963, 'chastity': 1045, 'presidents': 4550, 'angrily': 273, 'woo-hoo': 6650, 'kidnaps': 3238, 'joey_kramer:': 3160, 'don': 1704, 'felt': 2129, 'jukebox': 3185, 'avec': 406, 'defensive': 1536, 'health_inspector:': 2719, 'belt': 587, 'remorseful': 4833, 'experiments': 2021, 'saturday': 5045, 'verdict': 6353, 'sincere': 5306, 'milhouses': 3763, \"coffee'll\": 1198, \"eatin'\": 1844, 'aunt': 399, 'tap': 5878, 'desperately': 1585, 'o': 4096, 'toms': 6099, 'insightful': 3027, 'nervous': 4002, 'while': 6540, 'caricature': 951, 'tank': 5875, '21': 35, 'jeff': 3134, 'regretted': 4804, '_julius_hibbert:': 66, 'supermodel': 5783, 'parents': 4268, 'and': 263, 'and:': 266, 'annoyed': 280, 'gin': 2466, 'bell': 581, 'assert': 369, 'examines': 1992, 'faint': 2063, 'candles': 923, 'labor': 3307, 'nor': 4061, 'had': 2623, 'telling': 5924, 'early': 1828, 'lists': 3465, 'bunch': 842, 'label': 3305, 'acquitted': 110, 'bathing': 514, 'bed': 544, 'opens': 4177, 'stool': 5691, \"how're\": 2891, 'gig': 2459, 'steal': 5647, 'duff': 1793, 'popping': 4498, 'serious': 5166, 'thumb': 6048, 'canyonero': 930, 'kick-ass': 3230, 'dispenser': 1666, 'beneath': 590, 'co-sign': 1180, 'charity': 1038, 'cute': 1448, 'continued': 1301, 'hear': 2721, 'proud': 4621, 'sweden': 5818, 'haikus': 2627, 'jail': 3115, 'cozies': 1369, 'spews': 5543, \"drawin'\": 1743, 'punishment': 4649, \"tony's\": 6108, \"ol'\": 4144, 'toxins': 6134, \"dyin'\": 1816, 'sprawl': 5572, 'gordon': 2516, 'alibi': 211, 'gruesome': 2583, \"someone's\": 5480, 'rug': 4965, 'pop': 4493, 'cuff': 1430, 'evergreen': 1978, 'kwik-e-mart': 3301, 'shells': 5219, 'craphole': 1378, 'tolerance': 6091, 'homunculus': 2842, 'shrugging': 5267, 'watashi': 6450, 'startup': 5628, \"brockman's\": 794, 'heh-heh': 2742, 'hollowed-out': 2825, 'my-y-y-y-y-y': 3934, 'carlson': 958, 'sanitary': 5031, 'hungry': 2911, 'hair': 2629, \"snappin'\": 5425, 'these': 5991, \"this'll\": 6015, 'stab': 5593, 'befriend': 564, 'sidelines': 5284, 'manager': 3630, 'muttering': 3932, 'apology': 307, 'twenty-five': 6226, 'joined': 3166, 'ze-ro': 6770, 'misfire': 3791, 'montrer': 3852, 'stained-glass': 5601, 'nature': 3965, 'coat': 1186, 'mob': 3814, 'achem': 108, 'pepsi': 4333, 'somebody': 5475, 'awful': 417, 'extremely': 2037, 'troll': 6179, 'helps': 2757, 'carney': 960, 'bouquet': 723, 'bathtub': 516, 'coming': 1231, 'lush': 3569, \"showin'\": 5260, \"car's\": 940, 'twins': 6234, 'text': 5957, 'hat': 2692, 'mind': 3771, 'uh-oh': 6252, 'wieners': 6572, 'links': 3449, 'pressure': 4553, 'skinny': 5352, 'occupation': 4111, 'salad': 5016, 'fontaine': 2255, 'prices': 4568, 'scene': 5068, 'culkin': 1431, 'prejudice': 4536, \"'your\": 23, 'perking': 4344, 'make': 3606, 'heart-broken': 2727, 'left': 3371, 'fatty': 2100, 'brockelstein': 792, '50%': 42, 'elves:': 1902, \"startin'\": 5624, 'meatpies': 3705, 'country-fried': 1347, 'quarterback': 4674, 'vehicle': 6347, 'junkyard': 3194, 'seminar': 5151, 'weekend': 6489, 'least': 3363, 'dean': 1513, 'getaway': 2443, \"meanin'\": 3695, 'tomato': 6094, 'practice': 4523, 'sitting': 5335, 'stairs': 5602, 'home': 2829, 'give': 2473, 'fourth': 2304, 'advertising': 145, 'store-bought': 5697, 'housing': 2888, 'admiring': 133, 'theatrical': 5977, 'four': 2300, 'toys': 6136, 'salary': 5017, 'david': 1496, 'maya:': 3679, 'horribilis': 2863, 'sam:': 5023, 'laramie': 3330, 'vegas': 6346, 'impeach': 2966, 'loud': 3531, 'watched': 6452, 'jokes': 3170, 'germany': 2438, 'election': 1891, 'wells': 6500, 'jazz': 3129, 'keys': 3228, 'carl_carlson:': 955, 'kenny': 3221, 'daddy': 1460, 'sensitivity': 5160, 'i/you': 2939, 'finest': 2173, 'dea-d-d-dead': 1504, 'flaming': 2208, 'improved': 2973, 'pregnancy': 4535, 'choked-up': 1101, 'woozy': 6656, 'fondly': 2254, 'notch': 4071, 'she': 5209, 'grrrreetings': 2579, 'pretzels': 4565, 'adeleine': 126, 'bounced': 722, 'marjorie': 3650, 'eurotrash': 1969, 'pre-columbian': 4528, 'booger': 696, 'mice': 3741, 'helen': 2744, 'signed': 5295, 'item': 3095, 'done:': 1712, 'stripe': 5721, 'bust': 867, 'rash': 4735, 'courts': 1357, 'aging': 177, 'moan': 3812, 'invite': 3066, 'crazy': 1385, 'resenting': 4859, 'hmm': 2807, 'meditative': 3712, 'twenty-two': 6230, 'rumaki': 4973, 'certainly': 1007, 'gulps': 2599, 'susie-q': 5802, 'stinky': 5678, 'clock': 1164, 'using': 6328, 'straight': 5703, 'sincerely': 5307, 'theory': 5984, '__quotation_mark__': 58, 'serve': 5169, 'asleep': 365, 'trees': 6166, 'attractive': 392, 'museum': 3921, 'gardens': 2403, 'nice': 4019, 'deadly': 1507, 'microwave': 3749, 'lovers': 3545, 'wind': 6593, 'blue': 672, 'allowance': 223, 'rancid': 4730, 'record': 4781, 'enjoys': 1938, 'ron': 4935, 'waist': 6402, 'gestated': 2440, 'hate': 2693, 'assent': 368, \"tramp's\": 6149, 'stretches': 5718, 'skeptical': 5345, 'stepped': 5660, 'welcome': 6497, \"one's\": 4158, 'inherent': 3014, 'helpless': 2756, 'glee': 2481, 'guess': 2590, 'acronyms': 111, 'unattractive': 6261, 'à': 6778, 'trip': 6175, 'craft': 1374, 'grumpy': 2586, 'word': 6657, 'abe': 81, 'socratic': 5463, 'last': 3338, 'ollie': 4150, 'so-ng': 5447, 'southern': 5514, 'bowled': 728, 'drawn': 1745, 'dreary': 1750, 'ideal': 2946, 'clams': 1138, 'genius': 2427, 'she-pu': 5213, 'past': 4288, 'sharing': 5204, 'juice': 3183, 'edner': 1861, 'anniversary': 278, \"beer's\": 556, 'unless': 6298, 'saying': 5058, 'itself': 3098, 'geysir': 2451, \"shootin'\": 5234, \"lisa's\": 3455, \"somethin'\": 5482, 'patty': 4303, 'mortal': 3867, 'sieben-gruben': 5288, 'academy': 94, 'tv-station_announcer:': 6215, 'espn': 1962, 'delivery_boy:': 1553, 'cajun': 898, 'list': 3459, 'alva': 239, 'sustain': 5808, 'clubs': 1179, 'forgot': 2281, 'romance': 4932, 'lovelorn': 3542, \"friend's\": 2333, 'told': 6088, 'geyser': 2450, 'cowardly': 1364, 'teacher': 5900, 'barney-guarding': 490, 'tom': 6092, 'tuna': 6204, 'stagy': 5600, 'marshmallow': 3657, 'radical': 4700, 'badges': 446, 'hiding': 2779, \"burnin'\": 850, 'wiping': 6612, 'silent': 5297, 'ring': 4903, 'matter': 3672, 'is:': 3081, 'castle': 973, 'doctor': 1687, 'ding-a-ding-ding-a-ding-ding': 1628, 'puzzled': 4668, 'scrutinizing': 5102, \"queen's\": 4677, 'frankenstein': 2309, 'timbuk-tee': 6061, 'barney-shaped_form:': 491, 'arts': 355, 'interrupting': 3051, 'pinchpenny': 4398, 'dank': 1479, \"robbin'\": 4919, 'gimme': 2463, 'birthday': 627, 'chunk': 1122, 'repressed': 4856, 'wish': 6616, \"games'd\": 2399, 'sea': 5106, 'homer': 2832, 'vestigial': 6358, 'gallon': 2392, 'barkeep': 485, 'tyson/secretariat': 6242, 'november': 4081, 'weekly': 6490, 'wishing': 6620, 'sagely': 5010, 'shares': 5203, 'frazier': 2314, \"talkin'\": 5871, 'life-partner': 3417, 'cool': 1315, 'cheerleaders:': 1063, 'excellent': 1997, 'ironed': 3076, 'cliff': 1159, 'kansas': 3206, 'puke-holes': 4637, 'flush': 2235, 'married': 3655, 'work': 6661, 'cigars': 1129, 'unhappy': 6288, 'correcting': 1328, 'brings': 787, 'slip': 5376, \"wallet's\": 6416, 'suing': 5764, 'inclination': 2981, 'u': 6243, 'ninety-eight': 4034, 'mirthless': 3787, 'lemonade': 3382, 'brought': 806, 'al': 198, 'ali': 210, 'bail': 453, 'week': 6488, 'irs': 3079, 'eighteen': 1879, 'grandiose': 2540, 'seems': 5132, 'inquiries': 3021, \"payin'\": 4310, 'pitcher': 4410, 'farthest': 2088, 'hats': 2698, 'america': 250, 'humanity': 2906, 'trash': 6155, 'heh': 2741, 'curious': 1439, 'shower': 5258, 'sniffs': 5436, 'emergency': 1906, 'eager': 1825, 'murdoch': 3915, 'mccarthy': 3686, 'leno': 3391, 'emotion': 1908, 'anthony_kiedis:': 290, 'attitude': 389, 'customers-slash-only': 1446, 'maintenance': 3602, 'whenever': 6534, 'billboard': 617, 'jogging': 3161, 'another': 285, \"'round\": 18, 'designer': 1582, 'rather': 4740, 'swine': 5832, 'fortress': 2288, 'classy': 1144, 'of': 4121, 'surprise': 5796, 'who': 6553, 'ling': 3446, 'principal': 4576, 'blessing': 648, 'moustache': 3882, 'supply': 5786, 'chick': 1074, \"he'd\": 2709, 'photo': 4370, 'husband': 2920, 'impatient': 2965, 'each': 1824, 'transfer': 6150, 'awfully': 418, 'kay': 3209, 'woe:': 6631, \"cashin'\": 971, 'resist': 4863, 'sticker': 5666, 'astronaut': 377, 'fired': 2183, 'choke': 1099, 'mathis': 3671, 'flustered': 2237, 'stumble': 5735, 'suffering': 5759, 'states': 5632, 'evil': 1986, 'dies': 1613, 'neighbor': 3988, \"y'see\": 6711, 'gums': 2603, 'pilsner-pusher': 4395, 'worry': 6673, 'happen': 2667, 'this': 6014, 'universe': 6295, 'attractive_woman_#2:': 394, 'initially': 3015, 'suspiciously': 5807, \"wonderin'\": 6647, 'road': 4916, 'call': 905, 'nicer': 4020, 'field': 2144, 'yourselves': 6763, 'boozy': 708, 'x-men': 6705, 'seriously': 5167, 'nordiques': 4062, 'market': 3651, 'nascar': 3959, \"somethin':\": 5483, 'ago': 179, 'rupert_murdoch:': 4983, 'los': 3517, 'stole': 5684, 'wipe': 6610, 'declare': 1527, 'remembers': 4829, 'switched': 5837, 'fustigate': 2378, 'scam': 5060, 'boston': 712, 'knew': 3273, 'crowd:': 1413, 'start': 5621, 'said:': 5013, 'repay': 4847, 'lotsa': 3526, 'then': 5982, 'insist': 3028, 'thighs': 5997, 'woodchucks': 6652, 'fat': 2093, 'perverse': 4352, 'barkeeps': 486, 'hearts': 2730, 'borrow': 711, 'eaters': 1843, 'kickoff': 3232, 'ale': 206, 'alpha-crow': 231, 'commanding': 1232, 'quero': 4679, 'room': 4940, 'best': 595, 'coincidentally': 1201, 'jolly': 3172, 'wedding': 6486, 'eggshell': 1870, 'flashbacks': 2213, 'lodge': 3494, 'wudgy': 6701, 'sealed': 5107, 'leak': 3357, 'hospital': 2870, 'ignorant': 2954, 'spender': 5539, 'forced': 2270, 'ineffective': 3000, 'cousin': 1358, 'wanted': 6427, 'chest': 1070, 'brag': 745, \"getting'\": 2448, 'zoomed': 6777, 'life-threatening': 3419, 'concentrate': 1264, 'bleeding': 645, 'self-made': 5142, 'delete': 1542, 'western': 6506, \"year's\": 6725, 'thought_bubble_lenny:': 6026, 'pal': 4249, 'swishkabobs': 5835, 'beam': 525, 'plucked': 4452, 'comment': 1233, 'plans': 4425, 'glowers': 2489, 'ing': 3010, 'or': 4183, 'force': 2269, 'anarchy': 260, 'shrugs': 5268, 'veux': 6360, 'barter': 504, 'pian-ee': 4375, 'scum-sucking': 5105, \"bar's\": 473, 'option': 4181, 'value': 6339, 'numbers': 4090, 'hyahh': 2923, 'out': 4205, 'frosty': 2349, 'buy': 879, \"floatin'\": 2226, 'cocoa': 1195, 'dancing': 1474, \"england's\": 1931, 'sponge': 5560, 'grenky': 2558, 'scientists': 5081, 'sack': 4996, 'charged': 1036, 'court': 1354, \"pullin'\": 4642, 'pointing': 4468, 'gol-dangit': 2502, 'buffet': 824, 'goo': 2509, 'thirty-five': 6010, \"couldn't\": 1340, \"thinkin'\": 6003, 'souped': 5510, 'acquaintance': 109, 'graveyard': 2550, 'skoal': 5355, 'mmmmm': 3810, 'fudd': 2355, 'marriage': 3654, 'hose': 2869, 'bret:': 773, 'drunkening': 1782, 'problem': 4587, 'accurate': 105, 'aerospace': 149, 'costume': 1332, 'drunks': 1784, 'engine': 1929, 'belches': 577, \"'er\": 8, 'fortune': 2289, 'resigned': 4862, 'everyday': 1981, 'nickels': 4024, 'wave': 6461, 'wore': 6660, 'committing': 1237, 'place': 4414, 'provide': 4625, 'hero': 2766, 'easygoing': 1840, 'leave': 3365, 'tender': 5933, 'shot': 5244, 'infestation': 3003, 'indifference': 2994, 'car': 939, 'etc': 1965, 'sense': 5158, 'appreciate': 320, 'wad': 6398, 'rebuilt': 4770, 'about': 86, 'temple': 5928, 'a-lug': 76, 'gasps': 2411, 'proof': 4612, 'finger': 2174, 'guard': 2589, '35': 39, 'crunch': 1422, 'lost': 3523, 'cobbling': 1187, 'skydiving': 5358, 'mexican': 3736, 'church': 1124, 'drummer': 1780, 'goes': 2499, 'vacuum': 6335, 'uses': 6326, 'poker': 4476, 'hates': 2697, 'be-stainèd': 521, 'paparazzo': 4261, 'terrible': 5942, \"what'll\": 6517, 'hunky': 2913, 'jack': 3104, 'poet': 4461, 'swings': 5833, 'ugliness': 6248, 'connor-politan': 1283, 'society': 5461, 'sobo': 5456, 'mansions': 3639, 'tiger': 6057, 'runners': 4979, 'park': 4270, 'wake': 6407, 'sistine': 5328, 'lennyy': 3390, 'betrayed': 598, 'publish': 4629, 'aziz': 425, 'loboto-moth': 3485, 'why': 6568, 'scrutinizes': 5101, 'frogs': 2345, 'fight': 2149, 'glitz': 2485, 'issuing': 3087, 'breakfast': 764, 'all-star': 218, 'taking': 5864, 'stooges': 5690, \"hawkin'\": 2705, 'huggenkiss': 2900, 'ways': 6468, 'bitterly': 634, 'acting': 114, '__return__': 59, 'lookalike': 3505, 'suspenders': 5805, 'comedies': 1223, 'contractors': 1305, 'thirty': 6009, 'inside': 3026, 'milk': 3766, 'maya': 3678, 'miles': 3760, 'sniffing': 5434, 'excited': 2002, 'haw': 2703, 'sunk': 5773, 'beat': 533, 'ancestors': 261, 'luckiest': 3559, 'dinner': 1632, 'remains': 4825, \"d'ya\": 1456, 'together': 6084, 'remembered': 4827, 'recorder': 4783, 'toward': 6130, 'struggling': 5728, 'hidden': 2776, 'feet': 2121, 'superior': 5781, 'saving': 5052, 'barney_gumble:': 493, 'yard': 6718, 'fingers': 2175, 'sec': 5114, 'after': 159, 'greystash': 2560, 'refreshingness': 4798, 'fair': 2065, 'firing': 2186, 'enemy': 1926, 'ballot': 461, 'hillary': 2789, 'beverage': 605, 'th': 5958, 'bartending': 503, 'stinger': 5673, 'fears': 2110, 'mean': 3694, 'gargoyles': 2405, 'barf': 481, 'gator': 2412, 'outs': 4209, \"bartender's\": 501, 'love': 3538, 'lipo': 3450, 'heads': 2716, 'gutenberg': 2611, 'cheers': 1064, 'bugs': 826, 'tuborg': 6202, 'stink': 5675, 'power': 4518, 'roy': 4954, 'picnic': 4384, 'canyoner-oooo': 929, 'hairs': 2631, \"'cept\": 5, 'bread': 760, 'democrats': 1559, 'crimes': 1399, \"'em\": 7, 'artie_ziff:': 353, 'glorious': 2487, 'understand': 6273, 'talk-sings': 5867, 'arguing': 336, 'ned_flanders:': 3982, '_kissingher:': 67, 'bigger': 612, 'suspicious': 5806, 'burger': 846, \"everyone's\": 1983, 'regretful': 4803, 'grade': 2531, 'dunno': 1812, 'diving': 1681, 'astronauts': 378, 'buzziness': 884, \"renee's\": 4837, 'frankie': 2310, 'pillows': 4393, 'semi-imported': 5150, 'hall': 2638, 'burn': 849, 'darkness': 1484, 'knowledge': 3285, 'wenceslas': 6501, 'sight-unseen': 5292, 'beady': 524, 'looking': 3510, \"bein'\": 573, 'bono': 693, 'chili': 1083, \"makin'\": 3609, 'special': 5526, 'offshoot': 4132, 'beards': 530, 'bathed': 513, 'intimacy': 3053, 'shove': 5253, 'clothespins': 1173, 'teams': 5904, 'village': 6369, 'deep': 1530, 'mater': 3669, 'lots': 3525, 'either': 1886, 'confidence': 1274, 'royal': 4955, 'fad': 2058, 'missing': 3795, 'morlocks': 3862, 'disappeared': 1643, 'promise': 4606, 'shaker': 5191, 'saw': 5055, 'surgery': 5795, 'almost': 228, \"when's\": 6532, 'bets': 599, 'because': 542, 'guiltily': 2596, 'handsome': 2654, 'fistiana': 2194, 'came': 913, 'jigger': 3151, 'lie': 3412, 'tv_father:': 6218, 'sing': 5308, 'twelveball': 6223, 'until': 6306, 'drives': 1768, 'specialists': 5527, 'gut': 2610, 'hears': 2724, 'debonair': 1517, 'railroads': 4714, \"aristotle's\": 339, 'simon': 5298, 'yelling': 6730, 'jig': 3150, 'telephone': 5920, 'prefer': 4534, 'adjourned': 128, 'dan': 1470, 'swimmers': 5830, 'sen': 5152, 'disgracefully': 1657, 'agh': 175, 'burps': 855, 'winces': 6591, 'madonna': 3589, 'desperate': 1584, 'lottery': 3528, 'polish': 4480, 'guilt': 2595, 'throat': 6039, 'got': 2521, 'tomatoes': 6095, 'encores': 1917, 'result': 4871, 'gumbel': 2601, 'tree': 6162, 'hushed': 2921, 'how': 2889, 'wantcha': 6426, \"workin'\": 6664, 'william': 6586, 'absentmindedly': 89, 'fork': 2283, 'pen': 4323, 'attractive_woman_#1:': 393, 'lime': 3436, 'refreshing': 4797, 'thirsty': 6007, 'nameless': 3950, 'uhhhh': 6253, 'french': 2323, 'half-day': 2636, 'flame': 2206, 'average': 408, 'brusque': 812, 'lee': 3370, 'princesses': 4575, 'rub-a-dub': 4959, 'crank': 1376, 'bold': 684, 'eyes': 2045, 'splendid': 5558, 'united': 6294, 'appropriate': 322, 'mcbain': 3684, 'restaurants': 4868, 'disillusioned': 1663, 'giant': 2454, 'ore': 4187, 'square': 5582, 'hounds': 2881, 'official': 4130, 'turning': 6210, 'retain': 4873, 'stirring': 5681, 'sickens': 5279, 'wow': 6684, 'four-star': 2302, 'then:': 5983, 'full-blooded': 2358, 'conversation': 1308, 'disaster': 1648, 'sticking-place': 5669, 'heavyset': 2738, 'cleaning': 1149, 'bannister': 469, 'some': 5474, 'palm': 4251, 'fellas': 2126, 'tribute': 6171, 'tree_hoper:': 6164, 'hearing': 2723, 'poem': 4460, 'spread': 5573, 'urinal': 6321, 'punkin': 4651, 'oblivious': 4104, 'beauty': 540, 'moving': 3890, 'conference': 1272, \"countin'\": 1344, 'cheap': 1049, 'buddies': 819, 'troy_mcclure:': 6186, 'speak': 5523, 'tenuous': 5937, 'coffee': 1197, 'problems': 4589, 'else': 1901, 'hotline': 2879, 'sat-is-fac-tion': 5042, 'rules': 4972, 'audience': 396, 'hopeful': 2859, 'forget-me-shot': 2277, 'robin': 4920, 'rabbits': 4694, 'stadium': 5596, 'beginning': 569, 'nigeria': 4026, 'hurting': 2918, 'immiggants': 2964, 'wade_boggs:': 6399, 'hangover': 2661, 'versus': 6355, 'sadder': 5000, 'agent': 168, 'met': 3732, 'spamming': 5520, 'have': 2699, 'patron_#2:': 4297, 'woo': 6649, 'noose': 4058, \"fryer's\": 2354, 'fish': 2190, 'back': 436, 'grudgingly': 2582, \"carl's\": 953, 'trolls': 6180, 'depressing': 1574, 'golf': 2506, 'b': 426, 'sun': 5770, 'bedbugs': 545, 'hyper-credits': 2926, 'pageant': 4236, 'filed': 2159, 'perón': 4354, 'brainiac': 750, 'test': 5949, 'specializes': 5528, 'mulder': 3904, 'boxcar': 731, 'choice:': 1096, \"rentin'\": 4844, 'cheering': 1062, 'remain': 4823, 'dee-fense': 1529, 'forbids': 2268, 'year': 6724, 'girl': 2469, 'halfway': 2637, \"shouldn't\": 5251, 'history': 2799, 'lovely': 3543, 'showered': 5259, 'grab': 2527, 'reciting': 4777, 'poin-dexterous': 4464, 'riveting': 4914, 'um': 6255, 'sabermetrics': 4994, 'andrew': 269, 'leftover': 3372, 'minus': 3782, 'eyeball': 2041, 'cosmetics': 1330, 'matter-of-fact': 3673, 'factor': 2057, 'arrested:': 348, 'abercrombie': 82, 'bugging': 825, 'sympathizer': 5840, 'cocktail': 1194, 'photos': 4372, 'brave': 758, 'peter': 4355, 'dishonor': 1661, 'dogs': 1693, 'oh': 4134, \"chewin'\": 1072, 'rub': 4958, 'associate': 372, 'gags': 2390, 'investor': 3064, 'lawyer': 3352, 'conversations': 1309, 'expose': 2028, 'stays': 5645, 'between': 604, 'bothered': 715, 'nevada': 4005, 'automobiles': 403, 'held': 2743, 'loudly': 3533, 'incredulous': 2987, 'considers': 1288, 'wound': 6682, 'rummy': 4974, 'fly': 2238, 'caught': 984, 'chocolate': 1094, 'pickled': 4381, \"dog's\": 1692, 'cold': 1205, 'upset': 6316, 'fishing': 2192, 'end': 1920, 'such': 5747, 'donut-shaped': 1715, 'bills': 621, 'rough': 4948, 'something:': 5487, 'sponsor': 5562, 'uncreeped-out': 6267, 'support': 5788, 'schnapps': 5075, 'recap:': 4773, 'onion': 4161, 'judge_snyder:': 3180, 'stu': 5729, 'traditions': 6140, 'ugliest': 6247, 'turlet': 6207, 'rainbows': 4716, 'kemi': 3217, 'rope': 4943, 'appear': 312, 'vanities': 6344, 'bye': 886, 'leonard': 3393, 'scout': 5089, \"i'unno\": 2933, 'collette:': 1210, 'backing': 440, 'aggravazes': 174, 'uninhibited': 6291, 'proposing': 4615, 'villanova': 6370, \"we'll\": 6472, 'dashes': 1488, 'luxury': 3572, 'abandon': 79, 'wears': 6482, 'characteristic': 1034, 'calvin': 912, 'aww': 421, 'ripped': 4909, 'whatsit': 6526, 'powerful': 4520, 'haircuts': 2630, 'not': 4069, 'television': 5921, 'literary': 3466, 'happily:': 2672, 'fills': 2162, 'illegal': 2957, 'flag': 2203, 'dracula': 1734, 'carmichael': 959, \"you'd\": 6748, 'leg': 3374, \"soundin'\": 5507, 'hold': 2818, 'stones': 5687, 'touched': 6123, 'undies': 6278, 'warning': 6436, 'julep': 3187, 'chuck': 1113, 'two': 6235, 'sec_agent_#1:': 5115, 'federal': 2113, 'figured': 2155, 'enter': 1941, \"'pu\": 16, 'chinese': 1087, 'blow': 666, 'the': 5972, 'wreck': 6689, 'dress': 1753, 'kings': 3257, 'determined': 1593, 'term': 5939, 'firmly': 2188, 'wooooo': 6654, 'fat_tony:': 2096, 'mine': 3774, 'kind': 3251, 'sweeter': 5820, 'andalay': 267, 'windowshade': 6598, 'private': 4582, 'compete': 1245, 'necessary': 3977, 'full-bodied': 2359, 'everything': 1984, 'carny:': 962, 'yap': 6717, 'cure': 1437, 'grunts': 2588, 'conditioning': 1270, 'knuckle-dragging': 3288, 'sure': 5793, 'racially-diverse': 4697, 'grabbing': 2528, 'clone': 1165, 'answers': 289, 'gotcha': 2522, 'young_moe:': 6757, 'squishee': 5591, \"she'd\": 5210, 'getup': 2449, 'tracks': 6137, 'pointy': 4471, 'remodel': 4832, 'williams': 6587, 'very': 6357, 'sitar': 5330, 'actually': 120, 'bloodball': 662, 'bar': 472, 'herself': 2770, 'multi-national': 3906, 'gold': 2503, 'available': 404, 'drug': 1779, 'femininity': 2132, 'material': 3670, 'hanh': 2663, 'insecure': 3022, 'jelly': 3136, 'backward': 441, 'experienced': 2020, 'shark': 5206, 'recorded': 4782, 'chuckle': 1114, 'under': 6269, 'hits': 2803, 'seymour': 5184, 'knocks': 3281, 'color': 1213, 'housewife': 2886, 'next': 4016, 'plan': 4419, 'ladder': 3309, 'stunned': 5736, 'puke-pail': 4638, 'lumpa': 3564, 'hans:': 2665, 'bright': 781, 'writers': 6695, 'forget-me-drinks': 2276, 'pine': 4399, 'direction': 1635, \"something's\": 5486, 'horns': 2862, 'mount': 3879, 'kako:': 3204, 'rounds': 4951, 'sour': 5511, 'dammit': 1467, 'bird': 625, 'hook': 2850, 'grammar': 2534, 'lock': 3491, 'burnside': 853, 'spotting': 5570, 'flanders': 2209, 'voice': 6381, 'bottom': 718, 'sacajawea': 4995, 'vin': 6371, 'destroyed': 1588, 'ihop': 2956, 'jasper_beardly:': 3125, 'witty': 6627, 'goodwill': 2515, 'holidays': 2824, 'dinks': 1631, 'suck': 5748, 'sponsoring': 5563, 'reentering': 4789, 'brainheaded': 749, 'adrift': 137, 'coaster': 1184, 'wins': 6608, 'du': 1787, 'sleigh-horses': 5369, 'wings': 6602, \"daughter's\": 1495, 'eating': 1845, 'dark': 1482, 'customers': 1445, 'nick': 4021, 'cheerier': 1060, 'sexy': 5183, 'togetherness': 6085, 'neither': 3995, 'placed': 4415, 'baloney': 463, 'butterball': 873, 'st': 5592, 'intakes': 3043, 'wisconsin': 6614, 'medicine': 3710, 'solely': 5469, \"who's\": 6556, 'valuable': 6338, 'liar': 3406, 'cartoons': 966, 'holds': 2820, 'compared': 1243, 'reminds': 4831, 'ran': 4729, 'goblins': 2497, \"tinklin'\": 6067, 'unable': 6259, 'beard': 529, 'hoped': 2858, 'fledgling': 2220, 'shreda': 5264, 'ape-like': 306, 'intense': 3045, 'crappy': 1380, 'blues': 673, \"changin'\": 1026, \"wasn't\": 6446, 'pridesters:': 4570, 'anonymous': 284, \"kids'\": 3242, 'five-fifteen': 2197, 'accidents': 102, \"where's\": 6537, 'where': 6535, 'options': 4182, 'killed': 3245, 'rage': 4707, 'hugh': 2901, 'taps': 5884, 'indignant': 2997, 'calling': 908, 'veteran': 6359, 'france': 2308, 'anger': 272, 'consoling': 1289, 'shoulda': 5248, 'shifty': 5223, 'fruit': 2351, 'benefits': 591, 'gone': 2507, 'compels': 1244, 'image': 2960, 'marquee': 3653, 'uncle': 6265, 'inning': 3017, 'grampa': 2537, 'sells': 5147, 'gunk': 2605, 'six': 5337, 'ever': 1977, 'raises': 4722, 'mt': 3895, 'chubby': 1112, 'items': 3096, 'calmly': 911, 'homeland': 2830, 'infiltrate': 3004, 'stewart': 5664, 'help': 2752, 'henry': 2761, 'wang': 6422, 'arrest': 347, 'door': 1720, 'an': 259, 'peace': 4315, 'influence': 3006, 'yep': 6736, 'winch': 6592, 'smiling': 5405, 'sudoku': 5755, 'tooth': 6112, 'pas': 4281, 'kennedy': 3220, 'ball': 456, \"maggie's\": 3593, \"foolin'\": 2260, \"tv's\": 6214, 'stalking': 5604, 'mop': 3859, 'hotel': 2877, 'moesy': 3834, 'freeze': 2322, 'deliberate': 1544, 'slays': 5364, 'nearly': 3974, 'anyhoo': 297, 'rent': 4842, 'zone': 6776, 'ambrosia': 248, 'wizard': 6628, 'ne': 3971, 'não': 4095, 'pickles': 4382, 'fires': 2184, 'juke': 3184, 'wrapped': 6687, 'them': 5979, 'audience:': 397, 'housework': 2887, \"thing's\": 5999, 'plain': 4417, 'wrap': 6686, 'fayed': 2106, 'male_singers:': 3613, 'fan': 2079, 'affection': 151, 'aidens': 191, 'coney': 1271, 'mags': 3596, \"man's\": 3622, 'oughtta': 4202, 'jay:': 3127, 'exactly': 1991, 'supports': 5789, 'koi': 3292, 'ummmmmmmmm': 6257, 'i': 2927, 'president': 4547, 'offense': 4125, 'ivana': 3099, 'dexterous': 1598, 'purveyor': 4655, 'rest': 4866, 'sponge:': 5561, 'woman:': 6638, 'shaken': 5190, 'pajamas': 4248, 'more': 3861, 'jumping': 3190, 'wienerschnitzel': 6573, 'perfect': 4338, 'catty': 983, 'surprised/thrilled': 5798, 'believe': 578, 'effervescence': 1865, 'rem': 4822, 'grieving': 2562, 'crooks': 1406, 'turned': 6209, 'creepy': 1392, 'abusive': 93, \"you're\": 6750, 'queen': 4676, 'fifty': 2148, 'pumping': 4645, 'poor': 4491, 'sport': 5566, 'slobs': 5380, \"mother's\": 3875, 'makes': 3608, 'hooch': 2849, 'roll': 4926, 'pulled': 4641, 'annie': 277, 'sitcom': 5331, 'disguise': 1658, \"fun's\": 2365, 'koholic': 3291, 'chief_wiggum:': 1078, \"breakin'\": 765, 'innocence': 3018, 'raking': 4724, 'ocean': 4116, 'tee': 5911, 'traitor': 6147, 'meeting': 3715, 'wok': 6632, 'liver': 3473, 'vance': 6343, 'gus': 2609, 'l': 3303, 'ho-ly': 2812, 'email': 1903, 'man:': 3624, 'rev': 4877, 'stein-stengel-': 5656, 'hey': 2772, 'level': 3402, 'increasingly': 2985, 'confession': 1273, 'excitement': 2003, 'young': 6753, 'telemarketing': 5919, 'fraud': 2313, 'ruined': 4968, 'discriminate': 1651, 'time': 6062, 'butts': 878, 'club': 1178, 'cost': 1331, 'slobbo': 5379, 'remembering': 4828, 'stan': 5609, 'corkscrews': 1321, 'tavern': 5894, 'exhibit': 2011, 'teddy': 5910, 'typing': 6241, 'jeff_gordon:': 3135, 'moved': 3886, 'joking': 3171, 'pin': 4396, 'oof': 4167, 'answering': 288, 'brow': 807, 'festival': 2137, 'weird': 6494, 'hired': 2795, 'maude': 3674, 'divorced': 1682, 'ho': 2810, 'splattered': 5557, 'design': 1580, 'tape': 5880, 'freak': 2315, 'civic': 1134, 'juan': 3176, 'sinister': 5318, 'swig': 5827, 'mountain': 3880, 'mouths': 3884, 'abolish': 85, 'shock': 5228, 'hangout': 2660, '70': 47, 'change': 1023, 'investment': 3063, 'giving': 2476, 'accelerating': 95, 'cloudy': 1175, 'eminence': 1907, 'mom': 3836, 'plums': 4455, 'cavern': 990, 'bite': 630, 'disturbance': 1676, 'jukebox_record:': 3186, 'encouraged': 1918, 'oww': 4226, 'life-sized': 3418, 'orphan': 4192, 'santa': 5033, 'absolutely': 91, 'jams': 3120, 'death': 1516, 'pinball': 4397, 'sweaty': 5817, 'suppose': 5790, 'sector': 5122, 'clothespins:': 1174, 'fine': 2171, 'underpants': 6272, 'fire': 2180, 'still': 5671, 'oddest': 4119, 'satisfied': 5044, 'moe_szyslak:': 3833, 'suspended': 5804, \"betsy'll\": 600, \"should've\": 5247, 'name': 3947, 'information': 3009, 'reckless': 4778, 'statistician': 5636, 'droning': 1772, 'english': 1932, 'therapist': 5985, 'show-off': 5256, 'illustrates': 2959, 'casual': 974, 'champignons': 1018, 'gentles': 2432, 'naegle': 3939, 'step': 5659, 'preparation': 4540, 'julienne': 3188, 'bathroom': 515, 'light': 3427, 'exhaust': 2010, 'say': 5056, 'absorbent': 92, 'mmm': 3807, 'fanciest': 2080, 'smokes': 5410, 'stupid': 5737, 'puts': 4663, 'cannot': 926, 'thrilled': 6038, 'wrestle': 6691, \"'n'\": 14, 'snorts': 5440, 'snake_jailbird:': 5423, 'ram': 4728, 'couple': 1350, \"bart's\": 498, 'cronies': 1404, 'permanent': 4345, 'edna_krabappel-flanders:': 1860, 'meal': 3692, \"disrobin'\": 1669, 'musketeers': 3925, 'coma': 1217, 'hitler': 2802, 'ton': 6100, 'bronco': 798, 'ideas': 2948, 'man_at_bar:': 3625, 'lighting': 3430, 'showing': 5261, 'prettied': 4561, 'fuzzlepitch': 2381, 'feminine': 2131, 'leaving': 3367, 'shakes': 5192, 'friendship': 2337, 'known': 3286, 'falcons': 2069, 'chub': 1111, 'cars': 965, 'suit': 5765, 'overturned': 4218, 'coughs': 1337, 'shortcomings': 5242, 'chips': 1093, 'yoink': 6745, 'hops': 2861, 'arm': 341, 'notorious': 4078, 'laney': 3325, 'microbrew': 3746, 'finish': 2176, 'hm': 2805, 'rom': 4931, 'tidy': 6054, 'talkers': 5870, 'radishes': 4703, 'ruuuule': 4988, 'solid': 5470, 'business': 864, 'aiden': 190, 'lingus': 3447, 'exchanged': 2001, 'whispers': 6548, 'shaking': 5194, 'fighting': 2152, 'access': 100, 'kisses': 3264, 'pipe': 4404, 'new': 4007, \"america's\": 251, 'moxie': 3891, 'jacks': 3109, 'musses': 3927, 'administration': 130, 'starla': 5616, 'kramer': 3297, 'prizefighters': 4584, 'harvard': 2687, 'when-i-get-a-hold-of-you': 6533, 'coms': 1262, 'spouses': 5571, 'flips': 2224, 'soup': 5509, 'publishers': 4631, 'encore': 1916, 'human': 2905, 'severe': 5179, 'sly': 5390, 'ninety-nine': 4035, 'dawning': 1498, 'beast': 532, 'county': 1349, 'plant': 4426, 'syrup': 5845, 'bless': 647, 'fbi_agent:': 2108, 'disgraceful': 1656, 'nards': 3955, 'ned': 3981, 'junior': 3193, 'and-and': 264, \"bladder's\": 637, 'learned': 3361, 'patty_bouvier:': 4304, \"don'tcha\": 1706, 'rods': 4925, 'certificate': 1008, 'rude': 4963, 'gonna': 2508, 'crowded': 1414, 'mostrar': 3872, 'pouring': 4517, 'surprising': 5799, 'reach': 4747, 'visas': 6378, \"wait'll\": 6404, 'refreshment': 4799, 'anybody': 296, 'displeased': 1667, 'knife': 3274, 'spot': 5569, 'common': 1238, 'grease': 2551, 'joining': 3167, 'forbidden': 2267, 'cross-country': 1407, 'klingon': 3269, 'pall': 4250, 'cheered': 1059, 'infatuation': 3002, 'mumbling': 3910, 'needy': 3986, 'lindsay_naegle:': 3444, 'heavens': 2736, 'distaste': 1671, 'hardwood': 2679, 'supreme': 5792, 'plow': 4451, 'selfish': 5144, 'slot': 5385, 'tv_daughter:': 6217, 'declan_desmond:': 1526, 'ga': 2386, \"homer's_brain:\": 2835, 'moonnnnnnnn': 3857, \"yieldin'\": 6742, 'ah': 182, 'workers': 6663, 'activity': 116, 'seat': 5112, 'sisters': 5327, 'wordloaf': 6658, \"who'da\": 6554, 'entirely': 1949, 'poisoning': 4474, 'affects': 152, 'face': 2050, 're-al': 4745, 'pitch': 4409, \"tab's\": 5850, 'mayan': 3680, 'dash': 1487, 'mint': 3781, 'brief': 779, 'excuse': 2006, 'check': 1055, 'liser': 3458, 'fortensky': 2287, 'slipped': 5377, 'blinded': 652, \"cat's\": 976, 'paper': 4262, 'cheated': 1054, 'sadistic_barfly:': 5001, 'frightened': 2338, 'artist': 354, 'cell': 998, 'short_man:': 5241, 'lazy': 3355, 'source': 5512, 'gunter:': 2608, \"that'd\": 5968, 'disappointing': 1645, 'squeal': 5584, 'shyly': 5275, 'sanitation': 5032, 'possessions': 4507, 'wowww': 6685, 'slyly': 5391, 'attempting': 386, 'swooning': 5838, 'stengel': 5658, 'edna-lover-one-seventy-two': 1859, 'moe-lennium': 3829, 'impressed': 2971, 'public': 4628, 'kermit': 3226, 'science': 5079, 'teenage_homer:': 5916, 'rock': 4922, 'congoleum': 1279, \"'now\": 15, 'fumigated': 2363, 'drove': 1777, 'krusty_the_clown:': 3299, \"ya'\": 6714, 'wolveriskey': 6636, 'directions': 1636, 'blossoming': 665, 'taxi': 5897, 'duty': 1815, 'painting': 4244, 'two-drink': 6236, 'watt': 6460, 'handed': 2646, 'works': 6666, 'pathetic': 4292, 'adventure': 143, 'larry:': 3335, 'love-matic': 3539, 'director:': 1638, 'thinking': 6004, 'spanish': 5521, \"department's\": 1568, \"'ceptin'\": 6, 'attracted': 390, 'chug': 1117, 'clinton': 1161, 'motel': 3873, 'dyspeptic': 1819, 'disapproving': 1647, 'comforting': 1227, 'apply': 318, 'abcs': 80, 'mccall': 3685, 'newest': 4009, 'exultant': 2038, 'supposed': 5791, 'hope': 2857, 'read': 4753, \"mecca's\": 3706, 'trenchant': 6169, 'since': 5305, 'k-zug': 3201, 'hers': 2769, 'ashtray': 358, 'strips': 5723, 'domestic': 1703, 'phony': 4369, 'starving': 5630, 'nachos': 3938, 'cans': 928, 'playhouse': 4438, 'quality': 4671, 'smooth': 5413, 'drains': 1736, 'mommy': 3839, 'announcer:': 279, 'raising': 4723, \"doin'\": 1694, 'one-hour': 4159, 'peach': 4316, 'renovations': 4841, 'lugs': 3562, 'ehhhhhhhh': 1874, 'eyeballs': 2042, 'fix': 2198, 'jacques:': 3113, 'entering': 1942, 'shack': 5186, 'anything': 301, 'flanders:': 2210, 'please/': 4445, 'hooky': 2852, 'career': 946, 'someplace': 5481, 'dealt': 1512, 'jerking': 3140, 'fringe': 2339, 'face-macer': 2051, 'compadre': 1240, 'generous': 2425, 'organ': 4188, 'camera': 914, 'tire': 6072, 'broom': 801, 'lord': 3515, 'lump': 3563, 'amber_dempsey:': 246, 'terrorizing': 5948, 'mirror': 3786, 'original': 4191, 'carnival': 961, 'swamp': 5810, 'x': 6704, 'beings': 575, 'weapon': 6478, 'bill_james:': 616, 'motorcycle': 3877, 'dying': 1817, 'pfft': 4359, 'blimp': 650, 'winner': 6604, 'paying': 4311, 'dryer': 1786, 'celebrate': 993, 'rekindle': 4807, 'pissed': 4407, 'angel': 271, 'beating': 534, 'helllp': 2750, 'erasers': 1957, 'calls': 909, 'clammy': 1137, 'laugh': 3344, 'distraught': 1674, \"people's\": 4328, 'miracle': 3785, 'side': 5281, 'grunt': 2587, 'device': 1596, 'clench': 1154, 'passports': 4287, \"gettin'\": 2446, 'neighboreeno': 3990, 'involved': 3068, 'manuel': 3640, 'arrived': 349, 'part-time': 4275, 'installed': 3034, 'manfred': 3635, 'station': 5634, 'sumatran': 5767, 'pyramid': 4669, 'ah-ha': 183, 'hammy': 2643, 'breath': 768, 'government': 2525, 'rascals': 4734, 'alcohol': 203, \"callin'\": 907, 'happens': 2669, 'cage': 896, 'highball': 2783, \"larry's\": 3334, 'innocent': 3019, 'sometimes': 5489, 'floating': 2227, 'lenses': 3392, 'cab_driver:': 893, 'poetry': 4463, \"boy's\": 739, 'ground': 2574, 'language': 3327, 'nobel': 4042, \"how's\": 2892, 'finished': 2177, 'patrons:': 4299, 'dials': 1600, 'swell': 5825, 'dumpster': 1809, 'th-th-th-the': 5959, 'chum': 1120, 'soir': 5467, 'tabooger': 5854, 'tv_husband:': 6219, 'gloop': 2486, 'family': 2075, 'dollface': 1700, 'forty': 2290, 'attend': 387, 'princess': 4574, 'christmas': 1109, 'invented': 3061, 'discussing': 1653, 'viva': 6379, 'smuggled': 5416, 'therefore': 5989, 'ferry': 2136, 'rain': 4715, 'girlfriend': 2471, 'ninth': 4038, 'warmly': 6432, 'thorough': 6020, 'toss': 6117, 'branding': 753, 'seamstress': 5108, 'pond': 4488, 'forgiven': 2280, 'alright': 234, 'clandestine': 1140, 'never': 4006, 'protesters': 4619, 'fonda': 2252, \"she's\": 5212, \"waitin'\": 6405, 'moments': 3838, 'pure': 4652, 'natural': 3963, 'alls': 225, 'dictator': 1606, 'course': 1353, 'tatum': 5890, 'politics': 4485, 'balls': 462, \"i'm-so-stupid\": 2932, 'advance': 141, 'reporter:': 4853, 'tomorrow': 6097, 'infor': 3007, 'vomit': 6386, 'mistakes': 3798, 'legally': 3376, \"seein'\": 5127, 'sticking': 5668, 'man_with_tree_hat:': 3627, 'richard:': 4889, 'tentative': 5936, 'bowie': 726, 'panicked': 4254, 'narrator:': 3957, 'thanking': 5964, 'subscriptions': 5744, 'blame': 639, 'misconstrue': 3789, 'las': 3337, 'mini-dumpsters': 3777, 'exit': 2012, \"mopin'\": 3860, 'seymour_skinner:': 5185, 'schorr': 5078, 'meaningless': 3699, \"doesn't\": 1690, 'inflated': 3005, 'papa': 4260, 'businessman_#2:': 866, \"watchin'\": 6453, \"somebody's\": 5476, \"tonight's\": 6105, 'believer': 579, 'began': 565, 'pawed': 4306, 'saucy': 5047, 'remote': 4834, 'stickers': 5667, 'handoff': 2651, 'guff': 2593, 'hardhat': 2678, 'tomahto': 6093, 'the_rich_texan:': 5974, 'king': 3256, 'humiliation': 2907, 'basement': 508, 'found': 2296, 'stay': 5640, 'practically': 4522, 'vermont': 6354, 'lard': 3331, 'full': 2357, 'jobless': 3155, 'cleveland': 1157, 'nahasapeemapetilon': 3942, \"hangin'\": 2658, 'problemo': 4588, 'figure': 2154, 'ralph': 4725, \"moe's_thoughts:\": 3825, 'pointed': 4466, 'pantry': 4257, 'stocking': 5683, 'hug': 2898, 'personal': 4351, 'unrelated': 6302, 'chosen': 1106, 'muffled': 3900, 'olive': 4149, 'sketch': 5346, 'donated': 1708, 'dateline': 1491, 'sent': 5161, 'stand': 5610, 'heave-ho': 2734, 'unearth': 6279, 'nuts': 4094, 'picture': 4385, 'supervising': 5785, 'himself': 2793, 'edelbrock': 1853, 'middle': 3752, 'you': 6747, 'twenty': 6225, 'act': 113, 'no': 4041, 'scotch': 5088, 'boozehound': 706, 'jury': 3195, 'idealistic': 2947, 'naively': 3945, 'achebe': 107, 'al_gore:': 199, 'mugs': 3902, 'guessing': 2591, 'selma_bouvier:': 5149, 'imaginary': 2961, 'righ': 4899, 'clips': 1163, 'begins': 570, 'busted': 868, 'bar_rag:': 476, 'your': 6759, 'lenny_leonard:': 3389, 'squeezed': 5587, 'acceptance': 98, \"they'll\": 5994, 'dice': 1604, 'bam': 464, 'holiday': 2823, 'half': 2633, 'happy': 2674, 'pays': 4313, 'ugh': 6245, 'pernt': 4347, 'cares': 949, 'distance': 1670, 'speaking': 5525, 'a': 73, '/': 25, 'bartenders': 502, 'soaked': 5448, 'onions': 4162, \"we're\": 6473, 'civil': 1135, 'strong': 5726, 'dingy': 1630, 'answered': 287, 'own': 4222, 'obese': 4103, 'trade': 6138, 'message': 3730, 'sidekick': 5283, 'period': 4343, 'mocking': 3818, 'kent_brockman:': 3223, 'ecru': 1850, 'handshake': 2653, 'boxing_announcer:': 737, 'carb': 942, 'gabriel': 2387, 'general': 2422, 'willing': 6588, 'sing-song': 5309, 'cent': 1000, 'set': 5173, 'campaign': 917, 'massage': 3665, 'careful': 947, \"jackpot's\": 3107, 'recent': 4774, 'looting': 3514, 'write': 6693, 'halvsies': 2640, 'probably': 4586, 'third': 6006, 'truth': 6195, 'grim': 2564, \"hadn't\": 2624, 'tonic': 6103, 'si-lent': 5276, 'safely': 5005, 'pointless': 4469, 'their': 5978, 'published': 4630, \"tootin'\": 6113, 'popped': 4497, 'weak': 6476, 'koji': 3293, 'coast': 1183, 'jerks': 3141, 'state': 5631, 'are': 332, 'pats': 4300, 'jamaican': 3118, 'distract': 1673, 'fools': 2261, 'buying': 882, 'men:': 3723, 'discuss': 1652, 'pronounce': 4610, 'ridiculous': 4894, 'fool': 2259, 'harv:': 2686, 'frog': 2344, 'reasonable': 4768, \"murphy's\": 3918, 'quietly': 4685, 'poke': 4475, 'attention': 388, \"bo's\": 677, 'youngsters': 6758, 'beer-jerks': 558, \"pope's\": 4495, 'drawing': 1744, 'pants': 4258, 'repairman': 4846, 'ditched': 1678, 'safety': 5007, 'promotion': 4608, 'crab': 1371, 'senators:': 5155, 'warned': 6435, 'lease': 3362, 'repeated': 4848, 'secret': 5119, \"'kay-zugg'\": 12, 'amid': 255, 'kisser': 3263, 'hop': 2856, 'applicant': 316, 'bumblebee_man:': 836, 'sunglasses': 5772, 'switch': 5836, 'dimly': 1626, 'space': 5516, 'grave': 2548, 'twelve-step': 6222, 'population': 4500, 'grandkids': 2541, 'filled': 2161, 'empty': 1914, \"could've\": 1339, 'buried': 848, 'delivery': 1552, 'getcha': 2444, 'tigers': 6058, 'nasa': 3958, '10:15': 29, 'snackie': 5419, 'elmer': 1898, 'sports': 5567, 'rice': 4886, 'mostly': 3871, \"can'tcha\": 921, 'agency': 167, 'whispered': 6547, 'wasted': 6448, 'throws': 6045, 'training': 6146, 'line': 3445, 'danny': 1480, 'mines': 3775, 'brotherhood': 804, 'jay_leno:': 3128, 'covering': 1360, 'so': 5445, 'indifferent': 2995, 'shirt': 5227, 'winks': 6603, 'detective_homer_simpson:': 1592, 'majority': 3605, 'pee': 4320, 'bones': 691, 'pretzel': 4564, 'felony': 2128, 'statues': 5639, 'squirrels': 5590, 'ultimate': 6254, 'eve': 1972, 'travel': 6157, 'thawing': 5971, 'like': 3432, 'sobbing': 5454, \"tellin'\": 5923, 'tickets': 6052, 'delightfully': 1551, 'harv': 2685, 'noosey': 4059, 'legs:': 3380, 'majesty': 3604, 'going': 2501, 'yet': 6740, 'asks': 364, 'carey': 950, 'lights': 3431, \"i'll\": 2930, 'ingrates': 3012, 'cow': 1362, 'youse': 6764, 'committee': 1236, 'trust': 6192, 'buyer': 880, 'nudge': 4086, 'arse': 350, 'restaurant': 4867, \"round's\": 4950, 'just': 3196, 'facebook': 2052, 'carve': 967, 'endorsement': 1923, \"jimbo's_dad:\": 3152, 'brain-switching': 748, 'shoots': 5236, 'broken:': 797, 'limits': 3439, 'whining': 6542, 'bono:': 694, 'insulted': 3039, 'ourselves': 4204, 'van': 6342, 'priority': 4579, 'standards': 5611, 'priceless': 4567, 'launch': 3348, 'delicate': 1546, 'beer-dorf': 557, 'intelligent': 3044, 'sees/': 5135, 'gosh': 2519, 'spilled': 5546, '50-60': 43, 'sneering': 5431, 'gift:': 2457, 'potato': 4511, 'italian': 3093, 'strolled': 5725, 'confidential': 1276, 'hottest': 2880, 'bras': 755, 'extended': 2032, 'pigs': 4389, 'soul-crushing': 5504, 'dozen': 1732, 'plenty': 4449, 'linda_ronstadt:': 3442, 'wear': 6479, 'peanuts': 4319, 'die': 1610, \"g'on\": 2385, 'fail': 2060, 'nah': 3941, 'boozer': 707, 'able': 83, 'bites': 631, 'nothing': 4074, 'for': 2266, 'barstools': 495, 'drown': 1778, \"pressure's\": 4554, 'deliberately': 1545, 'hammer': 2641, 'steinbrenner': 5657, 'rivalry': 4913, 'wally:': 6418, 'feel': 2116, 'bowl': 727, 'murderously': 3914, 'recently': 4775, 'seem': 5130, 'aged_moe:': 166, 'perhaps': 4342, 'favor': 2104, 'amused': 258, 'read:': 4754, 'sniffles': 5435, 'cecil_terwilliger:': 992, 'chug-a-lug': 1118, 'mission': 3796, 'faith': 2066, \"tomorrow's\": 6098, 'modestly': 3822, 'colonel:': 1212, 'painless': 4241, 'slaps': 5362, \"tryin'\": 6197, 'bags': 452, 'tornado': 6116, 'blood': 660, 'rainier': 4718, \"stealin'\": 5648, 'already': 233, 'lenny:': 3388, 'texas': 5956, 'rob': 4917, 'helpful': 2754, 'homer_': 2836, 'depressant': 1571, 'making': 3610, 'laney_fontaine:': 3326, 'couch': 1335, 'optimistic': 4180, 'scary': 5066, 'doom': 1718, 'ought': 4200, 'anyhow': 298, 'hand': 2645, 'old-time': 4146, 'credit': 1390, 'mate': 3668, 'south': 5513, 'mild': 3759, 'warily': 6430, '530': 44, 'hank_williams_jr': 2664, 'singers:': 5311, 'taste': 5887, 'us': 6323, 'later': 3341, 'uniforms': 6290, 'button-pusher': 876, 'inches': 2980, 'different': 1617, 'mini-beret': 3776, 'naturally': 3964, 'jack_larson:': 3105, 'greatest': 2553, 'slab': 5359, 'crack': 1372, 'white': 6551, 'schizophrenia': 5073, 'barbara': 477, 'candy': 924, 'clap': 1141, \"duff's\": 1794, 'sobs': 5458, 'alcoholism': 205, 't-shirt': 5848, 'heals': 2717, 'package': 4230, 'poetics': 4462, 'philip': 4363, 'asses': 370, 'party': 4280, 'legal': 3375, 'island': 3082, 'paste': 4290, 'rainforest': 4717, 'listening': 3463, 'scratcher': 5092, 'lanes': 3324, 'bragging': 746, 'napkins': 3954, 'bidet': 610, 'exhale': 2009, 'gimmick': 2464, 'dilemma': 1623, 'nominated': 4049, 'jerky': 3142, 'boo': 695, 'alfalfa': 208, 'animals': 276, 'faced': 2053, 'heliotrope': 2746, 'right': 4900, 'dennis': 1560, 'glove': 2488, 'latin': 3342, 'beanbag': 526, 'breaking': 766, 'conditioners': 1269, 'scare': 5063, '_marvin_monroe:': 68, 'eat': 1841, 'ees': 1862, 'grow': 2577, 'managed': 3629, 'george': 2435, 'synthesize': 5844, 'permitting': 4346, 'rig': 4898, 'anti-lock': 293, 'given': 2474, 'nonchalantly': 4053, \"secret's\": 5120, 'risqué': 4912, 'guinea': 2597, 'hustle': 2922, 'hygienically': 2925, 'alphabet': 232, 'puzzle': 4667, 'gotten': 2524, 'be': 520, 'uh': 6250, 'introduce': 3059, 'aside': 359, \"town's\": 6133, 'lib': 3407, 'nods': 4045, 'meanwhile': 3702, 'nervously': 4003, 'happier': 2670, 'there': 5987, 'jackpot-thief': 3108, 'those': 6021, 'patented': 4291, 'babe': 430, 'realizing': 4765, 'seas': 5110, \"school's\": 5077, 'monroe': 3847, 'stranger:': 5708, 'victorious': 6363, 'pizzicato': 4413, 'oh-ho': 4135, 'milhouse_van_houten:': 3762, 'hi': 2773, 'milhouse': 3761, 'jobs': 3156, 'lap': 3329, \"treatin'\": 6160, 'nailed': 3944, '__period__': 56, 'portfolium': 4503, '_babcock:': 62, 'log': 3496, 'plaintive': 4418, \"scammin'\": 5061, 'cigarettes': 1128, 'schedule': 5071, 'tearfully': 5906, 'banned': 468, 'beautiful': 539, 'lewis': 3403, 'searching': 5109, '1973': 32, 'noticing': 4077, 'gary:': 2406, 'with': 6623, 'care': 945, 'fondest': 2253, \"c'mom\": 890, 'stores': 5699, 'rubbed': 4960, 'cruel': 1417, 'rainier_wolfcastle:': 4719, 'presidential': 4549, 'laid': 3317, 'frankly': 2311, 'conversion': 1310, 'bars': 494, 'gil_gunderson:': 2462, 'ripping': 4911, 'enhance': 1934, 'sign': 5293, 'high-definition': 2781, 'ate': 381, \"man'd\": 3621, 'jerry': 3144, \"s'okay\": 4991, 'chipped': 1091, 'whatchacallit': 6523, 'treasure': 6158, \"playin'\": 4439, '250': 36, 'bauer': 519, 'tha': 5960, 'slight': 5373, 'super': 5775, 'straighten': 5704, 'failure': 2062, \"y'know\": 6709, 'toy': 6135, '_eugene_blatz:': 64, 'without': 6624, 'philosophical': 4365, 'boxcars': 732, 'escort': 1960, 'adjust': 129, 'cries': 1397, 'post-suicide': 4509, 'selection': 5137, 'sideshow': 5285, 'exited': 2013, 'liquor': 3452, 'typed': 6240, 'bart_simpson:': 499, 'evasive': 1971, 'lend': 3384, 'chicks': 1076, 'represent': 4854, 'listened': 3461, 'safecracker': 5004, 'thousand-year': 6032, 'comic': 1228, 'continuum': 1303, 'right-handed': 4901, 'furry': 2374, 'baritone': 484, 'pleased': 4446, 'knock': 3277, 'gregor': 2557, 'head': 2712, 'amiable': 254, 'strawberry': 5713, 'urine': 6322, 'rip': 4906, 'whoa': 6558, 'gamble': 2394, 'donate': 1707, 'process': 4591, 'roz:': 4957, 'afford': 153, 'competitive': 1247, 'thomas': 6018, 'bet': 596, 'anderson': 268, 'kemi:': 3218, 'polygon': 4487, 'themselves': 5981, \"linin'\": 3448, 'wha': 6508, 'shout': 5252, 'arm-pittish': 342, 'cursed': 1441, 'exact': 1990, 'charge': 1035, 'usual': 6329, 'fat_in_the_hat:': 2095, \"i'd'a\": 2929, 'snort': 5439, \"don't\": 1705, 'hideous': 2778, 'snitch': 5438, 'irish': 3074, 'extinguishers': 2033, 'dive': 1679, 'barn': 487, 'bulked': 829, 'wiener': 6571, 'blocked': 658, 'harrowing': 2684, 'flexible': 2223, 'tsk': 6199, 'intervention': 3052, 'grin': 2566, 'plastic': 4431, 'chuckling': 1116, 'somewhere': 5490, 'lou': 3529, 'gossipy': 2520, 'sheepish': 5214, 'bald': 455, 'quimby_#2:': 4687, 'crew': 1395, 'jaegermeister': 3114, 'j': 3103, 'clears': 1153, 'lushmore': 3570, 'victory': 6364, 'yee-haw': 6728, 'lily-pond': 3434, \"where'd\": 6536, 'compliment': 1254, 'flaking': 2205, 'cobra': 1188, 'slop': 5383, 'is': 3080, 'doppler': 1722, 'yesterday': 6738, 'once': 4156, 'scruffy_blogger:': 5100, 'coherent': 1199, \"poisonin'\": 4473, 'sir': 5323, 'dreamy': 1749, 'irishman': 3075, 'dance': 1473, 'stalwart': 5606, 'fiction': 2142, 'one': 4157, 'pretends': 4559, 'whaaa': 6509, \"high-falutin'\": 2782, 'burglary': 847, 'photographer': 4371, 'relaxed': 4811, 'hail': 2628, 'buds': 821, 'stupidly': 5739, 'deer': 1533, 'der': 1576, 'grammys': 2536, 'onassis': 4155, 'flown': 2233, 'worst': 6675, 'birth': 626, 'loan': 3483, 'hilton': 2791, 'cents': 1002, 'boxers': 735, 'senator': 5153, 'opportunity': 4179, 'balloon': 460, 'penmanship': 4324, 'boxer:': 734, 'accident': 101, 'maitre': 3603, 'hmmm': 2808, 'he': 2708, 'sixteen': 5339, 'stiffening': 5670, 'boyhood': 741, \"d'\": 1455, 'accept': 97, 'changing': 1027, 'alien': 212, 'declared': 1528, 'eww': 1989, 'doing': 1695, 'measure': 3703, 'forget': 2275, 'the_edge:': 5973, 'enough': 1940, 'reading': 4757, 'computer': 1260, 'likes': 3433, 'whisper': 6546, 'small_boy:': 5394, 'wigs': 6580, 'ma': 3575, \"you've\": 6751, 'sunday': 5771, 'rafter': 4704, 'cueball': 1429, 'sight': 5291, 'put': 4662, 'thorn': 6019, 'comeback': 1222, 'sturdy': 5740, 'roller': 4928, 'sheet': 5215, 'safer': 5006, \"neat's-foot\": 3976, 'hosting': 2874, 'shill': 5224, 'examples': 1994, 'bottomless': 719, 'worried': 6672, 'magnanimous': 3595, '__question_mark__': 57, 'fletcherism': 2221, 'corpses': 1326, 'allegiance': 220, 'scum': 5104, 'silence': 5296, 'fence': 2134, 'lobster-based': 3487, 'cranberry': 1375, 'example': 1993, 'lowest': 3553, 'noggin': 4046, 'reluctant': 4820, 'ping-pong': 4400, 'pad': 4232, 'justify': 3198, 'wolfcastle': 6633, 'dynamite': 1818, 'fountain': 2299, \"what'sa\": 6520, 'law': 3349, 'panicky': 4255, 'hot-rod': 2876, 'executive': 2008, 'became': 541, 'apart': 304, 'wednesday': 6487, 'mike_mills:': 3758, 'pack': 4229, 'so-called': 5446, \"lenny's\": 3387, 'premiering': 4537, 'unkempt': 6297, 'stayed': 5642, 'owes': 4221, 'principles': 4577, 'mrs': 3894, 'shocked': 5229, 'bears': 531, 'kick': 3229, 'sounded': 5506, \"s'pose\": 4992, 'machine': 3583, 'agree': 180, \"liberty's\": 3408, 'any': 295, 'teriyaki': 5938, 'trapped': 6153, 'skirt': 5354, 'sell': 5145, 'defected': 1535, 'creates': 1388, 'person': 4350, 'whatchamacallit': 6524, 'although': 238, 'moonlight': 3856, 'yawns': 6720, 'average-looking': 409, 'backwards': 442, 'upgrade': 6313, 'advertise': 144, 'picked': 4378, 'future': 2380, 'knowing': 3283, 'tremendous': 6167, 'africa': 156, 'suspect': 5803, 'formico:': 2286, 'damned': 1469, \"kid's\": 3235, 'britannia': 788, 'tastes': 5888, 'irrelevant': 3078, 'mall': 3616, 'hafta': 2625, 'jesus': 3145, 'joy': 3175, 'cerebral': 1004, 'insulin': 3038, 'manage': 3628, 'cab': 892, \"messin'\": 3731, 'paris': 4269, 'mr': 3893, \"time's\": 6063, 'gives': 2475, 'shareholder': 5202, 'afternoon': 161, 'selling': 5146, 'marvelous': 3659, \"narratin'\": 3956, 'brains': 751, 'daaaaad': 1457, 'y': 6708, 'action': 115, 'annoying': 281, 'restless': 4869, 'wire': 6613, 'swigmore': 5828, 'rotten': 4947, 'challenge': 1015, 'foibles': 2244, 'shoes': 5231, 'glasses': 2480, 'blooded': 663, 'cologne': 1211, 'burp': 854, 'hated': 2695, 'hands': 2652, 'hostile': 2873, 'hoo': 2848, 'yell': 6729, 'upbeat': 6311, 'kissingher': 3266, 'nitwit': 4039, 'mona_simpson:': 3840, 'crayola': 1383, \"game's\": 2397, 'disappear': 1642, 'raging': 4711, 'rosey': 4945, 'ohmygod': 4139, 'homie': 2841, 'rid': 4892, 'novelty': 4080, 'raise': 4721, 'pointedly': 4467, 'skins': 5353, 'terminated': 5940, 'cutting': 1451, 'spreads': 5574, \"havin'\": 2701, 'curds': 1436, 'santeria': 5035, 'all': 215, 'vulnerable': 6393, 'drink': 1758, 'ahead': 184, \"collector's\": 1208, 'spelling': 5537, 'admitting': 135, 'finale': 2166, 'whether': 6538, ':': 51, 'wrong': 6699, 'looser': 3513, 'cigarette': 1127, 'cletus_spuckler:': 1156, 'occurrence': 4114, 'slugger': 5387, 'tokens': 6087, \"i-i'm\": 2937, 'contemporary': 1297, 'occasion': 4108, 'korea': 3295, 'won': 6642, 'bushes': 862, 'weary': 6483, 'vacation': 6333, 'lincoln': 3440, 'powers': 4521, 'applesauce': 315, 'subject': 5743, 'fire_inspector:': 2181, 'bedroom': 547, 'father': 2097, 'thousands': 6033, 'aid': 189, 'names': 3951, 'lizard': 3477, 'industry': 2998, 'thirty-nine': 6011, 'disturbing': 1677, 'champ': 1017, 'blamed': 640, 'mary': 3661, 'gear-head': 2417, 'reader': 4755, 'pink': 4401, 'edna': 1857, 'alarm': 200, 'front': 2347, 'layer': 3354, 'sissy': 5324, 'says': 5059, 'knees': 3272, 'cream': 1386, \"smokin'_joe_frazier:\": 5412, 'tinkle': 6066, 'program': 4601, 'nigel_bakerbutcher:': 4025, 'smiled': 5403, 'bupkus': 844, 'respect': 4865, 'passes': 4285, 'pain': 4239, 'super-nice': 5777, \"there's\": 5988, 'unlucky': 6301, 'bid': 608, 'barflies': 482, 'championship': 1020, 'grandé': 2544, 'sharity': 5205, 'someone': 5479, 'pleading': 4442, 'grand': 2539, 'hell': 2747, 'burns': 852, 'site': 5332, 'sausage': 5048, 'drinks': 1763, \"lefty's\": 3373, '__exclamation_mark__': 54, 'african': 157, 'german': 2436, 'pull': 4640, 'tummies': 6203, 'pep': 4329, 'chew': 1071, 'half-beer': 2635, 'laws': 3351, 'aerosmith': 148, 'foodie': 2258, 'talking': 5872, 'reptile': 4857, 'air': 195, 'bonfire': 692, 'handing': 2647, 'shush': 5270, \"president's\": 4548, 'ingested': 3011, 'invisible': 3065, 'young_marge:': 6756, \"battin'\": 518, \"cont'd:\": 1293, 'salvador': 5021, 'bad-mouth': 444, 'dungeon': 1811, 'marge': 3645, 'pulls': 4644, 'edison': 1856, 'night': 4028, 'baby': 432, 'muscles': 3920, 'frustrated': 2352, 'mixed': 3804, 'domed': 1702, 'len-ny': 3383, 'darkest': 1483, 'stay-puft': 5641, 'closing': 1171, 'experience': 2019, 'thanksgiving': 5966, 'choices': 1097, 'popular': 4499, 'occurs': 4115, 'midge': 3753, 'kneeling': 3271, 'souvenir': 5515, \"blowin'\": 668, 'come': 1221, 'snaps': 5427, 'pushing': 4659, 'try': 6196, 'trapping': 6154, 'rookie': 4939, 'funds': 2367, 'picky': 4383, 'five': 2196, 'awareness': 412, 'lucius:': 3557, 'asking': 363, \"writin'\": 6696, 'socialize': 5460, 'cocks': 1193, 'saga': 5008, 'helicopter': 2745, 'girls': 2472, 'especially': 1961, 'dizzy': 1684, 'medical': 3709, 'fake': 2068, \"marge's\": 3646, 'lot': 3524, 'psst': 4626, 'hangs': 2662, 'menacing': 3725, 'isotopes': 3085, 'all-all-all': 216, 'throats': 6040, 'pretend': 4557, 'brunswick': 811, 'busy': 869, 'license': 3411, 'uncomfortable': 6266, 'lucinda': 3555, 'knit': 3275, 'today': 6079, 'jeter': 3146, 'losers': 3520, 'offer': 4127, 'donut': 1714, 'bob': 679, 'incarcerated': 2979, 'griffith': 2563, 'wishes': 6618, 'sap': 5036, 'derek': 1577, 'pope': 4494, 'hollywood': 2827, \"i'd\": 2928, 'springfield': 5575, 'murmur': 3916, 'anyone': 300, 'authorized': 402, 'rife': 4897, \"santa's\": 5034, 'spiritual': 5550, 'anti-crime': 291, 'yellow-belly': 6733, 'lessee': 3396, \"s'cuse\": 4990, 'whose': 6566, 'warmth': 6433, \"o'\": 4097, 'referee': 4791, 'pills': 4394, 'table': 5851, 'municipal': 3911, 'ford': 2271, 'sister': 5325, 'retired': 4874, 'sequel': 5164, 'trucks': 6189, 'lungs': 3565, 'hunger': 2910, 'whatcha': 6522, 'drapes': 1740, 'killarney': 3244, 'skin': 5349, 'donuts': 1716, 'waterfront': 6458, 'worthless': 6677, 'orifice': 4190, 'hoping': 2860, \"squeezin'\": 5588, 'stored': 5698, 'bubbles': 814, 'accent': 96, 'horses': 2868, 'bow': 725, 'distributor': 1675, 'kill': 3243, 'overstressed': 4217, 'sooo': 5497, 'lou:': 3530, 'might': 3756, 'presentable': 4543, 'nooo': 4056, \"homer's\": 2834, 'overhearing': 4216, 're:': 4746, 'booking': 700, 'xanders': 6706, 'mudflap': 3898, 'splash': 5556, 'golden': 2505, 'scientific': 5080, 'conspiracy': 1290, 'touch': 6121, 'contact': 1294, 'flew': 2222, 'floated': 2225, 'afraid': 155, 'crushed': 1423, \"i've\": 2934, 'register': 4801, 'starlets': 5619, 'obama': 4102, 'cushion': 1442, 'complicated': 1253, 'elder': 1889, 'top': 6114, 'flower': 2231, 'trick': 6172, 'reflected': 4795, 'morose': 3866, 'rented': 4843, 'maggie': 3592, 'ho-la': 2811, 'background': 439, 'pretentious_rat_lover:': 4560, 'bus': 860, \"that'll\": 5969, 'expired': 2023, 'connor': 1282, 'attached': 384, \"gentleman's\": 2429, 'kirk': 3258, 'piece': 4387, 'fainted': 2064, 'grocery': 2571, 'sexton': 5181, 'presumir': 4556, 'dae': 1462, 'pennies': 4325, 'huge': 2899, 'justice': 3197, 'worldly': 6670, 'six-barrel': 5338, 'wheels': 6530, 'padres': 4234, 'east': 1836, 'rich': 4887, \"mcstagger's\": 3690, 'walked': 6411, \"barney's\": 489, 'draw': 1741, \"sittin'\": 5334, 'noises': 4048, 'along': 230, 'para': 4263, \"fendin'\": 2135, 'portuguese': 4504, 'in-in-in': 2976, 'clean': 1145, 'crony': 1405, 'methinks': 3735, 'bees': 561, 'bleak': 644, 'grants': 2546, 'ech': 1848, 'secrets': 5121, 'takeaway': 5860, 'clothes': 1172, 'aquafresh': 328, 'othello': 4193, 'take-back': 5859, 'simple': 5300, 'ends': 1924, 'fresco': 2326, 'peabody': 4314, 'arab_man:': 329, 'send': 5156, 'boys': 742, 'bachelorette': 434, 'sales': 5019, 'spitting': 5555, 'months': 3851, 'i-i': 2935, 'yelp': 6735, 'issues': 3086, 'phone': 4367, \"sippin'\": 5321, 'whip': 6544, 'habit': 2621, 'stars': 5620, 'jockey': 3157, 'ronstadt': 4937, 'bagged': 451, \"wino's\": 6607, 'smile:': 5402, 'cushions': 1443, 'declan': 1525, 'tanking': 5877, 'deli': 1543, 'letters': 3401, 'woman_bystander:': 6639, 'patterns': 4301, 'progress': 4602, 'fuhgetaboutit': 2356, 'au': 395, \"nothin'\": 4072, 'cowboy': 1365, 'ball-sized': 458, 'ratio': 4741, 'on': 4154, 'roomy': 4941, 'suave': 5741, \"idea's\": 2945, 'night-crawlers': 4029, 'quick-like': 4682, 'burt_reynolds:': 858, 'monkeyshines': 3845, 'reached': 4748}\n"
     ]
    }
   ],
   "source": [
    "# debug helper \n",
    "text = helper.load_data(data_dir)\n",
    "\n",
    "# Ignore notice, since we don't use it for analysing the data\n",
    "text = text[81:]\n",
    "\n",
    "token_dict = token_lookup()\n",
    "for key, token in token_dict.items():\n",
    "    text = text.replace(key, ' {} '.format(token))\n",
    "\n",
    "text = text.lower()\n",
    "text = text.split()\n",
    "\n",
    "vocab_to_int, int_to_vocab = create_lookup_tables(text)\n",
    "\n",
    "print(vocab_to_int)"
   ]
  },
  {
   "cell_type": "code",
   "execution_count": 8,
   "metadata": {
    "collapsed": false,
    "deletable": true,
    "editable": true
   },
   "outputs": [],
   "source": [
    "import pickle\n",
    "int_text = [vocab_to_int[word] for word in text]\n",
    "pickle.dump((int_text, vocab_to_int, int_to_vocab, token_dict), open('preprocess.p', 'wb'))"
   ]
  },
  {
   "cell_type": "code",
   "execution_count": 9,
   "metadata": {
    "collapsed": false,
    "deletable": true,
    "editable": true
   },
   "outputs": [],
   "source": [
    "\"\"\"\n",
    "DON'T MODIFY ANYTHING IN THIS CELL\n",
    "\"\"\"\n",
    "# Preprocess Training, Validation, and Testing Data\n",
    "helper.preprocess_and_save_data(data_dir, token_lookup, create_lookup_tables)"
   ]
  },
  {
   "cell_type": "markdown",
   "metadata": {
    "deletable": true,
    "editable": true
   },
   "source": [
    "# Check Point\n",
    "This is your first checkpoint. If you ever decide to come back to this notebook or have to restart the notebook, you can start from here. The preprocessed data has been saved to disk."
   ]
  },
  {
   "cell_type": "code",
   "execution_count": 10,
   "metadata": {
    "collapsed": false,
    "deletable": true,
    "editable": true
   },
   "outputs": [],
   "source": [
    "\"\"\"\n",
    "DON'T MODIFY ANYTHING IN THIS CELL\n",
    "\"\"\"\n",
    "import helper\n",
    "import numpy as np\n",
    "import problem_unittests as tests\n",
    "\n",
    "int_text, vocab_to_int, int_to_vocab, token_dict = helper.load_preprocess()"
   ]
  },
  {
   "cell_type": "markdown",
   "metadata": {
    "deletable": true,
    "editable": true
   },
   "source": [
    "## Build the Neural Network\n",
    "You'll build the components necessary to build a RNN by implementing the following functions below:\n",
    "- get_inputs\n",
    "- get_init_cell\n",
    "- get_embed\n",
    "- build_rnn\n",
    "- build_nn\n",
    "- get_batches\n",
    "\n",
    "### Check the Version of TensorFlow and Access to GPU"
   ]
  },
  {
   "cell_type": "code",
   "execution_count": 11,
   "metadata": {
    "collapsed": false,
    "deletable": true,
    "editable": true
   },
   "outputs": [
    {
     "name": "stdout",
     "output_type": "stream",
     "text": [
      "TensorFlow Version: 1.0.0\n",
      "Default GPU Device: /gpu:0\n"
     ]
    }
   ],
   "source": [
    "\"\"\"\n",
    "DON'T MODIFY ANYTHING IN THIS CELL\n",
    "\"\"\"\n",
    "from distutils.version import LooseVersion\n",
    "import warnings\n",
    "import tensorflow as tf\n",
    "\n",
    "# Check TensorFlow Version\n",
    "assert LooseVersion(tf.__version__) >= LooseVersion('1.0'), 'Please use TensorFlow version 1.0 or newer'\n",
    "print('TensorFlow Version: {}'.format(tf.__version__))\n",
    "\n",
    "# Check for a GPU\n",
    "if not tf.test.gpu_device_name():\n",
    "    warnings.warn('No GPU found. Please use a GPU to train your neural network.')\n",
    "else:\n",
    "    print('Default GPU Device: {}'.format(tf.test.gpu_device_name()))"
   ]
  },
  {
   "cell_type": "markdown",
   "metadata": {
    "deletable": true,
    "editable": true
   },
   "source": [
    "### Input\n",
    "Implement the `get_inputs()` function to create TF Placeholders for the Neural Network.  It should create the following placeholders:\n",
    "- Input text placeholder named \"input\" using the [TF Placeholder](https://www.tensorflow.org/api_docs/python/tf/placeholder) `name` parameter.\n",
    "- Targets placeholder\n",
    "- Learning Rate placeholder\n",
    "\n",
    "Return the placeholders in the following the tuple `(Input, Targets, LearingRate)`"
   ]
  },
  {
   "cell_type": "code",
   "execution_count": 12,
   "metadata": {
    "collapsed": false,
    "deletable": true,
    "editable": true
   },
   "outputs": [],
   "source": [
    "def get_inputs():\n",
    "    \"\"\"\n",
    "    Create TF Placeholders for input, targets, and learning rate.\n",
    "    :return: Tuple (inputs, targets, learning rate)\n",
    "    \"\"\"    \n",
    "    inputs = tf.placeholder(tf.int32, [None, None], name='input')\n",
    "    targets = tf.placeholder(tf.int32, [None, None], name='label')\n",
    "    learning_rate = tf.placeholder(tf.float32, name='learning_rate')\n",
    "\n",
    "    return inputs, targets, learning_rate\n",
    "\n",
    "#input_data, targets, lr = get_inputs()\n",
    "#print((input_data.__doc__))"
   ]
  },
  {
   "cell_type": "code",
   "execution_count": 13,
   "metadata": {
    "collapsed": false,
    "deletable": true,
    "editable": true
   },
   "outputs": [
    {
     "name": "stdout",
     "output_type": "stream",
     "text": [
      "Tests Passed\n"
     ]
    }
   ],
   "source": [
    "\"\"\"\n",
    "DON'T MODIFY ANYTHING IN THIS CELL THAT IS BELOW THIS LINE\n",
    "\"\"\"\n",
    "tests.test_get_inputs(get_inputs)"
   ]
  },
  {
   "cell_type": "markdown",
   "metadata": {
    "deletable": true,
    "editable": true
   },
   "source": [
    "### Build RNN Cell and Initialize\n",
    "Stack one or more [`BasicLSTMCells`](https://www.tensorflow.org/api_docs/python/tf/contrib/rnn/BasicLSTMCell) in a [`MultiRNNCell`](https://www.tensorflow.org/api_docs/python/tf/contrib/rnn/MultiRNNCell).\n",
    "- The Rnn size should be set using `rnn_size`\n",
    "- Initalize Cell State using the MultiRNNCell's [`zero_state()`](https://www.tensorflow.org/api_docs/python/tf/contrib/rnn/MultiRNNCell#zero_state) function\n",
    "    - Apply the name \"initial_state\" to the initial state using [`tf.identity()`](https://www.tensorflow.org/api_docs/python/tf/identity)\n",
    "\n",
    "Return the cell and initial state in the following tuple `(Cell, InitialState)`"
   ]
  },
  {
   "cell_type": "code",
   "execution_count": 14,
   "metadata": {
    "collapsed": false,
    "deletable": true,
    "editable": true
   },
   "outputs": [],
   "source": [
    "lstm_layers = 1\n",
    "\n",
    "def get_init_cell(batch_size, rnn_size):\n",
    "    \"\"\"\n",
    "    Create an RNN Cell and initialize it.\n",
    "    :param batch_size: Size of batches\n",
    "    :param rnn_size: Size of RNNs\n",
    "    :return: Tuple (cell, initial_state)\n",
    "    \"\"\"\n",
    "    \n",
    "    # Your basic LSTM cell\n",
    "    lstm = tf.contrib.rnn.BasicLSTMCell(rnn_size)\n",
    "    \n",
    "    # Add dropout to the cell\n",
    "    #drop = tf.contrib.rnn.DropoutWrapper(lstm, output_keep_prob=keep_prob)\n",
    "    drop = lstm\n",
    "    \n",
    "    # Stack up multiple LSTM layers, for deep learning\n",
    "    cell = tf.contrib.rnn.MultiRNNCell([drop] * lstm_layers)\n",
    "    \n",
    "    # Getting an initial state of all zeros\n",
    "    initial_state = cell.zero_state(batch_size, tf.float32)\n",
    "    \n",
    "    initial_state = tf.identity(initial_state,'initial_state')\n",
    "    \n",
    "    return cell, initial_state\n",
    "\n"
   ]
  },
  {
   "cell_type": "code",
   "execution_count": 15,
   "metadata": {
    "collapsed": false,
    "deletable": true,
    "editable": true
   },
   "outputs": [
    {
     "name": "stdout",
     "output_type": "stream",
     "text": [
      "Tests Passed\n"
     ]
    }
   ],
   "source": [
    "\"\"\"\n",
    "DON'T MODIFY ANYTHING IN THIS CELL THAT IS BELOW THIS LINE\n",
    "\"\"\"\n",
    "tests.test_get_init_cell(get_init_cell)"
   ]
  },
  {
   "cell_type": "markdown",
   "metadata": {
    "deletable": true,
    "editable": true
   },
   "source": [
    "### Word Embedding\n",
    "Apply embedding to `input_data` using TensorFlow.  Return the embedded sequence."
   ]
  },
  {
   "cell_type": "code",
   "execution_count": 16,
   "metadata": {
    "collapsed": false,
    "deletable": true,
    "editable": true
   },
   "outputs": [
    {
     "name": "stdout",
     "output_type": "stream",
     "text": [
      "Tests Passed\n"
     ]
    }
   ],
   "source": [
    "def get_embed(input_data, vocab_size, embed_dim):\n",
    "    \"\"\"\n",
    "    Create embedding for <input_data>.\n",
    "    :param input_data: TF placeholder for text input.\n",
    "    :param vocab_size: Number of words in vocabulary.\n",
    "    :param embed_dim: Number of embedding dimensions\n",
    "    :return: Embedded input.\n",
    "    \"\"\"\n",
    "    #print(input_data)\n",
    "    #embedding = tf.Variable(tf.random_uniform((vocab_size, embed_dim), -1, 1),name='embedding_weights')\n",
    "    #print(embedding)\n",
    "    #embed = tf.nn.embedding_lookup(embedding, input_data)  \n",
    "    #print(embed)\n",
    "\n",
    "    return tf.contrib.layers.embed_sequence(input_data, vocab_size, embed_dim)\n",
    "\n",
    "\"\"\"\n",
    "DON'T MODIFY ANYTHING IN THIS CELL THAT IS BELOW THIS LINE\n",
    "\"\"\"\n",
    "tests.test_get_embed(get_embed)"
   ]
  },
  {
   "cell_type": "markdown",
   "metadata": {
    "deletable": true,
    "editable": true
   },
   "source": [
    "### Build RNN\n",
    "You created a RNN Cell in the `get_init_cell()` function.  Time to use the cell to create a RNN.\n",
    "- Build the RNN using the [`tf.nn.dynamic_rnn()`](https://www.tensorflow.org/api_docs/python/tf/nn/dynamic_rnn)\n",
    " - Apply the name \"final_state\" to the final state using [`tf.identity()`](https://www.tensorflow.org/api_docs/python/tf/identity)\n",
    "\n",
    "Return the outputs and final_state state in the following tuple `(Outputs, FinalState)` "
   ]
  },
  {
   "cell_type": "code",
   "execution_count": 17,
   "metadata": {
    "collapsed": false,
    "deletable": true,
    "editable": true
   },
   "outputs": [
    {
     "name": "stdout",
     "output_type": "stream",
     "text": [
      "Tests Passed\n"
     ]
    }
   ],
   "source": [
    "def build_rnn(cell, inputs):\n",
    "    \"\"\"\n",
    "    Create a RNN using a RNN Cell\n",
    "    :param cell: RNN Cell\n",
    "    :param inputs: Input text data\n",
    "    :return: Tuple (Outputs, Final State)\n",
    "    \"\"\"\n",
    "    #print(inputs)\n",
    "    \n",
    "    outputs, final_state = tf.nn.dynamic_rnn(cell, inputs,\n",
    "                                             dtype = tf.float32\n",
    "                                             #initial_state=initial_state\n",
    "                                            )\n",
    "    \n",
    "    final_state = tf.identity(final_state,'final_state')\n",
    "    #print(final_state)\n",
    "    #print(outputs)\n",
    "    return outputs, final_state\n",
    "\n",
    "\n",
    "\"\"\"\n",
    "DON'T MODIFY ANYTHING IN THIS CELL THAT IS BELOW THIS LINE\n",
    "\"\"\"\n",
    "tests.test_build_rnn(build_rnn)"
   ]
  },
  {
   "cell_type": "markdown",
   "metadata": {
    "deletable": true,
    "editable": true
   },
   "source": [
    "### Build the Neural Network\n",
    "Apply the functions you implemented above to:\n",
    "- Apply embedding to `input_data` using your `get_embed(input_data, vocab_size, embed_dim)` function.\n",
    "- Build RNN using `cell` and your `build_rnn(cell, inputs)` function.\n",
    "- Apply a fully connected layer with a linear activation and `vocab_size` as the number of outputs.\n",
    "\n",
    "Return the logits and final state in the following tuple (Logits, FinalState) "
   ]
  },
  {
   "cell_type": "code",
   "execution_count": 18,
   "metadata": {
    "collapsed": false,
    "deletable": true,
    "editable": true
   },
   "outputs": [
    {
     "name": "stdout",
     "output_type": "stream",
     "text": [
      "Tests Passed\n"
     ]
    }
   ],
   "source": [
    "def build_nn(cell, rnn_size, input_data, vocab_size):\n",
    "    \"\"\"\n",
    "    Build part of the neural network\n",
    "    :param cell: RNN cell\n",
    "    :param rnn_size: Size of rnns\n",
    "    :param input_data: Input data\n",
    "    :param vocab_size: Vocabulary size\n",
    "    :return: Tuple (Logits, FinalState)\n",
    "    \"\"\"\n",
    "    \n",
    "    embed = get_embed(input_data, vocab_size, rnn_size)\n",
    "    outputs, final_state = build_rnn(cell, embed)\n",
    "\n",
    "    logits = tf.contrib.layers.fully_connected(\n",
    "        outputs, \n",
    "        num_outputs=vocab_size,\n",
    "        activation_fn=None,\n",
    "        weights_initializer=tf.truncated_normal_initializer(stddev=0.01)\n",
    "        )\n",
    "\n",
    "    return logits, final_state\n",
    "\n",
    "\n",
    "\"\"\"\n",
    "DON'T MODIFY ANYTHING IN THIS CELL THAT IS BELOW THIS LINE\n",
    "\"\"\"\n",
    "tests.test_build_nn(build_nn)"
   ]
  },
  {
   "cell_type": "markdown",
   "metadata": {
    "deletable": true,
    "editable": true
   },
   "source": [
    "### Batches\n",
    "Implement `get_batches` to create batches of input and targets using `int_text`.  The batches should be a Numpy array with the shape `(number of batches, 2, batch size, sequence length)`. Each batch contains two elements:\n",
    "- The first element is a single batch of **input** with the shape `[batch size, sequence length]`\n",
    "- The second element is a single batch of **targets** with the shape `[batch size, sequence length]`\n",
    "\n",
    "If you can't fill the last batch with enough data, drop the last batch.\n",
    "\n",
    "For exmple, `get_batches([1, 2, 3, 4, 5, 6, 7, 8, 9, 10, 11, 12, 13, 14, 15], 2, 3)` would return a Numpy array of the following:\n",
    "```\n",
    "[\n",
    "  # First Batch\n",
    "  [\n",
    "    # Batch of Input\n",
    "    [[ 1  2  3], [ 7  8  9]],\n",
    "    # Batch of targets\n",
    "    [[ 2  3  4], [ 8  9 10]]\n",
    "  ],\n",
    " \n",
    "  # Second Batch\n",
    "  [\n",
    "    # Batch of Input\n",
    "    [[ 4  5  6], [10 11 12]],\n",
    "    # Batch of targets\n",
    "    [[ 5  6  7], [11 12 13]]\n",
    "  ]\n",
    "]\n",
    "```"
   ]
  },
  {
   "cell_type": "code",
   "execution_count": 19,
   "metadata": {
    "collapsed": false,
    "deletable": true,
    "editable": true
   },
   "outputs": [
    {
     "name": "stdout",
     "output_type": "stream",
     "text": [
      "Tests Passed\n"
     ]
    }
   ],
   "source": [
    "import random\n",
    "\n",
    "batch_distance_override = None\n",
    "\n",
    "def get_batches(int_text, batch_size, seq_length, batch_distance = None):\n",
    "    \"\"\"\n",
    "    Return batches of input and target\n",
    "    :param int_text: Text with the words replaced by their ids\n",
    "    :param batch_size: The size of batch\n",
    "    :param seq_length: The length of sequence\n",
    "    :return: Batches as a Numpy array\n",
    "    \"\"\"\n",
    "    x = int_text[:-1]\n",
    "    y = int_text[1:]\n",
    "    \n",
    "    #print('{} : {}'.format('seq_length',seq_length))\n",
    "    single_batch_len = len(x)-seq_length\n",
    "    #print('{} : {}'.format('single_batch_len',single_batch_len))\n",
    "    single_batch = np.empty([2,single_batch_len,seq_length])\n",
    "    \n",
    "    single_batch_range = list(range(single_batch_len))\n",
    "    \n",
    "    random.shuffle(single_batch_range)\n",
    "    #print(batch_range)\n",
    "    \n",
    "    ii2 = 0\n",
    "    for ii in single_batch_range:\n",
    "        single_batch [0,ii2] = x[ii:ii+seq_length]\n",
    "        single_batch [1,ii2] = y[ii:ii+seq_length]\n",
    "        ii2 += 1\n",
    "    \n",
    "    \n",
    "    #################################################################################################################\n",
    "    #\n",
    "    #\n",
    "    #  Question 1: why are the labels same length sequences of words not just the one word ?\n",
    "    #\n",
    "    #  Question 2: would it be better to set batch_distance to a smaller value ?\n",
    "    #\n",
    "    #\n",
    "    #################################################################################################################\n",
    "\n",
    "    if batch_distance == None:\n",
    "        batch_distance = seq_length # would be 1 better?\n",
    "        \n",
    "    if batch_distance_override != None:\n",
    "        batch_distance = batch_distance_override\n",
    "        \n",
    "    n_batches = single_batch_len//batch_size//batch_distance\n",
    "    result = np.empty([n_batches,2,batch_size,seq_length])\n",
    "\n",
    "    #print('{} : {}'.format('batch_size',batch_size))\n",
    "    #print('{} : {}'.format('n_batches',n_batches))\n",
    "    \n",
    "    batch_range = (list(range(n_batches)))\n",
    "    \n",
    "    for ii in range(n_batches): #range(0, len(x), batch_size):\n",
    "        iii = ii * batch_size * batch_distance\n",
    "        result[ii] = single_batch[:,iii:iii+batch_size]\n",
    "\n",
    "    return result\n",
    "\n",
    "\n",
    "\"\"\"\n",
    "DON'T MODIFY ANYTHING IN THIS CELL THAT IS BELOW THIS LINE\n",
    "\"\"\"\n",
    "tests.test_get_batches(get_batches)"
   ]
  },
  {
   "cell_type": "markdown",
   "metadata": {
    "deletable": true,
    "editable": true
   },
   "source": [
    "## Neural Network Training\n",
    "### Hyperparameters\n",
    "Tune the following parameters:\n",
    "\n",
    "- Set `num_epochs` to the number of epochs.\n",
    "- Set `batch_size` to the batch size.\n",
    "- Set `rnn_size` to the size of the RNNs.\n",
    "- Set `seq_length` to the length of sequence.\n",
    "- Set `learning_rate` to the learning rate.\n",
    "- Set `show_every_n_batches` to the number of batches the neural network should print progress."
   ]
  },
  {
   "cell_type": "code",
   "execution_count": 20,
   "metadata": {
    "collapsed": true,
    "deletable": true,
    "editable": true
   },
   "outputs": [],
   "source": [
    "###### Number of Epochs\n",
    "num_epochs = 2**10\n",
    "# Batch Size\n",
    "batch_size = 127*2**2 # Primfaktoren von 69088: 2, 2, 2, 2, 2, 17, 127\n",
    "# RNN Size\n",
    "rnn_size = 256\n",
    "# Sequence Length\n",
    "seq_length = 10\n",
    "# Learning Rate\n",
    "learning_rate = 0.001\n",
    "# Show stats for every n number of batches\n",
    "show_every_n_batches = 130\n",
    "# override batch_distance\n",
    "batch_distance_override =  seq_length\n",
    "\n",
    "\n",
    "\"\"\"\n",
    "DON'T MODIFY ANYTHING IN THIS CELL THAT IS BELOW THIS LINE\n",
    "\"\"\"\n",
    "save_dir = './save'"
   ]
  },
  {
   "cell_type": "markdown",
   "metadata": {
    "deletable": true,
    "editable": true
   },
   "source": [
    "### Build the Graph\n",
    "Build the graph using the neural network you implemented."
   ]
  },
  {
   "cell_type": "code",
   "execution_count": 21,
   "metadata": {
    "collapsed": false,
    "deletable": true,
    "editable": true
   },
   "outputs": [],
   "source": [
    "\"\"\"\n",
    "DON'T MODIFY ANYTHING IN THIS CELL\n",
    "\"\"\"\n",
    "from tensorflow.contrib import seq2seq\n",
    "\n",
    "train_graph = tf.Graph()\n",
    "with train_graph.as_default():\n",
    "    vocab_size = len(int_to_vocab)\n",
    "    input_text, targets, lr = get_inputs()\n",
    "    input_data_shape = tf.shape(input_text)\n",
    "    cell, initial_state = get_init_cell(input_data_shape[0], rnn_size)\n",
    "    logits, final_state = build_nn(cell, rnn_size, input_text, vocab_size)\n",
    "\n",
    "    # Probabilities for generating words\n",
    "    probs = tf.nn.softmax(logits, name='probs')\n",
    "\n",
    "    # Loss function\n",
    "    cost = seq2seq.sequence_loss(\n",
    "        logits,\n",
    "        targets,\n",
    "        tf.ones([input_data_shape[0], input_data_shape[1]]))\n",
    "\n",
    "    # Optimizer\n",
    "    optimizer = tf.train.AdamOptimizer(lr)\n",
    "\n",
    "    # Gradient Clipping\n",
    "    gradients = optimizer.compute_gradients(cost)\n",
    "    capped_gradients = [(tf.clip_by_value(grad, -1., 1.), var) for grad, var in gradients]\n",
    "    train_op = optimizer.apply_gradients(capped_gradients)"
   ]
  },
  {
   "cell_type": "markdown",
   "metadata": {
    "deletable": true,
    "editable": true
   },
   "source": [
    "## Train\n",
    "Train the neural network on the preprocessed data.  If you have a hard time getting a good loss, check the [forms](https://discussions.udacity.com/) to see if anyone is having the same problem."
   ]
  },
  {
   "cell_type": "code",
   "execution_count": null,
   "metadata": {
    "collapsed": false,
    "deletable": true,
    "editable": true
   },
   "outputs": [],
   "source": [
    "\"\"\"\n",
    "DON'T MODIFY ANYTHING IN THIS CELL\n",
    "\"\" \"\n",
    "\n",
    "batches = get_batches(int_text, batch_size, seq_length)\n",
    "\n",
    "with tf.Session(graph=train_graph) as sess:\n",
    "    sess.run(tf.global_variables_initializer())\n",
    "\n",
    "    for epoch_i in range(num_epochs):\n",
    "        state = sess.run(initial_state, {input_text: batches[0][0]})\n",
    "\n",
    "        for batch_i, (x, y) in enumerate(batches):\n",
    "            feed = {\n",
    "                input_text: x,\n",
    "                targets: y,\n",
    "                initial_state: state,\n",
    "                lr: learning_rate}\n",
    "            train_loss, state, _ = sess.run([cost, final_state, train_op], feed)\n",
    "\n",
    "            # Show every <show_every_n_batches> batches\n",
    "            if (epoch_i * len(batches) + batch_i) % show_every_n_batches == 0:\n",
    "                print('Epoch {:>3} Batch {:>4}/{}   train_loss = {:.3f}'.format(\n",
    "                    epoch_i,\n",
    "                    batch_i,\n",
    "                    len(batches),\n",
    "                    train_loss))\n",
    "\n",
    "    # Save Model\n",
    "    saver = tf.train.Saver()\n",
    "    saver.save(sess, save_dir)\n",
    "    print('Model Trained and Saved')\n",
    "        \n",
    "\"\"\";"
   ]
  },
  {
   "cell_type": "code",
   "execution_count": null,
   "metadata": {
    "collapsed": false,
    "deletable": true,
    "editable": true
   },
   "outputs": [
    {
     "name": "stdout",
     "output_type": "stream",
     "text": [
      "Initialised Model...\n",
      "Epoch   0 Batch    0/13   train_loss = 8.822\n",
      "Epoch  10 Batch    0/13   train_loss = 5.629\n",
      "Epoch  20 Batch    0/13   train_loss = 5.320\n",
      "Epoch  30 Batch    0/13   train_loss = 5.049\n",
      "Epoch  40 Batch    0/13   train_loss = 4.803\n",
      "Epoch  50 Batch    0/13   train_loss = 4.524\n",
      "Epoch  60 Batch    0/13   train_loss = 4.235\n",
      "Epoch  70 Batch    0/13   train_loss = 3.945\n",
      "Epoch  80 Batch    0/13   train_loss = 3.681\n",
      "Epoch  90 Batch    0/13   train_loss = 3.432\n",
      "Epoch 100 Batch    0/13   train_loss = 3.204\n",
      "Epoch 110 Batch    0/13   train_loss = 3.013\n",
      "Epoch 120 Batch    0/13   train_loss = 2.787\n",
      "Epoch 130 Batch    0/13   train_loss = 2.597\n",
      "Epoch 140 Batch    0/13   train_loss = 2.427\n",
      "Epoch 150 Batch    0/13   train_loss = 2.268\n",
      "Epoch 160 Batch    0/13   train_loss = 2.130\n",
      "Epoch 170 Batch    0/13   train_loss = 1.990\n"
     ]
    }
   ],
   "source": [
    "# added cyclic save and restore to interrupt training\n",
    "\n",
    "# moved (rerandomised) batch generation in epoch loop\n",
    " \n",
    "import matplotlib.pyplot as plt\n",
    "import time\n",
    "\n",
    "#batches = get_batches(int_text, batch_size, seq_length)\n",
    "\n",
    "with tf.Session(graph=train_graph) as sess:\n",
    "    \n",
    "    try:\n",
    "        assert() #\n",
    "        saver.restore(sess, save_dir)\n",
    "        print('Model Restored :)')\n",
    "        with open('train_loss_history.p','rb') as file:\n",
    "            train_loss_history = pickle.load(file)\n",
    "        print('Loss_history Restored :)')\n",
    "    except:\n",
    "        train_loss_history = []\n",
    "        sess.run(tf.global_variables_initializer())\n",
    "        print('Initialised Model...')\n",
    "\n",
    "    for epoch_i in range(num_epochs):\n",
    "        \n",
    "        # rerandomise batches\n",
    "        batches = get_batches(int_text, batch_size, seq_length)\n",
    "\n",
    "        state = sess.run(initial_state, {input_text: batches[0][0]})\n",
    "    \n",
    "        start = time.time()\n",
    "        for batch_i, (x, y) in enumerate(batches):\n",
    "            feed = {\n",
    "                input_text: x,\n",
    "                targets: y,\n",
    "                initial_state: state,\n",
    "                lr: learning_rate}\n",
    "            train_loss, state, _ = sess.run([cost, final_state, train_op], feed)\n",
    "            \n",
    "            train_loss_history += [train_loss]\n",
    "\n",
    "            # Show every <show_every_n_batches> batches\n",
    "            if (epoch_i * len(batches) + batch_i) % show_every_n_batches == 0:\n",
    "                print('Epoch {:>3} Batch {:>4}/{}   train_loss = {:.3f}'.format(\n",
    "                    epoch_i,\n",
    "                    batch_i,\n",
    "                    len(batches),\n",
    "                    train_loss))\n",
    "                \n",
    "            if(train_loss<0.1):\n",
    "                break\n",
    "        if(train_loss<0.1):\n",
    "            break\n",
    "                \n",
    "                \n",
    "    #print('computation time : {}'.format(time.time() - start))\n",
    "    print('Epoch {:>3} Batch {:>4}/{}   train_loss = {:.3f}'.format(\n",
    "        epoch_i,\n",
    "        batch_i,\n",
    "        len(batches),\n",
    "        train_loss))\n",
    "    # Save Model\n",
    "    saver = tf.train.Saver()\n",
    "    saver.save(sess, save_dir)\n",
    "    pickle.dump((train_loss_history), open('train_loss_history.p', 'wb'))\n",
    "    print('Model Trained and Saved')\n",
    "    plt.plot(train_loss_history)\n",
    "    plt.show()"
   ]
  },
  {
   "cell_type": "markdown",
   "metadata": {
    "deletable": true,
    "editable": true
   },
   "source": [
    "## Save Parameters\n",
    "Save `seq_length` and `save_dir` for generating a new TV script."
   ]
  },
  {
   "cell_type": "code",
   "execution_count": null,
   "metadata": {
    "collapsed": false,
    "deletable": true,
    "editable": true
   },
   "outputs": [],
   "source": [
    "\"\"\"\n",
    "DON'T MODIFY ANYTHING IN THIS CELL\n",
    "\"\"\"\n",
    "# Save parameters for checkpoint\n",
    "helper.save_params((seq_length, save_dir))"
   ]
  },
  {
   "cell_type": "markdown",
   "metadata": {
    "deletable": true,
    "editable": true
   },
   "source": [
    "# Checkpoint"
   ]
  },
  {
   "cell_type": "code",
   "execution_count": null,
   "metadata": {
    "collapsed": false,
    "deletable": true,
    "editable": true
   },
   "outputs": [],
   "source": [
    "\"\"\"\n",
    "DON'T MODIFY ANYTHING IN THIS CELL\n",
    "\"\"\"\n",
    "import tensorflow as tf\n",
    "import numpy as np\n",
    "import helper\n",
    "import problem_unittests as tests\n",
    "\n",
    "_, vocab_to_int, int_to_vocab, token_dict = helper.load_preprocess()\n",
    "seq_length, load_dir = helper.load_params()"
   ]
  },
  {
   "cell_type": "markdown",
   "metadata": {
    "deletable": true,
    "editable": true
   },
   "source": [
    "## Implement Generate Functions\n",
    "### Get Tensors\n",
    "Get tensors from `loaded_graph` using the function [`get_tensor_by_name()`](https://www.tensorflow.org/api_docs/python/tf/Graph#get_tensor_by_name).  Get the tensors using the following names:\n",
    "- \"input:0\"\n",
    "- \"initial_state:0\"\n",
    "- \"final_state:0\"\n",
    "- \"probs:0\"\n",
    "\n",
    "Return the tensors in the following tuple `(InputTensor, InitialStateTensor, FinalStateTensor, ProbsTensor)` "
   ]
  },
  {
   "cell_type": "code",
   "execution_count": null,
   "metadata": {
    "collapsed": false,
    "deletable": true,
    "editable": true
   },
   "outputs": [],
   "source": [
    "def get_tensors(loaded_graph):\n",
    "    \"\"\"\n",
    "    Get input, initial state, final state, and probabilities tensor from <loaded_graph>\n",
    "    :param loaded_graph: TensorFlow graph loaded from file\n",
    "    :return: Tuple (InputTensor, InitialStateTensor, FinalStateTensor, ProbsTensor)\n",
    "    \"\"\"\n",
    "    InputTensor        = loaded_graph.get_tensor_by_name(\"input:0\")\n",
    "    InitialStateTensor = loaded_graph.get_tensor_by_name(\"initial_state:0\")\n",
    "    FinalStateTensor   = loaded_graph.get_tensor_by_name(\"final_state:0\")\n",
    "    ProbsTensor        = loaded_graph.get_tensor_by_name(\"probs:0\")\n",
    "    return InputTensor, InitialStateTensor, FinalStateTensor, ProbsTensor\n",
    "\n",
    "\n",
    "\"\"\"\n",
    "DON'T MODIFY ANYTHING IN THIS CELL THAT IS BELOW THIS LINE\n",
    "\"\"\"\n",
    "tests.test_get_tensors(get_tensors)"
   ]
  },
  {
   "cell_type": "markdown",
   "metadata": {
    "deletable": true,
    "editable": true
   },
   "source": [
    "### Choose Word\n",
    "Implement the `pick_word()` function to select the next word using `probabilities`."
   ]
  },
  {
   "cell_type": "code",
   "execution_count": null,
   "metadata": {
    "collapsed": false,
    "deletable": true,
    "editable": true
   },
   "outputs": [],
   "source": [
    "def pick_word(probabilities, int_to_vocab):\n",
    "    \"\"\"\n",
    "    Pick the next word in the generated text\n",
    "    :param probabilities: Probabilites of the next word\n",
    "    :param int_to_vocab: Dictionary of word ids as the keys and words as the values\n",
    "    :return: String of the predicted word\n",
    "    \"\"\"\n",
    "    \n",
    "    p2 = sorted(list(zip(list(probabilities),range(len(probabilities)))))\n",
    "\n",
    "    # ideas : randomise by threshold, memorise last picks to control repetition, ad theme dict, alliteration\n",
    "\n",
    "    return int_to_vocab[p2[-1][-1]]\n",
    "\n",
    "\n",
    "\"\"\"\n",
    "DON'T MODIFY ANYTHING IN THIS CELL THAT IS BELOW THIS LINE\n",
    "\"\"\"\n",
    "tests.test_pick_word(pick_word)"
   ]
  },
  {
   "cell_type": "markdown",
   "metadata": {
    "deletable": true,
    "editable": true
   },
   "source": [
    "## Generate TV Script\n",
    "This will generate the TV script for you.  Set `gen_length` to the length of TV script you want to generate."
   ]
  },
  {
   "cell_type": "code",
   "execution_count": null,
   "metadata": {
    "collapsed": false,
    "deletable": true,
    "editable": true
   },
   "outputs": [],
   "source": [
    "gen_length = 1000\n",
    "# homer_simpson, moe_szyslak, or Barney_Gumble\n",
    "prime_word = 'moe_szyslak'\n",
    "\n",
    "\"\"\"\n",
    "DON'T MODIFY ANYTHING IN THIS CELL THAT IS BELOW THIS LINE\n",
    "\"\"\"\n",
    "loaded_graph = tf.Graph()\n",
    "with tf.Session(graph=loaded_graph) as sess:\n",
    "    # Load saved model\n",
    "    loader = tf.train.import_meta_graph(load_dir + '.meta')\n",
    "    loader.restore(sess, load_dir)\n",
    "\n",
    "    # Get Tensors from loaded model\n",
    "    input_text, initial_state, final_state, probs = get_tensors(loaded_graph)\n",
    "\n",
    "    # Sentences generation setup\n",
    "    gen_sentences = [prime_word + ':']\n",
    "    prev_state = sess.run(initial_state, {input_text: np.array([[1]])})\n",
    "\n",
    "    # Generate sentences\n",
    "    for n in range(gen_length):\n",
    "        # Dynamic Input\n",
    "        dyn_input = [[vocab_to_int[word] for word in gen_sentences[-seq_length:]]]\n",
    "        dyn_seq_length = len(dyn_input[0])\n",
    "\n",
    "        # Get Prediction\n",
    "        probabilities, prev_state = sess.run(\n",
    "            [probs, final_state],\n",
    "            {input_text: dyn_input, initial_state: prev_state})\n",
    "        \n",
    "        pred_word = pick_word(probabilities[dyn_seq_length-1], int_to_vocab)\n",
    "\n",
    "        gen_sentences.append(pred_word)\n",
    "    \n",
    "    # Remove tokens\n",
    "    tv_script = ' '.join(gen_sentences)\n",
    "    for key, token in token_dict.items():\n",
    "        ending = ' ' if key in ['\\n', '(', '\"'] else ''\n",
    "        tv_script = tv_script.replace(' ' + token.lower(), key)\n",
    "    tv_script = tv_script.replace('\\n ', '\\n')\n",
    "    tv_script = tv_script.replace('( ', '(')\n",
    "        \n",
    "    print(tv_script)"
   ]
  },
  {
   "cell_type": "markdown",
   "metadata": {
    "deletable": true,
    "editable": true
   },
   "source": [
    "# The TV Script is Nonsensical\n",
    "It's ok if the TV script doesn't make any sense.  We trained on less than a megabyte of text.  In order to get good results, you'll have to use a smaller vocabulary or get more data.  Luckly there's more data!  As we mentioned in the begging of this project, this is a subset of [another dataset](https://www.kaggle.com/wcukierski/the-simpsons-by-the-data).  We didn't have you train on all the data, because that would take too long.  However, you are free to train your neural network on all the data.  After you complete the project, of course.\n",
    "# Submitting This Project\n",
    "When submitting this project, make sure to run all the cells before saving the notebook. Save the notebook file as \"dlnd_tv_script_generation.ipynb\" and save it as a HTML file under \"File\" -> \"Download as\". Include the \"helper.py\" and \"problem_unittests.py\" files in your submission."
   ]
  }
 ],
 "metadata": {
  "kernelspec": {
   "display_name": "Python 3",
   "language": "python",
   "name": "python3"
  },
  "language_info": {
   "codemirror_mode": {
    "name": "ipython",
    "version": 3
   },
   "file_extension": ".py",
   "mimetype": "text/x-python",
   "name": "python",
   "nbconvert_exporter": "python",
   "pygments_lexer": "ipython3",
   "version": "3.5.3"
  }
 },
 "nbformat": 4,
 "nbformat_minor": 0
}
