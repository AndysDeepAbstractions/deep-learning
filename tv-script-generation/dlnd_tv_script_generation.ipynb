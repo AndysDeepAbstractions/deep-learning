{
 "cells": [
  {
   "cell_type": "markdown",
   "metadata": {
    "deletable": true,
    "editable": true
   },
   "source": [
    "# TV Script Generation\n",
    "In this project, you'll generate your own [Simpsons](https://en.wikipedia.org/wiki/The_Simpsons) TV scripts using RNNs.  You'll be using part of the [Simpsons dataset](https://www.kaggle.com/wcukierski/the-simpsons-by-the-data) of scripts from 27 seasons.  The Neural Network you'll build will generate a new TV script for a scene at [Moe's Tavern](https://simpsonswiki.com/wiki/Moe's_Tavern).\n",
    "## Get the Data\n",
    "The data is already provided for you.  You'll be using a subset of the original dataset.  It consists of only the scenes in Moe's Tavern.  This doesn't include other versions of the tavern, like \"Moe's Cavern\", \"Flaming Moe's\", \"Uncle Moe's Family Feed-Bag\", etc.."
   ]
  },
  {
   "cell_type": "code",
   "execution_count": 31,
   "metadata": {
    "collapsed": false,
    "deletable": true,
    "editable": true
   },
   "outputs": [],
   "source": [
    "\"\"\"\n",
    "DON'T MODIFY ANYTHING IN THIS CELL\n",
    "\"\"\"\n",
    "import helper\n",
    "\n",
    "data_dir = './data/simpsons/moes_tavern_lines.txt'\n",
    "text = helper.load_data(data_dir)\n",
    "# Ignore notice, since we don't use it for analysing the data\n",
    "text = text[81:]"
   ]
  },
  {
   "cell_type": "markdown",
   "metadata": {
    "deletable": true,
    "editable": true
   },
   "source": [
    "## Explore the Data\n",
    "Play around with `view_sentence_range` to view different parts of the data."
   ]
  },
  {
   "cell_type": "code",
   "execution_count": 32,
   "metadata": {
    "collapsed": false,
    "deletable": true,
    "editable": true
   },
   "outputs": [
    {
     "name": "stdout",
     "output_type": "stream",
     "text": [
      "Dataset Stats\n",
      "Roughly the number of unique words: 11492\n",
      "Number of scenes: 262\n",
      "Average number of sentences in each scene: 15.251908396946565\n",
      "Number of lines: 4258\n",
      "Average number of words in each line: 11.50164396430249\n",
      "\n",
      "The sentences 0 to 10:\n",
      "\n",
      "Moe_Szyslak: (INTO PHONE) Moe's Tavern. Where the elite meet to drink.\n",
      "Bart_Simpson: Eh, yeah, hello, is Mike there? Last name, Rotch.\n",
      "Moe_Szyslak: (INTO PHONE) Hold on, I'll check. (TO BARFLIES) Mike Rotch. Mike Rotch. Hey, has anybody seen Mike Rotch, lately?\n",
      "Moe_Szyslak: (INTO PHONE) Listen you little puke. One of these days I'm gonna catch you, and I'm gonna carve my name on your back with an ice pick.\n",
      "Moe_Szyslak: What's the matter Homer? You're not your normal effervescent self.\n",
      "Homer_Simpson: I got my problems, Moe. Give me another one.\n",
      "Moe_Szyslak: Homer, hey, you should not drink to forget your problems.\n",
      "Barney_Gumble: Yeah, you should only drink to enhance your social skills.\n",
      "\n"
     ]
    }
   ],
   "source": [
    "view_sentence_range = (0, 10)\n",
    "\n",
    "\"\"\"\n",
    "DON'T MODIFY ANYTHING IN THIS CELL\n",
    "\"\"\"\n",
    "import numpy as np\n",
    "\n",
    "print('Dataset Stats')\n",
    "print('Roughly the number of unique words: {}'.format(len({word: None for word in text.split()})))\n",
    "scenes = text.split('\\n\\n')\n",
    "print('Number of scenes: {}'.format(len(scenes)))\n",
    "sentence_count_scene = [scene.count('\\n') for scene in scenes]\n",
    "print('Average number of sentences in each scene: {}'.format(np.average(sentence_count_scene)))\n",
    "\n",
    "sentences = [sentence for scene in scenes for sentence in scene.split('\\n')]\n",
    "print('Number of lines: {}'.format(len(sentences)))\n",
    "word_count_sentence = [len(sentence.split()) for sentence in sentences]\n",
    "print('Average number of words in each line: {}'.format(np.average(word_count_sentence)))\n",
    "\n",
    "print()\n",
    "print('The sentences {} to {}:'.format(*view_sentence_range))\n",
    "print('\\n'.join(text.split('\\n')[view_sentence_range[0]:view_sentence_range[1]]))"
   ]
  },
  {
   "cell_type": "markdown",
   "metadata": {
    "deletable": true,
    "editable": true
   },
   "source": [
    "## Implement Preprocessing Functions\n",
    "The first thing to do to any dataset is preprocessing.  Implement the following preprocessing functions below:\n",
    "- Lookup Table\n",
    "- Tokenize Punctuation\n",
    "\n",
    "### Lookup Table\n",
    "To create a word embedding, you first need to transform the words to ids.  In this function, create two dictionaries:\n",
    "- Dictionary to go from the words to an id, we'll call `vocab_to_int`\n",
    "- Dictionary to go from the id to word, we'll call `int_to_vocab`\n",
    "\n",
    "Return these dictionaries in the following tuple `(vocab_to_int, int_to_vocab)`"
   ]
  },
  {
   "cell_type": "code",
   "execution_count": 33,
   "metadata": {
    "collapsed": false,
    "deletable": true,
    "editable": true
   },
   "outputs": [],
   "source": [
    "import numpy as np\n",
    "import problem_unittests as tests\n",
    "import re\n",
    "\n",
    "def create_lookup_tables(text):\n",
    "    \"\"\"\n",
    "    Create lookup tables for vocabulary\n",
    "    :param text: The text of tv scripts split into words\n",
    "    :return: A tuple of dicts (vocab_to_int, int_to_vocab)\n",
    "    \"\"\"\n",
    "\n",
    "    #text = ''.join([c.lower()+' ' for c in text])\n",
    "    #text_for_lookup  = sorted(list(set(re.split('(\\W)+', text))))\n",
    "    #marks_for_lookup = sorted(list(set(re.split('(\\w)+', text))))\n",
    "    #text_for_lookup  = sorted(list(set(text_for_lookup + (marks_for_lookup))))\n",
    "    #test = re.split(' ', text)\n",
    "    text_for_lookup = sorted(list(set(text)))\n",
    "\n",
    "    int_to_vocab = dict((i, c) for i, c in enumerate(text_for_lookup))\n",
    "    vocab_to_int = dict((c, i) for i, c in enumerate(text_for_lookup))\n",
    "\n",
    "    return vocab_to_int, int_to_vocab"
   ]
  },
  {
   "cell_type": "code",
   "execution_count": 34,
   "metadata": {
    "collapsed": false,
    "deletable": true,
    "editable": true
   },
   "outputs": [
    {
     "name": "stdout",
     "output_type": "stream",
     "text": [
      "Tests Passed\n"
     ]
    }
   ],
   "source": [
    "\"\"\"\n",
    "DON'T MODIFY ANYTHING IN THIS CELL THAT IS BELOW THIS LINE\n",
    "\"\"\"\n",
    "tests.test_create_lookup_tables(create_lookup_tables)"
   ]
  },
  {
   "cell_type": "markdown",
   "metadata": {
    "deletable": true,
    "editable": true
   },
   "source": [
    "### Tokenize Punctuation\n",
    "We'll be splitting the script into a word array using spaces as delimiters.  However, punctuations like periods and exclamation marks make it hard for the neural network to distinguish between the word \"bye\" and \"bye!\".\n",
    "\n",
    "Implement the function `token_lookup` to return a dict that will be used to tokenize symbols like \"!\" into \"__Exclamation_Mark__\".  Create a dictionary for the following symbols where the symbol is the key and value is the token:\n",
    "- Period ( . )\n",
    "- Comma ( , )\n",
    "- Quotation Mark ( \" )\n",
    "- Semicolon ( ; )\n",
    "- Exclamation mark ( ! )\n",
    "- Question mark ( ? )\n",
    "- Left Parentheses ( ( )\n",
    "- Right Parentheses ( ) )\n",
    "- Dash ( -- )\n",
    "- Return ( \\n )\n",
    "\n",
    "This dictionary will be used to token the symbols and add the delimiter (space) around it.  This separates the symbols as it's own word, making it easier for the neural network to predict on the next word. Make sure you don't use a token that could be confused as a word. Instead of using the token \"dash\", try using something like \"__dash__\"."
   ]
  },
  {
   "cell_type": "code",
   "execution_count": 35,
   "metadata": {
    "collapsed": false,
    "deletable": true,
    "editable": true
   },
   "outputs": [
    {
     "data": {
      "text/plain": [
       "{'\\n': '__return__',\n",
       " '!': '__exclamation_mark__',\n",
       " '\"': '__quotation_Mark__',\n",
       " '(': '__left_Parentheses__',\n",
       " ')': '__right_Parentheses__',\n",
       " ',': '__comma__',\n",
       " '--': '__dash__',\n",
       " '.': '__period__',\n",
       " ';': '__semicolon__',\n",
       " '?': '__question_mark__'}"
      ]
     },
     "execution_count": 35,
     "metadata": {},
     "output_type": "execute_result"
    }
   ],
   "source": [
    "def token_lookup():\n",
    "    \"\"\"\n",
    "    Generate a dict to turn punctuation into a token.\n",
    "    :return: Tokenize dictionary where the key is the punctuation and the value is the token\n",
    "    \"\"\"\n",
    "    symbols = (['.', ',', '\"', ';', '!', '?', '(', ')', '--', '\\n'#, ':', '\\'', '#', '/', '%'\n",
    "               ])\n",
    "    \n",
    "    symbol_desc = ([\n",
    "        '__period__',\n",
    "        '__comma__',\n",
    "        '__quotation_Mark__',\n",
    "        '__semicolon__',\n",
    "        '__exclamation_mark__',\n",
    "        '__question_mark__',\n",
    "        '__left_Parentheses__',\n",
    "        '__right_Parentheses__',\n",
    "        '__dash__',\n",
    "        '__return__',\n",
    "        #'__double_point__', ## missing in description\n",
    "        #'__quote__',        ## missing in description\n",
    "        #'__hash__',         ## missing in description\n",
    "        #'__slash__',        ## missing in description\n",
    "        #'__procent__',      ## missing in description\n",
    "        ])\n",
    "    \n",
    "    return dict(zip(symbols,symbol_desc))\n",
    "\n",
    "token_lookup()\n"
   ]
  },
  {
   "cell_type": "code",
   "execution_count": 36,
   "metadata": {
    "collapsed": false,
    "deletable": true,
    "editable": true
   },
   "outputs": [
    {
     "name": "stdout",
     "output_type": "stream",
     "text": [
      "Tests Passed\n"
     ]
    }
   ],
   "source": [
    "\"\"\"\n",
    "DON'T MODIFY ANYTHING IN THIS CELL THAT IS BELOW THIS LINE\n",
    "\"\"\"\n",
    "tests.test_tokenize(token_lookup)"
   ]
  },
  {
   "cell_type": "markdown",
   "metadata": {
    "deletable": true,
    "editable": true
   },
   "source": [
    "## Preprocess all the data and save it\n",
    "Running the code cell below will preprocess all the data and save it to file."
   ]
  },
  {
   "cell_type": "code",
   "execution_count": 37,
   "metadata": {
    "collapsed": false,
    "deletable": true,
    "editable": true
   },
   "outputs": [
    {
     "name": "stdout",
     "output_type": "stream",
     "text": [
      "{'reminds': 4831, 'changing': 1027, 'why': 6568, 'exhibit': 2011, 'friction': 2329, 'hunger': 2910, 'this': 6014, 'won': 6642, 'understood': 6275, 'reason': 4767, 'carl_carlson:': 955, 'peppers': 4331, 'homunculus': 2842, 'bathtub': 516, 'european': 1968, 'gets': 2445, 'disillusioned': 1663, 'some': 5474, 'decadent': 1518, 'ees': 1862, 'start': 5621, 'foundation': 2297, 'priceless': 4567, 'ivana': 3099, 'stole': 5684, 'stunned': 5736, 'push': 4657, 'ashtray': 358, 'torn': 6115, 'lock': 3491, 'conversion': 1310, 'insensitive': 3023, 'effigy': 1867, 'microbrew': 3746, 'grandã©': 2544, 'happen': 2667, 'brother': 802, 'unfresh': 6286, 'mushy': 3922, 'forgive': 2279, 'tubman': 6201, 'dollar': 1698, 'but': 870, 'screws': 5097, 'line': 3445, \"you're\": 6750, \"wife's\": 6575, 'abandon': 79, 'eggshell': 1870, 'diddilies': 1608, 'trolls': 6180, 'innocence': 3018, 'cost': 1331, 'easy-going': 1839, 'swatch': 5812, 'owes': 4221, 'exception:': 1999, 'lie': 3412, 'insults': 3040, 'lives': 3474, 'patty_bouvier:': 4304, 'squabbled': 5579, 'repressed': 4856, 'mags': 3596, 'maybe': 3681, 'frat': 2312, 'term': 5939, 'license': 3411, 'meyerhof': 3739, 'vacations': 6334, 'died': 1612, 'committing': 1237, 'thirty': 6009, 'stool': 5691, 'edner': 1861, 'skins': 5353, 'hawaii': 2704, 'fix': 2198, 'shape': 5199, 'alec_baldwin:': 207, 'chuckles': 1115, 'hunting': 2915, 'dyspeptic': 1819, 'y': 6708, 'blamed': 640, 'gumbel': 2601, 'level': 3402, 'horribilis': 2863, 'mt': 3895, 'fleabag': 2219, 'earlier': 1827, 'who-o-oa': 6557, 'skinny': 5352, 'itchy': 3094, 'puff': 4633, 'nos': 4067, 'nash': 3960, 'celebrities': 995, 'declare': 1527, 'take': 5858, 'faded': 2059, 'cow': 1362, 'flynt': 2240, 'murderously': 3914, 'mayan': 3680, 'inspection': 3029, 'hook': 2850, 'fans': 2082, 'band': 465, 'squadron': 5581, 'yard': 6718, 'missed': 3794, 'cocktail': 1194, 'mean': 3694, \"here's\": 2764, 'cushion': 1442, 'mansions': 3639, 'rationalizing': 4742, 'drummer': 1780, 'wad': 6398, 'boston': 712, 'lovers': 3545, 'betcha': 597, 'easygoing': 1840, 'grope': 2573, 'a-b-': 75, 'manboobs': 3633, 'hippies': 2794, 'gibson': 2455, 'boned': 689, 'conversation': 1308, 'trusted': 6193, 'combines': 1220, 'women': 6641, 'ran': 4729, 'warily': 6430, 'toe': 6082, 'thoughts': 6030, '50-60': 43, 'legs:': 3380, 'die': 1610, 'poured': 4516, 'mild': 3759, 'chest': 1070, \"you'd\": 6748, 'alpha-crow': 231, 'have': 2699, 'flying': 2239, 'love': 3538, 'reactions': 4752, 'honest': 2843, 'does': 1689, 'every': 1979, 'k-zug': 3201, 'express': 2029, 'bones': 691, 'ideal': 2946, 'billy_the_kid:': 622, 'trapping': 6154, \"i-i'll\": 2936, 'crummy': 1421, '1979': 33, 'distaste': 1671, 'guiltily': 2596, 'three': 6035, 'twelve': 6221, 'milhouse': 3761, 'hate-hugs': 2694, 'babe': 430, 'awww': 422, 'landlord': 3323, 'caholic': 897, \"lefty's\": 3373, 'suburban': 5745, 'whee': 6527, 'wobble': 6629, 'hexa-': 2771, 'awkwardly': 420, 'presidential': 4549, 'hang': 2657, 'shrieks': 5265, 'barter': 504, 'rubs': 4961, 'procedure': 4590, 'dads': 1461, 'donut': 1714, 'de-scramble': 1503, 'dateline:': 1492, 'gonna': 2508, 'ails': 192, 'arise': 338, 'steal': 5647, 'after': 159, 'germany': 2438, 'grade': 2531, 'keys': 3228, 'chin': 1086, 'hope': 2857, 'name': 3947, 'flanders:': 2210, 'appear': 312, 'potato': 4511, 'soir': 5467, 'idiot': 2950, 'porn': 4501, 'nibble': 4018, 'jokes': 3170, 'ineffective': 3000, 'drives': 1768, 'lorre': 3516, 'stagy': 5600, 'knock-up': 3278, 'shifty': 5223, 'ears': 1831, 'ohhhh': 4138, 'statue': 5638, 'amazed': 243, 'store': 5696, 'soothing': 5499, 'windshield': 6599, 'gel': 2421, 'courthouse': 1356, 'stripe': 5721, 'crapmore': 1379, 'hate': 2693, 'ballot': 461, 'lushmore': 3570, 'snapping': 5426, 'orgasmville': 4189, \"yesterday's\": 6739, 'up-bup-bup': 6310, 'police': 4479, 'albeit': 201, 'sea': 5106, 'soot': 5498, 'chew': 1071, 'nagurski': 3940, 'radiator': 4699, 'teen': 5912, 'crotch': 1409, 'jets': 3147, 'lump': 3563, 'plane': 4420, 'work': 6661, 'points': 4470, 'hearse': 2725, \"lenny's\": 3387, 'walk': 6410, 'larson': 3336, \"queen's\": 4677, 'known': 3286, 'partner': 4278, 'figures': 2156, 'rector': 4786, 'drunkenly': 1783, 'attractive_woman_#2:': 394, 'him': 2792, 'anonymous': 284, 'wondered': 6645, 'beats': 536, 'sweat': 5815, 'aid': 189, 'pretending': 4558, 'memories': 3719, 'enter': 1941, 'mediterranean': 3713, 'old-time': 4146, 'dregs': 1752, \"o'reilly\": 4100, 'strokkur': 5724, 'forbids': 2268, 'better': 601, 'everywhere': 1985, 'referee': 4791, 'spinning': 5548, 'worldly': 6670, 'moments': 3838, 'liability': 3404, 'turned': 6209, 'gasoline': 2409, 'impressed': 2971, 'teenage': 5913, 'eternity': 1966, 'november': 4081, 'meteor': 3734, 'glee': 2481, 'self-esteem': 5141, 'beep': 553, 'sweetheart': 5822, 'cream': 1386, 'gee': 2418, 'card': 943, 'super-nice': 5777, 'spellbinding': 5536, 'ate': 381, 'director': 1637, 'searching': 5109, 'sponsor': 5562, 'cheered': 1059, 'pushing': 4659, 'huh': 2903, 'fragile': 2307, 'dark': 1482, 'rent': 4842, 'greatest': 2553, 'manage': 3628, 'simultaneous': 5304, 'mortal': 3867, 'miss': 3792, 'tremendous': 6167, 'disappointing': 1645, 'hibachi': 2774, 'accident': 101, 'multiple': 3908, 'ripped': 4909, 'jay_leno:': 3128, 'bobo': 680, 'mugs': 3902, \"wino's\": 6607, 'jerk': 3138, 'yourselves': 6763, 'farthest': 2088, 'squeal': 5584, 'feminine': 2131, 'gator': 2412, 'dingy': 1630, 'alcohol': 203, 'nightmares': 4031, 'wikipedia': 6581, 'cutie': 1450, \"that's\": 5970, 'stagehand:': 5598, 'civic': 1134, 'early': 1828, 'artist': 354, '&': 1, 'starving': 5630, 'gut': 2610, 'seas': 5110, \"changin'\": 1026, 'notice': 4075, 'syrup': 5845, 'absentmindedly': 89, 'reach': 4747, 'indeedy': 2991, 'bottoms': 720, 'tail': 5857, 'answered': 287, 'improv': 2972, 'brings': 787, 'dea-d-d-dead': 1504, 'himself': 2793, 'awfully': 418, 'polls': 4486, 'reserve': 4860, 'maximum': 3676, 'doors': 1721, 'reporter:': 4853, 'break-up': 762, 'photographer': 4371, 'games': 2398, 'danish': 1478, 'testing': 5954, 'occupied': 4112, 'robbers': 4918, 'demand': 1556, 'queen': 4676, 'fbi': 2107, 'briefly': 780, 'greedy': 2555, 'kicks': 3233, 'bad': 443, 'gheet': 2452, 'shreda': 5264, \"'roids\": 17, 'eats': 1846, 'stars': 5620, 'public': 4628, \"we'll\": 6472, \"it'd\": 3089, 'smurfs': 5418, 'digging': 1620, 'halvsies': 2640, 'singing/pushing': 5314, 'warmly': 6432, 'applicant': 316, 'casual': 974, 'shaken': 5190, 'guff': 2593, 'belong': 585, 'oak': 4101, \"team's\": 5903, 'monorails': 3846, 'browns': 809, 'picture': 4385, 'bucket': 816, 'infiltrate': 3004, 'piano': 4376, 'befriend': 564, 'vin': 6371, 'scent': 5069, 'cranberry': 1375, \"plaster's\": 4429, 'following': 2251, 'cuz': 1452, 'sketch': 5346, 'slap': 5360, 'reading:': 4758, 'frustrated': 2352, \"nixon's\": 4040, 'anything': 301, 'not': 4069, 'barn': 487, 'shopping': 5238, 'lookalike:': 3506, 'africa': 156, 'helen': 2744, 'rummy': 4974, 'dropped': 1775, \"talkin'\": 5871, 'thawing': 5971, 'expecting': 2016, 'clandestine': 1140, 'paris': 4269, 'problemo': 4588, \"bart's\": 498, 'bagged': 451, 'tv_husband:': 6219, 'conspiratorial': 1291, 'eight-year-old': 1877, 'allowance': 223, 'freaky': 2317, 'future': 2380, 'agh': 175, 'sharing': 5204, 'trashed': 6156, 'frosty': 2349, 'incapable': 2978, 'businessman_#2:': 866, 'race': 4696, 'soft': 5465, 'sees': 5134, '1-800-555-hugs': 27, 'recorder': 4783, \"sittin'\": 5334, 'bartenders': 502, 'using': 6328, 'michelin': 3744, 'hi': 2773, 'times': 6064, 'five': 2196, \"drinkin'\": 1760, 'handoff': 2651, 'table': 5851, 'sperm': 5542, 'stealings': 5649, 'sound': 5505, 'do': 1686, 'passed': 4283, 'busiest': 863, 'exits': 2014, 'lager': 3316, 'meet': 3714, 'grinch': 2567, 'nerve': 4001, \"somethin':\": 5483, 'm': 3574, 'borrow': 711, 'sisters': 5327, 'halfway': 2637, 'endorse': 1921, 'pretzels': 4565, 'past': 4288, 'again': 162, 'settled': 5175, 'deli': 1543, 'ice': 2940, 'renovations': 4841, 'spilled': 5546, 'vengeful': 6349, 'understand': 6273, 'coughs': 1337, 'vacation': 6333, 'chuckling': 1116, \"marge's\": 3646, 'kidneys': 3240, 'misfire': 3791, 'heads': 2716, 'position': 4505, 'pointedly': 4467, 'guts': 2612, 'career': 946, 'stengel': 5658, 'hillbillies': 2790, 'players': 4436, 'eventually': 1976, 'lenny': 3386, 'astronaut': 377, 'amends': 249, 'data': 1489, 'breathtaking': 771, 'pink': 4401, 'hair': 2629, 'proposition': 4616, 'kirk': 3258, 'lottery': 3528, 'elaborate': 1888, 'wussy': 6703, 'warned': 6435, 'ziff': 6773, 'bourbon': 724, 'jail': 3115, 'businessman_#1:': 865, 'reviews': 4879, 'thing': 5998, 'museum': 3921, \"soundin'\": 5507, 'twenty-nine': 6228, \"where'd\": 6536, 'kazoo': 3210, '6': 45, 'territorial': 5946, 'crap': 1377, 'shuts': 5272, 'parasol': 4265, 'survive': 5801, 'birthplace': 628, 'trade': 6138, 'yet': 6740, 'flea:': 2218, 'dammit': 1467, 'woooooo': 6655, 'languages': 3328, 'radio': 4701, 'kissed': 3262, '_eugene_blatz:': 64, 'amber': 245, 'forgets': 2278, 'w': 6394, 'rats': 4743, 'wealthy': 6477, 'consulting': 1292, 'got': 2521, 'examples': 1994, 'peace': 4315, 'dana_scully:': 1472, 'might': 3756, 'hooked': 2851, 'win': 6590, 'modestly': 3822, 'heart-broken': 2727, 'belches': 577, 'wiping': 6612, 'beady': 524, 'ball-sized': 458, 'teach': 5899, 'british': 789, 'buyer': 880, 'acquitted': 110, 'adopted': 136, 'gentle': 2428, 'life:': 3420, 'possibly': 4508, 'super-genius': 5776, 'transylvania': 6152, 'only': 4164, 'judgments': 3182, 'rush': 4984, 'burps': 855, 'solid': 5470, 'donut-shaped': 1715, 'agree': 180, 'hyper-credits': 2926, 'billboard': 617, 'source': 5512, 'bowling': 729, 'womb': 6640, 'tin': 6065, 'belch': 576, 'selma': 5148, 'shrugs': 5268, 'fell': 2124, 'able': 83, 'grin': 2566, 'boneheaded': 690, 'chuckle': 1114, 'fancy': 2081, 'run': 4977, 'charlie': 1039, 'kept': 3225, 'corner': 1323, 'gulliver_dark:': 2598, 'during': 1813, 'pipes': 4405, 'sec_agent_#1:': 5115, 'hounds': 2881, 'listens': 3464, 'involving': 3069, 'tell': 5922, 'adeleine': 126, 'series': 5165, 'encouraged': 1918, 'cueball': 1429, 'speech': 5534, 'life-partner': 3417, 'achem': 108, 'transmission': 6151, 'pepto-bismol': 4334, 'fire_inspector:': 2181, 'intervention': 3052, 'occupation': 4111, 'swig': 5827, 'poulet': 4513, 'prep': 4539, 'ebullient': 1847, 'send': 5156, 'my': 3933, 'fletcherism': 2221, 'yells': 6734, 'dash': 1487, 'dough': 1729, 'calendars': 902, 'means': 3700, 'recent': 4774, 'strategizing': 5711, 'rest': 4866, 'b-day': 428, 'parenting': 4267, 'hibbert': 2775, 'joining': 3167, 'effect': 1863, 'exactly': 1991, 'bedroom': 547, 'appealing': 310, 'we-we-we': 6475, 'buzziness': 884, 'sponsoring': 5563, \"cleanin'\": 1148, 'speed': 5535, 'motto': 3878, 'ahhhh': 188, 'loud': 3531, 'victim': 6362, 'county': 1349, 'crowds': 1415, 'knocked': 3279, 'marriage': 3654, 'connor-politan': 1283, 'ruined': 4968, 'attracted': 390, 'releasing': 4815, 'cans': 928, 'disgracefully': 1657, 'eighty-six': 1883, 'father': 2097, 'additional-seating-capacity': 124, 'low-blow': 3549, 'sets': 5174, 'mistresses': 3800, 'prize': 4583, 'safer': 5006, 'infestation': 3003, 'fistiana': 2194, 'certainly': 1007, 'he': 2708, 'hilarious': 2788, 'sacrifice': 4997, \"writin'\": 6696, 'principles': 4577, 'somebody': 5475, 'rueful': 4964, 'given': 2474, 'moon': 3854, 'spits': 5554, 'back': 436, 'sunday': 5771, 'zone': 6776, 'flaking': 2205, 'dan_gillick:': 1471, 'exhale': 2009, 'manuel': 3640, 'tv': 6212, 'firmly': 2188, 'bono': 693, 'spelling': 5537, \"challengin'\": 1016, 'newsletter': 4013, 'pinball': 4397, 'sabermetrics': 4994, 'sign': 5293, 'top': 6114, 'and:': 266, 'someplace': 5481, 'stripes': 5722, \"stayin'\": 5643, 'travel': 6157, 'hike': 2787, 'window': 6597, 'multi-purpose': 3907, 'broncos': 799, \"guy's\": 2615, 'lizard': 3477, 'murmurs': 3917, 'knives': 3276, 'indigenous': 2996, \"somethin's\": 5484, 'fabulous': 2049, 'magazine': 3591, 'nearly': 3974, 'jeff': 3134, 'gentleman:': 2430, 'mix': 3803, 'belt': 587, 'applesauce': 315, 'who': 6553, 'sugar-me-do': 5762, 'earth': 1832, 'built': 828, 'foil': 2245, 'craphole': 1378, 'ghouls': 2453, 'supplying': 5787, 'executive': 2008, 'experienced': 2020, \"o'problem\": 4099, 'lloyd:': 3479, 'held': 2743, 'station': 5634, 'idiots': 2951, 'blimp': 650, 'straighten': 5704, \"narratin'\": 3956, 'flack': 2202, 'sec_agent_#2:': 5116, 'ned_flanders:': 3982, 'milk': 3766, 'i-i-i': 2938, 'hafta': 2625, 'system': 5846, \"callin'\": 907, 'ratted': 4744, 'prove': 4623, 'young_marge:': 6756, 'laney': 3325, 'blood': 660, 'brotherhood': 804, 'pure': 4652, 'commission': 1234, 'garbage': 2402, 'ten': 5932, 'gift': 2456, 'maher': 3598, 'selfish': 5144, 'along': 230, 'personal': 4351, 'circus': 1130, 'excitement': 2003, 'handing': 2647, 'kentucky': 3224, 'rife': 4897, 'inclination': 2981, 'slobbo': 5379, 'today/': 6081, 'exclusive:': 2005, 'oof': 4167, 'polish': 4480, 'science': 5079, 'making': 3610, 'cruiser': 1419, 'wallet': 6415, 'ducked': 1788, 'fbi_agent:': 2108, 'sinister': 5318, 'killing': 3247, 'in-ground': 2975, 'lied': 3413, 'flanders': 2209, 'stored': 5698, 'i': 2927, 'president': 4547, 'flame': 2206, 'flustered': 2237, 'sleigh-horses': 5369, 'rump': 4976, 'falling': 2072, 'wally:': 6418, \"y'know\": 6709, 'wears': 6482, 'tax': 5895, 'lay': 3353, 'ingested': 3011, 'mostly': 3871, 'elder': 1889, 'wolfe': 6634, 'teenage_barney:': 5914, 'action': 115, 'beached': 523, 'self': 5139, 'gimmick': 2464, 'un-sults': 6258, \"disrobin'\": 1669, 'loneliness': 3499, 'house': 2885, 'down': 1730, 'officials': 4131, 'group': 2575, 'audience': 396, 'wiener': 6571, 'fellas': 2126, 'fustigate': 2378, 'gave': 2414, 'coal': 1182, 'art': 351, 'sweden': 5818, 'camera': 914, 'release': 4813, 'libido': 3409, 'woman': 6637, 'tracks': 6137, 'seem': 5130, 'blew': 649, 'rings': 4905, 'embarrassed': 1904, 'mckinley': 3688, 'dumbass': 1805, 'jackass': 3106, 'disgraceful': 1656, 'waist': 6402, 'finding': 2170, 'million': 3769, 'gabriel:': 2388, 'amiable': 254, 'booze-bags': 704, 'crowd': 1412, 'producers': 4593, 'presided': 4546, 'yell': 6729, 'land': 3321, 'wrong': 6699, 'barkeep': 485, 'bitterly': 634, \"liftin'\": 3425, 'handling': 2650, 'freedom': 2320, 'bidet': 610, 'story': 5702, 'way': 6462, \"america's\": 251, 'aristotle:': 340, 'issues': 3086, 'nah': 3941, 'tv_wife:': 6220, 'blissful': 655, 'bulldozing': 831, 'troll': 6179, 'bags': 452, 'unavailable': 6262, 'precious': 4531, 'icy': 2942, 'casting': 972, \"wasn't\": 6446, 'frozen': 2350, 'caveman': 989, 'smug': 5415, 'fwooof': 2382, 'tobacky': 6078, 'longest': 3503, 'triangle': 6170, 'inches': 2980, 'ralph': 4725, \"takin'\": 5863, 'fast': 2089, 'medieval': 3711, 'blind': 651, \"workin'\": 6664, 'al': 198, 'buried': 848, 'gol-dangit': 2502, 'clincher': 1160, 'especially': 1961, 'lift': 3423, 'concerned': 1265, 'cecil_terwilliger:': 992, 'spoon': 5565, 'thinks': 6005, 'christian': 1108, 'according': 103, 'liquor': 3452, 'fringe': 2339, 'ton': 6100, 'olive': 4149, 'thinking': 6004, 'show': 5254, \"comin'\": 1230, 'onions': 4162, 'side': 5281, 'touched': 6123, 'seductive': 5125, 'freed': 2319, 'laney_fontaine:': 3326, 'sneering': 5431, 'promise': 4606, 'bake': 454, 'roz': 4956, 'eaters': 1843, 'paid': 4238, 'butts': 878, 'reaches': 4749, '2': 34, 'sap': 5036, 'surprised/thrilled': 5798, 'pond': 4488, 'oil': 4140, 'rented': 4843, 'switch': 5836, 'dracula': 1734, 'life-sized': 3418, 'warning': 6436, 'welcome': 6497, 'pages': 4237, \"cuckold's\": 1426, 'anarchy': 260, 'mind-numbing': 3772, 'wrestling': 6692, 'jamaican': 3118, 'mistake': 3797, 'reward': 4880, '3': 38, 'killjoy': 3248, 'mommy': 3839, 'effervescence': 1865, 'fireball': 2182, 'roses': 4944, 'losers': 3520, 'swooning': 5838, 'lou': 3529, 'fault': 2102, 'cheapskates': 1052, 'cherry': 1068, 'smelly': 5400, 'tomato': 6094, 'patented': 4291, 'italian': 3093, 'clears': 1153, 'self-satisfied': 5143, \"ma's\": 3577, 'delays': 1541, 'fingers': 2175, 'zoomed': 6777, 'limericks': 3437, 'hushed': 2921, 'whaddya': 6512, 'wrote': 6700, 'superior': 5781, 'tuna': 6204, 'bears': 531, 'voters': 6390, 'quebec': 4675, 'clips': 1163, 'grocery': 2571, \"must've\": 3929, 'make:': 3607, 'contemptuous': 1298, 'ken:': 3219, 'coaster': 1184, 'shorter': 5243, 'states': 5632, 'hydrant': 2924, 'wore': 6660, 'worried': 6672, 'she-pu': 5213, 'koji': 3293, \"lisa's\": 3455, \"ridin'\": 4895, 'heart': 2726, 'twice': 6232, 'thrown': 6044, 'waking-up': 6409, 'heck': 2740, 'freeze': 2322, 'so-ng': 5447, 'rock': 4922, 'celebration': 994, 'detecting': 1590, 'mock': 3816, 'gunter': 2607, 'absolut': 90, 'hungry': 2911, 'suffering': 5759, 'righ': 4899, 'advance': 141, 'brunswick': 811, 'inserts': 3025, 'huggenkiss': 2900, 'fan': 2079, 'chum': 1120, 'versus': 6355, 'kissingher': 3266, 'pleading': 4442, 'mortgage': 3868, 'lis': 3453, 'joke': 3169, 'join': 3165, 'killed': 3245, 'hillary': 2789, 'catching': 979, 'inexorable': 3001, 'urine': 6322, 'technical': 5909, 'fine': 2171, 'car:': 941, 'saint': 5015, 'manager': 3630, 'dismissive': 1665, \"'im\": 11, 'newsies': 4012, 'ralphie': 4727, \"dog's\": 1692, 'chair': 1013, 'bender:': 589, 'presentable': 4543, \"dolph's_dad:\": 1701, 'intense': 3045, 'agreement': 181, 'woman:': 6638, 'dumptruck': 1810, 'annie': 277, 'use': 6324, 'sending': 5157, 'pointless': 4469, 'ref': 4790, 'cough': 1336, 'confidentially': 1277, \"monroe's\": 3848, 'theater': 5976, 'kind': 3251, 'windex': 6596, 'drawing': 1744, 'election': 1891, 'stacey': 5595, 'drop': 1773, 'old_jewish_man:': 4147, 'deal': 1508, 'donated': 1708, 'ballclub': 459, 'sang': 5029, 'henry': 2761, 'encore': 1916, 'runt': 4982, 'modern': 3820, 'whale': 6513, 'guilt': 2595, 'swimmers': 5830, 'er': 1956, \"mother's\": 3875, 'alcoholism': 205, 'sob': 5453, 'formico': 2285, 'sunny': 5774, 'store-bought': 5697, 'smoothly': 5414, 'meaningful': 3697, \"y'money's\": 6710, 'prime': 4572, '__period__': 56, 'scratching': 5093, 'wear': 6479, 'lowest': 3553, \"phone's\": 4368, 'churchill': 1125, 'femininity': 2132, '__right_parentheses__': 60, 'junebug': 3192, '__semicolon__': 61, 'attitude': 389, 'horns': 2862, 'fishing': 2192, 'feelings': 2119, 'mimes': 3770, 'crystal': 1425, 'ahead': 184, 'officer': 4129, 'aboard': 84, 'eat': 1841, 'unsourced': 6305, 'banquet': 470, 'duel': 1791, 'an': 259, 'novelty': 4080, 'appearance-altering': 313, 'hairs': 2631, 'settles': 5177, 'lotsa': 3526, 'motor': 3876, 'half-beer': 2635, 'faulkner': 2101, 'praise': 4524, 'louisiana': 3535, 'scotch': 5088, \"wait'll\": 6404, 'noise': 4047, \"town's\": 6133, 'swear': 5814, 'waylon_smithers:': 6465, 'nevada': 4005, \"swishifyin'\": 5834, 'brine': 784, 'sloe': 5381, 'lincoln': 3440, 'pipe': 4404, 'pepper': 4330, 'frenchman': 2324, 'cotton': 1334, 'noises': 4048, 'pointy': 4471, 'enterprising': 1943, 'kadlubowski': 3202, 'ehhhhhhhhh': 1875, 'wound': 6682, 'habit': 2621, 'exploiter': 2027, '$42': 0, 'aah': 77, 'unbelievable': 6263, 'bills': 621, 'grampa': 2537, 'tear': 5905, 'influence': 3006, 'obese': 4103, 'gag': 2389, 'usual': 6329, 'hemorrhage-amundo': 2759, \"doesn't\": 1690, 'bee': 549, 'mitts': 3802, 'mabel': 3578, 'sizes': 5344, 'flush': 2235, 'ticket': 6051, 'blackjack': 636, 'japanese': 3123, 'wave': 6461, 'sexy': 5183, 'patron_#2:': 4297, 'stick': 5665, 'we': 6470, 'blob': 656, 'intention': 3046, 'prison': 4580, 'feast': 2111, 'scary': 5066, 'thousands': 6033, 'mistakes': 3798, 'sympathy': 5841, 'crazy': 1385, 'kids': 3241, 'week': 6488, 'though': 6022, 'comes': 1225, 'scram': 5090, 'been': 552, 'society': 5461, 'microwave': 3749, 'sanitary': 5031, 'underwear': 6277, 'sixty': 5340, 'foodie': 2258, 'despite': 1586, 'excavating': 1996, '__return__': 59, 'faceful': 2054, \"singin'\": 5312, 'jewish': 3149, 'man': 3620, 'rumaki': 4973, 'decency': 1519, 'teeth': 5917, 'balloon': 460, 'tom': 6092, 'uninhibited': 6291, 'about': 86, 'sagacity': 5009, 'troubles': 6183, 'bash': 509, 'dearest': 1515, 'think': 6002, 'quit': 4689, 'cracked': 1373, 'process': 4591, 'huge': 2899, 'theatah': 5975, 'outlive': 4206, 'ruin': 4967, 'almond': 227, 'ã': 6778, 'nightmare': 4030, 'driver': 1766, \"car's\": 940, 'fund': 2366, 'wind': 6593, 'realized': 4764, 'diet': 1614, 'aerospace': 149, 'floating': 2227, 'remorseful': 4833, 'dangerous': 1476, 'jacques': 3112, \"bo's\": 677, 'anthony_kiedis:': 290, 'mel': 3716, 'jump': 3189, 'ninety-seven': 4036, 'society_matron:': 5462, 'halloween': 2639, 'apron': 324, 'rafter': 4704, 'bright': 781, 'blossoming': 665, 'wiggle': 6577, 'island': 3082, 'inside': 3026, 'extract': 2035, \"it's\": 3091, 'bride': 776, \"england's\": 1931, 'depressant': 1571, 'are': 332, \"kiddin'\": 3236, 'kako:': 3204, 'nailed': 3944, 'paste': 4290, 'romantic': 4933, 'film': 2163, 'whole': 6561, 'noggin': 4046, 'sticking-place': 5669, 'index': 2992, 'premiering': 4537, 'massage': 3665, 'egg': 1868, 'competitive': 1247, 'chip': 1090, 'mmmm': 3809, 'repeating': 4849, 'fury': 2376, 'depending': 1569, \"'morning\": 13, 'freely': 2321, 'badmouths': 449, 'what': 6515, 'pack': 4229, 'choke': 1099, 'fortress': 2288, 'spied': 5544, 'fumes': 2362, 'graves': 2549, 'foam': 2241, 'enjoy': 1935, 'blocked': 658, 'oh': 4134, 'ingredient': 3013, 'therapist': 5985, 'onto': 4166, 'meatpies': 3705, \"games'd\": 2399, 'spamming': 5520, 'at': 379, 'vulnerable': 6393, 'peter_buck:': 4356, 'micronesian': 3747, 'soul-crushing': 5504, 'seemed': 5131, \"dimwit's\": 1627, 'specializes': 5528, 'disdainful': 1654, \"tatum'll\": 5891, 'dentist': 1564, 'clenched': 1155, 'acting': 114, 'both': 714, 'wh': 6507, 'rip-off': 4907, 'bumpy-like': 840, 'sees/': 5135, 'suru': 5800, 'movies': 3889, 'nap': 3953, 'inanely': 2977, 'scarf': 5065, 'moustache': 3882, 'dying': 1817, 'jeez': 3133, 'species': 5530, 'albert': 202, 'us': 6323, 'afterglow': 160, 'stab': 5593, 'fontaine': 2255, 'catch': 977, 'defensive': 1536, 'pilsner-pusher': 4395, 'arabs': 330, 'vermont': 6354, 'product': 4594, 'steak': 5646, 'photos': 4372, 'thoughtful': 6027, 'mull': 3905, 'king': 3256, 'panicked': 4254, 'mid-seventies': 3751, \"doin'\": 1694, 'honeys': 2845, \"treatin'\": 6160, 'jebediah': 3131, 'gus': 2609, 'studied': 5732, 'meaningless': 3699, 'breakfast': 764, 'weapon': 6478, 'sounded': 5506, 'glass': 2479, 'lifts': 3426, 'anywhere': 303, 'snide': 5433, 'sniper': 5437, 'raggie': 4708, \"pickin'\": 4379, 'triple-sec': 6176, 'most:': 3870, 'shhh': 5222, 'committee': 1236, 'small': 5393, 'butterball': 873, 'and/or': 265, \"nick's\": 4022, 'whirlybird': 6545, 'gunter:': 2608, '250': 36, 'nope': 4060, 'moe': 3823, 'ad': 121, 'darkness': 1484, 'dancing': 1474, 'done': 1711, 'proof': 4612, 'dunno': 1812, 'mexican_duffman:': 3737, \"cashin'\": 971, 'patty': 4303, 'uniforms': 6290, \"leavin'\": 3366, 'names': 3951, \"patrick's\": 4294, 'joey': 3159, 'nigeria': 4026, 'nickel': 4023, 'counterfeit': 1343, 'lord': 3515, 'repay': 4847, 'maman': 3618, 'justify': 3198, 'sadly': 5002, 'phlegm': 4366, 'invulnerable': 3070, 'schizophrenia': 5073, 'sugar': 5760, 'ahem': 185, 'resolution': 4864, 'shutting': 5273, 'day': 1499, 'cuckoo': 1427, 'enthusiasm': 1946, 'cheer': 1058, 'sucks': 5752, 'kisser': 3263, 'punching': 4648, \"one's\": 4158, 'by': 885, 'dad': 1458, 'accurate': 105, \"tryin'\": 6197, 'sidekick': 5283, 'jaegermeister': 3114, 'began': 565, 'diablo': 1599, 'weight': 6493, 'quietly': 4685, 'explain': 2024, 'size': 5343, 'crony': 1405, \"hangin'\": 2658, \"world's\": 6668, 'janette': 3122, \"buyin'\": 881, 'yee-haw': 6728, 'permanent': 4345, 'gums': 2603, 'fictional': 2143, 'supermarket': 5782, 'growing': 2578, 'often': 4133, 'passes': 4285, 'coherent': 1199, 'upset': 6316, 'bachelorhood': 435, 'innocent': 3019, 'worth': 6676, 'chateau': 1046, 'lot': 3524, \"ain't\": 194, 'kiss': 3261, 'eighty-five': 1880, 'spoken': 5559, 'coma': 1217, 'couple': 1350, 'universe': 6295, 'breathalyzer': 769, 'you-need-man': 6752, 'phone': 4367, 'tv_daughter:': 6217, 'don': 1704, 'quiet': 4684, 'yee-ha': 6727, 'fold': 2246, 'la': 3304, 'strictly': 5719, 'fight': 2149, 'spend': 5538, 'payback': 4308, 'secret': 5119, 'chubby': 1112, 'para': 4263, 'eco-fraud': 1849, 'enforced': 1928, \"bar's\": 473, 'key': 3227, 'moonnnnnnnn': 3857, 'one': 4157, 'recreate': 4784, 'rebuilt': 4770, 'months': 3851, 'bleak': 644, 'actress': 119, 'wuss': 6702, \"donatin'\": 1709, 'deals': 1511, 'device': 1596, 'beeps': 554, 'delts': 1555, 'crime': 1398, 'skirt': 5354, 'suicide': 5763, 'dilemma': 1623, \"shan't\": 5198, 'cakes': 900, '_burns_heads:': 63, 'espn': 1962, 'baritone': 484, 'appendectomy': 314, 'sometimes': 5489, \"bartender's\": 501, 'distract': 1673, 'drawer': 1742, 'rather': 4740, 'elite': 1896, 'brag': 745, 'twelve-step': 6222, 'discuss': 1652, \"d'\": 1455, 'dating': 1493, 'kidnaps': 3238, \"he's\": 2711, 'complaint': 1249, 'oopsie': 4172, 'motel': 3873, 'espousing': 1963, 'reluctant': 4820, 'cars': 965, 'exasperated': 1995, 'book_club_member:': 698, \"chewin'\": 1072, 'pressure': 4553, 'eliminate': 1895, \"'bout\": 3, 'market': 3651, 'opportunity': 4179, 'yew': 6741, 'fox_mulder:': 2306, 'punkin': 4651, 'year': 6724, 'supreme': 5792, 'piling': 4392, 'tiny': 6068, 'savings': 5053, 'philosophic': 4364, 'trainers': 6145, \"poundin'\": 4514, 'shakes': 5192, 'eight': 1876, 'occasion': 4108, 'germs': 2439, 'loathe': 3484, 'umm': 6256, 'dimly': 1626, 'forgotten': 2282, 'jã¤germeister': 3199, 'exquisite': 2031, 'tooth': 6112, 'smiled': 5403, 'smell': 5397, 'son-of-a': 5493, 'pronto': 4611, 'heatherton': 2733, 'tank': 5875, 'ways': 6468, 'traitor': 6147, 'understanding': 6274, 'hubub': 2896, 'hotel': 2877, 'statistician': 5636, 'speak': 5523, 'holding': 2819, 'jernt': 3143, 'forgot': 2281, 'peppy': 4332, 'typing': 6241, 'watashi': 6450, 'gift:': 2457, 'sniffles': 5435, 'male_inspector:': 3612, 'dumb-asses': 1804, 'wheels': 6530, 'robin': 4920, \"g'on\": 2385, 'navy': 3969, 'laughter': 3347, 'served': 5170, 'stays': 5645, 'led': 3369, 'lazy': 3355, 'soup': 5509, 'twenty-four': 6227, 'pity': 4411, 'wazoo': 6469, 'winner': 6604, 'hootie': 2855, 'goal': 2496, 'crowded': 1414, 'prices': 4568, 'ominous': 4152, 'drinking:': 1762, 'weekend': 6489, 'propose': 4614, 'boyfriend': 740, 'health': 2718, 'shesh': 5221, 'clean': 1145, 'ignorance': 2953, 'hearing': 2723, 'hooch': 2849, \"pullin'\": 4642, 'doooown': 1719, 'natural': 3963, 'kickoff': 3232, 'twins': 6234, 'justice': 3197, 'checks': 1057, 'obama': 4102, 'locked': 3492, 'take-back': 5859, 'inspired': 3032, 'street': 5714, 'doom': 1718, 'solely': 5469, 'shower': 5258, 'faint': 2063, 'wudgy': 6701, 'investigating': 3062, 'oughta': 4201, 'presses': 4552, 'beer': 555, 'prayers': 4527, 'apu_nahasapeemapetilon:': 326, \"'til\": 20, 'e': 1822, 'cheers': 1064, 'center': 1001, 'super': 5775, 'crowd:': 1413, \"'cause\": 4, 'frink-y': 2341, 'hears': 2724, 'ugh': 6245, 'macgregor': 3582, 'planted': 4427, 'cowboy': 1365, 'annus': 283, 'hideous': 2778, 'th-th-th-the': 5959, 'closer': 1168, \"it'll\": 3090, 'squirrel': 5589, 'bindle': 623, 'insist': 3028, 'correct': 1327, 'dazed': 1501, 'killarney': 3244, 'whoo': 6563, 'excellent': 1997, 'punch': 4646, 'carpet': 964, 'language': 3327, 'grienke': 2561, 'shoots': 5236, 'says': 5059, 'low-life': 3550, 'calm': 910, 'wing': 6601, 'whose': 6566, 'natured': 3966, 'video': 6365, 'op': 4173, 'chic': 1073, 'supports': 5789, 'fayed': 2106, 'cappuccino': 935, 'stairs': 5602, 'pontiff': 4489, 'cares': 949, 'shtick': 5269, 'goodwill': 2515, 'tall': 5873, 'annual': 282, 'weird': 6494, 'felony': 2128, 'kansas': 3206, 'kinda': 3252, 'beautiful': 539, \"bettin'\": 602, 'unlike': 6299, 'temple': 5928, 'decided': 1523, 'getting': 2447, 'playoff': 4441, 'susie-q': 5802, 'tongue': 6102, 'angry': 274, 'learn': 3360, \"moe's\": 3824, 'lady_duff:': 3315, 'flash': 2211, 'grubby': 2581, 'power': 4518, \"time's\": 6063, 'item': 3095, 'north': 4065, 'mccall': 3685, 'benefits': 591, 'accounta': 104, 'kodos:': 3290, 'bell': 581, 'grumpy': 2586, 'trip': 6175, 'woulda': 6679, 'sooner': 5496, \"burnin'\": 850, 'pissed': 4407, 'duke': 1800, 'fair': 2065, 'cannot': 926, 'network': 4004, 'tang': 5874, 'semi-imported': 5150, 'dealie': 1510, 'liser': 3458, 'fierce': 2145, 'nascar': 3959, 'edna-lover-one-seventy-two': 1859, \"sippin'\": 5321, 'came': 913, 'sodas': 5464, 'koi': 3292, 'tolerable': 6090, 'comic_book_guy:': 1229, 'it': 3088, 'regretful': 4803, \"hell's\": 2748, 'willing': 6588, 'shack': 5186, 'anybody': 296, 'corn': 1322, \"carl's\": 953, 'sleeps': 5368, 'peter': 4355, 'lingus': 3447, 'salvation': 5022, 'fuhgetaboutit': 2356, 'man:': 3624, 'civilization': 1136, 'stupid': 5737, 'even': 1973, 'doubt': 1727, 'miserable': 3790, 'on': 4154, 'jay:': 3127, 'and-and': 264, 'see': 5126, 'credit': 1390, 'taking': 5864, 'ireland': 3073, 'encouraging': 1919, '4x4': 41, 'lovejoy': 3541, \"snappin'\": 5425, 'straining': 5706, \"duelin'\": 1792, \"homer'll\": 2833, 'result': 4871, 'quickly': 4683, 'caught': 984, 'toward': 6130, 'swan': 5811, 'best': 595, 'dateline': 1491, 'page': 4235, 'crowned': 1416, 'find': 2169, 'snatch': 5428, 'caper': 932, 'composite': 1257, 'sponge:': 5561, 'cyrano': 1453, 'provide': 4625, 'snort': 5439, 'heals': 2717, 'good': 2510, 'maya:': 3679, 'unlocked': 6300, 'bigger': 612, 'evil': 1986, 'chicken': 1075, 'crawl': 1381, 'shard': 5200, 'crisis': 1403, 'dress': 1753, 'brain': 747, 'nominated': 4049, 'remodel': 4832, 'almost': 228, 'seek': 5129, 'stan': 5609, 'jacques:': 3113, 'tidy': 6054, 'harrowing': 2684, 'gr-aargh': 2526, 'progress': 4602, 'determined': 1593, 'gentlemen': 2431, 'sausage': 5048, 'found': 2296, 'burns': 852, 'forty-two': 2294, 'sad': 4999, 'now': 4082, 'hot': 2875, \"s'okay\": 4991, \"brockman's\": 794, 'vodka': 6380, 'guttural': 2613, 'cause': 986, 'enlightened': 1939, 'upbeat': 6311, 'real': 4761, 'remains': 4825, 'slightly': 5374, 'shut': 5271, 'diets': 1615, 'parking': 4272, 'gulps': 2599, 'edge': 1854, 'die-hard': 1611, \"father's\": 2098, \"lady's\": 3313, 'tyson/secretariat': 6242, 'filled': 2161, 'jar': 3124, 'nervous': 4002, 'homer_simpson:': 2838, 'smugglers': 5417, \"pressure's\": 4554, 'abercrombie': 82, 'laramie': 3330, 'passenger': 4284, 'weep': 6492, 'thanksgiving': 5966, 'ambrosia': 248, 'smoker': 5409, 'hose': 2869, 'bathing': 514, 'helped': 2753, 'sells': 5147, 'swings': 5833, 'stern': 5661, \"life's\": 3415, 'patient': 4293, 'teddy': 5910, 'mike': 3757, 'brown': 808, 'windowshade': 6598, 'payments': 4312, \"goin'\": 2500, 'cleveland': 1157, 'wells': 6500, 'well': 6498, 'closed': 1167, 'crab': 1371, 'agency': 167, 'clubs': 1179, 'answers': 289, 'holds': 2820, 'washouts': 6445, 'hammy': 2643, 'menlo': 3726, 'hole': 2821, 'bits': 632, 'wienerschnitzel': 6573, 'cliff': 1159, 'hosting': 2874, 'speaking': 5525, \"hadn't\": 2624, 'issuing': 3087, 'sport': 5566, 'hunka': 2912, \"can't\": 919, 'clientele': 1158, \"i'll\": 2930, 'lately': 3340, 'tearfully': 5906, 'bumped': 839, 'settlement': 5176, 'kick-ass': 3230, 'piece': 4387, 'chorus:': 1105, 'swell': 5825, 'charge': 1035, 'shelf': 5218, 'thirty-thousand': 6012, 'energy': 1927, 'pumping': 4645, 'powers': 4521, 'tones': 6101, 'mill': 3768, 'skydiving': 5358, 'lisa': 3454, 'coach:': 1181, 'ga': 2386, 'severe': 5179, 'meeting': 3715, 'damned': 1469, \"y'see\": 6711, 'magnanimous': 3595, 'compared': 1243, 'getcha': 2444, 'western': 6506, 'american': 252, 'prompting': 4609, \"professor's\": 4598, 'bleacher': 643, 'whether': 6538, 'champion': 1019, 'further': 2375, 'ringing': 4904, 'bon-bons': 687, 'stalking': 5604, 'tabooger': 5854, 'scrape': 5091, 'chairman': 1014, 'gambler': 2395, 'dryer': 1786, 'showing': 5261, 'iranian': 3072, 'texan': 5955, \"he'd\": 2709, 'waltz': 6421, 'named': 3949, 'end': 1920, 'rain': 4715, \"c'mon\": 891, 'shares': 5203, 'virility': 6376, 'gasp': 2410, 'barber': 479, 'winnings': 6606, 'leaving': 3367, 'thought_bubble_lenny:': 6026, 'bliss': 654, 'feat': 2112, 'ech': 1848, 'lear': 3359, 'kent_brockman:': 3223, 'barkeeps': 486, 'captain:': 937, 'were': 6503, 'religious': 4819, 'typed': 6240, 'dignity': 1622, 'wisconsin': 6614, 'chow': 1107, 'humiliation': 2907, 'ease': 1833, 'leak': 3357, 'whaaaa': 6510, 'spiritual': 5550, 'disappointment': 1646, 'luxury': 3572, 'telegraph': 5918, 'ugly': 6249, 'wagering': 6401, 'nantucket': 3952, 'loaded': 3481, 'except': 1998, 'care': 945, 'foibles': 2244, 'krusty': 3298, 'irish': 3074, 'wood': 6651, 'champignons': 1018, \"secret's\": 5120, 'rainier': 4718, 'ancestors': 261, 'chicks': 1076, 'chase': 1044, \"stallin'\": 5605, 'loved': 3540, 'folk': 2247, 'mumble': 3909, 'falcons': 2069, 'jogging': 3161, 'roll': 4926, 'created': 1387, 'au': 395, 'ummmmmmmmm': 6257, 'tha': 5960, 'hollye': 2826, 'chain': 1011, 'dignified': 1621, 'rancid': 4730, '1973': 32, 'tomatoes': 6095, 'rekindle': 4807, 'simp-sonnnn': 5299, 'played': 4435, 'baloney': 463, 'ruby-studded': 4962, 'sitar': 5330, 'considering:': 1287, 'be': 520, 'plucked': 4452, 'mostrar': 3872, 'capuchin': 938, 'hmm': 2807, 'yellow': 6732, 'linda': 3441, \"plank's\": 4422, 'cleaning': 1149, 'pickles': 4382, \"o'clock\": 4098, 'blinded': 652, 'pledge': 4448, 'compare': 1242, 'envy-tations': 1953, 'grave': 2548, 'stares': 5615, 'streetcorner': 5715, 'paint': 4242, 'penmanship': 4324, 'notably': 4070, 'beat': 533, 'root': 4942, 'presently': 4544, 'hiring': 2796, 'managed': 3629, 'same': 5024, 'stepped': 5660, 'mess': 3729, 'inning': 3017, 'rhode': 4883, 'zeal': 6771, 'ladder': 3309, 'cronies': 1404, 'nucular': 4085, 'mouse': 3881, 'wire': 6613, 'wally': 6417, 'knowledge': 3285, 'silent': 5297, 'karaoke': 3207, 'cursed': 1441, \"football's\": 2264, 'whup': 6567, 'cold': 1205, 'flaming': 2208, 'gator:': 2413, 'schabadoo': 5070, 'thru': 6046, 'hah': 2626, 'innocuous': 3020, 'scooter': 5083, 'gargoyle': 2404, 'listening': 3463, 'solo': 5471, 'reckless': 4778, 'depository': 1570, 'hub': 2895, 'leprechaun': 3394, 'crayon': 1384, 'tourist': 6126, 'occupancy': 4110, 'classy': 1144, 'owns': 4225, 'nasa': 3958, 'suave': 5741, 'haplessly': 2666, 'read': 4753, 'booth': 702, 'fritz:': 2343, 'took': 6110, 'compete': 1245, 'cowardly': 1364, 'neon': 3999, 'homesick': 2840, 'mini-beret': 3776, \"could've\": 1339, 'kinderhook': 3253, 'rebuttal': 4771, 'ali': 210, 'forty-seven': 2293, 'twenty-six': 6229, 'cheated': 1054, 'brooklyn': 800, 'based': 507, 'bathed': 513, 'derisive': 1578, 'beginning': 569, 'either': 1886, 'sexual': 5182, 'full-time': 2360, 'apply': 318, 'cesss': 1010, 'sacrilicious': 4998, 'boyhood': 741, 'tomahto': 6093, 'faces': 2055, 'damn': 1468, 'whim': 6541, 'shoulda': 5248, 'roy': 4954, 'men': 3721, 'creature': 1389, 'sneaky': 5430, 'oddest': 4119, \"summer's\": 5769, '70': 47, 'tomorrow': 6097, 'chug': 1117, 'lanes': 3324, 'out': 4205, 'dynamite': 1818, 'nards': 3955, 'totally': 6120, 'empty': 1914, 'vacuum': 6335, 'sniffing': 5434, 'army': 344, 'grateful': 2547, 'brilliant': 783, 'reserved': 4861, 'cavern': 990, 'cocking': 1190, 'swishkabobs': 5835, 'boxcars': 732, 'reading': 4757, 'sorts': 5501, 'marjorie': 3650, 'maude': 3674, '_hooper:': 65, 'lime': 3436, 'alarm': 200, 'birth': 626, 'bugs': 826, 'fifth': 2147, 'would': 6678, 'ab': 78, 'therapy': 5986, 'aged_moe:': 166, 'answering': 288, 'imported-sounding': 2969, 'happened': 2668, 'wiggum': 6579, 'gives': 2475, 'wobbly': 6630, 'restaurants': 4868, 'ready': 4760, 'murdered': 3913, \"choosin'\": 1104, 'ragtime': 4712, 'choked-up': 1101, 'taken': 5861, 'shill': 5224, 'information': 3009, 'hiya': 2804, 'person': 4350, 'french': 2323, 'risquã©': 4912, 'besides': 594, 'fulla': 2361, 'covering': 1360, 'drunks': 1784, 'naval': 3968, 'community': 1239, 'outlook': 4207, 'adjust': 129, 'type': 6239, 'snake-handler': 5422, 'sigh': 5289, 'get': 2442, 'yup': 6768, 'subscriptions': 5744, 'friend': 2332, 'lush': 3569, 'radical': 4700, 'pal': 4249, 'eggs': 1869, 'unforgettable': 6284, 'octa-': 4117, 'bowie': 726, 'boozebag': 705, 'helllp': 2750, 'pronounce': 4610, 'youngsters': 6758, 'jubilant': 3177, 'odor': 4120, 'hunter': 2914, \"fun's\": 2365, 'lurks': 3566, 'brockelstein': 792, 'kills': 3249, 'depressing': 1574, 'forecast': 2272, 'television': 5921, 'gags': 2390, 'doctor': 1687, 'such': 5747, 'louder': 3532, 'throat': 6039, 'sheepish': 5214, 'hops': 2861, 'presidents': 4550, 'disappeared': 1643, 'carefully': 948, 'neighbor': 3988, 'watered': 6456, 'unhook': 6289, 'unusual': 6307, 'pictured': 4386, 'lap': 3329, 'tried': 6173, 'dashes': 1488, 'badge': 445, 'eh': 1871, 'pit': 4408, 'bret:': 773, 'silence': 5296, 'rob': 4917, 'unbelievably': 6264, 'accept': 97, 'mulder': 3904, 'woman_bystander:': 6639, 'paramedic:': 4264, 'world': 6667, 'smooth': 5413, 'sledge-hammer': 5365, 'dr': 1733, 'wishes': 6618, 'choices:': 1098, 'placing': 4416, 'proves': 4624, 'coined': 1202, 'class': 1143, 'song': 5494, 'ron_howard:': 4936, 'coat': 1186, 'things': 6001, 'mither': 3801, 'giggles': 2461, \"'kay-zugg'\": 12, 'lose': 3518, 'shush': 5270, 'steamed': 5651, 'recipe': 4776, 'practice': 4523, 'done:': 1712, 'unlucky': 6301, 'due': 1790, 'throws': 6045, \"ladies'\": 3311, 'toms': 6099, 'list': 3459, 'scrutinizes': 5101, 'sickened': 5278, 'kool': 3294, 'hands': 2652, 'girlfriend': 2471, 'very': 6357, 'blessing': 648, 'painting': 4244, \"linin'\": 3448, 'minute': 3783, 'live': 3471, 'open-casket': 4175, 'thing:': 6000, 'barf': 481, 'spews': 5543, \"aren't\": 333, 'pop': 4493, 'tsk': 6199, 'ma': 3575, 'johnny': 3163, 'alternative': 237, 'material': 3670, \"haven't\": 2700, 'attention': 388, 'kay': 3209, 'kramer': 3297, 'noooooooooo': 4057, 'common': 1238, 'bouquet': 723, 'opens': 4177, 'knit': 3275, 'leathery': 3364, 'upgrade': 6313, 'furiously': 2372, 'disco': 1649, 'general': 2422, 'elect': 1890, 'willy': 6589, 'website': 6485, 'dumpster': 1809, 'alibi': 211, \"spiffin'\": 5545, 'refreshingness': 4798, 'bon': 686, 'chauffeur:': 1048, 'bridges': 778, 'stein-stengel-': 5656, 'dogs': 1693, 'brakes': 752, 'hunky': 2913, 'movement': 3887, 'toledo': 6089, 'sharity': 5205, 'annoyed': 280, 'cheaped': 1050, 'steaming': 5652, 'fainted': 2064, 'short': 5240, 'scruffy_blogger:': 5100, 'ahh': 186, 'shows': 5262, \"smackin'\": 5392, 'polygon': 4487, 'guzzles': 2617, 'broke': 795, 'loudly': 3533, 'nein': 3994, 'saucy': 5047, \"shootin'\": 5234, 'football_announcer:': 2265, 'beefs': 551, 'xanders': 6706, 'strongly': 5727, 'laughs': 3346, 'horror': 2866, 'jerry': 3144, 'majority': 3605, 'fluoroscope': 2234, 'sweetest': 5821, 'blood-thirsty': 661, 'bow': 725, 'scornfully': 5087, 'closet': 1170, \"rustlin'\": 4985, 'bets': 599, 'noosey': 4059, \"elmo's\": 1899, 'lifters': 3424, 'someone': 5479, 'stools': 5692, \"tv'll\": 6213, 'grow': 2577, 'louse': 3536, 'donor': 1713, 'endorsement': 1923, 'escort': 1960, 'mint': 3781, 'crayola': 1383, 'strips': 5723, 'sandwich': 5028, 'expensive': 2018, 'watered-down': 6457, 'another': 285, 'of': 4121, 'stonewall': 5688, 'wieners': 6572, 'wolfcastle': 6633, 'pillows': 4393, 'tonic': 6103, 'irs': 3079, 'mexican': 3736, \"liberty's\": 3408, \"game's\": 2397, 'moe-heads': 3828, \"i-i'm\": 2937, 'offer': 4127, 'invited': 3067, 'flat': 2215, 'mail': 3600, 'clone': 1165, 'call': 905, 'pills': 4394, \"fine-lookin'\": 2172, 'polenta': 4478, 'grumbling': 2585, 'impatient': 2965, 'wholeheartedly': 6562, 'plow': 4451, 'begins': 570, 'scoffs': 5082, 'manjula_nahasapeemapetilon:': 3638, 'sagely': 5010, 'that': 5967, 'inquiries': 3021, \"mo'\": 3811, 'd': 1454, 'here-here-here': 2765, 'pleasure': 4447, 'therefore': 5989, 'finest': 2173, 'looks': 3511, 'enthused': 1945, 'problems': 4589, 'hateful': 2696, 'veux': 6360, 'repairman': 4846, 'glum': 2490, 'solved': 5472, 'lipo': 3450, 'regulars': 4805, 'mahatma': 3597, 'clapping': 1142, 'talking': 5872, 'temp': 5926, 'stock': 5682, 'administration': 130, 'pint': 4402, 'politician': 4483, 'title': 6074, 'warranty': 6437, 'kindly': 3254, 'hostages': 2872, 'lennyy': 3390, 'between': 604, 'patrons': 4298, 'doppler': 1722, 'sucker': 5750, 'wham': 6514, 'midge': 3753, 'eva': 1970, 'peeved': 4322, 'sly': 5390, 'poor': 4491, 'nuts': 4094, 'winces': 6591, \"renovatin'\": 4840, 'full-blooded': 2358, 'corkscrews': 1321, \"smokin'_joe_frazier:\": 5412, 'walther': 6419, 'novel': 4079, 'seriously': 5167, 'raking': 4724, 'need': 3983, 'anyway': 302, \"president's\": 4548, 'answer': 286, 'takes': 5862, 'rafters': 4705, 'cozy': 1370, 'leg': 3374, 'produce': 4592, 'grrrreetings': 2579, 'folks': 2248, 'dejected_barfly:': 1540, 'control': 1306, 'newspaper': 4014, \"payin'\": 4310, 'remembering': 4828, 'entirely': 1949, 'oblongata': 4105, 'sitcom': 5331, \"let's\": 3399, 'wheeeee': 6528, 'self-made': 5142, 'associate': 372, 'danny': 1480, 'log': 3496, 'cooler': 1316, 'starts': 5627, 'surgery': 5795, 'goldarnit': 2504, 'pulls': 4644, 'grammar': 2534, 'higher': 2784, 'pizza': 4412, 'shag': 5188, 'otherwise': 4199, 'clothes': 1172, 'rutabaga': 4987, 'sheriff': 5220, 'collateral': 1207, 'aerosmith': 148, 'humanity': 2906, 'aidens': 191, 'value': 6339, 'professional': 4596, 'uglier': 6246, 'iddilies': 2943, 'ultimate': 6254, 'ha-ha': 2620, \"doctor's\": 1688, 'understood:': 6276, \"table's\": 5852, 'foot': 2262, '3rd_voice:': 40, 'dictator': 1606, 'changes': 1025, 'forty': 2290, \"cont'd:\": 1293, 'suspiciously': 5807, 'awareness': 412, 'pardon': 4266, \"'cept\": 5, 'campaign': 917, 'flowers': 2232, 'southern': 5514, 'kisses': 3264, 'unexplained': 6281, 'jumps': 3191, 'winded': 6594, 'vigilante': 6368, \"tonight's\": 6105, 'sweetly': 5824, 'replaced': 4851, 'pin': 4396, \"beer's\": 556, 'thesaurus': 5990, 'comment': 1233, 'sent': 5161, 'merchants': 3728, 'space': 5516, 'seminar': 5151, 'imaginary': 2961, 'plug': 4453, 'sobs': 5458, 's': 4989, 'photo': 4370, 'thirty-nine': 6011, 'harm': 2682, 'average-looking': 409, 'mocking': 3818, 'fake': 2068, 'corpses': 1326, 'ladies': 3310, 'ripper': 4910, 'difficult': 1618, 'steel': 5654, 'intakes': 3043, 'seymour': 5184, 'rainier_wolfcastle:': 4719, 'her': 2762, 'toys': 6136, 'and': 263, 'bookie': 699, 'faith': 2066, 'nurse': 4092, 'ambrose': 247, 'sits': 5333, 'evasive': 1971, 'terrible': 5942, 'goblins': 2497, 'reasons': 4769, 'rickles': 4891, 'saying': 5058, 'singer': 5310, 'adequate': 127, 'ho': 2810, 'belly': 582, 'ohh': 4137, 'poetics': 4462, 'carey': 950, 'patterns': 4301, 'idioms': 2949, 'prohibit': 4603, 'hilton': 2791, 'glen:': 2483, 'play/': 4434, 'reliable': 4816, 'stinky': 5678, 'pussycat': 4661, 'preparation': 4540, 'buttons': 877, 'pusillanimous': 4660, 'craft': 1374, 'shoes': 5231, 'costume': 1332, 'confidential': 1276, 'somehow': 5478, 'wasting': 6449, 'pair': 4247, \"sat's\": 5041, 'option': 4181, 'confidence': 1274, 'woo': 6649, 'divine': 1680, 'jerking': 3140, 'totalitarians': 6119, 'friendly': 2335, 'terrific': 5943, 'ruuuule': 4988, 'pick': 4377, 'krabappel': 3296, 'trunk': 6191, 'mirror': 3786, 'buffet': 824, 'cleaner': 1147, 'ride': 4893, 'jeff_gordon:': 3135, 'caricature': 951, 'relationship': 4808, 'bursts': 856, 'patting': 4302, 'moron': 3865, 'kyoto': 3302, \"lovers'\": 3546, '8': 49, 'theme': 5980, 'eating': 1845, 'gardens': 2403, 'liable': 3405, 'expense': 2017, 'job': 3154, 'hems': 2760, 'betty:': 603, 'perã³n': 4354, 'senators': 5154, 'emporium': 1913, 'ned': 3981, \"i'd'a\": 2929, 'california': 904, 'sec': 5114, 'bread': 760, 'crying': 1424, 'yo': 6743, 'beans': 527, 'human': 2905, 'larry': 3333, 'actor': 117, 'number': 4088, 'portentous': 4502, 'jerk-ass': 3139, 'springfield': 5575, 'culkin': 1431, 'sweet': 5819, 'ura': 6318, 'montrer': 3852, 'johnny_carson:': 3164, 'sanitation': 5032, 'rude': 4963, 'dint': 1633, 'troy': 6184, 'ons': 4165, 'smokes': 5410, 'completing': 1252, 'instead': 3036, 'pre-recorded': 4530, '__left_parentheses__': 55, 'beast': 532, 'darjeeling': 1481, 'coast': 1183, 'nobel': 4042, 'tinkle': 6066, 'stir': 5679, 'priority': 4579, 'witches': 6622, 'address': 125, 'grudgingly': 2582, 'underbridge': 6270, 'for': 2266, 'apu': 325, '7-year-old_brockman:': 46, 'lenford': 3385, 'breakdown': 763, 'diamond': 1601, 'kegs': 3216, 'matter-of-fact': 3673, 'less': 3395, 'extended': 2032, 'works': 6666, 'puffy': 4634, 'ourselves': 4204, 'happily': 2671, 'leave': 3365, 'specific': 5531, 'slays': 5364, 'bet': 596, 'label': 3305, 'pyramid': 4669, 'clinton': 1161, 'benjamin:': 593, 'sale': 5018, 'picky': 4383, 'routine': 4952, 'eleven': 1894, 'presumir': 4556, 'parents': 4268, 'um': 6255, 'arimasen': 337, 'diminish': 1625, \"renee's\": 4837, 'venom': 6350, 'hand': 2645, \"people's\": 4328, 'soaps': 5452, 'skunk': 5356, 'mobile': 3815, 'weekly': 6490, \"o'\": 4097, 'fat_tony:': 2096, 'hats': 2698, 'nail': 3943, 'own': 4222, 'waitress': 6406, 'tanking': 5877, 'lib': 3407, 'soap': 5451, 'giggle': 2460, 'boisterous': 683, 'coney': 1271, 'called': 906, 'pass': 4282, 'jasper_beardly:': 3125, 'military': 3764, 'drug': 1779, 'softer': 5466, 'indeed': 2990, 'simple': 5300, 'bury': 859, 'reached': 4748, 'brainiac': 750, 'tab': 5849, 'shocked': 5229, 'champs': 1021, 'night-crawlers': 4029, 'riveting': 4914, 'met': 3732, 'fountain': 2299, 'polite': 4482, 'ho-ly': 2812, 'pen': 4323, 'catholic': 980, 'bunion': 843, 'vegas': 6346, 'amanda': 242, 'thnord': 6017, 'cheerleaders:': 1063, 'cooker': 1312, 'blade': 638, 'beauty': 540, 'flames': 2207, \"tootin'\": 6113, 'stagey': 5599, 'war': 6429, 'outta': 4212, 'scrubbing': 5099, 'glitterati': 2484, 'housewife': 2886, 'figure': 2154, 'pudgy': 4632, 'feld': 2123, 'utility': 6332, 'urinal': 6321, 'ah': 182, 'gig': 2459, 'tofu': 6083, 'front': 2347, 'fudd': 2355, 'leno': 3391, 'stewart': 5664, 'wednesday': 6487, 'behind': 572, 'odd': 4118, 'pepsi': 4333, \"eatin'\": 1844, 'want': 6425, \"they've\": 5996, 'omit': 4153, 'fence': 2134, 'whispered': 6547, 'infor': 3007, 'academy': 94, 'beaumarchais': 537, 'simon': 5298, 'noticing': 4077, 'noble': 4043, 'god': 2498, 'east': 1836, \"fallin'\": 2071, 'marry': 3656, 'copy': 1319, 'somewhere': 5490, 'thorn': 6019, 'charming': 1042, 'infatuation': 3002, 'nordiques': 4062, 'filed': 2159, 'cattle': 982, \"neat's-foot\": 3976, 'bloodiest': 664, 'rome': 4934, 'beards': 530, 'steinbrenner': 5657, 'disappointed': 1644, 'strangles': 5709, 'adult_bart:': 140, 'marmaduke': 3652, 'edison': 1856, 'quarter': 4673, 'andy': 270, 'seamstress': 5108, 'thomas': 6018, 'tolerance': 6091, 'bottomless': 719, 'thanking': 5964, 'befouled': 563, 'new_health_inspector:': 4008, 'pus-bucket': 4656, 'grammy': 2535, 'bald': 455, \"where's\": 6537, 'terror': 5947, \"ma'am\": 3576, 'unhappy': 6288, 'angel': 271, 'kemi:': 3218, 'laughing': 3345, 'groveling': 2576, 'mayor': 3682, 'weirded-out': 6495, 'muertos': 3899, 'rounds': 4951, 'shred': 5263, 'julep': 3187, 'neither': 3995, 'mustard': 3931, 'picnic': 4384, 'sniffs': 5436, \"i'm-so-stupid\": 2932, 'dear': 1514, 'husband': 2920, 'seven': 5178, 'playhouse': 4438, 'near': 3973, 'beneath': 590, 'clipped': 1162, '2nd_voice_on_transmitter:': 37, 'followed': 2250, 'layer': 3354, 'fridge': 2331, 'or': 4183, 'rapidly': 4733, 'lodge': 3494, 'thirteen': 6008, 'busy': 869, 'pitcher': 4410, 'all:': 219, 'notices': 4076, 'skin': 5349, 'hollywood': 2827, 'stinger': 5673, 'rub': 4958, 'teacup': 5901, 'stickers': 5667, 'cheaper': 1051, 'protecting': 4617, 'blowfish': 667, 'offshoot': 4132, 'icelandic': 2941, 'fireworks': 2185, 'remote': 4834, 'cool': 1315, 'melodramatic': 3718, 'pre-columbian': 4528, 'little_man:': 3470, 'forgiven': 2280, 'hangover': 2661, \"who'da\": 6554, 'row': 4953, 'inspire': 3031, 'saget': 5011, 'unattended': 6260, 'talk': 5866, 'quimby': 4686, 'dressing': 1755, 'will': 6585, 'international': 3049, 'struggling': 5728, 'quick': 4681, 'storms': 5701, 'mock-up': 3817, 'turn': 6208, 'agent_miller:': 170, \"what's\": 6519, 'test': 5949, 'ignoring': 2955, 'happiness': 2673, 'cushions': 1443, \"'s\": 19, 'office': 4128, 'refreshing': 4797, 'hide': 2777, 'stands': 5613, \"springfield's\": 5576, 'movie': 3888, 'tee': 5911, 'large': 3332, 'moan': 3812, 'bedridden': 546, 'eddie:': 1852, 'stamps': 5608, \"what'll\": 6517, 'britannia': 788, 'bubbles': 814, 'stirring': 5681, 'homer_': 2836, 'package': 4230, 'illustrates': 2959, 'friendship': 2337, 'stupidly': 5739, 'sued': 5758, 'poking': 4477, 'exhaust': 2010, 'barstools': 495, 'hustle': 2922, 'luck': 3558, \"fishin'\": 2191, 'absolutely': 91, \"knockin'\": 3280, 'neighbors': 3992, 'dictating': 1605, 'safecracker': 5004, 'temporarily': 5930, 'badly': 447, 'entire': 1948, \"spaghetti-o's\": 5519, 'cheesecake': 1067, 'salt': 5020, 'hug': 2898, 'grind': 2568, 'contract': 1304, 'juke': 3184, 'snackie': 5419, 'town': 6132, \"mecca's\": 3706, \"askin'\": 362, 'wreck': 6689, 'acceptance': 98, 'quite': 4691, 'benjamin': 592, 'you': 6747, 'proudly': 4622, 'planet': 4421, 'looting': 3514, 'beings': 575, 'assume': 373, 'gun': 2604, 'valuable': 6338, 'finished': 2177, 'carolina': 963, 'morning-after': 3864, 'lighten': 3428, \"round's\": 4950, 'your': 6759, 'far': 2086, 'gotten': 2524, 'dejected': 1539, 'breaking': 766, 'unintelligent': 6292, 'sincerely': 5307, 'throwing': 6043, 'rich': 4887, 'fantastic': 2084, 'stones': 5687, 'moving': 3890, 'fresco': 2326, 'sexton': 5181, 'journey': 3173, 'sister-in-law': 5326, 'marquee': 3653, 'overflowing': 4215, 'drains': 1736, 'dexterous': 1598, \"somebody's\": 5476, 'edgy': 1855, 'comic': 1228, 'elmer': 1898, '10:15': 29, \"how'd\": 2890, 'thrilled': 6038, 'government': 2525, 'hardy': 2680, 'jovial': 3174, 'ya': 6713, 'chocolate': 1094, 'bulletin': 833, 'bites': 631, 'discriminate': 1651, 'bam': 464, 'pickled': 4381, 'radioactive': 4702, 'jane': 3121, 'my-y-y-y-y-y': 3934, 'aw': 410, 'tow-joes': 6128, 'awesome': 416, 'sunglasses': 5772, 'x-men': 6705, 'midnight': 3755, \"fendin'\": 2135, 'hello': 2751, 'entrance': 1950, 'decent': 1520, 'surprised': 5797, 'multi-national': 3906, 'fanciest': 2080, 'quarry': 4672, 'arab_man:': 329, 'rolls': 4930, 'factor': 2057, 'rolled': 4927, 'correcting': 1328, 'okay': 4143, 'conspiracy': 1290, 'premise': 4538, 'said': 5012, 'perking': 4344, 'into': 3054, \"seein'\": 5127, 'exited': 2013, 'country': 1346, 'drown': 1778, 'ought': 4200, 'ehhhhhh': 1873, 'bees': 561, 'nudge': 4086, 'social': 5459, 'disaster': 1648, 'certified': 1009, \"won't\": 6643, 'interrupting': 3051, 'frankly': 2311, \"couldn't\": 1340, 'gear-head': 2417, 'limber': 3435, 'worry': 6673, 'unearth': 6279, 'charm': 1041, 'tender': 5933, '14': 30, 'computer': 1260, 'score': 5084, 'bolting': 685, 'nick': 4021, 'zero': 6772, 'month': 3850, 'big': 611, 'minister': 3779, \"this'll\": 6015, 'phony': 4369, 'continued': 1301, 'massachusetts': 3664, 'spectacular': 5533, 'teams': 5904, 'flower': 2231, 'jesus': 3145, 'straight': 5703, 'evils': 1987, 'respect': 4865, 'lurleen': 3567, 'salary': 5017, 'rap': 4732, 'pants': 4258, 'har': 2675, 'opening': 4176, 'unless': 6298, 'easy': 1838, 'eww': 1989, 'reynolds': 4882, 'labor': 3307, 'mention': 3727, 'brow': 807, 'beating': 534, 'tipsy': 6071, 'girl': 2469, 'intoxicants': 3055, 'judge_snyder:': 3180, 'studio': 5733, 'stand': 5610, 'dreams': 1748, 'space-time': 5517, 'yammering': 6716, 'reality': 4762, 'dreamed': 1746, 'dan': 1470, 'souped': 5510, 'these': 5991, 'rocks': 4924, 'ew': 1988, 'motorcycle': 3877, 'expression': 2030, 'to': 6076, 'burg': 845, 'jay': 3126, 'eighteen': 1879, 't-shirt': 5848, \"handwriting's\": 2656, 'village': 6369, 'starla': 5616, 'socialize': 5460, 'intelligent': 3044, 'warmth': 6433, 'bedbugs': 545, 'beatings': 535, 'brawled': 759, 'maya': 3678, 'nameless': 3950, 'napkins': 3954, '_babcock:': 62, 'du': 1787, 'finger': 2174, 'hard': 2676, 'ho-la': 2811, \"today's\": 6080, \"she'll\": 5211, 'dean': 1513, 'unsanitary': 6304, 'third': 6006, 'tastes': 5888, 'joy': 3175, 'rice': 4886, 'dig': 1619, 'saved': 5051, 'scam': 5060, 'figured': 2155, 'banks': 467, 'cockroach': 1191, 'sucking': 5751, 'order': 4184, 'candy': 924, 'latin': 3342, 'forced': 2270, 'tree_hoper:': 6164, 'publish': 4629, 'finishing': 2178, 'bold': 684, 'dozen': 1732, 'rule': 4970, \"kids'\": 3242, 'seeing': 5128, 'wide': 6569, 'pennies': 4325, 'suds': 5756, 'dreamily': 1747, 'mrs': 3894, 'advice': 146, 'bronco': 798, 'symphonies': 5842, 'wife-swapping': 6576, 'situation': 5336, 'flag': 2203, 'rims': 4902, 'snotty': 5442, 'fortune': 2289, 'hold': 2818, 'supposed': 5791, 'mcstagger': 3689, 'helpful': 2754, 'grandmother': 2542, \"now's\": 4083, 'introduce': 3059, 'distributor': 1675, 'rig': 4898, 'sight': 5291, 'firm': 2187, 'reentering': 4789, 'leftover': 3372, 'conclude': 1266, 'dime': 1624, 'bye': 886, 'sobbing': 5454, 'move': 3885, 'post-suicide': 4509, 'pretzel': 4564, 'fill': 2160, 'weirder': 6496, \"tellin'\": 5923, \"g'ahead\": 2383, 'o': 4096, 'whiny': 6543, 'ding-a-ding-ding-ding-ding-ding-ding': 1629, 'our': 4203, 'deer': 1533, 'aghast': 176, 'smile:': 5402, 'persia': 4349, 'smiling': 5405, 'dislike': 1664, 'gin': 2466, 'shipment': 5226, 'lessee': 3396, 'specified': 5532, \"hobo's\": 2816, 'contemporary': 1297, 'clap': 1141, 'fica': 2141, \"'round\": 18, 'dead': 1506, 'wangs': 6423, 'behavior': 571, \"hasn't\": 2691, \"squeezin'\": 5588, 'wild': 6582, 'gregor': 2557, 'plums': 4455, 'princess': 4574, 'whining': 6542, 'warn': 6434, 'eye-gouger': 2040, 'informant': 3008, 'ding-a-ding-ding-a-ding-ding': 1628, 'morlocks': 3862, 'palmerston': 4252, 'represents': 4855, 'period': 4343, 'measurements': 3704, 'plywood': 4457, 'norway': 4066, 'backing': 440, 'winks': 6603, 'highway': 2786, 'drunk': 1781, 'chunky': 1123, 'pointed': 4466, 'pleasant': 4443, 'alone': 229, 'karaoke_machine:': 3208, 'pretty': 4563, 'glowers': 2489, 'lurleen_lumpkin:': 3568, 'decision': 1524, 'living': 3476, 'follow': 2249, 'champ': 1017, \"tony's\": 6108, 'fatty': 2100, 'dutch': 1814, 'stage': 5597, '91': 50, 'liven': 3472, 'kwik-e-mart': 3301, 'deny': 1566, 'biggest': 613, 'kang:': 3205, 'ihop': 2956, 'bottom': 718, 'child': 1079, 'breaks': 767, 'pizzicato': 4413, 'operation': 4178, 'sixty-five': 5341, 'singing': 5313, 'dreamy': 1749, 'lying': 3573, 'venture': 6352, 'standards': 5611, 'rat': 4738, 'cummerbund': 1432, 'wondering': 6648, 'hangout': 2660, 'voted': 6389, 'alien': 212, 'mm': 3805, 'bashir': 510, 'bastard': 512, 'ehhhhhhhh': 1874, 'compromise:': 1259, \"they're\": 5995, 'closing': 1171, 'stevie': 5663, 'mcbain': 3684, \"we'd\": 6471, 'putty': 4666, 'ashamed': 357, 'clearing': 1151, 'shaker': 5191, 'sector': 5122, 'meals': 3693, 'youse': 6764, 'permitting': 4346, 'funeral': 2368, 'youth': 6765, 'youuu': 6766, 'gently': 2433, 'renders': 4835, 'david': 1496, 'dinner': 1632, 'club': 1178, 'gay': 2415, 'sangre': 5030, 'alma': 226, 'luckiest': 3559, 'sadistic_barfly:': 5001, 'barflies:': 483, 'attractive_woman_#1:': 393, 'anderson': 268, 'stumble': 5735, 'notch': 4071, 'dallas': 1463, 'reed': 4788, 'acronyms': 111, 'regretted': 4804, 'soon': 5495, 'wraps': 6688, 'fever': 2138, 'wittgenstein': 6626, 'fortensky': 2287, 'wayne': 6466, 'weeks': 6491, 'indignant': 2997, 'crack': 1372, 'talked': 5869, \"she'd\": 5210, 'mm-hmm': 3806, 'calmly': 911, 'edna': 1857, 'sheet': 5215, 'gangrene': 2401, 'lobster-based': 3487, 'smells': 5399, 'nachos': 3938, 'new': 4007, 'congoleum': 1279, 'hooky': 2852, 'donuts': 1716, 'minors': 3780, 'ha': 2619, 'gum': 2600, 'shades': 5187, 'sensitivity': 5160, 'read:': 4754, 'p-k': 4228, 'chosen': 1106, 'alky': 214, 'legal': 3375, 'second': 5117, 'tribute': 6171, 'left': 3371, 'hemoglobin': 2758, 'avenue': 407, 'cheap': 1049, 'patriotic': 4295, 'vance': 6343, 'supply': 5786, 'aziz': 425, 'wants': 6428, 'plant': 4426, 'authenticity': 400, 'unfortunately': 6285, 'helping': 2755, 'blooded': 663, 'outside': 4210, 'ing': 3010, 'terrace': 5941, 'talk-sings': 5867, 'involved': 3068, 'mad': 3585, 'if': 2952, 'naegle': 3939, 'caused': 987, 'cameras': 915, 'perverse': 4352, 'drunkening': 1782, 'season': 5111, 'prank': 4525, 'tight': 6059, \"buffalo's\": 823, \"enjoyin'\": 1937, 'dealer': 1509, 'deacon': 1505, 'his': 2797, 'contest': 1300, 'brought': 806, 'insulted': 3039, \"tree's\": 6163, 'numbers': 4090, 'verdict': 6353, 'housing': 2888, 'exultant': 2038, 'sneak': 5429, 'filth': 2164, 'marched': 3643, 'mathis': 3671, 'kicked': 3231, 'suck': 5748, 'refund': 4800, 'signed': 5295, 'which': 6539, 'puzzled': 4668, 'step': 5659, 'malted': 3617, 'pained': 4240, 'went': 6502, 'hardhat': 2678, 'splendid': 5558, 'virtual': 6377, 'measure': 3703, 'boy': 738, 'dramatically': 1738, 'sat': 5040, 'ã€': 6779, 'strap': 5710, 'sticking': 5668, 'poorer': 4492, 'mountain': 3880, 'sumatran': 5767, 'incriminating': 2988, 'serum': 5168, 'writing': 6697, \"poisonin'\": 4473, 'p': 4227, 'sanctuary': 5027, 'manjula': 3637, 'slaps': 5362, 'drink': 1758, 'perverted': 4353, 'trash': 6155, \"countin'\": 1344, 'necessary': 3977, 'life-extension': 3416, 'raises': 4722, 'surprising': 5799, 'rag': 4706, 'fat-free': 2094, 'endorsed': 1922, 'seats': 5113, 'evergreen': 1978, 'hooters': 2854, 'celebrity': 996, 'cheese': 1066, 'enthusiastically': 1947, 'blows': 670, 'exchanged': 2001, 'perfunctory': 4341, 'declan': 1525, 'plaintive': 4418, 'loan': 3483, \"city's\": 1133, 'robot': 4921, 'running': 4980, 'bounced': 722, 'scare': 5063, 'bully': 834, 'platinum': 4432, 'tabs': 5855, 'astronauts': 378, 'teenage_homer:': 5916, \"daughter's\": 1495, 'sit': 5329, 'mater': 3669, 'corporate': 1324, 'begging': 567, 'sighs': 5290, 'spirit': 5549, 'century': 1003, 'quarterback': 4674, 'blobbo': 657, 'mug': 3901, 'filthy': 2165, 'papa': 4260, 'cocoa': 1195, 'shot': 5244, 'tar-paper': 5885, 'whaaa': 6509, 'roof': 4938, 'while': 6540, 'twenty-five': 6226, 'wasted': 6448, 'skills': 5348, 'trust': 6192, 'thumb': 6048, 'adjourned': 128, 'joint': 3168, 'handsome': 2654, 'agents': 171, 'in': 2974, 'tokens': 6087, 'thrust': 6047, 'arrested:': 348, 'shaking': 5194, 'tony': 6107, 'eddie': 1851, \"b-52's:\": 427, 'elocution': 1900, 'helicopter': 2745, 'scientific': 5080, 'runs': 4981, 'twenty-two': 6230, 'break': 761, 'kennedy': 3220, 'nature': 3965, 'bump': 838, 'man_with_tree_hat:': 3627, 'starters': 5623, 'broom': 801, 'hanh': 2663, 'touches': 6124, 'cake': 899, 'terminated': 5940, 'offa': 4123, \"nothin'\": 4072, 'unfair': 6282, 'grease': 2551, 'tv-station_announcer:': 6215, 'incredulous': 2987, \"wouldn't-a\": 6681, '__question_mark__': 57, 'options': 4182, '_timothy_lovejoy:': 71, 'talkers': 5870, 'ape-like': 306, 'louie:': 3534, 'three-man': 6036, 'cockroaches': 1192, 'errrrrrr': 1959, 'undies': 6278, 'uncle': 6265, 'saving': 5052, 'publishers': 4631, 'dã¼ff': 1820, 'hat': 2692, 'nothing': 4074, 'it:': 3092, '__exclamation_mark__': 54, 'appeals': 311, 'daniel': 1477, 'honey': 2844, 'broken': 796, 'practically': 4522, 'without:': 6625, '21': 35, 'intimacy': 3053, 'fighter': 2150, 'code': 1196, 'bauer': 519, 'queer': 4678, 'threatening': 6034, 'stops': 5695, 'senator': 5153, 'gimmicks': 2465, 'aggravazes': 174, 'heh': 2741, 'bless': 647, 'cowboys': 1366, 'landfill': 3322, 'email': 1903, 'gone': 2507, 'dessert': 1587, 'desperately': 1585, 'fondly': 2254, 'sink': 5319, 'sauce': 5046, \"we've\": 6474, 'france': 2308, 'beanbag': 526, 'believe': 578, 'ping-pong': 4400, 'banned': 468, 'effervescent': 1866, 'seymour_skinner:': 5185, 'ginger': 2468, 'sail': 5014, 'grub': 2580, 'satisfied': 5044, 'lovely': 3543, 'case': 968, 'snotball': 5441, 'hammer': 2641, 'chapter': 1032, 'nuked': 4087, 'ninety-six': 4037, 'quitcher': 4690, 'state': 5631, 'jacksons': 3111, 'macho': 3584, 'tatum': 5890, 'seconds': 5118, 'choked': 1100, 'tonight': 6104, 'bail': 453, 'partly': 4277, 'interesting': 3048, 'jury': 3195, 'button-pusher': 876, 'cheat': 1053, \"man's_voice:\": 3623, 'forehead': 2273, 'face': 2050, 'mother': 3874, 'march': 3642, 'eyed': 2043, 'spread': 5573, 'gayer': 2416, 'standing': 5612, \"watchin'\": 6453, 'flayvin': 2217, 'spit-backs': 5552, 'abcs': 80, \"coaster's\": 1185, 'stocking': 5683, 'decide:': 1522, 'pleased': 4446, 'hourly': 2883, 'grabs': 2529, 'schedule': 5071, \"c'mom\": 890, 'greystash': 2560, 'gore': 2517, 'savvy': 5054, 'is': 3080, 'camp': 916, 'lisa_simpson:': 3456, 'fixes': 2200, 'los': 3517, 'advantage': 142, 'glen': 2482, 'court': 1354, 'words': 6659, 'easier': 1834, 'makes': 3608, 'advertise': 144, 'countryman': 1348, 'contemplates': 1296, 'choice': 1095, 'dice': 1604, 'never': 4006, \"messin'\": 3731, 'drop-off': 1774, 'simpsons': 5303, 'percent': 4336, 'distinct': 1672, 'mary': 3661, 'tears': 5907, 'course': 1353, 'conditioning': 1270, 'spy': 5577, 'squeals': 5585, 'automobiles': 403, 'deliberate': 1544, 'emphasis': 1910, 'cruel': 1417, 'creeps': 1391, 'trail': 6143, 'site': 5332, 'disguise': 1658, '50%': 42, 'sports': 5567, 'citizens': 1131, 'became': 541, 'swe-ee-ee-ee-eet': 5813, 'grabbing': 2528, 'kahlua': 3203, 'maiden': 3599, 'bad-mouth': 444, 'lemonade': 3382, \"'\": 2, 'repeated': 4848, \"'now\": 15, 'sixteen': 5339, 'whoa-ho': 6559, 'slip': 5376, 'promotion': 4608, 'tip': 6069, 'perfume': 4340, 'shutup': 5274, 'snap': 5424, 'needed': 3984, 'home': 2829, 'clothespins': 1173, 'whatcha': 6522, \"wallet's\": 6416, 'grab': 2527, 'delete': 1542, 'ugliness': 6248, 'mice': 3741, 'show-off': 5256, 'perfect': 4338, 'minutes': 3784, \"betsy'll\": 600, 'before': 562, 'grammys': 2536, 'professor_jonathan_frink:': 4599, 'clothespins:': 1174, 'kneeling': 3271, 'wanted': 6427, 'interested': 3047, 'over-pronouncing': 4214, 'chastity': 1045, 'carve': 967, 'gestated': 2440, \"bein'\": 573, 'little': 3468, 'scatter': 5067, 'wonder': 6644, 'four-star': 2302, 'brightening': 782, 'head-gunk': 2713, 'attach': 383, 'barflies': 482, 'accusing': 106, \"grandmother's\": 2543, 'heaving': 2737, 'football': 2263, 'insightful': 3027, 'test-': 5950, \"how's\": 2892, 'invisible': 3065, 'teriyaki': 5938, 'adrift': 137, 'julienne': 3188, 'smiles': 5404, 'dumb': 1803, '35': 39, \"lookin'\": 3509, 'gallon': 2392, 'harv': 2685, 'book': 697, 'pats': 4300, 'slurred': 5389, \"drivin'\": 1769, 'letter': 3400, 'hail': 2628, 'declared': 1528, \"something's\": 5486, 'e-z': 1823, 'bag': 450, 'pour': 4515, 'burn': 849, 'test-lady': 5951, 'huhza': 2904, 'special': 5526, 'gruesome': 2583, 'told': 6088, 'stadium': 5596, 'west': 6505, 'me': 3691, 'woe:': 6631, 'taylor': 5898, 'rage': 4707, 'cup': 1433, \"tv's\": 6214, 'looooooooooooooooooong': 3512, 'parrot': 4273, 'delivery_boy:': 1553, 'bonding': 688, 'brains': 751, 'renee': 4836, 'everybody': 1980, 'complaining': 1248, 'until': 6306, \"'your\": 23, 'c': 888, 'disappear': 1642, 'delightfully': 1551, 'tsking': 6200, 'texas': 5956, 'sat-is-fac-tion': 5042, 'apart': 304, \"drexel's\": 1756, 'nigel_bakerbutcher:': 4025, 'drederick': 1751, 'swigmore': 5828, 'united': 6294, 'true': 6190, 'self-centered': 5140, \"jimbo's_dad:\": 3152, 'bowled': 728, 'orphan': 4192, 'one-hour': 4159, 'meal': 3692, 'intrigued': 3057, 'quick-like': 4682, 'instrument': 3037, 'too': 6109, 'pretentious_rat_lover:': 4560, 'middle': 3752, 'macbeth': 3581, 'castle': 973, '__dash__': 53, 'depressed': 1572, \"blowin'\": 668, 'taste': 5887, 'brunch': 810, 'ripcord': 4908, \"neighbor's\": 3989, 'because': 542, 'hugh:': 2902, 'feet': 2121, 'married': 3655, 'beverage': 605, 'jacks': 3109, 'playing': 4440, 'pouring': 4517, 'boozer': 707, 'air': 195, 'slab': 5359, 'expect': 2015, 'fevered': 2139, 'internet': 3050, 'sex': 5180, 'vomit': 6386, '_kissingher:': 67, 'bill': 615, 'groin': 2572, 'young_moe:': 6757, 'bedtime': 548, 'hers': 2769, 'krusty_the_clown:': 3299, 'kitchen': 3267, \"don'tcha\": 1706, 'alls': 225, 'edna_krabappel-flanders:': 1860, 'frink': 2340, 'holy': 2828, 'william': 6586, 'beaumont': 538, 'orders': 4186, 'overstressed': 4217, 'patron_#1:': 4296, 'loyal': 3554, 'enough': 1940, 'conference': 1272, 'comedy': 1224, 'admiring': 133, 'voicemail': 6384, 'cuddling': 1428, 'militia': 3765, 'spit': 5551, 'victorious': 6363, 'larry:': 3335, 'convenient': 1307, 'masks': 3662, 'stranger:': 5708, 'diving': 1681, 'crow': 1410, 'fall': 2070, 'cent': 1000, 'plotz': 4450, 'price': 4566, 'federal': 2113, 'stu': 5729, 'stained-glass': 5601, 'nerd': 4000, 'ivory': 3101, 'limits': 3439, 'facebook': 2052, 'pocket': 4458, 'curiosity': 1438, 'bupkus': 844, 'nineteen': 4033, 'pajamas': 4248, 'buds': 821, 'lover': 3544, 'feel': 2116, 'nfl_narrator:': 4017, 'anger': 272, 'dum-dum': 1802, 'where': 6535, 'abe': 81, 'tough': 6125, 'de': 1502, 'badges': 446, 'dang': 1475, 'labels': 3306, 'calling': 908, 'jazz': 3129, \"kid's\": 3235, 'mini-dumpsters': 3777, 'bucks': 817, 'joking': 3171, 'statesmanlike': 5633, 'formico:': 2286, 'harder': 2677, 'beard': 529, 'romance': 4932, 'drank': 1739, 'starve': 5629, 'aiden': 190, 'author': 401, 'mamma': 3619, 'bras': 755, 'noose': 4058, 'trivia': 6178, 'stalwart': 5606, 'bonfire': 692, 'narrator:': 3957, 'brain-switching': 748, 'courage': 1352, 'darn': 1485, 'perch': 4337, 'part': 4274, 'swimming': 5831, 'co-sign': 1180, 'glad': 2477, 'shriners': 5266, 'any': 295, 'watched': 6452, 'reunion': 4876, 'thighs': 5997, 'original': 4191, 'christmas': 1109, 'alphabet': 232, 'cover': 1359, 'someday': 5477, 'juice': 3183, 'hired': 2795, 'comedies': 1223, 'drag': 1735, 'haikus': 2627, 'wha': 6508, 'lloyd': 3478, 'smuggled': 5416, 'trenchant': 6169, 'bike': 614, 'vampires': 6341, 'a-a-b-b-a': 74, 'nauseous': 3967, 'reciting': 4777, 'lips': 3451, 'klown': 3270, 'goo': 2509, 'haws': 2707, 'strategy': 5712, 'encores': 1917, 'experience': 2019, 'usually': 6330, 'fires': 2184, 'mount': 3879, 'sideshow_bob:': 5286, 'creme': 1393, 'toilet': 6086, 'hoo': 2848, 'floated': 2225, 'forward': 2295, 'sickly': 5280, 'uh-oh': 6252, 'satisfaction': 5043, 'meaningfully': 3698, 'sorry': 5500, 'tow-talitarian': 6129, 'dumbest': 1807, 'spouses': 5571, 'st': 5592, \"wouldn't\": 6680, 'medical': 3709, 'kissing': 3265, 'rolling': 4929, 'pip': 4403, 'vanities': 6344, 'eighty-one': 1881, 'stillwater:': 5672, 'stay-puft': 5641, 'delivery_man:': 1554, 'booze': 703, 'chanting': 1029, 'friday': 2330, 'cross-country': 1407, \"thing's\": 5999, 'u2:': 6244, 'beam': 525, 'harvey': 2689, \"drawin'\": 1743, \"battin'\": 518, 'ingrates': 3012, 'compels': 1244, 'rivalry': 4913, 'devastated': 1594, 'ronstadt': 4937, 'lard': 3331, 'omigod': 4151, 'sobriety': 5457, '1895': 31, 'assumed': 374, 'family-owned': 2077, 'childless': 1080, 'hurry': 2916, 'detail': 1589, 'pulitzer': 4639, 'ninety-nine': 4035, 'nã£o': 4095, 'astonishment': 375, 'am': 241, 'sass': 5038, 'milhouses': 3763, 'completely': 1251, \"others'\": 4198, 'england': 1930, 'affectations': 150, 'choking': 1102, 'backward': 441, 'buying': 882, 'flashing': 2214, 'brusque': 812, 'game': 2396, 'arrest': 347, 'teacher': 5900, 'lumpa': 3564, 'betrayed': 598, 'lucius:': 3557, 'thorough': 6020, 'k': 3200, 'pigs': 4389, 'holidays': 2824, 'cricket': 1396, 'reflected': 4795, 'laws': 3351, 'recall': 4772, 'moment': 3837, 'hurting': 2918, 'kirk_voice_milhouse:': 3260, 'inspector': 3030, 'moolah-stealing': 3853, 'reasonable': 4768, 'invite': 3066, 'shoe': 5230, 'plastered': 4430, 'newest': 4009, 'serve': 5169, 'sneeze': 5432, 'daddy': 1460, 'each': 1824, 'church': 1124, 'irrelevant': 3078, 'worthless': 6677, 'crooks': 1406, 'newly-published': 4010, 'ironed': 3076, 'business': 864, 'hero-phobia': 2767, 'crank': 1376, 'easter': 1837, 'handler': 2649, 'consoling': 1289, 'whatsit': 6526, 'slot': 5385, 'sweeter': 5820, 'wrap': 6686, 'brace': 743, 'could': 1338, 'sealed': 5107, 'park': 4270, 'finance': 2168, 'looser': 3513, 'safe': 5003, 'shotgun': 5245, 'customers-slash-only': 1446, 'homer': 2832, 'choices': 1097, 'pregnancy': 4535, 'wife': 6574, 'emotion': 1908, 'witty': 6627, 'limited': 3438, 'dennis': 1560, 'certificate': 1008, 'connor': 1282, \"breakin'\": 765, 'superdad': 5779, 'onion': 4161, 'delicately': 1547, 'world-class': 6669, 'still': 5671, 'madison': 3587, 'music': 3923, 'recently': 4775, 'something:': 5487, 'alive': 213, 'whip': 6544, 'reconsidering': 4780, 'colorado': 1214, 'bum:': 835, 'total': 6118, 'waterfront': 6458, 'gasps': 2411, 'broken:': 797, 'sick': 5277, 'partners': 4279, 'funniest': 2369, 'long': 3501, 'flown': 2233, 'stay': 5640, 'spot': 5569, \"stabbin'\": 5594, 'tommy': 6096, 'draw': 1741, 'exit': 2012, 'watch': 6451, \"'ceptin'\": 6, 'like': 3432, 'margarita': 3644, 'lousy': 3537, \"havin'\": 2701, 'researching': 4858, 'many': 3641, 'fast-paced': 2091, 'booking': 700, 'please/': 4445, 'creepy': 1392, 'feedbag': 2115, 'apulina': 327, 'word': 6657, 'disapproving': 1647, 'punches': 4647, 'selection': 5137, 'yap': 6717, 'xx': 6707, 'slop': 5383, 'honor': 2846, 'present': 4542, 'b': 426, 'dirge-like': 1639, 'begin': 568, \"can'tcha\": 921, 'overhearing': 4216, 'victory': 6364, 'gas': 2408, 'shindig': 5225, 'wantcha': 6426, 'awe': 414, 'monroe': 3847, 'firing': 2186, \"mcstagger's\": 3690, 'valley': 6337, 'enveloped': 1951, 'difference': 1616, 'daaaaad': 1457, \"feelin's\": 2117, \"ball's\": 457, 'thirty-five': 6010, 'chili': 1083, 'rules': 4972, 'specials': 5529, 'older': 4148, 'richer': 4890, 'employment': 1912, 'courteous': 1355, 'ooh': 4168, 'edelbrock': 1853, 'act': 113, 'lance': 3320, \"livin'\": 3475, 'snaps': 5427, 'forty-five': 2291, 'heather': 2732, 'gumbo': 2602, 'suspenders': 5805, 'sarcastic': 5037, 'shaky': 5195, 'cutest': 1449, 'amused': 258, 'civil': 1135, 'doing': 1695, 'duffed': 1796, 'worse': 6674, 'plenty': 4449, 'the_rich_texan:': 5974, 'was': 6440, 'violations': 6373, 'bret': 772, 'wildfever': 6584, 'si-lent': 5276, 'fuss': 2377, 'indicates': 2993, \"i'm\": 2931, 'anymore': 299, \"beggin'\": 566, 'heartless': 2729, 'kermit': 3226, 'toss': 6117, 'close': 1166, 'quero': 4679, 'disturbance': 1676, 'horrible': 2864, \"thinkin'\": 6003, 'runners': 4979, 'something': 5485, 'wade_boggs:': 6399, 'chick': 1074, \"barney's\": 489, 'breath': 768, 'lofty': 3495, 'weak': 6476, \"school's\": 5077, 'dizer': 1683, 'lowering': 3551, 'double': 1726, 'sub-monkeys': 5742, 'jigger': 3151, 'sobo': 5456, 'fdic': 2109, 'madonna': 3589, 'washer': 6443, 'thank': 5962, 'dames': 1466, 'legally': 3376, 'happier': 2670, 'virile': 6375, 'feminist': 2133, 'uncomfortable': 6266, 'burt_reynolds:': 858, 'wins': 6608, 'keeps': 3215, 'point': 4465, 'neighboreeno': 3990, 'f': 2047, 'rainbows': 4716, 'confession': 1273, 'h': 2618, 'visas': 6378, 'grimly': 2565, 'barney_gumble:': 493, \"collector's\": 1208, 'maitre': 3603, 'murdoch': 3915, 'l': 3303, 'colossal': 1215, 'pantsless': 4259, 'sequel': 5164, 'heh-heh': 2742, 'extinguishers': 2033, 'sympathetic': 5839, 'maggie': 3592, 'sings': 5317, 'death': 1516, 'convinced': 1311, 'domestic': 1703, 'consider': 1285, 'build': 827, 'ticks': 6053, 'potatoes': 4512, 'family': 2075, 'glove': 2488, 'pro': 4585, 'cab_driver:': 893, 'red': 4787, 'excited': 2002, 'cage': 896, 'dame': 1465, 'carlson': 958, 'half': 2633, 'fledgling': 2220, 'may': 3677, 'mural': 3912, 'full': 2357, 'short_man:': 5241, 'stats': 5637, 'accepting': 99, 'knife': 3274, 'ask': 360, 'beach': 522, 'i-i': 2935, 'underpants': 6272, 'shareholder': 5202, 'brewed': 774, 'walked': 6411, 'weary': 6483, 'law': 3349, 'focused': 2243, 'super-tough': 5778, 'pharmaceutical': 4360, 'country-fried': 1347, 'sooo': 5497, 'shirt': 5227, 'ignorant': 2954, 'chuck': 1113, 'affection': 151, 'forget-me-drinks': 2276, 'brave': 758, 'books': 701, 'predictable': 4533, 'james': 3119, 'menace': 3724, 'tapping': 5883, 'twin': 6233, 'bird': 625, \"getting'\": 2448, 'cauliflower': 985, 'adventure': 143, 'outstanding': 4211, 'themselves': 5981, 'low': 3548, 'anyhoo': 297, \"bringin'\": 786, 'artie_ziff:': 353, 'mole': 3835, 'tanked-up': 5876, 'though:': 6023, 'illegal': 2957, '/mr': 26, 'can': 918, 'portfolium': 4503, 'furry': 2374, 'murmur': 3916, 'doy': 1731, 'dance': 1473, 'reminded': 4830, 'prayer': 4526, 'hugh': 2901, 'ivy-covered': 3102, 'suddenly': 5754, 'heliotrope': 2746, 'toasting': 6077, 'confident': 1275, 'dirt': 1640, 'mister': 3799, 'service': 5171, 'indifference': 2994, 'trucks': 6189, 'j': 3103, 'solves': 5473, 'cola': 1204, 'timbuk-tee': 6061, 'streetlights': 5716, 'ron': 4935, 'drinking': 1761, 'cell-ee': 999, 'suits': 5766, 'baseball': 506, 'increasingly': 2985, 'normals': 4064, 'mexicans': 3738, 'sincere': 5306, 'butter': 872, 'driveability': 1765, 'expert': 2022, 'wacky': 6397, 'spine': 5547, 'contractors': 1305, 'perhaps': 4342, 'whoa': 6558, 'droning': 1772, 'hangs': 2662, 'occasional': 4109, 'dull': 1801, 'toy': 6135, 'bachelorette': 434, 'sunk': 5773, 'conditioner': 1268, 'luckily': 3560, 'doof': 1717, 'slipped': 5377, 'boys': 742, 'philosophical': 4365, 'ninety-eight': 4034, 'putting': 4665, 'all-american': 217, 'spending': 5540, 'peanut': 4318, 'bothered': 715, 'black': 635, 'releases': 4814, 'america': 250, 'pall': 4250, 'grain': 2532, 'uhhhh': 6253, 'itself': 3098, 'airport': 196, 'necklace': 3979, 'renew': 4839, 'hits': 2803, 'fish': 2190, 'unsafe': 6303, 'manfred': 3635, 'flashbacks': 2213, 'stood': 5689, 'cecil': 991, 'electronic': 1892, 'needy': 3986, 'quimbys:': 4688, 'written': 6698, 'triumphantly': 6177, 'ridiculous': 4894, 'rotten': 4947, 'compliments': 1255, 'comforting': 1227, 'chinese': 1087, 'atlanta': 382, \"i'unno\": 2933, 'hit': 2800, 'designated': 1581, 'yes': 6737, 'steampunk': 5653, 'depression': 1575, 'hmmmm': 2809, 'bart': 496, 'prejudice': 4536, 'certain': 1006, 'boozehound': 706, \"they'd\": 5993, \"valentine's\": 6336, 'fool': 2259, 'south': 5513, 'twenty': 6225, 'prettiest': 4562, 'slaves': 5363, 'open': 4174, \"what're\": 6518, 'watching': 6454, 'worked': 6662, 'heavens': 2736, 'scientists': 5081, 'considers': 1288, 'telling': 5924, 'nooo': 4056, \"startin'\": 5624, 'bank': 466, 'uses': 6326, 'togetherness': 6085, 'unable': 6259, 'traffic': 6141, 'racially-diverse': 4697, 'stores': 5699, 'few': 2140, 'outs': 4209, 'square': 5582, 'whispers': 6548, 'hop': 2856, 'plastic': 4431, 'terrified': 5944, 'rookie': 4939, 'unrelated': 6302, \"duff's\": 1794, 'prince': 4573, 'coming': 1231, 'poker': 4476, 'mozzarella': 3892, 'four-drink': 2301, 'urge': 6320, 'glasses': 2480, 'hanging': 2659, 'traditions': 6140, 'doreen:': 1724, 'playful': 4437, 'drinker': 1759, 'alcoholic': 204, 'irishman': 3075, 'jig': 3150, 'duty': 1815, 'ear': 1826, 'prepared': 4541, \"dyin'\": 1816, 'carnival': 961, 'koholic': 3291, 'flourish': 2230, 'muttering': 3932, 'news': 4011, 'troy_mcclure:': 6186, 'banquo': 471, 'wait': 6403, 'fast-food': 2090, 'background': 439, 'always': 240, 'guide': 2594, 'resigned': 4862, 'divorced': 1682, 'jeers': 3132, 'car': 939, 'relaxed': 4811, 'delicate': 1546, 'error': 1958, 'inspiring': 3033, 'geez': 2420, 'highest': 2785, 'cable': 894, 'gesture': 2441, 'guest': 2592, 'avec': 406, 'waste': 6447, 'boozy': 708, 'grampa_simpson:': 2538, 'corkscrew': 1320, 'boxers': 735, 'rug': 4965, 'spender': 5539, 'sprawl': 5572, 'boo': 695, 'spotting': 5570, 'clammy': 1137, 'popping': 4498, 'accidents': 102, 'make': 3606, 'impeach': 2966, 'guinea': 2597, 'eyeballs': 2042, 'developed': 1595, 'hygienically': 2925, 'train': 6144, 'tradition': 6139, 'did': 1607, 'wa': 6396, 'coins': 1203, 'wistful': 6621, 'homie': 2841, 'securities': 5123, 'dank': 1479, 'treats': 6161, 'liar': 3406, 'crowbar': 1411, 'panicky': 4255, 'drawn': 1745, 'juan': 3176, \"usin'\": 6327, 'tenuous': 5937, 'buttocks': 874, 'byrne': 887, 'jolly': 3172, 'memory': 3720, 'kearney_zzyzwicz:': 3212, 'looked': 3508, 'tv_announcer:': 6216, 'gentles': 2432, '/': 25, 'contemplated': 1295, 'stretches': 5718, 'burt': 857, 'enjoys': 1938, 'knew': 3273, \"readin'\": 4756, 'stuck': 5730, 'people': 4327, 'deliberately': 1545, 'fry': 2353, 'compressions': 1258, 'nor': 4061, 'must': 3928, 'rascals': 4734, 'fights': 2153, 'basement': 508, 'lucius': 3556, 'come': 1221, 'feed': 2114, 'plan': 4419, \"'pu\": 16, 'fella': 2125, 'years': 6726, 'go-near-': 2495, \"'n'\": 14, 'cocks': 1193, 'mellow': 3717, 'moe-clone': 3826, 'writer:': 6694, 'candidate': 922, 'dungeon': 1811, 'heaven': 2735, 'made': 3586, 'chug-a-lug': 1118, 'other': 4194, 'madman': 3588, 'bumblebee_man:': 836, 'easily': 1835, 'jeter': 3146, 'amount': 257, 'screw': 5096, 'touchdown': 6122, 'sustain': 5808, 'jobless': 3155, 'consciousness': 1284, 'medicine': 3710, 'jack': 3104, 'curds': 1436, 'going': 2501, 'charged': 1036, 'steely-eyed': 5655, 'metal': 3733, 'capitalists': 933, 'happily:': 2672, 'knowing': 3283, 'contented': 1299, 'canoodling': 927, 'wars': 6439, \"dad's\": 1459, 'korea': 3295, 'poem': 4460, 'bartending': 503, 'ends': 1924, 'puts': 4663, 'shelbyville': 5217, 'resist': 4863, 'ditched': 1678, 'barney-type': 492, 'dae': 1462, 'awkward': 419, 'fruit': 2351, 'shrugging': 5267, 'mccarthy': 3686, 'slender': 5370, 'tasty': 5889, 'splattered': 5557, 'troy:': 6185, \"fans'll\": 2083, 'specialists': 5527, 'bowl': 727, 'homer_doubles:': 2837, 'exciting': 2004, 'plus': 4456, 'english': 1932, 'kim_basinger:': 3250, 'poke': 4475, 'customers': 1445, 'remembers': 4829, 'obvious': 4107, 'felt': 2129, 'continuing': 1302, 'working': 6665, 'blinds': 653, 'reader': 4755, \"who'll\": 6555, 'hates': 2697, 'assert': 369, 'its': 3097, 'set': 5173, 'attend': 387, 'loser': 3519, 'entering': 1942, 'heavyset': 2738, 'inherent': 3014, 'hotline': 2879, 'modest': 3821, 'arguing': 336, 'f-l-a-n-r-d-s': 2048, 'team': 5902, 'gordon': 2516, 'hell': 2747, 'bite': 630, 'pull': 4640, 'presto:': 4555, 'ahhh': 187, 'kenny': 3221, 'mission': 3796, 'rotch': 4946, 'ninth': 4038, 'wanna': 6424, 'viva': 6379, 'astrid': 376, 'drapes': 1740, 'last': 3338, 'trick': 6172, 'activity': 116, 'kidney': 3239, 'pride': 4569, 'moon-bounce': 3855, 'record': 4781, 'sheets': 5216, 'renee:': 4838, 'having': 2702, \"kearney's_dad:\": 3211, 'carny:': 962, 'martini': 3658, 'anti-intellectualism': 292, 'th': 5958, 'around': 345, 'aww': 421, 'towed': 6131, 'serious': 5166, 'woodchucks': 6652, 'jukebox_record:': 3186, 'appreciated': 321, 'microphone': 3748, 'salad': 5016, 'shame': 5197, 'cab': 892, 'sesame': 5172, 'anti-lock': 293, 'keep': 3213, 'they': 5992, 'frogs': 2345, 'upsetting': 6317, \"floatin'\": 2226, 'myself': 3935, 'spent': 5541, \"tomorrow's\": 6098, 'impending': 2967, 'lugs': 3562, 'monday': 3841, 'aggravated': 173, 'without': 6624, 'invented': 3061, 'captain': 936, \"pope's\": 4495, 'place': 4414, 'wrapped': 6687, 'freshened': 2328, 'pretend': 4557, 'hottest': 2880, 'suppose': 5790, 'uh-huh': 6251, 'matter': 3672, 'away': 413, 'alright': 234, 'daughter': 1494, 'overturned': 4218, 'boxing': 736, 'intruding': 3060, 'shakespeare': 5193, 'telephone': 5920, 'attempting': 386, 'regret': 4802, 'law-abiding': 3350, 'right-handed': 4901, 'wipe': 6610, 'ones': 4160, 'woo-hoo': 6650, 'should': 5246, 'michael_stipe:': 3743, 'fiiiiile': 2157, 'design': 1580, 'disturbing': 1677, 'smelling': 5398, 'legoland': 3378, 'through': 6041, 'from': 2346, 'beligerent': 580, 'hmmm': 2808, 'ventriloquism': 6351, 'midge:': 3754, 'jukebox': 3185, 'roomy': 4941, 'afternoon': 161, 'phase': 4361, 'rat-like': 4739, 'cops': 1318, 'character': 1033, 'giant': 2454, 'expose': 2028, 'meaning': 3696, 'face-macer': 2051, 'access': 100, ':': 51, 'signal': 5294, 'awake': 411, 'puke-pail': 4638, 'located': 3490, 'penny': 4326, 'neil_gaiman:': 3993, 'walks': 6413, 'puke-holes': 4637, 'hispanic_crowd:': 2798, 'already': 233, 'guess': 2590, 'dials': 1600, 'bid': 608, 'sam:': 5023, 'ram': 4728, 'replace': 4850, 'knuckle-dragging': 3288, 'mmmmm': 3810, 'coms': 1262, 'instantly': 3035, 'morning': 3863, 'coupon': 1351, 'yelling': 6730, 'oughtta': 4202, 'upon': 6315, 'bush': 861, 'gary:': 2406, 'chill': 1084, 'anxious': 294, \"smokin'\": 5411, 'plain': 4417, 'stationery': 5635, 'literary': 3466, 'detective': 1591, 'arm': 341, 'commit': 1235, 'fire': 2180, 'mmm-hmm': 3808, 'chipper': 1092, 'life': 3414, 'experiments': 2021, 'slapped': 5361, 'jelly': 3136, 'cards': 944, \"someone's\": 5480, 'whatever': 6525, 'deeper': 1531, 'toxins': 6134, 'pulling': 4643, 'ointment': 4142, '__quotation_mark__': 58, 'strain': 5705, 'stomach': 5686, 'four': 2300, 'thought': 6024, 'shove': 5253, 'mason': 3663, \"boy's\": 739, 'amid': 255, 'democracy': 1558, 'fears': 2110, 'ivanna': 3100, 'beers': 560, 'cases': 969, \"somethin'\": 5482, 'heading': 2715, 'a-lug': 76, 'wishful': 6619, 'thirty-three': 6013, 'squad': 5580, 'loboto-moth': 3485, 'selling': 5146, 'eaten': 1842, 'wise': 6615, 'wage': 6400, 'illegally': 2958, 'loss': 3522, 'tropical': 6181, 'yuh-huh': 6767, 'focus': 2242, 'official': 4130, 'correction': 1329, 'mindless': 3773, 'light': 3427, 'handle': 2648, 'voice': 6381, 'outrageous': 4208, 'headhunters': 2714, 'magic': 3594, 'two': 6235, 'stiffening': 5670, 'full-bodied': 2359, 'bide': 609, \"she's\": 5212, 'chug-monkeys': 1119, 'explanation': 2026, 'hellhole': 2749, 'excuse': 2006, 'billingsley': 619, 'negative': 3987, 'mouths': 3884, 'ugliest': 6247, 'simplest': 5301, 'shock': 5228, \"brady's\": 744, 'destroyed': 1588, 'bubbles-in-my-nose-y': 815, 'cosmetics': 1330, 'chips': 1093, 'leans': 3358, \"hawkin'\": 2705, 'terrifying': 5945, 'ayyy': 424, 'acquaintance': 109, 'writers': 6695, 'fail': 2060, 'catty': 983, 'dive': 1679, 'goods': 2514, 'carmichael': 959, 'defiantly': 1537, 'kirk_van_houten:': 3259, 'flexible': 2223, 'maxed': 3675, 'cut': 1447, 'blues': 673, 'lewis': 3403, 'pub': 4627, 'frankenstein': 2309, 'losing': 3521, 'bottles': 717, 'healthier': 2720, 'geyser': 2450, 'avalanche': 405, 'homers': 2839, 'friends': 2336, \"year's\": 6725, 'sold': 5468, 'missing': 3795, 'ass': 366, 'pile': 4391, 'temper': 5927, 'spite': 5553, \"everyone's\": 1983, 'buddy': 820, 'alfred': 209, \"i've\": 2934, 'wonderful': 6646, 'sky': 5357, \"scammin'\": 5061, 'vote': 6388, 'revenge': 4878, 'anniversary': 278, 'spooky': 5564, 'snorts': 5440, 'jerky': 3142, \"raggin'\": 4709, 'bugging': 825, 'frankie': 2310, 'ever': 1977, 'groan': 2569, 'judge': 3179, 'miracle': 3785, 'other_book_club_member:': 4196, 'finally': 2167, 'skinheads': 5350, 'railroad': 4713, '_zander:': 72, 'else': 1901, 'bullet-proof': 832, 'food': 2257, 'massive': 3666, 'gimme': 2463, 'lease': 3362, 'body': 681, 'heartily': 2728, 'highball': 2783, 'burning': 851, \"children's\": 1082, 'naturally': 3964, 'muscles': 3920, 'john': 3162, 'doll': 1696, 'allegiance': 220, \"cupid's\": 1435, 'arms': 343, 'happy': 2674, 'mystery': 3936, 'all': 215, 'explaining': 2025, 'aquafresh': 328, 'boxer': 733, 'forever': 2274, 'barely': 480, 'fatso': 2099, \"should've\": 5247, 'plants': 4428, 'logos': 3497, 'improved': 2973, '_montgomery_burns:': 69, 'lifestyle': 3421, \"'tis\": 21, 'nine': 4032, 'poin-dexterous': 4464, 'sistine': 5328, 'goodbye': 2512, 'scores': 5085, 'malabar': 3611, 'the_edge:': 5973, 'then': 5982, 'schorr': 5078, 'till': 6060, 'dramatic': 1737, 'priest': 4571, 'scanning': 5062, 'oooh': 4170, 'pageant': 4236, 'sour': 5511, 'hurts': 2919, 'iran': 3071, 'excuses': 2007, 'homeless': 2831, 'partially': 4276, 'eve': 1972, 'fiction': 2142, 'environment': 1952, 'great': 2552, 'gorgeous': 2518, 'compliment': 1254, 'truth': 6195, 'shaggy': 5189, 'touch': 6121, 'coward': 1363, 'deserve': 1579, 'voice:': 6382, 'badmouth': 448, 'calculate': 901, 'barbed': 478, 'tense': 5935, 'two-thirds-empty': 6237, 'kinds': 3255, 'reptile': 4857, \"son's\": 5492, 'capitol': 934, 'text': 5957, 'sickens': 5279, 'nelson_muntz:': 3997, 'asking': 363, \"rasputin's\": 4737, 'savagely': 5049, 'milks': 3767, 'occurs': 4115, 'con': 1263, 'saw': 5055, 'andalay': 267, 'asked': 361, \"starla's\": 5617, \"puttin'\": 4664, 'driving': 1770, 'rusty': 4986, 'mmm': 3807, 'harvard': 2687, 'tickets': 6052, 'tapered': 5881, 'devils:': 1597, 'oblivious': 4104, 'ecru': 1850, 'riding': 4896, \"s'pose\": 4992, 'yep': 6736, 'insurance': 3041, 'joined': 3166, 's-a-u-r-c-e': 4993, 'burglary': 847, 'hyahh': 2923, 'pause': 4305, \"c'mere\": 889, 'cigars': 1129, 'arrange': 346, 'beer-jerks': 558, 'fourteen:': 2303, 'student': 5731, 'celebrate': 993, 'grey': 2559, 'carney': 960, 'ne': 3971, 'pay': 4307, \"gettin'\": 2446, 'padre': 4233, 'match': 3667, 'asleep': 365, 'button': 875, 'kick': 3229, 'question': 4680, \"wonderin'\": 6647, 'curious': 1439, 'wolverines': 6635, 'huddle': 2897, 'whenever': 6534, 'cologne': 1211, 'falsetto': 2073, 'tire': 6072, 'wall': 6414, 'fl': 2201, 'spacey': 5518, 'royal': 4955, 'throats': 6040, 'girls': 2472, 'pee': 4320, 'buy': 879, 'characteristic': 1034, 'yogurt': 6744, 'furniture': 2373, 'splash': 5556, 'saturday': 5045, 'rainforest': 4717, 'wakede': 6408, 'blend': 646, 'courts': 1357, 'jewelry': 3148, 'ehhh': 1872, 'windelle': 6595, 'i/you': 2939, 'vicious': 6361, 'boat': 678, 'locklear': 3493, 'hare-brained': 2681, 'man_with_crazy_beard:': 3626, 'column': 1216, 'junior': 3193, 'ungrateful': 6287, 'vulgar': 6392, 'sudoku': 5755, 'rabbits': 4694, 'horrified': 2865, 'sounds': 5508, 'cell': 998, 'arse': 350, 'organ': 4188, 'since': 5305, 'next': 4016, 'jubilation': 3178, 'fat': 2093, 'rem': 4822, 'hated': 2695, 'gloop': 2486, 'indecipherable': 2989, 'sell': 5145, 'ore': 4187, 'shall': 5196, 'puke': 4636, 'screams': 5095, 'moonlight': 3856, 'neanderthal': 3972, 'feels': 2120, 'strains': 5707, 'bars': 494, 'voodoo': 6387, 'hmf': 2806, 'owner': 4224, 'young_barfly:': 6754, 'principal': 4576, 'ferry': 2136, 'taxi': 5897, 'much': 3897, 'waters': 6459, 'grace': 2530, 'yello': 6731, 'dealt': 1512, 'sloppy': 5384, 'bed': 544, 'adult': 139, 'amnesia': 256, 'naked': 3946, 'mic': 3740, 'notorious': 4078, 'lotta': 3527, 'summer': 5768, 'rods': 4925, 'salvador': 5021, 'lady': 3312, 'knuckles': 3289, 'dressed': 1754, 'against': 163, 'employees': 1911, 'friend:': 2334, 'eyeing': 2044, \"toot's\": 6111, 'ratio': 4741, 'those': 6021, \"aristotle's\": 339, 'frightened': 2338, 'relax': 4810, 'look': 3504, 'r': 4693, 'different': 1617, 'available': 404, 'oils': 4141, 'frescas': 2325, \"tab's\": 5850, 'starlets': 5619, 'remain': 4823, \"family's\": 2076, \"playin'\": 4439, 'tapestry': 5882, 'cartoons': 966, 'furious': 2371, 'offended': 4124, 'buffalo': 822, 'exact': 1990, 'company': 1241, 'dry': 1785, 'billion': 620, 'effects': 1864, 'finale': 2166, 'file': 2158, 'eighty-three': 1884, 'cop': 1317, 'reporter': 4852, 'ocean': 4116, 'marshmallow': 3657, 'lobster': 3486, 'mines': 3775, 'believer': 579, 'return': 4875, \"you've\": 6751, 'y-you': 6712, 'go': 2494, 'investment': 3063, 'maintenance': 3602, 'mudflap': 3898, 'peeping': 4321, 'bulked': 829, 'awful': 417, 'their': 5978, 'little_hibbert_girl:': 3469, 'pitch': 4409, 'pfft': 4359, 'meanwhile': 3702, 'founded': 2298, 'white_rabbit:': 6552, 'continuum': 1303, 'attractive': 392, 'most': 3869, 'municipal': 3911, 'failure': 2062, 'whatchacallit': 6523, 'across': 112, 'soaking': 5450, 'synthesize': 5844, 'hour': 2882, 'deeply': 1532, 'relaxing': 4812, 'backgammon': 438, 'harv:': 2686, 'lindsay_naegle:': 3444, 'designer': 1582, 'incognito': 2983, 'widow': 6570, 'suspicious': 5806, 'admirer': 132, 'bushes': 862, 'busted': 868, 'legend': 3377, 'belts': 588, 'glitz': 2485, 'prettied': 4561, 'warren': 6438, 'clown': 1176, 'message': 3730, 'darkest': 1483, 'assassination': 367, 'botanical': 713, 'restless': 4869, 'cutting': 1451, 'cock': 1189, 'starting': 5625, 'glamour': 2478, 'seems': 5132, 'wedding': 6486, 'results': 4872, 'whisper': 6546, 'marge_simpson:': 3647, 'tie': 6055, 'slow': 5386, 'payday': 4309, 'blubberino': 671, 'plum': 4454, \"when's\": 6532, \"number's\": 4089, 'knock': 3277, 'radishes': 4703, 'dog': 1691, 'reaching': 4750, 'len-ny': 3383, 'amazing': 244, 'smallest': 5395, 'customer': 1444, 'unusually': 6308, 'mafia': 3590, 'directions': 1636, 'coin': 1200, 'gal': 2391, 'diaper': 1602, 'bathroom': 515, 'mayor_joe_quimby:': 3683, 'everything': 1984, 'say': 5056, 'freak': 2315, 'fresh': 2327, \"homer's_brain:\": 2835, \"santa's\": 5034, 'blame': 639, 'jackson': 3110, 'round': 4949, 'stayed': 5642, 'dollface': 1700, 'cajun': 898, 'engine': 1929, '530': 44, 'marguerite:': 3648, 'nobody': 4044, 'sue': 5757, 'festival': 2137, 'swamp': 5810, 'grenky': 2558, 'aisle': 197, 'ripping': 4911, \"fryer's\": 2354, 'yesterday': 6738, 'crunch': 1422, 'liver': 3473, 'wish-meat': 6617, 'blown': 669, 'couch': 1335, 'share': 5201, 'perfected': 4339, 'stingy': 5674, \"maggie's\": 3593, 'wiggle-frowns': 6578, 'agnes_skinner:': 178, 'handed': 2646, 'worst': 6675, 'field': 2144, 'beer:': 559, 'with': 6623, 'expired': 2023, 'cats': 981, \"men's\": 3722, 'had': 2623, 'promised': 4607, \"bladder's\": 637, 'plans': 4425, 'uncreeped-out': 6267, 'attack': 385, 'crossed': 1408, 'hotenhoffer': 2878, 'announcer:': 279, 'fausto': 2103, 'peanuts': 4319, 'positive': 4506, 'scornful': 5086, 'asses': 370, 'extra': 2034, 'palm': 4251, 'brassiest': 756, 'padres': 4234, 'fact': 2056, 'phasing': 4362, 'pointing': 4468, 'dizzy': 1684, 'painted': 4243, 'saga': 5008, 'gruff': 2584, 'fills': 2162, 'fat_in_the_hat:': 2095, \"how're\": 2891, 'disgusted': 1660, 'young_homer:': 6755, 'refill': 4793, 'program': 4601, 'giving': 2476, '__comma__': 52, 'neck': 3978, 'project': 4604, 'eyeball': 2041, 'insecure': 3022, 'complicated': 1253, \"ragin'\": 4710, 'later': 3341, 'bitter': 633, 'mechanical': 3707, 'coyly': 1368, 'change': 1023, \"'er\": 8, 'sideshow_mel:': 5287, 'pain': 4239, 'duffman': 1797, 'lawyer': 3352, 'then:': 5983, 'incredible': 2986, \"nothin's\": 4073, 'bar_rag:': 476, 'carl:': 954, 'channel': 1028, 'socratic': 5463, 'criminal': 1400, 'grains': 2533, 'je': 3130, 'important': 2968, 'crappy': 1380, 'six-barrel': 5338, 'tease': 5908, 'swallowed': 5809, 'laugh': 3344, 'slogan': 5382, 'tempting': 5931, 'offense': 4125, 'cuff': 1430, 'nicer': 4020, 'pep': 4329, 'pridesters:': 4570, \"gentleman's\": 2429, 'takeaway': 5860, 'spreads': 5574, 'winning': 6605, 'shooting': 5235, 'gabriel': 2387, 'scratcher': 5092, 'malibu': 3615, 'literature': 3467, 'african': 157, 'grunts': 2588, 'rip': 4906, 'prolonged': 4605, 'considering': 1286, 'popped': 4497, 'souvenir': 5515, 'buddha': 818, 'audience:': 397, 'walther_hotenhoffer:': 6420, 'getaway': 2443, 'kucinich': 3300, 'worldview': 6671, 'assent': 368, 'peach': 4316, 'drove': 1777, '100': 28, 'age': 164, 'nursemaid': 4093, 'anti-crime': 291, 'cash': 970, 'brockman': 793, 'fraud': 2313, 'sister': 5325, 'vengeance': 6348, 'barney-shaped_form:': 491, 'pig': 4388, 'thoughtfully': 6028, 'mouth': 3883, 'warm_female_voice:': 6431, \"clancy's\": 1139, 'boring': 709, 'manatee': 3632, 'tummies': 6203, 'script': 5098, 'thousand': 6031, 'comfortable': 1226, 'backbone': 437, \"weren't\": 6504, 'hitler': 2802, 'wash': 6441, 'baby': 432, 'quality': 4671, 'methinks': 3735, 'cries': 1397, 'bridge': 777, 'pope': 4494, 'mickey': 3745, 'wrecking': 6690, 'counter': 1342, 'cookies': 1313, 'refinanced': 4794, 'cheery': 1065, 'everyone': 1982, 'eyes': 2045, 'ze-ro': 6770, 'slick': 5372, 'cupid': 1434, 'strolled': 5725, 'online': 4163, 'gargoyles': 2405, 'famous': 2078, 'lee': 3370, 'manchego': 3634, 'sympathizer': 5840, 'letters': 3401, 'familiar': 2074, 'scene': 5068, 'also': 235, 'upn': 6314, \"coffee'll\": 1198, 'combination': 1218, 'please': 4444, 'gals': 2393, 'half-back': 2634, 'poison': 4472, 'moxie': 3891, 'planned': 4423, 'ground': 2574, 'booger': 696, 'likes': 3433, 'well-wisher': 6499, 'howya': 2894, 'carb': 942, 'voyager': 6391, 'problem': 4587, 'turning': 6210, 'connection': 1281, 'disgrace': 1655, 'spanish': 5521, 'violin': 6374, 'lucinda': 3555, 'dory': 1725, 'wildest': 6583, 'damage': 1464, 'attached': 384, 'ruled': 4971, 'pre-game': 4529, \"jackpot's\": 3107, 'brandy': 754, \"mopin'\": 3860, 'perplexed': 4348, 'late': 3339, 'heavyweight': 2739, 'goodnight': 2513, 'flew': 2222, 'sotto': 5502, 'boggs': 682, 'lists': 3465, 'yourself': 6762, 'nickels': 4024, 'raise': 4721, 'paintings': 4245, 'impress': 2970, 'pirate': 4406, 'enemy': 1926, 'peabody': 4314, 'senators:': 5155, 'stolen': 5685, 'tragedy': 6142, 'six': 5337, 'sacajawea': 4995, 'reluctantly': 4821, 'female_inspector:': 2130, 'slurps': 5388, 'granted': 2545, 'including': 2982, 'aer': 147, 'tow': 6127, 'tester': 5952, 'haircuts': 2630, 'sure': 5793, 'application': 317, 'wizard': 6628, \"man'd\": 3621, 'oooo': 4171, 'arrived': 349, 'etc': 1965, 'jack_larson:': 3105, 'painless': 4241, 'wine': 6600, '_julius_hibbert:': 66, 'holiday': 2823, 'sweetie': 5823, 'charter': 1043, 'birthday': 627, 'aunt': 399, 'woozy': 6656, 'bought': 721, 'crestfallen': 1394, 'meditative': 3712, 'fad': 2058, 'richard': 4888, 'let': 3398, 'chapstick': 1031, 'mona_simpson:': 3840, 'haiti': 2632, 'bob': 679, 'mop': 3859, 'cigarette': 1127, 'wordloaf': 6658, 'rewound': 4881, 'unattractive': 6261, 'generally': 2423, 'proper': 4613, 'bring': 785, \"bashir's\": 511, 'mom': 3836, 'tv_father:': 6218, 'reads': 4759, \"can't-believe-how-bald-he-is\": 920, 'owe': 4220, 'bust': 867, 'up': 6309, 'na': 3937, 'sugar-free': 5761, 'horrors': 2867, 'blank': 641, 'jimmy': 3153, 'pool': 4490, 'packets': 4231, 'gil_gunderson:': 2462, 'gifts': 2458, 'bellyaching': 584, 'isotopes': 3085, 'augustus': 398, 'chance': 1022, 'host': 2871, 'shoot': 5233, 'born': 710, 'winch': 6592, 'oww': 4226, 'anyone': 300, 'than': 5961, 'protesting': 4620, 'count': 1341, 'kill': 3243, 'pews': 4358, 'diapers': 1603, 'sassy': 5039, 'wishing': 6620, 'side:': 5282, 'equal': 1954, 'fifty': 2148, 'training': 6146, 'superhero': 5780, 'health_inspector:': 2719, 'admit': 134, 'monkeyshines': 3845, 'eurotrash': 1969, 'squirrels': 5590, 'sense': 5158, 'hiding': 2779, 'treasure': 6158, 'canyoner-oooo': 929, 'ye': 6721, 'funny': 2370, 'clear': 1150, 'resenting': 4859, 'stop': 5693, 'wearing': 6481, 'lily-pond': 3434, 'inflated': 3005, 'haw': 2703, 'abusive': 93, 'numeral': 4091, 'luv': 3571, 'breathless': 770, 'teenage_bart:': 5915, 'milhouse_van_houten:': 3762, 'uneasy': 6280, 'bums': 841, 'catch-phrase': 978, 'babar': 429, 'libraries': 3410, 'cat': 975, 'sack': 4996, 'clock': 1164, 'nahasapeemapetilon': 3942, 'as': 356, 'when': 6531, 'authorized': 402, \"stinkin'\": 5676, 'spare': 5522, 'chief': 1077, 'enabling': 1915, 'richard:': 4889, 'joey_kramer:': 3160, 'demo': 1557, 'privacy': 4581, 'david_byrne:': 1497, 'gunk': 2605, 'cleaned': 1146, 'derek': 1577, 'crushed': 1423, \"fightin'\": 2151, 'bartholomã©:': 505, 'guys': 2616, 'schmoe': 5074, 'cheerier': 1060, 'advertising': 145, 'beloved': 586, 'fit': 2195, 'all-star': 218, 'bumbling': 837, \"soakin's\": 5449, 'corporation': 1325, 'placed': 4415, 'realizing': 4765, \"idea's\": 2945, 'checking': 1056, 'knees': 3272, 'white': 6551, 'mind': 3771, 'eye': 2039, 'mac-who': 3579, 'keeping': 3214, 'sight-unseen': 5292, 'gotta': 2523, 'ago': 179, 'lainie:': 3318, 'wang': 6422, 'malfeasance': 3614, 'occurred': 4113, 'hours': 2884, 'afloat': 154, \"murphy's\": 3918, 'composer': 1256, 'loves': 3547, 'macaulay': 3580, 'recap:': 4773, 'honored': 2847, 'neighborhood': 3991, 'harmony': 2683, 'george': 2435, 'polishing': 4481, 'elephants': 1893, 'sen': 5152, 'phrase': 4373, 'mall': 3616, 'awed': 415, 'extreme': 2036, 'enhance': 1934, 'monkey': 3844, 'generously': 2426, 'faiths': 2067, 'days': 1500, 'wow': 6684, 'launch': 3348, 'jer': 3137, 'americans': 253, 'dirty': 1641, 'guessing': 2591, 'yourse': 6761, 'represent': 4854, 'gary_chalmers:': 2407, \"'em\": 7, 'surprise': 5796, 'party': 4280, \"moe's_thoughts:\": 3825, 'kidding': 3237, 're-al': 4745, 'is:': 3081, 'housework': 2887, 'paper': 4262, 'asks': 364, 'squashing': 5583, 'schemes': 5072, 'so': 5445, 'duffman:': 1798, 'goes': 2499, 'combine': 1219, 'lobster-politans': 3488, 'trees': 6166, 'hockey-fight': 2817, 'fox': 2305, 'string': 5720, 'embarrassing': 1905, 'nonsense': 4055, 'sleep': 5366, 'charlie:': 1040, 'enemies': 1925, 'snake_jailbird:': 5423, 'attraction': 391, 'refreshment': 4799, 'morose': 3866, 'startup': 5628, 'conclusions': 1267, 'none': 4054, 'yak': 6715, 'paying': 4311, 'trying': 6198, 'naively': 3945, 'orifice': 4190, 'all-all-all': 216, 'raising': 4723, 'earrings': 1830, 'sidelines': 5284, 'coy': 1367, 'mis-statement': 3788, 'unfamiliar': 6283, 'aging': 177, 'threw': 6037, 'treehouse': 6165, 'belly-aching': 583, 'andrew': 269, 'clown-like': 1177, 'apology': 307, 'occurrence': 4114, 'hospital': 2870, 'leonard': 3393, 'volunteer': 6385, 'intoxicated': 3056, 'lungs': 3565, 'golf': 2506, 'realize': 4763, 'dinks': 1631, 'choose': 1103, 'sir': 5323, 'railroads': 4714, 'marvelous': 3659, 'two-drink': 6236, 'aggie': 172, 'here': 2763, \"man's\": 3622, 'remaining': 4824, 'whistling': 6550, 'pawed': 4306, 'fist': 2193, 'poetry': 4463, \"'topes\": 22, 'beer-dorf': 557, 'colonel:': 1212, 'secrets': 5121, \"tester's\": 5953, 'addiction': 123, 'cerebral': 1004, 'free': 2318, 'deadly': 1507, 'twelveball': 6223, 'yea': 6722, 'mcclure': 3687, 'herself': 2770, 'floor': 2228, 'pursue': 4654, 'carlotta:': 957, 'afraid': 155, 'date': 1490, 'enjoyed': 1936, \"edna's\": 1858, \"g'night\": 2384, 'wowww': 6685, 'sturdy': 5740, 'half-day': 2636, '_powers:': 70, 'bubble': 813, 'cute': 1448, 'trouble': 6182, 'transfer': 6150, 'punishment': 4649, 'high': 2780, 'lowers': 3552, 'delightful': 1550, 'optimistic': 4180, 'bus': 860, 'yawns': 6720, \"homer's\": 2834, 'dawning': 1498, 'thunder': 6049, 'nectar': 3980, 'taunting': 5893, 'knocks': 3281, 'force': 2269, 'batmobile': 517, 'judges': 3181, 'fork': 2283, 'gin-slingers': 2467, 'right': 4900, 'average': 408, 'disposal': 1668, 'fifteen': 2146, 'rockers': 4923, 'pad': 4232, 'muffled': 3900, 'single': 5315, 'chinua': 1089, 'amber_dempsey:': 246, 'tactful': 5856, 'wayne:': 6467, 'menacing': 3725, 'szyslak': 5847, 'domed': 1702, 'ling': 3446, 'sensible': 5159, 'counting': 1345, \"spyin'\": 5578, 'nervously': 4003, 'chief_wiggum:': 1078, 'per': 4335, 'bar:': 475, 'write': 6693, 'onassis': 4155, 'runaway': 4978, \"costume's\": 1333, 'reaction': 4751, 'snow': 5444, 'hall': 2638, 'patrons:': 4299, 'lost': 3523, 'wheel': 6529, 'joe': 3158, 'knows': 3287, 'form': 2284, 'pine': 4399, 'generous': 2425, 'prizefighters': 4584, 'appalled': 309, 'ow': 4219, 'curse': 1440, 'x': 6704, 'championship': 1020, 'tune': 6205, 'samples': 5026, 'shop': 5237, 'however': 2893, 'fink': 2179, 'bar': 472, 'favor': 2104, 'relative': 4809, 'poplar': 4496, 'guns': 2606, 'archaeologist': 331, 'play': 4433, 'recruiter': 4785, 'raging': 4711, 'estranged': 1964, 'hero': 2766, 'poisoning': 4474, 'sieben-gruben': 5288, 'moe_szyslak:': 3833, 'cannoli': 925, 'lucky': 3561, 'duh': 1799, 'tree': 6162, 'sudden': 5753, 'dude': 1789, 'grunt': 2587, 'agent': 168, 'delicious': 1548, 'dumbbell': 1806, 'ordered': 4185, 'male_singers:': 3613, 'when-i-get-a-hold-of-you': 6533, 'hopeful': 2859, 'purse': 4653, 'updated': 6312, 'linda_ronstadt:': 3442, 'gamble': 2394, 'donation': 1710, 'suit': 5765, 'atari': 380, 'drinks': 1763, 'smile': 5401, 'blur': 675, \"that'll\": 5969, 'ads': 138, \"larry's\": 3334, 'carl': 952, 'blurbs': 676, 'absentminded': 88, \"money's\": 3843, 'frontrunner': 2348, 'clench': 1154, 'other_player:': 4197, 'listened': 3461, 'taxes': 5896, 'thirsty': 6007, 'oh-so-sophisticated': 4136, 'slugger': 5387, 'lighter': 3429, 'competing': 1246, 'shores': 5239, 'be-stainã¨d': 521, 'pays': 4313, 'chipped': 1091, 'horses': 2868, 'glorious': 2487, 'jumping': 3190, 'eminence': 1907, 'owned': 4223, 'mailbox': 3601, 'lend': 3384, 'forbidden': 2267, 'marge': 3645, 'boxcar': 731, 'shoulders': 5250, 'slim': 5375, 'wish': 6616, 'princesses': 4575, 'a': 73, 'being': 574, 'bar-boy': 474, 'heard': 2722, 'gees': 2419, 'swill': 5829, 'newsweek': 4015, 'what-for': 6521, '_marvin_monroe:': 68, 'beyond': 606, 'sinkhole': 5320, 'terrorizing': 5948, 'decide': 1521, 'snitch': 5438, 'allow': 222, 'kings': 3257, 'ooo': 4169, 'golden': 2505, 'pinchpenny': 4398, 'whoever': 6560, 'displeased': 1667, \"stealin'\": 5648, 'moved': 3886, 'pantry': 4257, 'hot-rod': 2876, 'killer': 3246, 'more': 3861, 'punk': 4650, 'waylon': 6464, 'doreen': 1723, 'together': 6084, 'sternly': 5662, 'sticker': 5666, 'nonchalant': 4052, 'aside': 359, 'night': 4028, 'tornado': 6116, 'normal': 4063, 'example': 1993, 'children': 1081, 'refresh': 4796, 'relieved': 4817, 'cooking': 1314, \"they'll\": 5994, 'ancient': 262, 'rev': 4877, 'nuclear': 4084, 'chumbawamba': 1121, 'duff': 1793, 'crew': 1395, 'gang': 2400, 'rosey': 4945, 'whoops': 6565, 'broad': 790, 'ale': 206, \"cat's\": 976, 'sober': 5455, 'slyly': 5391, 'paparazzo': 4261, 'crumble': 1420, 'poster': 4510, 'videotaped': 6366, 'lou:': 3530, 'ironic': 3077, 'aged': 165, 'successful': 5746, 'nose': 4068, 'evening': 1974, 'handwriting': 2655, 'yoo': 6746, 'sentimonies': 5162, 'brothers': 805, 'blue': 672, 'moans': 3813, '-ry': 24, 'wooden': 6653, 'alley': 221, 'funds': 2367, 'ideas': 2948, 'sadder': 5000, 'whistles': 6549, 'learned': 3361, 'al_gore:': 199, 'good-looking': 2511, \"'ere\": 9, 'shyly': 5275, 'sedaris': 5124, 'small_boy:': 5394, 'babies': 431, 'conditioners': 1269, 'knowingly': 3284, 'tale': 5865, 'dollars': 1699, 'careful': 947, 'minimum': 3778, 'grants': 2546, 'tavern': 5894, 'coincidentally': 1201, 'skinner': 5351, 'selective': 5138, 'non-american': 4050, 'chinese_restaurateur:': 1088, 'ziffcorp': 6774, 'winston': 6609, 'las': 3337, 'yoink': 6745, 'extremely': 2037, 'stretch': 5717, 'refiero': 4792, 'swelling': 5826, 'dump': 1808, 'arts': 355, 'looking': 3510, 'trench': 6168, 'smithers': 5406, 'duff_announcer:': 1795, 'suspended': 5804, 'michael': 3742, 'drivers': 1767, 'least': 3363, 'treat': 6159, 'closes': 1169, 'men:': 3723, 'gosh': 2519, 'intriguing': 3058, 'discussing': 1653, 'wok': 6632, 'snout': 5443, 'off': 4122, 'commanding': 1232, 'brick': 775, 'really': 4766, 'thanks': 5965, 'examines': 1992, 'pockets': 4459, 'dishonor': 1661, 'washed': 6442, \"speakin'\": 5524, 'lenses': 3392, 'app': 308, 'agent_johnson:': 169, 'under': 6269, 'ball': 456, 'barbara': 477, 'quotes': 4692, 'rhyme': 4884, 'flophouse': 2229, 'fritz': 2342, 'taught': 5892, 'powerful': 4520, 'chauffeur': 1047, 'startled': 5626, 'aims': 193, 'private': 4582, 'feeling': 2118, 'raining': 4720, \"what'd\": 6516, 'purveyor': 4655, \"wearin'\": 6480, 'confused': 1278, 'obsessive-compulsive': 4106, 'local': 3489, 'ceremony': 1005, 'longer': 3502, 'jam': 3117, 'bear': 528, 'mariah': 3649, \"he'll\": 2710, 'wings': 6602, 'passion': 4286, 'seat': 5112, 'flatly': 2216, \"we're\": 6473, 'santeria': 5035, \"didn't\": 1609, 'zinged': 6775, 'desire': 1583, 'hundreds': 2909, 'popular': 4499, 'defeated': 1534, 'restaurant': 4867, 'bull': 830, 'first': 2189, 'jackpot-thief': 3108, 'bartender': 500, 'bannister': 469, 'shoo': 5232, 'lights': 3431, 'favorite': 2105, \"listenin'\": 3462, 'seething': 5136, 'burp': 854, 'pigtown': 4390, 'radiation': 4698, 'flailing': 2204, 'mr': 3893, 'exchange': 2000, 'probably': 4586, 'single-mindedness': 5316, \"i'd\": 2928, 'this:': 6016, 'appropriate': 322, 'othello': 4193, 'sing-song': 5309, 'fondest': 2253, 'mumbling': 3910, 'grand': 2539, 'superpower': 5784, 'admiration': 131, 'broadway': 791, 'glummy': 2491, 'isle': 3083, 'cousin': 1358, 'bottle': 716, 'bill_james:': 616, 'lifetime': 3422, 'fonda': 2252, 'musses': 3927, 'w-a-3-q-i-zed': 6395, 'feisty': 2122, 'squeeze': 5586, 'quimby_#2:': 4687, 'said:': 5013, 'slit': 5378, 'today': 6079, 'chapel': 1030, 'brother-in-law': 803, 'jockey': 3157, 'girl-bart': 2470, 'trapped': 6153, 'musical': 3924, 'psst': 4626, 'frazier': 2314, 'supervising': 5785, 'cloudy': 1175, 'safely': 5005, 'homeland': 2830, 'spitting': 5555, 'tips': 6070, 'tuborg': 6202, 'scum-sucking': 5105, 'oh-ho': 4135, 'celeste': 997, \"mtv's\": 3896, \"friend's\": 2333, 'rupert_murdoch:': 4983, 'frog': 2344, 'habitrail': 2622, 'become': 543, 'angrily': 273, 'sucked': 5749, 'canyonero': 930, 'school': 5076, 'lise:': 3457, 'shaved': 5208, 'wigs': 6580, \"industry's\": 2999, 'geysir': 2451, 'bono:': 694, 'presents': 4545, 'helps': 2757, 'sun': 5770, 'disguised': 1659, 'love-matic': 3539, 'hearts': 2730, 'unjustly': 6296, 'roz:': 4957, 'cobra': 1188, 'billiard': 618, 'elves:': 1902, 'hidden': 2776, 'causes': 988, 'media': 3708, 'pathetic': 4292, 'passports': 4287, 'cure': 1437, 'fustigation': 2379, 'flush-town': 2236, 'heave-ho': 2734, 'portuguese': 4504, 'zack': 6769, 'dna': 1685, 'barney-guarding': 490, 'twerpy': 6231, 'voice_on_transmitter:': 6383, 'stinks': 5677, 'happens': 2669, 'emotional': 1909, 'squishee': 5591, \"calf's\": 903, 'talkative': 5868, 'getup': 2449, 'thought_bubble_homer:': 6025, 'desperate': 1584, 'suspect': 5803, 'indifferent': 2995, 'crimes': 1399, 'drive': 1764, 'vampire': 6340, 'drollery': 1771, 'incarcerated': 2979, 'blaze': 642, 'pets': 4357, 'dispenser': 1666, 'lindsay': 3443, 'lonely': 3500, 'flash-fry': 2212, 'support': 5788, 'wake': 6407, 'room': 4940, 'machine': 3583, 'thoughtless': 6029, 'slight': 5373, 'lecture': 3368, 'marvin': 3660, 'neat': 3975, 'failed': 2061, \"isn't\": 3084, 'annoying': 281, 'lemme': 3381, 'rope': 4943, 'santa': 5033, 'protesters': 4619, 'undermine': 6271, 'switched': 5837, \"waitin'\": 6405, \"you'll\": 6749, 'lovelorn': 3542, 'christopher': 1110, 'majesty': 3604, 'workers': 6663, 'eighty-seven': 1882, 'turlet': 6207, 'chub': 1111, 'soaked': 5448, 'guard': 2589, 'philip': 4363, 'darts': 1486, 'statues': 5639, 'whaddaya': 6511, 'coffee': 1197, 'wrestle': 6691, 'recommend': 4779, 'forget-me-shot': 2277, 'approval': 323, 'sharps': 5207, 'buzz': 883, 'panties': 4256, 'contact': 1294, 'selma_bouvier:': 5149, 'buddies': 819, 'grieving': 2562, 'bragging': 746, 'scum': 5104, 'jerks': 3141, 'unison': 6293, \"who's\": 6556, 'earpiece': 1829, 'snail': 5420, 'monster': 3849, 'clearly': 1152, \"washin'\": 6444, 'concentrate': 1264, \"ol'\": 4144, 'animals': 276, 'sixty-nine': 5342, 'pernt': 4347, 'water': 6455, 'bluff': 674, 'fastest': 2092, 'hitchhike': 2801, 'steam': 5650, 'walking': 6412, 'burnside': 853, 'chilly': 1085, 'mate': 3668, \"shouldn't\": 5251, 'wipes': 6611, 'dã¼ffenbraus': 1821, 'moe-clone:': 3827, 'der': 1576, 'traitors': 6148, 'covers': 1361, 'hooray': 2853, 'alfalfa': 208, 'nods': 4045, 'gotcha': 2522, 'pancakes': 4253, 'prints': 4578, 'tap': 5878, 'undated': 6268, 'title:': 6075, 'brief': 779, 'remembered': 4827, 'mob': 3814, 'nice': 4019, 'candles': 923, 'tigers': 6058, 'parked': 4271, 'kl5-4796': 3268, 'dreary': 1750, 'erasers': 1957, 'rom': 4931, \"what'sa\": 6520, 'mid-conversation': 3750, 'rubbed': 4960, 'grandkids': 2541, 'put': 4662, 'awwww': 423, 'tries': 6174, 'pugilist': 4635, 'prefer': 4534, 'computer_voice_2:': 1261, 'bible': 607, 'jailbird': 3116, 'grim': 2564, \"depressin'\": 1573, 'equivalent': 1955, 'just': 3196, 'collette:': 1210, 'managing': 3631, 'barney': 488, 'quadruple-sec': 4670, 'wolveriskey': 6636, 'although': 238, 'moonshine': 3858, 'staying': 5644, 'throw': 6042, 'appointment': 319, 'links': 3449, 'protestantism': 4618, 'nelson': 3996, 'dennis_kucinich:': 1562, 'sometime': 5488, 'reopen': 4845, 'so-called': 5446, 'boxer:': 734, 'creates': 1388, 'admitting': 135, 'suing': 5764, 'moe-lennium': 3829, \"foolin'\": 2260, \"rentin'\": 4844, 'hans:': 2665, 'alva': 239, 'simpson': 5302, 'choice:': 1096, 'comeback': 1222, 'crippling': 1402, 'bachelor': 433, 'five-fifteen': 2197, 'handshake': 2653, 'pushes': 4658, 'stamp': 5607, 'cap': 931, 'nation': 3962, 'mirthless': 3787, 'genius': 2427, 'sleeping': 5367, 'forty-nine': 2292, 'ah-ha': 183, \"hole'\": 2822, 'lead': 3356, 'lighting': 3430, 'showed': 5257, \"department's\": 1568, 'random': 4731, 'griffith': 2563, 'minus': 3782, 'clams': 1138, 'insulin': 3038, 'know': 3282, 'department': 1567, 'there': 5987, 'pasta': 4289, 'tentative': 5936, 'pickle': 4380, 'them': 5979, 'generosity': 2424, 'hardwood': 2679, 'lenny_leonard:': 3389, 'carll': 956, 'nasty': 3961, \"heat's\": 2731, 'door': 1720, 'gutenberg': 2611, 'imagine': 2962, 'ruint': 4969, 'fellow': 2127, 'injury': 3016, 'germans': 2437, 'guy': 2614, 'watt': 6460, \"aren'tcha\": 334, 'add': 122, 're:': 4746, 'subject': 5743, 'appreciate': 320, 'whoopi': 6564, 'paints': 4246, \"crawlin'\": 1382, 'cobbling': 1187, 'debonair': 1517, 'dropping': 1776, 'peaked': 4317, 'tied': 6056, 'doug:': 1728, 'tired': 6073, 'lots': 3525, 'branding': 753, 'retain': 4873, 'theatrical': 5977, 'africanized': 158, 'einstein': 1885, \"bart'd\": 497, 'graveyard': 2550, 'groans': 2570, 'squeezed': 5587, 'shoulder': 5249, \"tinklin'\": 6067, 'head': 2712, 'stopped': 5694, 'burger': 846, 'slice': 5371, 'wooooo': 6654, 'fourth': 2304, 'over': 4213, 'smart': 5396, 'yelp': 6735, 'stupidest': 5738, 'initially': 3015, 'hawking:': 2706, 'money': 3842, \"high-falutin'\": 2782, 'gluten': 2492, 'cheryl': 1069, 'fantasy': 2085, 'register': 4801, 'bart_simpson:': 499, 'cletus_spuckler:': 1156, \"robbin'\": 4919, 'planning': 4424, 'truck': 6187, 'seen': 5133, 'faced': 2053, 'sitting': 5335, 'braun:': 757, 'latour': 3343, 'roach': 4915, 'cigarettes': 1128, 'thankful': 5963, 'doll-baby': 1697, 'hear': 2721, 'truck_driver:': 6188, 'used': 6325, 'yeah': 6723, 'sales': 5019, 'apartment': 305, 'surgeonnn': 5794, 'musketeers': 3925, 'lookalikes': 3507, 'profiling': 4600, 'cozies': 1369, 'defected': 1535, 'moesy': 3834, 'scream': 5094, 'lookalike': 3505, 'politicians': 4484, 'moe-ron': 3831, 'genuinely': 2434, 'yellow-belly': 6733, 'name:': 3948, 'mixed': 3804, 'collapse': 1206, \"d'ya\": 1456, 'tying': 6238, 'van': 6342, 'shortcomings': 5242, 'everyday': 1981, 'disco_stu:': 1650, 'heroism': 2768, 'stink': 5675, 'physical': 4374, 'klingon': 3269, 'proposing': 4615, 'hurt': 2917, 'farewell': 2087, 'idea': 2944, 'eu': 1967, 'urban': 6319, 'anguished': 275, 'verticality': 6356, 'calvin': 912, 'actually': 120, 'grandiose': 2540, 'complete': 1250, 'anyhow': 298, \"that'd\": 5968, 'theory': 5984, 'nonchalantly': 4053, 'miles': 3760, 'wounds': 6683, 'lone': 3498, 'engraved': 1933, 'musta': 3930, 'bleeding': 645, 'sips': 5322, 'lady-free': 3314, 'cents': 1002, 'high-definition': 2781, 'has': 2690, 'lame': 3319, 'achebe': 107, 'artie': 352, 'insured': 3042, 'dipping': 1634, 'abolish': 85, 'ring': 4903, 'inserted': 3024, 'predecessor': 4532, 'investor': 3064, 'road': 4916, 'german': 2436, 'fools': 2261, 'she': 5209, 'tiger': 6057, 'shells': 5219, 'cruise': 1418, 'mine': 3774, 'safety': 5007, 'rub-a-dub': 4959, 'tablecloth': 5853, 'scared': 5064, 'backwards': 442, 'denser': 1563, \"there's\": 5988, 'offensive': 4126, 'director:': 1638, 'beef': 550, 'population': 4500, 'published': 4630, 'showered': 5259, 'weather': 6484, \"yieldin'\": 6742, 'rasputin': 4736, 'lachrymose': 3308, 'ollie': 4150, 'mike_mills:': 3758, 'degradation': 1538, 'sweater': 5816, 'increased': 2984, \"makin'\": 3609, 'son': 5491, \"tap-pullin'\": 5879, 'above': 87, 'remember': 4826, 'time': 6062, 'yards': 6719, 'accent': 96, 'pian-ee': 4375, 'vestigial': 6358, 'argue': 335, 'picked': 4378, 'college': 1209, 'immiggants': 2964, 'skeptical': 5345, 'delighted': 1549, 'muhammad': 3903, 'blokes': 659, 'bit': 629, 'greetings': 2556, 'wenceslas': 6501, 'fun': 2364, 'affects': 152, \"showin'\": 5260, 'stories': 5700, 'installed': 3034, '7g': 48, 'helpless': 2756, 'history': 2799, 'skoal': 5355, 'part-time': 4275, 'soul': 5503, \"meanin'\": 3695, 'separator': 5163, 'hostile': 2873, 'eyesore': 2046, 'telemarketing': 5919, \"s'cuse\": 4990, 'imitating': 2963, 'ohmygod': 4139, 'bloodball': 662, 'started': 5622, 'hey': 2772, 'deep': 1530, 'fuzzlepitch': 2381, \"'evening\": 10, 'fixed': 2199, 'actors': 118, 'muscle': 3919, 'blow': 666, 'villanova': 6370, 'kemi': 3217, 'city': 1132, 'fired': 2183, 'pas': 4281, 'hoagie': 2813, 'products': 4595, 'poet': 4461, 'pulled': 4641, 'lessons': 3397, 'democrats': 1559, 'tape': 5880, \"tramp's\": 6149, 'ralph_wiggum:': 4726, 'distance': 1670, 'detective_homer_simpson:': 1592, 'cadillac': 895, 'how': 2889, 'vehicle': 6347, 'various': 6345, 'pretends': 4559, 'allowed': 224, 'greatly': 2554, 'dee-fense': 1529, 'tasimeter': 5886, 'williams': 6587, 'chunk': 1122, 'smoke': 5408, 'man_at_bar:': 3625, 'whatchamacallit': 6524, 'retired': 4874, \"ya'\": 6714, 'veteran': 6359, 'utensils': 6331, 'glyco-load': 2493, 'crinkly': 1401, 'hoping': 2860, 'scout': 5089, 'meant': 3701, 'sports_announcer:': 5568, 'strong': 5726, 'singers:': 5311, 'challenge': 1015, 'elizabeth': 1897, 'distraught': 1674, 'turns': 6211, 'non-losers': 4051, 'roller': 4928, 'eightball': 1878, 'nbc': 3970, 'brainheaded': 749, 'schnapps': 5075, 'stalin': 5603, 'listen': 3460, 'harvesting': 2688, 'afford': 153, 'moe-near-now': 3830, 'finish': 2176, 'manipulation': 3636, 'nigerian': 4027, 'snake': 5421, 'image': 2960, 'recorded': 4782, 'model': 3819, 'sing': 5308, 'swine': 5832, 'drift': 1757, 'sketching': 5347, 'give': 2473, 'flips': 2224, 'conversations': 1309, 'stuff': 5734, 'emergency': 1906, 'thousand-year': 6032, 'restroom': 4870, 'syndicate': 5843, 'moe_recording:': 3832, 'in-in-in': 2976, 'twentieth': 6224, 'charity': 1038, 'sweaty': 5817, 'load': 3480, 'tick': 6050, 'el': 1887, 'kid': 3234, 'once': 4156, 'churchy': 1126, 'help': 2752, 'dies': 1613, 'strawberry': 5713, 'tells': 5925, 'balls': 462, 'raccoons': 4695, 'idealistic': 2947, 'supermodel': 5783, 'delivery': 1552, 'sponge': 5560, 'jobs': 3156, 'rough': 4948, 'shout': 5252, 'nitwit': 4039, 'lenny:': 3388, 'changed': 1024, 'star': 5614, 'hundred': 2908, \"cheerin'\": 1061, 'arm-pittish': 342, 'stooges': 5690, 'hobo': 2815, 'u': 6243, \"other's\": 4195, 'taps': 5884, 'tons': 6106, 'boxing_announcer:': 737, 'event': 1975, 'forget': 2275, 'proud': 4621, 'professor': 4597, 'old': 4145, 'fighting': 2152, 'absorbent': 92, 'yours': 6760, 'hoax': 2814, 'congratulations': 1280, 'slobs': 5380, 'kent': 3222, 'gold': 2503, 'turkey': 6206, 'check': 1055, 'shark': 5206, 'compadre': 1240, 'trustworthy': 6194, 'possessions': 4507, 'stirrers': 5680, 'freaking': 2316, 'hampstead-on-cecil-cecil': 2644, \"sayin'\": 5057, 'fumigated': 2363, 'vincent': 6372, 'needs': 3985, 'assistant': 371, 'nemo': 3998, 'ribbon': 4885, 'bunch': 842, 'sideshow': 5285, 'rash': 4735, 'fonzie': 2256, 'fly': 2238, 'no': 4041, 'charges': 1037, 'entertainer': 1944, 'dishrag': 1662, 'alter': 236, 'starla:': 5618, 'hank_williams_jr': 2664, 'items': 3096, 'unkempt': 6297, 'life-threatening': 3419, 'rugged': 4966, 'declan_desmond:': 1526, 'hm': 2805, 'way:': 6463, 'hammock': 2642, 'save': 5050, 'misconstrue': 3789, 'young': 6753, 'scully': 5103, 'gossipy': 2520, 'powered': 4519, 'ford': 2271, 'uh': 6250, 'junkyard': 3194, 'industry': 2998, 'donate': 1707, 'scrutinizing': 5102, 'color': 1213, 'laid': 3317, 'sampler': 5025, 'chained': 1012, 'hollowed-out': 2825, 'rid': 4892, 'the': 5972, 'smitty:': 5407, 'temples': 5929, 'dennis_conroy:': 1561, 'eager': 1825, 'butt': 871, 'binoculars': 624, 'try': 6196, 'muslim': 3926, 'puzzle': 4667, 'politics': 4485, 'calls': 909, 'hoped': 2858, 'religion': 4818, 'loafers': 3482, 'direction': 1635, \"don't\": 1705, 'denver': 1565, 'box': 730, 'legs': 3379, 'jams': 3120, \"show's\": 5255, 'miss_lois_pennycandy:': 3793, 'view': 6367, 'sissy': 5324, 'regulations': 4806, 'accelerating': 95, 'cheering': 1062, 'rumor': 4975, 'tenor:': 5934, 'press': 4551}\n"
     ]
    }
   ],
   "source": [
    "# debug helper \n",
    "text = helper.load_data(data_dir)\n",
    "\n",
    "# Ignore notice, since we don't use it for analysing the data\n",
    "text = text[81:]\n",
    "\n",
    "token_dict = token_lookup()\n",
    "for key, token in token_dict.items():\n",
    "    text = text.replace(key, ' {} '.format(token))\n",
    "\n",
    "text = text.lower()\n",
    "text = text.split()\n",
    "\n",
    "vocab_to_int, int_to_vocab = create_lookup_tables(text)\n",
    "\n",
    "print(vocab_to_int)"
   ]
  },
  {
   "cell_type": "code",
   "execution_count": 38,
   "metadata": {
    "collapsed": false,
    "deletable": true,
    "editable": true
   },
   "outputs": [],
   "source": [
    "import pickle\n",
    "int_text = [vocab_to_int[word] for word in text]\n",
    "pickle.dump((int_text, vocab_to_int, int_to_vocab, token_dict), open('preprocess.p', 'wb'))"
   ]
  },
  {
   "cell_type": "code",
   "execution_count": 39,
   "metadata": {
    "collapsed": false,
    "deletable": true,
    "editable": true
   },
   "outputs": [],
   "source": [
    "\"\"\"\n",
    "DON'T MODIFY ANYTHING IN THIS CELL\n",
    "\"\"\"\n",
    "# Preprocess Training, Validation, and Testing Data\n",
    "helper.preprocess_and_save_data(data_dir, token_lookup, create_lookup_tables)"
   ]
  },
  {
   "cell_type": "markdown",
   "metadata": {
    "deletable": true,
    "editable": true
   },
   "source": [
    "# Check Point\n",
    "This is your first checkpoint. If you ever decide to come back to this notebook or have to restart the notebook, you can start from here. The preprocessed data has been saved to disk."
   ]
  },
  {
   "cell_type": "code",
   "execution_count": 40,
   "metadata": {
    "collapsed": false,
    "deletable": true,
    "editable": true
   },
   "outputs": [],
   "source": [
    "\"\"\"\n",
    "DON'T MODIFY ANYTHING IN THIS CELL\n",
    "\"\"\"\n",
    "import helper\n",
    "import numpy as np\n",
    "import problem_unittests as tests\n",
    "\n",
    "int_text, vocab_to_int, int_to_vocab, token_dict = helper.load_preprocess()"
   ]
  },
  {
   "cell_type": "markdown",
   "metadata": {
    "deletable": true,
    "editable": true
   },
   "source": [
    "## Build the Neural Network\n",
    "You'll build the components necessary to build a RNN by implementing the following functions below:\n",
    "- get_inputs\n",
    "- get_init_cell\n",
    "- get_embed\n",
    "- build_rnn\n",
    "- build_nn\n",
    "- get_batches\n",
    "\n",
    "### Check the Version of TensorFlow and Access to GPU"
   ]
  },
  {
   "cell_type": "code",
   "execution_count": 41,
   "metadata": {
    "collapsed": false,
    "deletable": true,
    "editable": true
   },
   "outputs": [
    {
     "name": "stdout",
     "output_type": "stream",
     "text": [
      "TensorFlow Version: 1.0.0\n"
     ]
    },
    {
     "name": "stderr",
     "output_type": "stream",
     "text": [
      "C:\\Users\\Andreas\\AppData\\Local\\conda\\conda\\envs\\dl\\lib\\site-packages\\ipykernel\\__main__.py:14: UserWarning: No GPU found. Please use a GPU to train your neural network.\n"
     ]
    }
   ],
   "source": [
    "\"\"\"\n",
    "DON'T MODIFY ANYTHING IN THIS CELL\n",
    "\"\"\"\n",
    "from distutils.version import LooseVersion\n",
    "import warnings\n",
    "import tensorflow as tf\n",
    "\n",
    "# Check TensorFlow Version\n",
    "assert LooseVersion(tf.__version__) >= LooseVersion('1.0'), 'Please use TensorFlow version 1.0 or newer'\n",
    "print('TensorFlow Version: {}'.format(tf.__version__))\n",
    "\n",
    "# Check for a GPU\n",
    "if not tf.test.gpu_device_name():\n",
    "    warnings.warn('No GPU found. Please use a GPU to train your neural network.')\n",
    "else:\n",
    "    print('Default GPU Device: {}'.format(tf.test.gpu_device_name()))"
   ]
  },
  {
   "cell_type": "markdown",
   "metadata": {
    "deletable": true,
    "editable": true
   },
   "source": [
    "### Input\n",
    "Implement the `get_inputs()` function to create TF Placeholders for the Neural Network.  It should create the following placeholders:\n",
    "- Input text placeholder named \"input\" using the [TF Placeholder](https://www.tensorflow.org/api_docs/python/tf/placeholder) `name` parameter.\n",
    "- Targets placeholder\n",
    "- Learning Rate placeholder\n",
    "\n",
    "Return the placeholders in the following the tuple `(Input, Targets, LearingRate)`"
   ]
  },
  {
   "cell_type": "code",
   "execution_count": 42,
   "metadata": {
    "collapsed": false,
    "deletable": true,
    "editable": true
   },
   "outputs": [],
   "source": [
    "def get_inputs():\n",
    "    \"\"\"\n",
    "    Create TF Placeholders for input, targets, and learning rate.\n",
    "    :return: Tuple (inputs, targets, learning rate)\n",
    "    \"\"\"    \n",
    "    inputs = tf.placeholder(tf.int32, [None, None], name='input')\n",
    "    targets = tf.placeholder(tf.int32, [None, None], name='label')\n",
    "    learning_rate = tf.placeholder(tf.float32, name='learning_rate')\n",
    "\n",
    "    return inputs, targets, learning_rate\n",
    "\n",
    "#input_data, targets, lr = get_inputs()\n",
    "#print((input_data.__doc__))"
   ]
  },
  {
   "cell_type": "code",
   "execution_count": 43,
   "metadata": {
    "collapsed": false,
    "deletable": true,
    "editable": true
   },
   "outputs": [
    {
     "name": "stdout",
     "output_type": "stream",
     "text": [
      "Tests Passed\n"
     ]
    }
   ],
   "source": [
    "\"\"\"\n",
    "DON'T MODIFY ANYTHING IN THIS CELL THAT IS BELOW THIS LINE\n",
    "\"\"\"\n",
    "tests.test_get_inputs(get_inputs)"
   ]
  },
  {
   "cell_type": "markdown",
   "metadata": {
    "deletable": true,
    "editable": true
   },
   "source": [
    "### Build RNN Cell and Initialize\n",
    "Stack one or more [`BasicLSTMCells`](https://www.tensorflow.org/api_docs/python/tf/contrib/rnn/BasicLSTMCell) in a [`MultiRNNCell`](https://www.tensorflow.org/api_docs/python/tf/contrib/rnn/MultiRNNCell).\n",
    "- The Rnn size should be set using `rnn_size`\n",
    "- Initalize Cell State using the MultiRNNCell's [`zero_state()`](https://www.tensorflow.org/api_docs/python/tf/contrib/rnn/MultiRNNCell#zero_state) function\n",
    "    - Apply the name \"initial_state\" to the initial state using [`tf.identity()`](https://www.tensorflow.org/api_docs/python/tf/identity)\n",
    "\n",
    "Return the cell and initial state in the following tuple `(Cell, InitialState)`"
   ]
  },
  {
   "cell_type": "code",
   "execution_count": 44,
   "metadata": {
    "collapsed": false,
    "deletable": true,
    "editable": true
   },
   "outputs": [],
   "source": [
    "lstm_layers = 1\n",
    "\n",
    "def get_init_cell(batch_size, rnn_size):\n",
    "    \"\"\"\n",
    "    Create an RNN Cell and initialize it.\n",
    "    :param batch_size: Size of batches\n",
    "    :param rnn_size: Size of RNNs\n",
    "    :return: Tuple (cell, initial_state)\n",
    "    \"\"\"\n",
    "    \n",
    "    # Your basic LSTM cell\n",
    "    lstm = tf.contrib.rnn.BasicLSTMCell(rnn_size)\n",
    "    \n",
    "    # Add dropout to the cell\n",
    "    #drop = tf.contrib.rnn.DropoutWrapper(lstm, output_keep_prob=keep_prob)\n",
    "    drop = lstm\n",
    "    \n",
    "    # Stack up multiple LSTM layers, for deep learning\n",
    "    cell = tf.contrib.rnn.MultiRNNCell([drop] * lstm_layers)\n",
    "    \n",
    "    # Getting an initial state of all zeros\n",
    "    initial_state = cell.zero_state(batch_size, tf.float32)\n",
    "    \n",
    "    initial_state = tf.identity(initial_state,'initial_state')\n",
    "    \n",
    "    return cell, initial_state\n",
    "\n"
   ]
  },
  {
   "cell_type": "code",
   "execution_count": 45,
   "metadata": {
    "collapsed": false,
    "deletable": true,
    "editable": true
   },
   "outputs": [
    {
     "name": "stdout",
     "output_type": "stream",
     "text": [
      "Tests Passed\n"
     ]
    }
   ],
   "source": [
    "\"\"\"\n",
    "DON'T MODIFY ANYTHING IN THIS CELL THAT IS BELOW THIS LINE\n",
    "\"\"\"\n",
    "tests.test_get_init_cell(get_init_cell)"
   ]
  },
  {
   "cell_type": "markdown",
   "metadata": {
    "deletable": true,
    "editable": true
   },
   "source": [
    "### Word Embedding\n",
    "Apply embedding to `input_data` using TensorFlow.  Return the embedded sequence."
   ]
  },
  {
   "cell_type": "code",
   "execution_count": 46,
   "metadata": {
    "collapsed": false,
    "deletable": true,
    "editable": true
   },
   "outputs": [
    {
     "name": "stdout",
     "output_type": "stream",
     "text": [
      "Tests Passed\n"
     ]
    }
   ],
   "source": [
    "def get_embed(input_data, vocab_size, embed_dim):\n",
    "    \"\"\"\n",
    "    Create embedding for <input_data>.\n",
    "    :param input_data: TF placeholder for text input.\n",
    "    :param vocab_size: Number of words in vocabulary.\n",
    "    :param embed_dim: Number of embedding dimensions\n",
    "    :return: Embedded input.\n",
    "    \"\"\"\n",
    "    #print(input_data)\n",
    "    #embedding = tf.Variable(tf.random_uniform((vocab_size, embed_dim), -1, 1),name='embedding_weights')\n",
    "    #print(embedding)\n",
    "    #embed = tf.nn.embedding_lookup(embedding, input_data)  \n",
    "    #print(embed)\n",
    "\n",
    "    return tf.contrib.layers.embed_sequence(input_data, vocab_size, embed_dim)\n",
    "\n",
    "\"\"\"\n",
    "DON'T MODIFY ANYTHING IN THIS CELL THAT IS BELOW THIS LINE\n",
    "\"\"\"\n",
    "tests.test_get_embed(get_embed)"
   ]
  },
  {
   "cell_type": "markdown",
   "metadata": {
    "deletable": true,
    "editable": true
   },
   "source": [
    "### Build RNN\n",
    "You created a RNN Cell in the `get_init_cell()` function.  Time to use the cell to create a RNN.\n",
    "- Build the RNN using the [`tf.nn.dynamic_rnn()`](https://www.tensorflow.org/api_docs/python/tf/nn/dynamic_rnn)\n",
    " - Apply the name \"final_state\" to the final state using [`tf.identity()`](https://www.tensorflow.org/api_docs/python/tf/identity)\n",
    "\n",
    "Return the outputs and final_state state in the following tuple `(Outputs, FinalState)` "
   ]
  },
  {
   "cell_type": "code",
   "execution_count": 47,
   "metadata": {
    "collapsed": false,
    "deletable": true,
    "editable": true
   },
   "outputs": [
    {
     "name": "stdout",
     "output_type": "stream",
     "text": [
      "Tests Passed\n"
     ]
    }
   ],
   "source": [
    "def build_rnn(cell, inputs):\n",
    "    \"\"\"\n",
    "    Create a RNN using a RNN Cell\n",
    "    :param cell: RNN Cell\n",
    "    :param inputs: Input text data\n",
    "    :return: Tuple (Outputs, Final State)\n",
    "    \"\"\"\n",
    "    #print(inputs)\n",
    "    \n",
    "    outputs, final_state = tf.nn.dynamic_rnn(cell, inputs,\n",
    "                                             dtype = tf.float32\n",
    "                                             #initial_state=initial_state\n",
    "                                            )\n",
    "    \n",
    "    final_state = tf.identity(final_state,'final_state')\n",
    "    #print(final_state)\n",
    "    #print(outputs)\n",
    "    return outputs, final_state\n",
    "\n",
    "\n",
    "\"\"\"\n",
    "DON'T MODIFY ANYTHING IN THIS CELL THAT IS BELOW THIS LINE\n",
    "\"\"\"\n",
    "tests.test_build_rnn(build_rnn)"
   ]
  },
  {
   "cell_type": "markdown",
   "metadata": {
    "deletable": true,
    "editable": true
   },
   "source": [
    "### Build the Neural Network\n",
    "Apply the functions you implemented above to:\n",
    "- Apply embedding to `input_data` using your `get_embed(input_data, vocab_size, embed_dim)` function.\n",
    "- Build RNN using `cell` and your `build_rnn(cell, inputs)` function.\n",
    "- Apply a fully connected layer with a linear activation and `vocab_size` as the number of outputs.\n",
    "\n",
    "Return the logits and final state in the following tuple (Logits, FinalState) "
   ]
  },
  {
   "cell_type": "code",
   "execution_count": 48,
   "metadata": {
    "collapsed": false,
    "deletable": true,
    "editable": true
   },
   "outputs": [
    {
     "name": "stdout",
     "output_type": "stream",
     "text": [
      "Tests Passed\n"
     ]
    }
   ],
   "source": [
    "def build_nn(cell, rnn_size, input_data, vocab_size):\n",
    "    \"\"\"\n",
    "    Build part of the neural network\n",
    "    :param cell: RNN cell\n",
    "    :param rnn_size: Size of rnns\n",
    "    :param input_data: Input data\n",
    "    :param vocab_size: Vocabulary size\n",
    "    :return: Tuple (Logits, FinalState)\n",
    "    \"\"\"\n",
    "    \n",
    "    embed = get_embed(input_data, vocab_size, rnn_size)\n",
    "    outputs, final_state = build_rnn(cell, embed)\n",
    "\n",
    "    logits = tf.contrib.layers.fully_connected(\n",
    "        outputs, \n",
    "        num_outputs=vocab_size,\n",
    "        activation_fn=None,\n",
    "        weights_initializer=tf.truncated_normal_initializer(stddev=0.01)\n",
    "        )\n",
    "\n",
    "    return logits, final_state\n",
    "\n",
    "\n",
    "\"\"\"\n",
    "DON'T MODIFY ANYTHING IN THIS CELL THAT IS BELOW THIS LINE\n",
    "\"\"\"\n",
    "tests.test_build_nn(build_nn)"
   ]
  },
  {
   "cell_type": "markdown",
   "metadata": {
    "deletable": true,
    "editable": true
   },
   "source": [
    "### Batches\n",
    "Implement `get_batches` to create batches of input and targets using `int_text`.  The batches should be a Numpy array with the shape `(number of batches, 2, batch size, sequence length)`. Each batch contains two elements:\n",
    "- The first element is a single batch of **input** with the shape `[batch size, sequence length]`\n",
    "- The second element is a single batch of **targets** with the shape `[batch size, sequence length]`\n",
    "\n",
    "If you can't fill the last batch with enough data, drop the last batch.\n",
    "\n",
    "For exmple, `get_batches([1, 2, 3, 4, 5, 6, 7, 8, 9, 10, 11, 12, 13, 14, 15], 2, 3)` would return a Numpy array of the following:\n",
    "```\n",
    "[\n",
    "  # First Batch\n",
    "  [\n",
    "    # Batch of Input\n",
    "    [[ 1  2  3], [ 7  8  9]],\n",
    "    # Batch of targets\n",
    "    [[ 2  3  4], [ 8  9 10]]\n",
    "  ],\n",
    " \n",
    "  # Second Batch\n",
    "  [\n",
    "    # Batch of Input\n",
    "    [[ 4  5  6], [10 11 12]],\n",
    "    # Batch of targets\n",
    "    [[ 5  6  7], [11 12 13]]\n",
    "  ]\n",
    "]\n",
    "```"
   ]
  },
  {
   "cell_type": "code",
   "execution_count": 49,
   "metadata": {
    "collapsed": false,
    "deletable": true,
    "editable": true
   },
   "outputs": [
    {
     "name": "stdout",
     "output_type": "stream",
     "text": [
      "Tests Passed\n"
     ]
    }
   ],
   "source": [
    "import random\n",
    "\n",
    "batch_distance_override = None\n",
    "\n",
    "def get_batches(int_text, batch_size, seq_length, batch_distance = None):\n",
    "    \"\"\"\n",
    "    Return batches of input and target\n",
    "    :param int_text: Text with the words replaced by their ids\n",
    "    :param batch_size: The size of batch\n",
    "    :param seq_length: The length of sequence\n",
    "    :return: Batches as a Numpy array\n",
    "    \"\"\"\n",
    "    x = int_text[:-1]\n",
    "    y = int_text[1:]\n",
    "    \n",
    "    #print('{} : {}'.format('seq_length',seq_length))\n",
    "    single_batch_len = len(x)-seq_length\n",
    "    #print('{} : {}'.format('single_batch_len',single_batch_len))\n",
    "    single_batch = np.empty([2,single_batch_len,seq_length])\n",
    "    \n",
    "    single_batch_range = list(range(single_batch_len))\n",
    "    \n",
    "    #random.shuffle(single_batch_range)\n",
    "    #print(batch_range)\n",
    "    \n",
    "    ii2 = 0\n",
    "    for ii in single_batch_range:\n",
    "        single_batch [0,ii2] = x[ii:ii+seq_length]\n",
    "        single_batch [1,ii2] = y[ii:ii+seq_length]\n",
    "        ii2 += 1\n",
    "    \n",
    "    \n",
    "    #################################################################################################################\n",
    "    #\n",
    "    #\n",
    "    #  Question 1: why are the labels same length sequences of words not just the one word ?\n",
    "    #\n",
    "    #  Question 2: would it be better to set batch_distance to a smaller value ?\n",
    "    #\n",
    "    #\n",
    "    #################################################################################################################\n",
    "\n",
    "    if batch_distance == None:\n",
    "        batch_distance = seq_length # would be 1 better?\n",
    "        \n",
    "    if batch_distance_override != None:\n",
    "        batch_distance = batch_distance_override\n",
    "        \n",
    "    n_batches = single_batch_len//batch_size//batch_distance\n",
    "    result = np.empty([n_batches,2,batch_size,seq_length])\n",
    "\n",
    "    #print('{} : {}'.format('batch_size',batch_size))\n",
    "    #print('{} : {}'.format('n_batches',n_batches))\n",
    "    \n",
    "    batch_range = (list(range(n_batches)))\n",
    "    \n",
    "    for ii in range(n_batches): #range(0, len(x), batch_size):\n",
    "        iii = ii * batch_size * batch_distance\n",
    "        result[ii] = single_batch[:,iii:iii+batch_size]\n",
    "\n",
    "    return result\n",
    "\n",
    "\n",
    "\"\"\"\n",
    "DON'T MODIFY ANYTHING IN THIS CELL THAT IS BELOW THIS LINE\n",
    "\"\"\"\n",
    "tests.test_get_batches(get_batches)"
   ]
  },
  {
   "cell_type": "markdown",
   "metadata": {
    "deletable": true,
    "editable": true
   },
   "source": [
    "## Neural Network Training\n",
    "### Hyperparameters\n",
    "Tune the following parameters:\n",
    "\n",
    "- Set `num_epochs` to the number of epochs.\n",
    "- Set `batch_size` to the batch size.\n",
    "- Set `rnn_size` to the size of the RNNs.\n",
    "- Set `seq_length` to the length of sequence.\n",
    "- Set `learning_rate` to the learning rate.\n",
    "- Set `show_every_n_batches` to the number of batches the neural network should print progress."
   ]
  },
  {
   "cell_type": "code",
   "execution_count": 50,
   "metadata": {
    "collapsed": true,
    "deletable": true,
    "editable": true
   },
   "outputs": [],
   "source": [
    "###### Number of Epochs\n",
    "num_epochs = 2**11\n",
    "# Batch Size\n",
    "batch_size = 127*2**2 # Primfaktoren von 69088: 2, 2, 2, 2, 2, 17, 127\n",
    "# RNN Size\n",
    "rnn_size = 256\n",
    "# Sequence Length\n",
    "seq_length = 10\n",
    "# Learning Rate\n",
    "learning_rate = 0.001\n",
    "# Show stats for every n number of batches\n",
    "show_every_n_batches = 130 * 5\n",
    "# override batch_distance\n",
    "batch_distance_override =  seq_length\n",
    "\n",
    "\n",
    "\"\"\"\n",
    "DON'T MODIFY ANYTHING IN THIS CELL THAT IS BELOW THIS LINE\n",
    "\"\"\"\n",
    "save_dir = './save'"
   ]
  },
  {
   "cell_type": "markdown",
   "metadata": {
    "deletable": true,
    "editable": true
   },
   "source": [
    "### Build the Graph\n",
    "Build the graph using the neural network you implemented."
   ]
  },
  {
   "cell_type": "code",
   "execution_count": 53,
   "metadata": {
    "collapsed": false,
    "deletable": true,
    "editable": true
   },
   "outputs": [],
   "source": [
    "\"\"\"\n",
    "DON'T MODIFY ANYTHING IN THIS CELL\n",
    "\"\"\"\n",
    "from tensorflow.contrib import seq2seq\n",
    "\n",
    "train_graph = tf.Graph()\n",
    "with train_graph.as_default():\n",
    "    vocab_size = len(int_to_vocab)\n",
    "    input_text, targets, lr = get_inputs()\n",
    "    input_data_shape = tf.shape(input_text)\n",
    "    cell, initial_state = get_init_cell(input_data_shape[0], rnn_size)\n",
    "    logits, final_state = build_nn(cell, rnn_size, input_text, vocab_size)\n",
    "\n",
    "    # Probabilities for generating words\n",
    "    probs = tf.nn.softmax(logits, name='probs')\n",
    "\n",
    "    # Loss function\n",
    "    cost = seq2seq.sequence_loss(\n",
    "        logits,\n",
    "        targets,\n",
    "        tf.ones([input_data_shape[0], input_data_shape[1]]))\n",
    "\n",
    "    # Optimizer\n",
    "    optimizer = tf.train.AdamOptimizer(lr)\n",
    "\n",
    "    # Gradient Clipping\n",
    "    gradients = optimizer.compute_gradients(cost)\n",
    "    capped_gradients = [(tf.clip_by_value(grad, -1., 1.), var) for grad, var in gradients]\n",
    "    train_op = optimizer.apply_gradients(capped_gradients)"
   ]
  },
  {
   "cell_type": "markdown",
   "metadata": {
    "deletable": true,
    "editable": true
   },
   "source": [
    "## Train\n",
    "Train the neural network on the preprocessed data.  If you have a hard time getting a good loss, check the [forms](https://discussions.udacity.com/) to see if anyone is having the same problem."
   ]
  },
  {
   "cell_type": "code",
   "execution_count": null,
   "metadata": {
    "collapsed": false,
    "deletable": true,
    "editable": true
   },
   "outputs": [],
   "source": [
    "\"\"\"\n",
    "DON'T MODIFY ANYTHING IN THIS CELL\n",
    "\"\" \"\n",
    "\n",
    "batches = get_batches(int_text, batch_size, seq_length)\n",
    "\n",
    "with tf.Session(graph=train_graph) as sess:\n",
    "    sess.run(tf.global_variables_initializer())\n",
    "\n",
    "    for epoch_i in range(num_epochs):\n",
    "        state = sess.run(initial_state, {input_text: batches[0][0]})\n",
    "\n",
    "        for batch_i, (x, y) in enumerate(batches):\n",
    "            feed = {\n",
    "                input_text: x,\n",
    "                targets: y,\n",
    "                initial_state: state,\n",
    "                lr: learning_rate}\n",
    "            train_loss, state, _ = sess.run([cost, final_state, train_op], feed)\n",
    "\n",
    "            # Show every <show_every_n_batches> batches\n",
    "            if (epoch_i * len(batches) + batch_i) % show_every_n_batches == 0:\n",
    "                print('Epoch {:>3} Batch {:>4}/{}   train_loss = {:.3f}'.format(\n",
    "                    epoch_i,\n",
    "                    batch_i,\n",
    "                    len(batches),\n",
    "                    train_loss))\n",
    "\n",
    "    # Save Model\n",
    "    saver = tf.train.Saver()\n",
    "    saver.save(sess, save_dir)\n",
    "    print('Model Trained and Saved')\n",
    "        \n",
    "\"\"\";"
   ]
  },
  {
   "cell_type": "code",
   "execution_count": 54,
   "metadata": {
    "collapsed": false,
    "deletable": true,
    "editable": true
   },
   "outputs": [
    {
     "name": "stdout",
     "output_type": "stream",
     "text": [
      "Initialised Model...\n"
     ]
    },
    {
     "ename": "TypeError",
     "evalue": "Cannot interpret feed_dict key as Tensor: Tensor Tensor(\"input:0\", shape=(?, ?), dtype=int32) is not an element of this graph.",
     "output_type": "error",
     "traceback": [
      "\u001b[0;31m---------------------------------------------------------------------------\u001b[0m",
      "\u001b[0;31mValueError\u001b[0m                                Traceback (most recent call last)",
      "\u001b[0;32mC:\\Users\\Andreas\\AppData\\Local\\conda\\conda\\envs\\dl\\lib\\site-packages\\tensorflow\\python\\client\\session.py\u001b[0m in \u001b[0;36m_run\u001b[0;34m(self, handle, fetches, feed_dict, options, run_metadata)\u001b[0m\n\u001b[1;32m    918\u001b[0m             subfeed_t = self.graph.as_graph_element(subfeed, allow_tensor=True,\n\u001b[0;32m--> 919\u001b[0;31m                                                     allow_operation=False)\n\u001b[0m\u001b[1;32m    920\u001b[0m           \u001b[1;32mexcept\u001b[0m \u001b[0mException\u001b[0m \u001b[1;32mas\u001b[0m \u001b[0me\u001b[0m\u001b[1;33m:\u001b[0m\u001b[1;33m\u001b[0m\u001b[0m\n",
      "\u001b[0;32mC:\\Users\\Andreas\\AppData\\Local\\conda\\conda\\envs\\dl\\lib\\site-packages\\tensorflow\\python\\framework\\ops.py\u001b[0m in \u001b[0;36mas_graph_element\u001b[0;34m(self, obj, allow_tensor, allow_operation)\u001b[0m\n\u001b[1;32m   2472\u001b[0m     \u001b[1;32mwith\u001b[0m \u001b[0mself\u001b[0m\u001b[1;33m.\u001b[0m\u001b[0m_lock\u001b[0m\u001b[1;33m:\u001b[0m\u001b[1;33m\u001b[0m\u001b[0m\n\u001b[0;32m-> 2473\u001b[0;31m       \u001b[1;32mreturn\u001b[0m \u001b[0mself\u001b[0m\u001b[1;33m.\u001b[0m\u001b[0m_as_graph_element_locked\u001b[0m\u001b[1;33m(\u001b[0m\u001b[0mobj\u001b[0m\u001b[1;33m,\u001b[0m \u001b[0mallow_tensor\u001b[0m\u001b[1;33m,\u001b[0m \u001b[0mallow_operation\u001b[0m\u001b[1;33m)\u001b[0m\u001b[1;33m\u001b[0m\u001b[0m\n\u001b[0m\u001b[1;32m   2474\u001b[0m \u001b[1;33m\u001b[0m\u001b[0m\n",
      "\u001b[0;32mC:\\Users\\Andreas\\AppData\\Local\\conda\\conda\\envs\\dl\\lib\\site-packages\\tensorflow\\python\\framework\\ops.py\u001b[0m in \u001b[0;36m_as_graph_element_locked\u001b[0;34m(self, obj, allow_tensor, allow_operation)\u001b[0m\n\u001b[1;32m   2551\u001b[0m       \u001b[1;32mif\u001b[0m \u001b[0mobj\u001b[0m\u001b[1;33m.\u001b[0m\u001b[0mgraph\u001b[0m \u001b[1;32mis\u001b[0m \u001b[1;32mnot\u001b[0m \u001b[0mself\u001b[0m\u001b[1;33m:\u001b[0m\u001b[1;33m\u001b[0m\u001b[0m\n\u001b[0;32m-> 2552\u001b[0;31m         \u001b[1;32mraise\u001b[0m \u001b[0mValueError\u001b[0m\u001b[1;33m(\u001b[0m\u001b[1;34m\"Tensor %s is not an element of this graph.\"\u001b[0m \u001b[1;33m%\u001b[0m \u001b[0mobj\u001b[0m\u001b[1;33m)\u001b[0m\u001b[1;33m\u001b[0m\u001b[0m\n\u001b[0m\u001b[1;32m   2553\u001b[0m       \u001b[1;32mreturn\u001b[0m \u001b[0mobj\u001b[0m\u001b[1;33m\u001b[0m\u001b[0m\n",
      "\u001b[0;31mValueError\u001b[0m: Tensor Tensor(\"input:0\", shape=(?, ?), dtype=int32) is not an element of this graph.",
      "\nDuring handling of the above exception, another exception occurred:\n",
      "\u001b[0;31mTypeError\u001b[0m                                 Traceback (most recent call last)",
      "\u001b[0;32m<ipython-input-54-fe0e424ae6f2>\u001b[0m in \u001b[0;36m<module>\u001b[0;34m()\u001b[0m\n\u001b[1;32m     28\u001b[0m         \u001b[0mbatches\u001b[0m \u001b[1;33m=\u001b[0m \u001b[0mget_batches\u001b[0m\u001b[1;33m(\u001b[0m\u001b[0mint_text\u001b[0m\u001b[1;33m,\u001b[0m \u001b[0mbatch_size\u001b[0m\u001b[1;33m,\u001b[0m \u001b[0mseq_length\u001b[0m\u001b[1;33m)\u001b[0m\u001b[1;33m\u001b[0m\u001b[0m\n\u001b[1;32m     29\u001b[0m \u001b[1;33m\u001b[0m\u001b[0m\n\u001b[0;32m---> 30\u001b[0;31m         \u001b[0mstate\u001b[0m \u001b[1;33m=\u001b[0m \u001b[0msess\u001b[0m\u001b[1;33m.\u001b[0m\u001b[0mrun\u001b[0m\u001b[1;33m(\u001b[0m\u001b[0minitial_state\u001b[0m\u001b[1;33m,\u001b[0m \u001b[1;33m{\u001b[0m\u001b[0minput_text\u001b[0m\u001b[1;33m:\u001b[0m \u001b[0mbatches\u001b[0m\u001b[1;33m[\u001b[0m\u001b[1;36m0\u001b[0m\u001b[1;33m]\u001b[0m\u001b[1;33m[\u001b[0m\u001b[1;36m0\u001b[0m\u001b[1;33m]\u001b[0m\u001b[1;33m}\u001b[0m\u001b[1;33m)\u001b[0m\u001b[1;33m\u001b[0m\u001b[0m\n\u001b[0m\u001b[1;32m     31\u001b[0m \u001b[1;33m\u001b[0m\u001b[0m\n\u001b[1;32m     32\u001b[0m         \u001b[0mstart\u001b[0m \u001b[1;33m=\u001b[0m \u001b[0mtime\u001b[0m\u001b[1;33m.\u001b[0m\u001b[0mtime\u001b[0m\u001b[1;33m(\u001b[0m\u001b[1;33m)\u001b[0m\u001b[1;33m\u001b[0m\u001b[0m\n",
      "\u001b[0;32mC:\\Users\\Andreas\\AppData\\Local\\conda\\conda\\envs\\dl\\lib\\site-packages\\tensorflow\\python\\client\\session.py\u001b[0m in \u001b[0;36mrun\u001b[0;34m(self, fetches, feed_dict, options, run_metadata)\u001b[0m\n\u001b[1;32m    765\u001b[0m     \u001b[1;32mtry\u001b[0m\u001b[1;33m:\u001b[0m\u001b[1;33m\u001b[0m\u001b[0m\n\u001b[1;32m    766\u001b[0m       result = self._run(None, fetches, feed_dict, options_ptr,\n\u001b[0;32m--> 767\u001b[0;31m                          run_metadata_ptr)\n\u001b[0m\u001b[1;32m    768\u001b[0m       \u001b[1;32mif\u001b[0m \u001b[0mrun_metadata\u001b[0m\u001b[1;33m:\u001b[0m\u001b[1;33m\u001b[0m\u001b[0m\n\u001b[1;32m    769\u001b[0m         \u001b[0mproto_data\u001b[0m \u001b[1;33m=\u001b[0m \u001b[0mtf_session\u001b[0m\u001b[1;33m.\u001b[0m\u001b[0mTF_GetBuffer\u001b[0m\u001b[1;33m(\u001b[0m\u001b[0mrun_metadata_ptr\u001b[0m\u001b[1;33m)\u001b[0m\u001b[1;33m\u001b[0m\u001b[0m\n",
      "\u001b[0;32mC:\\Users\\Andreas\\AppData\\Local\\conda\\conda\\envs\\dl\\lib\\site-packages\\tensorflow\\python\\client\\session.py\u001b[0m in \u001b[0;36m_run\u001b[0;34m(self, handle, fetches, feed_dict, options, run_metadata)\u001b[0m\n\u001b[1;32m    920\u001b[0m           \u001b[1;32mexcept\u001b[0m \u001b[0mException\u001b[0m \u001b[1;32mas\u001b[0m \u001b[0me\u001b[0m\u001b[1;33m:\u001b[0m\u001b[1;33m\u001b[0m\u001b[0m\n\u001b[1;32m    921\u001b[0m             raise TypeError('Cannot interpret feed_dict key as Tensor: '\n\u001b[0;32m--> 922\u001b[0;31m                             + e.args[0])\n\u001b[0m\u001b[1;32m    923\u001b[0m \u001b[1;33m\u001b[0m\u001b[0m\n\u001b[1;32m    924\u001b[0m           \u001b[1;32mif\u001b[0m \u001b[0misinstance\u001b[0m\u001b[1;33m(\u001b[0m\u001b[0msubfeed_val\u001b[0m\u001b[1;33m,\u001b[0m \u001b[0mops\u001b[0m\u001b[1;33m.\u001b[0m\u001b[0mTensor\u001b[0m\u001b[1;33m)\u001b[0m\u001b[1;33m:\u001b[0m\u001b[1;33m\u001b[0m\u001b[0m\n",
      "\u001b[0;31mTypeError\u001b[0m: Cannot interpret feed_dict key as Tensor: Tensor Tensor(\"input:0\", shape=(?, ?), dtype=int32) is not an element of this graph."
     ]
    }
   ],
   "source": [
    "# added cyclic save and restore to interrupt training\n",
    "\n",
    "# moved (rerandomised) batch generation in epoch loop\n",
    " \n",
    "import matplotlib.pyplot as plt\n",
    "import time\n",
    "\n",
    "#batches = get_batches(int_text, batch_size, seq_length)\n",
    "\n",
    "#with tf.Session(graph=train_graph) as sess:\n",
    "with tf.Session() as sess:\n",
    "    \n",
    "    try:\n",
    "        #assert() #\n",
    "        saver.restore(sess, save_dir)\n",
    "        print('Model Restored :)')\n",
    "        with open('train_loss_history.p','rb') as file:\n",
    "            train_loss_history = pickle.load(file)\n",
    "        print('Loss_history Restored :)')\n",
    "    except:\n",
    "        train_loss_history = []\n",
    "        sess.run(tf.global_variables_initializer())\n",
    "        print('Initialised Model...')\n",
    "\n",
    "    for epoch_i in range(num_epochs):\n",
    "        \n",
    "        # rerandomise batches\n",
    "        batches = get_batches(int_text, batch_size, seq_length)\n",
    "\n",
    "        state = sess.run(initial_state, {input_text: batches[0][0]})\n",
    "    \n",
    "        start = time.time()\n",
    "        for batch_i, (x, y) in enumerate(batches):\n",
    "            feed = {\n",
    "                input_text: x,\n",
    "                targets: y,\n",
    "                initial_state: state,\n",
    "                lr: learning_rate}\n",
    "            train_loss, state, _ = sess.run([cost, final_state, train_op], feed)\n",
    "            \n",
    "            train_loss_history += [train_loss]\n",
    "\n",
    "            # Show every <show_every_n_batches> batches\n",
    "            if (epoch_i * len(batches) + batch_i) % show_every_n_batches == 0:\n",
    "                print('Epoch {:>3} Batch {:>4}/{}   train_loss = {:.3f}'.format(\n",
    "                    epoch_i,\n",
    "                    batch_i,\n",
    "                    len(batches),\n",
    "                    train_loss))\n",
    "                \n",
    "            if(train_loss<0.1):\n",
    "                break\n",
    "        if(train_loss<0.1):\n",
    "            break\n",
    "                \n",
    "                \n",
    "    #print('computation time : {}'.format(time.time() - start))\n",
    "    print('Epoch {:>3} Batch {:>4}/{}   train_loss = {:.3f}'.format(\n",
    "        epoch_i,\n",
    "        batch_i,\n",
    "        len(batches),\n",
    "        train_loss))\n",
    "    # Save Model\n",
    "    saver = tf.train.Saver()\n",
    "    saver.save(sess, save_dir)\n",
    "    pickle.dump((train_loss_history), open('train_loss_history.p', 'wb'))\n",
    "    print('Model Trained and Saved')\n",
    "    plt.plot(train_loss_history)\n",
    "    plt.show()"
   ]
  },
  {
   "cell_type": "markdown",
   "metadata": {
    "deletable": true,
    "editable": true
   },
   "source": [
    "## Save Parameters\n",
    "Save `seq_length` and `save_dir` for generating a new TV script."
   ]
  },
  {
   "cell_type": "code",
   "execution_count": null,
   "metadata": {
    "collapsed": false,
    "deletable": true,
    "editable": true
   },
   "outputs": [],
   "source": [
    "\"\"\"\n",
    "DON'T MODIFY ANYTHING IN THIS CELL\n",
    "\"\"\"\n",
    "# Save parameters for checkpoint\n",
    "helper.save_params((seq_length, save_dir))"
   ]
  },
  {
   "cell_type": "markdown",
   "metadata": {
    "deletable": true,
    "editable": true
   },
   "source": [
    "# Checkpoint"
   ]
  },
  {
   "cell_type": "code",
   "execution_count": null,
   "metadata": {
    "collapsed": false,
    "deletable": true,
    "editable": true
   },
   "outputs": [],
   "source": [
    "\"\"\"\n",
    "DON'T MODIFY ANYTHING IN THIS CELL\n",
    "\"\"\"\n",
    "import tensorflow as tf\n",
    "import numpy as np\n",
    "import helper\n",
    "import problem_unittests as tests\n",
    "\n",
    "_, vocab_to_int, int_to_vocab, token_dict = helper.load_preprocess()\n",
    "seq_length, load_dir = helper.load_params()"
   ]
  },
  {
   "cell_type": "markdown",
   "metadata": {
    "deletable": true,
    "editable": true
   },
   "source": [
    "## Implement Generate Functions\n",
    "### Get Tensors\n",
    "Get tensors from `loaded_graph` using the function [`get_tensor_by_name()`](https://www.tensorflow.org/api_docs/python/tf/Graph#get_tensor_by_name).  Get the tensors using the following names:\n",
    "- \"input:0\"\n",
    "- \"initial_state:0\"\n",
    "- \"final_state:0\"\n",
    "- \"probs:0\"\n",
    "\n",
    "Return the tensors in the following tuple `(InputTensor, InitialStateTensor, FinalStateTensor, ProbsTensor)` "
   ]
  },
  {
   "cell_type": "code",
   "execution_count": null,
   "metadata": {
    "collapsed": false,
    "deletable": true,
    "editable": true
   },
   "outputs": [
    {
     "name": "stdout",
     "output_type": "stream",
     "text": [
      "Tests Passed\n"
     ]
    }
   ],
   "source": [
    "def get_tensors(loaded_graph):\n",
    "    \"\"\"\n",
    "    Get input, initial state, final state, and probabilities tensor from <loaded_graph>\n",
    "    :param loaded_graph: TensorFlow graph loaded from file\n",
    "    :return: Tuple (InputTensor, InitialStateTensor, FinalStateTensor, ProbsTensor)\n",
    "    \"\"\"\n",
    "    InputTensor        = loaded_graph.get_tensor_by_name(\"input:0\")\n",
    "    InitialStateTensor = loaded_graph.get_tensor_by_name(\"initial_state:0\")\n",
    "    FinalStateTensor   = loaded_graph.get_tensor_by_name(\"final_state:0\")\n",
    "    ProbsTensor        = loaded_graph.get_tensor_by_name(\"probs:0\")\n",
    "    return InputTensor, InitialStateTensor, FinalStateTensor, ProbsTensor\n",
    "\n",
    "\n",
    "\"\"\"\n",
    "DON'T MODIFY ANYTHING IN THIS CELL THAT IS BELOW THIS LINE\n",
    "\"\"\"\n",
    "tests.test_get_tensors(get_tensors)"
   ]
  },
  {
   "cell_type": "markdown",
   "metadata": {
    "deletable": true,
    "editable": true
   },
   "source": [
    "### Choose Word\n",
    "Implement the `pick_word()` function to select the next word using `probabilities`."
   ]
  },
  {
   "cell_type": "code",
   "execution_count": null,
   "metadata": {
    "collapsed": false,
    "deletable": true,
    "editable": true
   },
   "outputs": [
    {
     "name": "stdout",
     "output_type": "stream",
     "text": [
      "Tests Passed\n"
     ]
    }
   ],
   "source": [
    "def pick_word(probabilities, int_to_vocab):\n",
    "    \"\"\"\n",
    "    Pick the next word in the generated text\n",
    "    :param probabilities: Probabilites of the next word\n",
    "    :param int_to_vocab: Dictionary of word ids as the keys and words as the values\n",
    "    :return: String of the predicted word\n",
    "    \"\"\"\n",
    "    \n",
    "    p2 = sorted(list(zip(list(probabilities),range(len(probabilities)))))\n",
    "\n",
    "    # ideas : randomise by threshold, memorise last picks to control repetition, ad theme dict, alliteration\n",
    "\n",
    "    return int_to_vocab[p2[-1][-1]]\n",
    "\n",
    "\n",
    "\"\"\"\n",
    "DON'T MODIFY ANYTHING IN THIS CELL THAT IS BELOW THIS LINE\n",
    "\"\"\"\n",
    "tests.test_pick_word(pick_word)"
   ]
  },
  {
   "cell_type": "markdown",
   "metadata": {
    "deletable": true,
    "editable": true
   },
   "source": [
    "## Generate TV Script\n",
    "This will generate the TV script for you.  Set `gen_length` to the length of TV script you want to generate."
   ]
  },
  {
   "cell_type": "code",
   "execution_count": null,
   "metadata": {
    "collapsed": false,
    "deletable": true,
    "editable": true
   },
   "outputs": [],
   "source": [
    "gen_length = 1000\n",
    "# homer_simpson, moe_szyslak, or Barney_Gumble\n",
    "prime_word = 'homer_simpson'\n",
    "\n",
    "\"\"\"\n",
    "DON'T MODIFY ANYTHING IN THIS CELL THAT IS BELOW THIS LINE\n",
    "\"\"\"\n",
    "loaded_graph = tf.Graph()\n",
    "with tf.Session(graph=loaded_graph) as sess:\n",
    "    # Load saved model\n",
    "    loader = tf.train.import_meta_graph(load_dir + '.meta')\n",
    "    loader.restore(sess, load_dir)\n",
    "\n",
    "    # Get Tensors from loaded model\n",
    "    input_text, initial_state, final_state, probs = get_tensors(loaded_graph)\n",
    "\n",
    "    # Sentences generation setup\n",
    "    gen_sentences = [prime_word + ':']\n",
    "    prev_state = sess.run(initial_state, {input_text: np.array([[1]])})\n",
    "\n",
    "    # Generate sentences\n",
    "    for n in range(gen_length):\n",
    "        # Dynamic Input\n",
    "        dyn_input = [[vocab_to_int[word] for word in gen_sentences[-seq_length:]]]\n",
    "        dyn_seq_length = len(dyn_input[0])\n",
    "\n",
    "        # Get Prediction\n",
    "        probabilities, prev_state = sess.run(\n",
    "            [probs, final_state],\n",
    "            {input_text: dyn_input, initial_state: prev_state})\n",
    "        \n",
    "        pred_word = pick_word(probabilities[dyn_seq_length-1], int_to_vocab)\n",
    "\n",
    "        gen_sentences.append(pred_word)\n",
    "    \n",
    "    # Remove tokens\n",
    "    tv_script = ' '.join(gen_sentences)\n",
    "    for key, token in token_dict.items():\n",
    "        ending = ' ' if key in ['\\n', '(', '\"'] else ''\n",
    "        tv_script = tv_script.replace(' ' + token.lower(), key)\n",
    "    tv_script = tv_script.replace('\\n ', '\\n')\n",
    "    tv_script = tv_script.replace('( ', '(')\n",
    "        \n",
    "    print(tv_script)"
   ]
  },
  {
   "cell_type": "markdown",
   "metadata": {
    "deletable": true,
    "editable": true
   },
   "source": [
    "# The TV Script is Nonsensical\n",
    "It's ok if the TV script doesn't make any sense.  We trained on less than a megabyte of text.  In order to get good results, you'll have to use a smaller vocabulary or get more data.  Luckly there's more data!  As we mentioned in the begging of this project, this is a subset of [another dataset](https://www.kaggle.com/wcukierski/the-simpsons-by-the-data).  We didn't have you train on all the data, because that would take too long.  However, you are free to train your neural network on all the data.  After you complete the project, of course.\n",
    "# Submitting This Project\n",
    "When submitting this project, make sure to run all the cells before saving the notebook. Save the notebook file as \"dlnd_tv_script_generation.ipynb\" and save it as a HTML file under \"File\" -> \"Download as\". Include the \"helper.py\" and \"problem_unittests.py\" files in your submission."
   ]
  }
 ],
 "metadata": {
  "kernelspec": {
   "display_name": "Python 3",
   "language": "python",
   "name": "python3"
  },
  "language_info": {
   "codemirror_mode": {
    "name": "ipython",
    "version": 3
   },
   "file_extension": ".py",
   "mimetype": "text/x-python",
   "name": "python",
   "nbconvert_exporter": "python",
   "pygments_lexer": "ipython3",
   "version": "3.5.2"
  }
 },
 "nbformat": 4,
 "nbformat_minor": 0
}
