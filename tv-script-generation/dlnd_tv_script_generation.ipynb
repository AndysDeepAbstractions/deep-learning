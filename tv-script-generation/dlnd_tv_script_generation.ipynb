{
 "cells": [
  {
   "cell_type": "markdown",
   "metadata": {
    "deletable": true,
    "editable": true
   },
   "source": [
    "# TV Script Generation\n",
    "In this project, you'll generate your own [Simpsons](https://en.wikipedia.org/wiki/The_Simpsons) TV scripts using RNNs.  You'll be using part of the [Simpsons dataset](https://www.kaggle.com/wcukierski/the-simpsons-by-the-data) of scripts from 27 seasons.  The Neural Network you'll build will generate a new TV script for a scene at [Moe's Tavern](https://simpsonswiki.com/wiki/Moe's_Tavern).\n",
    "## Get the Data\n",
    "The data is already provided for you.  You'll be using a subset of the original dataset.  It consists of only the scenes in Moe's Tavern.  This doesn't include other versions of the tavern, like \"Moe's Cavern\", \"Flaming Moe's\", \"Uncle Moe's Family Feed-Bag\", etc.."
   ]
  },
  {
   "cell_type": "code",
   "execution_count": 1,
   "metadata": {
    "collapsed": false,
    "deletable": true,
    "editable": true
   },
   "outputs": [],
   "source": [
    "\"\"\"\n",
    "DON'T MODIFY ANYTHING IN THIS CELL\n",
    "\"\"\"\n",
    "import helper\n",
    "\n",
    "data_dir = './data/simpsons/moes_tavern_lines.txt'\n",
    "text = helper.load_data(data_dir)\n",
    "# Ignore notice, since we don't use it for analysing the data\n",
    "text = text[81:]"
   ]
  },
  {
   "cell_type": "markdown",
   "metadata": {
    "deletable": true,
    "editable": true
   },
   "source": [
    "## Explore the Data\n",
    "Play around with `view_sentence_range` to view different parts of the data."
   ]
  },
  {
   "cell_type": "code",
   "execution_count": 2,
   "metadata": {
    "collapsed": false,
    "deletable": true,
    "editable": true
   },
   "outputs": [
    {
     "name": "stdout",
     "output_type": "stream",
     "text": [
      "Dataset Stats\n",
      "Roughly the number of unique words: 11492\n",
      "Number of scenes: 262\n",
      "Average number of sentences in each scene: 15.248091603053435\n",
      "Number of lines: 4257\n",
      "Average number of words in each line: 11.50434578341555\n",
      "\n",
      "The sentences 0 to 10:\n",
      "Moe_Szyslak: (INTO PHONE) Moe's Tavern. Where the elite meet to drink.\n",
      "Bart_Simpson: Eh, yeah, hello, is Mike there? Last name, Rotch.\n",
      "Moe_Szyslak: (INTO PHONE) Hold on, I'll check. (TO BARFLIES) Mike Rotch. Mike Rotch. Hey, has anybody seen Mike Rotch, lately?\n",
      "Moe_Szyslak: (INTO PHONE) Listen you little puke. One of these days I'm gonna catch you, and I'm gonna carve my name on your back with an ice pick.\n",
      "Moe_Szyslak: What's the matter Homer? You're not your normal effervescent self.\n",
      "Homer_Simpson: I got my problems, Moe. Give me another one.\n",
      "Moe_Szyslak: Homer, hey, you should not drink to forget your problems.\n",
      "Barney_Gumble: Yeah, you should only drink to enhance your social skills.\n",
      "\n",
      "\n"
     ]
    }
   ],
   "source": [
    "view_sentence_range = (0, 10)\n",
    "\n",
    "\"\"\"\n",
    "DON'T MODIFY ANYTHING IN THIS CELL\n",
    "\"\"\"\n",
    "import numpy as np\n",
    "\n",
    "print('Dataset Stats')\n",
    "print('Roughly the number of unique words: {}'.format(len({word: None for word in text.split()})))\n",
    "scenes = text.split('\\n\\n')\n",
    "print('Number of scenes: {}'.format(len(scenes)))\n",
    "sentence_count_scene = [scene.count('\\n') for scene in scenes]\n",
    "print('Average number of sentences in each scene: {}'.format(np.average(sentence_count_scene)))\n",
    "\n",
    "sentences = [sentence for scene in scenes for sentence in scene.split('\\n')]\n",
    "print('Number of lines: {}'.format(len(sentences)))\n",
    "word_count_sentence = [len(sentence.split()) for sentence in sentences]\n",
    "print('Average number of words in each line: {}'.format(np.average(word_count_sentence)))\n",
    "\n",
    "print()\n",
    "print('The sentences {} to {}:'.format(*view_sentence_range))\n",
    "print('\\n'.join(text.split('\\n')[view_sentence_range[0]:view_sentence_range[1]]))"
   ]
  },
  {
   "cell_type": "markdown",
   "metadata": {
    "deletable": true,
    "editable": true
   },
   "source": [
    "## Implement Preprocessing Functions\n",
    "The first thing to do to any dataset is preprocessing.  Implement the following preprocessing functions below:\n",
    "- Lookup Table\n",
    "- Tokenize Punctuation\n",
    "\n",
    "### Lookup Table\n",
    "To create a word embedding, you first need to transform the words to ids.  In this function, create two dictionaries:\n",
    "- Dictionary to go from the words to an id, we'll call `vocab_to_int`\n",
    "- Dictionary to go from the id to word, we'll call `int_to_vocab`\n",
    "\n",
    "Return these dictionaries in the following tuple `(vocab_to_int, int_to_vocab)`"
   ]
  },
  {
   "cell_type": "code",
   "execution_count": 3,
   "metadata": {
    "collapsed": false,
    "deletable": true,
    "editable": true
   },
   "outputs": [],
   "source": [
    "import numpy as np\n",
    "import problem_unittests as tests\n",
    "import re\n",
    "\n",
    "def create_lookup_tables(text):\n",
    "    \"\"\"\n",
    "    Create lookup tables for vocabulary\n",
    "    :param text: The text of tv scripts split into words\n",
    "    :return: A tuple of dicts (vocab_to_int, int_to_vocab)\n",
    "    \"\"\"\n",
    "\n",
    "    #text = ''.join([c.lower()+' ' for c in text])\n",
    "    #text_for_lookup  = sorted(list(set(re.split('(\\W)+', text))))\n",
    "    #marks_for_lookup = sorted(list(set(re.split('(\\w)+', text))))\n",
    "    #text_for_lookup  = sorted(list(set(text_for_lookup + (marks_for_lookup))))\n",
    "    #test = re.split(' ', text)\n",
    "    text_for_lookup = sorted(list(set(text)))\n",
    "\n",
    "    int_to_vocab = dict((i, c) for i, c in enumerate(text_for_lookup))\n",
    "    vocab_to_int = dict((c, i) for i, c in enumerate(text_for_lookup))\n",
    "\n",
    "    return vocab_to_int, int_to_vocab"
   ]
  },
  {
   "cell_type": "code",
   "execution_count": 4,
   "metadata": {
    "collapsed": false,
    "deletable": true,
    "editable": true
   },
   "outputs": [
    {
     "name": "stdout",
     "output_type": "stream",
     "text": [
      "Tests Passed\n"
     ]
    }
   ],
   "source": [
    "\"\"\"\n",
    "DON'T MODIFY ANYTHING IN THIS CELL THAT IS BELOW THIS LINE\n",
    "\"\"\"\n",
    "tests.test_create_lookup_tables(create_lookup_tables)"
   ]
  },
  {
   "cell_type": "markdown",
   "metadata": {
    "deletable": true,
    "editable": true
   },
   "source": [
    "### Tokenize Punctuation\n",
    "We'll be splitting the script into a word array using spaces as delimiters.  However, punctuations like periods and exclamation marks make it hard for the neural network to distinguish between the word \"bye\" and \"bye!\".\n",
    "\n",
    "Implement the function `token_lookup` to return a dict that will be used to tokenize symbols like \"!\" into \"__Exclamation_Mark__\".  Create a dictionary for the following symbols where the symbol is the key and value is the token:\n",
    "- Period ( . )\n",
    "- Comma ( , )\n",
    "- Quotation Mark ( \" )\n",
    "- Semicolon ( ; )\n",
    "- Exclamation mark ( ! )\n",
    "- Question mark ( ? )\n",
    "- Left Parentheses ( ( )\n",
    "- Right Parentheses ( ) )\n",
    "- Dash ( -- )\n",
    "- Return ( \\n )\n",
    "\n",
    "This dictionary will be used to token the symbols and add the delimiter (space) around it.  This separates the symbols as it's own word, making it easier for the neural network to predict on the next word. Make sure you don't use a token that could be confused as a word. Instead of using the token \"dash\", try using something like \"__dash__\"."
   ]
  },
  {
   "cell_type": "code",
   "execution_count": 5,
   "metadata": {
    "collapsed": false,
    "deletable": true,
    "editable": true
   },
   "outputs": [
    {
     "data": {
      "text/plain": [
       "{'\\n': '__return__',\n",
       " '!': '__exclamation_mark__',\n",
       " '\"': '__quotation_Mark__',\n",
       " '(': '__left_Parentheses__',\n",
       " ')': '__right_Parentheses__',\n",
       " ',': '__comma__',\n",
       " '--': '__dash__',\n",
       " '.': '__period__',\n",
       " ';': '__semicolon__',\n",
       " '?': '__question_mark__'}"
      ]
     },
     "execution_count": 5,
     "metadata": {},
     "output_type": "execute_result"
    }
   ],
   "source": [
    "def token_lookup():\n",
    "    \"\"\"\n",
    "    Generate a dict to turn punctuation into a token.\n",
    "    :return: Tokenize dictionary where the key is the punctuation and the value is the token\n",
    "    \"\"\"\n",
    "    symbols = (['.', ',', '\"', ';', '!', '?', '(', ')', '--', '\\n'#, ':', '\\'', '#', '/', '%'\n",
    "               ])\n",
    "    \n",
    "    symbol_desc = ([\n",
    "        '__period__',\n",
    "        '__comma__',\n",
    "        '__quotation_Mark__',\n",
    "        '__semicolon__',\n",
    "        '__exclamation_mark__',\n",
    "        '__question_mark__',\n",
    "        '__left_Parentheses__',\n",
    "        '__right_Parentheses__',\n",
    "        '__dash__',\n",
    "        '__return__',\n",
    "        #'__double_point__', ## missing in description\n",
    "        #'__quote__',        ## missing in description\n",
    "        #'__hash__',         ## missing in description\n",
    "        #'__slash__',        ## missing in description\n",
    "        #'__procent__',      ## missing in description\n",
    "        ])\n",
    "    \n",
    "    return dict(zip(symbols,symbol_desc))\n",
    "\n",
    "token_lookup()\n"
   ]
  },
  {
   "cell_type": "code",
   "execution_count": 6,
   "metadata": {
    "collapsed": false,
    "deletable": true,
    "editable": true
   },
   "outputs": [
    {
     "name": "stdout",
     "output_type": "stream",
     "text": [
      "Tests Passed\n"
     ]
    }
   ],
   "source": [
    "\"\"\"\n",
    "DON'T MODIFY ANYTHING IN THIS CELL THAT IS BELOW THIS LINE\n",
    "\"\"\"\n",
    "tests.test_tokenize(token_lookup)"
   ]
  },
  {
   "cell_type": "markdown",
   "metadata": {
    "deletable": true,
    "editable": true
   },
   "source": [
    "## Preprocess all the data and save it\n",
    "Running the code cell below will preprocess all the data and save it to file."
   ]
  },
  {
   "cell_type": "code",
   "execution_count": 7,
   "metadata": {
    "collapsed": false,
    "deletable": true,
    "editable": true
   },
   "outputs": [
    {
     "name": "stdout",
     "output_type": "stream",
     "text": [
      "{'caricature': 951, 'billion': 620, \"life's\": 3415, 'she-pu': 5213, 'extra': 2034, 'dealt': 1512, 'form': 2284, 'fell': 2124, 'rebuilt': 4770, 'if': 2952, \"dyin'\": 1816, 'breathalyzer': 769, 'municipal': 3911, 'philosophic': 4364, 'mull': 3905, 'beep': 553, 'fence': 2134, \"nothin's\": 4073, 'grammar': 2534, \"workin'\": 6664, 'cutie': 1450, 'harvard': 2687, 'disguised': 1659, 'welcome': 6497, 'willy': 6589, 'snaps': 5427, 'offer': 4127, 'join': 3165, 'undated': 6268, 'drunk': 1781, 'seats': 5113, 'we-we-we': 6475, \"where's\": 6537, 'distract': 1673, 'juan': 3176, 'buddies': 819, 'deal': 1508, 'excuses': 2007, 'tall': 5873, 'cheap': 1049, 'looks': 3511, 'turkey': 6206, 'cueball': 1429, 'spoon': 5565, 'yellow-belly': 6733, 'disturbing': 1677, 'badges': 446, 'smiling': 5405, 'dollars': 1699, 'school': 5076, 'publish': 4629, 'access': 100, 'schabadoo': 5070, 'jägermeister': 3199, 'conditioners': 1269, 'hall': 2638, \"knockin'\": 3280, 'sleep': 5366, 'twentieth': 6224, 'middle': 3752, 'daughter': 1494, 'stooges': 5690, 'diets': 1615, 'sass': 5038, 'great': 2552, \"they've\": 5996, 'grease': 2551, 'deer': 1533, 'hah': 2626, 'dallas': 1463, 'irrelevant': 3078, 'based': 507, 'has': 2690, 'neat': 3975, 'oooh': 4170, 'demand': 1556, \"lovers'\": 3546, \"'evening\": 10, \"tv's\": 6214, 'zinged': 6775, \"stinkin'\": 5676, 'game': 2396, 'myself': 3935, 'french': 2323, 'camera': 914, 'text': 5957, 'society_matron:': 5462, 'tha': 5960, 'lucius:': 3557, 'hillary': 2789, \"fans'll\": 2083, 'ambrose': 247, 'teriyaki': 5938, 'male_inspector:': 3612, 'tv_father:': 6218, 'sweden': 5818, 'kucinich': 3300, 'uh-huh': 6251, 'wearing': 6481, \"must've\": 3929, 'groveling': 2576, 'clock': 1164, 'guard': 2589, 'wednesday': 6487, 'pointedly': 4467, 'wraps': 6688, 'reopen': 4845, 'failure': 2062, 'grieving': 2562, 'gator:': 2413, 'margarita': 3644, 'maiden': 3599, 'strolled': 5725, 'value': 6339, 'compare': 1242, 'forget': 2275, 'pulls': 4644, 'tough': 6125, 'killjoy': 3248, 'reasonable': 4768, 'buying': 882, \"mother's\": 3875, 'aside': 359, 'charge': 1035, 'playing': 4440, 'clothes': 1172, 'hubub': 2896, 'xx': 6707, 'specified': 5532, 'additional-seating-capacity': 124, 'industry': 2998, 'monorails': 3846, 'bothered': 715, 'marjorie': 3650, 'kay': 3209, 'lend': 3384, 'tipsy': 6071, 'hawking:': 2706, 'exited': 2013, 'lovely': 3543, 'homesick': 2840, 'ninety-nine': 4035, 'bathing': 514, 'products': 4595, 'both': 714, 'those': 6021, 'president': 4547, 'andalay': 267, 'experienced': 2020, 'accelerating': 95, '_hooper:': 65, 'rig': 4898, 'sinister': 5318, 'shows': 5262, 'appreciate': 320, 'real': 4761, 'plus': 4456, 'dials': 1600, 'exchanged': 2001, 'chick': 1074, 'floating': 2227, 'dna': 1685, 'sheepish': 5214, 'cars': 965, 'unsourced': 6305, 'airport': 196, 'noises': 4048, 'low-life': 3550, 'arab_man:': 329, 'piece': 4387, 'quarry': 4672, 'telling': 5924, 'troubles': 6183, 'flying': 2239, 'dateline:': 1492, 'mindless': 3773, 'ninety-seven': 4036, 'wear': 6479, 'whaaa': 6509, 'blank': 641, 'natured': 3966, 'nickels': 4024, 'numeral': 4091, 'wrecking': 6690, 'ahem': 185, 'broom': 801, 'language': 3327, 'clear': 1150, 'roy': 4954, 'congoleum': 1279, 'hairs': 2631, \"soakin's\": 5449, 'recap:': 4773, 'wantcha': 6426, 'suspiciously': 5807, 'sidelines': 5284, 'duel': 1791, 'hunger': 2910, 'cletus_spuckler:': 1156, 'sitting': 5335, 'johnny': 3163, 'mccarthy': 3686, 'dean': 1513, 'kadlubowski': 3202, 'gone': 2507, 'tongue': 6102, 'fat-free': 2094, 'violations': 6373, 'bless': 647, 'mouth': 3883, 'blame': 639, 'cruiser': 1419, \"patrick's\": 4294, 'twelveball': 6223, \"football's\": 2264, 'most': 3869, 'clearing': 1151, 'deliberately': 1545, 'hexa-': 2771, 'rat-like': 4739, 'souvenir': 5515, \"who'll\": 6555, 'guiltily': 2596, 'weep': 6492, 'tire': 6072, 'maitre': 3603, 'musketeers': 3925, 'irs': 3079, 'wishes': 6618, 'backward': 441, 'sun': 5770, 'arm-pittish': 342, '__quotation_mark__': 58, 'diamond': 1601, 'superhero': 5780, 'repay': 4847, 'boned': 689, 'leave': 3365, 'pretends': 4559, 'relative': 4809, 'flayvin': 2217, 'experience': 2019, 'taught': 5892, \"choosin'\": 1104, 'cozies': 1369, 'size': 5343, 'samples': 5026, 'though': 6022, 'christian': 1108, 'results': 4872, \"drexel's\": 1756, 'dumbest': 1807, 'undies': 6278, 'noggin': 4046, 'pickle': 4380, 'perfected': 4339, 'attention': 388, 'until': 6306, 'step': 5659, 'mob': 3814, 'onion': 4161, 'watching': 6454, 'quimby_#2:': 4687, 'realize': 4763, 'used': 6325, \"we've\": 6474, 'bits': 632, 'managing': 3631, 'light': 3427, 'ad': 121, 'truck': 6187, \"tootin'\": 6113, 'priest': 4571, 'spit': 5551, 'locked': 3492, 'hibbert': 2775, 'jobs': 3156, 'found': 2296, 'bunch': 842, 'eh': 1871, 'door': 1720, 'haiti': 2632, 'cloudy': 1175, 'competitive': 1247, 'legs': 3379, 'spamming': 5520, 'yello': 6731, 'jacksons': 3111, 'champion': 1019, 'pour': 4515, 'sharity': 5205, 'ate': 381, 'gheet': 2452, 'dumbass': 1805, 'go': 2494, 'sabermetrics': 4994, 'shove': 5253, 'buttons': 877, 'regret': 4802, 'reserved': 4861, 'shriners': 5266, 'unlike': 6299, 'darjeeling': 1481, 'marvin': 3660, 'swine': 5832, 'knows': 3287, 'tastes': 5888, 'jerk-ass': 3139, 'drivers': 1767, 'sooo': 5497, 'hammy': 2643, 'agent_miller:': 170, 'wars': 6439, 'forty': 2290, 'improv': 2972, 'faulkner': 2101, 'y': 6708, 'victim': 6362, 'against': 163, 'inside': 3026, 'alphabet': 232, 'breakfast': 764, 'cotton': 1334, 'linda': 3441, 'tow': 6127, 'tow-joes': 6128, \"smokin'_joe_frazier:\": 5412, 'boyfriend': 740, 'harder': 2677, 'eva': 1970, 'utility': 6332, \"ain't\": 194, 'eco-fraud': 1849, 'learned': 3361, 'o': 4096, 'slice': 5371, 'wikipedia': 6581, 'slurred': 5389, 'warned': 6435, 'yo': 6743, 'terrorizing': 5948, 'walther_hotenhoffer:': 6420, 'germs': 2439, 'same': 5024, 'carll': 956, \"should've\": 5247, 'gorgeous': 2518, 'teams': 5904, 'bon': 686, 'test-': 5950, 'commit': 1235, 'rubbed': 4960, 'susie-q': 5802, 'head-gunk': 2713, 'loved': 3540, 'restless': 4869, 'hurts': 2919, 'state': 5631, 'appeals': 311, \"sittin'\": 5334, 'business': 864, 'reluctantly': 4821, 'nervously': 4003, 'apulina': 327, '100': 28, 'waist': 6402, 'less': 3395, 'life-threatening': 3419, 'dazed': 1501, \"i'd'a\": 2929, 'is': 3080, 'unbelievable': 6263, 'coal': 1182, 'beneath': 590, 'mic': 3740, 'film': 2163, 'glowers': 2489, '__question_mark__': 57, 'senators:': 5155, 'fledgling': 2220, 'solely': 5469, 'bragging': 746, 'hitchhike': 2801, 'stiffening': 5670, 'checks': 1057, 'clown-like': 1177, 'museum': 3921, 'arse': 350, 'bill': 615, 'renee': 4836, 'businessman_#2:': 866, 'dime': 1624, 'ears': 1831, 'themselves': 5981, 'error': 1958, 'changed': 1024, 'boxcar': 731, 'counter': 1342, 'snapping': 5426, 'amid': 255, 'items': 3096, 'cheered': 1059, 'disguise': 1658, 'catch': 977, 'legoland': 3378, 'yelling': 6730, 'whup': 6567, 'archaeologist': 331, 'courteous': 1355, 'saved': 5051, 'knock': 3277, 'understood': 6275, 'comment': 1233, 'broken:': 797, 'collette:': 1210, 'grimly': 2565, 'opening': 4176, 'enemies': 1925, 'grenky': 2558, '7g': 48, 'shelbyville': 5217, \"somethin':\": 5483, 'owes': 4221, 'patting': 4302, 'testing': 5954, 'augustus': 398, 'soaking': 5450, 'gin': 2466, 'resigned': 4862, 'shesh': 5221, 'manage': 3628, 'busiest': 863, 'five': 2196, 'flexible': 2223, 'ha-ha': 2620, 'mixed': 3804, \"couldn't\": 1340, 'cocking': 1190, 'gasps': 2411, 'righ': 4899, 'bloodball': 662, 'bills': 621, 'dungeon': 1811, \"somethin's\": 5484, 'change': 1023, \"don'tcha\": 1706, 'therefore': 5989, 'modest': 3821, 'normal': 4063, 'donor': 1713, 'purse': 4653, 'brotherhood': 804, 'hand': 2645, 'sweeter': 5820, 'here-here-here': 2765, 'apology': 307, 'sec_agent_#1:': 5115, \"tv'll\": 6213, 'browns': 809, 'presto:': 4555, 'dying': 1817, 'fruit': 2351, 'womb': 6640, 'learn': 3360, 'upn': 6314, 'ironed': 3076, 'annoyed': 280, 'rebuttal': 4771, 'impress': 2970, 'cappuccino': 935, 'shipment': 5226, 'greetings': 2556, 'barney-guarding': 490, 'mommy': 3839, 'checking': 1056, 'only': 4164, \"o'problem\": 4099, 'washed': 6442, 'screw': 5096, 'gotta': 2523, \"dog's\": 1692, 'mines': 3775, 'fox_mulder:': 2306, 'severe': 5179, 'hemorrhage-amundo': 2759, 'certainly': 1007, 'sniffles': 5435, 'kermit': 3226, 'bowie': 726, 'steampunk': 5653, 'dae': 1462, 'certified': 1009, '_julius_hibbert:': 66, 'hootie': 2855, 'chips': 1093, 'effect': 1863, 'sanitary': 5031, 'fights': 2153, 'ralph': 4725, 'ha': 2619, 'wife-swapping': 6576, 'bears': 531, 'beached': 523, 'patty': 4303, 'natural': 3963, 'gently': 2433, 'everyone': 1982, 'bright': 781, 'passenger': 4284, 'christmas': 1109, 'americans': 253, 'window': 6597, 'steal': 5647, 'starting': 5625, 'sickened': 5278, 'salvador': 5021, 'contractors': 1305, 'floated': 2225, 'sloppy': 5384, 'pitcher': 4410, 'dawning': 1498, 'tidy': 6054, 'stumble': 5735, 'general': 2422, 'radiation': 4698, 'design': 1580, 'investor': 3064, 'regulars': 4805, 'lincoln': 3440, 'mellow': 3717, \"town's\": 6133, 'lennyy': 3390, 'across': 112, 'into': 3054, 'foam': 2241, 'savvy': 5054, 'tip': 6069, 'possessions': 4507, 'absentmindedly': 89, 'loud': 3531, 'type': 6239, 'inspector': 3030, 'thunder': 6049, 'broncos': 799, 'onassis': 4155, \"buffalo's\": 823, 'notably': 4070, 'cummerbund': 1432, 'gang': 2400, 'dead': 1506, 'frankie': 2310, 'milk': 3766, 'irish': 3074, 'station': 5634, 'done': 1711, 'i/you': 2939, 'script': 5098, 'nobel': 4042, 'proposition': 4616, 'traffic': 6141, 'fictional': 2143, 'reasons': 4769, 'agent_johnson:': 169, 'ring': 4903, 'shoe': 5230, 'there': 5987, 'rivalry': 4913, 'robot': 4921, 'fingers': 2175, 'wistful': 6621, 'perking': 4344, 'whim': 6541, 'reporter:': 4853, 'after': 159, 'conversion': 1310, 'technical': 5909, 'arrest': 347, 'eurotrash': 1969, 'saturday': 5045, 'astrid': 376, 'amanda': 242, \"waitin'\": 6405, 'department': 1567, 'dishrag': 1662, 'load': 3480, 'pfft': 4359, 'hide': 2777, 'bit': 629, 'negative': 3987, 'orphan': 4192, '2': 34, 'ratio': 4741, 'kick-ass': 3230, 'routine': 4952, 'williams': 6587, 'scully': 5103, 'hangover': 2661, 'afternoon': 161, 'dear': 1514, 'up': 6309, '/mr': 26, 'homunculus': 2842, 'trainers': 6145, 'customers': 1445, 'las': 3337, 'throws': 6045, 'beefs': 551, 'off': 4122, 'beverage': 605, 'unavailable': 6262, 'realized': 4764, 'housework': 2887, 'befouled': 563, 'steinbrenner': 5657, 'movie': 3888, 'sleigh-horses': 5369, 'keep': 3213, 'invented': 3061, 'cock': 1189, 'stupid': 5737, 'er': 1956, 'yak': 6715, 'realizing': 4765, 'pointy': 4471, 'ointment': 4142, 'hopeful': 2859, 'problems': 4589, 'exhibit': 2011, 'homer_doubles:': 2837, \"kid's\": 3235, 'throats': 6040, 'continuing': 1302, 'mckinley': 3688, 'relaxing': 4812, 'heavyweight': 2739, 'good': 2510, 'doll': 1696, 'again': 162, \"barney's\": 489, 'booger': 696, 'goods': 2514, 'thought_bubble_lenny:': 6026, 'sat': 5040, \"drawin'\": 1743, 'miss': 3792, 'stagy': 5600, \"'til\": 20, '_babcock:': 62, 'funny': 2370, 'self-centered': 5140, \"man'd\": 3621, 'talk': 5866, 'ehhhhhhhh': 1874, 'home': 2829, 'comedy': 1224, 'naively': 3945, 'spent': 5541, 'statesmanlike': 5633, 'stern': 5661, 'did': 1607, 'sound': 5505, 'books': 701, 'choose': 1103, 'fellow': 2127, 'labor': 3307, 'recommend': 4779, \"how's\": 2892, 'pretzel': 4564, 'cards': 944, 'tooth': 6112, 'feast': 2111, \"lookin'\": 3509, 'bedroom': 547, 'tubman': 6201, 'race': 4696, 'love-matic': 3539, 'pancakes': 4253, 'whaaaa': 6510, 'honeys': 2845, 'lizard': 3477, 'pure': 4652, 'incapable': 2978, 'reciting': 4777, 'heals': 2717, 'vodka': 6380, 'stinger': 5673, \"father's\": 2098, 'poorer': 4492, 'vicious': 6361, 'surprise': 5796, 'mock': 3816, 'happy': 2674, 'wonderful': 6646, 'alter': 236, 'territorial': 5946, 'edelbrock': 1853, 'ooh': 4168, 'singing': 5313, 'lumpa': 3564, 'churchy': 1126, 'watashi': 6450, 'computer': 1260, 'soap': 5451, 'authorized': 402, 'direction': 1635, \"seein'\": 5127, 'reward': 4880, 'mickey': 3745, \"'s\": 19, 'louie:': 3534, 'finally': 2167, 'terrified': 5944, \"smokin'\": 5411, 'round': 4949, 'sneering': 5431, 'm': 3574, 'ask': 360, 'rich': 4887, 'jailbird': 3116, 'complete': 1250, 'bullet-proof': 832, 'charm': 1041, \"costume's\": 1333, 'assent': 368, \"drivin'\": 1769, 'shoulder': 5249, 'smug': 5415, 'ruuuule': 4988, 'handoff': 2651, 'eggs': 1869, 'flips': 2224, 'disgraceful': 1656, 'other_book_club_member:': 4196, 'rhyme': 4884, 'proves': 4624, 'selection': 5137, 'sees': 5134, 'kicks': 3233, 'presided': 4546, 'ya': 6713, 'drummer': 1780, 'price': 4566, 'hears': 2724, 'banned': 468, 'selma_bouvier:': 5149, 'whaddya': 6512, 'introduce': 3059, 'gas': 2408, 'pudgy': 4632, 'bolting': 685, 'steam': 5650, 'soft': 5465, 'daaaaad': 1457, 'supplying': 5787, 'clinton': 1161, 'blind': 651, 'eyesore': 2046, 'vengeance': 6348, 'banquet': 470, 'photographer': 4371, 'bully': 834, 'coincidentally': 1201, 'happen': 2667, 'cutting': 1451, 'although': 238, \"bar's\": 473, '__period__': 56, \"sippin'\": 5321, 'night-crawlers': 4029, 'yoo': 6746, 'scientists': 5081, 'won': 6642, 'and': 263, 'royal': 4955, 'met': 3732, 'pretend': 4557, 'bold': 684, 'candy': 924, 'manjula_nahasapeemapetilon:': 3638, 'company': 1241, 'became': 541, 'emphasis': 1910, 'runaway': 4978, 'bread': 760, 'refund': 4800, 'admitting': 135, 'loser': 3519, 'failed': 2061, 'poem': 4460, 'misconstrue': 3789, 'upbeat': 6311, 'evergreen': 1978, 'bartending': 503, 'person': 4350, 'lose': 3518, 'gentlemen': 2431, 'patterns': 4301, 'fact': 2056, 'hosting': 2874, \"dimwit's\": 1627, 'meaningful': 3697, 'smells': 5399, 'ah-ha': 183, 'jumping': 3190, 'normals': 4064, 'brace': 743, 'now': 4082, 'steamed': 5651, 'sentimonies': 5162, \"fightin'\": 2151, \"collector's\": 1208, 'cents': 1002, 'patty_bouvier:': 4304, 'kinds': 3255, 'getaway': 2443, 'b-day': 428, 'inspire': 3031, 'done:': 1712, 'rain': 4715, 'midnight': 3755, 'guilt': 2595, 'branding': 753, '2nd_voice_on_transmitter:': 37, 'quietly': 4685, \"wouldn't\": 6680, 'guns': 2606, 'arrested:': 348, 'dude': 1789, 'like': 3432, 'sex': 5180, 'temper': 5927, 'practically': 4522, 'accepting': 99, 'gutenberg': 2611, 'watered-down': 6457, 'surprised/thrilled': 5798, 'aisle': 197, 'expecting': 2016, 'cell-ee': 999, '10:15': 29, 'yap': 6717, 'holds': 2820, 'crushed': 1423, 'tolerance': 6091, 'vacuum': 6335, 'missing': 3795, \"weren't\": 6504, 'horses': 2868, 'snotty': 5442, 'weary': 6483, 'second': 5117, 'uses': 6326, 'sweet': 5819, 'solved': 5472, \"show's\": 5255, 'caused': 987, 'sunglasses': 5772, 'bar': 472, 'alls': 225, 'around': 345, 'vulnerable': 6393, 'women': 6641, 'micronesian': 3747, 'feet': 2121, 'ehhhhhhhhh': 1875, 'whistling': 6550, 'engraved': 1933, 'poin-dexterous': 4464, 'however': 2893, 'ripper': 4910, 'pond': 4488, 'radiator': 4699, 'thinking': 6004, 'martini': 3658, 'inexorable': 3001, 'doppler': 1722, 'rubs': 4961, \"poisonin'\": 4473, 'cheesecake': 1067, 'clips': 1163, 'cruise': 1418, 'specific': 5531, 'depressed': 1572, 'honest': 2843, \"robbin'\": 4919, 'war': 6429, \"somebody's\": 5476, 'alva': 239, 'staying': 5644, 'broke': 795, 'swishkabobs': 5835, 'fishing': 2192, 'rainier_wolfcastle:': 4719, 'might': 3756, 'não': 4095, 'temporarily': 5930, 'plans': 4425, 'plan': 4419, 'hungry': 2911, 'blinds': 653, 'fridge': 2331, 'academy': 94, 'marriage': 3654, 'kool': 3294, 'earlier': 1827, 'know': 3282, 'teenage': 5913, 'b': 426, 'longer': 3502, 'waltz': 6421, 'log': 3496, 'closet': 1170, 'annus': 283, 'rice': 4886, 'twenty-six': 6229, 'gamble': 2394, 'burglary': 847, 'mobile': 3815, 'rounds': 4951, 'abe': 81, 'car:': 941, 'betrayed': 598, 'phrase': 4373, 'blade': 638, 'deserve': 1579, 'squeeze': 5586, 'causes': 988, 'rocks': 4924, 'hawaii': 2704, 'putting': 4665, 'data': 1489, 'contemplates': 1296, 'short_man:': 5241, 'alright': 234, 'felt': 2129, 'piano': 4376, \"challengin'\": 1016, 'hop': 2856, \"england's\": 1931, 'urinal': 6321, 'fast': 2089, 'pointed': 4466, 'usually': 6330, 'it:': 3092, \"cupid's\": 1435, 'jackass': 3106, 'stand': 5610, 'ew': 1988, 'self-satisfied': 5143, 'slipped': 5377, 'simple': 5300, 'corporation': 1325, 'release': 4813, 'lost': 3523, 'chuckles': 1115, 'frazier': 2314, 'mexican_duffman:': 3737, 'jackpot-thief': 3108, 'glorious': 2487, 'chumbawamba': 1121, 'raises': 4722, 'does': 1689, 'reporter': 4852, 'runs': 4981, 'dice': 1604, 'ralph_wiggum:': 4726, 'szyslak': 5847, 'ashtray': 358, 'series': 5165, \"listenin'\": 3462, 'cheryl': 1069, 'conference': 1272, \"messin'\": 3731, 'peeved': 4322, 'th-th-th-the': 5959, \"bein'\": 573, 'usual': 6329, 'german': 2436, 'bloodiest': 664, 'flaming': 2208, 'stab': 5593, 'sighs': 5290, 'various': 6345, 'neighboreeno': 3990, 'argue': 335, 'suru': 5800, 'co-sign': 1180, 'right': 4900, 'frenchman': 2324, 'whip': 6544, 'sea': 5106, \"america's\": 251, 'skydiving': 5358, 'gag': 2389, 'young': 6753, 'politicians': 4484, 'necessary': 3977, 'tavern': 5894, 'foibles': 2244, \"washin'\": 6444, 'rife': 4897, 'snatch': 5428, 'simp-sonnnn': 5299, 'statistician': 5636, 'slot': 5385, 'lame': 3319, 'ferry': 2136, 'decency': 1519, 'thinks': 6005, 'cuff': 1430, 'belly': 582, 'frontrunner': 2348, 'nash': 3960, 'haikus': 2627, 'fills': 2162, 'cruel': 1417, 'minus': 3782, 'yes': 6737, 'field': 2144, 'chairman': 1014, 'radio': 4701, 'doy': 1731, 'item': 3095, 'nail': 3943, 'begin': 568, 'excited': 2002, 'pillows': 4393, 'strategy': 5712, 'grocery': 2571, \"here's\": 2764, 'live': 3471, \"countin'\": 1344, 'ease': 1833, 'hyahh': 2923, 'nature': 3965, 'hundred': 2908, 'amazing': 244, 'detective_homer_simpson:': 1592, 'raggie': 4708, 'clenched': 1155, \"fun's\": 2365, 'roz': 4956, 'anonymous': 284, 'scruffy_blogger:': 5100, 'here': 2763, 'nonchalantly': 4053, 'created': 1387, \"daughter's\": 1495, 'dreamily': 1747, 'drinking': 1761, 'bide': 609, 'civilization': 1136, 'quebec': 4675, 'bust': 867, 'manfred': 3635, 'fighting': 2152, 'example': 1993, 'crap': 1377, 'ref': 4790, 'appreciated': 321, 'joey': 3159, 'bart_simpson:': 499, 'janette': 3122, 'van': 6342, 'maximum': 3676, 'career': 946, 'fireball': 2182, 'fatso': 2099, 'chosen': 1106, 'likes': 3433, 'rector': 4786, 'kissingher': 3266, 'number': 4088, 'come': 1221, 'counterfeit': 1343, 'equal': 1954, 'passes': 4285, \"crawlin'\": 1382, 'outstanding': 4211, 'pizza': 4412, 'rafter': 4704, 'apron': 324, 'barn': 487, 'wanna': 6424, 'couch': 1335, 'friend:': 2334, 'daddy': 1460, 'innocence': 3018, 'parenting': 4267, 'much': 3897, 'maude': 3674, 'certain': 1006, 'badmouth': 448, 'bye': 886, 'discuss': 1652, 'copy': 1319, 'man_at_bar:': 3625, 'willing': 6588, 'prank': 4525, 'concerned': 1265, 'says': 5059, 'milhouse': 3761, 'determined': 1593, 'radioactive': 4702, 'trashed': 6156, 'easily': 1835, 'resenting': 4859, 'getting': 2447, 'exploiter': 2027, 'sobs': 5458, 'intervention': 3052, 'nibble': 4018, 'gulliver_dark:': 2598, 'call': 905, 'case': 968, 'cheat': 1053, 'engine': 1929, 'ze-ro': 6770, 'jaegermeister': 3114, 'parasol': 4265, 'considering': 1286, 'seething': 5136, 'sight-unseen': 5292, 'stalwart': 5606, 'glasses': 2480, 'word': 6657, 'combines': 1220, 'restroom': 4870, \"she's\": 5212, 'drop-off': 1774, 'skin': 5349, 'sudden': 5753, 'schemes': 5072, 'attracted': 390, 'leprechaun': 3394, 'hollye': 2826, 'tender': 5933, 'effervescence': 1865, 'venom': 6350, 'infatuation': 3002, 'incriminating': 2988, 'uniforms': 6290, 'puzzle': 4667, 'brilliant': 783, 'humiliation': 2907, 'complicated': 1253, 'alien': 212, 'rev': 4877, 'passion': 4286, 'telegraph': 5918, \"'now\": 15, 'exchange': 2000, 'compadre': 1240, 'sickly': 5280, 'goodnight': 2513, 'halfway': 2637, 'hunting': 2915, 'old-time': 4146, 'fontaine': 2255, 'hobo': 2815, 'inclination': 2981, 'aerospace': 149, 'aid': 189, \"treatin'\": 6160, 'gol-dangit': 2502, \"monroe's\": 3848, 'unexplained': 6281, 'schorr': 5078, 'sickens': 5279, 'taps': 5884, 'calmly': 911, 'pee': 4320, 'sell': 5145, 'jokes': 3170, 'mexicans': 3738, 'launch': 3348, 'assassination': 367, 'enter': 1941, 'greedy': 2555, 'lee': 3370, 'whoopi': 6564, 'bathed': 513, 'seamstress': 5108, 'future': 2380, 'stairs': 5602, 'tomatoes': 6095, 'detecting': 1590, 'brunch': 810, 'pants': 4258, 'specialists': 5527, 'follow': 2249, 'wallet': 6415, 'suing': 5764, 'superior': 5781, 'full': 2357, 'young_barfly:': 6754, 'carl': 952, 'wayne': 6466, 'thanking': 5964, 'nice': 4019, 'i-i-i': 2938, 'befriend': 564, 'mona_simpson:': 3840, 'aer': 147, 'flatly': 2216, 'klown': 3270, 'outrageous': 4208, 'sperm': 5542, 'quarterback': 4674, 'straighten': 5704, 'music': 3923, 'startup': 5628, 'sing': 5308, 'extremely': 2037, 'pickles': 4382, 'juke': 3184, 'rusty': 4986, 'yammering': 6716, 'reluctant': 4820, 'tactful': 5856, 'drive': 1764, 'sensible': 5159, 'death': 1516, 'boozy': 708, 'clap': 1141, 'measurements': 3704, 'lugs': 3562, 'booze': 703, 'uncreeped-out': 6267, 'thirteen': 6008, 'beatings': 535, 'directions': 1636, \"guy's\": 2615, 'insightful': 3027, 'sips': 5322, 'shut': 5271, \"queen's\": 4677, 'arimasen': 337, 'falling': 2072, 'keeping': 3214, 'child': 1079, 'pus-bucket': 4656, 'elder': 1889, 'fantastic': 2084, \"that'll\": 5969, 'adequate': 127, '&': 1, 'weird': 6494, 'gregor': 2557, 'hmmm': 2808, 'every': 1979, 'bunion': 843, 'man': 3620, \"children's\": 1082, 'alec_baldwin:': 207, 'pews': 4358, 'crumble': 1420, \"she'll\": 5211, \"we're\": 6473, 'carl_carlson:': 955, 'aunt': 399, 'upon': 6315, 'woozy': 6656, 'fabulous': 2049, 'corkscrew': 1320, 'sob': 5453, 'happens': 2669, 'lenny_leonard:': 3389, 'wish-meat': 6617, \"cashin'\": 971, 'wake': 6407, \"thing's\": 5999, 'worked': 6662, 'taxi': 5897, 'burning': 851, 'buttocks': 874, 'riding': 4896, 'bucks': 817, 'tabs': 5855, 'rueful': 4964, 'eleven': 1894, 'leaving': 3367, 'dumb': 1803, 'intruding': 3060, 'manuel': 3640, 'dizer': 1683, 'carefully': 948, 'satisfied': 5044, 'tied': 6056, 'youngsters': 6758, 'administration': 130, 'moe-lennium': 3829, 'rip-off': 4907, 'palm': 4251, 'asking': 363, 'sternly': 5662, 'puts': 4663, 'montrer': 3852, 'handler': 2649, 'carney': 960, 'flame': 2206, 'wipes': 6611, 'knocked': 3279, 'wrap': 6686, 'streetlights': 5716, 'end': 1920, 'awww': 422, 'fit': 2195, 'apply': 318, 'presumir': 4556, 'defected': 1535, 'bring': 785, 'fortune': 2289, 'seductive': 5125, 'innocent': 3019, 'tv_announcer:': 6216, 'mission': 3796, 'meaningfully': 3698, 'spinning': 5548, 'unsafe': 6303, 'grade': 2531, 'ding-a-ding-ding-ding-ding-ding-ding': 1629, 'ihop': 2956, 'group': 2575, 'wiggum': 6579, 'limited': 3438, 'fire': 2180, 'sitcom': 5331, 'menlo': 3726, 'reynolds': 4882, \"talkin'\": 5871, 'hippies': 2794, 'windowshade': 6598, \"hasn't\": 2691, 'beanbag': 526, 'moe-near-now': 3830, 'movies': 3889, 'hoax': 2814, 'bonding': 688, 'rome': 4934, \"usin'\": 6327, 'magazine': 3591, 'fdic': 2109, 'replace': 4850, 'pridesters:': 4570, 'intention': 3046, 'confidence': 1274, 'read:': 4754, 'spare': 5522, 'detective': 1591, 'guide': 2594, 'carnival': 961, 'looser': 3513, 'two-thirds-empty': 6237, 'rub': 4958, 'i': 2927, 'shareholder': 5202, 'wash': 6441, 'purveyor': 4655, 'answered': 287, 'nucular': 4085, 'wolveriskey': 6636, 'suave': 5741, 'voodoo': 6387, 'sweetest': 5821, 'de-scramble': 1503, 'w': 6394, 'haws': 2707, 'dry': 1785, 'cab': 892, 'table': 5851, 'quick-like': 4682, 'picky': 4383, 'winces': 6591, 'sign': 5293, 'coffee': 1197, 'total': 6118, 'pigs': 4389, 'fortensky': 2287, 'power': 4518, \"game's\": 2397, 'stonewall': 5688, 'tell': 5922, 'diminish': 1625, 'near': 3973, 'pepto-bismol': 4334, 'japanese': 3123, \"ladies'\": 3311, 'chum': 1120, 'suspicious': 5806, 'sounded': 5506, 'shutting': 5273, 'meal': 3692, 'other_player:': 4197, \"c'mere\": 889, 'am': 241, 'luxury': 3572, 'wound': 6682, 'investigating': 3062, 'least': 3363, 'gabriel:': 2388, 'plum': 4454, 'wuss': 6702, \"'bout\": 3, 'safely': 5005, 'sadistic_barfly:': 5001, 'crony': 1405, 'skunk': 5356, 'figure': 2154, 'ridiculous': 4894, 'bedridden': 546, 'knees': 3272, 'proper': 4613, 'suffering': 5759, 'beauty': 540, 'fastest': 2092, 'insensitive': 3023, 'cute': 1448, 'agents': 171, 'recently': 4775, 'wudgy': 6701, 'mind': 3771, 'names': 3951, 'skinheads': 5350, 'fumigated': 2363, 'prove': 4623, 'tigers': 6058, 'television': 5921, 'george': 2435, 'milhouse_van_houten:': 3762, 'len-ny': 3383, 'hike': 2787, 'oak': 4101, 'noosey': 4059, 'entirely': 1949, 'championship': 1020, '__exclamation_mark__': 54, 'options': 4182, 'innocuous': 3020, 'already': 233, 'die-hard': 1611, 'fausto': 2103, 'perplexed': 4348, 'oh-ho': 4135, 'headhunters': 2714, 'madman': 3588, 'evil': 1986, 'pursue': 4654, 'dessert': 1587, 'newly-published': 4010, 'accusing': 106, 'u': 6243, 'horrors': 2867, 'tv_wife:': 6220, 'professor': 4597, 'extreme': 2036, 'minute': 3783, 'designated': 1581, 'promised': 4607, 'yet': 6740, 'ninety-six': 4037, 'louisiana': 3535, 'gimmicks': 2465, 'permanent': 4345, \"fendin'\": 2135, \"wouldn't-a\": 6681, 'pepsi': 4333, 'anarchy': 260, 'menace': 3724, \"takin'\": 5863, 'slim': 5375, 'superdad': 5779, 'prize': 4583, 'capuchin': 938, 'gossipy': 2520, 'squadron': 5581, 'somehow': 5478, 'white_rabbit:': 6552, 'delicious': 1548, 'rent': 4842, 'finger': 2174, 'pub': 4627, 'write': 6693, 'softer': 5466, 'moe-clone': 3826, 'poor': 4491, 'moonlight': 3856, 'fool': 2259, 'kissing': 3265, 'coins': 1203, 'guts': 2612, 'eat': 1841, 'register': 4801, 'motto': 3878, 'tree': 6162, 'family-owned': 2077, 'rump': 4976, 'fancy': 2081, 'marshmallow': 3657, 'creates': 1388, 'friendly': 2335, 'till': 6060, 'badly': 447, 'polenta': 4478, 'simpsons': 5303, \"chewin'\": 1072, 'jets': 3147, 'listen': 3460, 'lobster-based': 3487, 'half-back': 2634, 'triumphantly': 6177, 'bumbling': 837, 'gallon': 2392, 'lot': 3524, 'totalitarians': 6119, 'peter_buck:': 4356, 'sisters': 5327, 'h': 2618, 'poulet': 4513, 'greystash': 2560, 'train': 6144, 'card': 943, 'husband': 2920, 'avec': 406, 'city': 1132, 'sister-in-law': 5326, 'center': 1001, 'abercrombie': 82, 'sneaky': 5430, 'tang': 5874, 'mystery': 3936, \"poundin'\": 4514, 'perverse': 4352, 'frosty': 2349, 'peter': 4355, 'top': 6114, 'castle': 973, 'moonnnnnnnn': 3857, \"g'on\": 2385, 'east': 1836, 'corpses': 1326, 'jumps': 3191, 'bottle': 716, 'seymour_skinner:': 5185, \"'im\": 11, 'sandwich': 5028, 'wonder': 6644, 'in': 2974, 'carpet': 964, 'stamp': 5607, 'letter': 3400, 'said:': 5013, 'teeth': 5917, 'chuckle': 1114, 'so-called': 5446, 'thirty-thousand': 6012, 'versus': 6355, 'authenticity': 400, 'compared': 1243, 'ping-pong': 4400, 'securities': 5123, 'die': 1610, 'woodchucks': 6652, 'football_announcer:': 2265, 'stones': 5687, 'mid-conversation': 3750, 'germany': 2438, 'longest': 3503, 'knuckles': 3289, 'ow': 4219, \"we'd\": 6471, 'indignant': 2997, 'rookie': 4939, 'committee': 1236, 'sexy': 5183, 'before': 562, 'excavating': 1996, 'volunteer': 6385, 'voters': 6390, \"rustlin'\": 4985, 'nominated': 4049, 'flaking': 2205, 'pardon': 4266, 'whaddaya': 6511, \"carl's\": 953, 'lights': 3431, 'suicide': 5763, 'furious': 2371, 'stage': 5597, 'driver': 1766, 'in-in-in': 2976, 'you-need-man': 6752, 'cherry': 1068, 'aged_moe:': 166, 'eu': 1967, 'suddenly': 5754, 'month': 3850, 'rub-a-dub': 4959, 'contract': 1304, 'dishonor': 1661, 'allegiance': 220, 'garbage': 2402, 'canyonero': 930, 'mags': 3596, 'land': 3321, \"bart's\": 498, 'thanks': 5965, \"could've\": 1339, 'dee-fense': 1529, 'provide': 4625, 'touches': 6124, 'pleased': 4446, 'thirty-five': 6010, 'lighten': 3428, 'champs': 1021, 'multi-purpose': 3907, 'koji': 3293, 'tummies': 6203, 'kinderhook': 3253, 'lady-free': 3314, 'including': 2982, 'wally': 6417, 'lurleen': 3567, 'hiya': 2804, 'jockey': 3157, 'society': 5461, 'plastic': 4431, 'soul': 5503, 'delts': 1555, 'releases': 4814, 'slaves': 5363, 'planning': 4424, 'casting': 972, 'personal': 4351, 'smugglers': 5417, 'computer_voice_2:': 1261, 'rolls': 4930, 'derisive': 1578, 'hits': 2803, 'agent': 168, 'veux': 6360, 'scary': 5066, 'sadly': 5002, 'boxers': 735, 'spreads': 5574, 'counting': 1345, 'grandmother': 2542, 'skeptical': 5345, 'congratulations': 1280, 'powerful': 4520, 'formico': 2285, 'fayed': 2106, 'glitterati': 2484, 'chapel': 1030, 'cockroaches': 1192, 'chance': 1022, 'pop': 4493, 'wa': 6396, 'tasty': 5889, 'phony': 4369, 'chastity': 1045, 'swallowed': 5809, 'trash': 6155, 'rats': 4743, \"tap-pullin'\": 5879, 'mug': 3901, 'edna-lover-one-seventy-two': 1859, 'band': 465, 'lessons': 3397, 'aggravated': 173, 'gee': 2418, 'dashes': 1488, 'ing': 3010, 'therapy': 5986, 'she': 5209, 'tune': 6205, 'cap': 931, 'buyer': 880, 'pink': 4401, 'question': 4680, '70': 47, 'andy': 270, 'fbi': 2107, 'nuts': 4094, 'break-up': 762, 'stayed': 5642, 'eight': 1876, 'idealistic': 2947, 'mulder': 3904, \"o'reilly\": 4100, 'ladies': 3310, 'masks': 3662, 'upgrade': 6313, 'grain': 2532, 'cleaner': 1147, 'christopher': 1110, 'stacey': 5595, 'grumbling': 2585, 'english': 1932, 'huge': 2899, 'cavern': 990, 'squirrels': 5590, 'urban': 6319, 'mr': 3893, 'vacation': 6333, \"larry's\": 3334, 'listened': 3461, 'cheated': 1054, 'gifts': 2458, 'pressure': 4553, 'funniest': 2369, 'opportunity': 4179, 'earrings': 1830, 'attractive': 392, 'long': 3501, 'unable': 6259, 'nerve': 4001, 'kidnaps': 3238, 'blows': 670, 'common': 1238, 'whole': 6561, 'naval': 3968, 'term': 5939, 'hard': 2676, 'rekindle': 4807, 'then:': 5983, 'mozzarella': 3892, 'placed': 4415, 'sold': 5468, 'name': 3947, 'kirk_voice_milhouse:': 3260, 'mini-beret': 3776, 'looking': 3510, 'murmur': 3916, 'helpless': 2756, 'package': 4230, 'upset': 6316, 'patron_#2:': 4297, 'woulda': 6679, 'platinum': 4432, 'joining': 3167, 'hurry': 2916, 'motor': 3876, 'portentous': 4502, 'daniel': 1477, 'retain': 4873, 'distinct': 1672, 'traditions': 6140, 'old_jewish_man:': 4147, \"kearney's_dad:\": 3211, 'guessing': 2591, 'marched': 3643, 'kisses': 3264, 'absolutely': 91, 'pantsless': 4259, 'four-star': 2302, 'baritone': 484, 'difference': 1616, 'videotaped': 6366, 'jar': 3124, 'spacey': 5518, 'espousing': 1963, 'very': 6357, 'figures': 2156, 'stevie': 5663, 'winks': 6603, 'face-macer': 2051, 'phlegm': 4366, 'hotline': 2879, 'stuff': 5734, \"cleanin'\": 1148, 'tease': 5908, 'art': 351, 'rem': 4822, 'made': 3586, 'late': 3339, 'propose': 4614, 'elaborate': 1888, 'chow': 1107, 'massachusetts': 3664, 'danish': 1478, 'sap': 5036, 'girlfriend': 2471, 'oblivious': 4104, 'characteristic': 1034, 'involving': 3069, 'police': 4479, 'prepared': 4541, 'amount': 257, 'friend': 2332, 'kidney': 3239, 'kissed': 3262, \"when's\": 6532, 'pizzicato': 4413, 'jubilation': 3178, 'glitz': 2485, \"team's\": 5903, 'mortgage': 3868, 'indeedy': 2991, 'popped': 4497, 'exact': 1990, 'rationalizing': 4742, 'narrator:': 3957, 'gardens': 2403, 'designer': 1582, 'coward': 1363, 'goodwill': 2515, 'lurks': 3566, 'wrong': 6699, 'enemy': 1926, 'youth': 6765, 'please': 4444, 'dyspeptic': 1819, 'everyday': 1981, 'maya:': 3679, 'sport': 5566, 'awkward': 419, 'dollface': 1700, 'venture': 6352, 'pin': 4396, 'strawberry': 5713, 'sad': 4999, 'activity': 116, 'onions': 4162, 'forward': 2295, 'brawled': 759, 'distraught': 1674, 'sheet': 5215, 'der': 1576, \"let's\": 3399, 'forced': 2270, 'appropriate': 322, 'gut': 2610, 'brought': 806, \"payin'\": 4310, 'dogs': 1693, \"moe's\": 3824, 'unlucky': 6301, 'sadder': 5000, 'correct': 1327, 'cricket': 1396, 'acceptance': 98, 'him': 2792, 'exits': 2014, 'generosity': 2424, 'church': 1124, 'crank': 1376, 'doof': 1717, 'a-a-b-b-a': 74, 'celebrate': 993, 'peppers': 4331, 'market': 3651, \"didn't\": 1609, 'skins': 5353, 'cross-country': 1407, 'nooo': 4056, 'junkyard': 3194, 'jesus': 3145, 'unless': 6298, 'slyly': 5391, 'rummy': 4974, 'thoughtfully': 6028, 'hardwood': 2679, 'plane': 4420, 'pay': 4307, 'lie': 3412, 'mamma': 3619, 'grants': 2546, 'freed': 2319, 'declare': 1527, 'papa': 4260, \"yesterday's\": 6739, 'heart': 2726, 'breathtaking': 771, 'golf': 2506, 'courage': 1352, 'wedding': 6486, \"showin'\": 5260, 'seeing': 5128, 'squeal': 5584, 'ling': 3446, 'lifts': 3426, 'brothers': 805, \"meanin'\": 3695, 'squabbled': 5579, 'friendship': 2337, 'empty': 1914, 'odd': 4118, 'what': 6515, 'babe': 430, 'can': 918, 'carmichael': 959, 'mom': 3836, 'curious': 1439, 'eating': 1845, 'needed': 3984, 'few': 2140, 'ballot': 461, 'angrily': 273, \"donatin'\": 1709, 'foil': 2245, \"doin'\": 1694, 'sustain': 5808, 'poison': 4472, 'underbridge': 6270, 'two-drink': 6236, 'first': 2189, 'duffman:': 1798, 'best': 595, 'punches': 4647, 'director:': 1638, 'x': 6704, 'darts': 1486, 'tracks': 6137, 'habit': 2621, 'smokes': 5410, 'al': 198, 'tommy': 6096, 'bulletin': 833, 'sky': 5357, 'hired': 2795, 'sledge-hammer': 5365, 'eaters': 1843, 'kicked': 3231, 'eggshell': 1870, 'fraud': 2313, 'answers': 289, 'occurred': 4113, 'maxed': 3675, 'singer': 5310, 'fierce': 2145, 'neanderthal': 3972, 'row': 4953, 'sacajawea': 4995, 'presidential': 4549, 'puke-pail': 4638, 'understand': 6273, 'mm-hmm': 3806, \"wallet's\": 6416, 'thirty-nine': 6011, 'sassy': 5039, 'mate': 3668, 'photo': 4370, 'chained': 1012, 'low': 3548, 'buddy': 820, 'forty-seven': 2293, 'phase': 4361, 'jam': 3117, 'mt': 3895, \"you're\": 6750, 'woman:': 6638, \"rentin'\": 4844, 'railroad': 4713, 'spits': 5554, 'tee': 5911, 'disposal': 1668, 'eager': 1825, 'bashir': 510, 'queer': 4678, 'balloon': 460, 'religious': 4819, 'pays': 4313, 'nineteen': 4033, 'makes': 3608, 'thought_bubble_homer:': 6025, 'decide:': 1522, 'file': 2158, \"what'd\": 6516, 'stuck': 5730, 'dictating': 1605, 'indeed': 2990, 'party': 4280, 'uneasy': 6280, 'binoculars': 624, 'begging': 567, 'fountain': 2299, 'rosey': 4945, 'states': 5632, 'scanning': 5062, \"ragin'\": 4710, 'confession': 1273, 'rope': 4943, 'situation': 5336, 'vote': 6388, 'mumbling': 3910, 'dennis_conroy:': 1561, 'disdainful': 1654, 'have': 2699, 'government': 2525, 'darkness': 1484, 'program': 4601, 'ho': 2810, 'had': 2623, 'paper': 4262, 'backing': 440, 'hangout': 2660, 'bees': 561, 'other': 4194, 'nudge': 4086, 'glad': 2477, 'smart': 5396, 'title': 6074, 'renee:': 4838, 'worst': 6675, 'pockets': 4459, 'else': 1901, 'unrelated': 6302, 'philosophical': 4365, 'lighting': 3430, 'beady': 524, 'no': 4041, 'snail': 5420, 'ohh': 4137, 'your': 6759, 'back': 436, 'painting': 4244, 'under': 6269, 'sympathizer': 5840, 'charlie': 1039, 'mid-seventies': 3751, \"they'd\": 5993, 'nailed': 3944, 'gift:': 2457, 'kemi:': 3218, 'blowfish': 667, 'creeps': 1391, 'are': 332, \"cheerin'\": 1061, 'socratic': 5463, 'left': 3371, 'horrified': 2865, 'offensive': 4126, 'shores': 5239, 'crying': 1424, 'someone': 5479, 'vance': 6343, 'pills': 4394, \"gentleman's\": 2429, 'ron_howard:': 4936, 'portfolium': 4503, 'shack': 5186, 'compete': 1245, 'peanuts': 4319, 'africa': 156, \"fishin'\": 2191, 'kearney_zzyzwicz:': 3212, 'horribilis': 2863, 'managed': 3629, 'must': 3928, 'civil': 1135, 'luv': 3571, 'anything': 301, 'pilsner-pusher': 4395, 'glen': 2482, 'sued': 5758, 'unfamiliar': 6283, 'depressing': 1574, 'plums': 4455, 'yours': 6760, 'payback': 4308, 'heh-heh': 2742, 'lovejoy': 3541, 'evening': 1974, 'payday': 4309, 'fold': 2246, 'feisty': 2122, 'cases': 969, 'voted': 6389, 'lisa_simpson:': 3456, 'hearts': 2730, 'stays': 5645, 'process': 4591, 'think': 6002, 'obama': 4102, 'employment': 1912, 'cocks': 1193, 'jay': 3126, 'orgasmville': 4189, 'dress': 1753, \"'er\": 8, 'actress': 119, 'turning': 6210, 'lucius': 3556, 'crow': 1410, \"d'\": 1455, 'neck': 3978, 'comedies': 1223, 'beat': 533, 'emotion': 1908, 'fink': 2179, 'blood-thirsty': 661, 'aging': 177, 'laramie': 3330, 'anti-lock': 293, 'next': 4016, 'edison': 1856, 'army': 344, 'thorn': 6019, 'manipulation': 3636, 'chinua': 1089, 'adult': 139, 'laid': 3317, 'booth': 702, 'manjula': 3637, 'malfeasance': 3614, 'gordon': 2516, 'dealie': 1510, 'organ': 4188, 'weeks': 6491, 'menacing': 3725, 'let': 3398, 'butter': 872, 'jack_larson:': 3105, 'soaps': 5452, 'carolina': 963, 'burg': 845, 'foot': 2262, 'stan': 5609, 'behavior': 571, 'buffet': 824, '_kissingher:': 67, 'besides': 594, 'extract': 2035, 'cliff': 1159, 'haplessly': 2666, 'we': 6470, \"summer's\": 5769, 'mortal': 3867, 'yelp': 6735, 'senator': 5153, 'pas': 4281, 'lowers': 3552, 'chuck': 1113, 'club': 1178, 'sealed': 5107, 'eighty-five': 1880, 'actor': 117, 'handwriting': 2655, 'confidential': 1276, 'inserts': 3025, 'born': 710, 'cyrano': 1453, 'someday': 5477, \"spyin'\": 5578, 'sweetheart': 5822, 'appear': 312, 'they': 5992, 'sideshow_bob:': 5286, 'figured': 2155, 'dumpster': 1809, 'james': 3119, 'bee': 549, 'knew': 3273, 'seek': 5129, 'frink-y': 2341, 'chateau': 1046, 'happier': 2670, 'box': 730, 'lingus': 3447, 'ass': 366, 'professor_jonathan_frink:': 4599, 'pep': 4329, 'gunter': 2607, 'diving': 1681, 'toilet': 6086, 'bash': 509, 'presidents': 4550, 'gator': 2412, \"springfield's\": 5576, 'princess': 4574, 'chinese': 1087, 'wigs': 6580, 'predecessor': 4532, 'lifestyle': 3421, 'thirty-three': 6013, \"c'mon\": 891, 'har': 2675, 'seen': 5133, 'lover': 3544, 'united': 6294, 'vampire': 6340, 'knowledge': 3285, 'cover': 1359, 'producers': 4593, 'billy_the_kid:': 622, 'smiled': 5403, 'salvation': 5022, 'solves': 5473, 'outlook': 4207, 'impatient': 2965, 'bumblebee_man:': 836, 'answer': 286, 'mustard': 3931, 'ditched': 1678, \"bart'd\": 497, 'mess': 3729, 'thumb': 6048, 'hockey-fight': 2817, 'hollywood': 2827, 'virility': 6376, 'tying': 6238, 'entertainer': 1944, 'stengel': 5658, 'rabbits': 4694, 'cost': 1331, 'furiously': 2372, 'stalking': 5604, 'slays': 5364, 'guttural': 2613, 'increasingly': 2985, 'which': 6539, 'wreck': 6689, 'itself': 3098, 'convenient': 1307, 'valuable': 6338, 'throw': 6042, 'understood:': 6276, 'sketch': 5346, 'twin': 6233, 'ale': 206, 'waterfront': 6458, 'weirder': 6496, 'finding': 2170, 'latour': 3343, 'scene': 5068, 'butts': 878, 'isle': 3083, 'advertising': 145, 'gimmick': 2464, 'walking': 6412, 'newest': 4009, 'doreen': 1723, 'agh': 175, 'thnord': 6017, 'tab': 5849, \"stabbin'\": 5594, 'trick': 6172, 'barflies': 482, 'giving': 2476, 'awfully': 418, 'elizabeth': 1897, 'faiths': 2067, 'record': 4781, 'fuss': 2377, 'nelson_muntz:': 3997, 'sideshow': 5285, 'turns': 6211, 'starlets': 5619, '_marvin_monroe:': 68, 'steel': 5654, \"shootin'\": 5234, 'desperate': 1584, 'jeez': 3133, 'cecil_terwilliger:': 992, 'barkeep': 485, 'outs': 4209, 'low-blow': 3549, 'supermodel': 5783, 'expose': 2028, 'delivery_man:': 1554, 'diablo': 1599, 'issues': 3086, 'spectacular': 5533, 'cigarettes': 1128, 'procedure': 4590, 'numbers': 4090, 'ab': 78, 'money': 3842, 'lately': 3340, 'press': 4551, 'hearing': 2723, 'polygon': 4487, 'snide': 5433, 'surgery': 5795, 'secrets': 5121, 'smitty:': 5407, 'noooooooooo': 4057, 'sec_agent_#2:': 5116, 'charming': 1042, 'ore': 4187, 'draw': 1741, 'rid': 4892, 'egg': 1868, 'nectar': 3980, 'lone': 3498, 'bono': 693, 'also': 235, 'laugh': 3344, 'mansions': 3639, 'science': 5079, 'nascar': 3959, 'landlord': 3323, 'bender:': 589, 'elect': 1890, 'lighter': 3429, 'sesame': 5172, 'bum:': 835, 'pages': 4237, 'eight-year-old': 1877, 'beach': 522, 'fox': 2305, 'kl5-4796': 3268, 'sector': 5122, 'lou:': 3530, 'be-stainèd': 521, 'rolled': 4927, 'blubberino': 671, 'lance': 3320, 'saint': 5015, 'perhaps': 4342, 'collapse': 1206, 'project': 4604, \"o'clock\": 4098, 'aah': 77, 'well-wisher': 6499, \"betsy'll\": 600, 'arise': 338, 'cushion': 1442, 'nelson': 3996, 'barter': 504, 'breaking': 766, 'chip': 1090, 'intelligent': 3044, 'gasoline': 2409, 'mirror': 3786, 'chauffeur': 1047, 'anguished': 275, 'sobbing': 5454, 'known': 3286, 'homer_simpson:': 2838, 'massive': 3666, 'declan': 1525, 'krabappel': 3296, 'grabs': 2529, 'weapon': 6478, 'distaste': 1671, 'heart-broken': 2727, 'whatsit': 6526, 'shells': 5219, 'oh-so-sophisticated': 4136, 'involved': 3068, 'odor': 4120, 'billingsley': 619, 'pause': 4305, 'awareness': 412, 'socialize': 5460, 'scrutinizing': 5102, 'caveman': 989, 'at': 379, 'heliotrope': 2746, 'ends': 1924, 'conclusions': 1267, 'grave': 2548, \"raggin'\": 4709, \"y'see\": 6711, 'punch': 4646, 'pile': 4391, 'onto': 4166, 'recreate': 4784, 'marguerite:': 3648, 'patented': 4291, 'spews': 5543, 'gus': 2609, 'everybody': 1980, 'annie': 277, \"bettin'\": 602, 'view': 6367, 'forget-me-drinks': 2276, 'prefer': 4534, 'wrestle': 6691, 'giggle': 2460, 'bugs': 826, 'swigmore': 5828, 'toys': 6136, 'depending': 1569, 'population': 4500, 'playhouse': 4438, 'threw': 6037, '__left_parentheses__': 55, 'weather': 6484, 'played': 4435, 'whoa-ho': 6559, 'sumatran': 5767, 'sponsor': 5562, 'sitar': 5330, 'compromise:': 1259, 'reaching': 4750, 'tree_hoper:': 6164, 'cause': 986, 'bliss': 654, 'knock-up': 3278, 'bowling': 729, 'milks': 3767, 'cartoons': 966, 'half-beer': 2635, 'vehicle': 6347, 'crooks': 1406, 'front': 2347, 'ebullient': 1847, 'flynt': 2240, 'consulting': 1292, 'young_homer:': 6755, 'colossal': 1215, 'carlotta:': 957, 'culkin': 1431, \"calf's\": 903, 'unsanitary': 6304, 'yup': 6768, 'junior': 3193, 'rom': 4931, \"cont'd:\": 1293, 'employees': 1911, 'unjustly': 6296, 'pip': 4403, 'another': 285, 'spiritual': 5550, 'list': 3459, 'rainbows': 4716, 'cannoli': 925, 'jacks': 3109, 'watched': 6452, 'beast': 532, 'flophouse': 2229, 'fat_tony:': 2096, \"year's\": 6725, 'remaining': 4824, \"marge's\": 3646, 'freaking': 2316, 'seem': 5130, 'dearest': 1515, 'emergency': 1906, 'intrigued': 3057, 'wondering': 6648, 'stomach': 5686, 'lard': 3331, 'david_byrne:': 1497, 'unintelligent': 6292, 'hounds': 2881, 'transylvania': 6152, 'together': 6084, 'soothing': 5499, 'crowded': 1414, 'brandy': 754, \"heat's\": 2731, 'sequel': 5164, 'laughter': 3347, 'clothespins': 1173, 'playoff': 4441, 'vermont': 6354, 'different': 1617, 'standards': 5611, \"pressure's\": 4554, \"bringin'\": 786, 'ordered': 4185, 'means': 3700, 'mistake': 3797, 'quero': 4679, 'muhammad': 3903, 'more': 3861, 'handing': 2647, 'norway': 4066, \"narratin'\": 3956, 'her': 2762, 'syrup': 5845, 'who-o-oa': 6557, 'dynamite': 1818, 'misfire': 3791, 'ventriloquism': 6351, 'tragedy': 6142, 'pickled': 4381, 'icelandic': 2941, 'poster': 4510, 'modestly': 3822, 'north': 4065, 'brainiac': 750, 'birth': 626, 'pats': 4300, 'wage': 6400, 'sympathetic': 5839, \"bartender's\": 501, 'nahasapeemapetilon': 3942, 'hustle': 2922, 'weekly': 6490, 'cable': 894, 'looked': 3508, 'femininity': 2132, 'emotional': 1909, 'marvelous': 3659, \"he'd\": 2709, 'avalanche': 405, 'investment': 3063, 'nuclear': 4084, 'want': 6425, 'splattered': 5557, 'chief_wiggum:': 1078, 'even': 1973, 'mayor_joe_quimby:': 3683, 'focused': 2243, \"santa's\": 5034, 'song': 5494, 'infestation': 3003, 'medicine': 3710, 'utensils': 6331, 'stools': 5692, 'love': 3538, 'random': 4731, 'bets': 599, 'manboobs': 3633, 'horrible': 2864, 'sympathy': 5841, 'asks': 364, 'lady': 3312, 'squeezed': 5587, 'goodbye': 2512, 'red': 4787, 'coming': 1231, 'knives': 3276, 'present': 4542, 'manager': 3630, 'signed': 5295, 'bookie': 699, 'boozer': 707, 'grow': 2577, 'lenford': 3385, 'unbelievably': 6264, 'bachelorhood': 435, 'bar-boy': 474, 'plug': 4453, 'shelf': 5218, 'reviews': 4879, 'product': 4594, 'index': 2992, \"i'll\": 2930, 'located': 3490, 'page': 4235, 'turn': 6208, 'little_man:': 3470, 'new': 4007, 'sketching': 5347, 'domestic': 1703, 'wagering': 6401, 'trapping': 6154, 'last': 3338, 'ziffcorp': 6774, 'swings': 5833, 'cats': 981, 'broadway': 791, 'orders': 4186, 'ruled': 4971, 'event': 1975, 'two': 6235, 'bird': 625, 'captain:': 937, 'lear': 3359, 'ancestors': 261, 'edner': 1861, 'perfume': 4340, 'available': 404, 'necklace': 3979, 'soup': 5509, 'flower': 2231, 'honored': 2847, 'adeleine': 126, 'nerd': 4000, 'mechanical': 3707, 'lump': 3563, 'ignorance': 2953, \"nick's\": 4022, 'bumped': 839, 'knife': 3274, 'sue': 5757, \"'cause\": 4, 'fork': 2283, 'shyly': 5275, \"tester's\": 5953, 'tomahto': 6093, 'terrifying': 5945, 'court': 1354, 'muscles': 3920, 'straining': 5706, 'name:': 3948, 'lobster-politans': 3488, \"money's\": 3843, 'mugs': 3902, 'it': 3088, 'humanity': 2906, 'kenny': 3221, 'physical': 4374, 'rough': 4948, 'mostly': 3871, 'holy': 2828, 'bulked': 829, 'ripped': 4909, 'human': 2905, \"eatin'\": 1844, 'gimme': 2463, 'sunk': 5773, 'stunned': 5736, 'invited': 3067, 'inflated': 3005, 'reunion': 4876, 'calls': 909, 'stocking': 5683, 'dull': 1801, 'named': 3949, \"can't\": 919, 'regretful': 4803, 'groin': 2572, 'express': 2029, 'deadly': 1507, 'chest': 1070, \"mopin'\": 3860, 'push': 4657, 'lucky': 3561, 'sugar': 5760, 'burt': 857, 'murdered': 3913, \"kids'\": 3242, 'underwear': 6277, 'pre-columbian': 4528, 'shop': 5237, 'clipped': 1162, 'roz:': 4957, 'astronauts': 378, 'radical': 4700, \"swishifyin'\": 5834, 'denser': 1563, 'completely': 1251, 'inches': 2980, 'resist': 4863, \"'\": 2, 'damned': 1469, 'loan': 3483, 'spot': 5569, 'thawing': 5971, \"shouldn't\": 5251, 'miles': 3760, 'collateral': 1207, 'twenty-five': 6226, 'mouse': 3881, 'wisconsin': 6614, 'moe_recording:': 3832, 'salary': 5017, 'nick': 4021, 'pen': 4323, 'mint': 3781, 'its': 3097, 'because': 542, 'bourbon': 724, 'moustache': 3882, 'handsome': 2654, 'hmmmm': 2809, 'pennies': 4325, 'above': 87, 'ringing': 4904, 'paparazzo': 4261, 'babies': 431, 'journey': 3173, 'schizophrenia': 5073, 'hero': 2766, 'secret': 5119, 'relaxed': 4811, 'correcting': 1328, 'frozen': 2350, 'dough': 1729, 'memories': 3719, \"floatin'\": 2226, 'oooo': 4171, 'fiiiiile': 2157, 'sec': 5114, 'famous': 2078, \"friend's\": 2333, 'take-back': 5859, 'typed': 6240, 's': 4989, 'languages': 3328, 'lodge': 3494, 'dexterous': 1598, 'handle': 2648, 'praise': 4524, 'thrilled': 6038, 'protestantism': 4618, 'crowds': 1415, 'refiero': 4792, 'hems': 2760, 'snitch': 5438, 'sobo': 5456, 'sunny': 5774, 'attitude': 389, 'rotch': 4946, 'elmer': 1898, 'carl:': 954, 'risqué': 4912, 'crapmore': 1379, 'warmth': 6433, 'fighter': 2150, 'dejected': 1539, 'joe': 3158, 'key': 3227, 'charges': 1037, 'become': 543, 'yourselves': 6763, 'grandiose': 2540, 'bagged': 451, 'roll': 4926, 'partially': 4276, 'palmerston': 4252, 'apu': 325, \"that's\": 5970, 'lots': 3525, 'calendars': 902, 'distance': 1670, 'generous': 2425, 'billiard': 618, 'stupidly': 5739, 'legal': 3375, 'nuked': 4087, 'gosh': 2519, 'anger': 272, 'weirded-out': 6495, 'heck': 2740, 'reading:': 4758, 'exhale': 2009, 'richard:': 4889, 'mind-numbing': 3772, 'syndicate': 5843, 'trust': 6192, 'promise': 4606, 'walther': 6419, \"squeezin'\": 5588, \"how're\": 2891, 'theatah': 5975, 'beyond': 606, 'appalled': 309, 'r': 4693, 'taste': 5887, 'voice:': 6382, 'totally': 6120, 'south': 5513, 'obese': 4103, 'ne': 3971, 'endorsed': 1922, 'mis-statement': 3788, 'sugar-free': 5761, 'duff': 1793, 'making': 3610, 'thousands': 6033, 'biggest': 613, 'whee': 6527, 'abolish': 85, 'announcer:': 279, 'invite': 3066, \"industry's\": 2999, 'shortcomings': 5242, 'ads': 138, '__dash__': 53, 'jerking': 3140, 'someplace': 5481, 'while': 6540, 'problem': 4587, 'ride': 4893, 'publishers': 4631, 'and-and': 264, 'shard': 5200, 'dislike': 1664, 'exclusive:': 2005, 'talkative': 5868, 'street': 5714, 'enterprising': 1943, \"handwriting's\": 2656, 'ninth': 4038, 'mural': 3912, 'strains': 5707, 'spender': 5539, 'renew': 4839, 'seas': 5110, 'apart': 304, \"'cept\": 5, 'jigger': 3151, 'flailing': 2204, 'crunch': 1422, 'loss': 3522, 'mail': 3600, 'everywhere': 1985, 'check': 1055, 'lime': 3436, 'informant': 3008, 'wait': 6403, 'gunk': 2605, 'sudoku': 5755, 'enforced': 1928, 'jewelry': 3148, 'watered': 6456, 'tomorrow': 6097, 'incredible': 2986, 'eventually': 1976, 'bret': 772, 'swimmers': 5830, 'dirty': 1641, 'legally': 3376, 'local': 3489, 'thrust': 6047, 'storms': 5701, 'perón': 4354, 'some': 5474, 'deep': 1530, 'drollery': 1771, 'pirate': 4406, 'sen': 5152, 'scrutinizes': 5101, 'miracle': 3785, 'jams': 3120, 'tobacky': 6078, 'l': 3303, 'streetcorner': 5715, 'fault': 2102, 'wok': 6632, 'sam:': 5023, 'solid': 5470, 'using': 6328, 'bride': 776, 'voicemail': 6384, 'tentative': 5936, 'sang': 5029, 'tenor:': 5934, 'isotopes': 3085, 'pinball': 4397, 'glyco-load': 2493, 'lawyer': 3352, 'grand': 2539, '50-60': 43, 'padre': 4233, 'pretty': 4563, 'interested': 3047, 'private': 4582, 'helping': 2755, 'minimum': 3778, 'annual': 282, 'acquaintance': 109, 'knocks': 3281, \"lefty's\": 3373, 'gulps': 2599, 'gals': 2393, \"cat's\": 976, 'timbuk-tee': 6061, 'jolly': 3172, 'hiring': 2796, 'mount': 3879, 'offended': 4124, 'jay:': 3127, 'trunk': 6191, 'bannister': 469, 'crotch': 1409, 'sleeps': 5368, 'cranberry': 1375, 'comeback': 1222, 'cut': 1447, 'sniper': 5437, 'tom': 6092, 'roses': 4944, 'luckily': 3560, 'noose': 4058, 'justify': 3198, 'flag': 2203, 'buried': 848, 'decided': 1523, 'touched': 6123, 'believer': 579, 'intense': 3045, 'rapidly': 4733, 'koi': 3292, 'yee-haw': 6728, 'over-pronouncing': 4214, 'brakes': 752, 'open-casket': 4175, 'gore': 2517, 'hooky': 2852, 'knit': 3275, 'girl': 2469, '_eugene_blatz:': 64, 'federal': 2113, \"pickin'\": 4379, 'hank_williams_jr': 2664, 'limericks': 3437, 'tips': 6070, 'embarrassing': 1905, 'imported-sounding': 2969, 'between': 604, 'knowingly': 3284, 'having': 2702, 'scout': 5089, 'none': 4054, 'puzzled': 4668, 'uncomfortable': 6266, 'neighbor': 3988, \"ol'\": 4144, 'awed': 415, 'wishing': 6620, 'dank': 1479, 'wakede': 6408, 'damage': 1464, 'commanding': 1232, 'potato': 4511, 'avenue': 407, 'stagey': 5599, 'shag': 5188, 'studied': 5732, 'squeals': 5585, 'pets': 4357, 'spy': 5577, 'courts': 1357, \"cuckold's\": 1426, 'freedom': 2320, 'forgot': 2281, 'saving': 5052, '_burns_heads:': 63, 'sobriety': 5457, 'shoo': 5232, 'celeste': 997, 'seymour': 5184, 'mcclure': 3687, 'week': 6488, 'kids': 3241, 'pasta': 4289, 'clothespins:': 1174, 'crippling': 1402, 'starving': 5630, \"b-52's:\": 427, 'wildest': 6583, 'judgments': 3182, 'paid': 4238, 'zack': 6769, 'hospital': 2870, 'harv:': 2686, 'farewell': 2087, 'simon': 5298, 'charity': 1038, 'scrape': 5091, 'carny:': 962, 'krusty_the_clown:': 3299, 'logos': 3497, 'help': 2752, 'whoever': 6560, 'nards': 3955, 'barber': 479, 'hit': 2800, 'bupkus': 844, 'influence': 3006, 'down': 1730, 'audience:': 397, 'wade_boggs:': 6399, 'sticking': 5668, 'bono:': 694, 'corner': 1323, 'media': 3708, 'presents': 4545, 'brusque': 812, 'priority': 4579, 'neil_gaiman:': 3993, 'male_singers:': 3613, 'malibu': 3615, 'me': 3691, 'stripes': 5722, 'coma': 1217, 'affectations': 150, 'artist': 354, \"tinklin'\": 6067, 'often': 4133, 'these': 5991, 'nagurski': 3940, 'mother': 3874, 'boozehound': 706, 'option': 4181, 'reads': 4759, 'plotz': 4450, 'tick': 6050, 'yuh-huh': 6767, 'ignorant': 2954, \"breakin'\": 765, 'really': 4766, 'manchego': 3634, 'entering': 1942, 'pair': 4247, 'far': 2086, 'ten': 5932, 'website': 6485, 'rented': 4843, 'voice': 6381, 'anderson': 268, 'aerosmith': 148, 'open': 4174, 'world-class': 6669, 'rings': 4905, 'loathe': 3484, 'sucks': 5752, 'el': 1887, '7-year-old_brockman:': 46, 'klingon': 3269, 'rasputin': 4736, 'nasty': 3961, 'drinker': 1759, \"liberty's\": 3408, 'ballclub': 459, 'patrons:': 4299, 'hydrant': 2924, 'pit': 4408, 'desperately': 1585, 'terrible': 5942, 'sets': 5174, 'unhappy': 6288, 'studio': 5733, 'feat': 2112, 'better': 601, 'ohhhh': 4138, 'intriguing': 3058, 'scum-sucking': 5105, 'associate': 372, 'applesauce': 315, 'up-bup-bup': 6310, 'forty-five': 2291, 'wenceslas': 6501, 'stein-stengel-': 5656, 'laws': 3351, 'spread': 5573, 'video': 6365, 'prejudice': 4536, 'buddha': 818, 'behind': 572, 'smoothly': 5414, '3rd_voice:': 40, 'irishman': 3075, 'blew': 649, 'losers': 3520, 'poetry': 4463, 'standing': 5612, 'sees/': 5135, 'homeland': 2830, 'sixty': 5340, \"thinkin'\": 6003, 'paint': 4242, 'switched': 5837, 'slap': 5360, 'ago': 179, 'jacques': 3112, 'crack': 1372, 'ton': 6100, 'wanted': 6427, 'sloe': 5381, 'suppose': 5790, 'use': 6324, 'fringe': 2339, 'ripping': 4911, 'scratcher': 5092, 'happily:': 2672, \"s'pose\": 4992, 'deli': 1543, 'fluoroscope': 2234, 'protesters': 4619, 'fifth': 2147, 'freshened': 2328, 'shades': 5187, 'gift': 2456, 'brooklyn': 800, 'blaze': 642, 'reptile': 4857, 'free': 2318, 'discriminate': 1651, '1895': 31, 'paris': 4269, 'gunter:': 2608, 'hot-rod': 2876, 'wh': 6507, 'slit': 5378, 'sniffs': 5436, 'ehhhhhh': 1873, 'way': 6462, 'milhouses': 3763, 'flanders': 2209, 'gun': 2604, 'pissed': 4407, 'tail': 5857, 'show-off': 5256, 'e': 1822, 'moonshine': 3858, 'pride': 4569, 'drains': 1736, 'deeper': 1531, 'vegas': 6346, 'assert': 369, 'sizes': 5344, 'donated': 1708, 'dressed': 1754, 'amnesia': 256, 'furniture': 2373, 'feld': 2123, 'giggles': 2461, 'beligerent': 580, 'were': 6503, 'maybe': 3681, 'au': 395, 'incredulous': 2987, 'wussy': 6703, 'bite': 630, 'sweetie': 5823, 'nemo': 3998, 'wood': 6651, 'took': 6110, 'ayyy': 424, 'wings': 6602, 'warren': 6438, 'starve': 5629, 'religion': 4818, 'paints': 4246, 'give': 2473, 'smooth': 5413, 'wad': 6398, 'heatherton': 2733, 'right-handed': 4901, 'space-time': 5517, 'liver': 3473, \"smackin'\": 5392, 'schmoe': 5074, \"they'll\": 5994, 'dig': 1619, 'lofty': 3495, 'guzzles': 2617, 'eyeballs': 2042, 'resolution': 4864, 'dash': 1487, 'pretentious_rat_lover:': 4560, 'duff_announcer:': 1795, 'bridge': 777, 'pipes': 4405, 'alcoholic': 204, 'marge_simpson:': 3647, 'ninety-eight': 4034, 'air': 195, \"aren't\": 333, 'presently': 4544, 'pugilist': 4635, 'i-i': 2935, 'camp': 916, 'puffy': 4634, 'specializes': 5528, 'robin': 4920, 'specials': 5529, 'haircuts': 2630, 'y-you': 6712, 'kid': 3234, 'charter': 1043, 'inspiring': 3033, 'cozy': 1370, '/': 25, 'bindle': 623, 'clone': 1165, \"somethin'\": 5482, 'large': 3332, 'justice': 3197, 'heartily': 2728, 'disapproving': 1647, 'umm': 6256, 'emporium': 1913, \"round's\": 4950, 'elite': 1896, 'gave': 2414, 'hug': 2898, 'separator': 5163, 'enthusiastically': 1947, 'notice': 4075, 'felony': 2128, 'liability': 3404, \"puttin'\": 4664, 'mmmmm': 3810, 'liven': 3472, 'eaten': 1842, 'endorsement': 1923, 'mean': 3694, 'atari': 380, 'toms': 6099, 'of': 4121, 'imaginary': 2961, 'young_marge:': 6756, 'booking': 700, 'homers': 2839, 'dregs': 1752, 'reason': 4767, 'son-of-a': 5493, 'morlocks': 3862, 'barely': 480, \"lisa's\": 3455, 'boy': 738, 'easy': 1838, 'nachos': 3938, 'imitating': 2963, 'candidate': 922, \"rasputin's\": 4737, 'dance': 1473, \"depressin'\": 1573, 'strap': 5710, 'joint': 3168, 'news': 4011, 'caholic': 897, 'disco': 1649, 'simplest': 5301, 'million': 3769, 'whispered': 6547, 'year': 6724, 'renovations': 4841, 'singers:': 5311, 'macaulay': 3580, 'sixty-five': 5341, 'oww': 4226, 'waste': 6447, \"bladder's\": 637, 'cracked': 1373, 'oddest': 4119, 'spouses': 5571, 'jobless': 3155, 'aziz': 425, 'dennis': 1560, \"homer'll\": 2833, 'single': 5315, 'forbids': 2268, 'refill': 4793, 'equivalent': 1955, 'cobbling': 1187, 'message': 3730, \"edna's\": 1858, 'ripcord': 4908, 'factor': 2057, 'stored': 5698, 'charged': 1036, 'horror': 2866, '$42': 0, 'a-b-': 75, 'covering': 1360, 'everything': 1984, 'thirsty': 6007, \"school's\": 5077, 'football': 2263, 'rotten': 4947, 'coast': 1183, 'course': 1353, \"i'unno\": 2933, 'mall': 3616, 'stopped': 5694, 'paramedic:': 4264, 'bedbugs': 545, 'grope': 2573, 'and/or': 265, 'wise': 6615, \"tree's\": 6163, 'nigeria': 4026, 'stationery': 5635, 'refreshing': 4797, 'assume': 373, 'training': 6146, 'keeps': 3215, 'krusty': 3298, 'kirk': 3258, 'dingy': 1630, 'match': 3667, \"stallin'\": 5605, 'painted': 4243, 'botanical': 713, 'philip': 4363, 'de': 1502, 'burger': 846, 'matter-of-fact': 3673, 'santeria': 5035, 'inning': 3017, 'three-man': 6036, 'kennedy': 3220, 'pull': 4640, 'goldarnit': 2504, 'boneheaded': 690, 'car': 939, 'du': 1787, \"hole'\": 2822, 'craphole': 1378, 'ronstadt': 4937, 'held': 2743, 'folk': 2247, 'owner': 4224, 'bottom': 718, 'transmission': 6151, \"i'm-so-stupid\": 2932, 'takes': 5862, 'looting': 3514, 'falsetto': 2073, 'stinky': 5678, 'whoo': 6563, 'cans': 928, 'brockman': 793, 'chin': 1086, 'chase': 1044, 'swelling': 5826, 'oughta': 4201, \"how'd\": 2890, 'romantic': 4933, 'huh': 2903, 'packets': 4231, 'snorts': 5440, 'craft': 1374, 'rafters': 4705, 'bubble': 813, 'precious': 4531, 'miserable': 3790, 'relax': 4810, 'pregnancy': 4535, 'ollie': 4150, 'temple': 5928, 'skoal': 5355, 'louse': 3536, 'coaster': 1184, 'lurleen_lumpkin:': 3568, 'meant': 3701, 'baseball': 506, 'pass': 4282, 'see': 5126, 'truth': 6195, 'whale': 6513, \"ya'\": 6714, 'jane': 3121, 'starts': 5627, \"ma'am\": 3576, 'reading': 4757, '__right_parentheses__': 60, \"can't-believe-how-bald-he-is\": 920, 'soot': 5498, 'works': 6666, 'beef': 550, 'loneliness': 3499, 'duh': 1799, 'dory': 1725, 'dies': 1613, 'ones': 4160, 'breaks': 767, 'life-extension': 3416, 'roach': 4915, 'days': 1500, 'lookalikes': 3507, 'repeated': 4848, 'hideous': 2778, 'cooking': 1314, 'service': 5171, 'walk': 6410, \"where'd\": 6536, 'build': 827, 'patient': 4293, 'comforting': 1227, 'most:': 3870, 'throwing': 6043, 'aidens': 191, 'sexton': 5181, 'frogs': 2345, 'huhza': 2904, 'picnic': 4384, 'exciting': 2004, 'forgive': 2279, 'nightmare': 4030, 'lying': 3573, 'sticker': 5666, 'teacher': 5900, 'funeral': 2368, 'pleading': 4442, 'button-pusher': 876, 'life': 3414, 'broken': 796, 'missed': 3794, 'polite': 4482, 'manatee': 3632, 'house': 2885, 'releasing': 4815, 'king': 3256, 'lachrymose': 3308, 'exquisite': 2031, 'animals': 276, 'geysir': 2451, 'shaking': 5194, 'guy': 2614, \"liftin'\": 3425, 'saucy': 5047, 'woe:': 6631, 'terror': 5947, 'anybody': 296, 'brine': 784, 'harm': 2682, 'bouquet': 723, 'bones': 691, 'desire': 1583, 'drove': 1777, 'carb': 942, 'bumpy-like': 840, 'buy': 879, 'mole': 3835, 'old': 4145, 'synthesize': 5844, 'padres': 4234, 'brother': 802, 'cosmetics': 1330, 'stink': 5675, 'man_with_tree_hat:': 3627, 'skirt': 5354, 'to': 6076, 'accurate': 105, 'pointing': 4468, 'this': 6014, 'completing': 1252, 'need': 3983, 'european': 1968, 'ironic': 3077, 'illegally': 2958, 'bushes': 862, 'tv': 6212, 'stares': 5615, 'drederick': 1751, 'wiener': 6571, 'insults': 3040, 'crawl': 1381, 'owned': 4223, 'trench': 6168, 'mumble': 3909, 'column': 1216, 'little': 3468, 'festival': 2137, 'family': 2075, 'moe-ron': 3831, 'who': 6553, 'catch-phrase': 978, 'trade': 6138, 'afraid': 155, 'trouble': 6182, 'genius': 2427, 'running': 4980, 'awkwardly': 420, 'harrowing': 2684, 'ourselves': 4204, 'k-zug': 3201, 'hourly': 2883, 'belch': 576, 'beer-jerks': 558, 'clown': 1176, 'betty:': 603, 'decide': 1521, 'sit': 5329, 'team': 5902, 'gesture': 2441, 'fustigate': 2378, 'amazed': 243, 'fourteen:': 2303, 'princesses': 4575, 'my': 3933, 'sooner': 5496, 'alternative': 237, 'stalin': 5603, 'inserted': 3024, 'safer': 5006, 'part-time': 4275, 'connor-politan': 1283, 'comic_book_guy:': 1229, 'catching': 979, 'yogurt': 6744, 'pint': 4402, 'return': 4875, 'worried': 6672, 'exultant': 2038, 'mrs': 3894, 'adjust': 129, 'served': 5170, 'warning': 6436, 'rather': 4740, 'atlanta': 382, 'hops': 2861, 'kansas': 3206, 'awake': 411, 'spanish': 5521, 'sorts': 5501, 'noticing': 4077, 'dispenser': 1666, 'disturbance': 1676, 'watt': 6460, 'meditative': 3712, 'clearly': 1152, 'worse': 6674, 'action': 115, 'how': 2889, 'shopping': 5238, 'earpiece': 1829, 'byrne': 887, 'eyeball': 2041, 'cleaning': 1149, 'blessing': 648, \"something's\": 5486, 'hundreds': 2909, 'tiny': 6068, 'tribute': 6171, 'windelle': 6595, 'excellent': 1997, 'barney_gumble:': 493, 'dreamed': 1746, \"bashir's\": 511, \"drinkin'\": 1760, 'dinks': 1631, 'favor': 2104, 'walks': 6413, 'fresco': 2326, 'glen:': 2483, \"blowin'\": 668, 'lotsa': 3526, 'surprising': 5799, 'prices': 4568, 'grinch': 2567, 'barbed': 478, 'springfield': 5575, 'raising': 4723, 'creature': 1389, 'incarcerated': 2979, 'six-barrel': 5338, 'ugly': 6249, 'guess': 2590, 'dames': 1466, 'attach': 383, 'benjamin': 592, 'boxcars': 732, 'gonna': 2508, 'prizefighters': 4584, 'hi': 2773, 'their': 5978, 'drunks': 1784, 'filled': 2161, 'cologne': 1211, 'driving': 1770, 'blurbs': 676, 'politics': 4485, 'filed': 2159, 'locklear': 3493, 'bauer': 519, 'remain': 4823, 'treasure': 6158, 'duffed': 1796, 'jeff_gordon:': 3135, 'on': 4154, 'habitrail': 2622, 'flanders:': 2210, 'frescas': 2325, 'cash': 970, 'any': 295, 'erasers': 1957, 'fatty': 2100, 'mediterranean': 3713, 'stinks': 5677, 'omit': 4153, '91': 50, 'hushed': 2921, 'is:': 3081, 'supply': 5786, 'such': 5747, 'full-blooded': 2358, 'exasperated': 1995, 'evils': 1987, 'god': 2498, 'hooray': 2853, 'ducked': 1788, \"can'tcha\": 921, 'lindsay_naegle:': 3444, 'showed': 5257, 'ever': 1977, 'brain': 747, 'all-all-all': 216, 'nigerian': 4027, 'pawed': 4306, 'deals': 1511, 'selective': 5138, 'stepped': 5660, 'yell': 6729, 'alive': 213, 'honey': 2844, 'explanation': 2026, 'falcons': 2069, 'uglier': 6246, 'ken:': 3219, 'sing-song': 5309, 'century': 1003, 'jerky': 3142, 'town': 6132, 'hooch': 2849, 'turlet': 6207, 'scarf': 5065, 'thru': 6046, 'getup': 2449, 'ribbon': 4885, 'urine': 6322, 'interesting': 3048, 'sacrilicious': 4998, 'forget-me-shot': 2277, 'bobo': 680, 'impressed': 2971, 'calculate': 901, 'appointment': 319, 'cockroach': 1191, 'squishee': 5591, 'delicate': 1546, 'gil_gunderson:': 2462, \"hobo's\": 2816, 'c': 888, 'wangs': 6423, 'african': 157, 'distributor': 1675, 'dentist': 1564, 'tells': 5925, 'november': 4081, 'post-suicide': 4509, 'beer:': 559, 'john': 3162, 'hearse': 2725, 'tale': 5865, 'gin-slingers': 2467, 'babar': 429, 'gary_chalmers:': 2407, 'allow': 222, 'stealings': 5649, 'mitts': 3802, 'chinese_restaurateur:': 1088, 'iddilies': 2943, 'yells': 6734, 'bought': 721, \"wino's\": 6607, 'unattended': 6260, 'maggie': 3592, 'ugliest': 6247, 'safety': 5007, 'bush': 861, 'demo': 1557, 'jimmy': 3153, 'otherwise': 4199, 'smurfs': 5418, 'tuborg': 6202, 'bathroom': 515, 'fonda': 2252, 'jeers': 3132, 'midge:': 3754, 'hold': 2818, 'clean': 1145, 'dreams': 1748, 'aghast': 176, 'firmly': 2188, 'unearth': 6279, 'jernt': 3143, 'people': 4327, \"it'd\": 3089, 'iran': 3071, 'boys': 742, 'easygoing': 1840, 'goo': 2509, 'depression': 1575, 'ziff': 6773, 'us': 6323, 'chocolate': 1094, 'tyson/secretariat': 6242, 'super': 5775, 'insulted': 3039, 'apu_nahasapeemapetilon:': 326, 'eighty-one': 1881, \"pullin'\": 4642, 'oh': 4134, 'pepper': 4330, 'moolah-stealing': 3853, 'model': 3819, 'consoling': 1289, 'conclude': 1266, 'kitchen': 3267, 'community': 1239, 'floor': 2228, 'grunt': 2587, 'thorough': 6020, 'per': 4335, 'gold': 2503, 'bidet': 610, 'wide': 6569, \"professor's\": 4598, 'nightmares': 4031, 'um': 6255, 'links': 3449, 'sacrifice': 4997, 'beards': 530, 'reliable': 4816, 'kick': 3229, 'eddie:': 1852, 'heard': 2722, 'nor': 4061, 'fixed': 2199, 'travel': 6157, 'addiction': 123, 'shaved': 5208, 'filthy': 2165, 'prettied': 4561, 'delivery': 1552, 'ball-sized': 458, 'tear': 5905, 'absolut': 90, 'glamour': 2478, 'winner': 6604, 'original': 4191, 'dilemma': 1623, 'universe': 6295, 'afloat': 154, 'cesss': 1010, 'artie': 352, 'laney_fontaine:': 3326, 'kent': 3222, 'overstressed': 4217, 'test-lady': 5951, 'wally:': 6418, 'tatum': 5890, 'teen': 5912, 'tablecloth': 5853, 'affects': 152, 'practice': 4523, 'angry': 274, 'protecting': 4617, 'square': 5582, 'wasting': 6449, 'attempting': 386, 'eighteen': 1879, 'label': 3305, 're-al': 4745, 'düffenbraus': 1821, 'wieners': 6572, 'badge': 445, 'fanciest': 2080, 'trucks': 6189, 'super-tough': 5778, 'scornful': 5086, 'look': 3504, 'noise': 4047, 'enjoyed': 1936, 'tropical': 6181, 'installed': 3034, 'feeling': 2118, 'allowance': 223, 'hook': 2850, 'tonight': 6104, 'grunts': 2588, 'in-ground': 2975, 'needs': 3985, 'ragtime': 4712, 'coms': 1262, 'runt': 4982, 'feedbag': 2115, \"burnin'\": 850, 'bald': 455, 'briefly': 780, '_montgomery_burns:': 69, 'roof': 4938, 'iranian': 3072, 'decent': 1520, 'ura': 6318, 'nickel': 4023, 'alibi': 211, 'looooooooooooooooooong': 3512, 'told': 6088, 'medieval': 3711, 'cola': 1204, 'scoffs': 5082, 'steaming': 5652, 'recorder': 4783, 'cutest': 1449, 'payments': 4312, 'trapped': 6153, 'hardhat': 2678, 'double': 1726, 'life:': 3420, 'difficult': 1618, 'kill': 3243, 'reality': 4762, 'act': 113, 'guest': 2592, 'chili': 1083, 'hooked': 2851, \"'ere\": 9, 'simultaneous': 5304, 'vestigial': 6358, 'star': 5614, 'self-made': 5142, 'soon': 5495, 'smile:': 5402, 'mouths': 3884, 'boat': 678, 'dumb-asses': 1804, 'leg': 3374, 'remembers': 4829, 'correction': 1329, 'overhearing': 4216, 'tie': 6055, 'boozebag': 705, 'earth': 1832, \"doesn't\": 1690, 'nearly': 3974, 'rods': 4925, 'encores': 1917, 'why': 6568, 'bites': 631, 'yesterday': 6738, 'runners': 4979, 'ruint': 4969, 'rug': 4965, 'bank': 466, 'splendid': 5558, 'heroism': 2768, 'nantucket': 3952, 'offshoot': 4132, 'fuhgetaboutit': 2356, 'ahhh': 187, 'woman_bystander:': 6639, 'forgets': 2278, 'woo': 6649, 'experiments': 2021, 'wore': 6660, 'shaken': 5190, 'digging': 1620, 'chipper': 1092, 'adjourned': 128, 'victorious': 6363, 'sincerely': 5307, 'raining': 4720, 'starters': 5623, 'flush': 2235, 'magnanimous': 3595, 'frat': 2312, 'coherent': 1199, 'half-day': 2636, 'fonzie': 2256, \"now's\": 4083, 'chub': 1111, 'muslim': 3926, 'hafta': 2625, 'cool': 1315, 'lowering': 3551, 'connection': 1281, 'grace': 2530, 'entire': 1948, 'tank': 5875, 'crab': 1371, 'ideal': 2946, 'lotta': 3527, 'dunno': 1812, 'our': 4203, 'monday': 3841, 'harvesting': 2688, 'bugging': 825, 'unison': 6293, 'zone': 6776, 'meaningless': 3699, 'finest': 2173, 'began': 565, 'taken': 5861, 'body': 681, 'assistant': 371, 'intimacy': 3053, 'bubbles': 814, 'gasp': 2410, 'corn': 1322, 'stickers': 5667, 'heading': 2715, 'retired': 4874, 'thoughtful': 6027, 'fifteen': 2146, 'gumbo': 2602, \"grandmother's\": 2543, 'stripe': 5721, 'strokkur': 5724, 'privacy': 4581, 'libraries': 3410, \"linin'\": 3448, 'species': 5530, 'during': 1813, 'excuse': 2006, 'helicopter': 2745, 'delightful': 1550, 'lushmore': 3570, 'relationship': 4808, 'punching': 4648, 'rip': 4906, \"disrobin'\": 1669, 'elocution': 1900, 'un-sults': 6258, 'ho-la': 2811, 'sexual': 5182, 'wooden': 6653, 'rap': 4732, 'lorre': 3516, 'strain': 5705, 'aggie': 172, 'lottery': 3528, 'mayor': 3682, 'thirty': 6009, 'anyhow': 298, 'wind': 6593, 'ginger': 2468, 'seems': 5132, 'hoagie': 2813, 'lookalike:': 3506, 'encouraged': 1918, 'painless': 4241, 'conversations': 1309, 'alcohol': 203, \"games'd\": 2399, 'jail': 3115, 'poet': 4461, 'stool': 5691, 'nurse': 4092, 'trenchant': 6169, 'shaker': 5191, 'true': 6190, 'instantly': 3035, 'fourth': 2304, 'lady_duff:': 3315, 'each': 1824, 'encore': 1916, 'benjamin:': 593, 'pushing': 4659, 'expense': 2017, 'derek': 1577, 'spooky': 5564, 'jasper_beardly:': 3125, 'seemed': 5131, 'asleep': 365, 'hyper-credits': 2926, 'wish': 6616, 'handling': 2650, 'mostrar': 3872, 'breathless': 770, 'small_boy:': 5394, 'drunkening': 1782, 'bid': 608, 'twenty-four': 6227, 'cheapskates': 1052, 'quimbys:': 4688, 'stadium': 5596, '530': 44, 'joined': 3166, 'tsk': 6199, 'warily': 6430, 'dangerous': 1476, 'get': 2442, 'saget': 5011, 'cheaped': 1050, \"singin'\": 5312, 'griffith': 2563, 'mither': 3801, 'arrived': 349, 'consider': 1285, 'enjoy': 1935, 'strong': 5726, 'declan_desmond:': 1526, 'ways': 6468, 'too': 6109, \"homer's_brain:\": 2835, 'hands': 2652, 'composer': 1256, 'rules': 4972, 'writers': 6695, 'celebrity': 996, 'hampstead-on-cecil-cecil': 2644, 'principles': 4577, 'belts': 588, 'games': 2398, 'winded': 6594, 'was': 6440, 'cheese': 1066, 'heartless': 2729, 'kwik-e-mart': 3301, 'raise': 4721, 'examines': 1992, 'easter': 1837, 'dollar': 1698, 'mater': 3669, 'repeating': 4849, 'howya': 2894, 'hostile': 2873, 'jury': 3195, 'attend': 387, \"what'll\": 6517, 'bart': 496, 'grab': 2527, 'donuts': 1716, 'stick': 5665, 'a': 73, 'drag': 1735, 'them': 5979, 'loboto-moth': 3485, \"stealin'\": 5648, 'fleabag': 2219, 'sigh': 5289, 'captain': 936, 'britannia': 788, 'combine': 1219, 'cecil': 991, 'quickly': 4683, 'founded': 2298, 'taylor': 5898, 'fireworks': 2185, 'poking': 4477, \"jimbo's_dad:\": 3152, \"livin'\": 3475, \"battin'\": 518, 'sending': 5157, 'mcbain': 3684, 'laughs': 3346, 'meatpies': 3705, 'st': 5592, 'tenuous': 5937, 'nein': 3994, 'worry': 6673, 'sidekick': 5283, 'bail': 453, 'bounced': 722, 'uh-oh': 6252, 'toasting': 6077, 'poke': 4475, 'pretzels': 4565, 'insurance': 3041, 'motorcycle': 3877, 'penmanship': 4324, 'tourist': 6126, 'bill_james:': 616, \"havin'\": 2701, 'immiggants': 2964, 'alfred': 209, 'mccall': 3685, 'sanctuary': 5027, 'twice': 6232, 'temp': 5926, 'malted': 3617, 'tremendous': 6167, 'tears': 5907, 'aw': 410, 'explaining': 2025, '35': 39, 'monroe': 3847, \"'tis\": 21, 'kept': 3225, 'bluff': 674, 'legend': 3377, 'strongly': 5727, 'africanized': 158, 'ram': 4728, 'beam': 525, 'ahh': 186, 'lis': 3453, 'moans': 3813, 'metal': 3733, 'forgiven': 2280, 'able': 83, 'highway': 2786, 'recall': 4772, 'eve': 1972, 'sight': 5291, 'water': 6455, 'pernt': 4347, 'bike': 614, 'schedule': 5071, 'blow': 666, 'something:': 5487, 'bums': 841, 'thesaurus': 5990, 'sangre': 5030, 'public': 4628, 'hurt': 2917, 'waking-up': 6409, 'cuz': 1452, 'bronco': 798, 'twins': 6234, 'serious': 5166, 'fondest': 2253, 'slurps': 5388, 'whatchacallit': 6523, 'hiding': 2779, 'flourish': 2230, 'waitress': 6406, 'banks': 467, 'nos': 4067, 'proposing': 4615, 'bonfire': 692, 'mix': 3803, 'stops': 5695, 'bowl': 727, 'lisa': 3454, 'show': 5254, 'would': 6678, 'bags': 452, 'spite': 5553, 'been': 552, 'mill': 3768, 'absentminded': 88, 'torn': 6115, 'concentrate': 1264, 'needy': 3986, 'gum': 2600, 'reed': 4788, 'aged': 165, 'contact': 1294, 'sink': 5319, 'wrapped': 6687, 'pitch': 4409, 'blue': 672, 'thousand': 6031, 'decision': 1524, 'imagine': 2962, 'worldly': 6670, 'sheriff': 5220, \"leavin'\": 3366, 'hanging': 2659, 'due': 1790, 'richard': 4888, 'selma': 5148, 'measure': 3703, 'wang': 6422, 'capitalists': 933, 'gear-head': 2417, 'parking': 4272, \"who'da\": 6554, 'being': 574, 'uninhibited': 6291, 'buds': 821, 'lay': 3353, 'nbc': 3970, 'visas': 6378, 'fools': 2261, 'pusillanimous': 4660, 'fantasy': 2085, 'hose': 2869, 'ho-ly': 2812, 'hated': 2695, 'flew': 2222, 'marmaduke': 3652, 'four': 2300, 'doll-baby': 1697, 'holiday': 2823, 'belt': 587, 'chill': 1084, 'choke': 1099, 'sagacity': 5009, 'saying': 5058, 'clammy': 1137, 'worldview': 6671, 'blackjack': 636, 'student': 5731, 'director': 1637, 'tight': 6059, 'getcha': 2444, 'proudly': 4622, 'as': 356, 'reconsidering': 4780, 'macbeth': 3581, 'sorry': 5500, 'lease': 3362, 'wealthy': 6477, 'teacup': 5901, 'the_rich_texan:': 5974, 'circus': 1130, 'clandestine': 1140, 'truck_driver:': 6188, \"sayin'\": 5057, \"what's\": 6519, 'quick': 4681, 'should': 5246, 'effigy': 1867, 'handshake': 2653, '250': 36, 'contemptuous': 1298, 'eyes': 2045, 'pack': 4229, 'washouts': 6445, 'edna_krabappel-flanders:': 1860, 'loudly': 3533, 'cup': 1433, 'admiring': 133, 'scores': 5085, 'sweetly': 5824, 'brainheaded': 749, \"tomorrow's\": 6098, 'spellbinding': 5536, 'new_health_inspector:': 4008, \"it's\": 3091, 'sales': 5019, 'shrieks': 5265, 'hmm': 2807, 'forever': 2274, 'luck': 3558, 'belches': 577, 'ignoring': 2955, 'arm': 341, '50%': 42, 'kodos:': 3290, 'defensive': 1536, 'inherent': 3014, 'ought': 4200, 'sagely': 5010, 'cauliflower': 985, 'tickets': 6052, 'supermarket': 5782, 'researching': 4858, 'na': 3937, 'picked': 4378, 'lowest': 3553, 'play/': 4434, 'squirrel': 5589, 'phone': 4367, 'summer': 5768, 'make': 3606, 'understanding': 6274, 'couple': 1350, 'photos': 4372, 'lewis': 3403, 'guff': 2593, 'health_inspector:': 2719, 'suits': 5766, 'crestfallen': 1394, 'johnny_carson:': 3164, 'witty': 6627, 'drinking:': 1762, 'anyway': 302, \"getting'\": 2448, 'bus': 860, 'barbara': 477, 'ultimate': 6254, 'stagehand:': 5598, 'stores': 5699, 'choking': 1102, 'yeah': 6723, 'caper': 932, 'fifty': 2148, 'savings': 5053, 'jukebox': 3185, 'movement': 3887, 'smoker': 5409, 'twelve': 6221, 'eminence': 1907, 'afford': 153, 'k': 3200, 'envy-tations': 1953, 'all-star': 218, 'roller': 4928, '1-800-555-hugs': 27, 'disgusted': 1660, 'crew': 1395, 'compliments': 1255, 'image': 2960, 'shame': 5197, 'anti-crime': 291, 'toward': 6130, 'buffalo': 822, 'chug-a-lug': 1118, 'shark': 5206, 'shooting': 5235, 'candles': 923, 'non-american': 4050, 'stamps': 5608, 'mudflap': 3898, 'scare': 5063, 'deacon': 1505, 'los': 3517, 'marge': 3645, 'moesy': 3834, 'eighty-three': 1884, 'bad-mouth': 444, 'inspired': 3032, 'consciousness': 1284, 'kramer': 3297, 'ratted': 4744, 'glum': 2490, 'liquor': 3452, \"bo's\": 677, 'afterglow': 160, 'hats': 2698, 'champ': 1017, \"city's\": 1133, 'sensitivity': 5160, 'j': 3103, 'scam': 5060, 'dump': 1808, 'macho': 3584, 'dracula': 1734, 'woooooo': 6655, 'coupon': 1351, 'occasion': 4108, \"readin'\": 4756, 'corporate': 1324, 'prayer': 4526, 'fat_in_the_hat:': 2095, 'sieben-gruben': 5288, 'coyly': 1368, 'porn': 4501, 'rash': 4735, \"soundin'\": 5507, 'unhook': 6289, 'hello': 2751, 'outside': 4210, 'revenge': 4878, 'minutes': 3784, 'aiden': 190, 'nursemaid': 4093, 'repressed': 4856, 'diddilies': 1608, 'steak': 5646, \"changin'\": 1026, 'prince': 4573, 'cage': 896, 'horns': 2862, 'with': 6623, 'faces': 2055, 'beer-dorf': 557, 'hugh': 2901, 'zeal': 6771, 'country-fried': 1347, 'covers': 1361, 'recent': 4774, 'crowbar': 1411, \"wearin'\": 6480, 'move': 3885, 'michelin': 3744, 'dumbbell': 1806, 'surgeonnn': 5794, 'girl-bart': 2470, 'ungrateful': 6287, 'fuzzlepitch': 2381, 'fulla': 2361, 'peabody': 4314, 'feel': 2116, \"we'll\": 6472, 'edge': 1854, 'ashamed': 357, 'higher': 2784, 'country': 1346, 'grub': 2580, 'appendectomy': 314, 'jer': 3137, 'ireland': 3073, 'comes': 1225, 'years': 6726, 'neighborhood': 3991, \"don't\": 1705, 'beats': 536, 'teenage_barney:': 5914, 'all:': 219, 'enveloped': 1951, 'flack': 2202, 'boston': 712, 'and:': 266, 'nah': 3941, 'casual': 974, 'disappointment': 1646, 'pointless': 4469, \"o'\": 4097, 'bartender': 500, 'familiar': 2074, 'grampa': 2537, 'heaving': 2737, 'time': 6062, 'occurrence': 4114, 'credit': 1390, 'non-losers': 4051, 'benefits': 591, 'age': 164, 'hours': 2884, 'stir': 5679, 'button': 875, 'overflowing': 4215, 'whiny': 6543, 'unusual': 6307, 'possibly': 4508, 'considers': 1288, 'zoomed': 6777, \"she'd\": 5210, 'shirt': 5227, 'electronic': 1892, 'xanders': 6706, 'suds': 5756, 'never': 4006, 'put': 4662, 'hell': 2747, 'pre-game': 4529, 'pro': 4585, 'cajun': 898, 'cuckoo': 1427, 'mailbox': 3601, \"other's\": 4195, 'beans': 527, 'boxing_announcer:': 737, 'curiosity': 1438, 'seconds': 5118, 'seat': 5112, 'karaoke': 3207, 'source': 5512, 'ivy-covered': 3102, 'moe': 3823, 'foodie': 2258, 'joking': 3171, 'cow': 1362, \"doctor's\": 1688, 'obvious': 4107, 'pocket': 4458, 'dark': 1482, 'wells': 6500, \"there's\": 5988, \"today's\": 6080, 'whistles': 6549, 'occupation': 4111, 'seriously': 5167, 'insecure': 3022, 'tow-talitarian': 6129, 'feels': 2120, 'ye': 6721, 'life-sized': 3418, 'sharps': 5207, 'smile': 5401, 'whose': 6566, 'arguing': 336, 'cannot': 926, 'forgotten': 2282, 'nation': 3962, 'julienne': 3188, 'kind': 3251, 'fake': 2068, 'fund': 2366, 'ohmygod': 4139, 'diet': 1614, 'an': 259, 'place': 4414, 'mistresses': 3800, 'thing': 5998, 'priceless': 4567, 'fun': 2364, 'moan': 3812, 'chanting': 1029, 'youuu': 6766, \"speakin'\": 5524, 'enough': 1940, 'thought': 6024, 'hail': 2628, 'vengeful': 6349, 'monster': 3849, \"starla's\": 5617, 'musta': 3930, 'nauseous': 3967, \"what're\": 6518, 'peace': 4315, 'statue': 5638, 'clench': 1154, 'homer': 2832, 'donut': 1714, 'fail': 2060, 'reminds': 4831, 'swe-ee-ee-ee-eet': 5813, 'application': 317, 'passed': 4283, 'blissful': 655, 'victory': 6364, 'literary': 3466, 'jacques:': 3113, 'letters': 3401, 'heavens': 2736, 'anyone': 300, 'point': 4465, 'rickles': 4891, 'popular': 4499, \"aren'tcha\": 334, 'pretending': 4558, 'he': 2708, 'happiness': 2673, 'punk': 4650, 'dea-d-d-dead': 1504, 'singing/pushing': 5314, \"'your\": 23, 'indicates': 2993, 'saga': 5008, 'f-l-a-n-r-d-s': 2048, 'cake': 899, 'dive': 1679, 'sucking': 5751, 'somewhere': 5490, 'warn': 6434, 'rascals': 4734, 'talk-sings': 5867, 'hateful': 2696, 'champignons': 1018, 'pouring': 4517, 'about': 86, 'literature': 3467, 'murmurs': 3917, 'germans': 2437, 'line': 3445, 'bottomless': 719, 'remodel': 4832, 'rob': 4917, 'soir': 5467, 'arts': 355, 'sharing': 5204, 'courthouse': 1356, 'judge_snyder:': 3180, 'closing': 1171, 'harv': 2685, 'affection': 151, 'cobra': 1188, 'dennis_kucinich:': 1562, 'ape-like': 306, 'dutch': 1814, 'ingested': 3011, 'enhance': 1934, 'calling': 908, 'chair': 1013, 'premiering': 4537, 'frog': 2344, 'lookalike': 3505, 'tokens': 6087, 'yards': 6719, 'gums': 2603, 'quiet': 4684, 'network': 4004, 'gives': 2475, \"brockman's\": 794, \"ridin'\": 4895, 'knuckle-dragging': 3288, 'sausage': 5048, 'supports': 5789, 'traitors': 6148, 'prep': 4539, 'golden': 2505, 'dropped': 1775, 'kahlua': 3203, 'snap': 5424, 'especially': 1961, 'pinchpenny': 4398, 'winch': 6592, 'hang': 2657, 'jerk': 3138, 'raking': 4724, 'childless': 1080, 'okay': 4143, 'meals': 3693, 'telephone': 5920, 'achebe': 107, 'weight': 6493, 'hare-brained': 2681, 'blokes': 659, 'nigel_bakerbutcher:': 4025, 'farthest': 2088, '__return__': 59, 'all-american': 217, 'changes': 1025, 'holding': 2819, 'roomy': 4941, 'reached': 4748, 'verdict': 6353, \"tellin'\": 5923, 'cares': 949, \"wasn't\": 6446, 'mike_mills:': 3758, 'average': 408, \"dolph's_dad:\": 1701, 'snort': 5439, 'matter': 3672, 'improved': 2973, 'superpower': 5784, '_zander:': 72, 'scream': 5094, 'boxer:': 734, 'microphone': 3748, 'killer': 3246, 'poplar': 4496, 'trusted': 6193, 'fall': 2070, 'rule': 4970, 'brain-switching': 748, 'american': 252, 'solo': 5471, 'drawing': 1744, 'replaced': 4851, 'drink': 1758, 'fill': 2160, 'meeting': 3715, \"mo'\": 3811, 'colonel:': 1212, 'kneeling': 3271, 'stop': 5693, 'meaning': 3696, 'room': 4940, 'awwww': 423, 'wobbly': 6630, 'toe': 6082, 'self': 5139, 'quadruple-sec': 4670, 'undermine': 6271, 'choice': 1095, 'flat': 2215, 'zero': 6772, 'smell': 5397, \"buyin'\": 881, 'chunky': 1123, 'refreshingness': 4798, 'nitwit': 4039, 'destroyed': 1588, 'spending': 5540, 'automobiles': 403, 'delighted': 1549, 'chug-monkeys': 1119, 'sniffing': 5434, 'commission': 1234, 'beaumont': 538, 'strictly': 5719, 'cheering': 1062, 'easier': 1834, 'sincere': 5306, 'joke': 3169, 'backbone': 437, 'hates': 2697, 'touch': 6121, 'chicks': 1076, 'neighbors': 3992, 'expired': 2023, 'taking': 5864, \"fallin'\": 2071, \"secret's\": 5120, 'sugar-me-do': 5762, 'thing:': 6000, 'treehouse': 6165, 'othello': 4193, 'smiles': 5404, 'friday': 2330, 'lenny': 3386, 'burnside': 853, 'whisper': 6546, 'pharmaceutical': 4360, 'mistakes': 3798, 'con': 1263, 'continued': 1301, 'cigars': 1129, \"yieldin'\": 6742, 'cheers': 1064, 'close': 1166, 'anniversary': 278, 'minors': 3780, 'hot': 2875, 'shifty': 5223, 'je': 3130, 'exactly': 1991, 'tofu': 6083, 'doing': 1695, 'rainier': 4718, \"s'cuse\": 4990, 'expensive': 2018, 'gloop': 2486, 'cleveland': 1157, 'infiltrate': 3004, 'relieved': 4817, 'mike': 3757, 'referee': 4791, 'rude': 4963, 'olive': 4149, 'health': 2718, 'talked': 5869, 'latin': 3342, 'advertise': 144, 'breakdown': 763, 'happily': 2671, \"isn't\": 3084, 'uhhhh': 6253, 'written': 6698, 'conversation': 1308, 'book': 697, 'dan_gillick:': 1471, 'players': 4436, 'bartenders': 502, 'scornfully': 5087, 'wham': 6514, 'cerebral': 1004, 'planet': 4421, 'bastard': 512, 'broad': 790, 'silence': 5296, 'agnes_skinner:': 178, 'inspection': 3029, \"president's\": 4548, 'therapist': 5985, 'putty': 4666, 'shrugs': 5268, 'disillusioned': 1663, 'sure': 5793, \"they're\": 5995, 'korea': 3295, 'vanities': 6344, 'from': 2346, 'closes': 1169, 'duke': 1800, 'whoops': 6565, 'wrestling': 6692, \"tab's\": 5850, 'progress': 4602, 'capitol': 934, \"tonight's\": 6105, 'starla': 5616, 'declared': 1528, 'ralphie': 4727, 'man_with_crazy_beard:': 3626, 'west': 6505, 'catty': 983, 'wizard': 6628, 'whatcha': 6522, 'twenty': 6225, 'ingrates': 3012, 'paintings': 4245, 'father': 2097, 'hitler': 2802, 'oil': 4140, 'grim': 2564, 'limber': 3435, 'moon-bounce': 3855, 'scared': 5064, 'waylon_smithers:': 6465, \"you'll\": 6749, 'fragile': 2307, 'shower': 5258, 'hour': 2882, 'indifference': 2994, 'bucket': 816, 'through': 6041, 'remains': 4825, 'contented': 1299, 'saw': 5055, 'early': 1828, \"he's\": 2711, 'drug': 1779, 'morning-after': 3864, 'domed': 1702, 'disco_stu:': 1650, 'smelling': 5398, 'romance': 4932, 'bible': 607, 'grudgingly': 2582, 'expect': 2015, 'election': 1891, 'murdoch': 3915, 'kidneys': 3240, 'magic': 3594, 'gentles': 2432, 'flown': 2233, 'mop': 3859, 'giant': 2454, 'laney': 3325, 'drapes': 1740, 'shares': 5203, 'fletcherism': 2221, 'dad': 1458, \"scammin'\": 5061, 'judge': 3179, 'calvin': 912, 'office': 4128, 'presentable': 4543, 'remembered': 4827, 'swamp': 5810, 'feed': 2114, 'michael': 3742, 'shindig': 5225, 'his': 2797, 'wrote': 6700, 'suspended': 5804, 'spirit': 5549, 'nothing': 4074, 'santa': 5033, 'aww': 421, 'go-near-': 2495, 'riveting': 4914, 'cops': 1318, 'chicken': 1075, 'presses': 4552, 'proof': 4612, 'shot': 5244, 'methinks': 3735, 'takeaway': 5860, 'maher': 3598, 'talkers': 5870, 'kickoff': 3232, 'vulgar': 6392, 'answering': 288, 'unlocked': 6300, 'motel': 3873, 'creme': 1393, 'fondly': 2254, 'grains': 2533, 'murderously': 3914, \"plank's\": 4422, 'drop': 1773, 'friction': 2329, 'ready': 4760, \"son's\": 5492, 'cream': 1386, 'cocoa': 1195, 'prettiest': 4562, 'dirge-like': 1639, 'crummy': 1421, 'planned': 4423, 'gambler': 2395, 'endorse': 1921, 'drives': 1768, 'side:': 5282, 'half': 2633, 'libido': 3409, 'grubby': 2581, 'booze-bags': 704, 'muttering': 3932, 'sleeping': 5367, 'examples': 1994, 'guinea': 2597, 'black': 635, 'drinks': 1763, 'wolfcastle': 6633, 'prolonged': 4605, 'world': 6667, 'sheets': 5216, 'predictable': 4533, 'certificate': 1008, 'said': 5012, 'rumor': 4975, 'gr-aargh': 2526, 'developed': 1595, 'swell': 5825, 'executive': 2008, 'order': 4184, 'mm': 3805, 'damn': 1468, 'keys': 3228, 'nfl_narrator:': 4017, 'lousy': 3537, 'connor': 1282, 'boo': 695, 'lazy': 3355, 'contemporary': 1297, 'displeased': 1667, 'whoa': 6558, 'mention': 3727, 'sometime': 5488, 'harvey': 2689, 'elephants': 1893, 'peanut': 4318, 'produce': 4592, \"fryer's\": 2354, 'tolerable': 6090, 'ehhh': 1872, 'raccoons': 4695, 'democracy': 1558, 'many': 3641, 'charlie:': 1040, 'cocktail': 1194, 'combination': 1218, 'stolen': 5685, 'devastated': 1594, 'sells': 5147, \"y'know\": 6709, 'exit': 2012, 'bursts': 856, 'kentucky': 3224, 'violin': 6374, 'blobbo': 657, 'si-lent': 5276, 'eternity': 1966, 'whirlybird': 6545, \"beer's\": 556, 'delicately': 1547, 'albert': 202, 'tin': 6065, 'wasted': 6448, 'grammy': 2535, 'clientele': 1158, 'tries': 6174, 'take': 5858, 'quitcher': 4690, 'curse': 1440, 'swan': 5811, 'mocking': 3818, 'leak': 3357, 'prints': 4578, 'renders': 4835, 'duty': 1815, 'away': 413, 'homer_': 2836, 'tanking': 5877, \"watchin'\": 6453, \"goin'\": 2500, 'frankly': 2311, 'sub-monkeys': 5742, 'lib': 3407, 'crappy': 1380, \"car's\": 940, 'sober': 5455, 'bedtime': 548, 'celebrities': 995, 'honor': 2846, 'rutabaga': 4987, 'switch': 5836, 'lenny:': 3388, 'novel': 4079, 'texan': 5955, 'fair': 2065, 'blamed': 640, 'turned': 6209, 'lipo': 3450, 'crinkly': 1401, 'sissy': 5324, 'complaint': 1249, 'wheeeee': 6528, 'hate-hugs': 2694, 'came': 913, 'by': 885, 'disgracefully': 1657, \"lenny's\": 3387, 'parrot': 4273, 'waters': 6459, 'accident': 101, 'gotcha': 2522, 'flames': 2207, 'lovelorn': 3542, 'rhode': 4883, 'morning': 3863, 'picture': 4385, 'cousin': 1358, 'when-i-get-a-hold-of-you': 6533, 'do': 1686, 'vin': 6371, 'side': 5281, 'dinner': 1632, 'cold': 1205, 'perch': 4337, 'internet': 3050, 'yard': 6718, 'female_inspector:': 2130, 'divorced': 1682, 'lord': 3515, 'super-genius': 5776, 'braun:': 757, 'pledge': 4448, 'labels': 3306, 'ned': 3981, 'settles': 5177, \"dad's\": 1459, 'moved': 3886, 'space': 5516, 'plow': 4451, 'coin': 1200, 'lemonade': 3382, 'dramatically': 1738, 'errrrrrr': 1959, \"callin'\": 907, 'tried': 6173, 'alley': 221, 'sixty-nine': 5342, '-ry': 24, 'th': 5958, 'meet': 3714, 'julep': 3187, 'jeter': 3146, 'rumaki': 4973, 'sotto': 5502, 'season': 5111, 'vincent': 6372, 'f': 2047, 'always': 240, 'book_club_member:': 698, 'spoken': 5559, 'donation': 1710, 'prison': 4580, 'diaper': 1602, 'himself': 2793, 'plywood': 4457, 'ah': 182, 'followed': 2250, 'bachelor': 433, 'faint': 2063, 'cronies': 1404, 'acronyms': 111, 'probably': 4586, 'county': 1349, 'beautiful': 539, 'skinny': 5352, 'anti-intellectualism': 292, 'hilarious': 2788, 'save': 5050, 'trustworthy': 6194, 'dint': 1633, 'blooded': 663, 'sail': 5014, 'slapped': 5361, 'email': 1903, 'dealer': 1509, 'geez': 2420, 'given': 2474, 'conditioning': 1270, 'fury': 2376, 'tons': 6106, 'pine': 4399, 'wacky': 6397, 'clincher': 1160, 'sports_announcer:': 5568, \"man's_voice:\": 3623, 'basement': 508, 'appealing': 310, 'part': 4274, 'site': 5332, 'layer': 3354, 'gags': 2390, 'agency': 167, 'nose': 4068, 'swear': 5814, 'militia': 3765, 'barney-type': 492, 'lead': 3356, 'octa-': 4117, 'blinded': 652, 'reaches': 4749, 'selfish': 5144, 'mexican': 3736, 'brown': 808, 'stu': 5729, 'memory': 3720, 'vomit': 6386, 'cough': 1336, 'kirk_van_houten:': 3259, 'hmf': 2806, 'shall': 5196, 'a-lug': 76, 'hotel': 2877, 'salad': 5016, 'british': 789, 'washer': 6443, 'granted': 2545, 'sarcastic': 5037, 'forecast': 2272, 'fiction': 2142, 'ahhhh': 188, 'enthused': 1945, 'dateline': 1491, 'wing': 6601, 'herself': 2770, 'color': 1213, 'burp': 854, 'son': 5491, 'today/': 6081, 'dancing': 1474, 'tempting': 5931, 'watch': 6451, 'head': 2712, 'lift': 3423, 'idiot': 2950, 'mine': 3774, 'dumptruck': 1810, 'gargoyles': 2405, 'à': 6778, 'unfortunately': 6285, 'exception:': 1999, 'shhh': 5222, 'job': 3154, 'weekend': 6489, 'gangrene': 2401, 'mice': 3741, 'delays': 1541, 'sponge:': 5561, 'kings': 3257, 'annoying': 281, 'junebug': 3192, 'vigilante': 6368, 'lonely': 3500, 'wolfe': 6634, 'wordloaf': 6658, \"mtv's\": 3896, 'swimming': 5831, 'phasing': 4362, 'intoxicated': 3056, 'panties': 4256, 'hat': 2692, 'sauce': 5046, 'hangs': 2662, 'break': 761, 'brains': 751, 'strangles': 5709, 'disappeared': 1643, 'fella': 2125, '_timothy_lovejoy:': 71, 'bleeding': 645, 'eye-gouger': 2040, 'greatly': 2554, 'busted': 868, 'spotting': 5570, '4x4': 41, 'funds': 2367, 'talking': 5872, 'rag': 4706, 'jubilant': 3177, 'super-nice': 5777, 'darn': 1485, 'protesting': 4620, 'grey': 2559, \"world's\": 6668, 'international': 3049, 'ran': 4729, 'adopted': 136, 'going': 2501, 'alma': 226, 'cop': 1317, 'coat': 1186, 'host': 2871, 'respect': 4865, 'teddy': 5910, 'detail': 1589, 'straight': 5703, 'beard': 529, 'trail': 6143, 'chief': 1077, \"y'money's\": 6710, \"you'd\": 6748, 'big': 611, 'finish': 2176, 'mac-who': 3579, \"i'm\": 2931, 'pipe': 4404, 'outta': 4212, 'writing': 6697, 'underpants': 6272, 'official': 4130, 'kinda': 3252, 'eyed': 2043, 'will': 6585, 'ineffective': 3000, \"wonderin'\": 6647, \"high-falutin'\": 2782, \"brady's\": 744, 'jamaican': 3118, 'troy': 6184, 'yea': 6722, 'be': 520, 'explain': 2024, 'slab': 5359, \"hawkin'\": 2705, 'rage': 4707, 'ruin': 4967, 'stay-puft': 5641, '21': 35, 'hardy': 2680, 'larson': 3336, 'bartholomé:': 505, 'third': 6006, 'cuddling': 1428, 'betcha': 597, \"wife's\": 6575, 'idiots': 2951, 'closed': 1167, 'plenty': 4449, 'plucked': 4452, 'massage': 3665, 'insured': 3042, 'cupid': 1434, 'tornado': 6116, 'sale': 5018, 'breath': 768, \"hangin'\": 2658, 'spelling': 5537, 'instrument': 3037, 'somebody': 5475, \"feelin's\": 2117, 'signal': 5294, 'working': 6665, 'since': 5305, 'scum': 5104, 'boisterous': 683, 'restaurants': 4868, 'terminated': 5940, 'karaoke_machine:': 3208, 'park': 4270, 'gabriel': 2387, 'cheer': 1058, \"family's\": 2076, 'donut-shaped': 1715, 'gestated': 2440, 'dictator': 1606, 'refreshment': 4799, 'mel': 3716, 'choices': 1097, \"nothin'\": 4072, 'disappear': 1642, 'churchill': 1125, 'canyoner-oooo': 929, 'spilled': 5546, 'pulitzer': 4639, 'jump': 3189, 'permitting': 4346, 'continuum': 1303, 'attached': 384, 'or': 4183, 'slobs': 5380, 'grampa_simpson:': 2538, 'coney': 1271, 'wholeheartedly': 6562, 'cheerier': 1060, 'pageant': 4236, 'abcs': 80, 'hillbillies': 2790, 'stingy': 5674, 'author': 401, 'freely': 2321, 'snout': 5443, 'face': 2050, 'white': 6551, 'blob': 656, 'brightening': 782, 'bottoms': 720, 'fight': 2149, 'fica': 2141, 'neither': 3995, 'mock-up': 3817, 'fire_inspector:': 2181, 'theory': 5984, 'slop': 5383, 'brief': 779, 'supervising': 5785, 'america': 250, 'gees': 2419, 'unusually': 6308, 'struggling': 5728, 'ancient': 262, 'loyal': 3554, \"table's\": 5852, 'triangle': 6170, 'so-ng': 5447, \"enjoyin'\": 1937, 'boggs': 682, 'high': 2780, 'ideas': 2948, \"boy's\": 739, 'mister': 3799, 'result': 4871, 'homeless': 2831, 'cowardly': 1364, 'highest': 2785, 'crisis': 1403, 'embarrassed': 1904, 'holidays': 2824, 'may': 3677, 'whatchamacallit': 6524, 'dammit': 1467, 'killing': 3247, 'shtick': 5269, \"stayin'\": 5643, 'placing': 4416, 'got': 2521, 'cursed': 1441, 'mary': 3661, \"man's\": 3622, 'along': 230, 'stories': 5700, 'deny': 1566, 'send': 5156, 'carve': 967, 'scooter': 5083, 'majesty': 3604, 'stranger:': 5708, 'owns': 4225, 'shotgun': 5245, 'alcoholism': 205, 'fbi_agent:': 2108, 'moving': 3890, 'snake': 5421, 'ech': 1848, 'dimly': 1626, 'chorus:': 1105, 'coughs': 1337, 'housing': 2888, 'genuinely': 2434, \"lady's\": 3313, 'rugged': 4966, \"elmo's\": 1899, 'clubs': 1179, 'winnings': 6606, 'kent_brockman:': 3223, 'lager': 3316, \"g'ahead\": 2383, 'pity': 4411, 'sat-is-fac-tion': 5042, 'paying': 4311, 'harmony': 2683, 'well': 6498, 'handed': 2646, 'lindsay': 3443, 'grin': 2566, 'fish': 2190, 'omigod': 4151, 'disappointed': 1644, 'admiration': 131, 'delete': 1542, 'hair': 2629, 'aboard': 84, 'competing': 1246, 'coach:': 1181, 'man:': 3624, 'boyhood': 741, 'degradation': 1538, 'jelly': 3136, 'cat': 975, \"he'll\": 2710, 'troll': 6179, 'fudd': 2355, 'hotenhoffer': 2878, 'ice': 2940, 'sinkhole': 5320, 'naked': 3946, 'fumes': 2362, 'thomas': 6018, 'grumpy': 2586, 'theater': 5976, 'kegs': 3216, 'boxing': 736, 'folks': 2248, 'arabs': 330, 'screams': 5095, 'perverted': 4353, 'channel': 1028, 'nonsense': 4055, 'italian': 3093, 'refinanced': 4794, 'generously': 2426, 'indifferent': 2995, 'recipe': 4776, 'itchy': 3094, 'points': 4470, 'just': 3196, 'geyser': 2450, 'lobster': 3486, 'pig': 4388, 'bars': 494, 'squashing': 5583, 'wants': 6428, 'chapter': 1032, 'unforgettable': 6284, 'indigenous': 2996, 'went': 6502, 'gentleman:': 2430, 'savagely': 5049, 'wittgenstein': 6626, 'jay_leno:': 3128, 'slick': 5372, 'fustigation': 2379, 'vacations': 6334, 'creepy': 1392, 'swill': 5829, 'thighs': 5997, 'suck': 5748, 'increased': 2984, 'doug:': 1728, 'disgrace': 1655, 'spine': 5547, 'say': 5056, 'clears': 1153, 'bubbles-in-my-nose-y': 815, 'serve': 5169, 'tv_husband:': 6219, 'my-y-y-y-y-y': 3934, 'following': 2251, 'soaked': 5448, 'squad': 5580, 'tv-station_announcer:': 6215, 'wienerschnitzel': 6573, 'southern': 5514, 'eye': 2039, 'fist': 2193, 'moron': 3865, 'leathery': 3364, 'butterball': 873, 'decadent': 1518, 'terrace': 5941, 'rush': 4984, 'conspiratorial': 1291, 'freaky': 2317, 'attack': 385, 'semi-imported': 5150, 'wire': 6613, 'polish': 4480, 'blur': 675, 'doooown': 1719, \"everyone's\": 1983, 'politician': 4483, 'fever': 2138, 'alfalfa': 208, 'bow': 725, 'deeply': 1532, 'macgregor': 3582, 'kills': 3249, 'control': 1306, 'sometimes': 5489, 'pigtown': 4390, 'military': 3764, \"gettin'\": 2446, 'puke-holes': 4637, 'dressing': 1755, 'bleacher': 643, \"won't\": 6643, 'malabar': 3611, 'thrown': 6044, 'slip': 5376, 'cure': 1437, 'warmly': 6432, 'suburban': 5745, 'lloyd:': 3479, \"homer's\": 2834, 'crowned': 1416, 'paste': 4290, \"askin'\": 362, 'aristotle:': 340, 'newspaper': 4014, 'almond': 227, 'eightball': 1878, 'leno': 3391, 'store-bought': 5697, 'scram': 5090, 'partly': 4277, 'toxins': 6134, 'leonard': 3393, 'started': 5622, 'helen': 2744, 'towed': 6131, 'shreda': 5264, 'supposed': 5791, 'shill': 5224, 'tsking': 6200, 'changing': 1027, 'sack': 4996, 'california': 904, 'skills': 5348, 'customers-slash-only': 1446, 'fortress': 2288, 'burn': 849, 'sister': 5325, 'rewound': 4881, 'losing': 3521, 'operation': 4178, 'rolling': 4929, 'england': 1930, 'care': 945, 'wayne:': 6467, 'trolls': 6180, 'badmouths': 449, 'throat': 6039, 'oopsie': 4172, 'what-for': 6521, 'shout': 5252, 'poker': 4476, 'mcstagger': 3689, 'brother-in-law': 803, 'cent': 1000, 'today': 6079, 'invulnerable': 3070, 'mayan': 3680, 'sponge': 5560, 'add': 122, 'still': 5671, 'called': 906, 'plaintive': 4418, 'appearance-altering': 313, 'stars': 5620, 'theatrical': 5977, 'wowww': 6685, 'bull': 830, \"what'sa\": 6520, 'droning': 1772, 'intakes': 3043, 'perfect': 4338, 'special': 5526, 'repairman': 4846, 'crayon': 1384, 'plants': 4428, 'without:': 6625, 'sneak': 5429, 'shape': 5199, 'refresh': 4796, 'judges': 3181, \"g'night\": 2384, 'showered': 5259, 'idea': 2944, 'notices': 4076, 'tiger': 6057, 'youse': 6764, 'plant': 4426, 'lessee': 3396, 'heather': 2732, 'catholic': 980, \"someone's\": 5480, 'hunky': 2913, 'chubby': 1112, 'yawns': 6720, 'piling': 4392, 'forehead': 2273, 'transfer': 6150, 'asked': 361, 'rancid': 4730, 'test': 5949, 'bar:': 475, 'once': 4156, 'belong': 585, 'stands': 5613, 'scatter': 5067, 'occupancy': 4110, 'celebration': 994, 'safecracker': 5004, 'scientific': 5080, 'delivery_boy:': 1553, 'lifters': 3424, 'then': 5982, 'gruff': 2584, 'jackson': 3110, 'drunkenly': 1783, 'swooning': 5838, 'uncle': 6265, \"playin'\": 4439, 'regulations': 4806, \"comin'\": 1230, 'chic': 1073, 'when': 6531, 'hub': 2895, \"phone's\": 4368, 'patrons': 4298, 'lise:': 3457, \"ma's\": 3577, 'extended': 2032, 'tanked-up': 5876, 'ladder': 3309, 'danny': 1480, 'psst': 4626, \"i-i'm\": 2937, 'flowers': 2232, 'jack': 3104, 'idioms': 2949, 'pool': 4490, 'suspenders': 5805, 'foundation': 2297, \"number's\": 4089, 'finishing': 2178, 'silent': 5297, 'the': 5972, 'either': 1886, \"startin'\": 5624, 'helps': 2757, 'spend': 5538, 'where': 6535, \"c'mom\": 890, 'gotten': 2524, 'the_edge:': 5973, 'alone': 229, \"moe's_thoughts:\": 3825, 'gal': 2391, 'effects': 1864, 'fistiana': 2194, 'jerks': 3141, 'absorbent': 92, 'astonishment': 375, 'recruiter': 4785, 'ahead': 184, 'eliminate': 1895, 'pictured': 4386, 'faith': 2066, 'spied': 5544, \"renee's\": 4837, 'punishment': 4649, 'schnapps': 5075, 'mild': 3759, 'wife': 6574, 'deliberate': 1544, 'cell': 998, 'brow': 807, 'gruesome': 2583, 'cakes': 900, 'full-time': 2360, 'gargoyle': 2404, 'level': 3402, 'reckless': 4778, \"foolin'\": 2260, 'pussycat': 4661, 'fast-paced': 2091, 'inanely': 2977, 'temples': 5929, 'maintenance': 3602, 'kiss': 3261, 'online': 4163, \"haven't\": 2700, 'goal': 2496, \"'ceptin'\": 6, 'kim_basinger:': 3250, '8': 49, 'mathis': 3671, 'leans': 3358, 'hero-phobia': 2767, 'fast-food': 2090, 'wave': 6461, \"snappin'\": 5425, 'burps': 855, 'fixes': 2200, 'things': 6001, 'dramatic': 1737, 'built': 828, 'awesome': 416, 'firm': 2187, 'espn': 1962, 'tired': 6073, 'bleak': 644, 'barflies:': 483, 'issuing': 3087, 'gibson': 2455, 'bitterly': 634, 'careful': 947, 'blossoming': 665, 'brick': 775, 'force': 2269, 'occasional': 4109, 'comfortable': 1226, 'quimby': 4686, 'oughtta': 4202, 'dipping': 1634, 'pronounce': 4610, 'customer': 1444, \"mecca's\": 3706, 'tester': 5952, 'startled': 5626, 'wiggle': 6577, 'pulling': 4643, 'recorded': 4782, 'screws': 5097, 'pian-ee': 4375, 'hammock': 2642, 'something': 5485, 'attraction': 391, 'modern': 3820, 'mirthless': 3787, 'butt': 871, 'loafers': 3482, 'bellyaching': 584, 'monkey': 3844, 'believe': 578, 'carey': 950, 'toss': 6117, 'doctor': 1687, 'quit': 4689, 'terrific': 5943, 'perfunctory': 4341, 'slaps': 5362, 'anthony_kiedis:': 290, 'hammer': 2641, 'bras': 755, 'support': 5788, 'confidentially': 1277, 'hispanic_crowd:': 2798, 'except': 1998, 'hear': 2721, 'hope': 2857, 'walked': 6411, 'exhaust': 2010, 'cattle': 982, 'nasa': 3958, 'moe_szyslak:': 3833, 'shoulders': 5250, 'village': 6369, 'ambrosia': 248, 'rest': 4866, 'yew': 6741, 'flea:': 2218, 'lemme': 3381, 'healthier': 2720, \"aristotle's\": 339, 'potatoes': 4512, 'maya': 3678, 'larry:': 3335, 'fat': 2093, 'lists': 3465, 'einstein': 1885, 'killarney': 3244, 'cheery': 1065, 'souped': 5510, 'sly': 5390, 'criminal': 1400, 'railroads': 4714, 'salt': 5020, 'choice:': 1096, 'estranged': 1964, 'raging': 4711, \"murphy's\": 3918, 'ticks': 6053, 'sweat': 5815, 'larry': 3333, 'arms': 343, 'chuckling': 1116, 'feelings': 2119, 'average-looking': 409, 'louder': 3532, 'peaked': 4317, 'defiantly': 1537, 'tax': 5895, 'reentering': 4789, 'pleasant': 4443, 'theme': 5980, 'yellow': 6732, 'so': 5445, 'thousand-year': 6032, 'limits': 3439, 'e-z': 1823, 'snackie': 5419, 'good-looking': 2511, \"clancy's\": 1139, 's-a-u-r-c-e': 4993, 'initially': 3015, 'edgy': 1855, 'environment': 1952, 'crossed': 1408, \"i've\": 2934, 'ghouls': 2453, 'freeze': 2322, 'symphonies': 5842, 'try': 6196, 'toledo': 6089, 'feminine': 2131, 'dana_scully:': 1472, 'bulldozing': 831, 'landfill': 3322, 'dreary': 1750, 'andrew': 269, 'kidding': 3237, 'finished': 2177, 'smuggled': 5416, 'count': 1341, 'partners': 4279, 'helpful': 2754, 'nevada': 4005, \"who's\": 6556, 'warm_female_voice:': 6431, 'ga': 2386, 'flash': 2211, \"idea's\": 2945, 'rims': 4902, 'swatch': 5812, 'threatening': 6034, 'citizens': 1131, 'self-esteem': 5141, 'voyager': 6391, 'carlson': 958, \"tramp's\": 6149, 'encouraging': 1919, 'all': 215, 'sticking-place': 5669, 'nap': 3953, 'lap': 3329, 'tradition': 6139, 'statues': 5639, 'sponsoring': 5563, 'corkscrews': 1321, 'glass': 2479, 'jebediah': 3131, 'viva': 6379, 'blood': 660, 'brassiest': 756, 'poetics': 4462, 'shaky': 5195, 'helped': 2753, 'oof': 4167, 'background': 439, 'passports': 4287, 'mariah': 3649, \"men's\": 3722, 'nine': 4032, 'impeach': 2966, 'flash-fry': 2212, '3': 38, \"people's\": 4328, 'portuguese': 4504, 'hugh:': 2902, \"renovatin'\": 4840, 'hey': 2772, 'gay': 2415, 'unfresh': 6286, 'neon': 3999, 'flustered': 2237, 'cheaper': 1051, \"this'll\": 6015, 'intoxicants': 3055, 'grabbing': 2528, \"'n'\": 14, 'treats': 6161, 'awe': 414, 'oils': 4141, 'worth': 6676, \"kiddin'\": 3236, 'icy': 2942, 'injury': 3016, 'thanksgiving': 5966, 'marry': 3656, 'sedaris': 5124, 'moxie': 3891, 'prayers': 4527, 'extinguishers': 2033, 'kazoo': 3210, 'dreamy': 1749, 'spit-backs': 5552, 'bowled': 728, 'stewart': 5664, 'lungs': 3565, 'lives': 3474, 'thoughtless': 6029, 'orifice': 4190, 'backgammon': 438, 'owe': 4220, 'adult_bart:': 140, 'slobbo': 5379, 'minister': 3779, 'chug': 1117, 'democrats': 1559, 'remote': 4834, 'wiggle-frowns': 6578, 'alpha-crow': 231, 'cowboys': 1366, \"s'okay\": 4991, 'ali': 210, 'obsessive-compulsive': 4106, 'shoes': 5231, 'reach': 4747, 'listening': 3463, 'run': 4977, 'grateful': 2547, 'stillwater:': 5672, 'eyeing': 2044, 'beginning': 569, \"'roids\": 17, 'sunday': 5771, 'filth': 2164, 'store': 5696, 'caught': 984, 'mabel': 3578, 'anyhoo': 297, 'hate': 2693, 'scent': 5069, 'suspect': 5803, 'own': 4222, 'way:': 6463, 'grind': 2568, 'dozen': 1732, 'bon-bons': 687, 'day': 1499, 'liable': 3405, 'hooters': 2854, 'witches': 6622, 'snake_jailbird:': 5423, 'pained': 4240, 'remembering': 4828, 'barf': 481, 'calm': 910, 'michael_stipe:': 3743, '__semicolon__': 61, 'hollowed-out': 2825, 'represent': 4854, 'melodramatic': 3718, 'score': 5084, 'p-k': 4228, 'reactions': 4752, \"beggin'\": 566, 'ding-a-ding-ding-a-ding-ding': 1628, \"tatum'll\": 5891, 'hunka': 2912, 'tv_daughter:': 6217, 'stretch': 5717, 'months': 3851, 'depository': 1570, 'panicked': 4254, 'growing': 2578, 't-shirt': 5848, 'anxious': 294, 'homie': 2841, 'henry': 2761, 'conditioner': 1268, 'amends': 249, 'depressant': 1571, 'banquo': 471, 'urge': 6320, 'faded': 2059, 'sports': 5567, 'enjoys': 1938, 'lush': 3569, 'ecru': 1850, 'scotch': 5088, 'radishes': 4703, 'senators': 5154, \"hell's\": 2748, 'sideshow_mel:': 5287, 'poured': 4516, 'moment': 3837, 'monkeyshines': 3845, 'nonchalant': 4052, 'baby': 432, 'overturned': 4218, \"valentine's\": 6336, 'alky': 214, 'peppy': 4332, 'fritz:': 2343, 'unfair': 6282, 'six': 5337, 'ruby-studded': 4962, 'pushes': 4658, 'principal': 4576, 'france': 2308, 'men:': 3723, 'sings': 5317, 'cab_driver:': 893, 'island': 3082, 'play': 4433, 'majority': 3605, 'satisfaction': 5043, 'soul-crushing': 5504, 'focus': 2242, 'furry': 2374, 'history': 2799, 'fires': 2184, 'ooo': 4169, 'helllp': 2750, 'twenty-nine': 6228, 'jogging': 3161, '1973': 32, 'fry': 2353, 'angel': 271, 'stained-glass': 5601, 'shoots': 5236, 'lily-pond': 3434, 'unattractive': 6261, 'wheels': 6530, 'position': 4505, 'brag': 745, 'ear': 1826, 'law': 3349, 'ceremony': 1005, 'accept': 97, 'bar_rag:': 476, 'ominous': 4152, 'birthplace': 628, 'knowing': 3283, 'mushy': 3922, 'delightfully': 1551, 'hilton': 2791, 'diapers': 1603, 'lanes': 3324, 'bathtub': 516, \"toot's\": 6111, 'small': 5393, 'suit': 5765, 'fears': 2110, 'invisible': 3065, 'share': 5201, 'taunting': 5893, 'string': 5720, 'ons': 4165, 'quality': 4671, 'tomato': 6094, 'infor': 3007, 'vampires': 6341, 'stood': 5689, 'multiple': 3908, 'accent': 96, \"ball's\": 457, 'frink': 2340, 'lovers': 3545, 'hm': 2805, 'denver': 1565, 'smithers': 5406, 'though:': 6023, 'trip': 6175, 'virtual': 6377, 'dignified': 1621, 'hostages': 2872, 'pal': 4249, 'wobble': 6629, 'forbidden': 2267, 'veteran': 6359, 'bake': 454, 'survive': 5801, 'cigarette': 1127, 'further': 2375, 'western': 6506, 'liar': 3406, 'kang:': 3205, 'dryer': 1786, 'pad': 4232, 'chauffeur:': 1048, 'groans': 2570, 'stirrers': 5680, 'expert': 2022, 'don': 1704, 'fans': 2082, 'plastered': 4430, 'businessman_#1:': 865, 'traitor': 6147, 'according': 103, 'bump': 838, 'whining': 6542, 'five-fifteen': 2197, 'tasimeter': 5886, 'reflected': 4795, 'patriotic': 4295, 'artie_ziff:': 353, 'ees': 1862, 'quotes': 4692, 'accounta': 104, 'one-hour': 4159, 'teenage_bart:': 5915, 'twelve-step': 6222, 'awful': 417, 'curds': 1436, 'agreement': 181, 'bob': 679, 'wiping': 6612, 'balls': 462, \"fine-lookin'\": 2172, 'planted': 4427, 'grandkids': 2541, 'albeit': 201, 'slogan': 5382, 'jeff': 3134, 'married': 3655, 'skinner': 5351, 'wins': 6608, 'brave': 758, 'wine': 6600, 'lied': 3413, 'stock': 5682, 'canoodling': 927, 'kako:': 3204, 'swig': 5827, 'shorter': 5243, 'trying': 6198, 'tapered': 5881, 'fix': 2198, 'frustrated': 2352, 'bet': 596, 'forty-nine': 2292, 'cadillac': 895, 'u2:': 6244, 'pick': 4377, 'energy': 1927, \"neighbor's\": 3989, 'crimes': 1399, 'rainforest': 4717, 'meyerhof': 3739, 'juice': 3183, 'challenge': 1015, 'pathetic': 4292, 'moe-heads': 3828, 'linda_ronstadt:': 3442, 'rockers': 4923, 'powers': 4521, 'optimistic': 4180, 'penny': 4326, 'important': 2968, 'listens': 3464, 'leftover': 3372, 'spitting': 5555, 'admit': 134, 'make:': 3607, 'shush': 5270, 'ron': 4935, 'offense': 4125, 'muertos': 3899, 'glove': 2488, \"spaghetti-o's\": 5519, 'bam': 464, 'dan': 1470, 'outlive': 4206, 'inquiries': 3021, 'enthusiasm': 1946, 'incognito': 2983, 'gets': 2445, 'food': 2257, 'beloved': 586, 'indecipherable': 2989, 'glee': 2481, 'hurting': 2918, 'times': 6064, 'doreen:': 1724, 'character': 1033, 'mmm': 3807, 'trees': 6166, '__comma__': 52, 'sucked': 5749, 'root': 4942, 'verticality': 6356, 'goblins': 2497, 'moe-clone:': 3827, 'searching': 5109, 'mmmm': 3809, 'dog': 1691, 'ugh': 6245, 'p': 4227, 'highball': 2783, 'richer': 4890, 'updated': 6312, 'polls': 4486, 'cookies': 1313, 'sprawl': 5572, 'william': 6586, 'impending': 2967, 'newsies': 4012, 'sits': 5333, 'huggenkiss': 2900, ':': 51, 'full-bodied': 2359, 'blimp': 650, 'wishful': 6619, 'acquitted': 110, 'frightened': 2338, 'information': 3009, 'stay': 5640, 'cameras': 915, 'prohibit': 4603, 'tony': 6107, 'machine': 3583, 'robbers': 4918, 'morose': 3866, 'al_gore:': 199, \"coffee'll\": 1198, 'ned_flanders:': 3982, 'sturdy': 5740, 'heavyset': 2738, 'lecture': 3368, 'voice_on_transmitter:': 6383, 'grrrreetings': 2579, 'crowd:': 1413, 'prime': 4572, 'rupert_murdoch:': 4983, 'slightly': 5374, 'noble': 4043, 'yoink': 6745, 'graveyard': 2550, 'woo-hoo': 6650, 'troy_mcclure:': 6186, 'shoot': 5233, 'composite': 1257, 'bad': 443, 'gluten': 2492, 'pulled': 4641, 'astronaut': 377, \"duelin'\": 1792, 'lenses': 3392, 'fritz': 2342, 'ma': 3575, 'successful': 5746, 'texas': 5956, 'whether': 6538, 'blend': 646, 'lips': 3451, 'blown': 669, 'accidents': 102, 'read': 4753, 'ugliness': 6248, 'apartment': 305, 'colorado': 1214, 'beer': 555, 'freak': 2315, 'lucinda': 3555, 'quite': 4691, 'jewish': 3149, 'parked': 4271, 'backwards': 442, 'wheel': 6529, 'peach': 4316, 'you': 6747, 'moon': 3854, 'windex': 6596, 'wow': 6684, 'bitter': 633, 'donate': 1707, '1979': 33, 'togetherness': 6085, 'heh': 2741, 'sounds': 5508, 'dropping': 1776, 'buzz': 883, 'bridges': 778, 'wildfever': 6584, 'yep': 6736, 'troy:': 6185, 'fellas': 2126, \"tryin'\": 6197, 'cheerleaders:': 1063, 'could': 1338, 'ford': 2271, 'heads': 2716, 'defeated': 1534, 'fly': 2238, 'escort': 1960, 'social': 5459, 'allowed': 224, 'convinced': 1311, 'elves:': 1902, 'kisser': 3263, 'professional': 4596, 'doom': 1718, 'miss_lois_pennycandy:': 3793, 'app': 308, 'strategizing': 5711, 'sixteen': 5339, 'over': 4213, 'faceful': 2054, 'tar-paper': 5885, \"tony's\": 6108, 'seminar': 5151, 'entrance': 1950, 'la': 3304, 'contemplated': 1295, 'slugger': 5387, 'ivana': 3099, 'dang': 1475, 'etc': 1965, 'high-definition': 2781, 'snow': 5444, 'billboard': 617, 'frankenstein': 2309, 'pall': 4250, 'crazy': 1385, 'faced': 2053, 'nicer': 4020, 'grammys': 2536, 'interrupting': 3051, 'choked': 1100, 'speak': 5523, 'date': 1490, 'ivory': 3101, 'birthday': 627, 'abusive': 93, 'busy': 869, 'flashbacks': 2213, 'fine': 2171, 'writer:': 6694, 'snotball': 5441, 'hole': 2821, 'partner': 4278, 'puff': 4633, 'steely-eyed': 5655, 'agree': 180, 'led': 3369, 'chunk': 1122, 'reaction': 4751, 'complaining': 1248, 'stats': 5637, 'slender': 5370, 'para': 4263, 'surprised': 5797, 'brockelstein': 792, 'law-abiding': 3350, 'boring': 709, 'officer': 4129, 'upsetting': 6317, 'shakespeare': 5193, 'workers': 6663, 'midge': 3753, 'advance': 141, 'lock': 3491, 'kindly': 3254, 'newsletter': 4013, 'discussing': 1653, 'road': 4916, 'whatever': 6525, 'punkin': 4651, 'effervescent': 1866, 'weak': 6476, 'naturally': 3964, 'wounds': 6683, 'slow': 5386, 'aggravazes': 174, 'conspiracy': 1290, 'notch': 4071, 'subscriptions': 5744, 'anywhere': 303, 'ingredient': 3013, 'tape': 5880, 'subject': 5743, 'achem': 108, 'killed': 3245, 'died': 1612, \"d'ya\": 1456, 'work': 6661, 'later': 3341, 'pontiff': 4489, 'twerpy': 6231, 'sistine': 5328, 'barney-shaped_form:': 491, 'popping': 4498, 'tap': 5878, 'lou': 3529, 'find': 2169, 'shrugging': 5267, 'loves': 3547, 'winning': 6605, 'cooler': 1316, 'ball': 456, 'dr': 1733, 'blocked': 658, 'men': 3721, 'excitement': 2003, 'bury': 859, 'license': 3411, 'dame': 1465, 'ivanna': 3100, 'girls': 2472, 'nope': 4060, 'tapestry': 5882, 'strips': 5723, \"wait'll\": 6404, 'reserve': 4860, 'powered': 4519, 'fevered': 2139, 'night': 4028, 'duffman': 1797, 'pajamas': 4248, 'dizzy': 1684, 'quarter': 4673, 'bed': 544, 'debonair': 1517, \"i-i'll\": 2936, 'instead': 3036, 'queen': 4676, 'warranty': 6437, \"that'd\": 5968, 'mad': 3585, 'published': 4630, 'settled': 5175, 'nordiques': 4062, 'eighty-six': 1883, 'sir': 5323, \"neat's-foot\": 3976, 'chew': 1071, 'navy': 3969, 'compressions': 1258, 'assumed': 374, 'forty-two': 2294, 'out': 4205, 'system': 5846, 'wipe': 6610, 'settlement': 5176, 'evasive': 1971, 'fan': 2079, \"nixon's\": 4040, \"you've\": 6751, 'campaign': 917, 'advantage': 142, 'playful': 4437, 'dejected_barfly:': 1540, 'asses': 370, 'almost': 228, 'attractive_woman_#1:': 393, 'sodas': 5464, 'plain': 4417, 'merchants': 3728, 'doors': 1721, 'microwave': 3749, 'w-a-3-q-i-zed': 6395, 'slight': 5373, 'comic': 1228, 'shaggy': 5189, 'ruined': 4968, 're:': 4746, 'whispers': 6548, 'advice': 146, 'easy-going': 1839, 'short': 5240, 'grandé': 2544, 'shoulda': 5248, \"it'll\": 3090, 'hottest': 2880, 'madonna': 3589, 'pleasure': 4447, 'older': 4148, 'lainie:': 3318, 'treat': 6159, 'gel': 2421, 'boxer': 733, 'begins': 570, 'grienke': 2561, 'wears': 6482, 'telemarketing': 5919, 'beers': 560, 'scratching': 5093, 'aquafresh': 328, 'halloween': 2639, 'marquee': 3653, 'story': 5702, 'reader': 4755, 'hoping': 2860, 'drawer': 1742, 'laughing': 3345, 'chain': 1011, 'ocean': 4116, 'seven': 5178, 'simpson': 5302, 'period': 4343, 'regretted': 4804, 'gary:': 2406, 'thankful': 5963, 'unkempt': 6297, 'belly-aching': 583, 'than': 5961, 'eddie': 1851, 'burns': 852, 'yourself': 6762, 'jukebox_record:': 3186, \"department's\": 1568, 'guys': 2616, 'shock': 5228, 'tabooger': 5854, 'eighty-seven': 1882, 'audience': 396, 'amber': 245, 'crayola': 1383, 'lloyd': 3478, 'restaurant': 4867, 'kyoto': 3302, 'compliment': 1254, 'enabling': 1915, 'hellhole': 2749, 'confident': 1275, 'single-mindedness': 5316, 'address': 125, 'drift': 1757, 'düff': 1820, 'driveability': 1765, 'positive': 4506, 'dating': 1493, 'committing': 1237, 'joy': 3175, 'opens': 4177, '14': 30, 'hygienically': 2925, 'finance': 2168, 'koholic': 3291, 'amused': 258, 'happened': 2668, 'please/': 4445, 'firing': 2186, 'winston': 6609, 'muffled': 3900, 'amiable': 254, 'glummy': 2491, \"jackpot's\": 3107, 'set': 5173, 'scrubbing': 5099, 'thoughts': 6030, 'arrange': 346, 'anymore': 299, 'wazoo': 6469, 'thank': 5962, \"hadn't\": 2624, 'promotion': 4608, 'parents': 4268, \"spiffin'\": 5545, 'considering:': 1287, 'ummmmmmmmm': 6257, 'whenever': 6534, 'countryman': 1348, 'dum-dum': 1802, 'tearfully': 5906, 'legs:': 3380, 'bret:': 773, 'haw': 2703, 'hidden': 2776, 'bag': 450, 'gentle': 2428, 'microbrew': 3746, 'beating': 534, 'brunswick': 811, 'mafia': 3590, 'sweaty': 5817, 'tapping': 5883, 'woman': 6637, 'percent': 4336, 'selling': 5146, 'sent': 5161, 'worthless': 6677, \"'pu\": 16, 'facebook': 2052, 'bear': 528, 'living': 3476, 'pyramid': 4669, 'shakes': 5192, 'snake-handler': 5422, 'aims': 193, 'dads': 1461, 'eats': 1846, 'fresh': 2327, 'occupied': 4112, 'dismissive': 1665, 'touchdown': 6122, 'wild': 6582, 'mmm-hmm': 3808, 'life-partner': 3417, 'peeping': 4321, 'wall': 6414, \"writin'\": 6696, 'alarm': 200, 'divine': 1680, 'brings': 787, 'amber_dempsey:': 246, \"one's\": 4158, 'hemoglobin': 2758, 'housewife': 2886, 'stirring': 5681, 'pain': 4239, 'teach': 5899, 'children': 1081, 'past': 4288, 'patron_#1:': 4296, 'waylon': 6464, \"'morning\": 13, 'teenage_homer:': 5916, 'insulin': 3038, 'novelty': 4080, 'feminist': 2133, 'shocked': 5229, '_powers:': 70, 'sour': 5511, 'meteor': 3734, 'compels': 1244, 'barney': 488, 'bottles': 717, 'panicky': 4255, 'kemi': 3217, 'wondered': 6645, 'chapstick': 1031, 'cleaned': 1146, 'mason': 3663, 'edna': 1857, 'meanwhile': 3702, 'mountain': 3880, 'pre-recorded': 4530, 'serum': 5168, 'beeps': 554, 'drawn': 1745, 'illegal': 2957, 'flashing': 2214, 'approval': 323, \"'kay-zugg'\": 12, 'nameless': 3950, \"time's\": 6063, 'bigger': 612, 'luckiest': 3559, \"coaster's\": 1185, 'ground': 2574, 'persia': 4349, 'sense': 5158, \"'em\": 7, 'triple-sec': 6176, 'material': 3670, 'dignity': 1622, 'jovial': 3174, 'despite': 1586, 'title:': 6075, 'shred': 5263, 'safe': 5003, 'sampler': 5025, 'chilly': 1085, 'virile': 6375, 'expression': 2030, 'win': 6590, \"others'\": 4198, 'eww': 1989, 'pumping': 4645, 'smelly': 5400, 'remorseful': 4833, 'applicant': 316, 'yourse': 6761, 'goes': 2499, 'borrow': 711, 'adrift': 137, 'officials': 4131, 'choked-up': 1101, 'smallest': 5395, 'represents': 4855, 'wolverines': 6635, 'joey_kramer:': 3160, 'speech': 5534, 'op': 4173, 'musses': 3927, 'fwooof': 2382, 'fl': 2201, 'this:': 6016, 'generally': 2423, 'disappointing': 1645, 'tuna': 6204, 'that': 5967, 'occurs': 4115, 'mahatma': 3597, 'profiling': 4600, 'disaster': 1648, 'insist': 3028, 'pope': 4494, 'maman': 3618, 'crowd': 1412, 'actually': 120, 'gig': 2459, 'clapping': 1142, 'favorite': 2105, 'poisoning': 4474, 'contest': 1300, \"i'd\": 2928, 'moments': 3838, 'tense': 5935, 'stretches': 5718, 'huddle': 2897, 'puke': 4636, 'costume': 1332, 'coined': 1202, 'wha': 6508, 'march': 3642, 'device': 1596, 'muscle': 3919, 'attractive_woman_#2:': 394, 'cries': 1397, 'windshield': 6599, 'medical': 3709, 'four-drink': 2301, \"duff's\": 1794, 'shutup': 5274, 'nervous': 4002, 'beings': 575, 'choices:': 1098, \"shan't\": 5198, 'halvsies': 2640, 'friends': 2336, 'for': 2266, 'tinkle': 6066, 'clams': 1138, 'david': 1496, 'but': 870, 'bachelorette': 434, 'words': 6659, 'taxes': 5896, 'coy': 1367, 'cowboy': 1365, \"maggie's\": 3593, '6': 45, 'tonic': 6103, \"pope's\": 4495, 'not': 4069, 'splash': 5556, 'speaking': 5525, 'pantry': 4257, 'shuts': 5272, 'drank': 1739, 'oblongata': 4105, 'trivia': 6178, 'flush-town': 2236, 'chipped': 1091, 'musical': 3924, 'x-men': 6705, 'fired': 2183, 'sick': 5277, 'pronto': 4611, 'mini-dumpsters': 3777, \"'topes\": 22, 'cushions': 1443, 'jazz': 3129, 'adventure': 143, 'gayer': 2416, 'hoo': 2848, 'rock': 4922, 'enlightened': 1939, 'hans:': 2665, 'admirer': 132, 'classy': 1144, 'valley': 6337, 'brewed': 774, 'crystal': 1425, 'toy': 6135, 'confused': 1278, 'stole': 5684, 'burt_reynolds:': 858, 'yee-ha': 6727, 'supreme': 5792, 'doubt': 1727, 'tones': 6101, 'lifetime': 3422, 'preparation': 4540, 'speed': 5535, 'hers': 2769, 'cooker': 1312, 'nobody': 4044, 'acting': 114, 'blues': 673, 'napkins': 3954, 'wooooo': 6654, 'little_hibbert_girl:': 3469, 'sweater': 5816, 'rat': 4738, 'jerry': 3144, 'devils:': 1597, 'gumbel': 2601, 'actors': 118, \"plaster's\": 4429, 'three': 6035, 'batmobile': 517, 'closer': 1168, \"sat's\": 5041, 'baloney': 463, 'smoke': 5408, 'villanova': 6370, 'twenty-two': 6230, 'uh': 6250, 'prompting': 4609, 'widow': 6570, 'one': 4157, 'barkeeps': 486, 'premise': 4538, 'sanitation': 5032, 'ails': 192, 'mimes': 3770, 'buzziness': 884, 'civic': 1134, 'dirt': 1640, 'graves': 2549, 'typing': 6241, 'bell': 581, 'beaumarchais': 537, 'fad': 2058, 'college': 1209, 'darkest': 1483, 'hunter': 2914, 'fainted': 2064, 'heaven': 2735, 'start': 5621, 'crime': 1398, 'hanh': 2663, 'naegle': 3939, \"makin'\": 3609, 'stupidest': 5738, 'sucker': 5750, 'proud': 4621, 'ticket': 6051, 'multi-national': 3906, 'offa': 4123, 'hoped': 2858, 'sneeze': 5432, 'jig': 3150, 'remember': 4826, 'starla:': 5618, 'liser': 3458, 'barstools': 495, 'young_moe:': 6757, 'problemo': 4588, 'polishing': 4481, 'formico:': 2286, 'heave-ho': 2734, 'without': 6624, 'madison': 3587, 'groan': 2569, 'notorious': 4078, \"'round\": 18, \"mcstagger's\": 3690, 'newsweek': 4015, 'greatest': 2553, 'hibachi': 2774, 'nods': 4045, 'showing': 5261, 'class': 1143, 'code': 1196, 'illustrates': 2959, 'd': 1454, 'loaded': 3481, 'racially-diverse': 4697, 'drown': 1778, 'finale': 2166, 'abandon': 79, 'reminded': 4830}\n"
     ]
    }
   ],
   "source": [
    "# debug helper \n",
    "text = helper.load_data(data_dir)\n",
    "\n",
    "# Ignore notice, since we don't use it for analysing the data\n",
    "text = text[81:]\n",
    "\n",
    "token_dict = token_lookup()\n",
    "for key, token in token_dict.items():\n",
    "    text = text.replace(key, ' {} '.format(token))\n",
    "\n",
    "text = text.lower()\n",
    "text = text.split()\n",
    "\n",
    "vocab_to_int, int_to_vocab = create_lookup_tables(text)\n",
    "\n",
    "print(vocab_to_int)"
   ]
  },
  {
   "cell_type": "code",
   "execution_count": 8,
   "metadata": {
    "collapsed": false,
    "deletable": true,
    "editable": true
   },
   "outputs": [],
   "source": [
    "import pickle\n",
    "int_text = [vocab_to_int[word] for word in text]\n",
    "pickle.dump((int_text, vocab_to_int, int_to_vocab, token_dict), open('preprocess.p', 'wb'))"
   ]
  },
  {
   "cell_type": "code",
   "execution_count": 9,
   "metadata": {
    "collapsed": false,
    "deletable": true,
    "editable": true
   },
   "outputs": [],
   "source": [
    "\"\"\"\n",
    "DON'T MODIFY ANYTHING IN THIS CELL\n",
    "\"\"\"\n",
    "# Preprocess Training, Validation, and Testing Data\n",
    "helper.preprocess_and_save_data(data_dir, token_lookup, create_lookup_tables)"
   ]
  },
  {
   "cell_type": "markdown",
   "metadata": {
    "deletable": true,
    "editable": true
   },
   "source": [
    "# Check Point\n",
    "This is your first checkpoint. If you ever decide to come back to this notebook or have to restart the notebook, you can start from here. The preprocessed data has been saved to disk."
   ]
  },
  {
   "cell_type": "code",
   "execution_count": 10,
   "metadata": {
    "collapsed": false,
    "deletable": true,
    "editable": true
   },
   "outputs": [],
   "source": [
    "\"\"\"\n",
    "DON'T MODIFY ANYTHING IN THIS CELL\n",
    "\"\"\"\n",
    "import helper\n",
    "import numpy as np\n",
    "import problem_unittests as tests\n",
    "\n",
    "int_text, vocab_to_int, int_to_vocab, token_dict = helper.load_preprocess()"
   ]
  },
  {
   "cell_type": "markdown",
   "metadata": {
    "deletable": true,
    "editable": true
   },
   "source": [
    "## Build the Neural Network\n",
    "You'll build the components necessary to build a RNN by implementing the following functions below:\n",
    "- get_inputs\n",
    "- get_init_cell\n",
    "- get_embed\n",
    "- build_rnn\n",
    "- build_nn\n",
    "- get_batches\n",
    "\n",
    "### Check the Version of TensorFlow and Access to GPU"
   ]
  },
  {
   "cell_type": "code",
   "execution_count": 11,
   "metadata": {
    "collapsed": false,
    "deletable": true,
    "editable": true
   },
   "outputs": [
    {
     "name": "stdout",
     "output_type": "stream",
     "text": [
      "TensorFlow Version: 1.0.0\n",
      "Default GPU Device: /gpu:0\n"
     ]
    }
   ],
   "source": [
    "\"\"\"\n",
    "DON'T MODIFY ANYTHING IN THIS CELL\n",
    "\"\"\"\n",
    "from distutils.version import LooseVersion\n",
    "import warnings\n",
    "import tensorflow as tf\n",
    "\n",
    "# Check TensorFlow Version\n",
    "assert LooseVersion(tf.__version__) >= LooseVersion('1.0'), 'Please use TensorFlow version 1.0 or newer'\n",
    "print('TensorFlow Version: {}'.format(tf.__version__))\n",
    "\n",
    "# Check for a GPU\n",
    "if not tf.test.gpu_device_name():\n",
    "    warnings.warn('No GPU found. Please use a GPU to train your neural network.')\n",
    "else:\n",
    "    print('Default GPU Device: {}'.format(tf.test.gpu_device_name()))"
   ]
  },
  {
   "cell_type": "markdown",
   "metadata": {
    "deletable": true,
    "editable": true
   },
   "source": [
    "### Input\n",
    "Implement the `get_inputs()` function to create TF Placeholders for the Neural Network.  It should create the following placeholders:\n",
    "- Input text placeholder named \"input\" using the [TF Placeholder](https://www.tensorflow.org/api_docs/python/tf/placeholder) `name` parameter.\n",
    "- Targets placeholder\n",
    "- Learning Rate placeholder\n",
    "\n",
    "Return the placeholders in the following the tuple `(Input, Targets, LearingRate)`"
   ]
  },
  {
   "cell_type": "code",
   "execution_count": 12,
   "metadata": {
    "collapsed": false,
    "deletable": true,
    "editable": true
   },
   "outputs": [],
   "source": [
    "def get_inputs():\n",
    "    \"\"\"\n",
    "    Create TF Placeholders for input, targets, and learning rate.\n",
    "    :return: Tuple (inputs, targets, learning rate)\n",
    "    \"\"\"    \n",
    "    inputs = tf.placeholder(tf.int32, [None, None], name='input')\n",
    "    targets = tf.placeholder(tf.int32, [None, None], name='label')\n",
    "    learning_rate = tf.placeholder(tf.float32, name='learning_rate')\n",
    "\n",
    "    return inputs, targets, learning_rate\n",
    "\n",
    "#input_data, targets, lr = get_inputs()\n",
    "#print((input_data.__doc__))"
   ]
  },
  {
   "cell_type": "code",
   "execution_count": 13,
   "metadata": {
    "collapsed": false,
    "deletable": true,
    "editable": true
   },
   "outputs": [
    {
     "name": "stdout",
     "output_type": "stream",
     "text": [
      "Tests Passed\n"
     ]
    }
   ],
   "source": [
    "\"\"\"\n",
    "DON'T MODIFY ANYTHING IN THIS CELL THAT IS BELOW THIS LINE\n",
    "\"\"\"\n",
    "tests.test_get_inputs(get_inputs)"
   ]
  },
  {
   "cell_type": "markdown",
   "metadata": {
    "deletable": true,
    "editable": true
   },
   "source": [
    "### Build RNN Cell and Initialize\n",
    "Stack one or more [`BasicLSTMCells`](https://www.tensorflow.org/api_docs/python/tf/contrib/rnn/BasicLSTMCell) in a [`MultiRNNCell`](https://www.tensorflow.org/api_docs/python/tf/contrib/rnn/MultiRNNCell).\n",
    "- The Rnn size should be set using `rnn_size`\n",
    "- Initalize Cell State using the MultiRNNCell's [`zero_state()`](https://www.tensorflow.org/api_docs/python/tf/contrib/rnn/MultiRNNCell#zero_state) function\n",
    "    - Apply the name \"initial_state\" to the initial state using [`tf.identity()`](https://www.tensorflow.org/api_docs/python/tf/identity)\n",
    "\n",
    "Return the cell and initial state in the following tuple `(Cell, InitialState)`"
   ]
  },
  {
   "cell_type": "code",
   "execution_count": 14,
   "metadata": {
    "collapsed": false,
    "deletable": true,
    "editable": true
   },
   "outputs": [],
   "source": [
    "lstm_layers = 1\n",
    "\n",
    "def get_init_cell(batch_size, rnn_size):\n",
    "    \"\"\"\n",
    "    Create an RNN Cell and initialize it.\n",
    "    :param batch_size: Size of batches\n",
    "    :param rnn_size: Size of RNNs\n",
    "    :return: Tuple (cell, initial_state)\n",
    "    \"\"\"\n",
    "    \n",
    "    # Your basic LSTM cell\n",
    "    lstm = tf.contrib.rnn.BasicLSTMCell(rnn_size)\n",
    "    \n",
    "    # Add dropout to the cell\n",
    "    #drop = tf.contrib.rnn.DropoutWrapper(lstm, output_keep_prob=keep_prob)\n",
    "    drop = lstm\n",
    "    \n",
    "    # Stack up multiple LSTM layers, for deep learning\n",
    "    cell = tf.contrib.rnn.MultiRNNCell([drop] * lstm_layers)\n",
    "    \n",
    "    # Getting an initial state of all zeros\n",
    "    initial_state = cell.zero_state(batch_size, tf.float32)\n",
    "    \n",
    "    initial_state = tf.identity(initial_state,'initial_state')\n",
    "    \n",
    "    return cell, initial_state\n",
    "\n"
   ]
  },
  {
   "cell_type": "code",
   "execution_count": 15,
   "metadata": {
    "collapsed": false,
    "deletable": true,
    "editable": true
   },
   "outputs": [
    {
     "name": "stdout",
     "output_type": "stream",
     "text": [
      "Tests Passed\n"
     ]
    }
   ],
   "source": [
    "\"\"\"\n",
    "DON'T MODIFY ANYTHING IN THIS CELL THAT IS BELOW THIS LINE\n",
    "\"\"\"\n",
    "tests.test_get_init_cell(get_init_cell)"
   ]
  },
  {
   "cell_type": "markdown",
   "metadata": {
    "deletable": true,
    "editable": true
   },
   "source": [
    "### Word Embedding\n",
    "Apply embedding to `input_data` using TensorFlow.  Return the embedded sequence."
   ]
  },
  {
   "cell_type": "code",
   "execution_count": 16,
   "metadata": {
    "collapsed": false,
    "deletable": true,
    "editable": true
   },
   "outputs": [
    {
     "name": "stdout",
     "output_type": "stream",
     "text": [
      "Tests Passed\n"
     ]
    }
   ],
   "source": [
    "def get_embed(input_data, vocab_size, embed_dim):\n",
    "    \"\"\"\n",
    "    Create embedding for <input_data>.\n",
    "    :param input_data: TF placeholder for text input.\n",
    "    :param vocab_size: Number of words in vocabulary.\n",
    "    :param embed_dim: Number of embedding dimensions\n",
    "    :return: Embedded input.\n",
    "    \"\"\"\n",
    "    #print(input_data)\n",
    "    #embedding = tf.Variable(tf.random_uniform((vocab_size, embed_dim), -1, 1),name='embedding_weights')\n",
    "    #print(embedding)\n",
    "    #embed = tf.nn.embedding_lookup(embedding, input_data)  \n",
    "    #print(embed)\n",
    "\n",
    "    return tf.contrib.layers.embed_sequence(input_data, vocab_size, embed_dim)\n",
    "\n",
    "\"\"\"\n",
    "DON'T MODIFY ANYTHING IN THIS CELL THAT IS BELOW THIS LINE\n",
    "\"\"\"\n",
    "tests.test_get_embed(get_embed)"
   ]
  },
  {
   "cell_type": "markdown",
   "metadata": {
    "deletable": true,
    "editable": true
   },
   "source": [
    "### Build RNN\n",
    "You created a RNN Cell in the `get_init_cell()` function.  Time to use the cell to create a RNN.\n",
    "- Build the RNN using the [`tf.nn.dynamic_rnn()`](https://www.tensorflow.org/api_docs/python/tf/nn/dynamic_rnn)\n",
    " - Apply the name \"final_state\" to the final state using [`tf.identity()`](https://www.tensorflow.org/api_docs/python/tf/identity)\n",
    "\n",
    "Return the outputs and final_state state in the following tuple `(Outputs, FinalState)` "
   ]
  },
  {
   "cell_type": "code",
   "execution_count": 17,
   "metadata": {
    "collapsed": false,
    "deletable": true,
    "editable": true
   },
   "outputs": [
    {
     "name": "stdout",
     "output_type": "stream",
     "text": [
      "Tests Passed\n"
     ]
    }
   ],
   "source": [
    "def build_rnn(cell, inputs):\n",
    "    \"\"\"\n",
    "    Create a RNN using a RNN Cell\n",
    "    :param cell: RNN Cell\n",
    "    :param inputs: Input text data\n",
    "    :return: Tuple (Outputs, Final State)\n",
    "    \"\"\"\n",
    "    #print(inputs)\n",
    "    \n",
    "    outputs, final_state = tf.nn.dynamic_rnn(cell, inputs,\n",
    "                                             dtype = tf.float32\n",
    "                                             #initial_state=initial_state\n",
    "                                            )\n",
    "    \n",
    "    final_state = tf.identity(final_state,'final_state')\n",
    "    #print(final_state)\n",
    "    #print(outputs)\n",
    "    return outputs, final_state\n",
    "\n",
    "\n",
    "\"\"\"\n",
    "DON'T MODIFY ANYTHING IN THIS CELL THAT IS BELOW THIS LINE\n",
    "\"\"\"\n",
    "tests.test_build_rnn(build_rnn)"
   ]
  },
  {
   "cell_type": "markdown",
   "metadata": {
    "deletable": true,
    "editable": true
   },
   "source": [
    "### Build the Neural Network\n",
    "Apply the functions you implemented above to:\n",
    "- Apply embedding to `input_data` using your `get_embed(input_data, vocab_size, embed_dim)` function.\n",
    "- Build RNN using `cell` and your `build_rnn(cell, inputs)` function.\n",
    "- Apply a fully connected layer with a linear activation and `vocab_size` as the number of outputs.\n",
    "\n",
    "Return the logits and final state in the following tuple (Logits, FinalState) "
   ]
  },
  {
   "cell_type": "code",
   "execution_count": 18,
   "metadata": {
    "collapsed": false,
    "deletable": true,
    "editable": true
   },
   "outputs": [
    {
     "name": "stdout",
     "output_type": "stream",
     "text": [
      "Tests Passed\n"
     ]
    }
   ],
   "source": [
    "def build_nn(cell, rnn_size, input_data, vocab_size):\n",
    "    \"\"\"\n",
    "    Build part of the neural network\n",
    "    :param cell: RNN cell\n",
    "    :param rnn_size: Size of rnns\n",
    "    :param input_data: Input data\n",
    "    :param vocab_size: Vocabulary size\n",
    "    :return: Tuple (Logits, FinalState)\n",
    "    \"\"\"\n",
    "    \n",
    "    embed = get_embed(input_data, vocab_size, rnn_size)\n",
    "    outputs, final_state = build_rnn(cell, embed)\n",
    "\n",
    "    logits = tf.contrib.layers.fully_connected(\n",
    "        outputs, \n",
    "        num_outputs=vocab_size,\n",
    "        activation_fn=None,\n",
    "        weights_initializer=tf.truncated_normal_initializer(stddev=0.01)\n",
    "        )\n",
    "\n",
    "    return logits, final_state\n",
    "\n",
    "\n",
    "\"\"\"\n",
    "DON'T MODIFY ANYTHING IN THIS CELL THAT IS BELOW THIS LINE\n",
    "\"\"\"\n",
    "tests.test_build_nn(build_nn)"
   ]
  },
  {
   "cell_type": "markdown",
   "metadata": {
    "deletable": true,
    "editable": true
   },
   "source": [
    "### Batches\n",
    "Implement `get_batches` to create batches of input and targets using `int_text`.  The batches should be a Numpy array with the shape `(number of batches, 2, batch size, sequence length)`. Each batch contains two elements:\n",
    "- The first element is a single batch of **input** with the shape `[batch size, sequence length]`\n",
    "- The second element is a single batch of **targets** with the shape `[batch size, sequence length]`\n",
    "\n",
    "If you can't fill the last batch with enough data, drop the last batch.\n",
    "\n",
    "For exmple, `get_batches([1, 2, 3, 4, 5, 6, 7, 8, 9, 10, 11, 12, 13, 14, 15], 2, 3)` would return a Numpy array of the following:\n",
    "```\n",
    "[\n",
    "  # First Batch\n",
    "  [\n",
    "    # Batch of Input\n",
    "    [[ 1  2  3], [ 7  8  9]],\n",
    "    # Batch of targets\n",
    "    [[ 2  3  4], [ 8  9 10]]\n",
    "  ],\n",
    " \n",
    "  # Second Batch\n",
    "  [\n",
    "    # Batch of Input\n",
    "    [[ 4  5  6], [10 11 12]],\n",
    "    # Batch of targets\n",
    "    [[ 5  6  7], [11 12 13]]\n",
    "  ]\n",
    "]\n",
    "```"
   ]
  },
  {
   "cell_type": "code",
   "execution_count": 19,
   "metadata": {
    "collapsed": false,
    "deletable": true,
    "editable": true
   },
   "outputs": [
    {
     "name": "stdout",
     "output_type": "stream",
     "text": [
      "Tests Passed\n"
     ]
    }
   ],
   "source": [
    "import random\n",
    "\n",
    "batch_distance_override = None\n",
    "\n",
    "def get_batches(int_text, batch_size, seq_length, batch_distance = None):\n",
    "    \"\"\"\n",
    "    Return batches of input and target\n",
    "    :param int_text: Text with the words replaced by their ids\n",
    "    :param batch_size: The size of batch\n",
    "    :param seq_length: The length of sequence\n",
    "    :return: Batches as a Numpy array\n",
    "    \"\"\"\n",
    "    x = int_text[:-1]\n",
    "    y = int_text[1:]\n",
    "    \n",
    "    #print('{} : {}'.format('seq_length',seq_length))\n",
    "    single_batch_len = len(x)-seq_length\n",
    "    #print('{} : {}'.format('single_batch_len',single_batch_len))\n",
    "    single_batch = np.empty([2,single_batch_len,seq_length])\n",
    "    \n",
    "    single_batch_range = list(range(single_batch_len))\n",
    "    \n",
    "    random.shuffle(single_batch_range)\n",
    "    #print(batch_range)\n",
    "    \n",
    "    ii2 = 0\n",
    "    for ii in single_batch_range:\n",
    "        single_batch [0,ii2] = x[ii:ii+seq_length]\n",
    "        single_batch [1,ii2] = y[ii:ii+seq_length]\n",
    "        ii2 += 1\n",
    "    \n",
    "    \n",
    "    #################################################################################################################\n",
    "    #\n",
    "    #\n",
    "    #  Question 1: why are the labels same length sequences of words not just the one word ?\n",
    "    #\n",
    "    #  Question 2: would it be better to set batch_distance to a smaller value ?\n",
    "    #\n",
    "    #\n",
    "    #################################################################################################################\n",
    "\n",
    "    if batch_distance == None:\n",
    "        batch_distance = seq_length # would be 1 better?\n",
    "        \n",
    "    if batch_distance_override != None:\n",
    "        batch_distance = batch_distance_override\n",
    "        \n",
    "    n_batches = single_batch_len//batch_size//batch_distance\n",
    "    result = np.empty([n_batches,2,batch_size,seq_length])\n",
    "\n",
    "    #print('{} : {}'.format('batch_size',batch_size))\n",
    "    #print('{} : {}'.format('n_batches',n_batches))\n",
    "    \n",
    "    batch_range = (list(range(n_batches)))\n",
    "    \n",
    "    for ii in range(n_batches): #range(0, len(x), batch_size):\n",
    "        iii = ii * batch_size * batch_distance\n",
    "        result[ii] = single_batch[:,iii:iii+batch_size]\n",
    "\n",
    "    return result\n",
    "\n",
    "\n",
    "\"\"\"\n",
    "DON'T MODIFY ANYTHING IN THIS CELL THAT IS BELOW THIS LINE\n",
    "\"\"\"\n",
    "tests.test_get_batches(get_batches)"
   ]
  },
  {
   "cell_type": "markdown",
   "metadata": {
    "deletable": true,
    "editable": true
   },
   "source": [
    "## Neural Network Training\n",
    "### Hyperparameters\n",
    "Tune the following parameters:\n",
    "\n",
    "- Set `num_epochs` to the number of epochs.\n",
    "- Set `batch_size` to the batch size.\n",
    "- Set `rnn_size` to the size of the RNNs.\n",
    "- Set `seq_length` to the length of sequence.\n",
    "- Set `learning_rate` to the learning rate.\n",
    "- Set `show_every_n_batches` to the number of batches the neural network should print progress."
   ]
  },
  {
   "cell_type": "code",
   "execution_count": 20,
   "metadata": {
    "collapsed": true,
    "deletable": true,
    "editable": true
   },
   "outputs": [],
   "source": [
    "###### Number of Epochs\n",
    "num_epochs = 2**11\n",
    "# Batch Size\n",
    "batch_size = 127*2**2 # Primfaktoren von 69088: 2, 2, 2, 2, 2, 17, 127\n",
    "# RNN Size\n",
    "rnn_size = 256\n",
    "# Sequence Length\n",
    "seq_length = 10\n",
    "# Learning Rate\n",
    "learning_rate = 0.001\n",
    "# Show stats for every n number of batches\n",
    "show_every_n_batches = 130 * 5\n",
    "# override batch_distance\n",
    "batch_distance_override =  seq_length\n",
    "\n",
    "\n",
    "\"\"\"\n",
    "DON'T MODIFY ANYTHING IN THIS CELL THAT IS BELOW THIS LINE\n",
    "\"\"\"\n",
    "save_dir = './save'"
   ]
  },
  {
   "cell_type": "markdown",
   "metadata": {
    "deletable": true,
    "editable": true
   },
   "source": [
    "### Build the Graph\n",
    "Build the graph using the neural network you implemented."
   ]
  },
  {
   "cell_type": "code",
   "execution_count": 21,
   "metadata": {
    "collapsed": false,
    "deletable": true,
    "editable": true
   },
   "outputs": [],
   "source": [
    "\"\"\"\n",
    "DON'T MODIFY ANYTHING IN THIS CELL\n",
    "\"\"\"\n",
    "from tensorflow.contrib import seq2seq\n",
    "\n",
    "train_graph = tf.Graph()\n",
    "with train_graph.as_default():\n",
    "    vocab_size = len(int_to_vocab)\n",
    "    input_text, targets, lr = get_inputs()\n",
    "    input_data_shape = tf.shape(input_text)\n",
    "    cell, initial_state = get_init_cell(input_data_shape[0], rnn_size)\n",
    "    logits, final_state = build_nn(cell, rnn_size, input_text, vocab_size)\n",
    "\n",
    "    # Probabilities for generating words\n",
    "    probs = tf.nn.softmax(logits, name='probs')\n",
    "\n",
    "    # Loss function\n",
    "    cost = seq2seq.sequence_loss(\n",
    "        logits,\n",
    "        targets,\n",
    "        tf.ones([input_data_shape[0], input_data_shape[1]]))\n",
    "\n",
    "    # Optimizer\n",
    "    optimizer = tf.train.AdamOptimizer(lr)\n",
    "\n",
    "    # Gradient Clipping\n",
    "    gradients = optimizer.compute_gradients(cost)\n",
    "    capped_gradients = [(tf.clip_by_value(grad, -1., 1.), var) for grad, var in gradients]\n",
    "    train_op = optimizer.apply_gradients(capped_gradients)"
   ]
  },
  {
   "cell_type": "markdown",
   "metadata": {
    "deletable": true,
    "editable": true
   },
   "source": [
    "## Train\n",
    "Train the neural network on the preprocessed data.  If you have a hard time getting a good loss, check the [forms](https://discussions.udacity.com/) to see if anyone is having the same problem."
   ]
  },
  {
   "cell_type": "code",
   "execution_count": 22,
   "metadata": {
    "collapsed": false,
    "deletable": true,
    "editable": true
   },
   "outputs": [],
   "source": [
    "\"\"\"\n",
    "DON'T MODIFY ANYTHING IN THIS CELL\n",
    "\"\" \"\n",
    "\n",
    "batches = get_batches(int_text, batch_size, seq_length)\n",
    "\n",
    "with tf.Session(graph=train_graph) as sess:\n",
    "    sess.run(tf.global_variables_initializer())\n",
    "\n",
    "    for epoch_i in range(num_epochs):\n",
    "        state = sess.run(initial_state, {input_text: batches[0][0]})\n",
    "\n",
    "        for batch_i, (x, y) in enumerate(batches):\n",
    "            feed = {\n",
    "                input_text: x,\n",
    "                targets: y,\n",
    "                initial_state: state,\n",
    "                lr: learning_rate}\n",
    "            train_loss, state, _ = sess.run([cost, final_state, train_op], feed)\n",
    "\n",
    "            # Show every <show_every_n_batches> batches\n",
    "            if (epoch_i * len(batches) + batch_i) % show_every_n_batches == 0:\n",
    "                print('Epoch {:>3} Batch {:>4}/{}   train_loss = {:.3f}'.format(\n",
    "                    epoch_i,\n",
    "                    batch_i,\n",
    "                    len(batches),\n",
    "                    train_loss))\n",
    "\n",
    "    # Save Model\n",
    "    saver = tf.train.Saver()\n",
    "    saver.save(sess, save_dir)\n",
    "    print('Model Trained and Saved')\n",
    "        \n",
    "\"\"\";"
   ]
  },
  {
   "cell_type": "code",
   "execution_count": 23,
   "metadata": {
    "collapsed": false,
    "deletable": true,
    "editable": true
   },
   "outputs": [
    {
     "name": "stdout",
     "output_type": "stream",
     "text": [
      "Initialised Model...\n",
      "Epoch   0 Batch    0/13   train_loss = 8.822\n",
      "Epoch  50 Batch    0/13   train_loss = 4.641\n",
      "Epoch 100 Batch    0/13   train_loss = 3.819\n",
      "Epoch 150 Batch    0/13   train_loss = 3.201\n",
      "Epoch 200 Batch    0/13   train_loss = 2.727\n",
      "Epoch 250 Batch    0/13   train_loss = 2.361\n",
      "Epoch 300 Batch    0/13   train_loss = 2.014\n",
      "Epoch 350 Batch    0/13   train_loss = 1.870\n",
      "Epoch 400 Batch    0/13   train_loss = 1.646\n",
      "Epoch 450 Batch    0/13   train_loss = 1.500\n",
      "Epoch 500 Batch    0/13   train_loss = 1.351\n",
      "Epoch 550 Batch    0/13   train_loss = 1.222\n",
      "Epoch 600 Batch    0/13   train_loss = 1.160\n",
      "Epoch 650 Batch    0/13   train_loss = 1.066\n",
      "Epoch 700 Batch    0/13   train_loss = 0.998\n",
      "Epoch 750 Batch    0/13   train_loss = 0.932\n",
      "Epoch 800 Batch    0/13   train_loss = 0.842\n",
      "Epoch 850 Batch    0/13   train_loss = 0.865\n",
      "Epoch 900 Batch    0/13   train_loss = 0.839\n",
      "Epoch 950 Batch    0/13   train_loss = 0.809\n",
      "Epoch 1000 Batch    0/13   train_loss = 0.788\n",
      "Epoch 1050 Batch    0/13   train_loss = 0.767\n",
      "Epoch 1100 Batch    0/13   train_loss = 0.759\n",
      "Epoch 1150 Batch    0/13   train_loss = 0.686\n",
      "Epoch 1200 Batch    0/13   train_loss = 0.712\n",
      "Epoch 1250 Batch    0/13   train_loss = 0.689\n",
      "Epoch 1300 Batch    0/13   train_loss = 0.687\n",
      "Epoch 1350 Batch    0/13   train_loss = 0.667\n",
      "Epoch 1400 Batch    0/13   train_loss = 0.642\n",
      "Epoch 1450 Batch    0/13   train_loss = 0.633\n",
      "Epoch 1500 Batch    0/13   train_loss = 0.665\n",
      "Epoch 1550 Batch    0/13   train_loss = 0.629\n",
      "Epoch 1600 Batch    0/13   train_loss = 0.645\n",
      "Epoch 1650 Batch    0/13   train_loss = 0.619\n",
      "Epoch 1700 Batch    0/13   train_loss = 0.635\n",
      "Epoch 1750 Batch    0/13   train_loss = 0.623\n",
      "Epoch 1800 Batch    0/13   train_loss = 0.634\n",
      "Epoch 1850 Batch    0/13   train_loss = 0.626\n",
      "Epoch 1900 Batch    0/13   train_loss = 0.625\n",
      "Epoch 1950 Batch    0/13   train_loss = 0.596\n",
      "Epoch 2000 Batch    0/13   train_loss = 0.596\n",
      "Epoch 2047 Batch   12/13   train_loss = 0.612\n",
      "Model Trained and Saved\n"
     ]
    },
    {
     "data": {
      "image/png": "[encoded data removed]",
      "text/plain": [
       "<matplotlib.figure.Figure at 0x7fe7bdcc0898>"
      ]
     },
     "metadata": {},
     "output_type": "display_data"
    }
   ],
   "source": [
    "# added cyclic save and restore to interrupt training\n",
    "\n",
    "# moved (rerandomised) batch generation in epoch loop\n",
    " \n",
    "import matplotlib.pyplot as plt\n",
    "import time\n",
    "\n",
    "#batches = get_batches(int_text, batch_size, seq_length)\n",
    "\n",
    "with tf.Session(graph=train_graph) as sess:\n",
    "    \n",
    "    try:\n",
    "        assert() #\n",
    "        saver.restore(sess, save_dir)\n",
    "        print('Model Restored :)')\n",
    "        with open('train_loss_history.p','rb') as file:\n",
    "            train_loss_history = pickle.load(file)\n",
    "        print('Loss_history Restored :)')\n",
    "    except:\n",
    "        train_loss_history = []\n",
    "        sess.run(tf.global_variables_initializer())\n",
    "        print('Initialised Model...')\n",
    "\n",
    "    for epoch_i in range(num_epochs):\n",
    "        \n",
    "        # rerandomise batches\n",
    "        batches = get_batches(int_text, batch_size, seq_length)\n",
    "\n",
    "        state = sess.run(initial_state, {input_text: batches[0][0]})\n",
    "    \n",
    "        start = time.time()\n",
    "        for batch_i, (x, y) in enumerate(batches):\n",
    "            feed = {\n",
    "                input_text: x,\n",
    "                targets: y,\n",
    "                initial_state: state,\n",
    "                lr: learning_rate}\n",
    "            train_loss, state, _ = sess.run([cost, final_state, train_op], feed)\n",
    "            \n",
    "            train_loss_history += [train_loss]\n",
    "\n",
    "            # Show every <show_every_n_batches> batches\n",
    "            if (epoch_i * len(batches) + batch_i) % show_every_n_batches == 0:\n",
    "                print('Epoch {:>3} Batch {:>4}/{}   train_loss = {:.3f}'.format(\n",
    "                    epoch_i,\n",
    "                    batch_i,\n",
    "                    len(batches),\n",
    "                    train_loss))\n",
    "                \n",
    "            if(train_loss<0.1):\n",
    "                break\n",
    "        if(train_loss<0.1):\n",
    "            break\n",
    "                \n",
    "                \n",
    "    #print('computation time : {}'.format(time.time() - start))\n",
    "    print('Epoch {:>3} Batch {:>4}/{}   train_loss = {:.3f}'.format(\n",
    "        epoch_i,\n",
    "        batch_i,\n",
    "        len(batches),\n",
    "        train_loss))\n",
    "    # Save Model\n",
    "    saver = tf.train.Saver()\n",
    "    saver.save(sess, save_dir)\n",
    "    pickle.dump((train_loss_history), open('train_loss_history.p', 'wb'))\n",
    "    print('Model Trained and Saved')\n",
    "    plt.plot(train_loss_history)\n",
    "    plt.show()"
   ]
  },
  {
   "cell_type": "markdown",
   "metadata": {
    "deletable": true,
    "editable": true
   },
   "source": [
    "## Save Parameters\n",
    "Save `seq_length` and `save_dir` for generating a new TV script."
   ]
  },
  {
   "cell_type": "code",
   "execution_count": 24,
   "metadata": {
    "collapsed": false,
    "deletable": true,
    "editable": true
   },
   "outputs": [],
   "source": [
    "\"\"\"\n",
    "DON'T MODIFY ANYTHING IN THIS CELL\n",
    "\"\"\"\n",
    "# Save parameters for checkpoint\n",
    "helper.save_params((seq_length, save_dir))"
   ]
  },
  {
   "cell_type": "markdown",
   "metadata": {
    "deletable": true,
    "editable": true
   },
   "source": [
    "# Checkpoint"
   ]
  },
  {
   "cell_type": "code",
   "execution_count": 25,
   "metadata": {
    "collapsed": false,
    "deletable": true,
    "editable": true
   },
   "outputs": [],
   "source": [
    "\"\"\"\n",
    "DON'T MODIFY ANYTHING IN THIS CELL\n",
    "\"\"\"\n",
    "import tensorflow as tf\n",
    "import numpy as np\n",
    "import helper\n",
    "import problem_unittests as tests\n",
    "\n",
    "_, vocab_to_int, int_to_vocab, token_dict = helper.load_preprocess()\n",
    "seq_length, load_dir = helper.load_params()"
   ]
  },
  {
   "cell_type": "markdown",
   "metadata": {
    "deletable": true,
    "editable": true
   },
   "source": [
    "## Implement Generate Functions\n",
    "### Get Tensors\n",
    "Get tensors from `loaded_graph` using the function [`get_tensor_by_name()`](https://www.tensorflow.org/api_docs/python/tf/Graph#get_tensor_by_name).  Get the tensors using the following names:\n",
    "- \"input:0\"\n",
    "- \"initial_state:0\"\n",
    "- \"final_state:0\"\n",
    "- \"probs:0\"\n",
    "\n",
    "Return the tensors in the following tuple `(InputTensor, InitialStateTensor, FinalStateTensor, ProbsTensor)` "
   ]
  },
  {
   "cell_type": "code",
   "execution_count": 26,
   "metadata": {
    "collapsed": false,
    "deletable": true,
    "editable": true
   },
   "outputs": [
    {
     "name": "stdout",
     "output_type": "stream",
     "text": [
      "Tests Passed\n"
     ]
    }
   ],
   "source": [
    "def get_tensors(loaded_graph):\n",
    "    \"\"\"\n",
    "    Get input, initial state, final state, and probabilities tensor from <loaded_graph>\n",
    "    :param loaded_graph: TensorFlow graph loaded from file\n",
    "    :return: Tuple (InputTensor, InitialStateTensor, FinalStateTensor, ProbsTensor)\n",
    "    \"\"\"\n",
    "    InputTensor        = loaded_graph.get_tensor_by_name(\"input:0\")\n",
    "    InitialStateTensor = loaded_graph.get_tensor_by_name(\"initial_state:0\")\n",
    "    FinalStateTensor   = loaded_graph.get_tensor_by_name(\"final_state:0\")\n",
    "    ProbsTensor        = loaded_graph.get_tensor_by_name(\"probs:0\")\n",
    "    return InputTensor, InitialStateTensor, FinalStateTensor, ProbsTensor\n",
    "\n",
    "\n",
    "\"\"\"\n",
    "DON'T MODIFY ANYTHING IN THIS CELL THAT IS BELOW THIS LINE\n",
    "\"\"\"\n",
    "tests.test_get_tensors(get_tensors)"
   ]
  },
  {
   "cell_type": "markdown",
   "metadata": {
    "deletable": true,
    "editable": true
   },
   "source": [
    "### Choose Word\n",
    "Implement the `pick_word()` function to select the next word using `probabilities`."
   ]
  },
  {
   "cell_type": "code",
   "execution_count": 27,
   "metadata": {
    "collapsed": false,
    "deletable": true,
    "editable": true
   },
   "outputs": [
    {
     "name": "stdout",
     "output_type": "stream",
     "text": [
      "Tests Passed\n"
     ]
    }
   ],
   "source": [
    "def pick_word(probabilities, int_to_vocab):\n",
    "    \"\"\"\n",
    "    Pick the next word in the generated text\n",
    "    :param probabilities: Probabilites of the next word\n",
    "    :param int_to_vocab: Dictionary of word ids as the keys and words as the values\n",
    "    :return: String of the predicted word\n",
    "    \"\"\"\n",
    "    \n",
    "    p2 = sorted(list(zip(list(probabilities),range(len(probabilities)))))\n",
    "\n",
    "    # ideas : randomise by threshold, memorise last picks to control repetition, ad theme dict, alliteration\n",
    "\n",
    "    return int_to_vocab[p2[-1][-1]]\n",
    "\n",
    "\n",
    "\"\"\"\n",
    "DON'T MODIFY ANYTHING IN THIS CELL THAT IS BELOW THIS LINE\n",
    "\"\"\"\n",
    "tests.test_pick_word(pick_word)"
   ]
  },
  {
   "cell_type": "markdown",
   "metadata": {
    "deletable": true,
    "editable": true
   },
   "source": [
    "## Generate TV Script\n",
    "This will generate the TV script for you.  Set `gen_length` to the length of TV script you want to generate."
   ]
  },
  {
   "cell_type": "code",
   "execution_count": 28,
   "metadata": {
    "collapsed": false,
    "deletable": true,
    "editable": true
   },
   "outputs": [
    {
     "name": "stdout",
     "output_type": "stream",
     "text": [
      "moe_szyslak:(into phone) moe's tavern. moe speaking.\n",
      "bart_simpson:(into phone) uh yes, i'm looking for a mrs. o'problem. first name... bee.\n",
      "moe_szyslak:(into phone) ah, yeah. just a minute, i'll check.(calling out) uh, bee o'problem. bee o'problem. c'mon, guys. do i have an o'problem here?\n",
      "barney_gumble: you sure do!\n",
      "moe_szyslak:(realizing) awwww.(into phone) it's you, isn't it?\n",
      "moe_szyslak: listen you, when i get a hold of you, i'm gonna use your head for a bucket and paint my house with your brains!\n",
      "bart_simpson: excuse me, i'm looking for--\n",
      "moe_szyslak: wait a minute. i know that voice.\n",
      "moe_szyslak: if it isn't little bart simpson! i haven't seen you in years.\n",
      "bart_simpson: that's right. that's my pop!\n",
      "moe_szyslak: ah, little bart... we hear all about your monkeyshines.\n",
      "moe_szyslak:(conspiratorial) bet you get into all kinds of trouble he don't even know about. am i right? huh? am i right?\n",
      "bart_simpson:(can't resist) yeah, well, i make some crank phone calls.\n",
      "moe_szyslak:(musses bart's hair)(laughs) that's great! hey, would you sing that old song you used to sing for me?\n",
      "bart_simpson:(a little embarrassed) moe, for you... anything?\n",
      "bart_simpson:(singing) every teddy bear who's been good is sure of a treat today/ there's lots of marvelous things to eat, and wonderful games to play/ beneath the trees, where nobody sees/ they'll hide and seek as long as they please/ today's the day the teddy bears have their picnic!\n",
      "moe_szyslak: he's a pip, this one is!\n",
      "c. _montgomery_burns: ah, the mirthless laugh of the damned. hold your nose, smithers, we're going in!\n",
      "c. _montgomery_burns:(to smithers) watch me blend in.(to moe) barkeep, some cheap domestic beer for me and my\" buddy\" here.\n",
      "homer_simpson: i'm not your buddy, you greedy old reptile!\n",
      "c. _montgomery_burns: smithers, who is this saucy fellow?\n",
      "waylon_smithers: homer simpson, sir. sector sieben-gruben-- i mean, sector 7g. recently terminated.\n",
      "homer_simpson: that's right. i lost my job so that you could have another 100 million dollars.\n",
      "homer_simpson:(pointed) let me ask you something. does your money cheer you up when you're feeling blue?\n",
      "c. _montgomery_burns: yes.\n",
      "homer_simpson: okay, bad example. so let me ask you this, does your money ever hug you when you come home at night?\n",
      "c. _montgomery_burns:(shaken) why, no.\n",
      "homer_simpson: and does it ever say,\" i love you?\"\n",
      "c. _montgomery_burns:(shaken) no, it doesn't.\n",
      "homer_simpson:(sing-song) nobody loves you. nobody loves you. you're old and you're ugly. nobody loves you. yea, yea, yea yea!\n",
      "homer_simpson: nobody loves you...\n",
      "c. _montgomery_burns: good heavens, smithers! they're not afraid of me anymore!\n",
      "bart_simpson: hey mr. burns, did you get that letter i sent?\n",
      "c. _montgomery_burns: letter? i don't recall any letter...\n",
      "bart_simpson: that's because i forgot to stamp it.\n",
      "moe_szyslak:(laughing) ah, that kid slays me.\n",
      "c. _montgomery_burns: that was no accident. let's get out of here.\n",
      "homer_simpson:(singing) na na na na / na na na na /\n",
      "barflies: hey hey hey / goodbye-- na na na na / na na na na /\n",
      "barflies: hey hey hey / goodbye-- na na na na / na na na na /\n",
      "barflies: hey hey hey / goodbye-- na na na na / na na na na /\n",
      "barflies: hey hey hey / goodbye-- na na na na / na na na na /\n",
      "barflies: hey hey hey / goodbye-- na na na na / na na na na /\n",
      "barflies: hey hey hey / goodbye-- na na na na / na na na na /\n",
      "barflies: hey hey hey / goodbye-- na na na na / na na na na /\n",
      "barflies: hey hey hey / goodbye-- na na na na / na na na na /\n",
      "barflies: hey hey hey / goodbye-- na na na na / na na na na /\n",
      "barflies: hey hey hey / goodbye-- na na na na / na na na na /\n",
      "barflies: hey hey hey / goodbye-- na na na na / na na na na /\n",
      "barflies: hey hey hey / goodbye-- na na na na / na na na na /\n",
      "barflies: hey hey hey / goodbye-- na na na na / na na na na /\n",
      "barflies: hey hey hey / goodbye-- na na na na / na na na na /\n",
      "barflies: hey hey hey / goodbye-- na na na na / na na na na /\n",
      "barflies: hey hey hey / goodbye-- na na na na / na na na na /\n",
      "barflies: hey hey hey / goodbye-- na na na na / na na na na /\n",
      "barflies: hey hey hey / goodbye\n"
     ]
    }
   ],
   "source": [
    "gen_length = 1000\n",
    "# homer_simpson, moe_szyslak, or Barney_Gumble\n",
    "prime_word = 'moe_szyslak'\n",
    "\n",
    "\"\"\"\n",
    "DON'T MODIFY ANYTHING IN THIS CELL THAT IS BELOW THIS LINE\n",
    "\"\"\"\n",
    "loaded_graph = tf.Graph()\n",
    "with tf.Session(graph=loaded_graph) as sess:\n",
    "    # Load saved model\n",
    "    loader = tf.train.import_meta_graph(load_dir + '.meta')\n",
    "    loader.restore(sess, load_dir)\n",
    "\n",
    "    # Get Tensors from loaded model\n",
    "    input_text, initial_state, final_state, probs = get_tensors(loaded_graph)\n",
    "\n",
    "    # Sentences generation setup\n",
    "    gen_sentences = [prime_word + ':']\n",
    "    prev_state = sess.run(initial_state, {input_text: np.array([[1]])})\n",
    "\n",
    "    # Generate sentences\n",
    "    for n in range(gen_length):\n",
    "        # Dynamic Input\n",
    "        dyn_input = [[vocab_to_int[word] for word in gen_sentences[-seq_length:]]]\n",
    "        dyn_seq_length = len(dyn_input[0])\n",
    "\n",
    "        # Get Prediction\n",
    "        probabilities, prev_state = sess.run(\n",
    "            [probs, final_state],\n",
    "            {input_text: dyn_input, initial_state: prev_state})\n",
    "        \n",
    "        pred_word = pick_word(probabilities[dyn_seq_length-1], int_to_vocab)\n",
    "\n",
    "        gen_sentences.append(pred_word)\n",
    "    \n",
    "    # Remove tokens\n",
    "    tv_script = ' '.join(gen_sentences)\n",
    "    for key, token in token_dict.items():\n",
    "        ending = ' ' if key in ['\\n', '(', '\"'] else ''\n",
    "        tv_script = tv_script.replace(' ' + token.lower(), key)\n",
    "    tv_script = tv_script.replace('\\n ', '\\n')\n",
    "    tv_script = tv_script.replace('( ', '(')\n",
    "        \n",
    "    print(tv_script)"
   ]
  },
  {
   "cell_type": "markdown",
   "metadata": {
    "deletable": true,
    "editable": true
   },
   "source": [
    "# The TV Script is Nonsensical\n",
    "It's ok if the TV script doesn't make any sense.  We trained on less than a megabyte of text.  In order to get good results, you'll have to use a smaller vocabulary or get more data.  Luckly there's more data!  As we mentioned in the begging of this project, this is a subset of [another dataset](https://www.kaggle.com/wcukierski/the-simpsons-by-the-data).  We didn't have you train on all the data, because that would take too long.  However, you are free to train your neural network on all the data.  After you complete the project, of course.\n",
    "# Submitting This Project\n",
    "When submitting this project, make sure to run all the cells before saving the notebook. Save the notebook file as \"dlnd_tv_script_generation.ipynb\" and save it as a HTML file under \"File\" -> \"Download as\". Include the \"helper.py\" and \"problem_unittests.py\" files in your submission."
   ]
  }
 ],
 "metadata": {
  "kernelspec": {
   "display_name": "Python 3",
   "language": "python",
   "name": "python3"
  },
  "language_info": {
   "codemirror_mode": {
    "name": "ipython",
    "version": 3
   },
   "file_extension": ".py",
   "mimetype": "text/x-python",
   "name": "python",
   "nbconvert_exporter": "python",
   "pygments_lexer": "ipython3",
   "version": "3.5.3"
  }
 },
 "nbformat": 4,
 "nbformat_minor": 0
}
