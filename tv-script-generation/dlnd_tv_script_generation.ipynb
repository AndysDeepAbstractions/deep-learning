{
 "cells": [
  {
   "cell_type": "markdown",
   "metadata": {
    "deletable": true,
    "editable": true
   },
   "source": [
    "# TV Script Generation\n",
    "In this project, you'll generate your own [Simpsons](https://en.wikipedia.org/wiki/The_Simpsons) TV scripts using RNNs.  You'll be using part of the [Simpsons dataset](https://www.kaggle.com/wcukierski/the-simpsons-by-the-data) of scripts from 27 seasons.  The Neural Network you'll build will generate a new TV script for a scene at [Moe's Tavern](https://simpsonswiki.com/wiki/Moe's_Tavern).\n",
    "## Get the Data\n",
    "The data is already provided for you.  You'll be using a subset of the original dataset.  It consists of only the scenes in Moe's Tavern.  This doesn't include other versions of the tavern, like \"Moe's Cavern\", \"Flaming Moe's\", \"Uncle Moe's Family Feed-Bag\", etc.."
   ]
  },
  {
   "cell_type": "code",
   "execution_count": 1,
   "metadata": {
    "collapsed": false,
    "deletable": true,
    "editable": true
   },
   "outputs": [],
   "source": [
    "\"\"\"\n",
    "DON'T MODIFY ANYTHING IN THIS CELL\n",
    "\"\"\"\n",
    "import helper\n",
    "\n",
    "data_dir = './data/simpsons/moes_tavern_lines.txt'\n",
    "text = helper.load_data(data_dir)\n",
    "# Ignore notice, since we don't use it for analysing the data\n",
    "text = text[81:]"
   ]
  },
  {
   "cell_type": "markdown",
   "metadata": {
    "deletable": true,
    "editable": true
   },
   "source": [
    "## Explore the Data\n",
    "Play around with `view_sentence_range` to view different parts of the data."
   ]
  },
  {
   "cell_type": "code",
   "execution_count": 2,
   "metadata": {
    "collapsed": false,
    "deletable": true,
    "editable": true
   },
   "outputs": [
    {
     "name": "stdout",
     "output_type": "stream",
     "text": [
      "Dataset Stats\n",
      "Roughly the number of unique words: 11492\n",
      "Number of scenes: 262\n",
      "Average number of sentences in each scene: 15.251908396946565\n",
      "Number of lines: 4258\n",
      "Average number of words in each line: 11.50164396430249\n",
      "\n",
      "The sentences 0 to 10:\n",
      "\n",
      "Moe_Szyslak: (INTO PHONE) Moe's Tavern. Where the elite meet to drink.\n",
      "Bart_Simpson: Eh, yeah, hello, is Mike there? Last name, Rotch.\n",
      "Moe_Szyslak: (INTO PHONE) Hold on, I'll check. (TO BARFLIES) Mike Rotch. Mike Rotch. Hey, has anybody seen Mike Rotch, lately?\n",
      "Moe_Szyslak: (INTO PHONE) Listen you little puke. One of these days I'm gonna catch you, and I'm gonna carve my name on your back with an ice pick.\n",
      "Moe_Szyslak: What's the matter Homer? You're not your normal effervescent self.\n",
      "Homer_Simpson: I got my problems, Moe. Give me another one.\n",
      "Moe_Szyslak: Homer, hey, you should not drink to forget your problems.\n",
      "Barney_Gumble: Yeah, you should only drink to enhance your social skills.\n",
      "\n"
     ]
    }
   ],
   "source": [
    "view_sentence_range = (0, 10)\n",
    "\n",
    "\"\"\"\n",
    "DON'T MODIFY ANYTHING IN THIS CELL\n",
    "\"\"\"\n",
    "import numpy as np\n",
    "\n",
    "print('Dataset Stats')\n",
    "print('Roughly the number of unique words: {}'.format(len({word: None for word in text.split()})))\n",
    "scenes = text.split('\\n\\n')\n",
    "print('Number of scenes: {}'.format(len(scenes)))\n",
    "sentence_count_scene = [scene.count('\\n') for scene in scenes]\n",
    "print('Average number of sentences in each scene: {}'.format(np.average(sentence_count_scene)))\n",
    "\n",
    "sentences = [sentence for scene in scenes for sentence in scene.split('\\n')]\n",
    "print('Number of lines: {}'.format(len(sentences)))\n",
    "word_count_sentence = [len(sentence.split()) for sentence in sentences]\n",
    "print('Average number of words in each line: {}'.format(np.average(word_count_sentence)))\n",
    "\n",
    "print()\n",
    "print('The sentences {} to {}:'.format(*view_sentence_range))\n",
    "print('\\n'.join(text.split('\\n')[view_sentence_range[0]:view_sentence_range[1]]))"
   ]
  },
  {
   "cell_type": "markdown",
   "metadata": {
    "deletable": true,
    "editable": true
   },
   "source": [
    "## Implement Preprocessing Functions\n",
    "The first thing to do to any dataset is preprocessing.  Implement the following preprocessing functions below:\n",
    "- Lookup Table\n",
    "- Tokenize Punctuation\n",
    "\n",
    "### Lookup Table\n",
    "To create a word embedding, you first need to transform the words to ids.  In this function, create two dictionaries:\n",
    "- Dictionary to go from the words to an id, we'll call `vocab_to_int`\n",
    "- Dictionary to go from the id to word, we'll call `int_to_vocab`\n",
    "\n",
    "Return these dictionaries in the following tuple `(vocab_to_int, int_to_vocab)`"
   ]
  },
  {
   "cell_type": "code",
   "execution_count": 3,
   "metadata": {
    "collapsed": false
   },
   "outputs": [],
   "source": [
    "import numpy as np\n",
    "import problem_unittests as tests\n",
    "import re\n",
    "\n",
    "def create_lookup_tables(text):\n",
    "    \"\"\"\n",
    "    Create lookup tables for vocabulary\n",
    "    :param text: The text of tv scripts split into words\n",
    "    :return: A tuple of dicts (vocab_to_int, int_to_vocab)\n",
    "    \"\"\"\n",
    "\n",
    "    text = ''.join([c.lower()+' ' for c in text])\n",
    "    #text_for_lookup  = sorted(list(set(re.split('(\\W)+', text))))\n",
    "    #marks_for_lookup = sorted(list(set(re.split('(\\w)+', text))))\n",
    "    #text_for_lookup  = sorted(list(set(text_for_lookup + (marks_for_lookup))))\n",
    "    text_for_lookup = sorted(list(set(re.split(' ', text))))\n",
    "\n",
    "    int_to_vocab = dict((i, c) for i, c in enumerate(text_for_lookup))\n",
    "    vocab_to_int = dict((c, i) for i, c in enumerate(text_for_lookup))\n",
    "\n",
    "    return vocab_to_int, int_to_vocab"
   ]
  },
  {
   "cell_type": "code",
   "execution_count": 4,
   "metadata": {
    "collapsed": false,
    "deletable": true,
    "editable": true
   },
   "outputs": [
    {
     "name": "stdout",
     "output_type": "stream",
     "text": [
      "Tests Passed\n"
     ]
    }
   ],
   "source": [
    "\"\"\"\n",
    "DON'T MODIFY ANYTHING IN THIS CELL THAT IS BELOW THIS LINE\n",
    "\"\"\"\n",
    "tests.test_create_lookup_tables(create_lookup_tables)"
   ]
  },
  {
   "cell_type": "markdown",
   "metadata": {
    "deletable": true,
    "editable": true
   },
   "source": [
    "### Tokenize Punctuation\n",
    "We'll be splitting the script into a word array using spaces as delimiters.  However, punctuations like periods and exclamation marks make it hard for the neural network to distinguish between the word \"bye\" and \"bye!\".\n",
    "\n",
    "Implement the function `token_lookup` to return a dict that will be used to tokenize symbols like \"!\" into \"__Exclamation_Mark__\".  Create a dictionary for the following symbols where the symbol is the key and value is the token:\n",
    "- Period ( . )\n",
    "- Comma ( , )\n",
    "- Quotation Mark ( \" )\n",
    "- Semicolon ( ; )\n",
    "- Exclamation mark ( ! )\n",
    "- Question mark ( ? )\n",
    "- Left Parentheses ( ( )\n",
    "- Right Parentheses ( ) )\n",
    "- Dash ( -- )\n",
    "- Return ( \\n )\n",
    "\n",
    "This dictionary will be used to token the symbols and add the delimiter (space) around it.  This separates the symbols as it's own word, making it easier for the neural network to predict on the next word. Make sure you don't use a token that could be confused as a word. Instead of using the token \"dash\", try using something like \"__dash__\"."
   ]
  },
  {
   "cell_type": "code",
   "execution_count": 5,
   "metadata": {
    "collapsed": false
   },
   "outputs": [
    {
     "data": {
      "text/plain": [
       "{'\\n': '__return__',\n",
       " '!': '__exclamation_mark__',\n",
       " '\"': '__quotation_Mark__',\n",
       " '(': '__left_Parentheses__',\n",
       " ')': '__right_Parentheses__',\n",
       " ',': '__comma__',\n",
       " '--': '__dash__',\n",
       " '.': '__period__',\n",
       " ';': '__semicolon__',\n",
       " '?': '__question_mark__'}"
      ]
     },
     "execution_count": 5,
     "metadata": {},
     "output_type": "execute_result"
    }
   ],
   "source": [
    "def token_lookup():\n",
    "    \"\"\"\n",
    "    Generate a dict to turn punctuation into a token.\n",
    "    :return: Tokenize dictionary where the key is the punctuation and the value is the token\n",
    "    \"\"\"\n",
    "    symbols = (['.', ',', '\"', ';', '!', '?', '(', ')', '--', '\\n'#, ':', '\\'', '#', '/', '%'\n",
    "               ])\n",
    "    \n",
    "    symbol_desc = ([\n",
    "        '__period__',\n",
    "        '__comma__',\n",
    "        '__quotation_Mark__',\n",
    "        '__semicolon__',\n",
    "        '__exclamation_mark__',\n",
    "        '__question_mark__',\n",
    "        '__left_Parentheses__',\n",
    "        '__right_Parentheses__',\n",
    "        '__dash__',\n",
    "        '__return__',\n",
    "        #'__double_point__', ## missing in description\n",
    "        #'__quote__',        ## missing in description\n",
    "        #'__hash__',         ## missing in description\n",
    "        #'__slash__',        ## missing in description\n",
    "        #'__procent__',      ## missing in description\n",
    "        ])\n",
    "    \n",
    "    return dict(zip(symbols,symbol_desc))\n",
    "\n",
    "token_lookup()\n"
   ]
  },
  {
   "cell_type": "code",
   "execution_count": 6,
   "metadata": {
    "collapsed": false,
    "deletable": true,
    "editable": true
   },
   "outputs": [
    {
     "name": "stdout",
     "output_type": "stream",
     "text": [
      "Tests Passed\n"
     ]
    }
   ],
   "source": [
    "\"\"\"\n",
    "DON'T MODIFY ANYTHING IN THIS CELL THAT IS BELOW THIS LINE\n",
    "\"\"\"\n",
    "tests.test_tokenize(token_lookup)"
   ]
  },
  {
   "cell_type": "markdown",
   "metadata": {
    "deletable": true,
    "editable": true
   },
   "source": [
    "## Preprocess all the data and save it\n",
    "Running the code cell below will preprocess all the data and save it to file."
   ]
  },
  {
   "cell_type": "code",
   "execution_count": 7,
   "metadata": {
    "collapsed": false
   },
   "outputs": [
    {
     "name": "stdout",
     "output_type": "stream",
     "text": [
      "{'': 0, 'reminds': 4832, 'changing': 1028, 'why': 6569, 'exhibit': 2012, 'friction': 2330, 'hunger': 2911, 'this': 6015, 'won': 6643, 'understood': 6276, 'reason': 4768, 'carl_carlson:': 956, 'peppers': 4332, 'homunculus': 2843, 'bathtub': 517, 'european': 1969, 'gets': 2446, 'disillusioned': 1664, 'some': 5475, 'decadent': 1519, 'ees': 1863, 'start': 5622, 'foundation': 2298, 'priceless': 4568, 'ivana': 3100, 'stole': 5685, 'stunned': 5737, 'push': 4658, 'ashtray': 359, 'torn': 6116, 'lock': 3492, 'conversion': 1311, 'insensitive': 3024, 'effigy': 1868, 'microbrew': 3747, 'grandã©': 2545, 'happen': 2668, 'brother': 803, 'unfresh': 6287, 'mushy': 3923, 'forgive': 2280, 'tubman': 6202, 'dollar': 1699, 'but': 871, 'screws': 5098, 'line': 3446, \"you're\": 6751, \"wife's\": 6576, 'abandon': 80, 'eggshell': 1871, 'diddilies': 1609, 'trolls': 6181, 'innocence': 3019, 'cost': 1332, 'easy-going': 1840, 'swatch': 5813, 'owes': 4222, 'exception:': 2000, 'lie': 3413, 'insults': 3041, 'lives': 3475, 'patty_bouvier:': 4305, 'squabbled': 5580, 'repressed': 4857, 'mags': 3597, 'maybe': 3682, 'frat': 2313, 'term': 5940, 'license': 3412, 'meyerhof': 3740, 'vacations': 6335, 'died': 1613, 'committing': 1238, 'thirty': 6010, 'stool': 5692, 'edner': 1862, 'skins': 5354, 'hawaii': 2705, 'fix': 2199, 'shape': 5200, 'alec_baldwin:': 208, 'chuckles': 1116, 'hunting': 2916, 'dyspeptic': 1820, 'y': 6709, 'blamed': 641, 'gumbel': 2602, 'level': 3403, 'horribilis': 2864, 'mt': 3896, 'fleabag': 2220, 'earlier': 1828, 'who-o-oa': 6558, 'skinny': 5353, 'itchy': 3095, 'puff': 4634, 'nos': 4068, 'nash': 3961, 'celebrities': 996, 'declare': 1528, 'take': 5859, 'faded': 2060, 'cow': 1363, 'flynt': 2241, 'murderously': 3915, 'mayan': 3681, 'inspection': 3030, 'hook': 2851, 'fans': 2083, 'band': 466, 'squadron': 5582, 'yard': 6719, 'missed': 3795, 'cocktail': 1195, 'mean': 3695, \"here's\": 2765, 'cushion': 1443, 'mansions': 3640, 'rationalizing': 4743, 'drummer': 1781, 'wad': 6399, 'boston': 713, 'lovers': 3546, 'betcha': 598, 'easygoing': 1841, 'grope': 2574, 'a-b-': 76, 'manboobs': 3634, 'hippies': 2795, 'gibson': 2456, 'boned': 690, 'conversation': 1309, 'trusted': 6194, 'combines': 1221, 'women': 6642, 'ran': 4730, 'warily': 6431, 'toe': 6083, 'thoughts': 6031, '50-60': 44, 'legs:': 3381, 'die': 1611, 'poured': 4517, 'mild': 3760, 'chest': 1071, \"you'd\": 6749, 'alpha-crow': 232, 'have': 2700, 'flying': 2240, 'love': 3539, 'reactions': 4753, 'honest': 2844, 'does': 1690, 'every': 1980, 'k-zug': 3202, 'express': 2030, 'bones': 692, 'ideal': 2947, 'billy_the_kid:': 623, 'trapping': 6155, \"i-i'll\": 2937, 'crummy': 1422, '1979': 34, 'distaste': 1672, 'guiltily': 2597, 'three': 6036, 'twelve': 6222, 'milhouse': 3762, 'hate-hugs': 2695, 'babe': 431, 'awww': 423, 'landlord': 3324, 'caholic': 898, \"lefty's\": 3374, 'suburban': 5746, 'whee': 6528, 'wobble': 6630, 'hexa-': 2772, 'awkwardly': 421, 'presidential': 4550, 'hang': 2658, 'shrieks': 5266, 'barter': 505, 'rubs': 4962, 'procedure': 4591, 'dads': 1462, 'donut': 1715, 'de-scramble': 1504, 'dateline:': 1493, 'gonna': 2509, 'ails': 193, 'arise': 339, 'steal': 5648, 'after': 160, 'germany': 2439, 'grade': 2532, 'keys': 3229, 'chin': 1087, 'hope': 2858, 'name': 3948, 'flanders:': 2211, 'appear': 313, 'potato': 4512, 'soir': 5468, 'idiot': 2951, 'porn': 4502, 'nibble': 4019, 'jokes': 3171, 'ineffective': 3001, 'drives': 1769, 'lorre': 3517, 'stagy': 5601, 'knock-up': 3279, 'shifty': 5224, 'ears': 1832, 'ohhhh': 4139, 'statue': 5639, 'amazed': 244, 'store': 5697, 'soothing': 5500, 'windshield': 6600, 'gel': 2422, 'courthouse': 1357, 'stripe': 5722, 'crapmore': 1380, 'hate': 2694, 'ballot': 462, 'lushmore': 3571, 'snapping': 5427, 'orgasmville': 4190, \"yesterday's\": 6740, 'up-bup-bup': 6311, 'police': 4480, 'albeit': 202, 'sea': 5107, 'soot': 5499, 'chew': 1072, 'nagurski': 3941, 'radiator': 4700, 'teen': 5913, 'crotch': 1410, 'jets': 3148, 'lump': 3564, 'plane': 4421, 'work': 6662, 'points': 4471, 'hearse': 2726, \"lenny's\": 3388, 'walk': 6411, 'larson': 3337, \"queen's\": 4678, 'known': 3287, 'partner': 4279, 'figures': 2157, 'rector': 4787, 'drunkenly': 1784, 'attractive_woman_#2:': 395, 'him': 2793, 'anonymous': 285, 'wondered': 6646, 'beats': 537, 'sweat': 5816, 'aid': 190, 'pretending': 4559, 'memories': 3720, 'enter': 1942, 'mediterranean': 3714, 'old-time': 4147, 'dregs': 1753, \"o'reilly\": 4101, 'strokkur': 5725, 'forbids': 2269, 'better': 602, 'everywhere': 1986, 'referee': 4792, 'spinning': 5549, 'worldly': 6671, 'moments': 3839, 'liability': 3405, 'turned': 6210, 'gasoline': 2410, 'impressed': 2972, 'teenage': 5914, 'eternity': 1967, 'november': 4082, 'meteor': 3735, 'glee': 2482, 'self-esteem': 5142, 'beep': 554, 'sweetheart': 5823, 'cream': 1387, 'gee': 2419, 'card': 944, 'super-nice': 5778, 'spellbinding': 5537, 'ate': 382, 'director': 1638, 'searching': 5110, 'sponsor': 5563, 'cheered': 1060, 'pushing': 4660, 'huh': 2904, 'fragile': 2308, 'dark': 1483, 'rent': 4843, 'greatest': 2554, 'manage': 3629, 'simultaneous': 5305, 'mortal': 3868, 'miss': 3793, 'tremendous': 6168, 'disappointing': 1646, 'hibachi': 2775, 'accident': 102, 'multiple': 3909, 'ripped': 4910, 'jay_leno:': 3129, 'bobo': 681, 'mugs': 3903, \"wino's\": 6608, 'jerk': 3139, 'yourselves': 6764, 'farthest': 2089, 'squeal': 5585, 'feminine': 2132, 'gator': 2413, 'dingy': 1631, 'alcohol': 204, 'nightmares': 4032, 'wikipedia': 6582, 'cutie': 1451, \"that's\": 5971, 'stagehand:': 5599, 'civic': 1135, 'early': 1829, 'artist': 355, '&': 2, 'starving': 5631, 'gut': 2611, 'seas': 5111, \"changin'\": 1027, 'notice': 4076, 'syrup': 5846, 'absentmindedly': 90, 'reach': 4748, 'indeedy': 2992, 'bottoms': 721, 'tail': 5858, 'answered': 288, 'improv': 2973, 'brings': 788, 'dea-d-d-dead': 1505, 'himself': 2794, 'awfully': 419, 'polls': 4487, 'reserve': 4861, 'maximum': 3677, 'doors': 1722, 'reporter:': 4854, 'break-up': 763, 'photographer': 4372, 'games': 2399, 'danish': 1479, 'testing': 5955, 'occupied': 4113, 'robbers': 4919, 'demand': 1557, 'queen': 4677, 'fbi': 2108, 'briefly': 781, 'greedy': 2556, 'kicks': 3234, 'bad': 444, 'gheet': 2453, 'shreda': 5265, \"'roids\": 18, 'eats': 1847, 'stars': 5621, 'public': 4629, \"we'll\": 6473, \"it'd\": 3090, 'smurfs': 5419, 'digging': 1621, 'halvsies': 2641, 'singing/pushing': 5315, 'warmly': 6433, 'applicant': 317, 'casual': 975, 'shaken': 5191, 'guff': 2594, 'belong': 586, 'oak': 4102, \"team's\": 5904, 'monorails': 3847, 'browns': 810, 'picture': 4386, 'bucket': 817, 'infiltrate': 3005, 'piano': 4377, 'befriend': 565, 'vin': 6372, 'scent': 5070, 'cranberry': 1376, \"plaster's\": 4430, 'following': 2252, 'cuz': 1453, 'sketch': 5347, 'slap': 5361, 'reading:': 4759, 'frustrated': 2353, \"nixon's\": 4041, 'anything': 302, 'not': 4070, 'barn': 488, 'shopping': 5239, 'lookalike:': 3507, 'africa': 157, 'helen': 2745, 'rummy': 4975, 'dropped': 1776, \"talkin'\": 5872, 'thawing': 5972, 'expecting': 2017, 'clandestine': 1141, 'paris': 4270, 'problemo': 4589, \"bart's\": 499, 'bagged': 452, 'tv_husband:': 6220, 'conspiratorial': 1292, 'eight-year-old': 1878, 'allowance': 224, 'freaky': 2318, 'future': 2381, 'agh': 176, 'sharing': 5205, 'trashed': 6157, 'frosty': 2350, 'incapable': 2979, 'businessman_#2:': 867, 'race': 4697, 'soft': 5466, 'sees': 5135, '1-800-555-hugs': 28, 'recorder': 4784, \"sittin'\": 5335, 'bartenders': 503, 'using': 6329, 'michelin': 3745, 'hi': 2774, 'times': 6065, 'five': 2197, \"drinkin'\": 1761, 'handoff': 2652, 'table': 5852, 'sperm': 5543, 'stealings': 5650, 'sound': 5506, 'do': 1687, 'passed': 4284, 'busiest': 864, 'exits': 2015, 'lager': 3317, 'meet': 3715, 'grinch': 2568, 'nerve': 4002, \"somethin':\": 5484, 'm': 3575, 'borrow': 712, 'sisters': 5328, 'halfway': 2638, 'endorse': 1922, 'pretzels': 4566, 'past': 4289, 'again': 163, 'settled': 5176, 'deli': 1544, 'ice': 2941, 'renovations': 4842, 'spilled': 5547, 'vengeful': 6350, 'understand': 6274, 'coughs': 1338, 'vacation': 6334, 'chuckling': 1117, \"marge's\": 3647, 'kidneys': 3241, 'misfire': 3792, 'heads': 2717, 'position': 4506, 'pointedly': 4468, 'guts': 2613, 'career': 947, 'stengel': 5659, 'hillbillies': 2791, 'players': 4437, 'eventually': 1977, 'lenny': 3387, 'astronaut': 378, 'amends': 250, 'data': 1490, 'breathtaking': 772, 'pink': 4402, 'hair': 2630, 'proposition': 4617, 'kirk': 3259, 'lottery': 3529, 'elaborate': 1889, 'wussy': 6704, 'warned': 6436, 'ziff': 6774, 'bourbon': 725, 'jail': 3116, 'businessman_#1:': 866, 'reviews': 4880, 'thing': 5999, 'museum': 3922, \"soundin'\": 5508, 'twenty-nine': 6229, \"where'd\": 6537, 'kazoo': 3211, '6': 46, 'territorial': 5947, 'crap': 1378, 'shuts': 5273, 'parasol': 4266, 'survive': 5802, 'birthplace': 629, 'trade': 6139, 'yet': 6741, 'flea:': 2219, 'dammit': 1468, 'woooooo': 6656, 'languages': 3329, 'radio': 4702, 'kissed': 3263, '_eugene_blatz:': 65, 'amber': 246, 'forgets': 2279, 'w': 6395, 'rats': 4744, 'wealthy': 6478, 'consulting': 1293, 'got': 2522, 'examples': 1995, 'peace': 4316, 'dana_scully:': 1473, 'might': 3757, 'hooked': 2852, 'win': 6591, 'modestly': 3823, 'heart-broken': 2728, 'belches': 578, 'wiping': 6613, 'beady': 525, 'ball-sized': 459, 'teach': 5900, 'british': 790, 'buyer': 881, 'acquitted': 111, 'adopted': 137, 'gentle': 2429, 'life:': 3421, 'possibly': 4509, 'super-genius': 5777, 'transylvania': 6153, 'only': 4165, 'judgments': 3183, 'rush': 4985, 'burps': 856, 'solid': 5471, 'donut-shaped': 1716, 'agree': 181, 'hyper-credits': 2927, 'billboard': 618, 'source': 5513, 'bowling': 730, 'womb': 6641, 'tin': 6066, 'belch': 577, 'selma': 5149, 'shrugs': 5269, 'fell': 2125, 'able': 84, 'grin': 2567, 'boneheaded': 691, 'chuckle': 1115, 'fancy': 2082, 'run': 4978, 'charlie': 1040, 'kept': 3226, 'corner': 1324, 'gulliver_dark:': 2599, 'during': 1814, 'pipes': 4406, 'sec_agent_#1:': 5116, 'hounds': 2882, 'listens': 3465, 'involving': 3070, 'tell': 5923, 'adeleine': 127, 'series': 5166, 'encouraged': 1919, 'cueball': 1430, 'speech': 5535, 'life-partner': 3418, 'achem': 109, 'transmission': 6152, 'pepto-bismol': 4335, 'fire_inspector:': 2182, 'intervention': 3053, 'occupation': 4112, 'swig': 5828, 'poulet': 4514, 'prep': 4540, 'ebullient': 1848, 'send': 5157, 'my': 3934, 'fletcherism': 2222, 'yells': 6735, 'dash': 1488, 'dough': 1730, 'calendars': 903, 'means': 3701, 'recent': 4775, 'strategizing': 5712, 'rest': 4867, 'b-day': 429, 'parenting': 4268, 'hibbert': 2776, 'joining': 3168, 'effect': 1864, 'exactly': 1992, 'bedroom': 548, 'appealing': 311, 'we-we-we': 6476, 'buzziness': 885, 'sponsoring': 5564, \"cleanin'\": 1149, 'speed': 5536, 'motto': 3879, 'ahhhh': 189, 'loud': 3532, 'victim': 6363, 'county': 1350, 'crowds': 1416, 'knocked': 3280, 'marriage': 3655, 'connor-politan': 1284, 'ruined': 4969, 'attracted': 391, 'releasing': 4816, 'cans': 929, 'disgracefully': 1658, 'eighty-six': 1884, 'father': 2098, 'additional-seating-capacity': 125, 'low-blow': 3550, 'sets': 5175, 'mistresses': 3801, 'prize': 4584, 'safer': 5007, 'infestation': 3004, 'fistiana': 2195, 'certainly': 1008, 'he': 2709, 'hilarious': 2789, 'sacrifice': 4998, \"writin'\": 6697, 'principles': 4578, 'somebody': 5476, 'rueful': 4965, 'given': 2475, 'moon': 3855, 'spits': 5555, 'back': 437, 'sunday': 5772, 'zone': 6777, 'flaking': 2206, 'dan_gillick:': 1472, 'exhale': 2010, 'manuel': 3641, 'tv': 6213, 'firmly': 2189, 'bono': 694, 'spelling': 5538, \"challengin'\": 1017, 'newsletter': 4014, 'pinball': 4398, 'sabermetrics': 4995, 'sign': 5294, 'top': 6115, 'and:': 267, 'someplace': 5482, 'stripes': 5723, \"stayin'\": 5644, 'travel': 6158, 'hike': 2788, 'window': 6598, 'multi-purpose': 3908, 'broncos': 800, \"guy's\": 2616, 'lizard': 3478, 'murmurs': 3918, 'knives': 3277, 'indigenous': 2997, \"somethin's\": 5485, 'fabulous': 2050, 'magazine': 3592, 'nearly': 3975, 'jeff': 3135, 'gentleman:': 2431, 'mix': 3804, 'belt': 588, 'applesauce': 316, 'who': 6554, 'sugar-me-do': 5763, 'earth': 1833, 'built': 829, 'foil': 2246, 'craphole': 1379, 'ghouls': 2454, 'supplying': 5788, 'executive': 2009, 'experienced': 2021, \"o'problem\": 4100, 'lloyd:': 3480, 'held': 2744, 'station': 5635, 'idiots': 2952, 'blimp': 651, 'straighten': 5705, \"narratin'\": 3957, 'flack': 2203, 'sec_agent_#2:': 5117, 'ned_flanders:': 3983, 'milk': 3767, 'i-i-i': 2939, 'hafta': 2626, 'system': 5847, \"callin'\": 908, 'ratted': 4745, 'prove': 4624, 'young_marge:': 6757, 'laney': 3326, 'blood': 661, 'brotherhood': 805, 'pure': 4653, 'commission': 1235, 'garbage': 2403, 'ten': 5933, 'gift': 2457, 'maher': 3599, 'selfish': 5145, 'along': 231, 'personal': 4352, 'circus': 1131, 'excitement': 2004, 'handing': 2648, 'kentucky': 3225, 'rife': 4898, 'inclination': 2982, 'slobbo': 5380, 'today/': 6082, 'exclusive:': 2006, 'oof': 4168, 'polish': 4481, 'science': 5080, 'making': 3611, 'cruiser': 1420, 'wallet': 6416, 'ducked': 1789, 'fbi_agent:': 2109, 'sinister': 5319, 'killing': 3248, 'in-ground': 2976, 'lied': 3414, 'flanders': 2210, 'stored': 5699, 'i': 2928, 'president': 4548, 'flame': 2207, 'flustered': 2238, 'sleigh-horses': 5370, 'rump': 4977, 'falling': 2073, 'wally:': 6419, \"y'know\": 6710, 'wears': 6483, 'tax': 5896, 'lay': 3354, 'ingested': 3012, 'mostly': 3872, 'elder': 1890, 'wolfe': 6635, 'teenage_barney:': 5915, 'action': 116, 'beached': 524, 'self': 5140, 'gimmick': 2465, 'un-sults': 6259, \"disrobin'\": 1670, 'loneliness': 3500, 'house': 2886, 'down': 1731, 'officials': 4132, 'group': 2576, 'audience': 397, 'wiener': 6572, 'fellas': 2127, 'fustigate': 2379, 'gave': 2415, 'coal': 1183, 'art': 352, 'sweden': 5819, 'camera': 915, 'release': 4814, 'libido': 3410, 'woman': 6638, 'tracks': 6138, 'seem': 5131, 'blew': 650, 'rings': 4906, 'embarrassed': 1905, 'mckinley': 3689, 'dumbass': 1806, 'jackass': 3107, 'disgraceful': 1657, 'waist': 6403, 'finding': 2171, 'million': 3770, 'gabriel:': 2389, 'amiable': 255, 'booze-bags': 705, 'crowd': 1413, 'producers': 4594, 'presided': 4547, 'yell': 6730, 'land': 3322, 'wrong': 6700, 'barkeep': 486, 'bitterly': 635, \"liftin'\": 3426, 'handling': 2651, 'freedom': 2321, 'bidet': 611, 'story': 5703, 'way': 6463, \"america's\": 252, 'aristotle:': 341, 'issues': 3087, 'nah': 3942, 'tv_wife:': 6221, 'blissful': 656, 'bulldozing': 832, 'troll': 6180, 'bags': 453, 'unavailable': 6263, 'precious': 4532, 'icy': 2943, 'casting': 973, \"wasn't\": 6447, 'frozen': 2351, 'caveman': 990, 'smug': 5416, 'fwooof': 2383, 'tobacky': 6079, 'longest': 3504, 'triangle': 6171, 'inches': 2981, 'ralph': 4726, \"takin'\": 5864, 'fast': 2090, 'medieval': 3712, 'blind': 652, \"workin'\": 6665, 'al': 199, 'buried': 849, 'gol-dangit': 2503, 'clincher': 1161, 'especially': 1962, 'lift': 3424, 'concerned': 1266, 'cecil_terwilliger:': 993, 'spoon': 5566, 'thinks': 6006, 'christian': 1109, 'according': 104, 'liquor': 3453, 'fringe': 2340, 'ton': 6101, 'olive': 4150, 'thinking': 6005, 'show': 5255, \"comin'\": 1231, 'onions': 4163, 'side': 5282, 'touched': 6124, 'seductive': 5126, 'freed': 2320, 'laney_fontaine:': 3327, 'sneering': 5432, 'promise': 4607, 'bake': 455, 'roz': 4957, 'eaters': 1844, 'paid': 4239, 'butts': 879, 'reaches': 4750, '2': 35, 'sap': 5037, 'surprised/thrilled': 5799, 'pond': 4489, 'oil': 4141, 'rented': 4844, 'switch': 5837, 'dracula': 1735, 'life-sized': 3419, 'warning': 6437, 'welcome': 6498, 'pages': 4238, \"cuckold's\": 1427, 'anarchy': 261, 'mind-numbing': 3773, 'wrestling': 6693, 'jamaican': 3119, 'mistake': 3798, 'reward': 4881, '3': 39, 'killjoy': 3249, 'mommy': 3840, 'effervescence': 1866, 'fireball': 2183, 'roses': 4945, 'losers': 3521, 'swooning': 5839, 'lou': 3530, 'fault': 2103, 'cheapskates': 1053, 'cherry': 1069, 'smelly': 5401, 'tomato': 6095, 'patented': 4292, 'italian': 3094, 'clears': 1154, 'self-satisfied': 5144, \"ma's\": 3578, 'delays': 1542, 'fingers': 2176, 'zoomed': 6778, 'limericks': 3438, 'hushed': 2922, 'whaddya': 6513, 'wrote': 6701, 'superior': 5782, 'tuna': 6205, 'bears': 532, 'voters': 6391, 'quebec': 4676, 'clips': 1164, 'grocery': 2572, \"must've\": 3930, 'make:': 3608, 'contemptuous': 1299, 'ken:': 3220, 'coaster': 1185, 'shorter': 5244, 'states': 5633, 'hydrant': 2925, 'wore': 6661, 'worried': 6673, 'she-pu': 5214, 'koji': 3294, \"lisa's\": 3456, \"ridin'\": 4896, 'heart': 2727, 'twice': 6233, 'thrown': 6045, 'waking-up': 6410, 'heck': 2741, 'freeze': 2323, 'so-ng': 5448, 'rock': 4923, 'celebration': 995, 'detecting': 1591, 'mock': 3817, 'gunter': 2608, 'absolut': 91, 'hungry': 2912, 'suffering': 5760, 'righ': 4900, 'advance': 142, 'brunswick': 812, 'inserts': 3026, 'huggenkiss': 2901, 'fan': 2080, 'chum': 1121, 'versus': 6356, 'kissingher': 3267, 'pleading': 4443, 'mortgage': 3869, 'lis': 3454, 'joke': 3170, 'join': 3166, 'killed': 3246, 'hillary': 2790, 'catching': 980, 'inexorable': 3002, 'urine': 6323, 'technical': 5910, 'fine': 2172, 'car:': 942, 'saint': 5016, 'manager': 3631, 'dismissive': 1666, \"'im\": 12, 'newsies': 4013, 'ralphie': 4728, \"dog's\": 1693, 'chair': 1014, 'bender:': 590, 'presentable': 4544, \"dolph's_dad:\": 1702, 'intense': 3046, 'agreement': 182, 'woman:': 6639, 'dumptruck': 1811, 'annie': 278, 'use': 6325, 'sending': 5158, 'pointless': 4470, 'ref': 4791, 'cough': 1337, 'confidentially': 1278, \"monroe's\": 3849, 'theater': 5977, 'kind': 3252, 'windex': 6597, 'drawing': 1745, 'election': 1892, 'stacey': 5596, 'drop': 1774, 'old_jewish_man:': 4148, 'deal': 1509, 'donated': 1709, 'ballclub': 460, 'sang': 5030, 'henry': 2762, 'encore': 1917, 'runt': 4983, 'modern': 3821, 'whale': 6514, 'guilt': 2596, 'swimmers': 5831, 'er': 1957, \"mother's\": 3876, 'alcoholism': 206, 'sob': 5454, 'formico': 2286, 'sunny': 5775, 'store-bought': 5698, 'smoothly': 5415, 'meaningful': 3698, \"y'money's\": 6711, 'prime': 4573, '__period__': 57, 'scratching': 5094, 'wear': 6480, 'lowest': 3554, \"phone's\": 4369, 'churchill': 1126, 'femininity': 2133, '__right_parentheses__': 61, 'junebug': 3193, '__semicolon__': 62, 'attitude': 390, 'horns': 2863, 'fishing': 2193, 'feelings': 2120, 'mimes': 3771, 'crystal': 1426, 'ahead': 185, 'officer': 4130, 'aboard': 85, 'eat': 1842, 'unsourced': 6306, 'banquet': 471, 'duel': 1792, 'an': 260, 'novelty': 4081, 'appearance-altering': 314, 'hairs': 2632, 'settles': 5178, 'lotsa': 3527, 'motor': 3877, 'half-beer': 2636, 'faulkner': 2102, 'praise': 4525, 'louisiana': 3536, 'scotch': 5089, \"wait'll\": 6405, 'noise': 4048, \"town's\": 6134, 'swear': 5815, 'waylon_smithers:': 6466, 'nevada': 4006, \"swishifyin'\": 5835, 'brine': 785, 'sloe': 5382, 'lincoln': 3441, 'pipe': 4405, 'pepper': 4331, 'frenchman': 2325, 'cotton': 1335, 'noises': 4049, 'pointy': 4472, 'enterprising': 1944, 'kadlubowski': 3203, 'ehhhhhhhhh': 1876, 'wound': 6683, 'habit': 2622, 'exploiter': 2028, '$42': 1, 'aah': 78, 'unbelievable': 6264, 'bills': 622, 'grampa': 2538, 'tear': 5906, 'influence': 3007, 'obese': 4104, 'gag': 2390, 'usual': 6330, 'hemorrhage-amundo': 2760, \"doesn't\": 1691, 'bee': 550, 'mitts': 3803, 'mabel': 3579, 'sizes': 5345, 'flush': 2236, 'ticket': 6052, 'blackjack': 637, 'japanese': 3124, 'wave': 6462, 'sexy': 5184, 'patron_#2:': 4298, 'stick': 5666, 'we': 6471, 'blob': 657, 'intention': 3047, 'prison': 4581, 'feast': 2112, 'scary': 5067, 'thousands': 6034, 'mistakes': 3799, 'sympathy': 5842, 'crazy': 1386, 'kids': 3242, 'week': 6489, 'though': 6023, 'comes': 1226, 'scram': 5091, 'been': 553, 'society': 5462, 'microwave': 3750, 'sanitary': 5032, 'underwear': 6278, 'sixty': 5341, 'foodie': 2259, 'despite': 1587, 'excavating': 1997, '__return__': 60, 'faceful': 2055, \"singin'\": 5313, 'jewish': 3150, 'man': 3621, 'rumaki': 4974, 'decency': 1520, 'teeth': 5918, 'balloon': 461, 'tom': 6093, 'uninhibited': 6292, 'about': 87, 'sagacity': 5010, 'troubles': 6184, 'bash': 510, 'dearest': 1516, 'think': 6003, 'quit': 4690, 'cracked': 1374, 'process': 4592, 'huge': 2900, 'theatah': 5976, 'outlive': 4207, 'ruin': 4968, 'almond': 228, 'ã': 6779, 'nightmare': 4031, 'driver': 1767, \"car's\": 941, 'fund': 2367, 'wind': 6594, 'realized': 4765, 'diet': 1615, 'aerospace': 150, 'floating': 2228, 'remorseful': 4834, 'dangerous': 1477, 'jacques': 3113, \"bo's\": 678, 'anthony_kiedis:': 291, 'mel': 3717, 'jump': 3190, 'ninety-seven': 4037, 'society_matron:': 5463, 'halloween': 2640, 'apron': 325, 'rafter': 4705, 'bright': 782, 'blossoming': 666, 'wiggle': 6578, 'island': 3083, 'inside': 3027, 'extract': 2036, \"it's\": 3092, 'bride': 777, \"england's\": 1932, 'depressant': 1572, 'are': 333, \"kiddin'\": 3237, 'kako:': 3205, 'nailed': 3945, 'paste': 4291, 'romantic': 4934, 'film': 2164, 'whole': 6562, 'noggin': 4047, 'sticking-place': 5670, 'index': 2993, 'premiering': 4538, 'massage': 3666, 'egg': 1869, 'competitive': 1248, 'chip': 1091, 'mmmm': 3810, 'repeating': 4850, 'fury': 2377, 'depending': 1570, \"'morning\": 14, 'freely': 2322, 'badmouths': 450, 'what': 6516, 'pack': 4230, 'choke': 1100, 'fortress': 2289, 'spied': 5545, 'fumes': 2363, 'graves': 2550, 'foam': 2242, 'enjoy': 1936, 'blocked': 659, 'oh': 4135, 'ingredient': 3014, 'therapist': 5986, 'onto': 4167, 'meatpies': 3706, \"games'd\": 2400, 'spamming': 5521, 'at': 380, 'vulnerable': 6394, 'peter_buck:': 4357, 'micronesian': 3748, 'soul-crushing': 5505, 'seemed': 5132, \"dimwit's\": 1628, 'specializes': 5529, 'disdainful': 1655, \"tatum'll\": 5892, 'dentist': 1565, 'clenched': 1156, 'acting': 115, 'both': 715, 'wh': 6508, 'rip-off': 4908, 'bumpy-like': 841, 'sees/': 5136, 'suru': 5801, 'movies': 3890, 'nap': 3954, 'inanely': 2978, 'scarf': 5066, 'moustache': 3883, 'dying': 1818, 'jeez': 3134, 'species': 5531, 'albert': 203, 'us': 6324, 'afterglow': 161, 'stab': 5594, 'fontaine': 2256, 'catch': 978, 'defensive': 1537, 'pilsner-pusher': 4396, 'arabs': 331, 'vermont': 6355, 'product': 4595, 'steak': 5647, 'photos': 4373, 'thoughtful': 6028, 'mull': 3906, 'king': 3257, 'panicked': 4255, 'mid-seventies': 3752, \"doin'\": 1695, 'honeys': 2846, \"treatin'\": 6161, 'jebediah': 3132, 'gus': 2610, 'studied': 5733, 'meaningless': 3700, 'breakfast': 765, 'weapon': 6479, 'sounded': 5507, 'glass': 2480, 'lifts': 3427, 'anywhere': 304, 'snide': 5434, 'sniper': 5438, 'raggie': 4709, \"pickin'\": 4380, 'triple-sec': 6177, 'most:': 3871, 'shhh': 5223, 'committee': 1237, 'small': 5394, 'butterball': 874, 'and/or': 266, \"nick's\": 4023, 'whirlybird': 6546, 'gunter:': 2609, '250': 37, 'nope': 4061, 'moe': 3824, 'ad': 122, 'darkness': 1485, 'dancing': 1475, 'done': 1712, 'proof': 4613, 'dunno': 1813, 'mexican_duffman:': 3738, \"cashin'\": 972, 'patty': 4304, 'uniforms': 6291, \"leavin'\": 3367, 'names': 3952, \"patrick's\": 4295, 'joey': 3160, 'nigeria': 4027, 'nickel': 4024, 'counterfeit': 1344, 'lord': 3516, 'repay': 4848, 'maman': 3619, 'justify': 3199, 'sadly': 5003, 'phlegm': 4367, 'invulnerable': 3071, 'schizophrenia': 5074, 'sugar': 5761, 'ahem': 186, 'resolution': 4865, 'shutting': 5274, 'day': 1500, 'cuckoo': 1428, 'enthusiasm': 1947, 'cheer': 1059, 'sucks': 5753, 'kisser': 3264, 'punching': 4649, \"one's\": 4159, 'by': 886, 'dad': 1459, 'accurate': 106, \"tryin'\": 6198, 'sidekick': 5284, 'jaegermeister': 3115, 'began': 566, 'diablo': 1600, 'weight': 6494, 'quietly': 4686, 'explain': 2025, 'size': 5344, 'crony': 1406, \"hangin'\": 2659, \"world's\": 6669, 'janette': 3123, \"buyin'\": 882, 'yee-haw': 6729, 'permanent': 4346, 'gums': 2604, 'fictional': 2144, 'supermarket': 5783, 'growing': 2579, 'often': 4134, 'passes': 4286, 'coherent': 1200, 'upset': 6317, 'bachelorhood': 436, 'innocent': 3020, 'worth': 6677, 'chateau': 1047, 'lot': 3525, \"ain't\": 195, 'kiss': 3262, 'eighty-five': 1881, 'spoken': 5560, 'coma': 1218, 'couple': 1351, 'universe': 6296, 'breathalyzer': 770, 'you-need-man': 6753, 'phone': 4368, 'tv_daughter:': 6218, 'don': 1705, 'quiet': 4685, 'yee-ha': 6728, 'fold': 2247, 'la': 3305, 'strictly': 5720, 'fight': 2150, 'spend': 5539, 'payback': 4309, 'secret': 5120, 'chubby': 1113, 'para': 4264, 'eco-fraud': 1850, 'enforced': 1929, \"bar's\": 474, 'key': 3228, 'moonnnnnnnn': 3858, 'one': 4158, 'recreate': 4785, 'rebuilt': 4771, 'months': 3852, 'bleak': 645, 'actress': 120, 'wuss': 6703, \"donatin'\": 1710, 'deals': 1512, 'device': 1597, 'beeps': 555, 'delts': 1556, 'crime': 1399, 'skirt': 5355, 'suicide': 5764, 'dilemma': 1624, \"shan't\": 5199, 'cakes': 901, '_burns_heads:': 64, 'espn': 1963, 'baritone': 485, 'appendectomy': 315, 'sometimes': 5490, \"bartender's\": 502, 'distract': 1674, 'drawer': 1743, 'rather': 4741, 'elite': 1897, 'brag': 746, 'twelve-step': 6223, 'discuss': 1653, \"d'\": 1456, 'dating': 1494, 'kidnaps': 3239, \"he's\": 2712, 'complaint': 1250, 'oopsie': 4173, 'motel': 3874, 'espousing': 1964, 'reluctant': 4821, 'cars': 966, 'exasperated': 1996, 'book_club_member:': 699, \"chewin'\": 1073, 'pressure': 4554, 'eliminate': 1896, \"'bout\": 4, 'market': 3652, 'opportunity': 4180, 'yew': 6742, 'fox_mulder:': 2307, 'punkin': 4652, 'year': 6725, 'supreme': 5793, 'piling': 4393, 'tiny': 6069, 'savings': 5054, 'philosophic': 4365, 'trainers': 6146, \"poundin'\": 4515, 'shakes': 5193, 'eight': 1877, 'occasion': 4109, 'germs': 2440, 'loathe': 3485, 'umm': 6257, 'dimly': 1627, 'forgotten': 2283, 'jã¤germeister': 3200, 'exquisite': 2032, 'tooth': 6113, 'smiled': 5404, 'smell': 5398, 'son-of-a': 5494, 'pronto': 4612, 'heatherton': 2734, 'tank': 5876, 'ways': 6469, 'traitor': 6148, 'understanding': 6275, 'hubub': 2897, 'hotel': 2878, 'statistician': 5637, 'speak': 5524, 'holding': 2820, 'jernt': 3144, 'forgot': 2282, 'peppy': 4333, 'typing': 6242, 'watashi': 6451, 'gift:': 2458, 'sniffles': 5436, 'male_inspector:': 3613, 'dumb-asses': 1805, 'wheels': 6531, 'robin': 4921, \"g'on\": 2386, 'navy': 3970, 'laughter': 3348, 'served': 5171, 'stays': 5646, 'led': 3370, 'lazy': 3356, 'soup': 5510, 'twenty-four': 6228, 'pity': 4412, 'wazoo': 6470, 'winner': 6605, 'hootie': 2856, 'goal': 2497, 'crowded': 1415, 'prices': 4569, 'ominous': 4153, 'drinking:': 1763, 'weekend': 6490, 'propose': 4615, 'boyfriend': 741, 'health': 2719, 'shesh': 5222, 'clean': 1146, 'ignorance': 2954, 'hearing': 2724, 'hooch': 2850, \"pullin'\": 4643, 'doooown': 1720, 'natural': 3964, 'kickoff': 3233, 'twins': 6235, 'justice': 3198, 'checks': 1058, 'obama': 4103, 'locked': 3493, 'take-back': 5860, 'inspired': 3033, 'street': 5715, 'doom': 1719, 'solely': 5470, 'shower': 5259, 'faint': 2064, 'wudgy': 6702, 'investigating': 3063, 'oughta': 4202, 'presses': 4553, 'beer': 556, 'prayers': 4528, 'apu_nahasapeemapetilon:': 327, \"'til\": 21, 'e': 1823, 'cheers': 1065, 'center': 1002, 'super': 5776, 'crowd:': 1414, \"'cause\": 5, 'frink-y': 2342, 'hears': 2725, 'ugh': 6246, 'macgregor': 3583, 'planted': 4428, 'cowboy': 1366, 'annus': 284, 'hideous': 2779, 'th-th-th-the': 5960, 'closer': 1169, \"it'll\": 3091, 'squirrel': 5590, 'bindle': 624, 'insist': 3029, 'correct': 1328, 'dazed': 1502, 'killarney': 3245, 'whoo': 6564, 'excellent': 1998, 'punch': 4647, 'carpet': 965, 'language': 3328, 'grienke': 2562, 'shoots': 5237, 'says': 5060, 'low-life': 3551, 'calm': 911, 'wing': 6602, 'whose': 6567, 'natured': 3967, 'video': 6366, 'op': 4174, 'chic': 1074, 'supports': 5790, 'fayed': 2107, 'cappuccino': 936, 'stairs': 5603, 'pontiff': 4490, 'cares': 950, 'shtick': 5270, 'goodwill': 2516, 'tall': 5874, 'annual': 283, 'weird': 6495, 'felony': 2129, 'kansas': 3207, 'kinda': 3253, 'beautiful': 540, \"bettin'\": 603, 'unlike': 6300, 'temple': 5929, 'decided': 1524, 'getting': 2448, 'playoff': 4442, 'susie-q': 5803, 'tongue': 6103, 'angry': 275, 'learn': 3361, \"moe's\": 3825, 'lady_duff:': 3316, 'flash': 2212, 'grubby': 2582, 'power': 4519, \"time's\": 6064, 'item': 3096, 'north': 4066, 'mccall': 3686, 'benefits': 592, 'accounta': 105, 'kodos:': 3291, 'bell': 582, 'grumpy': 2587, 'trip': 6176, 'woulda': 6680, 'sooner': 5497, \"burnin'\": 851, 'pissed': 4408, 'duke': 1801, 'fair': 2066, 'cannot': 927, 'network': 4005, 'tang': 5875, 'semi-imported': 5151, 'dealie': 1511, 'liser': 3459, 'fierce': 2146, 'nascar': 3960, 'edna-lover-one-seventy-two': 1860, \"sippin'\": 5322, 'came': 914, 'sodas': 5465, 'koi': 3293, 'tolerable': 6091, 'comic_book_guy:': 1230, 'it': 3089, 'regretful': 4804, \"hell's\": 2749, 'willing': 6589, 'shack': 5187, 'anybody': 297, 'corn': 1323, \"carl's\": 954, 'sleeps': 5369, 'peter': 4356, 'lingus': 3448, 'salvation': 5023, 'fuhgetaboutit': 2357, 'man:': 3625, 'civilization': 1137, 'stupid': 5738, 'even': 1974, 'doubt': 1728, 'miserable': 3791, 'on': 4155, 'jay:': 3128, 'and-and': 265, 'see': 5127, 'credit': 1391, 'taking': 5865, 'ireland': 3074, 'encouraging': 1920, '4x4': 42, 'lovejoy': 3542, \"snappin'\": 5426, 'straining': 5707, \"duelin'\": 1793, \"homer'll\": 2834, 'result': 4872, 'quickly': 4684, 'caught': 985, 'toward': 6131, 'swan': 5812, 'best': 596, 'dateline': 1492, 'page': 4236, 'crowned': 1417, 'find': 2170, 'snatch': 5429, 'caper': 933, 'composite': 1258, 'sponge:': 5562, 'cyrano': 1454, 'provide': 4626, 'snort': 5440, 'heals': 2718, 'good': 2511, 'maya:': 3680, 'unlocked': 6301, 'bigger': 613, 'evil': 1987, 'chicken': 1076, 'crawl': 1382, 'shard': 5201, 'crisis': 1404, 'dress': 1754, 'brain': 748, 'nominated': 4050, 'remodel': 4833, 'almost': 229, 'seek': 5130, 'stan': 5610, 'jacques:': 3114, 'tidy': 6055, 'harrowing': 2685, 'gr-aargh': 2527, 'progress': 4603, 'determined': 1594, 'gentlemen': 2432, 'sausage': 5049, 'found': 2297, 'burns': 853, 'forty-two': 2295, 'sad': 5000, 'now': 4083, 'hot': 2876, \"s'okay\": 4992, \"brockman's\": 795, 'vodka': 6381, 'guttural': 2614, 'cause': 987, 'enlightened': 1940, 'upbeat': 6312, 'real': 4762, 'remains': 4826, 'slightly': 5375, 'shut': 5272, 'diets': 1616, 'parking': 4273, 'gulps': 2600, 'edge': 1855, 'die-hard': 1612, \"father's\": 2099, \"lady's\": 3314, 'tyson/secretariat': 6243, 'filled': 2162, 'jar': 3125, 'nervous': 4003, 'homer_simpson:': 2839, 'smugglers': 5418, \"pressure's\": 4555, 'abercrombie': 83, 'laramie': 3331, 'passenger': 4285, 'weep': 6493, 'thanksgiving': 5967, 'ambrosia': 249, 'smoker': 5410, 'hose': 2870, 'bathing': 515, 'helped': 2754, 'sells': 5148, 'swings': 5834, 'stern': 5662, \"life's\": 3416, 'patient': 4294, 'teddy': 5911, 'mike': 3758, 'brown': 809, 'windowshade': 6599, 'payments': 4313, \"goin'\": 2501, 'cleveland': 1158, 'wells': 6501, 'well': 6499, 'closed': 1168, 'crab': 1372, 'agency': 168, 'clubs': 1180, 'answers': 290, 'holds': 2821, 'washouts': 6446, 'hammy': 2644, 'menlo': 3727, 'hole': 2822, 'bits': 633, 'wienerschnitzel': 6574, 'cliff': 1160, 'hosting': 2875, 'speaking': 5526, \"hadn't\": 2625, 'issuing': 3088, 'sport': 5567, 'hunka': 2913, \"can't\": 920, 'clientele': 1159, \"i'll\": 2931, 'lately': 3341, 'tearfully': 5907, 'bumped': 840, 'settlement': 5177, 'kick-ass': 3231, 'piece': 4388, 'chorus:': 1106, 'swell': 5826, 'charge': 1036, 'shelf': 5219, 'thirty-thousand': 6013, 'energy': 1928, 'pumping': 4646, 'powers': 4522, 'tones': 6102, 'mill': 3769, 'skydiving': 5359, 'lisa': 3455, 'coach:': 1182, 'ga': 2387, 'severe': 5180, 'meeting': 3716, 'damned': 1470, \"y'see\": 6712, 'magnanimous': 3596, 'compared': 1244, 'getcha': 2445, 'western': 6507, 'american': 253, 'prompting': 4610, \"professor's\": 4599, 'bleacher': 644, 'whether': 6539, 'champion': 1020, 'further': 2376, 'ringing': 4905, 'bon-bons': 688, 'stalking': 5605, 'tabooger': 5855, 'scrape': 5092, 'chairman': 1015, 'gambler': 2396, 'dryer': 1787, 'showing': 5262, 'iranian': 3073, 'texan': 5956, \"he'd\": 2710, 'waltz': 6422, 'named': 3950, 'end': 1921, 'rain': 4716, \"c'mon\": 892, 'shares': 5204, 'virility': 6377, 'gasp': 2411, 'barber': 480, 'winnings': 6607, 'leaving': 3368, 'thought_bubble_lenny:': 6027, 'bliss': 655, 'feat': 2113, 'ech': 1849, 'lear': 3360, 'kent_brockman:': 3224, 'barkeeps': 487, 'captain:': 938, 'were': 6504, 'religious': 4820, 'typed': 6241, 'dignity': 1623, 'wisconsin': 6615, 'chow': 1108, 'humiliation': 2908, 'ease': 1834, 'leak': 3358, 'whaaaa': 6511, 'spiritual': 5551, 'disappointment': 1647, 'luxury': 3573, 'telegraph': 5919, 'ugly': 6250, 'wagering': 6402, 'nantucket': 3953, 'loaded': 3482, 'except': 1999, 'care': 946, 'foibles': 2245, 'krusty': 3299, 'irish': 3075, 'wood': 6652, 'champignons': 1019, \"secret's\": 5121, 'rainier': 4719, 'ancestors': 262, 'chicks': 1077, 'chase': 1045, \"stallin'\": 5606, 'loved': 3541, 'folk': 2248, 'mumble': 3910, 'falcons': 2070, 'jogging': 3162, 'roll': 4927, 'created': 1388, 'au': 396, 'ummmmmmmmm': 6258, 'tha': 5961, 'hollye': 2827, 'chain': 1012, 'dignified': 1622, 'rancid': 4731, '1973': 33, 'tomatoes': 6096, 'rekindle': 4808, 'simp-sonnnn': 5300, 'played': 4436, 'baloney': 464, 'ruby-studded': 4963, 'sitar': 5331, 'considering:': 1288, 'be': 521, 'plucked': 4453, 'mostrar': 3873, 'capuchin': 939, 'hmm': 2808, 'yellow': 6733, 'linda': 3442, \"plank's\": 4423, 'cleaning': 1150, 'pickles': 4383, \"o'clock\": 4099, 'blinded': 653, 'pledge': 4449, 'compare': 1243, 'envy-tations': 1954, 'grave': 2549, 'stares': 5616, 'streetcorner': 5716, 'paint': 4243, 'penmanship': 4325, 'notably': 4071, 'beat': 534, 'root': 4943, 'presently': 4545, 'hiring': 2797, 'managed': 3630, 'same': 5025, 'stepped': 5661, 'mess': 3730, 'inning': 3018, 'rhode': 4884, 'zeal': 6772, 'ladder': 3310, 'cronies': 1405, 'nucular': 4086, 'mouse': 3882, 'wire': 6614, 'wally': 6418, 'knowledge': 3286, 'silent': 5298, 'karaoke': 3208, 'cursed': 1442, \"football's\": 2265, 'whup': 6568, 'cold': 1206, 'flaming': 2209, 'gator:': 2414, 'schabadoo': 5071, 'thru': 6047, 'hah': 2627, 'innocuous': 3021, 'scooter': 5084, 'gargoyle': 2405, 'listening': 3464, 'solo': 5472, 'reckless': 4779, 'depository': 1571, 'hub': 2896, 'leprechaun': 3395, 'crayon': 1385, 'tourist': 6127, 'occupancy': 4111, 'classy': 1145, 'owns': 4226, 'nasa': 3959, 'suave': 5742, 'haplessly': 2667, 'read': 4754, 'booth': 703, 'fritz:': 2344, 'took': 6111, 'compete': 1246, 'cowardly': 1365, 'neon': 4000, 'homesick': 2841, 'mini-beret': 3777, \"could've\": 1340, 'kinderhook': 3254, 'rebuttal': 4772, 'ali': 211, 'forty-seven': 2294, 'twenty-six': 6230, 'cheated': 1055, 'brooklyn': 801, 'based': 508, 'bathed': 514, 'derisive': 1579, 'beginning': 570, 'either': 1887, 'sexual': 5183, 'full-time': 2361, 'apply': 319, 'cesss': 1011, 'sacrilicious': 4999, 'boyhood': 742, 'tomahto': 6094, 'faces': 2056, 'damn': 1469, 'whim': 6542, 'shoulda': 5249, 'roy': 4955, 'men': 3722, 'creature': 1390, 'sneaky': 5431, 'oddest': 4120, \"summer's\": 5770, '70': 48, 'tomorrow': 6098, 'chug': 1118, 'lanes': 3325, 'out': 4206, 'dynamite': 1819, 'nards': 3956, 'totally': 6121, 'empty': 1915, 'vacuum': 6336, 'sniffing': 5435, 'army': 345, 'grateful': 2548, 'brilliant': 784, 'reserved': 4862, 'cavern': 991, 'cocking': 1191, 'swishkabobs': 5836, 'boxcars': 733, 'reading': 4758, 'sorts': 5502, 'marjorie': 3651, 'maude': 3675, '_hooper:': 66, 'lime': 3437, 'alarm': 201, 'birth': 627, 'bugs': 827, 'fifth': 2148, 'would': 6679, 'ab': 79, 'therapy': 5987, 'aged_moe:': 167, 'answering': 289, 'imported-sounding': 2970, 'happened': 2669, 'wiggum': 6580, 'gives': 2476, 'wobbly': 6631, 'restaurants': 4869, 'ready': 4761, 'murdered': 3914, \"choosin'\": 1105, 'ragtime': 4713, 'choked-up': 1102, 'taken': 5862, 'shill': 5225, 'information': 3010, 'hiya': 2805, 'person': 4351, 'french': 2324, 'risquã©': 4913, 'besides': 595, 'fulla': 2362, 'covering': 1361, 'drunks': 1785, 'naval': 3969, 'community': 1240, 'outlook': 4208, 'adjust': 130, 'type': 6240, 'snake-handler': 5423, 'sigh': 5290, 'get': 2443, 'yup': 6769, 'subscriptions': 5745, 'friend': 2333, 'lush': 3570, 'radical': 4701, 'pal': 4250, 'eggs': 1870, 'unforgettable': 6285, 'octa-': 4118, 'bowie': 727, 'boozebag': 706, 'helllp': 2751, 'pronounce': 4611, 'youngsters': 6759, 'jubilant': 3178, 'odor': 4121, 'hunter': 2915, \"fun's\": 2366, 'lurks': 3567, 'brockelstein': 793, 'kills': 3250, 'depressing': 1575, 'forecast': 2273, 'television': 5922, 'gags': 2391, 'doctor': 1688, 'such': 5748, 'louder': 3533, 'throat': 6040, 'sheepish': 5215, 'hops': 2862, 'presidents': 4551, 'disappeared': 1644, 'carefully': 949, 'neighbor': 3989, 'watered': 6457, 'unhook': 6290, 'unusual': 6308, 'pictured': 4387, 'lap': 3330, 'tried': 6174, 'dashes': 1489, 'badge': 446, 'eh': 1872, 'pit': 4409, 'bret:': 774, 'silence': 5297, 'rob': 4918, 'unbelievably': 6265, 'accept': 98, 'mulder': 3905, 'woman_bystander:': 6640, 'paramedic:': 4265, 'world': 6668, 'smooth': 5414, 'sledge-hammer': 5366, 'dr': 1734, 'wishes': 6619, 'choices:': 1099, 'placing': 4417, 'proves': 4625, 'coined': 1203, 'class': 1144, 'song': 5495, 'ron_howard:': 4937, 'coat': 1187, 'things': 6002, 'mither': 3802, 'giggles': 2462, \"'kay-zugg'\": 13, 'lose': 3519, 'shush': 5271, 'steamed': 5652, 'recipe': 4777, 'practice': 4524, 'done:': 1713, 'unlucky': 6302, 'due': 1791, 'throws': 6046, \"ladies'\": 3312, 'toms': 6100, 'list': 3460, 'scrutinizes': 5102, 'sickened': 5279, 'kool': 3295, 'hands': 2653, 'girlfriend': 2472, 'very': 6358, 'blessing': 649, 'painting': 4245, \"linin'\": 3449, 'minute': 3784, 'live': 3472, 'open-casket': 4176, 'thing:': 6001, 'barf': 482, 'spews': 5544, \"aren't\": 334, 'pop': 4494, 'tsk': 6200, 'ma': 3576, 'johnny': 3164, 'alternative': 238, 'material': 3671, \"haven't\": 2701, 'attention': 389, 'kay': 3210, 'kramer': 3298, 'noooooooooo': 4058, 'common': 1239, 'bouquet': 724, 'opens': 4178, 'knit': 3276, 'leathery': 3365, 'upgrade': 6314, 'furiously': 2373, 'disco': 1650, 'general': 2423, 'elect': 1891, 'willy': 6590, 'website': 6486, 'dumpster': 1810, 'alibi': 212, \"spiffin'\": 5546, 'refreshingness': 4799, 'bon': 687, 'chauffeur:': 1049, 'bridges': 779, 'stein-stengel-': 5657, 'dogs': 1694, 'brakes': 753, 'hunky': 2914, 'movement': 3888, 'toledo': 6090, 'sharity': 5206, 'annoyed': 281, 'cheaped': 1051, 'steaming': 5653, 'fainted': 2065, 'short': 5241, 'scruffy_blogger:': 5101, 'ahh': 187, 'shows': 5263, \"smackin'\": 5393, 'polygon': 4488, 'guzzles': 2618, 'broke': 796, 'loudly': 3534, 'nein': 3995, 'saucy': 5048, \"shootin'\": 5235, 'football_announcer:': 2266, 'beefs': 552, 'xanders': 6707, 'strongly': 5728, 'laughs': 3347, 'horror': 2867, 'jerry': 3145, 'majority': 3606, 'fluoroscope': 2235, 'sweetest': 5822, 'blood-thirsty': 662, 'bow': 726, 'scornfully': 5088, 'closet': 1171, \"rustlin'\": 4986, 'bets': 600, 'noosey': 4060, \"elmo's\": 1900, 'lifters': 3425, 'someone': 5480, 'stools': 5693, \"tv'll\": 6214, 'grow': 2578, 'louse': 3537, 'donor': 1714, 'endorsement': 1924, 'escort': 1961, 'mint': 3782, 'crayola': 1384, 'strips': 5724, 'sandwich': 5029, 'expensive': 2019, 'watered-down': 6458, 'another': 286, 'of': 4122, 'stonewall': 5689, 'wieners': 6573, 'wolfcastle': 6634, 'pillows': 4394, 'tonic': 6104, 'irs': 3080, 'mexican': 3737, \"liberty's\": 3409, \"game's\": 2398, 'moe-heads': 3829, \"i-i'm\": 2938, 'offer': 4128, 'invited': 3068, 'flat': 2216, 'mail': 3601, 'clone': 1166, 'call': 906, 'pills': 4395, \"fine-lookin'\": 2173, 'polenta': 4479, 'grumbling': 2586, 'impatient': 2966, 'wholeheartedly': 6563, 'plow': 4452, 'begins': 571, 'scoffs': 5083, 'manjula_nahasapeemapetilon:': 3639, 'sagely': 5011, 'that': 5968, 'inquiries': 3022, \"mo'\": 3812, 'd': 1455, 'here-here-here': 2766, 'pleasure': 4448, 'therefore': 5990, 'finest': 2174, 'looks': 3512, 'enthused': 1946, 'problems': 4590, 'hateful': 2697, 'veux': 6361, 'repairman': 4847, 'glum': 2491, 'solved': 5473, 'lipo': 3451, 'regulars': 4806, 'mahatma': 3598, 'clapping': 1143, 'talking': 5873, 'temp': 5927, 'stock': 5683, 'administration': 131, 'pint': 4403, 'politician': 4484, 'title': 6075, 'warranty': 6438, 'kindly': 3255, 'hostages': 2873, 'lennyy': 3391, 'between': 605, 'patrons': 4299, 'doppler': 1723, 'sucker': 5751, 'wham': 6515, 'midge': 3754, 'eva': 1971, 'peeved': 4323, 'sly': 5391, 'poor': 4492, 'nuts': 4095, 'winces': 6592, \"renovatin'\": 4841, 'full-blooded': 2359, 'corkscrews': 1322, \"smokin'_joe_frazier:\": 5413, 'walther': 6420, 'novel': 4080, 'seriously': 5168, 'raking': 4725, 'need': 3984, 'anyway': 303, \"president's\": 4549, 'answer': 287, 'takes': 5863, 'rafters': 4706, 'cozy': 1371, 'leg': 3375, 'produce': 4593, 'grrrreetings': 2580, 'folks': 2249, 'dejected_barfly:': 1541, 'control': 1307, 'newspaper': 4015, \"payin'\": 4311, 'remembering': 4829, 'entirely': 1950, 'oblongata': 4106, 'sitcom': 5332, \"let's\": 3400, 'wheeeee': 6529, 'self-made': 5143, 'associate': 373, 'danny': 1481, 'log': 3497, 'cooler': 1317, 'starts': 5628, 'surgery': 5796, 'goldarnit': 2505, 'pulls': 4645, 'grammar': 2535, 'higher': 2785, 'pizza': 4413, 'shag': 5189, 'otherwise': 4200, 'clothes': 1173, 'rutabaga': 4988, 'sheriff': 5221, 'collateral': 1208, 'aerosmith': 149, 'humanity': 2907, 'aidens': 192, 'value': 6340, 'professional': 4597, 'uglier': 6247, 'iddilies': 2944, 'ultimate': 6255, 'ha-ha': 2621, \"doctor's\": 1689, 'understood:': 6277, \"table's\": 5853, 'foot': 2263, '3rd_voice:': 41, 'dictator': 1607, 'changes': 1026, 'forty': 2291, \"cont'd:\": 1294, 'suspiciously': 5808, 'awareness': 413, 'pardon': 4267, \"'cept\": 6, 'campaign': 918, 'flowers': 2233, 'southern': 5515, 'kisses': 3265, 'unexplained': 6282, 'jumps': 3192, 'winded': 6595, 'vigilante': 6369, \"tonight's\": 6106, 'sweetly': 5825, 'replaced': 4852, 'pin': 4397, \"beer's\": 557, 'thesaurus': 5991, 'comment': 1234, 'sent': 5162, 'merchants': 3729, 'space': 5517, 'seminar': 5152, 'imaginary': 2962, 'plug': 4454, 'sobs': 5459, 's': 4990, 'photo': 4371, 'thirty-nine': 6012, 'harm': 2683, 'average-looking': 410, 'mocking': 3819, 'fake': 2069, 'corpses': 1327, 'ladies': 3311, 'ripper': 4911, 'difficult': 1619, 'steel': 5655, 'intakes': 3044, 'seymour': 5185, 'rainier_wolfcastle:': 4720, 'her': 2763, 'toys': 6137, 'and': 264, 'bookie': 700, 'faith': 2067, 'nurse': 4093, 'ambrose': 248, 'sits': 5334, 'evasive': 1972, 'terrible': 5943, 'goblins': 2498, 'reasons': 4770, 'rickles': 4892, 'saying': 5059, 'singer': 5311, 'adequate': 128, 'ho': 2811, 'belly': 583, 'ohh': 4138, 'poetics': 4463, 'carey': 951, 'patterns': 4302, 'idioms': 2950, 'prohibit': 4604, 'hilton': 2792, 'glen:': 2484, 'play/': 4435, 'reliable': 4817, 'stinky': 5679, 'pussycat': 4662, 'preparation': 4541, 'buttons': 878, 'pusillanimous': 4661, 'craft': 1375, 'shoes': 5232, 'costume': 1333, 'confidential': 1277, 'somehow': 5479, 'wasting': 6450, 'pair': 4248, \"sat's\": 5042, 'option': 4182, 'confidence': 1275, 'woo': 6650, 'divine': 1681, 'jerking': 3141, 'totalitarians': 6120, 'friendly': 2336, 'terrific': 5944, 'ruuuule': 4989, 'pick': 4378, 'krabappel': 3297, 'trunk': 6192, 'mirror': 3787, 'buffet': 825, 'cleaner': 1148, 'ride': 4894, 'jeff_gordon:': 3136, 'caricature': 952, 'relationship': 4809, 'bursts': 857, 'patting': 4303, 'moron': 3866, 'kyoto': 3303, \"lovers'\": 3547, '8': 50, 'theme': 5981, 'eating': 1846, 'gardens': 2404, 'liable': 3406, 'expense': 2018, 'job': 3155, 'hems': 2761, 'betty:': 604, 'perã³n': 4355, 'senators': 5155, 'emporium': 1914, 'ned': 3982, \"i'd'a\": 2930, 'california': 905, 'sec': 5115, 'bread': 761, 'crying': 1425, 'yo': 6744, 'beans': 528, 'human': 2906, 'larry': 3334, 'actor': 118, 'number': 4089, 'portentous': 4503, 'jerk-ass': 3140, 'springfield': 5576, 'culkin': 1432, 'sweet': 5820, 'ura': 6319, 'montrer': 3853, 'johnny_carson:': 3165, 'sanitation': 5033, 'rude': 4964, 'dint': 1634, 'troy': 6185, 'ons': 4166, 'smokes': 5411, 'completing': 1253, 'instead': 3037, 'pre-recorded': 4531, '__left_parentheses__': 56, 'beast': 533, 'darjeeling': 1482, 'coast': 1184, 'nobel': 4043, 'tinkle': 6067, 'stir': 5680, 'priority': 4580, 'witches': 6623, 'address': 126, 'grudgingly': 2583, 'underbridge': 6271, 'for': 2267, 'apu': 326, '7-year-old_brockman:': 47, 'lenford': 3386, 'breakdown': 764, 'diamond': 1602, 'kegs': 3217, 'matter-of-fact': 3674, 'less': 3396, 'extended': 2033, 'works': 6667, 'puffy': 4635, 'ourselves': 4205, 'happily': 2672, 'leave': 3366, 'specific': 5532, 'slays': 5365, 'bet': 597, 'label': 3306, 'pyramid': 4670, 'clinton': 1162, 'benjamin:': 594, 'sale': 5019, 'picky': 4384, 'routine': 4953, 'eleven': 1895, 'presumir': 4557, 'parents': 4269, 'um': 6256, 'arimasen': 338, 'diminish': 1626, \"renee's\": 4838, 'venom': 6351, 'hand': 2646, \"people's\": 4329, 'soaps': 5453, 'skunk': 5357, 'mobile': 3816, 'weekly': 6491, \"o'\": 4098, 'fat_tony:': 2097, 'hats': 2699, 'nail': 3944, 'own': 4223, 'waitress': 6407, 'tanking': 5878, 'lib': 3408, 'soap': 5452, 'giggle': 2461, 'boisterous': 684, 'coney': 1272, 'called': 907, 'pass': 4283, 'jasper_beardly:': 3126, 'military': 3765, 'drug': 1780, 'softer': 5467, 'indeed': 2991, 'simple': 5301, 'bury': 860, 'reached': 4749, 'brainiac': 751, 'tab': 5850, 'shocked': 5230, 'champs': 1022, 'night-crawlers': 4030, 'riveting': 4915, 'met': 3733, 'fountain': 2300, 'polite': 4483, 'ho-ly': 2813, 'pen': 4324, 'catholic': 981, 'bunion': 844, 'vegas': 6347, 'amanda': 243, 'thnord': 6018, 'cheerleaders:': 1064, 'cooker': 1313, 'blade': 639, 'beauty': 541, 'flames': 2208, \"tootin'\": 6114, 'stagey': 5600, 'war': 6430, 'outta': 4213, 'scrubbing': 5100, 'glitterati': 2485, 'housewife': 2887, 'figure': 2155, 'pudgy': 4633, 'feld': 2124, 'utility': 6333, 'urinal': 6322, 'ah': 183, 'gig': 2460, 'tofu': 6084, 'front': 2348, 'fudd': 2356, 'leno': 3392, 'stewart': 5665, 'wednesday': 6488, 'behind': 573, 'odd': 4119, 'pepsi': 4334, \"eatin'\": 1845, 'want': 6426, \"they've\": 5997, 'omit': 4154, 'fence': 2135, 'whispered': 6548, 'infor': 3008, 'academy': 95, 'beaumarchais': 538, 'simon': 5299, 'noticing': 4078, 'noble': 4044, 'god': 2499, 'east': 1837, \"fallin'\": 2072, 'marry': 3657, 'copy': 1320, 'somewhere': 5491, 'thorn': 6020, 'charming': 1043, 'infatuation': 3003, 'nordiques': 4063, 'filed': 2160, 'cattle': 983, \"neat's-foot\": 3977, 'bloodiest': 665, 'rome': 4935, 'beards': 531, 'steinbrenner': 5658, 'disappointed': 1645, 'strangles': 5710, 'adult_bart:': 141, 'marmaduke': 3653, 'edison': 1857, 'quarter': 4674, 'andy': 271, 'seamstress': 5109, 'thomas': 6019, 'tolerance': 6092, 'bottomless': 720, 'thanking': 5965, 'befouled': 564, 'new_health_inspector:': 4009, 'pus-bucket': 4657, 'grammy': 2536, 'bald': 456, \"where's\": 6538, 'terror': 5948, \"ma'am\": 3577, 'unhappy': 6289, 'angel': 272, 'kemi:': 3219, 'laughing': 3346, 'groveling': 2577, 'mayor': 3683, 'weirded-out': 6496, 'muertos': 3900, 'rounds': 4952, 'shred': 5264, 'julep': 3188, 'neither': 3996, 'mustard': 3932, 'picnic': 4385, 'sniffs': 5437, \"i'm-so-stupid\": 2933, 'dear': 1515, 'husband': 2921, 'seven': 5179, 'playhouse': 4439, 'near': 3974, 'beneath': 591, 'clipped': 1163, '2nd_voice_on_transmitter:': 38, 'followed': 2251, 'layer': 3355, 'fridge': 2332, 'or': 4184, 'rapidly': 4734, 'lodge': 3495, 'thirteen': 6009, 'busy': 870, 'pitcher': 4411, 'all:': 220, 'notices': 4077, 'skin': 5350, 'hollywood': 2828, 'stinger': 5674, 'rub': 4959, 'teacup': 5902, 'stickers': 5668, 'cheaper': 1052, 'protecting': 4618, 'blowfish': 668, 'offshoot': 4133, 'icelandic': 2942, 'fireworks': 2186, 'remote': 4835, 'cool': 1316, 'melodramatic': 3719, 'pre-columbian': 4529, 'little_man:': 3471, 'forgiven': 2281, 'hangover': 2662, \"who'da\": 6555, 'row': 4954, 'inspire': 3032, 'saget': 5012, 'unattended': 6261, 'talk': 5867, 'quimby': 4687, 'dressing': 1756, 'will': 6586, 'international': 3050, 'struggling': 5729, 'quick': 4682, 'storms': 5702, 'mock-up': 3818, 'turn': 6209, 'agent_miller:': 171, \"what's\": 6520, 'test': 5950, 'ignoring': 2956, 'happiness': 2674, 'cushions': 1444, \"'s\": 20, 'office': 4129, 'refreshing': 4798, 'hide': 2778, 'stands': 5614, \"springfield's\": 5577, 'movie': 3889, 'tee': 5912, 'large': 3333, 'moan': 3813, 'bedridden': 547, 'eddie:': 1853, 'stamps': 5609, \"what'll\": 6518, 'britannia': 789, 'bubbles': 815, 'stirring': 5682, 'homer_': 2837, 'package': 4231, 'illustrates': 2960, 'friendship': 2338, 'stupidly': 5740, 'sued': 5759, 'poking': 4478, 'exhaust': 2011, 'barstools': 496, 'hustle': 2923, 'luck': 3559, \"fishin'\": 2192, 'absolutely': 92, \"knockin'\": 3281, 'neighbors': 3993, 'dictating': 1606, 'safecracker': 5005, 'temporarily': 5931, 'badly': 448, 'entire': 1949, \"spaghetti-o's\": 5520, 'cheesecake': 1068, 'salt': 5021, 'hug': 2899, 'grind': 2569, 'contract': 1305, 'juke': 3185, 'snackie': 5420, 'town': 6133, \"mecca's\": 3707, \"askin'\": 363, 'wreck': 6690, 'acceptance': 99, 'quite': 4692, 'benjamin': 593, 'you': 6748, 'proudly': 4623, 'planet': 4422, 'looting': 3515, 'beings': 576, 'assume': 374, 'gun': 2605, 'valuable': 6339, 'finished': 2178, 'carolina': 964, 'morning-after': 3865, 'lighten': 3429, \"round's\": 4951, 'your': 6760, 'far': 2087, 'gotten': 2525, 'dejected': 1540, 'breaking': 767, 'unintelligent': 6293, 'sincerely': 5308, 'throwing': 6044, 'rich': 4888, 'fantastic': 2085, 'stones': 5688, 'moving': 3891, 'fresco': 2327, 'sexton': 5182, 'journey': 3174, 'sister-in-law': 5327, 'marquee': 3654, 'overflowing': 4216, 'drains': 1737, 'dexterous': 1599, \"somebody's\": 5477, 'edgy': 1856, 'comic': 1229, 'elmer': 1899, '10:15': 30, \"how'd\": 2891, 'thrilled': 6039, 'government': 2526, 'hardy': 2681, 'jovial': 3175, 'ya': 6714, 'chocolate': 1095, 'bulletin': 834, 'bites': 632, 'discriminate': 1652, 'bam': 465, 'pickled': 4382, 'radioactive': 4703, 'jane': 3122, 'my-y-y-y-y-y': 3935, 'aw': 411, 'tow-joes': 6129, 'awesome': 417, 'sunglasses': 5773, 'x-men': 6706, 'midnight': 3756, \"fendin'\": 2136, 'hello': 2752, 'entrance': 1951, 'decent': 1521, 'surprised': 5798, 'multi-national': 3907, 'fanciest': 2081, 'quarry': 4673, 'arab_man:': 330, 'rolls': 4931, 'factor': 2058, 'rolled': 4928, 'correcting': 1329, 'okay': 4144, 'conspiracy': 1291, 'premise': 4539, 'said': 5013, 'perking': 4345, 'into': 3055, \"seein'\": 5128, 'exited': 2014, 'country': 1347, 'drown': 1779, 'ought': 4201, 'ehhhhhh': 1874, 'bees': 562, 'nudge': 4087, 'social': 5460, 'disaster': 1649, 'certified': 1010, \"won't\": 6644, 'interrupting': 3052, 'frankly': 2312, \"couldn't\": 1341, 'gear-head': 2418, 'limber': 3436, 'worry': 6674, 'unearth': 6280, 'charm': 1042, 'tender': 5934, '14': 31, 'computer': 1261, 'score': 5085, 'bolting': 686, 'nick': 4022, 'zero': 6773, 'month': 3851, 'big': 612, 'minister': 3780, \"this'll\": 6016, 'phony': 4370, 'continued': 1302, 'massachusetts': 3665, 'spectacular': 5534, 'teams': 5905, 'flower': 2232, 'jesus': 3146, 'straight': 5704, 'evils': 1988, 'respect': 4866, 'lurleen': 3568, 'salary': 5018, 'rap': 4733, 'pants': 4259, 'har': 2676, 'opening': 4177, 'unless': 6299, 'easy': 1839, 'eww': 1990, 'reynolds': 4883, 'labor': 3308, 'mention': 3728, 'brow': 808, 'beating': 535, 'tipsy': 6072, 'girl': 2470, 'intoxicants': 3056, 'judge_snyder:': 3181, 'studio': 5734, 'stand': 5611, 'dreams': 1749, 'space-time': 5518, 'yammering': 6717, 'reality': 4763, 'dreamed': 1747, 'dan': 1471, 'souped': 5511, 'these': 5992, 'rocks': 4925, 'ew': 1989, 'motorcycle': 3878, 'expression': 2031, 'to': 6077, 'burg': 846, 'jay': 3127, 'eighteen': 1880, 't-shirt': 5849, \"handwriting's\": 2657, 'village': 6370, 'starla': 5617, 'socialize': 5461, 'intelligent': 3045, 'warmth': 6434, 'bedbugs': 546, 'beatings': 536, 'brawled': 760, 'maya': 3679, 'nameless': 3951, 'napkins': 3955, '_babcock:': 63, 'du': 1788, 'finger': 2175, 'hard': 2677, 'ho-la': 2812, \"today's\": 6081, \"she'll\": 5212, 'dean': 1514, 'unsanitary': 6305, 'third': 6007, 'tastes': 5889, 'joy': 3176, 'rice': 4887, 'dig': 1620, 'saved': 5052, 'scam': 5061, 'figured': 2156, 'banks': 468, 'cockroach': 1192, 'sucking': 5752, 'order': 4185, 'candy': 925, 'latin': 3343, 'forced': 2271, 'tree_hoper:': 6165, 'publish': 4630, 'finishing': 2179, 'bold': 685, 'dozen': 1733, 'rule': 4971, \"kids'\": 3243, 'seeing': 5129, 'wide': 6570, 'pennies': 4326, 'suds': 5757, 'dreamily': 1748, 'mrs': 3895, 'advice': 147, 'bronco': 799, 'symphonies': 5843, 'wife-swapping': 6577, 'situation': 5337, 'flag': 2204, 'rims': 4903, 'snotty': 5443, 'fortune': 2290, 'hold': 2819, 'supposed': 5792, 'mcstagger': 3690, 'helpful': 2755, 'grandmother': 2543, \"now's\": 4084, 'introduce': 3060, 'distributor': 1676, 'rig': 4899, 'sight': 5292, 'firm': 2188, 'reentering': 4790, 'leftover': 3373, 'conclude': 1267, 'dime': 1625, 'bye': 887, 'sobbing': 5455, 'move': 3886, 'post-suicide': 4510, 'pretzel': 4565, 'fill': 2161, 'weirder': 6497, \"tellin'\": 5924, \"g'ahead\": 2384, 'o': 4097, 'whiny': 6544, 'ding-a-ding-ding-ding-ding-ding-ding': 1630, 'our': 4204, 'deer': 1534, 'aghast': 177, 'smile:': 5403, 'persia': 4350, 'smiling': 5406, 'dislike': 1665, 'gin': 2467, 'shipment': 5227, 'lessee': 3397, 'specified': 5533, \"hobo's\": 2817, 'contemporary': 1298, 'clap': 1142, 'fica': 2142, \"'round\": 19, 'dead': 1507, 'wangs': 6424, 'behavior': 572, \"hasn't\": 2692, \"squeezin'\": 5589, 'wild': 6583, 'gregor': 2558, 'plums': 4456, 'princess': 4575, 'whining': 6543, 'warn': 6435, 'eye-gouger': 2041, 'informant': 3009, 'ding-a-ding-ding-a-ding-ding': 1629, 'morlocks': 3863, 'palmerston': 4253, 'represents': 4856, 'period': 4344, 'measurements': 3705, 'plywood': 4458, 'norway': 4067, 'backing': 441, 'winks': 6604, 'highway': 2787, 'drunk': 1782, 'chunky': 1124, 'pointed': 4467, 'pleasant': 4444, 'alone': 230, 'karaoke_machine:': 3209, 'pretty': 4564, 'glowers': 2490, 'lurleen_lumpkin:': 3569, 'decision': 1525, 'living': 3477, 'follow': 2250, 'champ': 1018, \"tony's\": 6109, 'fatty': 2101, 'dutch': 1815, 'stage': 5598, '91': 51, 'liven': 3473, 'kwik-e-mart': 3302, 'deny': 1567, 'biggest': 614, 'kang:': 3206, 'ihop': 2957, 'bottom': 719, 'child': 1080, 'breaks': 768, 'pizzicato': 4414, 'operation': 4179, 'sixty-five': 5342, 'singing': 5314, 'dreamy': 1750, 'lying': 3574, 'venture': 6353, 'standards': 5612, 'rat': 4739, 'cummerbund': 1433, 'wondering': 6649, 'hangout': 2661, 'voted': 6390, 'alien': 213, 'mm': 3806, 'bashir': 511, 'bastard': 513, 'ehhhhhhhh': 1875, 'compromise:': 1260, \"they're\": 5996, 'closing': 1172, 'stevie': 5664, 'mcbain': 3685, \"we'd\": 6472, 'putty': 4667, 'ashamed': 358, 'clearing': 1152, 'shaker': 5192, 'sector': 5123, 'meals': 3694, 'youse': 6765, 'permitting': 4347, 'funeral': 2369, 'youth': 6766, 'youuu': 6767, 'gently': 2434, 'renders': 4836, 'david': 1497, 'dinner': 1633, 'club': 1179, 'gay': 2416, 'sangre': 5031, 'alma': 227, 'luckiest': 3560, 'sadistic_barfly:': 5002, 'barflies:': 484, 'attractive_woman_#1:': 394, 'anderson': 269, 'stumble': 5736, 'notch': 4072, 'dallas': 1464, 'reed': 4789, 'acronyms': 112, 'regretted': 4805, 'soon': 5496, 'wraps': 6689, 'fever': 2139, 'wittgenstein': 6627, 'fortensky': 2288, 'wayne': 6467, 'weeks': 6492, 'indignant': 2998, 'crack': 1373, 'talked': 5870, \"she'd\": 5211, 'mm-hmm': 3807, 'calmly': 912, 'edna': 1858, 'sheet': 5216, 'gangrene': 2402, 'lobster-based': 3488, 'smells': 5400, 'nachos': 3939, 'new': 4008, 'congoleum': 1280, 'hooky': 2853, 'donuts': 1717, 'minors': 3781, 'ha': 2620, 'gum': 2601, 'shades': 5188, 'sensitivity': 5161, 'read:': 4755, 'p-k': 4229, 'chosen': 1107, 'alky': 215, 'legal': 3376, 'second': 5118, 'tribute': 6172, 'left': 3372, 'hemoglobin': 2759, 'avenue': 408, 'cheap': 1050, 'patriotic': 4296, 'vance': 6344, 'supply': 5787, 'aziz': 426, 'wants': 6429, 'plant': 4427, 'authenticity': 401, 'unfortunately': 6286, 'helping': 2756, 'blooded': 664, 'outside': 4211, 'ing': 3011, 'terrace': 5942, 'talk-sings': 5868, 'involved': 3069, 'mad': 3586, 'if': 2953, 'naegle': 3940, 'caused': 988, 'cameras': 916, 'perverse': 4353, 'drunkening': 1783, 'season': 5112, 'prank': 4526, 'tight': 6060, \"buffalo's\": 824, \"enjoyin'\": 1938, 'dealer': 1510, 'deacon': 1506, 'his': 2798, 'contest': 1301, 'brought': 807, 'insulted': 3040, \"tree's\": 6164, 'numbers': 4091, 'verdict': 6354, 'housing': 2889, 'exultant': 2039, 'sneak': 5430, 'filth': 2165, 'marched': 3644, 'mathis': 3672, 'kicked': 3232, 'suck': 5749, 'refund': 4801, 'signed': 5296, 'which': 6540, 'puzzled': 4669, 'step': 5660, 'malted': 3618, 'pained': 4241, 'went': 6503, 'hardhat': 2679, 'splendid': 5559, 'virtual': 6378, 'measure': 3704, 'boy': 739, 'dramatically': 1739, 'sat': 5041, 'ã€': 6780, 'strap': 5711, 'sticking': 5669, 'poorer': 4493, 'mountain': 3881, 'sumatran': 5768, 'incriminating': 2989, 'serum': 5169, 'writing': 6698, \"poisonin'\": 4474, 'p': 4228, 'sanctuary': 5028, 'manjula': 3638, 'slaps': 5363, 'drink': 1759, 'perverted': 4354, 'trash': 6156, \"countin'\": 1345, 'necessary': 3978, 'life-extension': 3417, 'raises': 4723, 'surprising': 5800, 'rag': 4707, 'fat-free': 2095, 'endorsed': 1923, 'seats': 5114, 'evergreen': 1979, 'hooters': 2855, 'celebrity': 997, 'cheese': 1067, 'enthusiastically': 1948, 'blows': 671, 'exchanged': 2002, 'perfunctory': 4342, 'declan': 1526, 'plaintive': 4419, 'loan': 3484, \"city's\": 1134, 'robot': 4922, 'running': 4981, 'bounced': 723, 'scare': 5064, 'bully': 835, 'platinum': 4433, 'tabs': 5856, 'astronauts': 379, 'teenage_homer:': 5917, \"daughter's\": 1496, 'sit': 5330, 'mater': 3670, 'corporate': 1325, 'begging': 568, 'sighs': 5291, 'spirit': 5550, 'century': 1004, 'quarterback': 4675, 'blobbo': 658, 'mug': 3902, 'filthy': 2166, 'papa': 4261, 'cocoa': 1196, 'shot': 5245, 'tar-paper': 5886, 'whaaa': 6510, 'roof': 4939, 'while': 6541, 'twenty-five': 6227, 'wasted': 6449, 'skills': 5349, 'trust': 6193, 'thumb': 6049, 'adjourned': 129, 'joint': 3169, 'handsome': 2655, 'agents': 172, 'in': 2975, 'tokens': 6088, 'thrust': 6048, 'arrested:': 349, 'shaking': 5195, 'tony': 6108, 'eddie': 1852, \"b-52's:\": 428, 'elocution': 1901, 'helicopter': 2746, 'scientific': 5081, 'runs': 4982, 'twenty-two': 6231, 'break': 762, 'kennedy': 3221, 'nature': 3966, 'bump': 839, 'man_with_tree_hat:': 3628, 'starters': 5624, 'broom': 802, 'hanh': 2664, 'touches': 6125, 'cake': 900, 'terminated': 5941, 'offa': 4124, \"nothin'\": 4073, 'unfair': 6283, 'grease': 2552, 'tv-station_announcer:': 6216, 'incredulous': 2988, \"wouldn't-a\": 6682, '__question_mark__': 58, 'options': 4183, '_timothy_lovejoy:': 72, 'talkers': 5871, 'ape-like': 307, 'louie:': 3535, 'three-man': 6037, 'cockroaches': 1193, 'errrrrrr': 1960, 'undies': 6279, 'uncle': 6266, 'saving': 5053, 'publishers': 4632, 'dã¼ff': 1821, 'hat': 2693, 'nothing': 4075, 'it:': 3093, '__exclamation_mark__': 55, 'appeals': 312, 'daniel': 1478, 'honey': 2845, 'broken': 797, 'practically': 4523, 'without:': 6626, '21': 36, 'intimacy': 3054, 'fighter': 2151, 'code': 1197, 'bauer': 520, 'queer': 4679, 'threatening': 6035, 'stops': 5696, 'senator': 5154, 'gimmicks': 2466, 'aggravazes': 175, 'heh': 2742, 'bless': 648, 'cowboys': 1367, 'landfill': 3323, 'email': 1904, 'gone': 2508, 'dessert': 1588, 'desperately': 1586, 'fondly': 2255, 'sink': 5320, 'sauce': 5047, \"we've\": 6475, 'france': 2309, 'beanbag': 527, 'believe': 579, 'ping-pong': 4401, 'banned': 469, 'effervescent': 1867, 'seymour_skinner:': 5186, 'ginger': 2469, 'sail': 5015, 'grub': 2581, 'satisfied': 5045, 'lovely': 3544, 'case': 969, 'snotball': 5442, 'hammer': 2642, 'chapter': 1033, 'nuked': 4088, 'ninety-six': 4038, 'quitcher': 4691, 'state': 5632, 'jacksons': 3112, 'macho': 3585, 'tatum': 5891, 'seconds': 5119, 'choked': 1101, 'tonight': 6105, 'bail': 454, 'partly': 4278, 'interesting': 3049, 'jury': 3196, 'button-pusher': 877, 'cheat': 1054, \"man's_voice:\": 3624, 'forehead': 2274, 'face': 2051, 'mother': 3875, 'march': 3643, 'eyed': 2044, 'spread': 5574, 'gayer': 2417, 'standing': 5613, \"watchin'\": 6454, 'flayvin': 2218, 'spit-backs': 5553, 'abcs': 81, \"coaster's\": 1186, 'stocking': 5684, 'decide:': 1523, 'pleased': 4447, 'hourly': 2884, 'grabs': 2530, 'schedule': 5072, \"c'mom\": 891, 'greystash': 2561, 'gore': 2518, 'savvy': 5055, 'is': 3081, 'camp': 917, 'lisa_simpson:': 3457, 'fixes': 2201, 'los': 3518, 'advantage': 143, 'glen': 2483, 'court': 1355, 'words': 6660, 'easier': 1835, 'makes': 3609, 'advertise': 145, 'countryman': 1349, 'contemplates': 1297, 'choice': 1096, 'dice': 1605, 'never': 4007, \"messin'\": 3732, 'drop-off': 1775, 'simpsons': 5304, 'percent': 4337, 'distinct': 1673, 'mary': 3662, 'tears': 5908, 'course': 1354, 'conditioning': 1271, 'spy': 5578, 'squeals': 5586, 'automobiles': 404, 'deliberate': 1545, 'emphasis': 1911, 'cruel': 1418, 'creeps': 1392, 'trail': 6144, 'site': 5333, 'disguise': 1659, '50%': 43, 'sports': 5568, 'citizens': 1132, 'became': 542, 'swe-ee-ee-ee-eet': 5814, 'grabbing': 2529, 'kahlua': 3204, 'maiden': 3600, 'bad-mouth': 445, 'lemonade': 3383, \"'\": 3, 'repeated': 4849, \"'now\": 16, 'sixteen': 5340, 'whoa-ho': 6560, 'slip': 5377, 'promotion': 4609, 'tip': 6070, 'perfume': 4341, 'shutup': 5275, 'snap': 5425, 'needed': 3985, 'home': 2830, 'clothespins': 1174, 'whatcha': 6523, \"wallet's\": 6417, 'grab': 2528, 'delete': 1543, 'ugliness': 6249, 'mice': 3742, 'show-off': 5257, 'perfect': 4339, 'minutes': 3785, \"betsy'll\": 601, 'before': 563, 'grammys': 2537, 'professor_jonathan_frink:': 4600, 'clothespins:': 1175, 'kneeling': 3272, 'wanted': 6428, 'interested': 3048, 'over-pronouncing': 4215, 'chastity': 1046, 'carve': 968, 'gestated': 2441, \"bein'\": 574, 'little': 3469, 'scatter': 5068, 'wonder': 6645, 'four-star': 2303, 'brightening': 783, 'head-gunk': 2714, 'attach': 384, 'barflies': 483, 'accusing': 107, \"grandmother's\": 2544, 'heaving': 2738, 'football': 2264, 'insightful': 3028, 'test-': 5951, \"how's\": 2893, 'invisible': 3066, 'teriyaki': 5939, 'adrift': 138, 'julienne': 3189, 'smiles': 5405, 'dumb': 1804, '35': 40, \"lookin'\": 3510, 'gallon': 2393, 'harv': 2686, 'book': 698, 'pats': 4301, 'slurred': 5390, \"drivin'\": 1770, 'letter': 3401, 'hail': 2629, 'declared': 1529, \"something's\": 5487, 'e-z': 1824, 'bag': 451, 'pour': 4516, 'burn': 850, 'test-lady': 5952, 'huhza': 2905, 'special': 5527, 'gruesome': 2584, 'told': 6089, 'stadium': 5597, 'west': 6506, 'me': 3692, 'woe:': 6632, 'taylor': 5899, 'rage': 4708, 'cup': 1434, \"tv's\": 6215, 'looooooooooooooooooong': 3513, 'parrot': 4274, 'delivery_boy:': 1554, 'bonding': 689, 'brains': 752, 'renee': 4837, 'everybody': 1981, 'complaining': 1249, 'until': 6307, \"'your\": 24, 'c': 889, 'disappear': 1643, 'delightfully': 1552, 'tsking': 6201, 'texas': 5957, 'sat-is-fac-tion': 5043, 'apart': 305, \"drexel's\": 1757, 'nigel_bakerbutcher:': 4026, 'drederick': 1752, 'swigmore': 5829, 'united': 6295, 'true': 6191, 'self-centered': 5141, \"jimbo's_dad:\": 3153, 'bowled': 729, 'orphan': 4193, 'one-hour': 4160, 'meal': 3693, 'intrigued': 3058, 'quick-like': 4683, 'instrument': 3038, 'too': 6110, 'pretentious_rat_lover:': 4561, 'middle': 3753, 'macbeth': 3582, 'castle': 974, '__dash__': 54, 'depressed': 1573, \"blowin'\": 669, 'taste': 5888, 'brunch': 811, 'ripcord': 4909, \"neighbor's\": 3990, 'because': 543, 'hugh:': 2903, 'feet': 2122, 'married': 3656, 'beverage': 606, 'jacks': 3110, 'playing': 4441, 'pouring': 4518, 'boozer': 708, 'air': 196, 'slab': 5360, 'expect': 2016, 'fevered': 2140, 'internet': 3051, 'sex': 5181, 'vomit': 6387, '_kissingher:': 68, 'bill': 616, 'groin': 2573, 'young_moe:': 6758, 'bedtime': 549, 'hers': 2770, 'krusty_the_clown:': 3300, 'kitchen': 3268, \"don'tcha\": 1707, 'alls': 226, 'edna_krabappel-flanders:': 1861, 'frink': 2341, 'holy': 2829, 'william': 6587, 'beaumont': 539, 'orders': 4187, 'overstressed': 4218, 'patron_#1:': 4297, 'loyal': 3555, 'enough': 1941, 'conference': 1273, 'comedy': 1225, 'admiring': 134, 'voicemail': 6385, 'cuddling': 1429, 'militia': 3766, 'spit': 5552, 'victorious': 6364, 'larry:': 3336, 'convenient': 1308, 'masks': 3663, 'stranger:': 5709, 'diving': 1682, 'crow': 1411, 'fall': 2071, 'cent': 1001, 'plotz': 4451, 'price': 4567, 'federal': 2114, 'stu': 5730, 'stained-glass': 5602, 'nerd': 4001, 'ivory': 3102, 'limits': 3440, 'facebook': 2053, 'pocket': 4459, 'curiosity': 1439, 'bupkus': 845, 'nineteen': 4034, 'pajamas': 4249, 'buds': 822, 'lover': 3545, 'feel': 2117, 'nfl_narrator:': 4018, 'anger': 273, 'dum-dum': 1803, 'where': 6536, 'abe': 82, 'tough': 6126, 'de': 1503, 'badges': 447, 'dang': 1476, 'labels': 3307, 'calling': 909, 'jazz': 3130, \"kid's\": 3236, 'mini-dumpsters': 3778, 'bucks': 818, 'joking': 3172, 'statesmanlike': 5634, 'formico:': 2287, 'harder': 2678, 'beard': 530, 'romance': 4933, 'drank': 1740, 'starve': 5630, 'aiden': 191, 'author': 402, 'mamma': 3620, 'bras': 756, 'noose': 4059, 'trivia': 6179, 'stalwart': 5607, 'bonfire': 693, 'narrator:': 3958, 'brain-switching': 749, 'courage': 1353, 'darn': 1486, 'perch': 4338, 'part': 4275, 'swimming': 5832, 'co-sign': 1181, 'glad': 2478, 'shriners': 5267, 'any': 296, 'watched': 6453, 'reunion': 4877, 'thighs': 5998, 'original': 4192, 'christmas': 1110, 'alphabet': 233, 'cover': 1360, 'someday': 5478, 'juice': 3184, 'hired': 2796, 'comedies': 1224, 'drag': 1736, 'haikus': 2628, 'wha': 6509, 'lloyd': 3479, 'smuggled': 5417, 'trenchant': 6170, 'bike': 615, 'vampires': 6342, 'a-a-b-b-a': 75, 'nauseous': 3968, 'reciting': 4778, 'lips': 3452, 'klown': 3271, 'goo': 2510, 'haws': 2708, 'strategy': 5713, 'encores': 1918, 'experience': 2020, 'usually': 6331, 'fires': 2185, 'mount': 3880, 'sideshow_bob:': 5287, 'creme': 1394, 'toilet': 6087, 'hoo': 2849, 'floated': 2226, 'forward': 2296, 'sickly': 5281, 'uh-oh': 6253, 'satisfaction': 5044, 'meaningfully': 3699, 'sorry': 5501, 'tow-talitarian': 6130, 'dumbest': 1808, 'spouses': 5572, 'st': 5593, \"wouldn't\": 6681, 'medical': 3710, 'kissing': 3266, 'rolling': 4930, 'pip': 4404, 'vanities': 6345, 'eighty-one': 1882, 'stillwater:': 5673, 'stay-puft': 5642, 'delivery_man:': 1555, 'booze': 704, 'chanting': 1030, 'friday': 2331, 'cross-country': 1408, \"thing's\": 6000, 'u2:': 6245, 'beam': 526, 'harvey': 2690, \"drawin'\": 1744, \"battin'\": 519, 'ingrates': 3013, 'compels': 1245, 'rivalry': 4914, 'devastated': 1595, 'ronstadt': 4938, 'lard': 3332, 'omigod': 4152, 'sobriety': 5458, '1895': 32, 'assumed': 375, 'family-owned': 2078, 'childless': 1081, 'hurry': 2917, 'detail': 1590, 'pulitzer': 4640, 'ninety-nine': 4036, 'nã£o': 4096, 'astonishment': 376, 'am': 242, 'sass': 5039, 'milhouses': 3764, 'completely': 1252, \"others'\": 4199, 'england': 1931, 'affectations': 151, 'choking': 1103, 'backward': 442, 'buying': 883, 'flashing': 2215, 'brusque': 813, 'game': 2397, 'arrest': 348, 'teacher': 5901, 'lumpa': 3565, 'betrayed': 599, 'lucius:': 3558, 'thorough': 6021, 'k': 3201, 'pigs': 4390, 'holidays': 2825, 'cricket': 1397, 'reflected': 4796, 'laws': 3352, 'recall': 4773, 'moment': 3838, 'hurting': 2919, 'kirk_voice_milhouse:': 3261, 'inspector': 3031, 'moolah-stealing': 3854, 'reasonable': 4769, 'invite': 3067, 'shoe': 5231, 'plastered': 4431, 'newest': 4010, 'serve': 5170, 'sneeze': 5433, 'daddy': 1461, 'each': 1825, 'church': 1125, 'irrelevant': 3079, 'worthless': 6678, 'crooks': 1407, 'newly-published': 4011, 'ironed': 3077, 'business': 865, 'hero-phobia': 2768, 'crank': 1377, 'easter': 1838, 'handler': 2650, 'consoling': 1290, 'whatsit': 6527, 'slot': 5386, 'sweeter': 5821, 'wrap': 6687, 'brace': 744, 'could': 1339, 'sealed': 5108, 'park': 4271, 'finance': 2169, 'looser': 3514, 'safe': 5004, 'shotgun': 5246, 'customers-slash-only': 1447, 'homer': 2833, 'choices': 1098, 'pregnancy': 4536, 'wife': 6575, 'emotion': 1909, 'witty': 6628, 'limited': 3439, 'dennis': 1561, 'certificate': 1009, 'connor': 1283, \"breakin'\": 766, 'superdad': 5780, 'onion': 4162, 'delicately': 1548, 'world-class': 6670, 'still': 5672, 'madison': 3588, 'music': 3924, 'recently': 4776, 'something:': 5488, 'alive': 214, 'whip': 6545, 'reconsidering': 4781, 'colorado': 1215, 'bum:': 836, 'total': 6119, 'waterfront': 6459, 'gasps': 2412, 'broken:': 798, 'sick': 5278, 'partners': 4280, 'funniest': 2370, 'long': 3502, 'flown': 2234, 'stay': 5641, 'spot': 5570, \"stabbin'\": 5595, 'tommy': 6097, 'draw': 1742, 'exit': 2013, 'watch': 6452, \"'ceptin'\": 7, 'like': 3433, 'margarita': 3645, 'lousy': 3538, \"havin'\": 2702, 'researching': 4859, 'many': 3642, 'fast-paced': 2092, 'booking': 701, 'please/': 4446, 'creepy': 1393, 'feedbag': 2116, 'apulina': 328, 'word': 6658, 'disapproving': 1648, 'punches': 4648, 'selection': 5138, 'yap': 6718, 'xx': 6708, 'slop': 5384, 'honor': 2847, 'present': 4543, 'b': 427, 'dirge-like': 1640, 'begin': 569, \"can'tcha\": 922, 'overhearing': 4217, 'victory': 6365, 'gas': 2409, 'shindig': 5226, 'wantcha': 6427, 'awe': 415, 'monroe': 3848, 'firing': 2187, \"mcstagger's\": 3691, 'valley': 6338, 'enveloped': 1952, 'difference': 1617, 'daaaaad': 1458, \"feelin's\": 2118, \"ball's\": 458, 'thirty-five': 6011, 'chili': 1084, 'rules': 4973, 'specials': 5530, 'older': 4149, 'richer': 4891, 'employment': 1913, 'courteous': 1356, 'ooh': 4169, 'edelbrock': 1854, 'act': 114, 'lance': 3321, \"livin'\": 3476, 'snaps': 5428, 'forty-five': 2292, 'heather': 2733, 'gumbo': 2603, 'suspenders': 5806, 'sarcastic': 5038, 'shaky': 5196, 'cutest': 1450, 'amused': 259, 'civil': 1136, 'doing': 1696, 'duffed': 1797, 'worse': 6675, 'plenty': 4450, 'the_rich_texan:': 5975, 'was': 6441, 'violations': 6374, 'bret': 773, 'wildfever': 6585, 'si-lent': 5277, 'fuss': 2378, 'indicates': 2994, \"i'm\": 2932, 'anymore': 300, \"beggin'\": 567, 'heartless': 2730, 'kermit': 3227, 'toss': 6118, 'close': 1167, 'quero': 4680, 'disturbance': 1677, 'horrible': 2865, \"thinkin'\": 6004, 'runners': 4980, 'something': 5486, 'wade_boggs:': 6400, 'chick': 1075, \"barney's\": 490, 'breath': 769, 'lofty': 3496, 'weak': 6477, \"school's\": 5078, 'dizer': 1684, 'lowering': 3552, 'double': 1727, 'sub-monkeys': 5743, 'jigger': 3152, 'sobo': 5457, 'fdic': 2110, 'madonna': 3590, 'washer': 6444, 'thank': 5963, 'dames': 1467, 'legally': 3377, 'happier': 2671, 'virile': 6376, 'feminist': 2134, 'uncomfortable': 6267, 'burt_reynolds:': 859, 'wins': 6609, 'keeps': 3216, 'point': 4466, 'neighboreeno': 3991, 'f': 2048, 'rainbows': 4717, 'confession': 1274, 'h': 2619, 'visas': 6379, 'grimly': 2566, 'barney_gumble:': 494, \"collector's\": 1209, 'maitre': 3604, 'murdoch': 3916, 'l': 3304, 'colossal': 1216, 'pantsless': 4260, 'sequel': 5165, 'heh-heh': 2743, 'extinguishers': 2034, 'sympathetic': 5840, 'maggie': 3593, 'sings': 5318, 'death': 1517, 'convinced': 1312, 'domestic': 1704, 'consider': 1286, 'build': 828, 'ticks': 6054, 'potatoes': 4513, 'family': 2076, 'glove': 2489, 'pro': 4586, 'cab_driver:': 894, 'red': 4788, 'excited': 2003, 'cage': 897, 'dame': 1466, 'carlson': 959, 'half': 2634, 'fledgling': 2221, 'may': 3678, 'mural': 3913, 'full': 2358, 'short_man:': 5242, 'stats': 5638, 'accepting': 100, 'knife': 3275, 'ask': 361, 'beach': 523, 'i-i': 2936, 'underpants': 6273, 'shareholder': 5203, 'brewed': 775, 'walked': 6412, 'weary': 6484, 'law': 3350, 'focused': 2244, 'super-tough': 5779, 'pharmaceutical': 4361, 'country-fried': 1348, 'sooo': 5498, 'shirt': 5228, 'ignorant': 2955, 'chuck': 1114, 'affection': 152, 'forget-me-drinks': 2277, 'brave': 759, 'books': 702, 'predictable': 4534, 'james': 3120, 'menace': 3725, 'tapping': 5884, 'twin': 6234, 'bird': 626, \"getting'\": 2449, 'cauliflower': 986, 'adventure': 144, 'outstanding': 4212, 'themselves': 5982, 'low': 3549, 'anyhoo': 298, \"bringin'\": 787, 'artie_ziff:': 354, 'mole': 3836, 'tanked-up': 5877, 'though:': 6024, 'illegal': 2958, '/mr': 27, 'can': 919, 'portfolium': 4504, 'furry': 2375, 'murmur': 3917, 'doy': 1732, 'dance': 1474, 'reminded': 4831, 'prayer': 4527, 'hugh': 2902, 'ivy-covered': 3103, 'suddenly': 5755, 'heliotrope': 2747, 'toasting': 6078, 'confident': 1276, 'dirt': 1641, 'mister': 3800, 'service': 5172, 'indifference': 2995, 'trucks': 6190, 'j': 3104, 'solves': 5474, 'cola': 1205, 'timbuk-tee': 6062, 'streetlights': 5717, 'ron': 4936, 'drinking': 1762, 'cell-ee': 1000, 'suits': 5767, 'baseball': 507, 'increasingly': 2986, 'normals': 4065, 'mexicans': 3739, 'sincere': 5307, 'butter': 873, 'driveability': 1766, 'expert': 2023, 'wacky': 6398, 'spine': 5548, 'contractors': 1306, 'perhaps': 4343, 'whoa': 6559, 'droning': 1773, 'hangs': 2663, 'occasional': 4110, 'dull': 1802, 'toy': 6136, 'bachelorette': 435, 'sunk': 5774, 'conditioner': 1269, 'luckily': 3561, 'doof': 1718, 'slipped': 5378, 'boys': 743, 'philosophical': 4366, 'ninety-eight': 4035, 'putting': 4666, 'all-american': 218, 'spending': 5541, 'peanut': 4319, 'bothered': 716, 'black': 636, 'releases': 4815, 'america': 251, 'pall': 4251, 'grain': 2533, 'uhhhh': 6254, 'itself': 3099, 'airport': 197, 'necklace': 3980, 'renew': 4840, 'hits': 2804, 'fish': 2191, 'unsafe': 6304, 'manfred': 3636, 'flashbacks': 2214, 'stood': 5690, 'cecil': 992, 'electronic': 1893, 'needy': 3987, 'quimbys:': 4689, 'written': 6699, 'triumphantly': 6178, 'ridiculous': 4895, 'rotten': 4948, 'compliments': 1256, 'comforting': 1228, 'chinese': 1088, 'atlanta': 383, \"i'unno\": 2934, 'hit': 2801, 'designated': 1582, 'yes': 6738, 'steampunk': 5654, 'depression': 1576, 'hmmmm': 2810, 'bart': 497, 'prejudice': 4537, 'certain': 1007, 'boozehound': 707, \"they'd\": 5994, \"valentine's\": 6337, 'fool': 2260, 'south': 5514, 'twenty': 6226, 'prettiest': 4563, 'slaves': 5364, 'open': 4175, \"what're\": 6519, 'watching': 6455, 'worked': 6663, 'heavens': 2737, 'scientists': 5082, 'considers': 1289, 'telling': 5925, 'nooo': 4057, \"startin'\": 5625, 'bank': 467, 'uses': 6327, 'togetherness': 6086, 'unable': 6260, 'traffic': 6142, 'racially-diverse': 4698, 'stores': 5700, 'few': 2141, 'outs': 4210, 'square': 5583, 'whispers': 6549, 'hop': 2857, 'plastic': 4432, 'terrified': 5945, 'rookie': 4940, 'unrelated': 6303, \"duff's\": 1795, 'prince': 4574, 'coming': 1232, 'poker': 4477, 'mozzarella': 3893, 'four-drink': 2302, 'urge': 6321, 'glasses': 2481, 'hanging': 2660, 'traditions': 6141, 'doreen:': 1725, 'playful': 4438, 'drinker': 1760, 'alcoholic': 205, 'irishman': 3076, 'jig': 3151, 'duty': 1816, 'ear': 1827, 'prepared': 4542, \"dyin'\": 1817, 'carnival': 962, 'koholic': 3292, 'flourish': 2231, 'muttering': 3933, 'news': 4012, 'troy_mcclure:': 6187, 'banquo': 472, 'wait': 6404, 'fast-food': 2091, 'background': 440, 'always': 241, 'guide': 2595, 'resigned': 4863, 'divorced': 1683, 'jeers': 3133, 'car': 940, 'relaxed': 4812, 'delicate': 1547, 'error': 1959, 'inspiring': 3034, 'geez': 2421, 'highest': 2786, 'cable': 895, 'gesture': 2442, 'guest': 2593, 'avec': 407, 'waste': 6448, 'boozy': 709, 'grampa_simpson:': 2539, 'corkscrew': 1321, 'boxers': 736, 'rug': 4966, 'spender': 5540, 'sprawl': 5573, 'boo': 696, 'spotting': 5571, 'clammy': 1138, 'popping': 4499, 'accidents': 103, 'make': 3607, 'impeach': 2967, 'guinea': 2598, 'eyeballs': 2043, 'developed': 1596, 'hygienically': 2926, 'train': 6145, 'tradition': 6140, 'did': 1608, 'wa': 6397, 'coins': 1204, 'wistful': 6622, 'homie': 2842, 'securities': 5124, 'dank': 1480, 'treats': 6162, 'liar': 3407, 'crowbar': 1412, 'panicky': 4256, 'drawn': 1746, 'juan': 3177, \"usin'\": 6328, 'tenuous': 5938, 'buttocks': 875, 'byrne': 888, 'jolly': 3173, 'memory': 3721, 'kearney_zzyzwicz:': 3213, 'looked': 3509, 'tv_announcer:': 6217, 'gentles': 2433, '/': 26, 'contemplated': 1296, 'stretches': 5719, 'burt': 858, 'enjoys': 1939, 'knew': 3274, \"readin'\": 4757, 'stuck': 5731, 'people': 4328, 'deliberately': 1546, 'fry': 2354, 'compressions': 1259, 'nor': 4062, 'must': 3929, 'rascals': 4735, 'fights': 2154, 'basement': 509, 'lucius': 3557, 'come': 1222, 'feed': 2115, 'plan': 4420, \"'pu\": 17, 'fella': 2126, 'years': 6727, 'go-near-': 2496, \"'n'\": 15, 'cocks': 1194, 'mellow': 3718, 'moe-clone': 3827, 'writer:': 6695, 'candidate': 923, 'dungeon': 1812, 'heaven': 2736, 'made': 3587, 'chug-a-lug': 1119, 'other': 4195, 'madman': 3589, 'bumblebee_man:': 837, 'easily': 1836, 'jeter': 3147, 'amount': 258, 'screw': 5097, 'touchdown': 6123, 'sustain': 5809, 'jobless': 3156, 'consciousness': 1285, 'medicine': 3711, 'jack': 3105, 'curds': 1437, 'going': 2502, 'charged': 1037, 'steely-eyed': 5656, 'metal': 3734, 'capitalists': 934, 'happily:': 2673, 'knowing': 3284, 'contented': 1300, 'canoodling': 928, 'wars': 6440, \"dad's\": 1460, 'korea': 3296, 'poem': 4461, 'bartending': 504, 'ends': 1925, 'puts': 4664, 'shelbyville': 5218, 'resist': 4864, 'ditched': 1679, 'barney-type': 493, 'dae': 1463, 'awkward': 420, 'fruit': 2352, 'shrugging': 5268, 'mccarthy': 3687, 'slender': 5371, 'tasty': 5890, 'splattered': 5558, 'troy:': 6186, \"fans'll\": 2084, 'specialists': 5528, 'bowl': 728, 'homer_doubles:': 2838, 'exciting': 2005, 'plus': 4457, 'english': 1933, 'kim_basinger:': 3251, 'poke': 4476, 'customers': 1446, 'remembers': 4830, 'obvious': 4108, 'felt': 2130, 'continuing': 1303, 'working': 6666, 'blinds': 654, 'reader': 4756, \"who'll\": 6556, 'hates': 2698, 'assert': 370, 'its': 3098, 'set': 5174, 'attend': 388, 'loser': 3520, 'entering': 1943, 'heavyset': 2739, 'inherent': 3015, 'hotline': 2880, 'modest': 3822, 'arguing': 337, 'f-l-a-n-r-d-s': 2049, 'team': 5903, 'gordon': 2517, 'hell': 2748, 'bite': 631, 'pull': 4641, 'presto:': 4556, 'ahhh': 188, 'kenny': 3222, 'mission': 3797, 'rotch': 4947, 'ninth': 4039, 'wanna': 6425, 'viva': 6380, 'astrid': 377, 'drapes': 1741, 'last': 3339, 'trick': 6173, 'activity': 117, 'kidney': 3240, 'pride': 4570, 'moon-bounce': 3856, 'record': 4782, 'sheets': 5217, 'renee:': 4839, 'having': 2703, \"kearney's_dad:\": 3212, 'carny:': 963, 'martini': 3659, 'anti-intellectualism': 293, 'th': 5959, 'around': 346, 'aww': 422, 'towed': 6132, 'serious': 5167, 'woodchucks': 6653, 'jukebox_record:': 3187, 'appreciated': 322, 'microphone': 3749, 'salad': 5017, 'shame': 5198, 'cab': 893, 'sesame': 5173, 'anti-lock': 294, 'keep': 3214, 'they': 5993, 'frogs': 2346, 'upsetting': 6318, \"floatin'\": 2227, 'myself': 3936, 'spent': 5542, \"tomorrow's\": 6099, 'impending': 2968, 'lugs': 3563, 'monday': 3842, 'aggravated': 174, 'without': 6625, 'invented': 3062, 'captain': 937, \"pope's\": 4496, 'place': 4415, 'wrapped': 6688, 'freshened': 2329, 'pretend': 4558, 'hottest': 2881, 'suppose': 5791, 'uh-huh': 6252, 'matter': 3673, 'away': 414, 'alright': 235, 'daughter': 1495, 'overturned': 4219, 'boxing': 737, 'intruding': 3061, 'shakespeare': 5194, 'telephone': 5921, 'attempting': 387, 'regret': 4803, 'law-abiding': 3351, 'right-handed': 4902, 'wipe': 6611, 'ones': 4161, 'woo-hoo': 6651, 'should': 5247, 'michael_stipe:': 3744, 'fiiiiile': 2158, 'design': 1581, 'disturbing': 1678, 'smelling': 5399, 'legoland': 3379, 'through': 6042, 'from': 2347, 'beligerent': 581, 'hmmm': 2809, 'ventriloquism': 6352, 'midge:': 3755, 'jukebox': 3186, 'roomy': 4942, 'afternoon': 162, 'phase': 4362, 'rat-like': 4740, 'cops': 1319, 'character': 1034, 'giant': 2455, 'expose': 2029, 'meaning': 3697, 'face-macer': 2052, 'access': 101, ':': 52, 'signal': 5295, 'awake': 412, 'puke-pail': 4639, 'located': 3491, 'penny': 4327, 'neil_gaiman:': 3994, 'walks': 6414, 'puke-holes': 4638, 'hispanic_crowd:': 2799, 'already': 234, 'guess': 2591, 'dials': 1601, 'bid': 609, 'sam:': 5024, 'ram': 4729, 'replace': 4851, 'knuckle-dragging': 3289, 'mmmmm': 3811, 'coms': 1263, 'instantly': 3036, 'morning': 3864, 'coupon': 1352, 'yelling': 6731, 'oughtta': 4203, 'upon': 6316, 'bush': 862, 'gary:': 2407, 'chill': 1085, 'anxious': 295, \"smokin'\": 5412, 'plain': 4418, 'stationery': 5636, 'literary': 3467, 'detective': 1592, 'arm': 342, 'commit': 1236, 'fire': 2181, 'mmm-hmm': 3809, 'chipper': 1093, 'life': 3415, 'experiments': 2022, 'slapped': 5362, 'jelly': 3137, 'cards': 945, \"someone's\": 5481, 'whatever': 6526, 'deeper': 1532, 'toxins': 6135, 'pulling': 4644, 'ointment': 4143, '__quotation_mark__': 59, 'strain': 5706, 'stomach': 5687, 'four': 2301, 'thought': 6025, 'shove': 5254, 'mason': 3664, \"boy's\": 740, 'amid': 256, 'democracy': 1559, 'fears': 2111, 'ivanna': 3101, 'beers': 561, 'cases': 970, \"somethin'\": 5483, 'heading': 2716, 'a-lug': 77, 'wishful': 6620, 'thirty-three': 6014, 'squad': 5581, 'loboto-moth': 3486, 'selling': 5147, 'eaten': 1843, 'wise': 6616, 'wage': 6401, 'illegally': 2959, 'loss': 3523, 'tropical': 6182, 'yuh-huh': 6768, 'focus': 2243, 'official': 4131, 'correction': 1330, 'mindless': 3774, 'light': 3428, 'handle': 2649, 'voice': 6382, 'outrageous': 4209, 'headhunters': 2715, 'magic': 3595, 'two': 6236, 'stiffening': 5671, 'full-bodied': 2360, 'bide': 610, \"she's\": 5213, 'chug-monkeys': 1120, 'explanation': 2027, 'hellhole': 2750, 'excuse': 2007, 'billingsley': 620, 'negative': 3988, 'mouths': 3885, 'ugliest': 6248, 'simplest': 5302, 'shock': 5229, \"brady's\": 745, 'destroyed': 1589, 'bubbles-in-my-nose-y': 816, 'cosmetics': 1331, 'chips': 1094, 'leans': 3359, \"hawkin'\": 2706, 'terrifying': 5946, 'ayyy': 425, 'acquaintance': 110, 'writers': 6696, 'fail': 2061, 'catty': 984, 'dive': 1680, 'goods': 2515, 'carmichael': 960, 'defiantly': 1538, 'kirk_van_houten:': 3260, 'flexible': 2224, 'maxed': 3676, 'cut': 1448, 'blues': 674, 'lewis': 3404, 'pub': 4628, 'frankenstein': 2310, 'losing': 3522, 'bottles': 718, 'healthier': 2721, 'geyser': 2451, 'avalanche': 406, 'homers': 2840, 'friends': 2337, \"year's\": 6726, 'sold': 5469, 'missing': 3796, 'ass': 367, 'pile': 4392, 'temper': 5928, 'spite': 5554, \"everyone's\": 1984, 'buddy': 821, 'alfred': 210, \"i've\": 2935, 'wonderful': 6647, 'sky': 5358, \"scammin'\": 5062, 'vote': 6389, 'revenge': 4879, 'anniversary': 279, 'spooky': 5565, 'snorts': 5441, 'jerky': 3143, \"raggin'\": 4710, 'bugging': 826, 'frankie': 2311, 'ever': 1978, 'groan': 2570, 'judge': 3180, 'miracle': 3786, 'other_book_club_member:': 4197, 'finally': 2168, 'skinheads': 5351, 'railroad': 4714, '_zander:': 73, 'else': 1902, 'bullet-proof': 833, 'food': 2258, 'massive': 3667, 'gimme': 2464, 'lease': 3363, 'body': 682, 'heartily': 2729, 'highball': 2784, 'burning': 852, \"children's\": 1083, 'naturally': 3965, 'muscles': 3921, 'john': 3163, 'doll': 1697, 'allegiance': 221, \"cupid's\": 1436, 'arms': 344, 'happy': 2675, 'mystery': 3937, 'all': 216, 'explaining': 2026, 'aquafresh': 329, 'boxer': 734, 'forever': 2275, 'barely': 481, 'fatso': 2100, \"should've\": 5248, 'plants': 4429, 'logos': 3498, 'improved': 2974, '_montgomery_burns:': 70, 'lifestyle': 3422, \"'tis\": 22, 'nine': 4033, 'poin-dexterous': 4465, 'sistine': 5329, 'goodbye': 2513, 'scores': 5086, 'malabar': 3612, 'the_edge:': 5974, 'then': 5983, 'schorr': 5079, 'till': 6061, 'dramatic': 1738, 'priest': 4572, 'scanning': 5063, 'oooh': 4171, 'pageant': 4237, 'sour': 5512, 'hurts': 2920, 'iran': 3072, 'excuses': 2008, 'homeless': 2832, 'partially': 4277, 'eve': 1973, 'fiction': 2143, 'environment': 1953, 'great': 2553, 'gorgeous': 2519, 'compliment': 1255, 'truth': 6196, 'shaggy': 5190, 'touch': 6122, 'coward': 1364, 'deserve': 1580, 'voice:': 6383, 'badmouth': 449, 'calculate': 902, 'barbed': 479, 'tense': 5936, 'two-thirds-empty': 6238, 'kinds': 3256, 'reptile': 4858, \"son's\": 5493, 'capitol': 935, 'text': 5958, 'sickens': 5280, 'nelson_muntz:': 3998, 'asking': 364, \"rasputin's\": 4738, 'savagely': 5050, 'milks': 3768, 'occurs': 4116, 'con': 1264, 'saw': 5056, 'andalay': 268, 'asked': 362, \"starla's\": 5618, \"puttin'\": 4665, 'driving': 1771, 'rusty': 4987, 'mmm': 3808, 'harvard': 2688, 'tickets': 6053, 'tapered': 5882, 'devils:': 1598, 'oblivious': 4105, 'ecru': 1851, 'riding': 4897, \"s'pose\": 4993, 'yep': 6737, 'insurance': 3042, 'joined': 3167, 's-a-u-r-c-e': 4994, 'burglary': 848, 'hyahh': 2924, 'pause': 4306, \"c'mere\": 890, 'cigars': 1130, 'arrange': 347, 'beer-jerks': 559, 'fourteen:': 2304, 'student': 5732, 'celebrate': 994, 'grey': 2560, 'carney': 961, 'ne': 3972, 'pay': 4308, \"gettin'\": 2447, 'padre': 4234, 'match': 3668, 'asleep': 366, 'button': 876, 'kick': 3230, 'question': 4681, \"wonderin'\": 6648, 'curious': 1440, 'wolverines': 6636, 'huddle': 2898, 'whenever': 6535, 'cologne': 1212, 'falsetto': 2074, 'tire': 6073, 'wall': 6415, 'fl': 2202, 'spacey': 5519, 'royal': 4956, 'throats': 6041, 'girls': 2473, 'pee': 4321, 'buy': 880, 'characteristic': 1035, 'yogurt': 6745, 'furniture': 2374, 'splash': 5557, 'saturday': 5046, 'rainforest': 4718, 'wakede': 6409, 'blend': 647, 'courts': 1358, 'jewelry': 3149, 'ehhh': 1873, 'windelle': 6596, 'i/you': 2940, 'vicious': 6362, 'boat': 679, 'locklear': 3494, 'hare-brained': 2682, 'man_with_crazy_beard:': 3627, 'column': 1217, 'junior': 3194, 'ungrateful': 6288, 'vulgar': 6393, 'sudoku': 5756, 'rabbits': 4695, 'horrified': 2866, 'sounds': 5509, 'cell': 999, 'arse': 351, 'organ': 4189, 'since': 5306, 'next': 4017, 'jubilation': 3179, 'fat': 2094, 'rem': 4823, 'hated': 2696, 'gloop': 2487, 'indecipherable': 2990, 'sell': 5146, 'ore': 4188, 'shall': 5197, 'puke': 4637, 'screams': 5096, 'moonlight': 3857, 'neanderthal': 3973, 'feels': 2121, 'strains': 5708, 'bars': 495, 'voodoo': 6388, 'hmf': 2807, 'owner': 4225, 'young_barfly:': 6755, 'principal': 4577, 'ferry': 2137, 'taxi': 5898, 'much': 3898, 'waters': 6460, 'grace': 2531, 'yello': 6732, 'dealt': 1513, 'sloppy': 5385, 'bed': 545, 'adult': 140, 'amnesia': 257, 'naked': 3947, 'mic': 3741, 'notorious': 4079, 'lotta': 3528, 'summer': 5769, 'rods': 4926, 'salvador': 5022, 'lady': 3313, 'knuckles': 3290, 'dressed': 1755, 'against': 164, 'employees': 1912, 'friend:': 2335, 'eyeing': 2045, \"toot's\": 6112, 'ratio': 4742, 'those': 6022, \"aristotle's\": 340, 'frightened': 2339, 'relax': 4811, 'look': 3505, 'r': 4694, 'different': 1618, 'available': 405, 'oils': 4142, 'frescas': 2326, \"tab's\": 5851, 'starlets': 5620, 'remain': 4824, \"family's\": 2077, \"playin'\": 4440, 'tapestry': 5883, 'cartoons': 967, 'furious': 2372, 'offended': 4125, 'buffalo': 823, 'exact': 1991, 'company': 1242, 'dry': 1786, 'billion': 621, 'effects': 1865, 'finale': 2167, 'file': 2159, 'eighty-three': 1885, 'cop': 1318, 'reporter': 4853, 'ocean': 4117, 'marshmallow': 3658, 'lobster': 3487, 'mines': 3776, 'believer': 580, 'return': 4876, \"you've\": 6752, 'y-you': 6713, 'go': 2495, 'investment': 3064, 'maintenance': 3603, 'mudflap': 3899, 'peeping': 4322, 'bulked': 830, 'awful': 418, 'their': 5979, 'little_hibbert_girl:': 3470, 'pitch': 4410, 'pfft': 4360, 'meanwhile': 3703, 'founded': 2299, 'white_rabbit:': 6553, 'continuum': 1304, 'attractive': 393, 'most': 3870, 'municipal': 3912, 'failure': 2063, 'whatchacallit': 6524, 'across': 113, 'soaking': 5451, 'synthesize': 5845, 'hour': 2883, 'deeply': 1533, 'relaxing': 4813, 'backgammon': 439, 'harv:': 2687, 'lindsay_naegle:': 3445, 'designer': 1583, 'incognito': 2984, 'widow': 6571, 'suspicious': 5807, 'admirer': 133, 'bushes': 863, 'busted': 869, 'legend': 3378, 'belts': 589, 'glitz': 2486, 'prettied': 4562, 'warren': 6439, 'clown': 1177, 'message': 3731, 'darkest': 1484, 'assassination': 368, 'botanical': 714, 'restless': 4870, 'cutting': 1452, 'cock': 1190, 'starting': 5626, 'glamour': 2479, 'seems': 5133, 'wedding': 6487, 'results': 4873, 'whisper': 6547, 'marge_simpson:': 3648, 'tie': 6056, 'slow': 5387, 'payday': 4310, 'blubberino': 672, 'plum': 4455, \"when's\": 6533, \"number's\": 4090, 'knock': 3278, 'radishes': 4704, 'dog': 1692, 'reaching': 4751, 'len-ny': 3384, 'amazing': 245, 'smallest': 5396, 'customer': 1445, 'unusually': 6309, 'mafia': 3591, 'directions': 1637, 'coin': 1201, 'gal': 2392, 'diaper': 1603, 'bathroom': 516, 'mayor_joe_quimby:': 3684, 'everything': 1985, 'say': 5057, 'freak': 2316, 'fresh': 2328, \"homer's_brain:\": 2836, \"santa's\": 5035, 'blame': 640, 'jackson': 3111, 'round': 4950, 'stayed': 5643, 'dollface': 1701, 'cajun': 899, 'engine': 1930, '530': 45, 'marguerite:': 3649, 'nobody': 4045, 'sue': 5758, 'festival': 2138, 'swamp': 5811, 'grenky': 2559, 'aisle': 198, 'ripping': 4912, \"fryer's\": 2355, 'yesterday': 6739, 'crunch': 1423, 'liver': 3474, 'wish-meat': 6618, 'blown': 670, 'couch': 1336, 'share': 5202, 'perfected': 4340, 'stingy': 5675, \"maggie's\": 3594, 'wiggle-frowns': 6579, 'agnes_skinner:': 179, 'handed': 2647, 'worst': 6676, 'field': 2145, 'beer:': 560, 'with': 6624, 'expired': 2024, 'cats': 982, \"men's\": 3723, 'had': 2624, 'promised': 4608, \"bladder's\": 638, 'plans': 4426, 'uncreeped-out': 6268, 'attack': 386, 'crossed': 1409, 'hotenhoffer': 2879, 'announcer:': 280, 'fausto': 2104, 'peanuts': 4320, 'positive': 4507, 'scornful': 5087, 'asses': 371, 'extra': 2035, 'palm': 4252, 'brassiest': 757, 'padres': 4235, 'fact': 2057, 'phasing': 4363, 'pointing': 4469, 'dizzy': 1685, 'painted': 4244, 'saga': 5009, 'gruff': 2585, 'fills': 2163, 'fat_in_the_hat:': 2096, \"how're\": 2892, 'disgusted': 1661, 'young_homer:': 6756, 'refill': 4794, 'program': 4602, 'giving': 2477, '__comma__': 53, 'neck': 3979, 'project': 4605, 'eyeball': 2042, 'insecure': 3023, 'complicated': 1254, \"ragin'\": 4711, 'later': 3342, 'bitter': 634, 'mechanical': 3708, 'coyly': 1369, 'change': 1024, \"'er\": 9, 'sideshow_mel:': 5288, 'pain': 4240, 'duffman': 1798, 'lawyer': 3353, 'then:': 5984, 'incredible': 2987, \"nothin's\": 4074, 'bar_rag:': 477, 'carl:': 955, 'channel': 1029, 'socratic': 5464, 'criminal': 1401, 'grains': 2534, 'je': 3131, 'important': 2969, 'crappy': 1381, 'six-barrel': 5339, 'tease': 5909, 'swallowed': 5810, 'laugh': 3345, 'slogan': 5383, 'tempting': 5932, 'offense': 4126, 'cuff': 1431, 'nicer': 4021, 'pep': 4330, 'pridesters:': 4571, \"gentleman's\": 2430, 'takeaway': 5861, 'spreads': 5575, 'winning': 6606, 'shooting': 5236, 'gabriel': 2388, 'scratcher': 5093, 'malibu': 3616, 'literature': 3468, 'african': 158, 'grunts': 2589, 'rip': 4907, 'prolonged': 4606, 'considering': 1287, 'popped': 4498, 'souvenir': 5516, 'buddha': 819, 'audience:': 398, 'walther_hotenhoffer:': 6421, 'getaway': 2444, 'kucinich': 3301, 'worldview': 6672, 'assent': 369, 'peach': 4317, 'drove': 1778, '100': 29, 'age': 165, 'nursemaid': 4094, 'anti-crime': 292, 'cash': 971, 'brockman': 794, 'fraud': 2314, 'sister': 5326, 'vengeance': 6349, 'barney-shaped_form:': 492, 'pig': 4389, 'thoughtfully': 6029, 'mouth': 3884, 'warm_female_voice:': 6432, \"clancy's\": 1140, 'boring': 710, 'manatee': 3633, 'tummies': 6204, 'script': 5099, 'thousand': 6032, 'comfortable': 1227, 'backbone': 438, \"weren't\": 6505, 'hitler': 2803, 'wash': 6442, 'baby': 433, 'quality': 4672, 'methinks': 3736, 'cries': 1398, 'bridge': 778, 'pope': 4495, 'mickey': 3746, 'wrecking': 6691, 'counter': 1343, 'cookies': 1314, 'refinanced': 4795, 'cheery': 1066, 'everyone': 1983, 'eyes': 2046, 'ze-ro': 6771, 'slick': 5373, 'cupid': 1435, 'strolled': 5726, 'online': 4164, 'gargoyles': 2406, 'famous': 2079, 'lee': 3371, 'manchego': 3635, 'sympathizer': 5841, 'letters': 3402, 'familiar': 2075, 'scene': 5069, 'also': 236, 'upn': 6315, \"coffee'll\": 1199, 'combination': 1219, 'please': 4445, 'gals': 2394, 'half-back': 2635, 'poison': 4473, 'moxie': 3892, 'planned': 4424, 'ground': 2575, 'booger': 697, 'likes': 3434, 'well-wisher': 6500, 'howya': 2895, 'carb': 943, 'voyager': 6392, 'problem': 4588, 'turning': 6211, 'connection': 1282, 'disgrace': 1656, 'spanish': 5522, 'violin': 6375, 'lucinda': 3556, 'dory': 1726, 'wildest': 6584, 'damage': 1465, 'attached': 385, 'ruled': 4972, 'pre-game': 4530, \"jackpot's\": 3108, 'brandy': 755, \"mopin'\": 3861, 'perplexed': 4349, 'late': 3340, 'heavyweight': 2740, 'goodnight': 2514, 'flew': 2223, 'sotto': 5503, 'boggs': 683, 'lists': 3466, 'yourself': 6763, 'nickels': 4025, 'raise': 4722, 'paintings': 4246, 'impress': 2971, 'pirate': 4407, 'enemy': 1927, 'peabody': 4315, 'senators:': 5156, 'stolen': 5686, 'tragedy': 6143, 'six': 5338, 'sacajawea': 4996, 'reluctantly': 4822, 'female_inspector:': 2131, 'slurps': 5389, 'granted': 2546, 'including': 2983, 'aer': 148, 'tow': 6128, 'tester': 5953, 'haircuts': 2631, 'sure': 5794, 'application': 318, 'wizard': 6629, \"man'd\": 3622, 'oooo': 4172, 'arrived': 350, 'etc': 1966, 'jack_larson:': 3106, 'painless': 4242, 'wine': 6601, '_julius_hibbert:': 67, 'holiday': 2824, 'sweetie': 5824, 'charter': 1044, 'birthday': 628, 'aunt': 400, 'woozy': 6657, 'bought': 722, 'crestfallen': 1395, 'meditative': 3713, 'fad': 2059, 'richard': 4889, 'let': 3399, 'chapstick': 1032, 'mona_simpson:': 3841, 'haiti': 2633, 'bob': 680, 'mop': 3860, 'cigarette': 1128, 'wordloaf': 6659, 'rewound': 4882, 'unattractive': 6262, 'generally': 2424, 'proper': 4614, 'bring': 786, \"bashir's\": 512, 'mom': 3837, 'tv_father:': 6219, 'reads': 4760, \"can't-believe-how-bald-he-is\": 921, 'owe': 4221, 'bust': 868, 'up': 6310, 'na': 3938, 'sugar-free': 5762, 'horrors': 2868, 'blank': 642, 'jimmy': 3154, 'pool': 4491, 'packets': 4232, 'gil_gunderson:': 2463, 'gifts': 2459, 'bellyaching': 585, 'isotopes': 3086, 'augustus': 399, 'chance': 1023, 'host': 2872, 'shoot': 5234, 'born': 711, 'winch': 6593, 'oww': 4227, 'anyone': 301, 'than': 5962, 'protesting': 4621, 'count': 1342, 'kill': 3244, 'pews': 4359, 'diapers': 1604, 'sassy': 5040, 'wishing': 6621, 'side:': 5283, 'equal': 1955, 'fifty': 2149, 'training': 6147, 'superhero': 5781, 'health_inspector:': 2720, 'admit': 135, 'monkeyshines': 3846, 'eurotrash': 1970, 'squirrels': 5591, 'sense': 5159, 'hiding': 2780, 'treasure': 6159, 'canyoner-oooo': 930, 'ye': 6722, 'funny': 2371, 'clear': 1151, 'resenting': 4860, 'stop': 5694, 'wearing': 6482, 'lily-pond': 3435, 'inflated': 3006, 'haw': 2704, 'abusive': 94, 'numeral': 4092, 'luv': 3572, 'breathless': 771, 'teenage_bart:': 5916, 'milhouse_van_houten:': 3763, 'uneasy': 6281, 'bums': 842, 'catch-phrase': 979, 'babar': 430, 'libraries': 3411, 'cat': 976, 'sack': 4997, 'clock': 1165, 'nahasapeemapetilon': 3943, 'as': 357, 'when': 6532, 'authorized': 403, \"stinkin'\": 5677, 'spare': 5523, 'chief': 1078, 'enabling': 1916, 'richard:': 4890, 'joey_kramer:': 3161, 'demo': 1558, 'privacy': 4582, 'david_byrne:': 1498, 'gunk': 2606, 'cleaned': 1147, 'derek': 1578, 'crushed': 1424, \"fightin'\": 2152, 'bartholomã©:': 506, 'guys': 2617, 'schmoe': 5075, 'cheerier': 1061, 'advertising': 146, 'beloved': 587, 'fit': 2196, 'all-star': 219, 'bumbling': 838, \"soakin's\": 5450, 'corporation': 1326, 'placed': 4416, 'realizing': 4766, \"idea's\": 2946, 'checking': 1057, 'knees': 3273, 'white': 6552, 'mind': 3772, 'eye': 2040, 'mac-who': 3580, 'keeping': 3215, 'sight-unseen': 5293, 'gotta': 2524, 'ago': 180, 'lainie:': 3319, 'wang': 6423, 'malfeasance': 3615, 'occurred': 4114, 'hours': 2885, 'afloat': 155, \"murphy's\": 3919, 'composer': 1257, 'loves': 3548, 'macaulay': 3581, 'recap:': 4774, 'honored': 2848, 'neighborhood': 3992, 'harmony': 2684, 'george': 2436, 'polishing': 4482, 'elephants': 1894, 'sen': 5153, 'phrase': 4374, 'mall': 3617, 'awed': 416, 'extreme': 2037, 'enhance': 1935, 'monkey': 3845, 'generously': 2427, 'faiths': 2068, 'days': 1501, 'wow': 6685, 'launch': 3349, 'jer': 3138, 'americans': 254, 'dirty': 1642, 'guessing': 2592, 'yourse': 6762, 'represent': 4855, 'gary_chalmers:': 2408, \"'em\": 8, 'surprise': 5797, 'party': 4281, \"moe's_thoughts:\": 3826, 'kidding': 3238, 're-al': 4746, 'is:': 3082, 'housework': 2888, 'paper': 4263, 'asks': 365, 'squashing': 5584, 'schemes': 5073, 'so': 5446, 'duffman:': 1799, 'goes': 2500, 'combine': 1220, 'lobster-politans': 3489, 'trees': 6167, 'hockey-fight': 2818, 'fox': 2306, 'string': 5721, 'embarrassing': 1906, 'nonsense': 4056, 'sleep': 5367, 'charlie:': 1041, 'enemies': 1926, 'snake_jailbird:': 5424, 'attraction': 392, 'refreshment': 4800, 'morose': 3867, 'startup': 5629, 'conclusions': 1268, 'none': 4055, 'yak': 6716, 'paying': 4312, 'trying': 6199, 'naively': 3946, 'orifice': 4191, 'all-all-all': 217, 'raising': 4724, 'earrings': 1831, 'sidelines': 5285, 'coy': 1368, 'mis-statement': 3789, 'unfamiliar': 6284, 'aging': 178, 'threw': 6038, 'treehouse': 6166, 'belly-aching': 584, 'andrew': 270, 'clown-like': 1178, 'apology': 308, 'occurrence': 4115, 'hospital': 2871, 'leonard': 3394, 'volunteer': 6386, 'intoxicated': 3057, 'lungs': 3566, 'golf': 2507, 'realize': 4764, 'dinks': 1632, 'choose': 1104, 'sir': 5324, 'railroads': 4715, 'marvelous': 3660, 'two-drink': 6237, 'aggie': 173, 'here': 2764, \"man's\": 3623, 'remaining': 4825, 'whistling': 6551, 'pawed': 4307, 'fist': 2194, 'poetry': 4464, \"'topes\": 23, 'beer-dorf': 558, 'colonel:': 1213, 'secrets': 5122, \"tester's\": 5954, 'addiction': 124, 'cerebral': 1005, 'free': 2319, 'deadly': 1508, 'twelveball': 6224, 'yea': 6723, 'mcclure': 3688, 'herself': 2771, 'floor': 2229, 'pursue': 4655, 'carlotta:': 958, 'afraid': 156, 'date': 1491, 'enjoyed': 1937, \"edna's\": 1859, \"g'night\": 2385, 'wowww': 6686, 'sturdy': 5741, 'half-day': 2637, '_powers:': 71, 'bubble': 814, 'cute': 1449, 'trouble': 6183, 'transfer': 6151, 'punishment': 4650, 'high': 2781, 'lowers': 3553, 'delightful': 1551, 'optimistic': 4181, 'bus': 861, 'yawns': 6721, \"homer's\": 2835, 'dawning': 1499, 'thunder': 6050, 'nectar': 3981, 'taunting': 5894, 'knocks': 3282, 'force': 2270, 'batmobile': 518, 'judges': 3182, 'fork': 2284, 'gin-slingers': 2468, 'right': 4901, 'average': 409, 'disposal': 1669, 'fifteen': 2147, 'rockers': 4924, 'pad': 4233, 'muffled': 3901, 'single': 5316, 'chinua': 1090, 'amber_dempsey:': 247, 'tactful': 5857, 'wayne:': 6468, 'menacing': 3726, 'szyslak': 5848, 'domed': 1703, 'ling': 3447, 'sensible': 5160, 'counting': 1346, \"spyin'\": 5579, 'nervously': 4004, 'chief_wiggum:': 1079, 'per': 4336, 'bar:': 476, 'write': 6694, 'onassis': 4156, 'runaway': 4979, \"costume's\": 1334, 'reaction': 4752, 'snow': 5445, 'hall': 2639, 'patrons:': 4300, 'lost': 3524, 'wheel': 6530, 'joe': 3159, 'knows': 3288, 'form': 2285, 'pine': 4400, 'generous': 2426, 'prizefighters': 4585, 'appalled': 310, 'ow': 4220, 'curse': 1441, 'x': 6705, 'championship': 1021, 'tune': 6206, 'samples': 5027, 'shop': 5238, 'however': 2894, 'fink': 2180, 'bar': 473, 'favor': 2105, 'relative': 4810, 'poplar': 4497, 'guns': 2607, 'archaeologist': 332, 'play': 4434, 'recruiter': 4786, 'raging': 4712, 'estranged': 1965, 'hero': 2767, 'poisoning': 4475, 'sieben-gruben': 5289, 'moe_szyslak:': 3834, 'cannoli': 926, 'lucky': 3562, 'duh': 1800, 'tree': 6163, 'sudden': 5754, 'dude': 1790, 'grunt': 2588, 'agent': 169, 'delicious': 1549, 'dumbbell': 1807, 'ordered': 4186, 'male_singers:': 3614, 'when-i-get-a-hold-of-you': 6534, 'hopeful': 2860, 'purse': 4654, 'updated': 6313, 'linda_ronstadt:': 3443, 'gamble': 2395, 'donation': 1711, 'suit': 5766, 'atari': 381, 'drinks': 1764, 'smile': 5402, 'blur': 676, \"that'll\": 5970, 'ads': 139, \"larry's\": 3335, 'carl': 953, 'blurbs': 677, 'absentminded': 89, \"money's\": 3844, 'frontrunner': 2349, 'clench': 1155, 'other_player:': 4198, 'listened': 3462, 'taxes': 5897, 'thirsty': 6008, 'oh-so-sophisticated': 4137, 'slugger': 5388, 'lighter': 3430, 'competing': 1247, 'shores': 5240, 'be-stainã¨d': 522, 'pays': 4314, 'chipped': 1092, 'horses': 2869, 'glorious': 2488, 'jumping': 3191, 'eminence': 1908, 'owned': 4224, 'mailbox': 3602, 'lend': 3385, 'forbidden': 2268, 'marge': 3646, 'boxcar': 732, 'shoulders': 5251, 'slim': 5376, 'wish': 6617, 'princesses': 4576, 'a': 74, 'being': 575, 'bar-boy': 475, 'heard': 2723, 'gees': 2420, 'swill': 5830, 'newsweek': 4016, 'what-for': 6522, '_marvin_monroe:': 69, 'beyond': 607, 'sinkhole': 5321, 'terrorizing': 5949, 'decide': 1522, 'snitch': 5439, 'allow': 223, 'kings': 3258, 'ooo': 4170, 'golden': 2506, 'pinchpenny': 4399, 'whoever': 6561, 'displeased': 1668, \"stealin'\": 5649, 'moved': 3887, 'pantry': 4258, 'hot-rod': 2877, 'killer': 3247, 'more': 3862, 'punk': 4651, 'waylon': 6465, 'doreen': 1724, 'together': 6085, 'sternly': 5663, 'sticker': 5667, 'nonchalant': 4053, 'aside': 360, 'night': 4029, 'tornado': 6117, 'normal': 4064, 'example': 1994, 'children': 1082, 'refresh': 4797, 'relieved': 4818, 'cooking': 1315, \"they'll\": 5995, 'ancient': 263, 'rev': 4878, 'nuclear': 4085, 'chumbawamba': 1122, 'duff': 1794, 'crew': 1396, 'gang': 2401, 'rosey': 4946, 'whoops': 6566, 'broad': 791, 'ale': 207, \"cat's\": 977, 'sober': 5456, 'slyly': 5392, 'paparazzo': 4262, 'crumble': 1421, 'poster': 4511, 'videotaped': 6367, 'lou:': 3531, 'ironic': 3078, 'aged': 166, 'successful': 5747, 'nose': 4069, 'evening': 1975, 'handwriting': 2656, 'yoo': 6747, 'sentimonies': 5163, 'brothers': 806, 'blue': 673, 'moans': 3814, '-ry': 25, 'wooden': 6654, 'alley': 222, 'funds': 2368, 'ideas': 2949, 'sadder': 5001, 'whistles': 6550, 'learned': 3362, 'al_gore:': 200, 'good-looking': 2512, \"'ere\": 10, 'shyly': 5276, 'sedaris': 5125, 'small_boy:': 5395, 'babies': 432, 'conditioners': 1270, 'knowingly': 3285, 'tale': 5866, 'dollars': 1700, 'careful': 948, 'minimum': 3779, 'grants': 2547, 'tavern': 5895, 'coincidentally': 1202, 'skinner': 5352, 'selective': 5139, 'non-american': 4051, 'chinese_restaurateur:': 1089, 'ziffcorp': 6775, 'winston': 6610, 'las': 3338, 'yoink': 6746, 'extremely': 2038, 'stretch': 5718, 'refiero': 4793, 'swelling': 5827, 'dump': 1809, 'arts': 356, 'looking': 3511, 'trench': 6169, 'smithers': 5407, 'duff_announcer:': 1796, 'suspended': 5805, 'michael': 3743, 'drivers': 1768, 'least': 3364, 'treat': 6160, 'closes': 1170, 'men:': 3724, 'gosh': 2520, 'intriguing': 3059, 'discussing': 1654, 'wok': 6633, 'snout': 5444, 'off': 4123, 'commanding': 1233, 'brick': 776, 'really': 4767, 'thanks': 5966, 'examines': 1993, 'pockets': 4460, 'dishonor': 1662, 'washed': 6443, \"speakin'\": 5525, 'lenses': 3393, 'app': 309, 'agent_johnson:': 170, 'under': 6270, 'ball': 457, 'barbara': 478, 'quotes': 4693, 'rhyme': 4885, 'flophouse': 2230, 'fritz': 2343, 'taught': 5893, 'powerful': 4521, 'chauffeur': 1048, 'startled': 5627, 'aims': 194, 'private': 4583, 'feeling': 2119, 'raining': 4721, \"what'd\": 6517, 'purveyor': 4656, \"wearin'\": 6481, 'confused': 1279, 'obsessive-compulsive': 4107, 'local': 3490, 'ceremony': 1006, 'longer': 3503, 'jam': 3118, 'bear': 529, 'mariah': 3650, \"he'll\": 2711, 'wings': 6603, 'passion': 4287, 'seat': 5113, 'flatly': 2217, \"we're\": 6474, 'santeria': 5036, \"didn't\": 1610, 'zinged': 6776, 'desire': 1584, 'hundreds': 2910, 'popular': 4500, 'defeated': 1535, 'restaurant': 4868, 'bull': 831, 'first': 2190, 'jackpot-thief': 3109, 'bartender': 501, 'bannister': 470, 'shoo': 5233, 'lights': 3432, 'favorite': 2106, \"listenin'\": 3463, 'seething': 5137, 'burp': 855, 'pigtown': 4391, 'radiation': 4699, 'flailing': 2205, 'mr': 3894, 'exchange': 2001, 'probably': 4587, 'single-mindedness': 5317, \"i'd\": 2929, 'this:': 6017, 'appropriate': 323, 'othello': 4194, 'sing-song': 5310, 'fondest': 2254, 'mumbling': 3911, 'grand': 2540, 'superpower': 5785, 'admiration': 132, 'broadway': 792, 'glummy': 2492, 'isle': 3084, 'cousin': 1359, 'bottle': 717, 'bill_james:': 617, 'lifetime': 3423, 'fonda': 2253, 'musses': 3928, 'w-a-3-q-i-zed': 6396, 'feisty': 2123, 'squeeze': 5587, 'quimby_#2:': 4688, 'said:': 5014, 'slit': 5379, 'today': 6080, 'chapel': 1031, 'brother-in-law': 804, 'jockey': 3158, 'girl-bart': 2471, 'trapped': 6154, 'musical': 3925, 'psst': 4627, 'frazier': 2315, 'supervising': 5786, 'cloudy': 1176, 'safely': 5006, 'homeland': 2831, 'spitting': 5556, 'tips': 6071, 'tuborg': 6203, 'scum-sucking': 5106, 'oh-ho': 4136, 'celeste': 998, \"mtv's\": 3897, \"friend's\": 2334, 'rupert_murdoch:': 4984, 'frog': 2345, 'habitrail': 2623, 'become': 544, 'angrily': 274, 'sucked': 5750, 'canyonero': 931, 'school': 5077, 'lise:': 3458, 'shaved': 5209, 'wigs': 6581, \"industry's\": 3000, 'geysir': 2452, 'bono:': 695, 'presents': 4546, 'helps': 2758, 'sun': 5771, 'disguised': 1660, 'love-matic': 3540, 'hearts': 2731, 'unjustly': 6297, 'roz:': 4958, 'cobra': 1189, 'billiard': 619, 'elves:': 1903, 'hidden': 2777, 'causes': 989, 'media': 3709, 'pathetic': 4293, 'passports': 4288, 'cure': 1438, 'fustigation': 2380, 'flush-town': 2237, 'heave-ho': 2735, 'portuguese': 4505, 'zack': 6770, 'dna': 1686, 'barney-guarding': 491, 'twerpy': 6232, 'voice_on_transmitter:': 6384, 'stinks': 5678, 'happens': 2670, 'emotional': 1910, 'squishee': 5592, \"calf's\": 904, 'talkative': 5869, 'getup': 2450, 'thought_bubble_homer:': 6026, 'desperate': 1585, 'suspect': 5804, 'indifferent': 2996, 'crimes': 1400, 'drive': 1765, 'vampire': 6341, 'drollery': 1772, 'incarcerated': 2980, 'blaze': 643, 'pets': 4358, 'dispenser': 1667, 'lindsay': 3444, 'lonely': 3501, 'flash-fry': 2213, 'support': 5789, 'wake': 6408, 'room': 4941, 'machine': 3584, 'thoughtless': 6030, 'slight': 5374, 'lecture': 3369, 'marvin': 3661, 'neat': 3976, 'failed': 2062, \"isn't\": 3085, 'annoying': 282, 'lemme': 3382, 'rope': 4944, 'santa': 5034, 'protesters': 4620, 'undermine': 6272, 'switched': 5838, \"waitin'\": 6406, \"you'll\": 6750, 'lovelorn': 3543, 'christopher': 1111, 'majesty': 3605, 'workers': 6664, 'eighty-seven': 1883, 'turlet': 6208, 'chub': 1112, 'soaked': 5449, 'guard': 2590, 'philip': 4364, 'darts': 1487, 'statues': 5640, 'whaddaya': 6512, 'coffee': 1198, 'wrestle': 6692, 'recommend': 4780, 'forget-me-shot': 2278, 'approval': 324, 'sharps': 5208, 'buzz': 884, 'panties': 4257, 'contact': 1295, 'selma_bouvier:': 5150, 'buddies': 820, 'grieving': 2563, 'bragging': 747, 'scum': 5105, 'jerks': 3142, 'unison': 6294, \"who's\": 6557, 'earpiece': 1830, 'snail': 5421, 'monster': 3850, 'clearly': 1153, \"washin'\": 6445, 'concentrate': 1265, \"ol'\": 4145, 'animals': 277, 'sixty-nine': 5343, 'pernt': 4348, 'water': 6456, 'bluff': 675, 'fastest': 2093, 'hitchhike': 2802, 'steam': 5651, 'walking': 6413, 'burnside': 854, 'chilly': 1086, 'mate': 3669, \"shouldn't\": 5252, 'wipes': 6612, 'dã¼ffenbraus': 1822, 'moe-clone:': 3828, 'der': 1577, 'traitors': 6149, 'covers': 1362, 'hooray': 2854, 'alfalfa': 209, 'nods': 4046, 'gotcha': 2523, 'pancakes': 4254, 'prints': 4579, 'tap': 5879, 'undated': 6269, 'title:': 6076, 'brief': 780, 'remembered': 4828, 'mob': 3815, 'nice': 4020, 'candles': 924, 'tigers': 6059, 'parked': 4272, 'kl5-4796': 3269, 'dreary': 1751, 'erasers': 1958, 'rom': 4932, \"what'sa\": 6521, 'mid-conversation': 3751, 'rubbed': 4961, 'grandkids': 2542, 'put': 4663, 'awwww': 424, 'tries': 6175, 'pugilist': 4636, 'prefer': 4535, 'computer_voice_2:': 1262, 'bible': 608, 'jailbird': 3117, 'grim': 2565, \"depressin'\": 1574, 'equivalent': 1956, 'just': 3197, 'collette:': 1211, 'managing': 3632, 'barney': 489, 'quadruple-sec': 4671, 'wolveriskey': 6637, 'although': 239, 'moonshine': 3859, 'staying': 5645, 'throw': 6043, 'appointment': 320, 'links': 3450, 'protestantism': 4619, 'nelson': 3997, 'dennis_kucinich:': 1563, 'sometime': 5489, 'reopen': 4846, 'so-called': 5447, 'boxer:': 735, 'creates': 1389, 'admitting': 136, 'suing': 5765, 'moe-lennium': 3830, \"foolin'\": 2261, \"rentin'\": 4845, 'hans:': 2666, 'alva': 240, 'simpson': 5303, 'choice:': 1097, 'comeback': 1223, 'crippling': 1403, 'bachelor': 434, 'five-fifteen': 2198, 'handshake': 2654, 'pushes': 4659, 'stamp': 5608, 'cap': 932, 'nation': 3963, 'mirthless': 3788, 'genius': 2428, 'sleeping': 5368, 'forty-nine': 2293, 'ah-ha': 184, \"hole'\": 2823, 'lead': 3357, 'lighting': 3431, 'showed': 5258, \"department's\": 1569, 'random': 4732, 'griffith': 2564, 'minus': 3783, 'clams': 1139, 'insulin': 3039, 'know': 3283, 'department': 1568, 'there': 5988, 'pasta': 4290, 'tentative': 5937, 'pickle': 4381, 'them': 5980, 'generosity': 2425, 'hardwood': 2680, 'lenny_leonard:': 3390, 'carll': 957, 'nasty': 3962, \"heat's\": 2732, 'door': 1721, 'gutenberg': 2612, 'imagine': 2963, 'ruint': 4970, 'fellow': 2128, 'injury': 3017, 'germans': 2438, 'guy': 2615, 'watt': 6461, \"aren'tcha\": 335, 'add': 123, 're:': 4747, 'subject': 5744, 'appreciate': 321, 'whoopi': 6565, 'paints': 4247, \"crawlin'\": 1383, 'cobbling': 1188, 'debonair': 1518, 'dropping': 1777, 'peaked': 4318, 'tied': 6057, 'doug:': 1729, 'tired': 6074, 'lots': 3526, 'branding': 754, 'retain': 4874, 'theatrical': 5978, 'africanized': 159, 'einstein': 1886, \"bart'd\": 498, 'graveyard': 2551, 'groans': 2571, 'squeezed': 5588, 'shoulder': 5250, \"tinklin'\": 6068, 'head': 2713, 'stopped': 5695, 'burger': 847, 'slice': 5372, 'wooooo': 6655, 'fourth': 2305, 'over': 4214, 'smart': 5397, 'yelp': 6736, 'stupidest': 5739, 'initially': 3016, 'hawking:': 2707, 'money': 3843, \"high-falutin'\": 2783, 'gluten': 2493, 'cheryl': 1070, 'fantasy': 2086, 'register': 4802, 'bart_simpson:': 500, 'cletus_spuckler:': 1157, \"robbin'\": 4920, 'planning': 4425, 'truck': 6188, 'seen': 5134, 'faced': 2054, 'sitting': 5336, 'braun:': 758, 'latour': 3344, 'roach': 4916, 'cigarettes': 1129, 'thankful': 5964, 'doll-baby': 1698, 'hear': 2722, 'truck_driver:': 6189, 'used': 6326, 'yeah': 6724, 'sales': 5020, 'apartment': 306, 'surgeonnn': 5795, 'musketeers': 3926, 'lookalikes': 3508, 'profiling': 4601, 'cozies': 1370, 'defected': 1536, 'moesy': 3835, 'scream': 5095, 'lookalike': 3506, 'politicians': 4485, 'moe-ron': 3832, 'genuinely': 2435, 'yellow-belly': 6734, 'name:': 3949, 'mixed': 3805, 'collapse': 1207, \"d'ya\": 1457, 'tying': 6239, 'van': 6343, 'shortcomings': 5243, 'everyday': 1982, 'disco_stu:': 1651, 'heroism': 2769, 'stink': 5676, 'physical': 4375, 'klingon': 3270, 'proposing': 4616, 'hurt': 2918, 'farewell': 2088, 'idea': 2945, 'eu': 1968, 'urban': 6320, 'anguished': 276, 'verticality': 6357, 'calvin': 913, 'actually': 121, 'grandiose': 2541, 'complete': 1251, 'anyhow': 299, \"that'd\": 5969, 'theory': 5985, 'nonchalantly': 4054, 'miles': 3761, 'wounds': 6684, 'lone': 3499, 'engraved': 1934, 'musta': 3931, 'bleeding': 646, 'sips': 5323, 'lady-free': 3315, 'cents': 1003, 'high-definition': 2782, 'has': 2691, 'lame': 3320, 'achebe': 108, 'artie': 353, 'insured': 3043, 'dipping': 1635, 'abolish': 86, 'ring': 4904, 'inserted': 3025, 'predecessor': 4533, 'investor': 3065, 'road': 4917, 'german': 2437, 'fools': 2262, 'she': 5210, 'tiger': 6058, 'shells': 5220, 'cruise': 1419, 'mine': 3775, 'safety': 5008, 'rub-a-dub': 4960, 'tablecloth': 5854, 'scared': 5065, 'backwards': 443, 'denser': 1564, \"there's\": 5989, 'offensive': 4127, 'director:': 1639, 'beef': 551, 'population': 4501, 'published': 4631, 'showered': 5260, 'weather': 6485, \"yieldin'\": 6743, 'rasputin': 4737, 'lachrymose': 3309, 'ollie': 4151, 'mike_mills:': 3759, 'degradation': 1539, 'sweater': 5817, 'increased': 2985, \"makin'\": 3610, 'son': 5492, \"tap-pullin'\": 5880, 'above': 88, 'remember': 4827, 'time': 6063, 'yards': 6720, 'accent': 97, 'pian-ee': 4376, 'vestigial': 6359, 'argue': 336, 'picked': 4379, 'college': 1210, 'immiggants': 2965, 'skeptical': 5346, 'delighted': 1550, 'muhammad': 3904, 'blokes': 660, 'bit': 630, 'greetings': 2557, 'wenceslas': 6502, 'fun': 2365, 'affects': 153, \"showin'\": 5261, 'stories': 5701, 'installed': 3035, '7g': 49, 'helpless': 2757, 'history': 2800, 'skoal': 5356, 'part-time': 4276, 'soul': 5504, \"meanin'\": 3696, 'separator': 5164, 'hostile': 2874, 'eyesore': 2047, 'telemarketing': 5920, \"s'cuse\": 4991, 'imitating': 2964, 'ohmygod': 4140, 'bloodball': 663, 'started': 5623, 'hey': 2773, 'deep': 1531, 'fuzzlepitch': 2382, \"'evening\": 11, 'fixed': 2200, 'actors': 119, 'muscle': 3920, 'blow': 667, 'villanova': 6371, 'kemi': 3218, 'city': 1133, 'fired': 2184, 'pas': 4282, 'hoagie': 2814, 'products': 4596, 'poet': 4462, 'pulled': 4642, 'lessons': 3398, 'democrats': 1560, 'tape': 5881, \"tramp's\": 6150, 'ralph_wiggum:': 4727, 'distance': 1671, 'detective_homer_simpson:': 1593, 'cadillac': 896, 'how': 2890, 'vehicle': 6348, 'various': 6346, 'pretends': 4560, 'allowed': 225, 'greatly': 2555, 'dee-fense': 1530, 'tasimeter': 5887, 'williams': 6588, 'chunk': 1123, 'smoke': 5409, 'man_at_bar:': 3626, 'whatchamacallit': 6525, 'retired': 4875, \"ya'\": 6715, 'veteran': 6360, 'utensils': 6332, 'glyco-load': 2494, 'crinkly': 1402, 'hoping': 2861, 'scout': 5090, 'meant': 3702, 'sports_announcer:': 5569, 'strong': 5727, 'singers:': 5312, 'challenge': 1016, 'elizabeth': 1898, 'distraught': 1675, 'turns': 6212, 'non-losers': 4052, 'roller': 4929, 'eightball': 1879, 'nbc': 3971, 'brainheaded': 750, 'schnapps': 5076, 'stalin': 5604, 'listen': 3461, 'harvesting': 2689, 'afford': 154, 'moe-near-now': 3831, 'finish': 2177, 'manipulation': 3637, 'nigerian': 4028, 'snake': 5422, 'image': 2961, 'recorded': 4783, 'model': 3820, 'sing': 5309, 'swine': 5833, 'drift': 1758, 'sketching': 5348, 'give': 2474, 'flips': 2225, 'conversations': 1310, 'stuff': 5735, 'emergency': 1907, 'thousand-year': 6033, 'restroom': 4871, 'syndicate': 5844, 'moe_recording:': 3833, 'in-in-in': 2977, 'twentieth': 6225, 'charity': 1039, 'sweaty': 5818, 'load': 3481, 'tick': 6051, 'el': 1888, 'kid': 3235, 'once': 4157, 'churchy': 1127, 'help': 2753, 'dies': 1614, 'strawberry': 5714, 'tells': 5926, 'balls': 463, 'raccoons': 4696, 'idealistic': 2948, 'supermodel': 5784, 'delivery': 1553, 'sponge': 5561, 'jobs': 3157, 'rough': 4949, 'shout': 5253, 'nitwit': 4040, 'lenny:': 3389, 'changed': 1025, 'star': 5615, 'hundred': 2909, \"cheerin'\": 1062, 'arm-pittish': 343, 'stooges': 5691, 'hobo': 2816, 'u': 6244, \"other's\": 4196, 'taps': 5885, 'tons': 6107, 'boxing_announcer:': 738, 'event': 1976, 'forget': 2276, 'proud': 4622, 'professor': 4598, 'old': 4146, 'fighting': 2153, 'absorbent': 93, 'yours': 6761, 'hoax': 2815, 'congratulations': 1281, 'slobs': 5381, 'kent': 3223, 'gold': 2504, 'turkey': 6207, 'check': 1056, 'shark': 5207, 'compadre': 1241, 'trustworthy': 6195, 'possessions': 4508, 'stirrers': 5681, 'freaking': 2317, 'hampstead-on-cecil-cecil': 2645, \"sayin'\": 5058, 'fumigated': 2364, 'vincent': 6373, 'needs': 3986, 'assistant': 372, 'nemo': 3999, 'ribbon': 4886, 'bunch': 843, 'sideshow': 5286, 'rash': 4736, 'fonzie': 2257, 'fly': 2239, 'no': 4042, 'charges': 1038, 'entertainer': 1945, 'dishrag': 1663, 'alter': 237, 'starla:': 5619, 'hank_williams_jr': 2665, 'items': 3097, 'unkempt': 6298, 'life-threatening': 3420, 'rugged': 4967, 'declan_desmond:': 1527, 'hm': 2806, 'way:': 6464, 'hammock': 2643, 'save': 5051, 'misconstrue': 3790, 'young': 6754, 'scully': 5104, 'gossipy': 2521, 'powered': 4520, 'ford': 2272, 'uh': 6251, 'junkyard': 3195, 'industry': 2999, 'donate': 1708, 'scrutinizing': 5103, 'color': 1214, 'laid': 3318, 'sampler': 5026, 'chained': 1013, 'hollowed-out': 2826, 'rid': 4893, 'the': 5973, 'smitty:': 5408, 'temples': 5930, 'dennis_conroy:': 1562, 'eager': 1826, 'butt': 872, 'binoculars': 625, 'try': 6197, 'muslim': 3927, 'puzzle': 4668, 'politics': 4486, 'calls': 910, 'hoped': 2859, 'religion': 4819, 'loafers': 3483, 'direction': 1636, \"don't\": 1706, 'denver': 1566, 'box': 731, 'legs': 3380, 'jams': 3121, \"show's\": 5256, 'miss_lois_pennycandy:': 3794, 'view': 6368, 'sissy': 5325, 'regulations': 4807, 'accelerating': 96, 'cheering': 1063, 'rumor': 4976, 'tenor:': 5935, 'press': 4552}\n"
     ]
    }
   ],
   "source": [
    "# debug helper \n",
    "text = helper.load_data(data_dir)\n",
    "\n",
    "# Ignore notice, since we don't use it for analysing the data\n",
    "text = text[81:]\n",
    "\n",
    "token_dict = token_lookup()\n",
    "for key, token in token_dict.items():\n",
    "    text = text.replace(key, ' {} '.format(token))\n",
    "\n",
    "text = text.lower()\n",
    "text = text.split()\n",
    "\n",
    "vocab_to_int, int_to_vocab = create_lookup_tables(text)\n",
    "\n",
    "print(vocab_to_int)"
   ]
  },
  {
   "cell_type": "code",
   "execution_count": 8,
   "metadata": {
    "collapsed": false
   },
   "outputs": [],
   "source": [
    "import pickle\n",
    "int_text = [vocab_to_int[word] for word in text]\n",
    "pickle.dump((int_text, vocab_to_int, int_to_vocab, token_dict), open('preprocess.p', 'wb'))"
   ]
  },
  {
   "cell_type": "code",
   "execution_count": 9,
   "metadata": {
    "collapsed": false,
    "deletable": true,
    "editable": true
   },
   "outputs": [],
   "source": [
    "\"\"\"\n",
    "DON'T MODIFY ANYTHING IN THIS CELL\n",
    "\"\"\"\n",
    "# Preprocess Training, Validation, and Testing Data\n",
    "helper.preprocess_and_save_data(data_dir, token_lookup, create_lookup_tables)"
   ]
  },
  {
   "cell_type": "markdown",
   "metadata": {
    "deletable": true,
    "editable": true
   },
   "source": [
    "# Check Point\n",
    "This is your first checkpoint. If you ever decide to come back to this notebook or have to restart the notebook, you can start from here. The preprocessed data has been saved to disk."
   ]
  },
  {
   "cell_type": "code",
   "execution_count": 10,
   "metadata": {
    "collapsed": false,
    "deletable": true,
    "editable": true
   },
   "outputs": [],
   "source": [
    "\"\"\"\n",
    "DON'T MODIFY ANYTHING IN THIS CELL\n",
    "\"\"\"\n",
    "import helper\n",
    "import numpy as np\n",
    "import problem_unittests as tests\n",
    "\n",
    "int_text, vocab_to_int, int_to_vocab, token_dict = helper.load_preprocess()"
   ]
  },
  {
   "cell_type": "markdown",
   "metadata": {
    "deletable": true,
    "editable": true
   },
   "source": [
    "## Build the Neural Network\n",
    "You'll build the components necessary to build a RNN by implementing the following functions below:\n",
    "- get_inputs\n",
    "- get_init_cell\n",
    "- get_embed\n",
    "- build_rnn\n",
    "- build_nn\n",
    "- get_batches\n",
    "\n",
    "### Check the Version of TensorFlow and Access to GPU"
   ]
  },
  {
   "cell_type": "code",
   "execution_count": 11,
   "metadata": {
    "collapsed": false
   },
   "outputs": [
    {
     "name": "stdout",
     "output_type": "stream",
     "text": [
      "TensorFlow Version: 1.0.0\n"
     ]
    },
    {
     "name": "stderr",
     "output_type": "stream",
     "text": [
      "C:\\Users\\Andreas\\AppData\\Local\\conda\\conda\\envs\\dl\\lib\\site-packages\\ipykernel\\__main__.py:14: UserWarning: No GPU found. Please use a GPU to train your neural network.\n"
     ]
    }
   ],
   "source": [
    "\"\"\"\n",
    "DON'T MODIFY ANYTHING IN THIS CELL\n",
    "\"\"\"\n",
    "from distutils.version import LooseVersion\n",
    "import warnings\n",
    "import tensorflow as tf\n",
    "\n",
    "# Check TensorFlow Version\n",
    "assert LooseVersion(tf.__version__) >= LooseVersion('1.0'), 'Please use TensorFlow version 1.0 or newer'\n",
    "print('TensorFlow Version: {}'.format(tf.__version__))\n",
    "\n",
    "# Check for a GPU\n",
    "if not tf.test.gpu_device_name():\n",
    "    warnings.warn('No GPU found. Please use a GPU to train your neural network.')\n",
    "else:\n",
    "    print('Default GPU Device: {}'.format(tf.test.gpu_device_name()))"
   ]
  },
  {
   "cell_type": "markdown",
   "metadata": {},
   "source": [
    "### Input\n",
    "Implement the `get_inputs()` function to create TF Placeholders for the Neural Network.  It should create the following placeholders:\n",
    "- Input text placeholder named \"input\" using the [TF Placeholder](https://www.tensorflow.org/api_docs/python/tf/placeholder) `name` parameter.\n",
    "- Targets placeholder\n",
    "- Learning Rate placeholder\n",
    "\n",
    "Return the placeholders in the following the tuple `(Input, Targets, LearingRate)`"
   ]
  },
  {
   "cell_type": "code",
   "execution_count": 12,
   "metadata": {
    "collapsed": false
   },
   "outputs": [],
   "source": [
    "def get_inputs():\n",
    "    \"\"\"\n",
    "    Create TF Placeholders for input, targets, and learning rate.\n",
    "    :return: Tuple (inputs, targets, learning rate)\n",
    "    \"\"\"    \n",
    "    inputs = tf.placeholder(tf.int32, [None, None], name='input')\n",
    "    targets = tf.placeholder(tf.int32, [None, None], name='label')\n",
    "    learning_rate = tf.placeholder(tf.float32, name='keep_prob')\n",
    "\n",
    "    return inputs, targets, learning_rate\n",
    "\n",
    "#input_data, targets, lr = get_inputs()\n",
    "#print((input_data.__doc__))"
   ]
  },
  {
   "cell_type": "code",
   "execution_count": 13,
   "metadata": {
    "collapsed": false,
    "deletable": true,
    "editable": true
   },
   "outputs": [
    {
     "name": "stdout",
     "output_type": "stream",
     "text": [
      "Tests Passed\n"
     ]
    }
   ],
   "source": [
    "\"\"\"\n",
    "DON'T MODIFY ANYTHING IN THIS CELL THAT IS BELOW THIS LINE\n",
    "\"\"\"\n",
    "tests.test_get_inputs(get_inputs)"
   ]
  },
  {
   "cell_type": "markdown",
   "metadata": {
    "deletable": true,
    "editable": true
   },
   "source": [
    "### Build RNN Cell and Initialize\n",
    "Stack one or more [`BasicLSTMCells`](https://www.tensorflow.org/api_docs/python/tf/contrib/rnn/BasicLSTMCell) in a [`MultiRNNCell`](https://www.tensorflow.org/api_docs/python/tf/contrib/rnn/MultiRNNCell).\n",
    "- The Rnn size should be set using `rnn_size`\n",
    "- Initalize Cell State using the MultiRNNCell's [`zero_state()`](https://www.tensorflow.org/api_docs/python/tf/contrib/rnn/MultiRNNCell#zero_state) function\n",
    "    - Apply the name \"initial_state\" to the initial state using [`tf.identity()`](https://www.tensorflow.org/api_docs/python/tf/identity)\n",
    "\n",
    "Return the cell and initial state in the following tuple `(Cell, InitialState)`"
   ]
  },
  {
   "cell_type": "code",
   "execution_count": 14,
   "metadata": {
    "collapsed": false
   },
   "outputs": [],
   "source": [
    "lstm_layers = 4\n",
    "\n",
    "def get_init_cell(batch_size, rnn_size):\n",
    "    \"\"\"\n",
    "    Create an RNN Cell and initialize it.\n",
    "    :param batch_size: Size of batches\n",
    "    :param rnn_size: Size of RNNs\n",
    "    :return: Tuple (cell, initial_state)\n",
    "    \"\"\"\n",
    "    \n",
    "    # Your basic LSTM cell\n",
    "    lstm = tf.contrib.rnn.BasicLSTMCell(rnn_size)\n",
    "    \n",
    "    # Add dropout to the cell\n",
    "    #drop = tf.contrib.rnn.DropoutWrapper(lstm, output_keep_prob=keep_prob)\n",
    "    drop = lstm\n",
    "    \n",
    "    # Stack up multiple LSTM layers, for deep learning\n",
    "    cell = tf.contrib.rnn.MultiRNNCell([drop] * lstm_layers)\n",
    "    \n",
    "    # Getting an initial state of all zeros\n",
    "    initial_state = cell.zero_state(batch_size, tf.float32)\n",
    "    \n",
    "    initial_state = tf.identity(initial_state,'initial_state')\n",
    "    \n",
    "    return cell, initial_state\n",
    "\n"
   ]
  },
  {
   "cell_type": "code",
   "execution_count": 15,
   "metadata": {
    "collapsed": false,
    "deletable": true,
    "editable": true
   },
   "outputs": [
    {
     "name": "stdout",
     "output_type": "stream",
     "text": [
      "Tests Passed\n"
     ]
    }
   ],
   "source": [
    "\"\"\"\n",
    "DON'T MODIFY ANYTHING IN THIS CELL THAT IS BELOW THIS LINE\n",
    "\"\"\"\n",
    "tests.test_get_init_cell(get_init_cell)"
   ]
  },
  {
   "cell_type": "markdown",
   "metadata": {
    "deletable": true,
    "editable": true
   },
   "source": [
    "### Word Embedding\n",
    "Apply embedding to `input_data` using TensorFlow.  Return the embedded sequence."
   ]
  },
  {
   "cell_type": "code",
   "execution_count": 16,
   "metadata": {
    "collapsed": false
   },
   "outputs": [],
   "source": [
    "def get_embed(input_data, vocab_size, embed_dim):\n",
    "    \"\"\"\n",
    "    Create embedding for <input_data>.\n",
    "    :param input_data: TF placeholder for text input.\n",
    "    :param vocab_size: Number of words in vocabulary.\n",
    "    :param embed_dim: Number of embedding dimensions\n",
    "    :return: Embedded input.\n",
    "    \"\"\"\n",
    "    #print(input_data)\n",
    "    embedding = tf.Variable(tf.random_uniform((vocab_size, embed_dim), -1, 1),name='embedding_weights')\n",
    "    #print(embedding)\n",
    "    embed = tf.nn.embedding_lookup(embedding, input_data)  \n",
    "    #print(embed)\n",
    "\n",
    "    return embed\n"
   ]
  },
  {
   "cell_type": "code",
   "execution_count": 17,
   "metadata": {
    "collapsed": false,
    "deletable": true,
    "editable": true
   },
   "outputs": [
    {
     "name": "stdout",
     "output_type": "stream",
     "text": [
      "Tests Passed\n"
     ]
    }
   ],
   "source": [
    "\"\"\"\n",
    "DON'T MODIFY ANYTHING IN THIS CELL THAT IS BELOW THIS LINE\n",
    "\"\"\"\n",
    "tests.test_get_embed(get_embed)"
   ]
  },
  {
   "cell_type": "markdown",
   "metadata": {
    "deletable": true,
    "editable": true
   },
   "source": [
    "### Build RNN\n",
    "You created a RNN Cell in the `get_init_cell()` function.  Time to use the cell to create a RNN.\n",
    "- Build the RNN using the [`tf.nn.dynamic_rnn()`](https://www.tensorflow.org/api_docs/python/tf/nn/dynamic_rnn)\n",
    " - Apply the name \"final_state\" to the final state using [`tf.identity()`](https://www.tensorflow.org/api_docs/python/tf/identity)\n",
    "\n",
    "Return the outputs and final_state state in the following tuple `(Outputs, FinalState)` "
   ]
  },
  {
   "cell_type": "code",
   "execution_count": 18,
   "metadata": {
    "collapsed": false,
    "deletable": true,
    "editable": true
   },
   "outputs": [
    {
     "name": "stdout",
     "output_type": "stream",
     "text": [
      "Tests Passed\n"
     ]
    }
   ],
   "source": [
    "def build_rnn(cell, inputs):\n",
    "    \"\"\"\n",
    "    Create a RNN using a RNN Cell\n",
    "    :param cell: RNN Cell\n",
    "    :param inputs: Input text data\n",
    "    :return: Tuple (Outputs, Final State)\n",
    "    \"\"\"\n",
    "    #print(inputs)\n",
    "    \n",
    "    outputs, final_state = tf.nn.dynamic_rnn(cell, inputs,\n",
    "                                             dtype = tf.float32\n",
    "                                             #initial_state=initial_state\n",
    "                                            )\n",
    "    \n",
    "    final_state = tf.identity(final_state,'final_state')\n",
    "    #print(final_state)\n",
    "    #print(outputs)\n",
    "    return outputs, final_state\n",
    "\n",
    "\n",
    "\"\"\"\n",
    "DON'T MODIFY ANYTHING IN THIS CELL THAT IS BELOW THIS LINE\n",
    "\"\"\"\n",
    "tests.test_build_rnn(build_rnn)"
   ]
  },
  {
   "cell_type": "markdown",
   "metadata": {
    "deletable": true,
    "editable": true
   },
   "source": [
    "### Build the Neural Network\n",
    "Apply the functions you implemented above to:\n",
    "- Apply embedding to `input_data` using your `get_embed(input_data, vocab_size, embed_dim)` function.\n",
    "- Build RNN using `cell` and your `build_rnn(cell, inputs)` function.\n",
    "- Apply a fully connected layer with a linear activation and `vocab_size` as the number of outputs.\n",
    "\n",
    "Return the logits and final state in the following tuple (Logits, FinalState) "
   ]
  },
  {
   "cell_type": "code",
   "execution_count": 19,
   "metadata": {
    "collapsed": false,
    "deletable": true,
    "editable": true
   },
   "outputs": [
    {
     "name": "stdout",
     "output_type": "stream",
     "text": [
      "Tests Passed\n"
     ]
    }
   ],
   "source": [
    "def build_nn(cell, rnn_size, input_data, vocab_size):\n",
    "    \"\"\"\n",
    "    Build part of the neural network\n",
    "    :param cell: RNN cell\n",
    "    :param rnn_size: Size of rnns\n",
    "    :param input_data: Input data\n",
    "    :param vocab_size: Vocabulary size\n",
    "    :return: Tuple (Logits, FinalState)\n",
    "    \"\"\"\n",
    "    \n",
    "    embed = get_embed(input_data, vocab_size, rnn_size)\n",
    "    outputs, final_state = build_rnn(cell, embed)\n",
    "\n",
    "    logits = tf.contrib.layers.fully_connected(\n",
    "        outputs, \n",
    "        num_outputs=vocab_size,\n",
    "        weights_initializer=tf.truncated_normal_initializer(stddev=0.01)\n",
    "        )\n",
    "\n",
    "    return logits, final_state\n",
    "\n",
    "\n",
    "\"\"\"\n",
    "DON'T MODIFY ANYTHING IN THIS CELL THAT IS BELOW THIS LINE\n",
    "\"\"\"\n",
    "tests.test_build_nn(build_nn)"
   ]
  },
  {
   "cell_type": "markdown",
   "metadata": {
    "deletable": true,
    "editable": true
   },
   "source": [
    "### Batches\n",
    "Implement `get_batches` to create batches of input and targets using `int_text`.  The batches should be a Numpy array with the shape `(number of batches, 2, batch size, sequence length)`. Each batch contains two elements:\n",
    "- The first element is a single batch of **input** with the shape `[batch size, sequence length]`\n",
    "- The second element is a single batch of **targets** with the shape `[batch size, sequence length]`\n",
    "\n",
    "If you can't fill the last batch with enough data, drop the last batch.\n",
    "\n",
    "For exmple, `get_batches([1, 2, 3, 4, 5, 6, 7, 8, 9, 10, 11, 12, 13, 14, 15], 2, 3)` would return a Numpy array of the following:\n",
    "```\n",
    "[\n",
    "  # First Batch\n",
    "  [\n",
    "    # Batch of Input\n",
    "    [[ 1  2  3], [ 7  8  9]],\n",
    "    # Batch of targets\n",
    "    [[ 2  3  4], [ 8  9 10]]\n",
    "  ],\n",
    " \n",
    "  # Second Batch\n",
    "  [\n",
    "    # Batch of Input\n",
    "    [[ 4  5  6], [10 11 12]],\n",
    "    # Batch of targets\n",
    "    [[ 5  6  7], [11 12 13]]\n",
    "  ]\n",
    "]\n",
    "```"
   ]
  },
  {
   "cell_type": "code",
   "execution_count": 20,
   "metadata": {
    "collapsed": false,
    "deletable": true,
    "editable": true
   },
   "outputs": [
    {
     "name": "stdout",
     "output_type": "stream",
     "text": [
      "Tests Passed\n"
     ]
    }
   ],
   "source": [
    "import random\n",
    "\n",
    "batch_distance_override = None\n",
    "\n",
    "def get_batches(int_text, batch_size, seq_length, batch_distance = None):\n",
    "    \"\"\"\n",
    "    Return batches of input and target\n",
    "    :param int_text: Text with the words replaced by their ids\n",
    "    :param batch_size: The size of batch\n",
    "    :param seq_length: The length of sequence\n",
    "    :return: Batches as a Numpy array\n",
    "    \"\"\"\n",
    "    x = int_text[:-1]\n",
    "    y = int_text[1:]\n",
    "    \n",
    "    #print('{} : {}'.format('seq_length',seq_length))\n",
    "    single_batch_len = len(x)-seq_length\n",
    "    #print('{} : {}'.format('single_batch_len',single_batch_len))\n",
    "    single_batch = np.empty([2,single_batch_len,seq_length])\n",
    "    \n",
    "    single_batch_range = list(range(single_batch_len))\n",
    "    \n",
    "    random.shuffle(single_batch_range)\n",
    "    #print(batch_range)\n",
    "    \n",
    "    ii2 = 0\n",
    "    for ii in single_batch_range:\n",
    "        single_batch [0,ii2] = x[ii:ii+seq_length]\n",
    "        single_batch [1,ii2] = y[ii:ii+seq_length]\n",
    "        ii2 += 1\n",
    "    \n",
    "    \n",
    "    #################################################################################################################\n",
    "    #\n",
    "    #\n",
    "    #  Question 1: why are the labels same length sequences of words not just the one word ?\n",
    "    #\n",
    "    #  Question 2: would it be better to set batch_distance to a smaller value ?\n",
    "    #\n",
    "    #\n",
    "    #################################################################################################################\n",
    "\n",
    "    if batch_distance == None:\n",
    "        batch_distance = seq_length # would be 1 better?\n",
    "        \n",
    "    if batch_distance_override != None:\n",
    "        batch_distance = batch_distance_override\n",
    "        \n",
    "    n_batches = single_batch_len//batch_size//batch_distance\n",
    "    result = np.empty([n_batches,2,batch_size,seq_length])\n",
    "\n",
    "    #print('{} : {}'.format('batch_size',batch_size))\n",
    "    #print('{} : {}'.format('n_batches',n_batches))\n",
    "    \n",
    "    batch_range = (list(range(n_batches)))\n",
    "    \n",
    "    for ii in range(n_batches): #range(0, len(x), batch_size):\n",
    "        iii = ii * batch_size * batch_distance\n",
    "        result[ii] = single_batch[:,iii:iii+batch_size]\n",
    "\n",
    "    return result\n",
    "\n",
    "\n",
    "\"\"\"\n",
    "DON'T MODIFY ANYTHING IN THIS CELL THAT IS BELOW THIS LINE\n",
    "\"\"\"\n",
    "tests.test_get_batches(get_batches)"
   ]
  },
  {
   "cell_type": "markdown",
   "metadata": {
    "deletable": true,
    "editable": true
   },
   "source": [
    "## Neural Network Training\n",
    "### Hyperparameters\n",
    "Tune the following parameters:\n",
    "\n",
    "- Set `num_epochs` to the number of epochs.\n",
    "- Set `batch_size` to the batch size.\n",
    "- Set `rnn_size` to the size of the RNNs.\n",
    "- Set `seq_length` to the length of sequence.\n",
    "- Set `learning_rate` to the learning rate.\n",
    "- Set `show_every_n_batches` to the number of batches the neural network should print progress."
   ]
  },
  {
   "cell_type": "code",
   "execution_count": 21,
   "metadata": {
    "collapsed": true
   },
   "outputs": [],
   "source": [
    "###### Number of Epochs\n",
    "num_epochs = 1 # 200\n",
    "# Batch Size\n",
    "batch_size = 127*2**2 # Primfaktoren von 69088: 2, 2, 2, 2, 2, 17, 127\n",
    "# RNN Size\n",
    "rnn_size = 256\n",
    "# Sequence Length\n",
    "seq_length = 12\n",
    "# Learning Rate\n",
    "learning_rate = 0.001\n",
    "# Show stats for every n number of batches\n",
    "show_every_n_batches = 130\n",
    "# override batch_distance\n",
    "batch_distance_override =  seq_length\n",
    "\n",
    "\n",
    "\"\"\"\n",
    "DON'T MODIFY ANYTHING IN THIS CELL THAT IS BELOW THIS LINE\n",
    "\"\"\"\n",
    "save_dir = './save'"
   ]
  },
  {
   "cell_type": "markdown",
   "metadata": {
    "deletable": true,
    "editable": true
   },
   "source": [
    "### Build the Graph\n",
    "Build the graph using the neural network you implemented."
   ]
  },
  {
   "cell_type": "code",
   "execution_count": 22,
   "metadata": {
    "collapsed": false,
    "deletable": true,
    "editable": true
   },
   "outputs": [],
   "source": [
    "\"\"\"\n",
    "DON'T MODIFY ANYTHING IN THIS CELL\n",
    "\"\"\"\n",
    "from tensorflow.contrib import seq2seq\n",
    "\n",
    "train_graph = tf.Graph()\n",
    "with train_graph.as_default():\n",
    "    vocab_size = len(int_to_vocab)\n",
    "    input_text, targets, lr = get_inputs()\n",
    "    input_data_shape = tf.shape(input_text)\n",
    "    cell, initial_state = get_init_cell(input_data_shape[0], rnn_size)\n",
    "    logits, final_state = build_nn(cell, rnn_size, input_text, vocab_size)\n",
    "\n",
    "    # Probabilities for generating words\n",
    "    probs = tf.nn.softmax(logits, name='probs')\n",
    "\n",
    "    # Loss function\n",
    "    cost = seq2seq.sequence_loss(\n",
    "        logits,\n",
    "        targets,\n",
    "        tf.ones([input_data_shape[0], input_data_shape[1]]))\n",
    "\n",
    "    # Optimizer\n",
    "    optimizer = tf.train.AdamOptimizer(lr)\n",
    "\n",
    "    # Gradient Clipping\n",
    "    gradients = optimizer.compute_gradients(cost)\n",
    "    capped_gradients = [(tf.clip_by_value(grad, -1., 1.), var) for grad, var in gradients]\n",
    "    train_op = optimizer.apply_gradients(capped_gradients)"
   ]
  },
  {
   "cell_type": "markdown",
   "metadata": {
    "deletable": true,
    "editable": true
   },
   "source": [
    "## Train\n",
    "Train the neural network on the preprocessed data.  If you have a hard time getting a good loss, check the [forms](https://discussions.udacity.com/) to see if anyone is having the same problem."
   ]
  },
  {
   "cell_type": "code",
   "execution_count": null,
   "metadata": {
    "collapsed": false,
    "deletable": true,
    "editable": true
   },
   "outputs": [],
   "source": [
    "\"\"\"\n",
    "DON'T MODIFY ANYTHING IN THIS CELL\n",
    "\"\" \"\n",
    "\n",
    "batches = get_batches(int_text, batch_size, seq_length)\n",
    "\n",
    "with tf.Session(graph=train_graph) as sess:\n",
    "    sess.run(tf.global_variables_initializer())\n",
    "\n",
    "    for epoch_i in range(num_epochs):\n",
    "        state = sess.run(initial_state, {input_text: batches[0][0]})\n",
    "\n",
    "        for batch_i, (x, y) in enumerate(batches):\n",
    "            feed = {\n",
    "                input_text: x,\n",
    "                targets: y,\n",
    "                initial_state: state,\n",
    "                lr: learning_rate}\n",
    "            train_loss, state, _ = sess.run([cost, final_state, train_op], feed)\n",
    "\n",
    "            # Show every <show_every_n_batches> batches\n",
    "            if (epoch_i * len(batches) + batch_i) % show_every_n_batches == 0:\n",
    "                print('Epoch {:>3} Batch {:>4}/{}   train_loss = {:.3f}'.format(\n",
    "                    epoch_i,\n",
    "                    batch_i,\n",
    "                    len(batches),\n",
    "                    train_loss))\n",
    "\n",
    "    # Save Model\n",
    "    saver = tf.train.Saver()\n",
    "    saver.save(sess, save_dir)\n",
    "    print('Model Trained and Saved')\n",
    "        \n",
    "\"\"\";"
   ]
  },
  {
   "cell_type": "code",
   "execution_count": null,
   "metadata": {
    "collapsed": false
   },
   "outputs": [
    {
     "name": "stdout",
     "output_type": "stream",
     "text": [
      "Initialised Model...\n",
      "Epoch   0 Batch    0/11   train_loss = 8.822\n",
      "Epoch   0 Batch    1/11   train_loss = 8.820\n",
      "Epoch   0 Batch    2/11   train_loss = 8.818\n",
      "Epoch   0 Batch    3/11   train_loss = 8.810\n",
      "Epoch   0 Batch    4/11   train_loss = 8.791\n",
      "Epoch   0 Batch    5/11   train_loss = 8.745\n",
      "Epoch   0 Batch    6/11   train_loss = 8.659\n",
      "Epoch   0 Batch    7/11   train_loss = 8.533\n",
      "Epoch   0 Batch    8/11   train_loss = 8.385\n"
     ]
    }
   ],
   "source": [
    "# added cyclic save and restore to interrupt training\n",
    "\n",
    "# moved (rerandomised) batch generation in epoch loop\n",
    " \n",
    "import matplotlib.pyplot as plt\n",
    "import time\n",
    "\n",
    "#batches = get_batches(int_text, batch_size, seq_length)\n",
    "\n",
    "with tf.Session(graph=train_graph) as sess:\n",
    "    \n",
    "    try:\n",
    "        saver.restore(sess, save_dir)\n",
    "        print('Model Restored :)')\n",
    "        with open('train_loss_history.p','rb') as file:\n",
    "            train_loss_history = pickle.load(file)\n",
    "        print('Loss_history Restored :)')\n",
    "    except:\n",
    "        train_loss_history = []\n",
    "        sess.run(tf.global_variables_initializer())\n",
    "        print('Initialised Model...')\n",
    "\n",
    "    for epoch_i in range(num_epochs):\n",
    "        \n",
    "        # rerandomise batches\n",
    "        batches = get_batches(int_text, batch_size, seq_length)\n",
    "\n",
    "        state = sess.run(initial_state, {input_text: batches[0][0]})\n",
    "    \n",
    "        start = time.time()\n",
    "        for batch_i, (x, y) in enumerate(batches):\n",
    "            feed = {\n",
    "                input_text: x,\n",
    "                targets: y,\n",
    "                initial_state: state,\n",
    "                lr: learning_rate}\n",
    "            train_loss, state, _ = sess.run([cost, final_state, train_op], feed)\n",
    "            \n",
    "            train_loss_history += [train_loss]\n",
    "\n",
    "            # Show every <show_every_n_batches> batches\n",
    "            if (epoch_i * len(batches) + batch_i) % show_every_n_batches == 0:\n",
    "                print('Epoch {:>3} Batch {:>4}/{}   train_loss = {:.3f}'.format(\n",
    "                    epoch_i,\n",
    "                    batch_i,\n",
    "                    len(batches),\n",
    "                    train_loss))\n",
    "                \n",
    "                \n",
    "    #print('computation time : {}'.format(time.time() - start))\n",
    "\n",
    "    # Save Model\n",
    "    saver = tf.train.Saver()\n",
    "    saver.save(sess, save_dir)\n",
    "    pickle.dump((train_loss_history), open('train_loss_history.p', 'wb'))\n",
    "    print('Model Trained and Saved')\n",
    "    plt.plot(train_loss_history)\n",
    "    plt.show()"
   ]
  },
  {
   "cell_type": "markdown",
   "metadata": {
    "deletable": true,
    "editable": true
   },
   "source": [
    "## Save Parameters\n",
    "Save `seq_length` and `save_dir` for generating a new TV script."
   ]
  },
  {
   "cell_type": "code",
   "execution_count": null,
   "metadata": {
    "collapsed": false,
    "deletable": true,
    "editable": true
   },
   "outputs": [],
   "source": [
    "\"\"\"\n",
    "DON'T MODIFY ANYTHING IN THIS CELL\n",
    "\"\"\"\n",
    "# Save parameters for checkpoint\n",
    "helper.save_params((seq_length, save_dir))"
   ]
  },
  {
   "cell_type": "markdown",
   "metadata": {
    "deletable": true,
    "editable": true
   },
   "source": [
    "# Checkpoint"
   ]
  },
  {
   "cell_type": "code",
   "execution_count": null,
   "metadata": {
    "collapsed": false,
    "deletable": true,
    "editable": true
   },
   "outputs": [],
   "source": [
    "\"\"\"\n",
    "DON'T MODIFY ANYTHING IN THIS CELL\n",
    "\"\"\"\n",
    "import tensorflow as tf\n",
    "import numpy as np\n",
    "import helper\n",
    "import problem_unittests as tests\n",
    "\n",
    "_, vocab_to_int, int_to_vocab, token_dict = helper.load_preprocess()\n",
    "seq_length, load_dir = helper.load_params()"
   ]
  },
  {
   "cell_type": "markdown",
   "metadata": {
    "deletable": true,
    "editable": true
   },
   "source": [
    "## Implement Generate Functions\n",
    "### Get Tensors\n",
    "Get tensors from `loaded_graph` using the function [`get_tensor_by_name()`](https://www.tensorflow.org/api_docs/python/tf/Graph#get_tensor_by_name).  Get the tensors using the following names:\n",
    "- \"input:0\"\n",
    "- \"initial_state:0\"\n",
    "- \"final_state:0\"\n",
    "- \"probs:0\"\n",
    "\n",
    "Return the tensors in the following tuple `(InputTensor, InitialStateTensor, FinalStateTensor, ProbsTensor)` "
   ]
  },
  {
   "cell_type": "code",
   "execution_count": null,
   "metadata": {
    "collapsed": false,
    "deletable": true,
    "editable": true
   },
   "outputs": [],
   "source": [
    "def get_tensors(loaded_graph):\n",
    "    \"\"\"\n",
    "    Get input, initial state, final state, and probabilities tensor from <loaded_graph>\n",
    "    :param loaded_graph: TensorFlow graph loaded from file\n",
    "    :return: Tuple (InputTensor, InitialStateTensor, FinalStateTensor, ProbsTensor)\n",
    "    \"\"\"\n",
    "    InputTensor        = loaded_graph.get_tensor_by_name(\"input:0\")\n",
    "    InitialStateTensor = loaded_graph.get_tensor_by_name(\"initial_state:0\")\n",
    "    FinalStateTensor   = loaded_graph.get_tensor_by_name(\"final_state:0\")\n",
    "    ProbsTensor        = loaded_graph.get_tensor_by_name(\"probs:0\")\n",
    "    return InputTensor, InitialStateTensor, FinalStateTensor, ProbsTensor\n",
    "\n",
    "\n",
    "\"\"\"\n",
    "DON'T MODIFY ANYTHING IN THIS CELL THAT IS BELOW THIS LINE\n",
    "\"\"\"\n",
    "tests.test_get_tensors(get_tensors)"
   ]
  },
  {
   "cell_type": "markdown",
   "metadata": {
    "deletable": true,
    "editable": true
   },
   "source": [
    "### Choose Word\n",
    "Implement the `pick_word()` function to select the next word using `probabilities`."
   ]
  },
  {
   "cell_type": "code",
   "execution_count": null,
   "metadata": {
    "collapsed": false,
    "deletable": true,
    "editable": true
   },
   "outputs": [],
   "source": [
    "def pick_word(probabilities, int_to_vocab):\n",
    "    \"\"\"\n",
    "    Pick the next word in the generated text\n",
    "    :param probabilities: Probabilites of the next word\n",
    "    :param int_to_vocab: Dictionary of word ids as the keys and words as the values\n",
    "    :return: String of the predicted word\n",
    "    \"\"\"\n",
    "    \n",
    "    p2 = sorted(list(zip(list(probabilities),range(len(probabilities)))))\n",
    "\n",
    "    # ideas : randomise by threshold, memorise last picks to control repetition, ad theme dict, alliteration\n",
    "\n",
    "    return int_to_vocab[p2[-1][-1]]\n",
    "\n",
    "\n",
    "\"\"\"\n",
    "DON'T MODIFY ANYTHING IN THIS CELL THAT IS BELOW THIS LINE\n",
    "\"\"\"\n",
    "tests.test_pick_word(pick_word)"
   ]
  },
  {
   "cell_type": "markdown",
   "metadata": {
    "deletable": true,
    "editable": true
   },
   "source": [
    "## Generate TV Script\n",
    "This will generate the TV script for you.  Set `gen_length` to the length of TV script you want to generate."
   ]
  },
  {
   "cell_type": "code",
   "execution_count": null,
   "metadata": {
    "collapsed": false,
    "deletable": true,
    "editable": true
   },
   "outputs": [],
   "source": [
    "gen_length = 200\n",
    "# homer_simpson, moe_szyslak, or Barney_Gumble\n",
    "prime_word = 'moe_szyslak'\n",
    "\n",
    "\"\"\"\n",
    "DON'T MODIFY ANYTHING IN THIS CELL THAT IS BELOW THIS LINE\n",
    "\"\"\"\n",
    "loaded_graph = tf.Graph()\n",
    "with tf.Session(graph=loaded_graph) as sess:\n",
    "    # Load saved model\n",
    "    loader = tf.train.import_meta_graph(load_dir + '.meta')\n",
    "    loader.restore(sess, load_dir)\n",
    "\n",
    "    # Get Tensors from loaded model\n",
    "    input_text, initial_state, final_state, probs = get_tensors(loaded_graph)\n",
    "\n",
    "    # Sentences generation setup\n",
    "    gen_sentences = [prime_word + ':']\n",
    "    prev_state = sess.run(initial_state, {input_text: np.array([[1]])})\n",
    "\n",
    "    # Generate sentences\n",
    "    for n in range(gen_length):\n",
    "        # Dynamic Input\n",
    "        dyn_input = [[vocab_to_int[word] for word in gen_sentences[-seq_length:]]]\n",
    "        dyn_seq_length = len(dyn_input[0])\n",
    "\n",
    "        # Get Prediction\n",
    "        probabilities, prev_state = sess.run(\n",
    "            [probs, final_state],\n",
    "            {input_text: dyn_input, initial_state: prev_state})\n",
    "        \n",
    "        pred_word = pick_word(probabilities[dyn_seq_length-1], int_to_vocab)\n",
    "\n",
    "        gen_sentences.append(pred_word)\n",
    "    \n",
    "    # Remove tokens\n",
    "    tv_script = ' '.join(gen_sentences)\n",
    "    for key, token in token_dict.items():\n",
    "        ending = ' ' if key in ['\\n', '(', '\"'] else ''\n",
    "        tv_script = tv_script.replace(' ' + token.lower(), key)\n",
    "    tv_script = tv_script.replace('\\n ', '\\n')\n",
    "    tv_script = tv_script.replace('( ', '(')\n",
    "        \n",
    "    print(tv_script)"
   ]
  },
  {
   "cell_type": "markdown",
   "metadata": {
    "deletable": true,
    "editable": true
   },
   "source": [
    "# The TV Script is Nonsensical\n",
    "It's ok if the TV script doesn't make any sense.  We trained on less than a megabyte of text.  In order to get good results, you'll have to use a smaller vocabulary or get more data.  Luckly there's more data!  As we mentioned in the begging of this project, this is a subset of [another dataset](https://www.kaggle.com/wcukierski/the-simpsons-by-the-data).  We didn't have you train on all the data, because that would take too long.  However, you are free to train your neural network on all the data.  After you complete the project, of course.\n",
    "# Submitting This Project\n",
    "When submitting this project, make sure to run all the cells before saving the notebook. Save the notebook file as \"dlnd_tv_script_generation.ipynb\" and save it as a HTML file under \"File\" -> \"Download as\". Include the \"helper.py\" and \"problem_unittests.py\" files in your submission."
   ]
  }
 ],
 "metadata": {
  "kernelspec": {
   "display_name": "Python 3",
   "language": "python",
   "name": "python3"
  },
  "language_info": {
   "codemirror_mode": {
    "name": "ipython",
    "version": 3
   },
   "file_extension": ".py",
   "mimetype": "text/x-python",
   "name": "python",
   "nbconvert_exporter": "python",
   "pygments_lexer": "ipython3",
   "version": "3.5.2"
  }
 },
 "nbformat": 4,
 "nbformat_minor": 0
}
